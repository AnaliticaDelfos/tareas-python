{
 "cells": [
  {
   "cell_type": "code",
   "execution_count": 1,
   "metadata": {},
   "outputs": [],
   "source": [
    "#\n",
    "#\n",
    "# EJECUTAR ESTA CELDA CADA VEZ QUE ENTRES A HACER LA TAREA\n",
    "#\n",
    "#\n",
    "\n",
    "#####################################\n",
    "# Iterables y ciclos\n",
    "#####################################\n",
    "\n",
    "\n",
    "import calificador\n",
    "from controlador import Controlador"
   ]
  },
  {
   "cell_type": "code",
   "execution_count": 4,
   "metadata": {},
   "outputs": [],
   "source": [
    "@Controlador(\"9\", \"ejercicio_81\")\n",
    "def ejercicio_81(lista):\n",
    "    \"\"\"\n",
    "    Instrucciones:\n",
    "        La función \"ejercicio_81\" toma como parámetro \n",
    "        \"lista\" y debe regresar la lista que se le \n",
    "        pase como parámetro con la extensión de la \n",
    "        siguiente lista: [100, 101]. Es\n",
    "        decir, a la lista original le añadimos esta\n",
    "        lista de dos elementos.\n",
    "\n",
    "    Condiciones: \n",
    "        El parámetro \"lista\" debe ser una lista con \n",
    "        3 elementos del tipo de dato de tu preferencia.\n",
    "\n",
    "        La lista final tendrá un total de 5 elementos.\n",
    "\n",
    "    Recuerda:\n",
    "        Revisa la función extend()\n",
    "        \n",
    "        Lo que la función \"regresa\" es justo lo que va después \n",
    "        de la palabra reservada \"return\".\n",
    "        \n",
    "        Cuida la indentación.\n",
    "    \"\"\"\n",
    "    \n",
    "    # Escribe aquí tu código ↓\n",
    "\n",
    "    \n",
    "    # Escribe aquí tu código ↑\n",
    "    \n",
    "    return # ← Escribe aquí tu código"
   ]
  },
  {
   "cell_type": "code",
   "execution_count": null,
   "metadata": {},
   "outputs": [],
   "source": [
    "calificador.califica_ejercicio_81(ejercicio_81)"
   ]
  },
  {
   "cell_type": "code",
   "execution_count": 6,
   "metadata": {},
   "outputs": [],
   "source": [
    "@Controlador(\"9\", \"ejercicio_82\")\n",
    "def ejercicio_82(diccionario):\n",
    "    \"\"\"\n",
    "    Instrucciones:\n",
    "        La función \"ejercicio_82\" toma como parámetro \n",
    "        \"diccionario\" y debe regresar una lista con los \n",
    "        valores que contenga \"diccionario\"\n",
    "\n",
    "    Condiciones: \n",
    "        El parámetro \"diccionario\" debe ser un diccionario con \n",
    "        los siguientes pares clave-valor:\n",
    "        'Ana': 23, 'Juan': 15, 'Martha': 33, 'Alicia': 21, 'Pedro': 38, 'Eric': 32, 'Elena': 89\n",
    "\n",
    "    Recuerda:\n",
    "        Revisa el método values()\n",
    "        \n",
    "        Lo que la función \"regresa\" es justo lo que va después \n",
    "        de la palabra reservada \"return\".\n",
    "        \n",
    "        Cuida la indentación.\n",
    "    \"\"\"\n",
    "    \n",
    "    # Escribe aquí tu código ↓\n",
    "\n",
    "    \n",
    "    # Escribe aquí tu código ↑\n",
    "    \n",
    "    return # ← Escribe aquí tu código"
   ]
  },
  {
   "cell_type": "code",
   "execution_count": null,
   "metadata": {},
   "outputs": [],
   "source": [
    "calificador.califica_ejercicio_82(ejercicio_82)"
   ]
  },
  {
   "cell_type": "code",
   "execution_count": null,
   "metadata": {},
   "outputs": [],
   "source": [
    "@Controlador(\"9\", \"ejercicio_83\")\n",
    "def ejercicio_83():\n",
    "    \"\"\"\n",
    "    Instrucciones:\n",
    "        La función \"ejercicio_83\" no toma nada\n",
    "        como parámetro y debe regresar una lista\n",
    "        que contenga los números pares que se \n",
    "        encuentren entre el 15 y el 40 incluyendo el\n",
    "        15 y el 40.\n",
    "\n",
    "    Recuerda:\n",
    "        Revisa los ciclos for y las listas por comprensión.\n",
    "        \n",
    "        Lo que la función \"regresa\" es justo lo que va después \n",
    "        de la palabra reservada \"return\".\n",
    "        \n",
    "        Cuida la indentación.\n",
    "    \"\"\"\n",
    "    \n",
    "    # Escribe aquí tu código ↓\n",
    "    \n",
    "    \n",
    "    # Escribe aquí tu código ↑\n",
    "    \n",
    "    return # ← Escribe aquí tu código"
   ]
  },
  {
   "cell_type": "code",
   "execution_count": null,
   "metadata": {},
   "outputs": [],
   "source": [
    "calificador.califica_ejercicio_83(ejercicio_83)"
   ]
  },
  {
   "cell_type": "code",
   "execution_count": 8,
   "metadata": {},
   "outputs": [],
   "source": [
    "@Controlador(\"9\", \"ejercicio_84\")\n",
    "def ejercicio_84(diccionario):\n",
    "    \"\"\"\n",
    "    Instrucciones:\n",
    "        La función \"ejercicio_84\" toma como parámetro \n",
    "        \"diccionario\" y debe regresar una lista con las\n",
    "        claves que contenga \"diccionario\"\n",
    "\n",
    "    Condiciones: \n",
    "        El parámetro \"diccionario\" debe ser un diccionario con \n",
    "        los siguientes pares clave-valor:\n",
    "        \"Marca\": \"Ford\", \"Modelo\": \"Sedan\", \"Año\": 2019\n",
    "\n",
    "    Recuerda:\n",
    "        Revisa el método keys()\n",
    "        \n",
    "        Lo que la función \"regresa\" es justo lo que va después \n",
    "        de la palabra reservada \"return\".\n",
    "        \n",
    "        Cuida la indentación.\n",
    "    \"\"\"\n",
    "    \n",
    "    # Escribe aquí tu código ↓\n",
    "    \n",
    "    \n",
    "    # Escribe aquí tu código ↑\n",
    "    \n",
    "    return # ← Escribe aquí tu código"
   ]
  },
  {
   "cell_type": "code",
   "execution_count": null,
   "metadata": {},
   "outputs": [],
   "source": [
    "calificador.califica_ejercicio_84(ejercicio_84)"
   ]
  },
  {
   "cell_type": "code",
   "execution_count": 6,
   "metadata": {},
   "outputs": [],
   "source": [
    "@Controlador(\"9\", \"ejercicio_85\")\n",
    "def ejercicio_85():\n",
    "    \"\"\"\n",
    "    Instrucciones:\n",
    "        La función \"ejercicio_85\" no toma ningún \n",
    "        parámetro y debe regresar una tupla con \n",
    "        los números del 15 al 47 (incluyendo el \n",
    "        15 y el 47).\n",
    "    \n",
    "    Condiciones:\n",
    "        Los elementos de la lista deben ser números\n",
    "        enteros (int).\n",
    "\n",
    "    Recuerda:\n",
    "        Lo que la función \"regresa\" es justo lo que va después \n",
    "        de la palabra reservada \"return\".\n",
    "        \n",
    "        Cuida la indentación.\n",
    "    \"\"\"\n",
    "    \n",
    "    # Escribe aquí tu código ↓\n",
    "\n",
    "    ko = tuple(numero for numero in range(15, 47))\n",
    "    # Escribe aquí tu código ↑\n",
    "    \n",
    "    return ko# ← Escribe aquí tu código"
   ]
  },
  {
   "cell_type": "code",
   "execution_count": 7,
   "metadata": {},
   "outputs": [
    {
     "name": "stdout",
     "output_type": "stream",
     "text": [
      "===============================================================================\n",
      "\n",
      "============> Calificando: tarea 9 - ejercicio ejercicio_85 <============\n",
      "\n",
      "===============================================================================\n",
      "\n",
      "\n",
      "======================================================\n",
      "            ||          Calificación: 0.0            \n",
      "            ||          Aciertos: 0                   \n",
      "            ||          Errores: 1                     \n",
      "======================================================\n",
      "    \n",
      "======> Casos existosos: <======\n",
      "\n",
      "\u001b[0;31m======> Casos con error <======\n",
      "\u001b[00m\n",
      "\u001b[0;34mValores de entrada: N/A.         \u001b[0;35mValor esperado: (15, 16, 17, 18, 19, 20, 21, 22, 23, 24, 25, 26, 27, 28, 29, 30, 31, 32, 33, 34, 35, 36, 37, 38, 39, 40, 41, 42, 43, 44, 45, 46, 47).         \u001b[0;36mValor obtenido: (15, 16, 17, 18, 19, 20, 21, 22, 23, 24, 25, 26, 27, 28, 29, 30, 31, 32, 33, 34, 35, 36, 37, 38, 39, 40, 41, 42, 43, 44, 45, 46)\n",
      "\n",
      "\u001b[0;32m============> Calificación recibida <============\n",
      "\n"
     ]
    }
   ],
   "source": [
    "calificador.califica_ejercicio_85(ejercicio_85)"
   ]
  },
  {
   "cell_type": "code",
   "execution_count": 12,
   "metadata": {},
   "outputs": [],
   "source": [
    "@Controlador(\"9\", \"ejercicio_86\")\n",
    "def ejercicio_86(tupla):\n",
    "    \"\"\"\n",
    "    Instrucciones:\n",
    "        La función \"ejercicio_86\" toma como parámetro \n",
    "        \"tupla\" y debe regresar una lista con los\n",
    "        elementos que contenga \"tupla\".\n",
    "\n",
    "    Condiciones: \n",
    "        El parámetro \"tupla\" debe ser una tupla con\n",
    "        tres elementos del tipo de dato que tu desees.\n",
    "\n",
    "    Recuerda:\n",
    "        Lo que la función \"regresa\" es justo lo que va después \n",
    "        de la palabra reservada \"return\".\n",
    "        \n",
    "        Cuida la indentación.\n",
    "    \"\"\"\n",
    "    \n",
    "    # Escribe aquí tu código ↓\n",
    "    \n",
    "    \n",
    "    # Escribe aquí tu código ↑\n",
    "    \n",
    "    return # ← Escribe aquí tu código"
   ]
  },
  {
   "cell_type": "code",
   "execution_count": null,
   "metadata": {},
   "outputs": [],
   "source": [
    "calificador.califica_ejercicio_86(ejercicio_86)"
   ]
  },
  {
   "cell_type": "code",
   "execution_count": 15,
   "metadata": {},
   "outputs": [],
   "source": [
    "@Controlador(\"9\", \"ejercicio_87\")\n",
    "def ejercicio_87(lista):\n",
    "    \"\"\"\n",
    "    Instrucciones:\n",
    "        La función \"ejercicio_87\" toma como parámetro \n",
    "        \"lista\" y debe regresar el elemento correspondiente\n",
    "        al número menor encontrado en \"lista\".\n",
    "\n",
    "    Condiciones: \n",
    "        El parámetro \"lista\" debe ser una lista con los\n",
    "        elementos: 2,2,98,5,8,55,5,41,35,2,88,6,6,21,1\n",
    "\n",
    "    Recuerda:\n",
    "        Revisa la función min()\n",
    "        \n",
    "        Lo que la función \"regresa\" es justo lo que va después \n",
    "        de la palabra reservada \"return\".\n",
    "        \n",
    "        Cuida la indentación.\n",
    "    \"\"\"\n",
    "    \n",
    "    # Escribe aquí tu código ↓\n",
    "    \n",
    "   \n",
    "    # Escribe aquí tu código ↑\n",
    "    \n",
    "    return # ← Escribe aquí tu código"
   ]
  },
  {
   "cell_type": "code",
   "execution_count": null,
   "metadata": {},
   "outputs": [],
   "source": [
    "calificador.califica_ejercicio_87(ejercicio_87)"
   ]
  },
  {
   "cell_type": "code",
   "execution_count": 17,
   "metadata": {},
   "outputs": [],
   "source": [
    "@Controlador(\"9\", \"ejercicio_88\")\n",
    "def ejercicio_88(lista):\n",
    "    \"\"\"\n",
    "    Instrucciones:\n",
    "        La función \"ejercicio_88\" toma como parámetro \n",
    "        \"lista\" y debe regresar una lista con las \n",
    "        palabras que tengan igual o más de 4 letras.\n",
    "\n",
    "    Condiciones: \n",
    "        El parámetro \"lista\" debe ser una lista con \n",
    "        los siguientes elementos:\n",
    "        \"Uva\", \"Hola\", \"Amarillo\", \"Rico\", \"Oso\" \n",
    "\n",
    "    Recuerda:\n",
    "        Lo que la función \"regresa\" es justo lo que va después \n",
    "        de la palabra reservada \"return\".\n",
    "        \n",
    "        Cuida la indentación.\n",
    "    \"\"\"\n",
    "    \n",
    "    # Escribe aquí tu código ↓\n",
    "    \n",
    "   \n",
    "    # Escribe aquí tu código ↑\n",
    "    \n",
    "    return # ← Escribe aquí tu código"
   ]
  },
  {
   "cell_type": "code",
   "execution_count": null,
   "metadata": {},
   "outputs": [],
   "source": [
    "calificador.califica_ejercicio_88(ejercicio_88)"
   ]
  },
  {
   "cell_type": "code",
   "execution_count": null,
   "metadata": {},
   "outputs": [],
   "source": [
    "@Controlador(\"9\", \"ejercicio_89\")\n",
    "def ejercicio_89(x):\n",
    "    \"\"\"\n",
    "    Instrucciones:\n",
    "        La función \"ejercicio_89\" toma como parámetro \n",
    "        \"x\" y debe regresar la suma de los números impares\n",
    "        desde cero hasta el número al que corresponde \"x\"\n",
    "        incluído ese número.\n",
    "\n",
    "    Condiciones: \n",
    "        El parámetro \"x\" debe ser un número entero (int)\n",
    "\n",
    "    Recuerda:\n",
    "        Lo que la función \"regresa\" es justo lo que va después \n",
    "        de la palabra reservada \"return\".\n",
    "        \n",
    "        Cuida la indentación.\n",
    "    \"\"\"\n",
    "    \n",
    "    # Escribe aquí tu código ↓\n",
    "    \n",
    "    \n",
    "    # Escribe aquí tu código ↑\n",
    "    \n",
    "    return # ← Escribe aquí tu código"
   ]
  },
  {
   "cell_type": "code",
   "execution_count": null,
   "metadata": {},
   "outputs": [],
   "source": [
    "calificador.califica_ejercicio_89(ejercicio_89)"
   ]
  },
  {
   "cell_type": "code",
   "execution_count": null,
   "metadata": {},
   "outputs": [],
   "source": [
    "@Controlador(\"9\", \"ejercicio_90\")\n",
    "def ejercicio_90(lista1, lista2):\n",
    "    \"\"\"\n",
    "    Instrucciones:\n",
    "        La función \"ejercicio_90\" toma como parametros \n",
    "        \"lista1\", \"lista2\" y, debe regresar un diccionario\n",
    "        donde \"lista1\" sean las claves y \"lista2\" sean los\n",
    "        valores de éste.\n",
    "\n",
    "    Condiciones: \n",
    "        El parámetro \"lista1\" debe contener los siguientes elementos:\n",
    "        \"Café\", \"Lleche\", \"Soda\", \"Agua\", \"Té\"\n",
    "        y \"lista2\" debe contener los siguientes elementos:\n",
    "        \"Taza\", \"Cartón\", \"Lata\", \"Botella\", \"Vaso\"\n",
    "\n",
    "    Recuerda:\n",
    "        Revisa la función zip()\n",
    "        \n",
    "        Lo que la función \"regresa\" es justo lo que va después \n",
    "        de la palabra reservada \"return\".\n",
    "        \n",
    "        Cuida la indentación.\n",
    "    \"\"\"\n",
    "    \n",
    "    # Escribe aquí tu código ↓\n",
    "    \n",
    "    \n",
    "    # Escribe aquí tu código ↑\n",
    "    \n",
    "    return # ← Escribe aquí tu código"
   ]
  },
  {
   "cell_type": "code",
   "execution_count": null,
   "metadata": {},
   "outputs": [],
   "source": [
    "calificador.califica_ejercicio_90(ejercicio_90)"
   ]
  }
 ],
 "metadata": {
  "kernelspec": {
   "display_name": "delfos",
   "language": "python",
   "name": "python3"
  },
  "language_info": {
   "codemirror_mode": {
    "name": "ipython",
    "version": 3
   },
   "file_extension": ".py",
   "mimetype": "text/x-python",
   "name": "python",
   "nbconvert_exporter": "python",
   "pygments_lexer": "ipython3",
   "version": "3.12.4"
  }
 },
 "nbformat": 4,
 "nbformat_minor": 2
}
