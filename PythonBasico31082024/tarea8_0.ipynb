{
 "cells": [
  {
   "cell_type": "code",
   "execution_count": 1,
   "metadata": {},
   "outputs": [],
   "source": [
    "#\n",
    "#\n",
    "# EJECUTAR ESTA CELDA CADA VEZ QUE ENTRES A HACER LA TAREA\n",
    "#\n",
    "#\n",
    "\n",
    "#####################################\n",
    "# Estructuras de datos parte 2\n",
    "#####################################\n",
    "\n",
    "\n",
    "import calificador\n",
    "from controlador import Controlador"
   ]
  },
  {
   "cell_type": "code",
   "execution_count": 2,
   "metadata": {},
   "outputs": [],
   "source": [
    "@Controlador(\"8\", \"ejercicio_71\")\n",
    "def ejercicio_71(i):\n",
    "    \"\"\"\n",
    "    Instrucciones:\n",
    "        La función \"ejercicio_71\" toma el parámetro \"i\" \n",
    "        y debe regresar el elemento de una lista que \n",
    "        corresponda al índice determinado por el parámetro \"i\".\n",
    "        Dicha lista debe contener los siguientes elementos:\n",
    "        \"Gato\", \"Perro\", \"Caballo\", \"Rana\"\n",
    "\n",
    "    Condiciones:\n",
    "        El parámetro \"i\" debe ser un número entero (int)\n",
    "        que corresponda al índice del elemento que deseas \n",
    "        borrar de la lista (puede ser el de tu elección).\n",
    "\n",
    "    Recuerda:\n",
    "        Revisa el método .pop()\n",
    "\n",
    "        Lo que la función \"regresa\" es justo lo que va después \n",
    "        de la palabra reservada \"return\".\n",
    "        \n",
    "        Cuida la indentación.\n",
    "    \"\"\"\n",
    "    \n",
    "    # Escribe aquí tu código ↓\n",
    "    \n",
    "\n",
    "    # Escribe aquí tu código ↑\n",
    "    \n",
    "    return # ← Escribe aquí tu código"
   ]
  },
  {
   "cell_type": "code",
   "execution_count": null,
   "metadata": {},
   "outputs": [],
   "source": [
    "calificador.califica_ejercicio_71(ejercicio_71)"
   ]
  },
  {
   "cell_type": "code",
   "execution_count": 5,
   "metadata": {},
   "outputs": [],
   "source": [
    "@Controlador(\"8\", \"ejercicio_72\")\n",
    "def ejercicio_72(a):\n",
    "    \"\"\"\n",
    "    Instrucciones:\n",
    "        La función \"ejercicio_72\" toma el parámetro \"a\" \n",
    "        y debe regresar el índice en el que se encuentre \n",
    "        el elemento contenido en \"a\" dentro de una lista.\n",
    "        Dicha lista debe contener los siguientes elementos:\n",
    "        \"Azul\", \"Amarillo\", \"Verde\" \n",
    "\n",
    "    Condiciones:\n",
    "        El parámetro \"a\" debe ser una cadena de caracteres \n",
    "        (str) que corresponda al nombre de algún color de \n",
    "        los que forman la lista requerida.\n",
    "\n",
    "    Recuerda:\n",
    "        Revisa el método .index()\n",
    "\n",
    "        Lo que la función \"regresa\" es justo lo que va después \n",
    "        de la palabra reservada \"return\".\n",
    "        \n",
    "        Cuida la indentación.\n",
    "    \"\"\"\n",
    "    \n",
    "    # Escribe aquí tu código ↓\n",
    "    \n",
    "    \n",
    "    # Escribe aquí tu código ↑\n",
    "    \n",
    "    return # ← Escribe aquí tu código"
   ]
  },
  {
   "cell_type": "code",
   "execution_count": null,
   "metadata": {},
   "outputs": [],
   "source": [
    "calificador.califica_ejercicio_72(ejercicio_72)"
   ]
  },
  {
   "cell_type": "code",
   "execution_count": 7,
   "metadata": {},
   "outputs": [],
   "source": [
    "@Controlador(\"8\", \"ejercicio_73\")\n",
    "def ejercicio_73(a, b):\n",
    "    \"\"\"\n",
    "     Instrucciones:\n",
    "        La función \"ejercicio_73\" toma los parámetros \"a\", \"b\" \n",
    "        y, debe regresar un diccionario con un par clave-valor\n",
    "        donde la clave sea el valor correspondiente al parámetro\n",
    "        \"a\" y el valor sea el correspondiente al parametro \"b\"\n",
    "        respectivamente.\n",
    "\n",
    "    Condiciones:\n",
    "        El parámetro \"a\" debe ser una cadena de caracteres (str)\n",
    "        de tu preferencia y el parámetro \"b\" debe ser un número \n",
    "        entero (int) de tu preferencia.\n",
    "    \n",
    "    Recuerda:\n",
    "        Lo que la función \"regresa\" es justo lo que va después \n",
    "        de la palabra reservada \"return\".\n",
    "        \n",
    "        Cuida la indentación.\n",
    "    \"\"\"\n",
    "    \n",
    "    # Escribe aquí tu código ↓\n",
    "    \n",
    "    \n",
    "    # Escribe aquí tu código ↑\n",
    "    \n",
    "    return # ← Escribe aquí tu código"
   ]
  },
  {
   "cell_type": "code",
   "execution_count": null,
   "metadata": {},
   "outputs": [],
   "source": [
    "calificador.califica_ejercicio_73(ejercicio_73)"
   ]
  },
  {
   "cell_type": "code",
   "execution_count": 9,
   "metadata": {},
   "outputs": [],
   "source": [
    "@Controlador(\"8\", \"ejercicio_74\")\n",
    "def ejercicio_74(x):\n",
    "    \"\"\"\n",
    "    Instrucciones:\n",
    "        La función \"ejercicio_74\" toma el parámetro \"x\" \n",
    "        y debe regresar la cantidad de veces que aparece \n",
    "        el valor del parámetro \"x\" en la siguiente lista:\n",
    "        [5,5,8,6,8,7,5,6,5,5,8,8,7,5,6,8,6,6,6]\n",
    "\n",
    "    Condiciones:\n",
    "        El parámetro \"x\" debe ser un número entero (int)\n",
    "        cuyo valor aparezca al menos una vez en la lista\n",
    "        indicada.\n",
    "\n",
    "    Recuerda:\n",
    "        Revisa el método .count()\n",
    "\n",
    "        Lo que la función \"regresa\" es justo lo que va después \n",
    "        de la palabra reservada \"return\".\n",
    "        \n",
    "        Cuida la indentación.\n",
    "    \"\"\"\n",
    "    \n",
    "    # Escribe aquí tu código ↓\n",
    "    \n",
    "\n",
    "    # Escribe aquí tu código ↑\n",
    "    \n",
    "    return # ← Escribe aquí tu código"
   ]
  },
  {
   "cell_type": "code",
   "execution_count": null,
   "metadata": {},
   "outputs": [],
   "source": [
    "calificador.califica_ejercicio_74(ejercicio_74)"
   ]
  },
  {
   "cell_type": "code",
   "execution_count": 11,
   "metadata": {},
   "outputs": [],
   "source": [
    "@Controlador(\"8\", \"ejercicio_75\")\n",
    "def ejercicio_75(x):\n",
    "    \"\"\"\n",
    "    Instrucciones:\n",
    "        La función \"ejercicio_75\" toma el parámetro \"x\" \n",
    "        y debe regresar una lista sin el elemento que \n",
    "        corresponda al valor al que sea igual \"x\". \n",
    "        La lista original debe tener los siguientes \n",
    "        elementos: \"Lunes\", \"Martes\", \"Miércoles\", \"Jueves\", \"Viernes\"\n",
    "        Lo que regresa la función es una lista sin \n",
    "        alguno de los elementos anteriores (es decir, \n",
    "        una lista de 4 elementos).\n",
    "\n",
    "    Condiciones:\n",
    "        El parámetro \"x\" debe ser una cadena de caracteres (str)\n",
    "        con el valor de alguno de los elementos de la lista\n",
    "        que desees borrar.\n",
    "\n",
    "    Recuerda:\n",
    "        Revisa el método .remove()\n",
    "\n",
    "        Lo que la función \"regresa\" es justo lo que va después \n",
    "        de la palabra reservada \"return\".\n",
    "        \n",
    "        Cuida la indentación.\n",
    "    \"\"\"\n",
    "    \n",
    "    # Escribe aquí tu código ↓\n",
    "    \n",
    "    \n",
    "    # Escribe aquí tu código ↑\n",
    "    \n",
    "    return # ← Escribe aquí tu código"
   ]
  },
  {
   "cell_type": "code",
   "execution_count": null,
   "metadata": {},
   "outputs": [],
   "source": [
    "calificador.califica_ejercicio_75(ejercicio_75)"
   ]
  },
  {
   "cell_type": "code",
   "execution_count": 19,
   "metadata": {},
   "outputs": [],
   "source": [
    "@Controlador(\"8\", \"ejercicio_76\")\n",
    "def ejercicio_76():\n",
    "    \"\"\"\n",
    "    Instrucciones:\n",
    "        La función \"ejercicio_80\" no toma ningún \n",
    "        parámetro y debe regresar la siguiente lista\n",
    "        con sus elementos ordenados de mayor a menor:\n",
    "        [11,27,5,1,48,63,4,81,99,21,44,85,2] \n",
    "\n",
    "    Recuerda:\n",
    "        Revisa el método .sort()\n",
    "\n",
    "        Lo que la función \"regresa\" es justo lo que va después \n",
    "        de la palabra reservada \"return\".\n",
    "        \n",
    "        Cuida la indentación.\n",
    "    \"\"\"\n",
    "    \n",
    "    # Escribe aquí tu código ↓\n",
    "    \n",
    "    \n",
    "    # Escribe aquí tu código ↑\n",
    "    \n",
    "    return # ← Escribe aquí tu código"
   ]
  },
  {
   "cell_type": "code",
   "execution_count": null,
   "metadata": {},
   "outputs": [],
   "source": [
    "calificador.califica_ejercicio_76(ejercicio_76)"
   ]
  },
  {
   "cell_type": "code",
   "execution_count": 23,
   "metadata": {},
   "outputs": [],
   "source": [
    "@Controlador(\"8\", \"ejercicio_77\")\n",
    "def ejercicio_77():\n",
    "    \"\"\"\n",
    "    Instrucciones:\n",
    "        La función \"ejercicio_77\" no toma ningún \n",
    "        parámetro y debe regresar la siguiente lista\n",
    "        con el orden de sus elementos invertido:\n",
    "        [\"a\", \"b\", \"c\", \"d\", \"e\"]\n",
    "\n",
    "    Recuerda:\n",
    "        Revisa el método .reverse()\n",
    "\n",
    "        Lo que la función \"regresa\" es justo lo que va después \n",
    "        de la palabra reservada \"return\".\n",
    "        \n",
    "        Cuida la indentación.\n",
    "    \"\"\"\n",
    "    \n",
    "    # Escribe aquí tu código ↓\n",
    "    \n",
    "   \n",
    "    # Escribe aquí tu código ↑\n",
    "    \n",
    "    return # ← Escribe aquí tu código"
   ]
  },
  {
   "cell_type": "code",
   "execution_count": null,
   "metadata": {},
   "outputs": [],
   "source": [
    "calificador.califica_ejercicio_77(ejercicio_77)"
   ]
  },
  {
   "cell_type": "code",
   "execution_count": 25,
   "metadata": {},
   "outputs": [],
   "source": [
    "@Controlador(\"8\", \"ejercicio_78\")\n",
    "def ejercicio_78():\n",
    "    \"\"\"\n",
    "    Instrucciones:\n",
    "        La función \"ejercicio_78\" no toma ningún \n",
    "        parámetro y debe regresar una lista con \n",
    "        los números del 15 al 150 (incluyendo el \n",
    "        15 y el 150).\n",
    "    \n",
    "    Condiciones:\n",
    "        Los elementos de la lista deben ser números\n",
    "        enteros (int).\n",
    "\n",
    "    Recuerda:\n",
    "        Lo que la función \"regresa\" es justo lo que va después \n",
    "        de la palabra reservada \"return\".\n",
    "        \n",
    "        Cuida la indentación.\n",
    "    \"\"\"\n",
    "    \n",
    "    # Escribe aquí tu código ↓\n",
    "    \n",
    "    \n",
    "    # Escribe aquí tu código ↑\n",
    "    \n",
    "    return # ← Escribe aquí tu código"
   ]
  },
  {
   "cell_type": "code",
   "execution_count": null,
   "metadata": {},
   "outputs": [],
   "source": [
    "calificador.califica_ejercicio_78(ejercicio_78)"
   ]
  },
  {
   "cell_type": "code",
   "execution_count": 27,
   "metadata": {},
   "outputs": [],
   "source": [
    "@Controlador(\"8\", \"ejercicio_79\")\n",
    "def ejercicio_79():\n",
    "    \"\"\"\n",
    "    Instrucciones:\n",
    "        La función \"ejercicio_79\" no toma ningún \n",
    "        parámetro y debe regresar un diccionario \n",
    "        con un par clave-valor donde la clave debe\n",
    "        ser la cadena \"Clave-1\" y el valor debe ser \n",
    "        otro diccionario con un par clave-valor de \n",
    "        clave \"Python\" y valor \"Básico\".\n",
    "\n",
    "    Recuerda:\n",
    "        Lo que la función \"regresa\" es justo lo que va después \n",
    "        de la palabra reservada \"return\".\n",
    "        \n",
    "        Cuida la indentación.\n",
    "    \"\"\"\n",
    "    \n",
    "    # Escribe aquí tu código ↓\n",
    "    \n",
    "    \n",
    "    # Escribe aquí tu código ↑\n",
    "    \n",
    "    return # ← Escribe aquí tu código"
   ]
  },
  {
   "cell_type": "code",
   "execution_count": null,
   "metadata": {},
   "outputs": [],
   "source": [
    "calificador.califica_ejercicio_79(ejercicio_79)"
   ]
  },
  {
   "cell_type": "code",
   "execution_count": 29,
   "metadata": {},
   "outputs": [],
   "source": [
    "@Controlador(\"8\", \"ejercicio_80\")\n",
    "def ejercicio_80():\n",
    "    \"\"\"\n",
    "    Instrucciones:\n",
    "        La función \"ejercicio_80\" no toma ningún \n",
    "        parámetro y debe regresar una lista con \n",
    "        dos elementos, donde cada elemento será\n",
    "        una tupla que contenga como primer elemento \n",
    "        el número 2 y como segundo elemento ese número\n",
    "        al cuadrado.\n",
    "\n",
    "    Recuerda:\n",
    "        Lo que la función \"regresa\" es justo lo que va después \n",
    "        de la palabra reservada \"return\".\n",
    "        \n",
    "        Cuida la indentación.\n",
    "    \"\"\"\n",
    "    \n",
    "    # Escribe aquí tu código ↓\n",
    "    \n",
    "    \n",
    "    # Escribe aquí tu código ↑\n",
    "    \n",
    "    return [(2,4),(2,4)]# ← Escribe aquí tu código"
   ]
  },
  {
   "cell_type": "code",
   "execution_count": null,
   "metadata": {},
   "outputs": [],
   "source": [
    "calificador.califica_ejercicio_80(ejercicio_80)"
   ]
  }
 ],
 "metadata": {
  "kernelspec": {
   "display_name": "infotec",
   "language": "python",
   "name": "python3"
  },
  "language_info": {
   "codemirror_mode": {
    "name": "ipython",
    "version": 3
   },
   "file_extension": ".py",
   "mimetype": "text/x-python",
   "name": "python",
   "nbconvert_exporter": "python",
   "pygments_lexer": "ipython3",
   "version": "3.10.10"
  }
 },
 "nbformat": 4,
 "nbformat_minor": 2
}
