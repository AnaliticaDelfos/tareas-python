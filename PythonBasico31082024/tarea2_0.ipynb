{
 "cells": [
  {
   "cell_type": "code",
   "execution_count": 1,
   "metadata": {},
   "outputs": [],
   "source": [
    "#\n",
    "#\n",
    "# EJECUTAR ESTA CELDA CADA VEZ QUE ENTRES A HACER LA TAREA\n",
    "#\n",
    "#\n",
    "\n",
    "#####################################\n",
    "# Operaciones aritméticas parte 2\n",
    "#####################################\n",
    "\n",
    "\n",
    "import calificador\n",
    "from controlador import Controlador"
   ]
  },
  {
   "cell_type": "markdown",
   "metadata": {},
   "source": [
    "Fórmula del ejercicio 11:\n",
    "\n",
    "$$(x-y)^3$$"
   ]
  },
  {
   "cell_type": "code",
   "execution_count": 2,
   "metadata": {},
   "outputs": [],
   "source": [
    "@Controlador(\"2\", \"ejercicio_11\")\n",
    "def ejercicio_11(x, y):\n",
    "    \"\"\"\n",
    "    Instrucciones:\n",
    "        La función \"ejericio_11\" toma los parámetros \"x\", \n",
    "        \"y\", y debe regresar el resultado de utilizar dichos\n",
    "        parámetros en la fórmula del ejercicio 11.\n",
    "    \n",
    "    Ejemplo:\n",
    "        Si x=20 y y=12 la función regresa 512:\n",
    "        20 - 12 = 8\n",
    "        8 ** 3 = 512\n",
    "\n",
    "    Recuerda:\n",
    "        Lo que la función \"regresa\" es justo lo que va después\n",
    "        de la palabra reservada return\n",
    "\n",
    "        Cuida la indentación.\n",
    "\n",
    "    Consejo:\n",
    "        Para obetener la potencia de un número se puede usar la \n",
    "        función incorporada pow(), el operador ** o multiplicar \n",
    "        las números/variables por sí mismas el número de veces \n",
    "        que sea necesario (definición de potencia)\n",
    "    \"\"\"\n",
    "    # Escribe aquí tu código ↓\n",
    "    \n",
    "\n",
    "    # Escribe aquí tu código ↑\n",
    "\n",
    "    return # ← Escribe aquí tu código"
   ]
  },
  {
   "cell_type": "code",
   "execution_count": null,
   "metadata": {},
   "outputs": [],
   "source": [
    "ejercicio_11(12, 10)"
   ]
  },
  {
   "cell_type": "code",
   "execution_count": null,
   "metadata": {},
   "outputs": [],
   "source": [
    "calificador.califica_ejercicio_11(ejercicio_11)"
   ]
  },
  {
   "cell_type": "markdown",
   "metadata": {},
   "source": [
    "Fórmula del ejercicio 12:\n",
    "$$\\frac{z^3}{z*x*y^2}$$"
   ]
  },
  {
   "cell_type": "code",
   "execution_count": 6,
   "metadata": {},
   "outputs": [],
   "source": [
    "@Controlador(\"2\", \"ejercicio_12\")\n",
    "def ejercicio_12(x, y, z):\n",
    "    \"\"\"\n",
    "    Instrucciones:\n",
    "        Esta función toma los parámetros \"x\", \"y\", \"z\", y debe\n",
    "        regresar el resultado de aplicar dichos parámetros a \n",
    "        la fórmula del ejercicio 12.\n",
    "\n",
    "    Ejemplo:\n",
    "        Si x=1, y=2 y z=3 la función regresa 2.25:\n",
    "        3**3 = 27\n",
    "        27 / (3*1*(2**2)) \n",
    "        27 / 12 = 2.25\n",
    "\n",
    "    Recuerda:\n",
    "        Cuida la indentación.\n",
    "    \"\"\"\n",
    "\n",
    "    # Escribe aquí tu código ↓\n",
    "    \n",
    "\n",
    "    # Escribe aquí tu código ↑\n",
    "\n",
    "    return # ← Escribe aquí tu código"
   ]
  },
  {
   "cell_type": "code",
   "execution_count": null,
   "metadata": {},
   "outputs": [],
   "source": [
    "ejercicio_12(1, 1, 2)"
   ]
  },
  {
   "cell_type": "code",
   "execution_count": null,
   "metadata": {},
   "outputs": [],
   "source": [
    "calificador.califica_ejercicio_12(ejercicio_12)"
   ]
  },
  {
   "cell_type": "markdown",
   "metadata": {},
   "source": [
    "Formula del ejercicio 13:\n",
    "\n",
    "$$\\frac{y^2}{x*z}$$"
   ]
  },
  {
   "cell_type": "code",
   "execution_count": 8,
   "metadata": {},
   "outputs": [],
   "source": [
    "@Controlador(\"2\", \"ejercicio_13\")\n",
    "def ejercicio_13(x, y, z):\n",
    "    \"\"\"\n",
    "    Instrucciones:\n",
    "        Esta función toma los parámetros \"x\", \"y\", \"z\", y debe\n",
    "        regresar el resultado de aplicar dichos parámetros a \n",
    "        la fórmula del ejercicio 13.\n",
    "    \n",
    "    Ejemplo:\n",
    "        Si x=2, y=6 y z=1 la función regresa 18:\n",
    "        6**2 / 2*1\n",
    "        36 / 2 = 18\n",
    "\n",
    "    Recuerda:\n",
    "        Cuida la indentación.\n",
    "    \"\"\"\n",
    "\n",
    "    # Escribe aquí tu código ↓\n",
    "    \n",
    "\n",
    "    # Escribe aquí tu código ↑\n",
    "\n",
    "    return # ← Escribe aquí tu código"
   ]
  },
  {
   "cell_type": "code",
   "execution_count": null,
   "metadata": {},
   "outputs": [],
   "source": [
    "ejercicio_13(1, 4, 2)"
   ]
  },
  {
   "cell_type": "code",
   "execution_count": null,
   "metadata": {},
   "outputs": [],
   "source": [
    "calificador.califica_ejercicio_13(ejercicio_13)"
   ]
  },
  {
   "cell_type": "markdown",
   "metadata": {},
   "source": [
    "Forma general del trinomio cuadrado perfecto de (x-y)^2 :\n",
    "$$x^2 - 2xy + y^2$$"
   ]
  },
  {
   "cell_type": "code",
   "execution_count": 10,
   "metadata": {},
   "outputs": [],
   "source": [
    "@Controlador(\"2\", \"ejercicio_14\")\n",
    "def ejercicio_14(x, y):\n",
    "    \"\"\"\n",
    "    Instrucciones:\n",
    "        Esta función toma los parámetros \"x\", \"y\" y debe\n",
    "        regresar el resultado de aplicar dichos parámetros a \n",
    "        la fórmula del ejercicio 14.\n",
    "    \n",
    "    Ejemplo:\n",
    "        Si x=3 y y=1 la función regresa 4:\n",
    "        3**2 - 2(3*1) + 1**2\n",
    "        9 - 6 + 1 = 4\n",
    "\n",
    "    Recuerda:\n",
    "        Cuida la indentación.\n",
    "    \"\"\"\n",
    "\n",
    "    # Escribe aquí tu código ↓\n",
    "    \n",
    "\n",
    "    # Escribe aquí tu código ↑\n",
    "\n",
    "    return # ← Escribe aquí tu código"
   ]
  },
  {
   "cell_type": "code",
   "execution_count": null,
   "metadata": {},
   "outputs": [],
   "source": [
    "ejercicio_14(2, 1)"
   ]
  },
  {
   "cell_type": "code",
   "execution_count": null,
   "metadata": {},
   "outputs": [],
   "source": [
    "calificador.califica_ejercicio_14(ejercicio_14)"
   ]
  },
  {
   "cell_type": "markdown",
   "metadata": {},
   "source": [
    "Fórmula del Teorema de Torricelli \n",
    "$$v = \\sqrt{2*g*h}$$\n",
    "\n",
    "Donde v = Velocidad en la que fluye el agua saliente de un sistema, g = aceleración de a gravedad, h=altura del orificio de salida del sistema desde la superficie"
   ]
  },
  {
   "cell_type": "code",
   "execution_count": 12,
   "metadata": {},
   "outputs": [],
   "source": [
    "@Controlador(\"2\", \"ejercicio_15\")\n",
    "def ejercicio_15(h):\n",
    "    \"\"\"\n",
    "    Instrucciones:\n",
    "        Esta función toma el parámetro \"h\", y debe regresar el\n",
    "        resultado de aplicar dicho parámetro a la fórmula del \n",
    "        Teorema de Torricelli considerando a g=10 \n",
    "    \n",
    "    Condiciones:\n",
    "        Redondear el resultado obtenido a 2 decimales con la\n",
    "        función round()\n",
    "    \n",
    "    Ejemplo:\n",
    "        Si h=1 la función debe regresar 4.4721:\n",
    "        v = (2*10*1)**(1/2)\n",
    "        v = 20**(1/2)\n",
    "        v = 4.47\n",
    "\n",
    "    Recuerda:\n",
    "        Cuida la indentación.\n",
    "    \"\"\"\n",
    "\n",
    "    # Escribe aquí tu código ↓\n",
    "    \n",
    "\n",
    "    # Escribe aquí tu código ↑\n",
    "\n",
    "    return # ← Escribe aquí tu código"
   ]
  },
  {
   "cell_type": "code",
   "execution_count": null,
   "metadata": {},
   "outputs": [],
   "source": [
    "ejercicio_15(10)"
   ]
  },
  {
   "cell_type": "code",
   "execution_count": null,
   "metadata": {},
   "outputs": [],
   "source": [
    "calificador.califica_ejercicio_15(ejercicio_15)"
   ]
  },
  {
   "cell_type": "markdown",
   "metadata": {},
   "source": [
    "Fórmula para calcular el trabajo realizado por un gas dentro de un cilindro sometido al calor (w):\n",
    "$$w = P(V2 - V1)$$\n",
    "\n",
    "Donde P = Presión, V2 = Volumen final y V1 = Volumen inicial"
   ]
  },
  {
   "cell_type": "code",
   "execution_count": 16,
   "metadata": {},
   "outputs": [],
   "source": [
    "@Controlador(\"2\", \"ejercicio_16\")\n",
    "def ejercicio_16(P, V2, V1):\n",
    "    \"\"\"\n",
    "    Instrucciones:\n",
    "        Esta función toma los parámetros \"P\", \"V2\", \"V1\", y debe \n",
    "        regresar el resultado de aplicar dichos parámetros a la \n",
    "        fórmula para calcular el trabajo realizado por un gas.\n",
    "    \n",
    "    Ejemplo: \n",
    "        Si P=10, V2=6 y V1=2 la función regresa 40:\n",
    "        w = 10*(6-2)\n",
    "        w = 10*4\n",
    "        w = 40 \n",
    "\n",
    "    Recuerda:\n",
    "        Cuida la indentación.\n",
    "    \"\"\"\n",
    "\n",
    "    # Escribe aquí tu código ↓\n",
    "    \n",
    "\n",
    "    # Escribe aquí tu código ↑\n",
    "\n",
    "    return # ← Escribe aquí tu código"
   ]
  },
  {
   "cell_type": "code",
   "execution_count": null,
   "metadata": {},
   "outputs": [],
   "source": [
    "ejercicio_16(20, 12, 2)"
   ]
  },
  {
   "cell_type": "code",
   "execution_count": null,
   "metadata": {},
   "outputs": [],
   "source": [
    "calificador.califica_ejercicio_16(ejercicio_16)"
   ]
  },
  {
   "cell_type": "markdown",
   "metadata": {},
   "source": [
    "Fórmula para calcular la eficiencia térmica (e):\n",
    "$$e = \\frac{Q2-Q1}{Qe}$$\n",
    "\n",
    "Donde Q2 = Calor entrante al sistema, Q1 = Calor saliente del sistema y Qe = Calor suministrado al sistema"
   ]
  },
  {
   "cell_type": "code",
   "execution_count": 18,
   "metadata": {},
   "outputs": [],
   "source": [
    "@Controlador(\"2\", \"ejercicio_17\")\n",
    "def ejercicio_17(Q1, Q2, Qe):\n",
    "    \"\"\"\n",
    "     Instrucciones:\n",
    "         Esta función toma los parámetros \"Q1\", \"Q2\", \"Qe\", y debe \n",
    "        regresar el resultado de aplicar dichos parámetros a la \n",
    "        fórmula para calcular la eficiencia térmica(e).\n",
    "    \n",
    "    Ejemplo:\n",
    "        Si Q1=5, Q2=25 y Qe=2 la función regresa 10:\n",
    "        e = 25 - 5 / 2\n",
    "        e = 20 / 2\n",
    "        e = 10\n",
    "\n",
    "    Recuerda:\n",
    "        Cuida la indentación.\n",
    "    \"\"\"\n",
    "\n",
    "    # Escribe aquí tu código ↓\n",
    "    \n",
    "\n",
    "    # Escribe aquí tu código ↑\n",
    "\n",
    "    return # ← Escribe aquí tu código"
   ]
  },
  {
   "cell_type": "code",
   "execution_count": null,
   "metadata": {},
   "outputs": [],
   "source": [
    "ejercicio_17(10,30,10)"
   ]
  },
  {
   "cell_type": "code",
   "execution_count": null,
   "metadata": {},
   "outputs": [],
   "source": [
    "calificador.califica_ejercicio_17(ejercicio_17)"
   ]
  },
  {
   "cell_type": "markdown",
   "metadata": {},
   "source": [
    "Fórmula para calcular la potencia eléctrica (P):\n",
    "$$P = \\frac{V^2}{R}$$\n",
    "\n",
    "Donde V = Diferencia de potencial o voltaje y R = Resistencia"
   ]
  },
  {
   "cell_type": "code",
   "execution_count": 20,
   "metadata": {},
   "outputs": [],
   "source": [
    "@Controlador(\"2\", \"ejercicio_18\")\n",
    "def ejercicio_18(V, R):\n",
    "    \"\"\"\n",
    "       Instrucciones:\n",
    "        Esta función toma los parámetros \"V\", \"R\", y debe regresar \n",
    "        el resultado de aplicar dichos parámetros a la fórmula para \n",
    "        calcular la potencia eléctrica (P).\n",
    "    \n",
    "    Ejemplo:\n",
    "        Si V=5 y R=3 la función regresa 8.333:\n",
    "        P = 5**2 / 3\n",
    "        P = 25 / 3\n",
    "        P = 8.333\n",
    "\n",
    "    Recuerda:\n",
    "        Cuida la indentación. \n",
    "    \"\"\"\n",
    "\n",
    "    # Escribe aquí tu código ↓\n",
    "\n",
    "\n",
    "    # Escribe aquí tu código ↑\n",
    "\n",
    "    return # ← Escribe aquí tu código"
   ]
  },
  {
   "cell_type": "code",
   "execution_count": null,
   "metadata": {},
   "outputs": [],
   "source": [
    "ejercicio_18(9, 3)"
   ]
  },
  {
   "cell_type": "code",
   "execution_count": null,
   "metadata": {},
   "outputs": [],
   "source": [
    "calificador.califica_ejercicio_18(ejercicio_18)"
   ]
  },
  {
   "cell_type": "markdown",
   "metadata": {},
   "source": [
    "Fórmula para calcular el calor específico (Ce):\n",
    "$$Ce = \\frac{Q}{m(T2-T1)}$$\n",
    "\n",
    "Donde Q = Capacidad calorífica, T2 = Temperatura final, T1 = Temperatura inicial, m = Masa del sistema"
   ]
  },
  {
   "cell_type": "code",
   "execution_count": 22,
   "metadata": {},
   "outputs": [],
   "source": [
    "@Controlador(\"2\", \"ejercicio_19\")\n",
    "def ejercicio_19(Q, T1, T2):\n",
    "    \"\"\"\n",
    "    Instrucciones:\n",
    "        Esta función toma los parámetros \"Q\", \"T1\", \"T2\", y debe \n",
    "        regresar el resultado de aplicar dichos parámetros a la \n",
    "        fórmula para calcular el calor específico (Ce) considerando\n",
    "        una m=15.\n",
    "    \n",
    "    Condiciones:\n",
    "        Redondear el resultado obtenido a 2 decimales con la\n",
    "        función round()\n",
    "    \n",
    "    Ejemplo:\n",
    "        Si Q=300, T1=10 y T2=15 la función regresa 4:\n",
    "        Ce = 300 / 15(15-10)\n",
    "        Ce = 300 / 15(5)\n",
    "        Ce = 4\n",
    "\n",
    "    Recuerda:\n",
    "        Cuida la indentación.\n",
    "    \"\"\"\n",
    "\n",
    "    # Escribe aquí tu código ↓\n",
    "\n",
    "\n",
    "    # Escribe aquí tu código ↑\n",
    "\n",
    "    return # ← Escribe aquí tu código"
   ]
  },
  {
   "cell_type": "code",
   "execution_count": null,
   "metadata": {},
   "outputs": [],
   "source": [
    "ejercicio_19(150, 15, 20)"
   ]
  },
  {
   "cell_type": "code",
   "execution_count": null,
   "metadata": {},
   "outputs": [],
   "source": [
    "calificador.califica_ejercicio_19(ejercicio_19)"
   ]
  },
  {
   "cell_type": "markdown",
   "metadata": {},
   "source": [
    "Ecuación de la pendiente (m) de una recta que pasa por dos puntos coordenados P1(x1, y1) y P2(x2, y2)\n",
    "\n",
    "$$m =\\frac{y2 - y1}{x2-x1}$$"
   ]
  },
  {
   "cell_type": "code",
   "execution_count": 24,
   "metadata": {},
   "outputs": [],
   "source": [
    "@Controlador(\"2\", \"ejercicio_20\")\n",
    "def ejercicio_20(x1, y1, x2, y2):\n",
    "    \"\"\"\n",
    "       Instrucciones:\n",
    "        Esta función toma los parámetros \"x1\", \"y1\", \"x2\", \"y2\",\n",
    "        y debe regresar el resultado de aplicar dichos parámetros a \n",
    "        la ecuación de la pendiente (m) de una recta que pasa por dos puntos.\n",
    "\n",
    "    Condiciones:\n",
    "        Redondear el resultado obtenido a 2 decimales con la función round()\n",
    "    \n",
    "    Ejemplo:\n",
    "        Si x1=2, y1=2, x2=5 y y2=5 la función regresa 1:\n",
    "        m = (5 - 2) / (5 - 2)\n",
    "        m = 1\n",
    "\n",
    "    Recuerda:\n",
    "        Cuida la indentación.  \n",
    "    \"\"\"\n",
    "\n",
    "    # Escribe aquí tu código ↓\n",
    "\n",
    "\n",
    "    # Escribe aquí tu código ↑\n",
    "\n",
    "    return # ← Escribe aquí tu código"
   ]
  },
  {
   "cell_type": "code",
   "execution_count": null,
   "metadata": {},
   "outputs": [],
   "source": [
    "ejercicio_20(3,3,6,6)"
   ]
  },
  {
   "cell_type": "code",
   "execution_count": null,
   "metadata": {},
   "outputs": [],
   "source": [
    "calificador.califica_ejercicio_20(ejercicio_20)"
   ]
  }
 ],
 "metadata": {
  "kernelspec": {
   "display_name": "infotec",
   "language": "python",
   "name": "python3"
  },
  "language_info": {
   "codemirror_mode": {
    "name": "ipython",
    "version": 3
   },
   "file_extension": ".py",
   "mimetype": "text/x-python",
   "name": "python",
   "nbconvert_exporter": "python",
   "pygments_lexer": "ipython3",
   "version": "3.10.10"
  }
 },
 "nbformat": 4,
 "nbformat_minor": 2
}
