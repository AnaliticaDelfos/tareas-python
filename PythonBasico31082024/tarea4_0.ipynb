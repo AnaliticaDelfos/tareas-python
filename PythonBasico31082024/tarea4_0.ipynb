{
 "cells": [
  {
   "cell_type": "code",
   "execution_count": 1,
   "metadata": {},
   "outputs": [],
   "source": [
    "#\n",
    "#\n",
    "# EJECUTAR ESTA CELDA CADA VEZ QUE ENTRES A HACER LA TAREA\n",
    "#\n",
    "#\n",
    "\n",
    "#####################################\n",
    "# Cadenas de caracteres\n",
    "#####################################\n",
    "\n",
    "\n",
    "import calificador\n",
    "from controlador import Controlador"
   ]
  },
  {
   "cell_type": "code",
   "execution_count": 4,
   "metadata": {},
   "outputs": [],
   "source": [
    "@Controlador(\"4\", \"ejercicio_31\")\n",
    "def ejercicio_31(str):\n",
    "    \"\"\"\n",
    "    Instrucciones:\n",
    "        La función \"ejercicio_31\" toma el parámetro \"str\" y,\n",
    "        debe regresar su tipo de dato tras convertirlo a número entero.\n",
    "\n",
    "    Condiciones:\n",
    "        El tipo de dato del parámetro \"str\" debe ser cadena de caracteres.\n",
    "        Utiliza la función int() para el cambio de tipo de dato.\n",
    "        Utiliza la función type() mostrar el tipo de dato.\n",
    "\n",
    "    Ejemplo:\n",
    "        Si str = \"505\" la función regresa:\n",
    "        <class 'int'>\n",
    "        \n",
    "    Recuerda:\n",
    "        Lo que la función \"regresa\" es justo lo que va después \n",
    "        de la palabra reservada \"return\".\n",
    "        \n",
    "        Cuida la indentación.\n",
    "    \"\"\"\n",
    "\n",
    "    # Escribe aquí tu código ↓\n",
    "    \n",
    "\n",
    "    # Escribe aquí tu código ↑\n",
    "\n",
    "    return # ← Escribe aquí tu código"
   ]
  },
  {
   "cell_type": "code",
   "execution_count": null,
   "metadata": {},
   "outputs": [],
   "source": [
    "ejercicio_31(\"1234\")"
   ]
  },
  {
   "cell_type": "code",
   "execution_count": null,
   "metadata": {},
   "outputs": [],
   "source": [
    "calificador.califica_ejercicio_31(ejercicio_31)"
   ]
  },
  {
   "cell_type": "code",
   "execution_count": 6,
   "metadata": {},
   "outputs": [],
   "source": [
    "@Controlador(\"4\", \"ejercicio_32\")\n",
    "def ejercicio_32(str):\n",
    "    \"\"\"\n",
    "    Instrucciones:\n",
    "        La función \"ejercicio_32\" toma el parámetro \"str\" y,\n",
    "        debe regresar su tipo de dato tras convertirlo a número decimal.\n",
    "\n",
    "    Condiciones:\n",
    "        El tipo de dato del parámetro \"str\" debe ser cadena de caracteres.\n",
    "        Utiliza la función float() para el cambio de tipo de dato.\n",
    "        Utiliza la función type() mostrar el tipo de dato.\n",
    "\n",
    "    Ejemplo:\n",
    "        Si str = \"0.5\" la función regresa:\n",
    "        <class 'float'>\n",
    "\n",
    "    Recuerda:\n",
    "        Lo que la función \"regresa\" es justo lo que va después \n",
    "        de la palabra reservada \"return\".\n",
    "        \n",
    "        Cuida la indentación.\n",
    "    \"\"\"\n",
    "\n",
    "    # Escribe aquí tu código ↓\n",
    "    \n",
    "\n",
    "    # Escribe aquí tu código ↑\n",
    "\n",
    "    return # ← Escribe aquí tu código"
   ]
  },
  {
   "cell_type": "code",
   "execution_count": null,
   "metadata": {},
   "outputs": [],
   "source": [
    "ejercicio_32(\"12.6\")"
   ]
  },
  {
   "cell_type": "code",
   "execution_count": null,
   "metadata": {},
   "outputs": [],
   "source": [
    "calificador.califica_ejercicio_32(ejercicio_32)"
   ]
  },
  {
   "cell_type": "code",
   "execution_count": 8,
   "metadata": {},
   "outputs": [],
   "source": [
    "@Controlador(\"4\", \"ejercicio_33\")\n",
    "def ejercicio_33(int):\n",
    "    \"\"\"\n",
    "    Instrucciones:\n",
    "        La función \"ejercicio_33\" toma el parámetro \"int\" y,\n",
    "        debe regresar su tipo de dato tras convertirlo a \n",
    "        cadena de caracteres.\n",
    "\n",
    "    Condiciones:\n",
    "        El tipo de dato del parámetro \"int\" debe ser número entero.\n",
    "        Utiliza la función str() para el cambio de tipo de dato.\n",
    "        Utiliza la función type() mostrar el tipo de dato.\n",
    "\n",
    "    Ejemplo:\n",
    "        Si int = 15 la función regresa:\n",
    "        <class 'str'>\n",
    "\n",
    "    Recuerda:\n",
    "        Lo que la función \"regresa\" es justo lo que va después \n",
    "        de la palabra reservada \"return\".\n",
    "        \n",
    "        Cuida la indentación.\n",
    "    \"\"\"\n",
    "\n",
    "    # Escribe aquí tu código ↓\n",
    "    \n",
    "\n",
    "    # Escribe aquí tu código ↑\n",
    "\n",
    "    return # ← Escribe aquí tu código"
   ]
  },
  {
   "cell_type": "code",
   "execution_count": null,
   "metadata": {},
   "outputs": [],
   "source": [
    "ejercicio_33(592)"
   ]
  },
  {
   "cell_type": "code",
   "execution_count": null,
   "metadata": {},
   "outputs": [],
   "source": [
    "calificador.califica_ejercicio_33(ejercicio_33)"
   ]
  },
  {
   "cell_type": "code",
   "execution_count": 10,
   "metadata": {},
   "outputs": [],
   "source": [
    "@Controlador(\"4\", \"ejercicio_34\")\n",
    "def ejercicio_34(float):\n",
    "    \"\"\"\n",
    "    Instrucciones:\n",
    "        La función \"ejercicio_34\" toma el parámetro \"float\" y,\n",
    "        debe regresar su tipo de dato tras convertirlo a cadena \n",
    "        de caracteres.\n",
    "\n",
    "    Condiciones:\n",
    "        El tipo de dato del parámetro \"float\" debe ser número decimal.\n",
    "        Utiliza la función str() para el cambio de tipo de dato.\n",
    "        Utiliza la función type() mostrar el tipo de dato.\n",
    "\n",
    "    Ejemplo:\n",
    "        Si float = 3.1416 la función regresa:\n",
    "        <class 'str'>\n",
    "\n",
    "    Recuerda:\n",
    "        Lo que la función \"regresa\" es justo lo que va después \n",
    "        de la palabra reservada \"return\".\n",
    "        \n",
    "        Cuida la indentación.\n",
    "    \"\"\"\n",
    "\n",
    "    # Escribe aquí tu código ↓\n",
    "    \n",
    "\n",
    "    # Escribe aquí tu código ↑\n",
    "\n",
    "    return # ← Escribe aquí tu código"
   ]
  },
  {
   "cell_type": "code",
   "execution_count": null,
   "metadata": {},
   "outputs": [],
   "source": [
    "ejercicio_34(5.5)"
   ]
  },
  {
   "cell_type": "code",
   "execution_count": null,
   "metadata": {},
   "outputs": [],
   "source": [
    "calificador.califica_ejercicio_34(ejercicio_34)"
   ]
  },
  {
   "cell_type": "code",
   "execution_count": 2,
   "metadata": {},
   "outputs": [],
   "source": [
    "@Controlador(\"4\", \"ejercicio_35\")\n",
    "def ejercicio_35(str):\n",
    "    \"\"\"\n",
    "    Instrucciones:\n",
    "        La función \"ejercicio_35\" toma el parámetro \"str\" y,\n",
    "        debe regresar la representación en lista de los elementos\n",
    "        de dicho parámetro.\n",
    "\n",
    "    Condiciones:\n",
    "        El tipo de dato del parámetro \"str\" debe ser cadena de caracteres.\n",
    "        Utiliza la función list().\n",
    "\n",
    "    Ejemplo:\n",
    "        Si str = \"Python\" la función regresa:\n",
    "        ['P', 'y', 't', 'h', 'o', 'n']\n",
    "\n",
    "    Recuerda:\n",
    "        Lo que la función \"regresa\" es justo lo que va después \n",
    "        de la palabra reservada \"return\".\n",
    "        \n",
    "        Cuida la indentación.\n",
    "    \"\"\"\n",
    "\n",
    "    # Escribe aquí tu código ↓\n",
    "    \n",
    "\n",
    "    # Escribe aquí tu código ↑\n",
    "\n",
    "    return # ← Escribe aquí tu código"
   ]
  },
  {
   "cell_type": "code",
   "execution_count": null,
   "metadata": {},
   "outputs": [],
   "source": [
    "ejercicio_35(\"hola\")"
   ]
  },
  {
   "cell_type": "code",
   "execution_count": null,
   "metadata": {},
   "outputs": [],
   "source": [
    "calificador.califica_ejercicio_35(ejercicio_35)"
   ]
  },
  {
   "cell_type": "code",
   "execution_count": 5,
   "metadata": {},
   "outputs": [],
   "source": [
    "@Controlador(\"4\", \"ejercicio_36\")\n",
    "def ejercicio_36(str):\n",
    "    \"\"\"\n",
    "    Instrucciones:\n",
    "        La función \"ejercicio_36\" toma el parámetro \"str\" y,\n",
    "        debe regresar una lista de subcadenas de caracteres.\n",
    "\n",
    "    Condiciones:\n",
    "        El tipo de dato del parámetro \"str\" debe ser cadena de caracteres.\n",
    "        Para este ejercicio la cadena de caracteres recibida contendra puntos\n",
    "        que utilizaremos como elemento separador para generar subcadenas (fuera\n",
    "        de este ejemplo, el \"elemento separador\" puede ser cualquier elemento).\n",
    "        Utiliza el método split: str.split(\"elemento separador\").\n",
    "\n",
    "    Ejemplo:\n",
    "        Si str = \"bienvenido.mucho.gusto\" la función regresa ['bienvenido', 'mucho', 'gusto']:\n",
    "         \"bienvenido.mucho.gusto\".split(\".\") → ['bienvenido', 'mucho', 'gusto']\n",
    "\n",
    "    Recuerda:\n",
    "        Lo que la función \"regresa\" es justo lo que va después \n",
    "        de la palabra reservada \"return\".\n",
    "        \n",
    "        Cuida la indentación.\n",
    "    \"\"\"\n",
    "\n",
    "    # Escribe aquí tu código ↓\n",
    "    \n",
    "\n",
    "    # Escribe aquí tu código ↑\n",
    "\n",
    "    return # ← Escribe aquí tu código"
   ]
  },
  {
   "cell_type": "code",
   "execution_count": null,
   "metadata": {},
   "outputs": [],
   "source": [
    "ejercicio_36(\"Analítica.Delfos\")"
   ]
  },
  {
   "cell_type": "code",
   "execution_count": null,
   "metadata": {},
   "outputs": [],
   "source": [
    "calificador.califica_ejercicio_36(ejercicio_36)"
   ]
  },
  {
   "cell_type": "code",
   "execution_count": 7,
   "metadata": {},
   "outputs": [],
   "source": [
    "@Controlador(\"4\", \"ejercicio_37\")\n",
    "def ejercicio_37(str):\n",
    "    \"\"\"\n",
    "    Instrucciones:\n",
    "        La función \"ejercicio_37\" toma el parámetro \"str\" y,\n",
    "        debe regresa la cadena de caracteres asignada a dicho \n",
    "        parámetro sin espacios en blanco en ambos extremos \n",
    "        del contenido de la misma.\n",
    "\n",
    "    Condiciones:\n",
    "        El tipo de dato del parámetro \"str\" debe ser cadena de caracteres.\n",
    "        Utiliza la el método .strip() para quitar los espacios en blanco de\n",
    "        ambos extremos de una cadena de caracteres.\n",
    "\n",
    "    Ejemplo:\n",
    "        Si str = \"   hola   \" la función regresa:\n",
    "        hola\n",
    "\n",
    "    Recuerda:\n",
    "        Lo que la función \"regresa\" es justo lo que va después \n",
    "        de la palabra reservada \"return\".\n",
    "        \n",
    "        Cuida la indentación.\n",
    "    \"\"\"\n",
    "\n",
    "    # Escribe aquí tu código ↓\n",
    "    \n",
    "\n",
    "    # Escribe aquí tu código ↑\n",
    "\n",
    "    return # ← Escribe aquí tu código"
   ]
  },
  {
   "cell_type": "code",
   "execution_count": null,
   "metadata": {},
   "outputs": [],
   "source": [
    "ejercicio_37(\" Hola mundo \")"
   ]
  },
  {
   "cell_type": "code",
   "execution_count": null,
   "metadata": {},
   "outputs": [],
   "source": [
    "calificador.califica_ejercicio_37(ejercicio_37)"
   ]
  },
  {
   "cell_type": "code",
   "execution_count": 9,
   "metadata": {},
   "outputs": [],
   "source": [
    "@Controlador(\"4\", \"ejercicio_38\")\n",
    "def ejercicio_38(str, x):\n",
    "    \"\"\"\n",
    "    Instrucciones:\n",
    "        La función \"ejercicio_38\" toma los parametros \"str\", \"x\" y,\n",
    "        debe regresar el índice del elemento contenido en \"x\" respecto\n",
    "        a su posición dentro de \"str\".\n",
    "\n",
    "    Condiciones:\n",
    "        El tipo de dato del parámetro \"str\" debe ser cadena de caracteres.\n",
    "        Utiliza la función index() para obtener el índice del elemento\n",
    "        indicado.\n",
    "\n",
    "    Ejemplo:\n",
    "        Si str=\"Bienvenido\" y x=\"v\" la función regresa 4:\n",
    "        \"Bienvenido\".index(\"v\") →  4\n",
    "        \n",
    "    Recuerda:\n",
    "        Lo que la función \"regresa\" es justo lo que va después \n",
    "        de la palabra reservada \"return\".\n",
    "        \n",
    "        Cuida la indentación.\n",
    "    \"\"\"\n",
    "\n",
    "    # Escribe aquí tu código ↓\n",
    "    \n",
    "\n",
    "    # Escribe aquí tu código ↑\n",
    "\n",
    "    return # ← Escribe aquí tu código"
   ]
  },
  {
   "cell_type": "code",
   "execution_count": null,
   "metadata": {},
   "outputs": [],
   "source": [
    "ejercicio_38(\"Delfos\", \"l\")"
   ]
  },
  {
   "cell_type": "code",
   "execution_count": null,
   "metadata": {},
   "outputs": [],
   "source": [
    "calificador.califica_ejercicio_38(ejercicio_38)"
   ]
  },
  {
   "cell_type": "code",
   "execution_count": 12,
   "metadata": {},
   "outputs": [],
   "source": [
    "@Controlador(\"4\", \"ejercicio_39\")\n",
    "def ejercicio_39(str, x, y):\n",
    "    \"\"\"\n",
    "     Instrucciones:\n",
    "        La función \"ejercicio_39\" toma los parametros \"str\", \"x\", \"y\"\n",
    "        y, debe regresar la cadena de \"str\" reemplazando el elemento\n",
    "        contenido en \"x\" por el elemento contenido en \"y\".\n",
    "\n",
    "    Condiciones:\n",
    "        El tipo de dato del parámetro \"str\" debe ser cadena de caracteres.\n",
    "        Utiliza el método .replace(\"x\", \"y\") para reemplazar el elemento \n",
    "        contenido en \"x\" por el elemento contenido en \"y\" de la cadena\n",
    "        de caracteres \"str\".\n",
    "\n",
    "    Ejemplo:\n",
    "        Si str=\"Pythan\", x=\"a\" y y=\"o\" la función regresa:\n",
    "        Python\n",
    "        \n",
    "    Recuerda:\n",
    "        Lo que la función \"regresa\" es justo lo que va después \n",
    "        de la palabra reservada \"return\".\n",
    "        \n",
    "        Cuida la indentación.\n",
    "    \"\"\"\n",
    "\n",
    "    # Escribe aquí tu código ↓\n",
    "    \n",
    "\n",
    "    # Escribe aquí tu código ↑\n",
    "\n",
    "    return # ← Escribe aquí tu código"
   ]
  },
  {
   "cell_type": "code",
   "execution_count": null,
   "metadata": {},
   "outputs": [],
   "source": [
    "ejercicio_39(\"Delfas\", \"a\", \"o\")"
   ]
  },
  {
   "cell_type": "code",
   "execution_count": null,
   "metadata": {},
   "outputs": [],
   "source": [
    "calificador.califica_ejercicio_39(ejercicio_39)"
   ]
  },
  {
   "cell_type": "code",
   "execution_count": 14,
   "metadata": {},
   "outputs": [],
   "source": [
    "@Controlador(\"4\", \"ejercicio_40\")\n",
    "def ejercicio_40(str, x):\n",
    "    \"\"\"\n",
    "    Instrucciones:\n",
    "        La función \"ejercicio_40\" toma los parametros \"str\", \"x\" y,\n",
    "        debe regresar la cadena del parámetro \"str\" con cada uno \n",
    "        de sus elementos unidos por medio del elemento contenido en \"x\".\n",
    "        \n",
    "    Condiciones:\n",
    "        El tipo de dato del parámetro \"str\" debe ser cadena de caracteres.\n",
    "        Utiliza el método x.join(str) el cuál regresa la cadena contenida\n",
    "         en \"x\" unida a cada uno de los elementos de la variable iterable \n",
    "         que recibe como argumento (en este caso la cadena de caracteres \"str\").\n",
    "\n",
    "    Ejemplo:\n",
    "        Si str=\"Python\" y x=\",\" la función regresa:\n",
    "        P,y,t,h,o,n\n",
    "        \n",
    "    Recuerda:\n",
    "        Lo que la función \"regresa\" es justo lo que va después \n",
    "        de la palabra reservada \"return\".\n",
    "        \n",
    "        Cuida la indentación.\n",
    "    \"\"\"\n",
    "\n",
    "    # Escribe aquí tu código ↓\n",
    "\n",
    "\n",
    "    # Escribe aquí tu código ↑\n",
    "\n",
    "    return # ← Escribe aquí tu código"
   ]
  },
  {
   "cell_type": "code",
   "execution_count": null,
   "metadata": {},
   "outputs": [],
   "source": [
    "ejercicio_40(\"Delfos\", \",\")"
   ]
  },
  {
   "cell_type": "code",
   "execution_count": null,
   "metadata": {},
   "outputs": [],
   "source": [
    "calificador.califica_ejercicio_40(ejercicio_40)"
   ]
  }
 ],
 "metadata": {
  "kernelspec": {
   "display_name": "infotec",
   "language": "python",
   "name": "python3"
  },
  "language_info": {
   "codemirror_mode": {
    "name": "ipython",
    "version": 3
   },
   "file_extension": ".py",
   "mimetype": "text/x-python",
   "name": "python",
   "nbconvert_exporter": "python",
   "pygments_lexer": "ipython3",
   "version": "3.10.10"
  }
 },
 "nbformat": 4,
 "nbformat_minor": 2
}
