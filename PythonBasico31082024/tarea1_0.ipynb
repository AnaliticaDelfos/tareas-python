{
 "cells": [
  {
   "cell_type": "code",
   "execution_count": 2,
   "metadata": {},
   "outputs": [],
   "source": [
    "#\n",
    "#\n",
    "# EJECUTAR ESTA CELDA CADA VEZ QUE ENTRES A HACER LA TAREA\n",
    "#\n",
    "#\n",
    "\n",
    "#####################################\n",
    "#  Operaciones aritméticas parte 1\n",
    "#####################################\n",
    "\n",
    "\n",
    "import calificador\n",
    "from controlador import Controlador"
   ]
  },
  {
   "cell_type": "code",
   "execution_count": 3,
   "metadata": {},
   "outputs": [],
   "source": [
    "@Controlador(\"1\", \"ejercicio_1\")\n",
    "def ejercicio_1(numero1, numero2):\n",
    "    \"\"\"\n",
    "    Instrucciones:\n",
    "        La función \"ejercicio_1\" toma los parámetros \n",
    "        \"numero1\" y \"numero2\", y debe regresar el resultado\n",
    "        de restar \"numero1\" menos \"numero2\"\n",
    "    \n",
    "    Ejemplo:\n",
    "        Para un caso en el que numero1 = 20 y numero2 = 10,\n",
    "        la función regresa un 10:\n",
    "        20 - 10 = 10\n",
    "\n",
    "    Recuerda:\n",
    "        Lo que la función \"regresa\" es justo lo que\n",
    "        va después de la palabra reservada \"return\".\n",
    "        \n",
    "        Cuida la indentación.\n",
    "    \"\"\"\n",
    "\n",
    "    # Escribe aquí tu código ↓\n",
    "    \n",
    "\n",
    "    # Escribe aquí tu código ↑\n",
    "    \n",
    "    return # ← Escribe aquí tu código"
   ]
  },
  {
   "cell_type": "code",
   "execution_count": null,
   "metadata": {},
   "outputs": [],
   "source": [
    "ejercicio_1(10, 4)"
   ]
  },
  {
   "cell_type": "code",
   "execution_count": null,
   "metadata": {},
   "outputs": [],
   "source": [
    "calificador.califica_ejercicio_1(ejercicio_1)"
   ]
  },
  {
   "cell_type": "code",
   "execution_count": 3,
   "metadata": {},
   "outputs": [],
   "source": [
    "@Controlador(\"1\", \"ejercicio_2\")\n",
    "def ejercicio_2(numero1, numero2, numero3):\n",
    "    \"\"\"\n",
    "    Instrucciones:\n",
    "        La función \"ejercicio_2\" toma los parámetros\n",
    "        \"numero1\", \"numero2\" y \"numero3\", y debe \n",
    "        regresar el resultado de la suma de \"numero1\" \n",
    "        con \"numero2\" menos \"numero3\".\n",
    "\n",
    "    Ejemplo:\n",
    "        Si numero1 = 10, numero2 = 5 y numero3 = 5\n",
    "        la función regresa un 10:\n",
    "        10 + 5 = 15\n",
    "        15 - 5 = 10\n",
    "\n",
    "    Recuerda:\n",
    "        Cuida la indentación.\n",
    "    \"\"\"\n",
    "\n",
    "    # Escribe aquí tu código ↓\n",
    "    \n",
    "\n",
    "    # Escribe aquí tu código ↑\n",
    "    \n",
    "    return # ← Escribe aquí tu código"
   ]
  },
  {
   "cell_type": "code",
   "execution_count": null,
   "metadata": {},
   "outputs": [],
   "source": [
    "ejercicio_2(2,2,1)"
   ]
  },
  {
   "cell_type": "code",
   "execution_count": null,
   "metadata": {},
   "outputs": [],
   "source": [
    "calificador.califica_ejercicio_2(ejercicio_2)"
   ]
  },
  {
   "cell_type": "code",
   "execution_count": 5,
   "metadata": {},
   "outputs": [],
   "source": [
    "@Controlador(\"1\", \"ejercicio_3\")\n",
    "def ejercicio_3(numero1, numero2, numero3):\n",
    "    \"\"\"\n",
    "    Instrucciones:\n",
    "        La función \"ejercicio_3\" toma los parámetros\n",
    "        \"numero1\", \"numero2\" y \"numero3\", y debe regresar\n",
    "        el resultado de sumar \"numero1\" más \"numero2\" y a \n",
    "        la cifra resultante multiplicarla por \"número3\".\n",
    "\n",
    "    Ejemplo:\n",
    "        Si numero1 = 10, numero2 = 1 y numero3 = 2\n",
    "        la función regresa un 22:\n",
    "        10 + 1 = 11\n",
    "        11 * 2 = 22\n",
    "\n",
    "    Recuerda:\n",
    "        Cuida la indentación.\n",
    "    \"\"\"\n",
    "\n",
    "    # Escribe aquí tu código ↓\n",
    "    \n",
    "\n",
    "    # Escribe aquí tu código ↑\n",
    "    \n",
    "    return # ← Escribe aquí tu código"
   ]
  },
  {
   "cell_type": "code",
   "execution_count": null,
   "metadata": {},
   "outputs": [],
   "source": [
    "ejercicio_3(5,5,2)"
   ]
  },
  {
   "cell_type": "code",
   "execution_count": null,
   "metadata": {},
   "outputs": [],
   "source": [
    "calificador.califica_ejercicio_3(ejercicio_3)"
   ]
  },
  {
   "cell_type": "code",
   "execution_count": 7,
   "metadata": {},
   "outputs": [],
   "source": [
    "@Controlador(\"1\", \"ejercicio_4\")\n",
    "def ejercicio_4(numero1, numero2):\n",
    "    \"\"\"\n",
    "    Instrucciones:\n",
    "        La función \"ejercicio_4\" toma los parámetros \n",
    "        \"numero1\" y \"numero2\", y debe regresar el resultado\n",
    "        de dividir \"numero2\" entre \"numero1\".\n",
    "\n",
    "    Ejemplo:\n",
    "        Si numero1 = 5 y numero2 = 30 la función regresa 6:\n",
    "        30 / 5 = 6\n",
    "\n",
    "    Recuerda:\n",
    "        Cuida la indentación.\n",
    "    \"\"\"\n",
    "\n",
    "    # Escribe aquí tu código ↓\n",
    "    \n",
    "\n",
    "    # Escribe aquí tu código ↑\n",
    "    \n",
    "    return # ← Escribe aquí tu código"
   ]
  },
  {
   "cell_type": "code",
   "execution_count": null,
   "metadata": {},
   "outputs": [],
   "source": [
    "ejercicio_4(10, 2)"
   ]
  },
  {
   "cell_type": "code",
   "execution_count": null,
   "metadata": {},
   "outputs": [],
   "source": [
    "calificador.califica_ejercicio_4(ejercicio_4)"
   ]
  },
  {
   "cell_type": "code",
   "execution_count": 9,
   "metadata": {},
   "outputs": [],
   "source": [
    "@Controlador(\"1\", \"ejercicio_5\")\n",
    "def ejercicio_5(numero1, numero2):\n",
    "    \"\"\"\n",
    "    Instrucciones:\n",
    "        La función \"ejercicio_5\" toma los parámetros\n",
    "        \"numero1\" y \"numero2\", y debe regresar el resultado\n",
    "        de elevar \"numero2\" a la potencia de \"numero1\".\n",
    "        \n",
    "    Ejemplo:\n",
    "        Si numero1 = 3 y numero2 = 2 la función regresa 8:\n",
    "        2 ** 3 = 8\n",
    "\n",
    "    Recuerda:\n",
    "        Cuida la indentación.\n",
    "    \"\"\"\n",
    "\n",
    "\n",
    "    # Escribe aquí tu código ↓\n",
    "    \n",
    "\n",
    "    # Escribe aquí tu código ↑\n",
    "    \n",
    "    return # ← Escribe aquí tu código"
   ]
  },
  {
   "cell_type": "code",
   "execution_count": null,
   "metadata": {},
   "outputs": [],
   "source": [
    "ejercicio_5(2, 5)"
   ]
  },
  {
   "cell_type": "code",
   "execution_count": null,
   "metadata": {},
   "outputs": [],
   "source": [
    "calificador.califica_ejercicio_5(ejercicio_5)"
   ]
  },
  {
   "cell_type": "code",
   "execution_count": 11,
   "metadata": {},
   "outputs": [],
   "source": [
    "@Controlador(\"1\", \"ejercicio_6\")\n",
    "def ejercicio_6(numero1):\n",
    "    \"\"\"\n",
    "    Instrucciones:\n",
    "        La función \"ejercicio_6\" toma el parámetro \n",
    "        \"numero1\", y debe regresar el resultado de elevar\n",
    "        \"numero1\" a la cuarta potencia.\n",
    "\n",
    "    Ejemplo:\n",
    "        Si numero1 = 3 la función regresa 81.\n",
    "\n",
    "    Recuerda:\n",
    "        Cuida la indentación.\n",
    "    \"\"\"\n",
    "\n",
    "    # Escribe aquí tu código ↓\n",
    "    \n",
    "\n",
    "    # Escribe aquí tu código ↑\n",
    "    \n",
    "    return # ← Escribe aquí tu código"
   ]
  },
  {
   "cell_type": "code",
   "execution_count": null,
   "metadata": {},
   "outputs": [],
   "source": [
    "ejercicio_6(2)"
   ]
  },
  {
   "cell_type": "code",
   "execution_count": null,
   "metadata": {},
   "outputs": [],
   "source": [
    "calificador.califica_ejercicio_6(ejercicio_6)"
   ]
  },
  {
   "cell_type": "code",
   "execution_count": 13,
   "metadata": {},
   "outputs": [],
   "source": [
    "@Controlador(\"1\", \"ejercicio_7\")\n",
    "def ejercicio_7(numero1, numero2):\n",
    "    \"\"\"\n",
    "    Instrucciones:\n",
    "        La función \"ejercicio_7\" toma los parámetros \"numero1\"\n",
    "        y \"numero2\", y debe regresar el resultado de\n",
    "        elevar \"numero1\" al cuadrado menos \"numero2\".\n",
    "\n",
    "    Ejemplo:\n",
    "        Si numero1 = 2 y numero2 = 1 la función regresa 3:\n",
    "        2 ** 2 = 4\n",
    "        4 - 1 = 3\n",
    "\n",
    "    Recuerda:\n",
    "        Cuida la indentación.\n",
    "    \"\"\"\n",
    "    # Escribe aquí tu código ↓\n",
    "    \n",
    "\n",
    "    # Escribe aquí tu código ↑\n",
    "\n",
    "    return # ← Escribe aquí tu código"
   ]
  },
  {
   "cell_type": "code",
   "execution_count": null,
   "metadata": {},
   "outputs": [],
   "source": [
    "ejercicio_7(5, 5)"
   ]
  },
  {
   "cell_type": "code",
   "execution_count": null,
   "metadata": {},
   "outputs": [],
   "source": [
    "calificador.califica_ejercicio_7(ejercicio_7)"
   ]
  },
  {
   "cell_type": "code",
   "execution_count": 15,
   "metadata": {},
   "outputs": [],
   "source": [
    "@Controlador(\"1\", \"ejercicio_8\")\n",
    "def ejercicio_8(numero1, numero2):\n",
    "    \"\"\"\n",
    "    Instrucciones:\n",
    "        La función \"ejercicio_8\" toma los parámetros\n",
    "        \"numero1\" y \"numero2\", y debe regresar el resultado\n",
    "        de dividir \"numero2\" entre 2 y despues sumarle \"numero1\".\n",
    "\n",
    "    Ejemplo:\n",
    "        Si numero1 = 5 y numero2 = 10 la función regresa 10:\n",
    "        10 / 2 = 5\n",
    "        5 + 5 = 10\n",
    "\n",
    "    Recuerda:\n",
    "        Cuida la indentación.\n",
    "    \"\"\"\n",
    "    # Escribe aquí tu código ↓\n",
    "    \n",
    "\n",
    "    # Escribe aquí tu código ↑\n",
    "    \n",
    "    return # ← Escribe aquí tu código"
   ]
  },
  {
   "cell_type": "code",
   "execution_count": null,
   "metadata": {},
   "outputs": [],
   "source": [
    "ejercicio_8(3, 20)"
   ]
  },
  {
   "cell_type": "code",
   "execution_count": null,
   "metadata": {},
   "outputs": [],
   "source": [
    "calificador.califica_ejercicio_8(ejercicio_8)"
   ]
  },
  {
   "cell_type": "code",
   "execution_count": 19,
   "metadata": {},
   "outputs": [],
   "source": [
    "@Controlador(\"1\", \"ejercicio_9\")\n",
    "def ejercicio_9(numero1):\n",
    "    \"\"\"\n",
    "    Instrucciones:\n",
    "        La función \"ejercicio_9\" toma el parámetro\n",
    "        \"numero1\", y debe regresar el resultado de\n",
    "        obtener el valor absoluto de \"numero1\".\n",
    "\n",
    "    Ejemplo:\n",
    "        Si numero1 = -5 la función regresa 5.\n",
    "\n",
    "    Recuerda:\n",
    "        La función abs() sirve para calcular el valor\n",
    "        absoluto de un número.\n",
    "        \n",
    "        Cuida la indentación.\n",
    "    \"\"\"\n",
    "    # Escribe aquí tu código ↓\n",
    "    \n",
    "\n",
    "    # Escribe aquí tu código ↑\n",
    "    \n",
    "    return # ← Escribe aquí tu código"
   ]
  },
  {
   "cell_type": "code",
   "execution_count": null,
   "metadata": {},
   "outputs": [],
   "source": [
    "ejercicio_9(-10)"
   ]
  },
  {
   "cell_type": "code",
   "execution_count": null,
   "metadata": {},
   "outputs": [],
   "source": [
    "calificador.califica_ejercicio_9(ejercicio_9)"
   ]
  },
  {
   "cell_type": "code",
   "execution_count": 21,
   "metadata": {},
   "outputs": [],
   "source": [
    "@Controlador(\"1\", \"ejercicio_10\")\n",
    "def ejercicio_10(numero1):\n",
    "    \"\"\"\n",
    "    Instrucciones:\n",
    "        La función \"ejercicio_10\" toma el parámetro \"numero1\", \n",
    "        y debe regresar su raíz cúbica.\n",
    "\n",
    "    Ejemplo:\n",
    "        Si numero1 = 27 la función regresa 3.\n",
    "\n",
    "    Restricciones:\n",
    "        No importar ninguna librería adicional.\n",
    "\n",
    "    Recuerda:\n",
    "        Matemáticamente hablando, la raíz cuadrada de un \n",
    "        número se puede obtener al elevar dicho numero a \n",
    "        la potencia de 1/2, igual que la raíz cúbica de \n",
    "        un número se puede obtener al elevar dicho numero\n",
    "        a la potencia de 1/3, y así sucesivamente. \n",
    "        \n",
    "        Cuida la indentación.\n",
    "    \"\"\"\n",
    "    # Escribe aquí tu código ↓\n",
    "    \n",
    "\n",
    "    # Escribe aquí tu código ↑\n",
    "    \n",
    "    return # ← Escribe aquí tu código"
   ]
  },
  {
   "cell_type": "code",
   "execution_count": null,
   "metadata": {},
   "outputs": [],
   "source": [
    "ejercicio_10(8)"
   ]
  },
  {
   "cell_type": "code",
   "execution_count": null,
   "metadata": {},
   "outputs": [],
   "source": [
    "calificador.califica_ejercicio_10(ejercicio_10)"
   ]
  }
 ],
 "metadata": {
  "kernelspec": {
   "display_name": "infotec",
   "language": "python",
   "name": "python3"
  },
  "language_info": {
   "codemirror_mode": {
    "name": "ipython",
    "version": 3
   },
   "file_extension": ".py",
   "mimetype": "text/x-python",
   "name": "python",
   "nbconvert_exporter": "python",
   "pygments_lexer": "ipython3",
   "version": "3.10.10"
  }
 },
 "nbformat": 4,
 "nbformat_minor": 2
}
