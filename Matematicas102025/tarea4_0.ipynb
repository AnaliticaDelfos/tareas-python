{
 "cells": [
  {
   "cell_type": "markdown",
   "metadata": {},
   "source": [
    "<center><img src=\"Analitica delfos-06.jpg\" width=\"200\" height=\"160\" style=\"margin:auto\"/></center>"
   ]
  },
  {
   "cell_type": "code",
   "execution_count": null,
   "metadata": {},
   "outputs": [],
   "source": [
    "#\n",
    "#\n",
    "# EJECUTAR ESTA CELDA CADA VEZ QUE ENTRES A HACER LA TAREA\n",
    "#\n",
    "#\n",
    "\n",
    "#####################################\n",
    "# Cadenas de caracteres\n",
    "#####################################\n",
    "\n",
    "\n",
    "import calificador\n",
    "from controlador import Controlador"
   ]
  },
  {
   "cell_type": "code",
   "execution_count": null,
   "metadata": {},
   "outputs": [],
   "source": [
    "@Controlador(\"4\", \"ejercicio_31\")\n",
    "def ejercicio_31(str):\n",
    "    \"\"\"\n",
    "    Instrucciones:\n",
    "        La función \"ejercicio_31\" toma el parámetro \"str\" y,\n",
    "        debe regresar la longitud (número total de caracteres)\n",
    "        de dicho parámetro.\n",
    "\n",
    "    Condiciones:\n",
    "        El tipo de dato de dicho parámetro debe ser string.\n",
    "\n",
    "    Ejemplo:\n",
    "        Si str = \"Analítica Delfos\" la función regresa:\n",
    "        16\n",
    "\n",
    "    Recuerda:\n",
    "        Utiliza la función len().\n",
    "        \n",
    "        Lo que la función \"regresa\" es justo lo que va después \n",
    "        de la palabra reservada \"return\".\n",
    "        \n",
    "        Cuida la indentación.\n",
    "    \"\"\"\n",
    "\n",
    "    # Escribe aquí tu código ↓\n",
    "    \n",
    "\n",
    "    # Escribe aquí tu código ↑\n",
    "\n",
    "    return # ← Escribe aquí tu código"
   ]
  },
  {
   "cell_type": "code",
   "execution_count": null,
   "metadata": {},
   "outputs": [],
   "source": [
    "ejercicio_31(\"Analítica Delfos\")"
   ]
  },
  {
   "cell_type": "code",
   "execution_count": null,
   "metadata": {},
   "outputs": [],
   "source": [
    "calificador.califica_ejercicio_31(ejercicio_31)"
   ]
  },
  {
   "cell_type": "code",
   "execution_count": null,
   "metadata": {},
   "outputs": [],
   "source": [
    "@Controlador(\"4\", \"ejercicio_32\")\n",
    "def ejercicio_32(str):\n",
    "    \"\"\"\n",
    "     Instrucciones:\n",
    "        La función \"ejercicio_32\" toma el parámetro \"str\" y,\n",
    "        regresa una cadena de caracteres en formato oración\n",
    "        (primera letra en mayúsculas y el resto en minúsculas)\n",
    "        cuando \"str\" contiene elementos alfabéticos.\n",
    "\n",
    "    Condiciones:\n",
    "        El tipo de dato de dicho parámetro debe ser string.\n",
    "\n",
    "    Ejemplo:\n",
    "        Si str = \"holA MuNDo\" la función regresa:\n",
    "        Hola mundo\n",
    "\n",
    "    Recuerda:\n",
    "        Utiliza el método .capitalize()\n",
    "        \n",
    "        Lo que la función \"regresa\" es justo lo que va después \n",
    "        de la palabra reservada \"return\".\n",
    "        \n",
    "        Cuida la indentación.\n",
    "    \"\"\"\n",
    "\n",
    "    # Escribe aquí tu código ↓\n",
    "    \n",
    "\n",
    "    # Escribe aquí tu código ↑\n",
    "\n",
    "    return # ← Escribe aquí tu código"
   ]
  },
  {
   "cell_type": "code",
   "execution_count": null,
   "metadata": {},
   "outputs": [],
   "source": [
    "ejercicio_32(\"holA MuNDo\")"
   ]
  },
  {
   "cell_type": "code",
   "execution_count": null,
   "metadata": {},
   "outputs": [],
   "source": [
    "calificador.califica_ejercicio_32(ejercicio_32)"
   ]
  },
  {
   "cell_type": "code",
   "execution_count": null,
   "metadata": {},
   "outputs": [],
   "source": [
    "@Controlador(\"4\", \"ejercicio_33\")\n",
    "def ejercicio_33(str):\n",
    "    \"\"\"\n",
    "    Instrucciones:\n",
    "        La función \"ejercicio_33\" toma el parámetro \"str\" y,\n",
    "        regresa todos los elementos alfabéticos de dicho \n",
    "        parámetro convertidos a minúsculas.\n",
    "\n",
    "    Condiciones:\n",
    "        El tipo de dato de dicho parámetro debe ser string.\n",
    "\n",
    "    Ejemplo:\n",
    "        Si str = \"DELFOS\" la función regresa:\n",
    "        delfos\n",
    "\n",
    "    Recuerda:\n",
    "        Utiliza el método .lower()\n",
    "        \n",
    "        Lo que la función \"regresa\" es justo lo que va después \n",
    "        de la palabra reservada \"return\".\n",
    "        \n",
    "        Cuida la indentación.\n",
    "    \"\"\"\n",
    "\n",
    "    # Escribe aquí tu código ↓\n",
    "    \n",
    "\n",
    "    # Escribe aquí tu código ↑\n",
    "\n",
    "    return # ← Escribe aquí tu código"
   ]
  },
  {
   "cell_type": "code",
   "execution_count": null,
   "metadata": {},
   "outputs": [],
   "source": [
    "ejercicio_33(\"DELFOS\")"
   ]
  },
  {
   "cell_type": "code",
   "execution_count": null,
   "metadata": {},
   "outputs": [],
   "source": [
    "calificador.califica_ejercicio_33(ejercicio_33)"
   ]
  },
  {
   "cell_type": "code",
   "execution_count": null,
   "metadata": {},
   "outputs": [],
   "source": [
    "@Controlador(\"4\", \"ejercicio_34\")\n",
    "def ejercicio_34(str):\n",
    "    \"\"\"\n",
    "    Instrucciones:\n",
    "        La función \"ejercicio_34\" toma el parámetro \"str\" y,\n",
    "        regresa todos los elementos alfabéticos de dicho \n",
    "        parámetro convertidos a mayúsculas.\n",
    "\n",
    "    Condiciones:\n",
    "        El tipo de dato de dicho parámetro debe ser string.\n",
    "\n",
    "    Ejemplo:\n",
    "        Si str = \"Hola MUNdO\" la función regresa:\n",
    "        HOLA MUNDO\n",
    "\n",
    "    Recuerda:\n",
    "        Utiliza el método .upper()\n",
    "        \n",
    "        Lo que la función \"regresa\" es justo lo que va después \n",
    "        de la palabra reservada \"return\".\n",
    "        \n",
    "        Cuida la indentación.\n",
    "    \"\"\"\n",
    "\n",
    "    # Escribe aquí tu código ↓\n",
    "    \n",
    "\n",
    "    # Escribe aquí tu código ↑\n",
    "\n",
    "    return # ← Escribe aquí tu código"
   ]
  },
  {
   "cell_type": "code",
   "execution_count": null,
   "metadata": {},
   "outputs": [],
   "source": [
    "ejercicio_34(\"Hola MUNdO\")"
   ]
  },
  {
   "cell_type": "code",
   "execution_count": null,
   "metadata": {},
   "outputs": [],
   "source": [
    "calificador.califica_ejercicio_34(ejercicio_34)"
   ]
  },
  {
   "cell_type": "code",
   "execution_count": null,
   "metadata": {},
   "outputs": [],
   "source": [
    "@Controlador(\"4\", \"ejercicio_35\")\n",
    "def ejercicio_35(str):\n",
    "    \"\"\"\n",
    "    Instrucciones:\n",
    "        La función \"ejercicio_35\" toma el parámetro \"str\" y,\n",
    "        debe regresar la representación en lista de los elementos\n",
    "        de dicho parámetro.\n",
    "\n",
    "    Condiciones:\n",
    "        El tipo de dato del parámetro \"str\" debe ser cadena de caracteres.\n",
    "        Utiliza la función list().\n",
    "\n",
    "    Ejemplo:\n",
    "        Si str = \"Python\" la función regresa:\n",
    "        ['P', 'y', 't', 'h', 'o', 'n']\n",
    "\n",
    "    Recuerda:\n",
    "        Lo que la función \"regresa\" es justo lo que va después \n",
    "        de la palabra reservada \"return\".\n",
    "        \n",
    "        Cuida la indentación.\n",
    "    \"\"\"\n",
    "\n",
    "    # Escribe aquí tu código ↓\n",
    "    \n",
    "\n",
    "    # Escribe aquí tu código ↑\n",
    "\n",
    "    return # ← Escribe aquí tu código"
   ]
  },
  {
   "cell_type": "code",
   "execution_count": null,
   "metadata": {},
   "outputs": [],
   "source": [
    "ejercicio_35(\"Hola mundo\")"
   ]
  },
  {
   "cell_type": "code",
   "execution_count": null,
   "metadata": {},
   "outputs": [],
   "source": [
    "calificador.califica_ejercicio_35(ejercicio_35)"
   ]
  },
  {
   "cell_type": "code",
   "execution_count": null,
   "metadata": {},
   "outputs": [],
   "source": [
    "@Controlador(\"4\", \"ejercicio_36\")\n",
    "def ejercicio_36(str):\n",
    "    \"\"\"\n",
    "    Instrucciones:\n",
    "        La función \"ejercicio_36\" toma el parámetro \"str\" y,\n",
    "        debe regresar una lista de subcadenas de caracteres.\n",
    "\n",
    "    Condiciones:\n",
    "        El tipo de dato del parámetro \"str\" debe ser cadena de caracteres.\n",
    "        Para este ejercicio la cadena de caracteres recibida contendra puntos\n",
    "        que utilizaremos como elemento separador para generar subcadenas (fuera\n",
    "        de este ejemplo, el \"elemento separador\" puede ser cualquier elemento).\n",
    "        Utiliza el método split: str.split(\"elemento separador\").\n",
    "\n",
    "    Ejemplo:\n",
    "        Si str = \"bienvenido.mucho.gusto\" la función regresa ['bienvenido', 'mucho', 'gusto']:\n",
    "         \"bienvenido.mucho.gusto\".split(\".\") → ['bienvenido', 'mucho', 'gusto']\n",
    "\n",
    "    Recuerda:\n",
    "        Lo que la función \"regresa\" es justo lo que va después \n",
    "        de la palabra reservada \"return\".\n",
    "        \n",
    "        Cuida la indentación.\n",
    "    \"\"\"\n",
    "\n",
    "    # Escribe aquí tu código ↓\n",
    "    \n",
    "\n",
    "    # Escribe aquí tu código ↑\n",
    "\n",
    "    return # ← Escribe aquí tu código"
   ]
  },
  {
   "cell_type": "code",
   "execution_count": null,
   "metadata": {},
   "outputs": [],
   "source": [
    "ejercicio_36(\"Hola.como.estas\")"
   ]
  },
  {
   "cell_type": "code",
   "execution_count": null,
   "metadata": {},
   "outputs": [],
   "source": [
    "calificador.califica_ejercicio_36(ejercicio_36)"
   ]
  },
  {
   "cell_type": "code",
   "execution_count": null,
   "metadata": {},
   "outputs": [],
   "source": [
    "@Controlador(\"4\", \"ejercicio_37\")\n",
    "def ejercicio_37(str):\n",
    "    \"\"\"\n",
    "    Instrucciones:\n",
    "        La función \"ejercicio_37\" toma el parámetro \"str\" y,\n",
    "        debe regresa la cadena de caracteres asignada a dicho \n",
    "        parámetro sin espacios en blanco en ambos extremos \n",
    "        del contenido de la misma.\n",
    "\n",
    "    Condiciones:\n",
    "        El tipo de dato del parámetro \"str\" debe ser cadena de caracteres.\n",
    "        Utiliza la el método .strip() para quitar los espacios en blanco de\n",
    "        ambos extremos de una cadena de caracteres.\n",
    "\n",
    "    Ejemplo:\n",
    "        Si str = \"   hola   \" la función regresa:\n",
    "        hola\n",
    "\n",
    "    Recuerda:\n",
    "        Lo que la función \"regresa\" es justo lo que va después \n",
    "        de la palabra reservada \"return\".\n",
    "        \n",
    "        Cuida la indentación.\n",
    "    \"\"\"\n",
    "\n",
    "    # Escribe aquí tu código ↓\n",
    "    \n",
    "\n",
    "    # Escribe aquí tu código ↑\n",
    "\n",
    "    return # ← Escribe aquí tu código"
   ]
  },
  {
   "cell_type": "code",
   "execution_count": null,
   "metadata": {},
   "outputs": [],
   "source": [
    "ejercicio_37(\"Buen día   \")"
   ]
  },
  {
   "cell_type": "code",
   "execution_count": null,
   "metadata": {},
   "outputs": [],
   "source": [
    "calificador.califica_ejercicio_37(ejercicio_37)"
   ]
  },
  {
   "cell_type": "code",
   "execution_count": null,
   "metadata": {},
   "outputs": [],
   "source": [
    "@Controlador(\"4\", \"ejercicio_38\")\n",
    "def ejercicio_38(str):\n",
    "    \"\"\"\n",
    "    Instrucciones:\n",
    "        La función \"ejercicio_38\" toma el parámetro \"str\" y,\n",
    "        regresa el valor de verdad True si \"str\" esta formado \n",
    "        únicamente por caracteres numéricos y False de lo\n",
    "        contrario.\n",
    "\n",
    "    Condiciones:\n",
    "        El tipo de dato de dicho parámetro debe ser string.\n",
    "\n",
    "    Ejemplo:\n",
    "        Si str = \"101\" la función regresa:\n",
    "        True\n",
    "\n",
    "    Recuerda:\n",
    "        Utiliza el método .isdigit())\n",
    "        \n",
    "        Lo que la función \"regresa\" es justo lo que va después \n",
    "        de la palabra reservada \"return\".\n",
    "        \n",
    "        Cuida la indentación.\n",
    "    \"\"\"\n",
    "\n",
    "    # Escribe aquí tu código ↓\n",
    "    \n",
    "\n",
    "    # Escribe aquí tu código ↑\n",
    "\n",
    "    return # ← Escribe aquí tu código"
   ]
  },
  {
   "cell_type": "code",
   "execution_count": null,
   "metadata": {},
   "outputs": [],
   "source": [
    "ejercicio_38(\"1000\")"
   ]
  },
  {
   "cell_type": "code",
   "execution_count": null,
   "metadata": {},
   "outputs": [],
   "source": [
    "calificador.califica_ejercicio_38(ejercicio_38)"
   ]
  },
  {
   "cell_type": "code",
   "execution_count": null,
   "metadata": {},
   "outputs": [],
   "source": [
    "@Controlador(\"4\", \"ejercicio_39\")\n",
    "def ejercicio_39(str1, str2):\n",
    "    \"\"\"\n",
    "    Instrucciones:\n",
    "        La función \"ejercicio_39\" toma el parámetro \"str1\", \n",
    "        \"str2\" y, regresa el total de veces que aparece la \n",
    "        subcadena \"str2\" en la cadena \"str1\".\n",
    "\n",
    "    Condiciones:\n",
    "        El tipo de dato de dicho parámetro debe ser string.\n",
    "        La cadena y subcadena \"str1\" y \"str2\" correspondientemente\n",
    "        deben ser cadenas alfabéticas.\n",
    "        Utiliza el método .count() que recibe por argumento\n",
    "        la subcadena cuya aparición en la cadena de caracteres\n",
    "        a la que es aplicado dicho método debe contar.\n",
    "\n",
    "    Ejemplo:\n",
    "        Si str1 = \"Bello camello\" y str2 = \"ello\" la función regresa:\n",
    "        2\n",
    "\n",
    "    Recuerda:        \n",
    "        Lo que la función \"regresa\" es justo lo que va después \n",
    "        de la palabra reservada \"return\".\n",
    "        \n",
    "        Cuida la indentación\n",
    "    \"\"\"\n",
    "\n",
    "    # Escribe aquí tu código ↓\n",
    "\n",
    "\n",
    "    # Escribe aquí tu código ↑\n",
    "\n",
    "    return # ← Escribe aquí tu código"
   ]
  },
  {
   "cell_type": "code",
   "execution_count": null,
   "metadata": {},
   "outputs": [],
   "source": [
    "ejercicio_39(\"Hola mundo\", \"mundo\")"
   ]
  },
  {
   "cell_type": "code",
   "execution_count": null,
   "metadata": {},
   "outputs": [],
   "source": [
    "calificador.califica_ejercicio_39(ejercicio_39)"
   ]
  },
  {
   "cell_type": "code",
   "execution_count": null,
   "metadata": {},
   "outputs": [],
   "source": [
    "@Controlador(\"4\", \"ejercicio_40\")\n",
    "def ejercicio_40(str, x, y):\n",
    "    \"\"\"\n",
    "    Instrucciones:\n",
    "        La función \"ejercicio_40\" toma los parametros \"str\", \"x\", \"y\"\n",
    "        y, debe regresar la cadena de \"str\" reemplazando el elemento\n",
    "        contenido en \"x\" por el elemento contenido en \"y\".\n",
    "\n",
    "    Condiciones:\n",
    "        El tipo de dato del parámetro \"str\" debe ser cadena de caracteres.\n",
    "        Utiliza el método .replace(\"x\", \"y\") para reemplazar el elemento \n",
    "        contenido en \"x\" por el elemento contenido en \"y\" de la cadena\n",
    "        de caracteres \"str\".\n",
    "\n",
    "    Ejemplo:\n",
    "        Si str=\"Pythan\", x=\"a\" y y=\"o\" la función regresa:\n",
    "        Python\n",
    "        \n",
    "    Recuerda:\n",
    "        Lo que la función \"regresa\" es justo lo que va después \n",
    "        de la palabra reservada \"return\".\n",
    "        \n",
    "        Cuida la indentación.\n",
    "    \"\"\"\n",
    "\n",
    "    # Escribe aquí tu código ↓\n",
    "\n",
    "\n",
    "    # Escribe aquí tu código ↑\n",
    "\n",
    "    return # ← Escribe aquí tu código"
   ]
  },
  {
   "cell_type": "code",
   "execution_count": null,
   "metadata": {},
   "outputs": [],
   "source": [
    "ejercicio_40(\"dío\", \"o\", \"a\")"
   ]
  },
  {
   "cell_type": "code",
   "execution_count": null,
   "metadata": {},
   "outputs": [],
   "source": [
    "calificador.califica_ejercicio_40(ejercicio_40)"
   ]
  }
 ],
 "metadata": {
  "kernelspec": {
   "display_name": "infotec",
   "language": "python",
   "name": "python3"
  },
  "language_info": {
   "codemirror_mode": {
    "name": "ipython",
    "version": 3
   },
   "file_extension": ".py",
   "mimetype": "text/x-python",
   "name": "python",
   "nbconvert_exporter": "python",
   "pygments_lexer": "ipython3",
   "version": "3.11.5"
  }
 },
 "nbformat": 4,
 "nbformat_minor": 2
}
