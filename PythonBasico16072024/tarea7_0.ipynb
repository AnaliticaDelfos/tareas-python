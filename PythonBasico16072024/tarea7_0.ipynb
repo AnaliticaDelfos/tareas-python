{
 "cells": [
  {
   "cell_type": "code",
   "execution_count": null,
   "metadata": {},
   "outputs": [],
   "source": [
    "#\n",
    "#\n",
    "# EJECUTAR ESTA CELDA CADA VEZ QUE ENTRES A HACER LA TAREA\n",
    "#\n",
    "#\n",
    "\n",
    "#####################################\n",
    "# Estructuras de datos\n",
    "#####################################\n",
    "\n",
    "\n",
    "import calificador\n",
    "from controlador import Controlador"
   ]
  },
  {
   "cell_type": "code",
   "execution_count": null,
   "metadata": {},
   "outputs": [],
   "source": [
    "@Controlador(\"7\", \"ejercicio_61\")\n",
    "def ejercicio_61():\n",
    "    \"\"\"\n",
    "    Instrucciones:\n",
    "        La función \"ejercicio_61\" no toma ningún parámetro\n",
    "        y regresa una lista con los elementos: \"Hola\", \"mundo\"\n",
    "        es decir, debe regresar una lista con 2 cadenas de\n",
    "        caracteres. \n",
    "        \n",
    "    Recuerda:\n",
    "        Lo que la función \"regresa\" es justo lo que va después \n",
    "        de la palabra reservada \"return\".\n",
    "        \n",
    "        Cuida la indentación\n",
    "    \"\"\"\n",
    "    \n",
    "    # Escribe aquí tu código ↓\n",
    "    \n",
    "    \n",
    "    # Escribe aquí tu código ↑\n",
    "    \n",
    "    return # ← Escribe aquí tu código\n"
   ]
  },
  {
   "cell_type": "code",
   "execution_count": null,
   "metadata": {},
   "outputs": [],
   "source": [
    "calificador.califica_ejercicio_61(ejercicio_61)"
   ]
  },
  {
   "cell_type": "code",
   "execution_count": null,
   "metadata": {},
   "outputs": [],
   "source": [
    "@Controlador(\"7\", \"ejercicio_62\")\n",
    "def ejercicio_62():\n",
    "    \"\"\"\n",
    "    Instrucciones:\n",
    "        La función \"ejercicio_62\" no toma ningún parámetro\n",
    "        y regresa una tupla con los elementos: 1,2,3,[4,5]\n",
    "        es decir, debe regresar una tupla con cuatro elementos\n",
    "        de los cuales tres son un número entero y uno es una\n",
    "        lista de dos elementos.\n",
    "        \n",
    "    Recuerda:\n",
    "        Lo que la función \"regresa\" es justo lo que va después \n",
    "        de la palabra reservada \"return\".\n",
    "        \n",
    "        Cuida la indentación\n",
    "    \"\"\"\n",
    "    \n",
    "    # Escribe aquí tu código ↓\n",
    "    \n",
    "    \n",
    "    # Escribe aquí tu código ↑\n",
    "    \n",
    "    return # ← Escribe aquí tu código"
   ]
  },
  {
   "cell_type": "code",
   "execution_count": null,
   "metadata": {},
   "outputs": [],
   "source": [
    "calificador.califica_ejercicio_62(ejercicio_62)"
   ]
  },
  {
   "cell_type": "code",
   "execution_count": null,
   "metadata": {},
   "outputs": [],
   "source": [
    "@Controlador(\"7\", \"ejercicio_63\")\n",
    "def ejercicio_63(lista):\n",
    "    \"\"\"\n",
    "    Instrucciones:\n",
    "        La función \"ejercicio_63\" toma el parámetro \"lista\" \n",
    "        y regresa su longitud.\n",
    "\n",
    "    Condiciones:\n",
    "        El parámetro \"lista\" debe ser una lista con la cantidad\n",
    "        de elementos que tu decidas.\n",
    "\n",
    "    Recuerda:\n",
    "        Revisa la función len()\n",
    "\n",
    "        Lo que la función \"regresa\" es justo lo que va después \n",
    "        de la palabra reservada \"return\".\n",
    "        \n",
    "        Cuida la indentación.\n",
    "    \"\"\"\n",
    "    \n",
    "    # Escribe aquí tu código ↓\n",
    "    \n",
    "    \n",
    "    # Escribe aquí tu código ↑\n",
    "    \n",
    "    return # ← Escribe aquí tu código"
   ]
  },
  {
   "cell_type": "code",
   "execution_count": null,
   "metadata": {},
   "outputs": [],
   "source": [
    "calificador.califica_ejercicio_63(ejercicio_63)"
   ]
  },
  {
   "cell_type": "code",
   "execution_count": null,
   "metadata": {},
   "outputs": [],
   "source": [
    "@Controlador(\"7\", \"ejercicio_64\")\n",
    "def ejercicio_64():\n",
    "    \"\"\"\n",
    "    Instrucciones:\n",
    "        La función \"ejercicio_64\" no toma ningún parámetro\n",
    "        y regresa un diccionario vacío.\n",
    "\n",
    "    Recuerda:\n",
    "        Lo que la función \"regresa\" es justo lo que va después \n",
    "        de la palabra reservada \"return\".\n",
    "        \n",
    "        Cuida la indentación\n",
    "    \"\"\"\n",
    "    \n",
    "    # Escribe aquí tu código ↓\n",
    "    \n",
    "    \n",
    "    # Escribe aquí tu código ↑\n",
    "    \n",
    "    return # ← Escribe aquí tu código"
   ]
  },
  {
   "cell_type": "code",
   "execution_count": null,
   "metadata": {},
   "outputs": [],
   "source": [
    "calificador.califica_ejercicio_64(ejercicio_64)"
   ]
  },
  {
   "cell_type": "code",
   "execution_count": null,
   "metadata": {},
   "outputs": [],
   "source": [
    "@Controlador(\"7\", \"ejercicio_65\")\n",
    "def ejercicio_65(x):\n",
    "    \"\"\"\n",
    "    Instrucciones:\n",
    "        La función \"ejercicio_65\" toma el parámetro \"x\" y  \n",
    "        lo agrega al final de la lista: [\"La\", \"Le\", \"Li\", \"Lo\"] \n",
    "        para despues regresar dicha lista con \"x\" como último\n",
    "        elemento.\n",
    "\n",
    "    Condiciones:\n",
    "        El parámetro \"x\" debe ser la cadena de carácteres \"Lu\".\n",
    "\n",
    "    Recuerda:\n",
    "        Revisa el método .append()\n",
    "\n",
    "        Lo que la función \"regresa\" es justo lo que va después \n",
    "        de la palabra reservada \"return\".\n",
    "        \n",
    "        Cuida la indentación\n",
    "    \"\"\"\n",
    "    \n",
    "    # Escribe aquí tu código ↓\n",
    "\n",
    "    \n",
    "    # Escribe aquí tu código ↑\n",
    "    \n",
    "    return # ← Escribe aquí tu código"
   ]
  },
  {
   "cell_type": "code",
   "execution_count": null,
   "metadata": {},
   "outputs": [],
   "source": [
    "calificador.califica_ejercicio_65(ejercicio_65)"
   ]
  },
  {
   "cell_type": "code",
   "execution_count": null,
   "metadata": {},
   "outputs": [],
   "source": [
    "@Controlador(\"7\", \"ejercicio_66\")\n",
    "def ejercicio_66(diccionario):\n",
    "    \"\"\"\n",
    "    Instrucciones:\n",
    "        La función \"ejercicio_66\" toma el parámetro \"diccionario\" \n",
    "        y regresa su longitud.\n",
    "\n",
    "    Condiciones:\n",
    "        El parámetro \"diccionario\" debe ser un diccionario con la cantidad\n",
    "        de pares clave-valor que tu decidas.\n",
    "\n",
    "    Recuerda:\n",
    "        Revisa la función len()\n",
    "\n",
    "        Lo que la función \"regresa\" es justo lo que va después \n",
    "        de la palabra reservada \"return\".\n",
    "        \n",
    "        Cuida la indentación.\n",
    "    \"\"\"\n",
    "    \n",
    "    # Escribe aquí tu código ↓\n",
    "    \n",
    "    \n",
    "    # Escribe aquí tu código ↑\n",
    "    \n",
    "    return # ← Escribe aquí tu código"
   ]
  },
  {
   "cell_type": "code",
   "execution_count": null,
   "metadata": {},
   "outputs": [],
   "source": [
    "calificador.califica_ejercicio_66(ejercicio_66)"
   ]
  },
  {
   "cell_type": "code",
   "execution_count": null,
   "metadata": {},
   "outputs": [],
   "source": [
    "@Controlador(\"7\", \"ejercicio_67\")\n",
    "def ejercicio_67(a):\n",
    "    \"\"\"\n",
    "    Instrucciones:\n",
    "        La función \"ejercicio_67\" toma el parámetro \"a\" y,\n",
    "        debe regresar un diccionario con un par-clave valor\n",
    "        en el que la clave sea \"Comida\" y el valor el elemento\n",
    "        obtenido del parámetro \"a\".\n",
    "\n",
    "    Condiciones:\n",
    "        El parámetro \"a\" debe ser una cadena de caracteres (str)\n",
    "        que represente algún nombre de una comida, puede ser\n",
    "        tu comida favorita.\n",
    "        \n",
    "    Recuerda:\n",
    "        Lo que la función \"regresa\" es justo lo que va después \n",
    "        de la palabra reservada \"return\".\n",
    "        \n",
    "        Cuida la indentación.\n",
    "    \"\"\"\n",
    "    \n",
    "    # Escribe aquí tu código ↓\n",
    "    \n",
    "    \n",
    "    # Escribe aquí tu código ↑\n",
    "    \n",
    "    return # ← Escribe aquí tu código"
   ]
  },
  {
   "cell_type": "code",
   "execution_count": null,
   "metadata": {},
   "outputs": [],
   "source": [
    "calificador.califica_ejercicio_67(ejercicio_67)"
   ]
  },
  {
   "cell_type": "code",
   "execution_count": null,
   "metadata": {},
   "outputs": [],
   "source": [
    "@Controlador(\"7\", \"ejercicio_68\")\n",
    "def ejercicio_68():\n",
    "\n",
    "    \"\"\"\n",
    "    Instrucciones:\n",
    "        La función \"ejercicio_68\" no toma ningún parámetro\n",
    "        y regresa una tupla vacía.\n",
    "\n",
    "    Recuerda:\n",
    "        Lo que la función \"regresa\" es justo lo que va después \n",
    "        de la palabra reservada \"return\".\n",
    "        \n",
    "        Cuida la indentación\n",
    "    \"\"\"\n",
    "    \n",
    "    # Escribe aquí tu código ↓\n",
    "    \n",
    "    \n",
    "    # Escribe aquí tu código ↑\n",
    "    \n",
    "    return # ← Escribe aquí tu código"
   ]
  },
  {
   "cell_type": "code",
   "execution_count": null,
   "metadata": {},
   "outputs": [],
   "source": [
    "calificador.califica_ejercicio_68(ejercicio_68)"
   ]
  },
  {
   "cell_type": "code",
   "execution_count": null,
   "metadata": {},
   "outputs": [],
   "source": [
    "@Controlador(\"7\", \"ejercicio_69\")\n",
    "def ejercicio_69(i, x):\n",
    "    \"\"\"\n",
    "    Instrucciones:\n",
    "        La función \"ejercicio_69\" toma el parámetro \"i\", \"x\"\n",
    "        y, agrega el valor correspondiente a \"x\" en la \n",
    "        posición del indice determinado por \"i\" a la siguiente\n",
    "        lista: [\"Azul\", \"Verde\", \"Amarillo\"] para despues \n",
    "        regresar dicha lista ya modificada.\n",
    "\n",
    "    Condiciones:\n",
    "        El parámetro \"i\" debe ser el número entero del \n",
    "        índice donde queremos agregar nuestra \"x\" dentro de\n",
    "        la lista indicada.\n",
    "\n",
    "        El parámetro \"x\" debe ser una cadena de caracteres con\n",
    "        el nombre de algún color con la primer letra en mayúsculas.\n",
    "\n",
    "    Recuerda:\n",
    "        Revisa el método .insert()\n",
    "\n",
    "        Lo que la función \"regresa\" es justo lo que va después \n",
    "        de la palabra reservada \"return\".\n",
    "        \n",
    "        Cuida la indentación.\n",
    "    \"\"\"\n",
    "    \n",
    "    # Escribe aquí tu código ↓\n",
    "    \n",
    "    \n",
    "    # Escribe aquí tu código ↑\n",
    "    \n",
    "    return # ← Escribe aquí tu código\n"
   ]
  },
  {
   "cell_type": "code",
   "execution_count": null,
   "metadata": {},
   "outputs": [],
   "source": [
    "calificador.califica_ejercicio_69(ejercicio_69)"
   ]
  },
  {
   "cell_type": "code",
   "execution_count": null,
   "metadata": {},
   "outputs": [],
   "source": [
    "@Controlador(\"7\", \"ejercicio_70\")\n",
    "def ejercicio_70():\n",
    "    \"\"\"\n",
    "    Instrucciones:\n",
    "        La función \"ejercicio_70\" no toma ningún parámetro\n",
    "        y regresa una tupla con los elementos: \"Hola\", \"mundo\" \n",
    "        es decir, debe regresar una tupla con dos elementos.\n",
    "\n",
    "    Recuerda:\n",
    "        Lo que la función \"regresa\" es justo lo que va después \n",
    "        de la palabra reservada \"return\".\n",
    "        \n",
    "        Cuida la indentación\n",
    "    \"\"\"\n",
    "    \n",
    "    # Escribe aquí tu código ↓\n",
    "    \n",
    "    \n",
    "    # Escribe aquí tu código ↑\n",
    "    \n",
    "    return # ← Escribe aquí tu código"
   ]
  },
  {
   "cell_type": "code",
   "execution_count": null,
   "metadata": {},
   "outputs": [],
   "source": [
    "calificador.califica_ejercicio_70(ejercicio_70)"
   ]
  }
 ],
 "metadata": {
  "kernelspec": {
   "display_name": "infotec",
   "language": "python",
   "name": "python3"
  },
  "language_info": {
   "codemirror_mode": {
    "name": "ipython",
    "version": 3
   },
   "file_extension": ".py",
   "mimetype": "text/x-python",
   "name": "python",
   "nbconvert_exporter": "python",
   "pygments_lexer": "ipython3",
   "version": "3.11.5"
  }
 },
 "nbformat": 4,
 "nbformat_minor": 2
}
