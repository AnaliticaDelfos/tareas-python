{
 "cells": [
  {
   "cell_type": "code",
   "execution_count": null,
   "metadata": {},
   "outputs": [],
   "source": [
    "#\n",
    "#\n",
    "# EJECUTAR ESTA CELDA CADA VEZ QUE ENTRES A HACER LA TAREA\n",
    "#\n",
    "#\n",
    "\n",
    "#####################################\n",
    "# Conversiones\n",
    "#####################################\n",
    "\n",
    "\n",
    "import calificador\n",
    "from controlador import Controlador"
   ]
  },
  {
   "cell_type": "code",
   "execution_count": null,
   "metadata": {},
   "outputs": [],
   "source": [
    "@Controlador(\"5\", \"ejercicio_41\")\n",
    "def ejercicio_41(float):\n",
    "    \"\"\"\n",
    "    Instrucciones:\n",
    "        La función \"ejercicio_41\" toma el parámetro \"float\" y,\n",
    "        debe regresar el número decimal recibido redondeado a \n",
    "        4 decimales.\n",
    "\n",
    "    Condiciones:\n",
    "        El tipo de dato de \"float\" debe ser el número decimal \n",
    "        3.141592\n",
    "\n",
    "    Ejemplo:\n",
    "        Para un caso en el que float = 2.512598 la función regresaría:\n",
    "        2.51\n",
    "\n",
    "    Recuerda:\n",
    "        Solo existe una respuesta correcta.\n",
    "\n",
    "        Revisa la función round()\n",
    "        \n",
    "        Lo que la función \"regresa\" es justo lo que va después \n",
    "        de la palabra reservada \"return\".\n",
    "        \n",
    "        Cuida la indentación.\n",
    "    \"\"\"\n",
    "\n",
    "    # Escribe aquí tu código ↓\n",
    "    \n",
    "\n",
    "    # Escribe aquí tu código ↑\n",
    "\n",
    "    return # ← Escribe aquí tu código"
   ]
  },
  {
   "cell_type": "code",
   "execution_count": null,
   "metadata": {},
   "outputs": [],
   "source": [
    "ejercicio_41()"
   ]
  },
  {
   "cell_type": "code",
   "execution_count": null,
   "metadata": {},
   "outputs": [],
   "source": [
    "calificador.califica_ejercicio_41(ejercicio_41)"
   ]
  },
  {
   "cell_type": "code",
   "execution_count": null,
   "metadata": {},
   "outputs": [],
   "source": [
    "@Controlador(\"5\", \"ejercicio_42\")\n",
    "def ejercicio_42(int):\n",
    "    \"\"\"\n",
    "    Instrucciones:\n",
    "        La función \"ejercicio_42\" toma el parámetro \"int\" y,\n",
    "        debe regresar la representación en número binario de \n",
    "        dicho parámetro.\n",
    "\n",
    "    Condiciones:\n",
    "        El tipo de dato de \"int\" debe ser el número entero 67.\n",
    "\n",
    "    Ejemplo:\n",
    "        Para el caso en el que int = 1 la función regresaría:\n",
    "        0b1\n",
    "\n",
    "    Recuerda:\n",
    "        Solo existe una respuesta correcta.\n",
    "\n",
    "        Revisa la función bin()\n",
    "        \n",
    "        Lo que la función \"regresa\" es justo lo que va después \n",
    "        de la palabra reservada \"return\".\n",
    "        \n",
    "        Cuida la indentación.\n",
    "    \"\"\"\n",
    "\n",
    "    # Escribe aquí tu código ↓\n",
    "    \n",
    "\n",
    "    # Escribe aquí tu código ↑\n",
    "\n",
    "    return # ← Escribe aquí tu código"
   ]
  },
  {
   "cell_type": "code",
   "execution_count": null,
   "metadata": {},
   "outputs": [],
   "source": [
    "ejercicio_42()"
   ]
  },
  {
   "cell_type": "code",
   "execution_count": null,
   "metadata": {},
   "outputs": [],
   "source": [
    "calificador.califica_ejercicio_42(ejercicio_42)"
   ]
  },
  {
   "cell_type": "code",
   "execution_count": null,
   "metadata": {},
   "outputs": [],
   "source": [
    "@Controlador(\"5\", \"ejercicio_43\")\n",
    "def ejercicio_43(float):\n",
    "    \"\"\"\n",
    "    Instrucciones:\n",
    "        La función \"ejercicio_43\" toma el parámetro \"float\" y,\n",
    "        debe regresar la representación de dicho parámetro en \n",
    "        forma de cadena de caracteres en hexadecimal.\n",
    "\n",
    "    Condiciones:\n",
    "        El tipo de dato de \"float\" debe ser el número decimal 5.26\n",
    "\n",
    "    Ejemplo:\n",
    "        Para el caso en el que float = 1.3 la función regresaría:\n",
    "        0x1.4cccccccccccdp+0\n",
    "\n",
    "    Recuerda:\n",
    "        Solo existe una respuesta correcta.\n",
    "\n",
    "        Revisa el método .hex()\n",
    "\n",
    "        Lo que la función \"regresa\" es justo lo que va después \n",
    "        de la palabra reservada \"return\".\n",
    "        \n",
    "        Cuida la indentación.\n",
    "    \"\"\"\n",
    "\n",
    "    # Escribe aquí tu código ↓\n",
    "    \n",
    "\n",
    "    # Escribe aquí tu código ↑\n",
    "\n",
    "    return # ← Escribe aquí tu código"
   ]
  },
  {
   "cell_type": "code",
   "execution_count": null,
   "metadata": {},
   "outputs": [],
   "source": [
    "ejercicio_43()"
   ]
  },
  {
   "cell_type": "code",
   "execution_count": null,
   "metadata": {},
   "outputs": [],
   "source": [
    "calificador.califica_ejercicio_43(ejercicio_43)"
   ]
  },
  {
   "cell_type": "code",
   "execution_count": null,
   "metadata": {},
   "outputs": [],
   "source": [
    "@Controlador(\"5\", \"ejercicio_44\")\n",
    "def ejercicio_44(int):\n",
    "    \"\"\"\n",
    "    Instrucciones:\n",
    "        La función \"ejercicio_44\" toma el parámetro \"int\" y,\n",
    "        debe regresar dicho parámetro convertido a una cadena\n",
    "        en el sistema octal con el prefijo \"0o\".\n",
    "\n",
    "    Condiciones:\n",
    "        El tipo de dato de \"int\" debe ser el número entero 94.\n",
    "\n",
    "    Ejemplo:\n",
    "        Para el caso en el qiue int = 5 la función regresaría:\n",
    "        0o5\n",
    "\n",
    "    Recuerda:\n",
    "        Solo existe una respuesta correcta.\n",
    "\n",
    "        Revisa la función oct()\n",
    "        \n",
    "        Lo que la función \"regresa\" es justo lo que va después \n",
    "        de la palabra reservada \"return\".\n",
    "        \n",
    "        Cuida la indentación\n",
    "    \"\"\"\n",
    "\n",
    "    # Escribe aquí tu código ↓\n",
    "    \n",
    "\n",
    "    # Escribe aquí tu código ↑\n",
    "\n",
    "    return # ← Escribe aquí tu código"
   ]
  },
  {
   "cell_type": "code",
   "execution_count": null,
   "metadata": {},
   "outputs": [],
   "source": [
    "ejercicio_44()"
   ]
  },
  {
   "cell_type": "code",
   "execution_count": null,
   "metadata": {},
   "outputs": [],
   "source": [
    "calificador.califica_ejercicio_44(ejercicio_44)"
   ]
  },
  {
   "cell_type": "code",
   "execution_count": null,
   "metadata": {},
   "outputs": [],
   "source": [
    "@Controlador(\"5\", \"ejercicio_45\")\n",
    "def ejercicio_45(int):\n",
    "    \"\"\"\n",
    "    Instrucciones:\n",
    "        La función \"ejercicio_45\" toma el parámetro \"int\" y,\n",
    "        debe regresar el contenido y tipo de dato de dicho \n",
    "        parámetro despues de convertirlo al tipo de dato de \n",
    "        número decimal (float).\n",
    "\n",
    "    Condiciones:\n",
    "        El tipo de dato del parámetro \"int\" debe ser número entero.\n",
    "        \n",
    "    Ejemplo:\n",
    "        Si int = 100 la función regresa:\n",
    "        100.0 <class 'float'>\n",
    "        \n",
    "    Recuerda:\n",
    "        Utiliza la función float() para el cambio de tipo de dato.\n",
    "\n",
    "        Utiliza la función type() mostrar el tipo de dato.\n",
    "\n",
    "        Lo que la función \"regresa\" es justo lo que va después \n",
    "        de la palabra reservada \"return\".\n",
    "        \n",
    "        Cuida la indentación.\n",
    "    \"\"\"\n",
    "\n",
    "    # Escribe aquí tu código ↓\n",
    "    \n",
    "\n",
    "    # Escribe aquí tu código ↑\n",
    "\n",
    "    return  # ← Escribe aquí tu código"
   ]
  },
  {
   "cell_type": "code",
   "execution_count": null,
   "metadata": {},
   "outputs": [],
   "source": [
    "ejercicio_45(0)"
   ]
  },
  {
   "cell_type": "code",
   "execution_count": null,
   "metadata": {},
   "outputs": [],
   "source": [
    "calificador.califica_ejercicio_45(ejercicio_45)"
   ]
  },
  {
   "cell_type": "code",
   "execution_count": null,
   "metadata": {},
   "outputs": [],
   "source": [
    "@Controlador(\"5\", \"ejercicio_46\")\n",
    "def ejercicio_46(float):\n",
    "    \"\"\"\n",
    "    Instrucciones:\n",
    "        La función \"ejercicio_46\" toma el parámetro \"float\" y,\n",
    "        debe regresar el contenido y tipo de dato de dicho \n",
    "        parámetro despues de convertirlo al tipo de dato de \n",
    "        número entero (int).\n",
    "\n",
    "    Condiciones:\n",
    "        El tipo de dato del parámetro \"float\" debe ser número decimal.\n",
    "        \n",
    "    Ejemplo:\n",
    "        Si float = -1.999 la función regresa:\n",
    "        -1 <class 'int'>\n",
    "        \n",
    "    Recuerda:\n",
    "        Utiliza la función int() para el cambio de tipo de dato.\n",
    "\n",
    "        Utiliza la función type() mostrar el tipo de dato.\n",
    "\n",
    "        Lo que la función \"regresa\" es justo lo que va después \n",
    "        de la palabra reservada \"return\".\n",
    "        \n",
    "        Cuida la indentación.\n",
    "    \"\"\"\n",
    "\n",
    "    # Escribe aquí tu código ↓\n",
    "    \n",
    "\n",
    "    # Escribe aquí tu código ↑\n",
    "\n",
    "    return # ← Escribe aquí tu código"
   ]
  },
  {
   "cell_type": "code",
   "execution_count": null,
   "metadata": {},
   "outputs": [],
   "source": [
    "ejercicio_46(827.6)"
   ]
  },
  {
   "cell_type": "code",
   "execution_count": null,
   "metadata": {},
   "outputs": [],
   "source": [
    "calificador.califica_ejercicio_46(ejercicio_46)"
   ]
  },
  {
   "cell_type": "code",
   "execution_count": null,
   "metadata": {},
   "outputs": [],
   "source": [
    "@Controlador(\"5\", \"ejercicio_47\")\n",
    "def ejercicio_47(str):\n",
    "    \"\"\"\n",
    "    Instrucciones:\n",
    "        La función \"ejercicio_43\" toma el parámetro \"str\" y,\n",
    "        debe regresar el valor de verdad correspondiente al\n",
    "        contenido de dicho parámetro.\n",
    "\n",
    "    Condiciones:\n",
    "        El tipo de dato del parámetro \"str\" debe ser cadena de caracteres.\n",
    "        \n",
    "    Ejemplo:\n",
    "        Si str = \"Hola\" la función regresa:\n",
    "        True\n",
    "        \n",
    "    Recuerda:\n",
    "        Utiliza el operador bool() para obtener el valor de verdad requerido.\n",
    "\n",
    "        Lo que la función \"regresa\" es justo lo que va después \n",
    "        de la palabra reservada \"return\".\n",
    "        \n",
    "        Cuida la indentación.\n",
    "    \"\"\"\n",
    "\n",
    "    # Escribe aquí tu código ↓\n",
    "    \n",
    "\n",
    "    # Escribe aquí tu código ↑\n",
    "\n",
    "    return # ← Escribe aquí tu código"
   ]
  },
  {
   "cell_type": "code",
   "execution_count": null,
   "metadata": {},
   "outputs": [],
   "source": [
    "ejercicio_47(\"\")"
   ]
  },
  {
   "cell_type": "code",
   "execution_count": null,
   "metadata": {},
   "outputs": [],
   "source": [
    "calificador.califica_ejercicio_47(ejercicio_47)"
   ]
  },
  {
   "cell_type": "code",
   "execution_count": null,
   "metadata": {},
   "outputs": [],
   "source": [
    "@Controlador(\"5\", \"ejercicio_48\")\n",
    "def ejercicio_48(int):\n",
    "    \"\"\"\n",
    "    Instrucciones:\n",
    "        La función \"ejercicio_44\" toma el parámetro \"int\" y,\n",
    "        debe regresar el valor de verdad correspondiente al\n",
    "        contenido de dicho parámetro.\n",
    "\n",
    "    Condiciones:\n",
    "        El tipo de dato del parámetro \"int\" debe ser número entero.\n",
    "        \n",
    "    Ejemplo:\n",
    "        Si int = 100 la función regresa:\n",
    "        True\n",
    "        \n",
    "    Recuerda:\n",
    "        Utiliza el operador bool() para obtener el valor de verdad requerido.\n",
    "\n",
    "        Lo que la función \"regresa\" es justo lo que va después \n",
    "        de la palabra reservada \"return\".\n",
    "        \n",
    "        Cuida la indentación.\n",
    "    \"\"\"\n",
    "\n",
    "    # Escribe aquí tu código ↓\n",
    "    \n",
    "\n",
    "    # Escribe aquí tu código ↑\n",
    "\n",
    "    return # ← Escribe aquí tu código"
   ]
  },
  {
   "cell_type": "code",
   "execution_count": null,
   "metadata": {},
   "outputs": [],
   "source": [
    "ejercicio_48(0)"
   ]
  },
  {
   "cell_type": "code",
   "execution_count": null,
   "metadata": {},
   "outputs": [],
   "source": [
    "calificador.califica_ejercicio_48(ejercicio_48)"
   ]
  },
  {
   "cell_type": "code",
   "execution_count": null,
   "metadata": {},
   "outputs": [],
   "source": [
    "@Controlador(\"4\", \"ejercicio_49\")\n",
    "def ejercicio_49(float):\n",
    "    \"\"\"\n",
    "    Instrucciones:\n",
    "        La función \"ejercicio_49\" toma el parámetro \"float\" y,\n",
    "        debe regresar el valor de verdad correspondiente al\n",
    "        contenido de dicho parámetro.\n",
    "\n",
    "    Condiciones:\n",
    "        El tipo de dato del parámetro \"float\" debe ser número decimal.\n",
    "        \n",
    "    Ejemplo:\n",
    "        Si float = 7.25 la función regresa:\n",
    "        True\n",
    "        \n",
    "    Recuerda:\n",
    "        Utiliza el operador bool() para obtener el valor de verdad requerido.\n",
    "\n",
    "        Lo que la función \"regresa\" es justo lo que va después \n",
    "        de la palabra reservada \"return\".\n",
    "        \n",
    "        Cuida la indentación.\n",
    "    \"\"\"\n",
    "\n",
    "    # Escribe aquí tu código ↓\n",
    "    \n",
    "\n",
    "    # Escribe aquí tu código ↑\n",
    "\n",
    "    return # ← Escribe aquí tu código"
   ]
  },
  {
   "cell_type": "code",
   "execution_count": null,
   "metadata": {},
   "outputs": [],
   "source": [
    "ejercicio_49(-1.25)"
   ]
  },
  {
   "cell_type": "code",
   "execution_count": null,
   "metadata": {},
   "outputs": [],
   "source": [
    "calificador.califica_ejercicio_49(ejercicio_49)"
   ]
  },
  {
   "cell_type": "code",
   "execution_count": null,
   "metadata": {},
   "outputs": [],
   "source": [
    "@Controlador(\"5\", \"ejercicio_50\")\n",
    "def ejercicio_50(float):\n",
    "    \"\"\"\n",
    "    Instrucciones:\n",
    "        La función \"ejercicio_50\" toma el parámetro \"float\" y,\n",
    "        debe regresar el valor de verdad True si el valor de \n",
    "        \"float\" es un número entero (sus decimales son ceros)\n",
    "        y False en caso contrario.\n",
    "\n",
    "    Condiciones:\n",
    "        El tipo de dato de \"float\" debe ser número decimal.\n",
    "\n",
    "        Utiliza el método .is_integer() para obtener el valor\n",
    "        de verdad correspondiente.\n",
    "\n",
    "    Ejemplo:\n",
    "        Si float = 5.0 la función regresa:\n",
    "        True\n",
    "\n",
    "    Recuerda:\n",
    "        Lo que la función \"regresa\" es justo lo que va después \n",
    "        de la palabra reservada \"return\".\n",
    "        \n",
    "        Cuida la indentación.\n",
    "    \"\"\"\n",
    "\n",
    "    # Escribe aquí tu código ↓\n",
    "    \n",
    "\n",
    "    # Escribe aquí tu código ↑\n",
    "\n",
    "    return # ← Escribe aquí tu código"
   ]
  },
  {
   "cell_type": "code",
   "execution_count": null,
   "metadata": {},
   "outputs": [],
   "source": [
    "ejercicio_50(0.5)"
   ]
  },
  {
   "cell_type": "code",
   "execution_count": null,
   "metadata": {},
   "outputs": [],
   "source": [
    "calificador.califica_ejercicio_50(ejercicio_50)"
   ]
  }
 ],
 "metadata": {
  "kernelspec": {
   "display_name": "infotec",
   "language": "python",
   "name": "python3"
  },
  "language_info": {
   "codemirror_mode": {
    "name": "ipython",
    "version": 3
   },
   "file_extension": ".py",
   "mimetype": "text/x-python",
   "name": "python",
   "nbconvert_exporter": "python",
   "pygments_lexer": "ipython3",
   "version": "3.11.5"
  }
 },
 "nbformat": 4,
 "nbformat_minor": 2
}
