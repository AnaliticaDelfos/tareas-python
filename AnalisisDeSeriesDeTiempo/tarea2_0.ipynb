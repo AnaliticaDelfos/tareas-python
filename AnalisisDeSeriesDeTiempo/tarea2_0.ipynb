{
 "cells": [
  {
   "cell_type": "markdown",
   "metadata": {},
   "source": [
    "<center><img src=\"Analitica delfos-06.jpg\" width=\"200\" height=\"160\" style=\"margin:auto\"/></center>"
   ]
  },
  {
   "cell_type": "code",
   "execution_count": null,
   "metadata": {},
   "outputs": [],
   "source": [
    "#\n",
    "#\n",
    "# EJECUTAR ESTA CELDA CADA VEZ QUE ENTRES A HACER LA TAREA\n",
    "#\n",
    "#\n",
    "\n",
    "#####################################\n",
    "# Operaciones aritméticas parte 2\n",
    "#####################################\n",
    "\n",
    "\n",
    "import calificador\n",
    "from controlador import Controlador"
   ]
  },
  {
   "cell_type": "markdown",
   "metadata": {},
   "source": [
    "$$S = a_1\\cdot \\frac{r^n-1}{r-1}, r\\ne 1$$\n",
    "\n",
    "Si $r = 1$, la suma será simplemente $a1 \\cdot n$. El resultado debe estar redondeado a dos decimales."
   ]
  },
  {
   "cell_type": "code",
   "execution_count": null,
   "metadata": {},
   "outputs": [],
   "source": [
    "@Controlador(\"2\", \"ejercicio_6\")\n",
    "def ejercicio_6(a1: int, r: int, n: int):\n",
    "    \"\"\"\n",
    "    Instrucciones:\n",
    "        Esta función recibe tres enteros: el primer término a1 (int), la razón r (int) y la cantidad de términos n (int). \n",
    "        Debe regresar la suma de la serie geométrica, usando la fórmula anterior\n",
    "    \n",
    "    Tip:\n",
    "        Usa un condicional para preguntar si r es igual a 1 y devuelve el resultado.\n",
    "    \n",
    "\n",
    "    Recuerda:\n",
    "        Lo que la función \"regresa\" es justo lo que va después\n",
    "        de la palabra reservada return\n",
    "\n",
    "        Cuida la indentación.\n",
    "    \"\"\"\n",
    "\n",
    "    # Escribe aquí tu código ↓\n",
    "    \n",
    "\n",
    "    # Escribe aquí tu código ↑\n",
    "\n",
    "    return # ← Escribe aquí tu código"
   ]
  },
  {
   "cell_type": "code",
   "execution_count": null,
   "metadata": {},
   "outputs": [],
   "source": [
    "calificador.califica_ejercicio_ts_6(ejercicio_6)"
   ]
  },
  {
   "cell_type": "code",
   "execution_count": null,
   "metadata": {},
   "outputs": [],
   "source": [
    "@Controlador(\"2\", \"ejercicio_7\")\n",
    "def ejercicio_7(numeros: int):\n",
    "    \"\"\"\n",
    "    Instrucciones:\n",
    "        Esta función recibe una lista de números flotantes numeros (list). \n",
    "        Debe calcular el producto de todos los elementos de la lista y regresar el resultado redondeado a dos decimales.\n",
    "\n",
    "    Recuerda:\n",
    "        Cuida la indentación.\n",
    "    \"\"\"\n",
    "\n",
    "    # Escribe aquí tu código ↓\n",
    "    \n",
    "\n",
    "    # Escribe aquí tu código ↑\n",
    "    return # ← Escribe aquí tu código"
   ]
  },
  {
   "cell_type": "code",
   "execution_count": null,
   "metadata": {},
   "outputs": [],
   "source": [
    "calificador.califica_ejercicio_ts_7(ejercicio_7)"
   ]
  },
  {
   "cell_type": "markdown",
   "metadata": {},
   "source": [
    "$$H=\\frac{n}{\\sum_{i=1}^n\\frac{1}{x_i}}$$"
   ]
  },
  {
   "cell_type": "code",
   "execution_count": null,
   "metadata": {},
   "outputs": [],
   "source": [
    "@Controlador(\"2\", \"ejercicio_8\")\n",
    "def ejercicio_8(numeros: list):\n",
    "    \"\"\"\n",
    "    Instrucciones:\n",
    "        Esta función recibe una lista de números positivos numeros (list). \n",
    "        Debe calcular el promedio armónico usando la fórmula:\n",
    "\n",
    "    Recuerda:\n",
    "        Cuida la indentación.\n",
    "    \"\"\"\n",
    "\n",
    "    # Escribe aquí tu código ↓\n",
    "    \n",
    "\n",
    "    # Escribe aquí tu código ↑\n",
    "\n",
    "    return # ← Escribe aquí tu código"
   ]
  },
  {
   "cell_type": "code",
   "execution_count": null,
   "metadata": {},
   "outputs": [],
   "source": [
    "calificador.califica_ejercicio_ts_8(ejercicio_8)"
   ]
  },
  {
   "cell_type": "markdown",
   "metadata": {},
   "source": [
    "$$S = \\frac{n}{2} \\cdot (2a_1 + (n-1)d)$$"
   ]
  },
  {
   "cell_type": "code",
   "execution_count": null,
   "metadata": {},
   "outputs": [],
   "source": [
    "@Controlador(\"2\", \"ejercicio_9\")\n",
    "def ejercicio_9(a1: float, d: float, n: int):\n",
    "    \"\"\"\n",
    "    Instrucciones:\n",
    "        Esta función recibe el primer término a1 (float), la razón d (float) y la cantidad de términos n (int). \n",
    "        Debe regresar la suma de la progresión aritmética usando la fórmula.\n",
    "        El resultado debe estar redondeado a dos decimales.\n",
    "\n",
    "    Recuerda:\n",
    "        Cuida la indentación.\n",
    "    \"\"\"\n",
    "\n",
    "    # Escribe aquí tu código ↓\n",
    "    \n",
    "\n",
    "    # Escribe aquí tu código ↑\n",
    "\n",
    "    return # ← Escribe aquí tu código"
   ]
  },
  {
   "cell_type": "code",
   "execution_count": null,
   "metadata": {},
   "outputs": [],
   "source": [
    "calificador.califica_ejercicio_ts_9(ejercicio_9)"
   ]
  },
  {
   "cell_type": "code",
   "execution_count": null,
   "metadata": {},
   "outputs": [],
   "source": [
    "@Controlador(\"2\", \"ejercicio_10\")\n",
    "def ejercicio_10(p1: tuple[float, float], p2: tuple[float, float]):\n",
    "    \"\"\"\n",
    "    Instrucciones:\n",
    "        Esta función recibe dos puntos en 2D como tuplas de flotantes (tuple[float, float]). \n",
    "        Debe calcular la distancia euclidiana entre ambos puntos y devolver el resultado redondeado a dos decimales.\n",
    "\n",
    "    Recuerda:\n",
    "        Cuida la indentación.\n",
    "    \"\"\"\n",
    "\n",
    "    # Escribe aquí tu código ↓\n",
    "    \n",
    "\n",
    "    # Escribe aquí tu código ↑\n",
    "\n",
    "    return  # ← Escribe aquí tu código"
   ]
  },
  {
   "cell_type": "code",
   "execution_count": null,
   "metadata": {},
   "outputs": [],
   "source": [
    "calificador.califica_ejercicio_ts_10(ejercicio_10)"
   ]
  }
 ],
 "metadata": {
  "kernelspec": {
   "display_name": "delfos",
   "language": "python",
   "name": "python3"
  },
  "language_info": {
   "codemirror_mode": {
    "name": "ipython",
    "version": 3
   },
   "file_extension": ".py",
   "mimetype": "text/x-python",
   "name": "python",
   "nbconvert_exporter": "python",
   "pygments_lexer": "ipython3",
   "version": "3.13.5"
  }
 },
 "nbformat": 4,
 "nbformat_minor": 2
}
