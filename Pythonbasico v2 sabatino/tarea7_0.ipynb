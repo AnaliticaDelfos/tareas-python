{
 "cells": [
  {
   "cell_type": "code",
   "execution_count": null,
   "metadata": {},
   "outputs": [],
   "source": [
    "#\n",
    "#\n",
    "# EJECUTAR ESTA CELDA CADA VEZ QUE ENTRES A HACER LA TAREA\n",
    "#\n",
    "#\n",
    "\n",
    "#####################################\n",
    "#       Estructuras de datos parte 1\n",
    "#####################################\n",
    "\n",
    "\n",
    "import calificador\n",
    "from controlador import Controlador\n",
    "CORREO = \"CAMBIA ESTO POR TU CORREO\""
   ]
  },
  {
   "cell_type": "code",
   "execution_count": null,
   "metadata": {},
   "outputs": [],
   "source": [
    "@Controlador(\"7\", \"ejercicio_61\")\n",
    "def ejercicio_61():\n",
    "    \"\"\"\n",
    "    Título: Lista vacía.\n",
    "    \n",
    "    Instrucciones:\n",
    "        Esta función no recibe ningún parámetro\n",
    "        y devuelve una lista vacía\n",
    "\n",
    "    Recuerda:\n",
    "        Cuida la indentación.\n",
    "    \"\"\"\n",
    "    \n",
    "    # Escribe aquí tu código\n",
    "    \n",
    "    \n",
    "    # Escribe aquí tu código\n",
    "    \n",
    "    return # Escribe aquí tu código\n"
   ]
  },
  {
   "cell_type": "code",
   "execution_count": null,
   "metadata": {},
   "outputs": [],
   "source": [
    "ejercicio_61()"
   ]
  },
  {
   "cell_type": "code",
   "execution_count": null,
   "metadata": {},
   "outputs": [],
   "source": [
    "calificador.califica_ejercicio_61(ejercicio_61, CORREO)"
   ]
  },
  {
   "cell_type": "code",
   "execution_count": null,
   "metadata": {},
   "outputs": [],
   "source": [
    "@Controlador(\"7\", \"ejercicio_62\")\n",
    "def ejercicio_62():\n",
    "    \"\"\"\n",
    "    Título: Tupla vacía.\n",
    "    \n",
    "    Instrucciones:\n",
    "        Esta función no recibe ningún parámetro\n",
    "        y devuelve una tupla vacía\n",
    "\n",
    "    Recuerda:\n",
    "        Cuida la indentación.\n",
    "    \"\"\"\n",
    "    \n",
    "    # Escribe aquí tu código\n",
    "    \n",
    "    \n",
    "    # Escribe aquí tu código\n",
    "    \n",
    "    return # Escribe aquí tu código"
   ]
  },
  {
   "cell_type": "code",
   "execution_count": null,
   "metadata": {},
   "outputs": [],
   "source": [
    "ejercicio_62()"
   ]
  },
  {
   "cell_type": "code",
   "execution_count": null,
   "metadata": {},
   "outputs": [],
   "source": [
    "calificador.califica_ejercicio_62(ejercicio_62, CORREO)"
   ]
  },
  {
   "cell_type": "code",
   "execution_count": null,
   "metadata": {},
   "outputs": [],
   "source": [
    "@Controlador(\"7\", \"ejercicio_63\")\n",
    "def ejercicio_63():\n",
    "    \"\"\"\n",
    "    Título: Diccionario vacío\n",
    "    \n",
    "    Instrucciones:\n",
    "        Esta función no recibe ningún parámetro\n",
    "        y devuelve un diccionario vacío\n",
    "\n",
    "    Recuerda:\n",
    "        Cuida la indentación.\n",
    "    \"\"\"\n",
    "    \n",
    "    # Escribe aquí tu código\n",
    "    \n",
    "    \n",
    "    # Escribe aquí tu código\n",
    "    \n",
    "    return # Escribe aquí tu código"
   ]
  },
  {
   "cell_type": "code",
   "execution_count": null,
   "metadata": {},
   "outputs": [],
   "source": [
    "ejercicio_63()"
   ]
  },
  {
   "cell_type": "code",
   "execution_count": null,
   "metadata": {},
   "outputs": [],
   "source": [
    "calificador.califica_ejercicio_63(ejercicio_63, CORREO)"
   ]
  },
  {
   "cell_type": "code",
   "execution_count": null,
   "metadata": {},
   "outputs": [],
   "source": [
    "@Controlador(\"7\", \"ejercicio_64\")\n",
    "def ejercicio_64(lista):\n",
    "    \"\"\"\n",
    "    Título: Longitud de lista.\n",
    "    \n",
    "    Instrucciones:\n",
    "        Esta función recibe una lista y\n",
    "        devuelve la longitud de esa lista\n",
    "\n",
    "    Recuerda:\n",
    "        Cuida la indentación.\n",
    "    \"\"\"\n",
    "    \n",
    "    # Escribe aquí tu código\n",
    "    \n",
    "    \n",
    "    # Escribe aquí tu código\n",
    "    \n",
    "    return # Escribe aquí tu código"
   ]
  },
  {
   "cell_type": "code",
   "execution_count": null,
   "metadata": {},
   "outputs": [],
   "source": [
    "ejercicio_64([1,2])"
   ]
  },
  {
   "cell_type": "code",
   "execution_count": null,
   "metadata": {},
   "outputs": [],
   "source": [
    "calificador.califica_ejercicio_64(ejercicio_64, CORREO)"
   ]
  },
  {
   "cell_type": "code",
   "execution_count": null,
   "metadata": {},
   "outputs": [],
   "source": [
    "@Controlador(\"7\", \"ejercicio_65\")\n",
    "def ejercicio_65(tupla):\n",
    "    \"\"\"\n",
    "    Título: Longitud de tupla.\n",
    "    \n",
    "    Instrucciones:\n",
    "        Esta función recibe una tupla y\n",
    "        devuelve la longitud de esa tupla\n",
    "\n",
    "    Recuerda:\n",
    "        Cuida la indentación.\n",
    "    \"\"\"\n",
    "    \n",
    "    # Escribe aquí tu código\n",
    "    \n",
    "    \n",
    "    # Escribe aquí tu código\n",
    "    \n",
    "    return # Escribe aquí tu código"
   ]
  },
  {
   "cell_type": "code",
   "execution_count": null,
   "metadata": {},
   "outputs": [],
   "source": [
    "ejercicio_65((2, 3))"
   ]
  },
  {
   "cell_type": "code",
   "execution_count": null,
   "metadata": {},
   "outputs": [],
   "source": [
    "calificador.califica_ejercicio_65(ejercicio_65, CORREO)"
   ]
  },
  {
   "cell_type": "code",
   "execution_count": null,
   "metadata": {},
   "outputs": [],
   "source": [
    "@Controlador(\"7\", \"ejercicio_66\")\n",
    "def ejercicio_66(diccionario):\n",
    "    \"\"\"\n",
    "    Título: Longitud de diccionario.\n",
    "    \n",
    "    Instrucciones:\n",
    "        Esta función recibe un diccionario y\n",
    "        devuelve la longitud de ese diccionario\n",
    "\n",
    "    Recuerda:\n",
    "        Cuida la indentación.\n",
    "    \"\"\"\n",
    "    \n",
    "    # Escribe aquí tu código\n",
    "    \n",
    "    \n",
    "    # Escribe aquí tu código\n",
    "    \n",
    "    return # Escribe aquí tu código"
   ]
  },
  {
   "cell_type": "code",
   "execution_count": null,
   "metadata": {},
   "outputs": [],
   "source": [
    "ejercicio_66({})"
   ]
  },
  {
   "cell_type": "code",
   "execution_count": null,
   "metadata": {},
   "outputs": [],
   "source": [
    "calificador.califica_ejercicio_66(ejercicio_66, CORREO)"
   ]
  },
  {
   "cell_type": "code",
   "execution_count": null,
   "metadata": {},
   "outputs": [],
   "source": [
    "@Controlador(\"7\", \"ejercicio_67\")\n",
    "def ejercicio_67(elemento):\n",
    "    \"\"\"\n",
    "    Título: Lista con un elemento.\n",
    "    \n",
    "    Instrucciones:\n",
    "        Esta función recibe un elemento, puede\n",
    "        ser un número, una cadena de caracteres\n",
    "        una tupla, una lista o cualquier objeto de Python\n",
    "        y devuelve una lista con dicho objeto.\n",
    "\n",
    "    Recuerda:\n",
    "        Cuida la indentación.\n",
    "    \"\"\"\n",
    "    \n",
    "    # Escribe aquí tu código\n",
    "    \n",
    "    \n",
    "    # Escribe aquí tu código\n",
    "    \n",
    "    return # Escribe aquí tu código"
   ]
  },
  {
   "cell_type": "code",
   "execution_count": null,
   "metadata": {},
   "outputs": [],
   "source": [
    "ejercicio_67(20000)"
   ]
  },
  {
   "cell_type": "code",
   "execution_count": null,
   "metadata": {},
   "outputs": [],
   "source": [
    "calificador.califica_ejercicio_67(ejercicio_67, CORREO)"
   ]
  },
  {
   "cell_type": "code",
   "execution_count": null,
   "metadata": {},
   "outputs": [],
   "source": [
    "@Controlador(\"7\", \"ejercicio_68\")\n",
    "def ejercicio_68(elemento):\n",
    "\n",
    "    \"\"\"\n",
    "    Título: Tupla con un elemento.\n",
    "    \n",
    "    Instrucciones:\n",
    "        Esta función recibe un elemento, puede\n",
    "        ser un número, una cadena de caracteres\n",
    "        una tupla, una lista o cualquier objeto de Python\n",
    "        y devuelve una tupla con dicho objeto.\n",
    "\n",
    "    Recuerda:\n",
    "        Cuida la indentación.\n",
    "    \"\"\"\n",
    "    \n",
    "    # Escribe aquí tu código\n",
    "    \n",
    "    \n",
    "    # Escribe aquí tu código\n",
    "    \n",
    "    return # Escribe aquí tu código"
   ]
  },
  {
   "cell_type": "code",
   "execution_count": null,
   "metadata": {},
   "outputs": [],
   "source": [
    "ejercicio_68(5.6)"
   ]
  },
  {
   "cell_type": "code",
   "execution_count": null,
   "metadata": {},
   "outputs": [],
   "source": [
    "calificador.califica_ejercicio_68(ejercicio_68, CORREO)"
   ]
  },
  {
   "cell_type": "code",
   "execution_count": null,
   "metadata": {},
   "outputs": [],
   "source": [
    "@Controlador(\"7\", \"ejercicio_69\")\n",
    "def ejercicio_69(edad):\n",
    "\n",
    "    \"\"\"\n",
    "    Título: Diccionario con una clave y un valor.\n",
    "    \n",
    "    Instrucciones:\n",
    "        Esta función recibe la edad de una persona\n",
    "        y devuelve un diccionario que tenga una única\n",
    "        clave llamada 'edad' y cuyo valor sea la\n",
    "        edad que llega por parámetro.\n",
    "\n",
    "    Recuerda:\n",
    "        Cuida la indentación.\n",
    "    \"\"\"\n",
    "    \n",
    "    # Escribe aquí tu código\n",
    "    \n",
    "    \n",
    "    # Escribe aquí tu código\n",
    "    \n",
    "    return # Escribe aquí tu código\n"
   ]
  },
  {
   "cell_type": "code",
   "execution_count": null,
   "metadata": {},
   "outputs": [],
   "source": [
    "ejercicio_69(1.40)"
   ]
  },
  {
   "cell_type": "code",
   "execution_count": null,
   "metadata": {},
   "outputs": [],
   "source": [
    "calificador.califica_ejercicio_69(ejercicio_69, CORREO)"
   ]
  },
  {
   "cell_type": "code",
   "execution_count": null,
   "metadata": {},
   "outputs": [],
   "source": [
    "@Controlador(\"7\", \"ejercicio_70\")\n",
    "def ejercicio_70():\n",
    "\n",
    "    \"\"\"\n",
    "    Título: Lista con 3 elementos.\n",
    "    \n",
    "    Instrucciones:\n",
    "        Esta función no recibe ningún parámetro\n",
    "        y regresa una lista con las letras\n",
    "        'a', 'b', 'c', es decir, regresa una lista\n",
    "        con 3 elementos.\n",
    "\n",
    "    Recuerda:\n",
    "        Cuida la indentación.\n",
    "    \"\"\"\n",
    "    \n",
    "    # Escribe aquí tu código\n",
    "    \n",
    "    \n",
    "    # Escribe aquí tu código\n",
    "    \n",
    "    return # Escribe aquí tu código"
   ]
  },
  {
   "cell_type": "code",
   "execution_count": null,
   "metadata": {},
   "outputs": [],
   "source": [
    "ejercicio_70()"
   ]
  },
  {
   "cell_type": "code",
   "execution_count": null,
   "metadata": {},
   "outputs": [],
   "source": [
    "calificador.califica_ejercicio_70(ejercicio_70, CORREO)"
   ]
  }
 ],
 "metadata": {
  "kernelspec": {
   "display_name": "infotec",
   "language": "python",
   "name": "python3"
  },
  "language_info": {
   "codemirror_mode": {
    "name": "ipython",
    "version": 3
   },
   "file_extension": ".py",
   "mimetype": "text/x-python",
   "name": "python",
   "nbconvert_exporter": "python",
   "pygments_lexer": "ipython3",
   "version": "3.11.5"
  }
 },
 "nbformat": 4,
 "nbformat_minor": 2
}
