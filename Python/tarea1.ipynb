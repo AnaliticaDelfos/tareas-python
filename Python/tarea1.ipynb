{
 "cells": [
  {
   "cell_type": "code",
   "execution_count": null,
   "metadata": {},
   "outputs": [],
   "source": [
    "#\n",
    "#\n",
    "# EJECUTAR ESTA CELDA\n",
    "#\n",
    "#\n",
    "\n",
    "#####################################\n",
    "#       Tarea 1\n",
    "#####################################\n",
    "\n",
    "\n",
    "import calificador\n",
    "CORREO = \"TU CORREO\""
   ]
  },
  {
   "cell_type": "code",
   "execution_count": null,
   "metadata": {},
   "outputs": [],
   "source": [
    "def suma(a, b):\n",
    "    \"\"\"\n",
    "    Instrucciones:\n",
    "        Esta función toma los parámetros a y b\n",
    "        y devuelve la suma de dichos parámetros\n",
    "    \n",
    "    Ejemplo:\n",
    "        Si a = 1\n",
    "        y b = 2\n",
    "        la función debe regresar un 3\n",
    "\n",
    "    Recuerda:\n",
    "        Lo que la función \"regresa\" va justo después\n",
    "        de la palabra return\n",
    "\n",
    "    Recuerda:\n",
    "        Cuida la indentación.\n",
    "    \"\"\"\n",
    "\n",
    "    # Escribe aquí tu código\n",
    "    \n",
    "\n",
    "    # Escribe aquí tu código\n",
    "    \n",
    "    return # Escribe aquí tu código"
   ]
  },
  {
   "cell_type": "code",
   "execution_count": null,
   "metadata": {},
   "outputs": [],
   "source": [
    "calificador.califica_suma(suma, CORREO, False)"
   ]
  },
  {
   "cell_type": "code",
   "execution_count": null,
   "metadata": {},
   "outputs": [],
   "source": [
    "def resta(a, b):\n",
    "    \"\"\"\n",
    "    Instrucciones:\n",
    "        Esta función toma los parámetros a y b\n",
    "        y regresa el resultado de restar b a a\n",
    "\n",
    "    Ejemplo:\n",
    "        Si a = 3\n",
    "        y b = 5\n",
    "        la función regresa -2\n",
    "\n",
    "    Recuerda:\n",
    "        Cuida la indentación.\n",
    "    \"\"\"\n",
    "\n",
    "    # Escribe aquí tu código\n",
    "    \n",
    "\n",
    "    # Escribe aquí tu código\n",
    "    \n",
    "    return # Escribe aquí tu código"
   ]
  },
  {
   "cell_type": "code",
   "execution_count": null,
   "metadata": {},
   "outputs": [],
   "source": [
    "calificador.califica_resta(resta, CORREO, False)"
   ]
  },
  {
   "cell_type": "code",
   "execution_count": null,
   "metadata": {},
   "outputs": [],
   "source": [
    "def multiplicacion(a, b):\n",
    "    \"\"\"\n",
    "    Instrucciones:\n",
    "        Esta función toma los parámetros a y b\n",
    "        y regresa el resultado de multiplicar b y a\n",
    "\n",
    "    Ejemplo:\n",
    "        Si a = 3\n",
    "        y b = 5\n",
    "        la función regresa 15\n",
    "\n",
    "    Recuerda:\n",
    "        Cuida la indentación.\n",
    "    \"\"\"\n",
    "\n",
    "    # Escribe aquí tu código\n",
    "    \n",
    "\n",
    "    # Escribe aquí tu código\n",
    "    \n",
    "    return # Escribe aquí tu código"
   ]
  },
  {
   "cell_type": "code",
   "execution_count": null,
   "metadata": {},
   "outputs": [],
   "source": [
    "calificador.califica_multiplicacion(multiplicacion, CORREO, False)"
   ]
  },
  {
   "cell_type": "code",
   "execution_count": null,
   "metadata": {},
   "outputs": [],
   "source": [
    "def division(a, b):\n",
    "    \"\"\"\n",
    "    Instrucciones:\n",
    "        Esta función toma los parámetros a y b\n",
    "        y regresa el resultado de dividir a entre b\n",
    "\n",
    "    Ejemplo:\n",
    "        Si a = 10\n",
    "        y b = 5\n",
    "        la función regresa 2\n",
    "\n",
    "    Recuerda:\n",
    "        Cuida la indentación.\n",
    "    \"\"\"\n",
    "\n",
    "    # Escribe aquí tu código\n",
    "    \n",
    "\n",
    "    # Escribe aquí tu código\n",
    "    \n",
    "    return # Escribe aquí tu código"
   ]
  },
  {
   "cell_type": "code",
   "execution_count": null,
   "metadata": {},
   "outputs": [],
   "source": [
    "calificador.califica_division(division, CORREO, False)"
   ]
  },
  {
   "cell_type": "code",
   "execution_count": null,
   "metadata": {},
   "outputs": [],
   "source": [
    "def al_cuadrado(a):\n",
    "    \"\"\"\n",
    "    Instrucciones:\n",
    "        Esta función toma un parámetro a\n",
    "        y regresa el resultado de elevar ese número al cuadrado\n",
    "\n",
    "    Ejemplo:\n",
    "        Si a = 10\n",
    "        la función regresa 100\n",
    "\n",
    "    Recuerda:\n",
    "        Cuida la indentación.\n",
    "    \"\"\"\n",
    "\n",
    "    # Escribe aquí tu código\n",
    "    \n",
    "\n",
    "    # Escribe aquí tu código\n",
    "    \n",
    "    return # Escribe aquí tu código"
   ]
  },
  {
   "cell_type": "code",
   "execution_count": null,
   "metadata": {},
   "outputs": [],
   "source": [
    "calificador.califica_al_cuadrado(al_cuadrado, CORREO, False)"
   ]
  },
  {
   "cell_type": "code",
   "execution_count": null,
   "metadata": {},
   "outputs": [],
   "source": [
    "def potencia(a, b):\n",
    "    \"\"\"\n",
    "    Instrucciones:\n",
    "        Esta función toma los parámetros a y b\n",
    "        y regresa el resultado de elevar el número a\n",
    "        a la pontencia b\n",
    "\n",
    "    Ejemplo:\n",
    "        Si a = 2\n",
    "        y b = 5\n",
    "        la función regresa 32\n",
    "\n",
    "    Recuerda:\n",
    "        Cuida la indentación.\n",
    "    \"\"\"\n",
    "\n",
    "    # Escribe aquí tu código\n",
    "    \n",
    "\n",
    "    # Escribe aquí tu código\n",
    "    \n",
    "    return # Escribe aquí tu código"
   ]
  },
  {
   "cell_type": "code",
   "execution_count": null,
   "metadata": {},
   "outputs": [],
   "source": [
    "calificador.califica_potencia(potencia, CORREO, False)"
   ]
  },
  {
   "cell_type": "code",
   "execution_count": null,
   "metadata": {},
   "outputs": [],
   "source": [
    "def suma_mas_dos(a, b):\n",
    "    \"\"\"\n",
    "    Instrucciones:\n",
    "        Esta función recibe dos parámetros\n",
    "        a y b\n",
    "        efectúa la suma de estos dos, es decir\n",
    "        a + b\n",
    "        a ese resultado se le suma 2 y se\n",
    "        regresa el nuevo resultado\n",
    "\n",
    "    Ejemplo:\n",
    "        Si a = 1\n",
    "        y b = 2\n",
    "        su suma da 3\n",
    "        y 3 + 2 = 5\n",
    "        Regresa 5\n",
    "\n",
    "    Recuerda:\n",
    "        Cuida la indentación.\n",
    "    \"\"\"\n",
    "    \n",
    "    # Escribe aquí tu código\n",
    "    \n",
    "\n",
    "    # Escribe aquí tu código\n",
    "\n",
    "    return # Escribe aquí tu código"
   ]
  },
  {
   "cell_type": "code",
   "execution_count": null,
   "metadata": {},
   "outputs": [],
   "source": [
    "calificador.califica_suma_mas_dos(suma_mas_dos, CORREO, False)"
   ]
  },
  {
   "cell_type": "code",
   "execution_count": null,
   "metadata": {},
   "outputs": [],
   "source": [
    "def resta_menos_veinte(a, b):\n",
    "    \"\"\"\n",
    "    Instrucciones:\n",
    "        Esta función recibe dos parámetros\n",
    "        a y b\n",
    "        efectúa la resta de b menos a es decir\n",
    "        b - a\n",
    "        a ese resultado se le resta veinte y se\n",
    "        regresa el nuevo resultado\n",
    "\n",
    "    Ejemplo:\n",
    "        Si a = 10\n",
    "        y b = 2\n",
    "        su resta da -8\n",
    "        y -8 - 20 = -28\n",
    "        Regresa -28\n",
    "\n",
    "    Recuerda:\n",
    "        Cuida la indentación.\n",
    "    \"\"\"\n",
    "    \n",
    "    # Escribe aquí tu código\n",
    "    \n",
    "\n",
    "    # Escribe aquí tu código\n",
    "    \n",
    "    return # Escribe aquí tu código"
   ]
  },
  {
   "cell_type": "code",
   "execution_count": null,
   "metadata": {},
   "outputs": [],
   "source": [
    "calificador.califica_resta_menos_veinte(resta_menos_veinte, CORREO, False)"
   ]
  },
  {
   "attachments": {},
   "cell_type": "markdown",
   "metadata": {},
   "source": [
    "Ecuación para el siguiente ejercicio:\n",
    "\n",
    "$$r = \\frac{a^2 + b*3 + \\frac{c}{2}}{2}$$"
   ]
  },
  {
   "cell_type": "code",
   "execution_count": null,
   "metadata": {},
   "outputs": [],
   "source": [
    "def primer_ecuacion(a, b, c):\n",
    "    \"\"\"\n",
    "    Instrucciones:\n",
    "        Esta función recibe tres parámetros\n",
    "        a, b y c, y devuelve el resultado\n",
    "        de usar esos parámetros en la ecuación anterior\n",
    "\n",
    "    Consejo:\n",
    "        Calcula primero a cuadrada, b por 3 c entre dos\n",
    "        y así sucesivamente, hazlo paso a paso.\n",
    "    \"\"\"\n",
    "\n",
    "    # Escribe aquí tu código\n",
    "    \n",
    "\n",
    "    # Escribe aquí tu código\n",
    "    \n",
    "    return # Escribe aquí tu código"
   ]
  },
  {
   "cell_type": "code",
   "execution_count": null,
   "metadata": {},
   "outputs": [],
   "source": [
    "calificador.califica_primer_ecuacion(primer_ecuacion, CORREO, False)"
   ]
  },
  {
   "attachments": {},
   "cell_type": "markdown",
   "metadata": {},
   "source": [
    "Fórmula para convertir de grados Fahrenheit a grados Celsius:\n",
    "$$°C = (°F - 32)*\\frac{5}{9}$$"
   ]
  },
  {
   "cell_type": "code",
   "execution_count": null,
   "metadata": {},
   "outputs": [],
   "source": [
    "def fahrenheit_a_celsius(grados_fahrenheit):\n",
    "    \"\"\"\n",
    "    Instrucciones:\n",
    "        Esta función recibe un parámetro de nombre: grados_fahrenheit,\n",
    "        calcula su equivalencia en grados celsius y devuelve la equivalencia\n",
    "\n",
    "    Nota:\n",
    "        La fórmula para convertir grados Fahrenheit a grados Celsius\n",
    "        se encuentra en la celda anterior.\n",
    "    \"\"\"\n",
    "\n",
    "    # Escribe aquí tu código\n",
    "    \n",
    "\n",
    "    # Escribe aquí tu código\n",
    "    \n",
    "    return # Escribe aquí tu código"
   ]
  },
  {
   "cell_type": "code",
   "execution_count": null,
   "metadata": {},
   "outputs": [],
   "source": [
    "calificador.califica_fahrenheit_a_celsius(fahrenheit_a_celsius, CORREO, False)"
   ]
  }
 ],
 "metadata": {
  "language_info": {
   "name": "python"
  },
  "orig_nbformat": 4
 },
 "nbformat": 4,
 "nbformat_minor": 2
}
