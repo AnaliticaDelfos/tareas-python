{
 "cells": [
  {
   "cell_type": "code",
   "execution_count": null,
   "metadata": {},
   "outputs": [],
   "source": [
    "#\n",
    "#\n",
    "# EJECUTAR ESTA CELDA\n",
    "#\n",
    "#\n",
    "\n",
    "#####################################\n",
    "#       Tarea 4\n",
    "#####################################\n",
    "\n",
    "\n",
    "import calificador\n",
    "CORREO = \"TU CORREO\""
   ]
  },
  {
   "cell_type": "code",
   "execution_count": null,
   "metadata": {},
   "outputs": [],
   "source": [
    "def calculo_de_posicion_de_un_cuerpo_en_movimiento_con_aceleracion_constante(posicion_inicial, velocidad_inicial, instante_t, aceleracion):\n",
    "    \"\"\"\n",
    "    Instrucciones:\n",
    "        Esta función recibe como parámetros\n",
    "        la posición inicial, velocidad inicial\n",
    "        y aceleracion en un instante de tiempo t\n",
    "        de un cuerpo en movimiento con aceleración\n",
    "        constante.\n",
    "\n",
    "        Calcula la posición de dicho cuerpo al cabo \n",
    "        de del tiempo t.\n",
    "\n",
    "        La fórmula para calcular la posición es:\n",
    "        posicion inicial + velocidad inicial * tiempo + 1/2 * aceleracion * (tiempo al cuadrado).\n",
    "\n",
    "        La función devuelve la cadena 'La posición es: ...m'\n",
    "        Reemplazando los ... con el resultado del cálculo anterior.\n",
    "\n",
    "    Recuerda:\n",
    "        Cuida la indentación.\n",
    "\n",
    "    \"\"\"\n",
    "\n",
    "    # Escribe aquí tu código\n",
    "\n",
    "\n",
    "    # Escribe aquí tu código\n",
    "\n",
    "    return # Escribe aquí tu código"
   ]
  },
  {
   "cell_type": "code",
   "execution_count": null,
   "metadata": {},
   "outputs": [],
   "source": [
    "calificador.califica_calculo_de_posicion_de_un_cuerpo_en_movimiento_con_aceleracion_constante(calculo_de_posicion_de_un_cuerpo_en_movimiento_con_aceleracion_constante, CORREO, False)"
   ]
  },
  {
   "cell_type": "code",
   "execution_count": null,
   "metadata": {},
   "outputs": [],
   "source": [
    "def promedio_indice_masa_corporal(peso_p1, estatura_p1, peso_p2, estatura_p2, peso_p3, estatura_p3):\n",
    "    \"\"\"\n",
    "    Instrucciones:\n",
    "        Esta función recibe como parámetros\n",
    "        el peso y la estatura de 3 personas.\n",
    "\n",
    "        Deberás calcular el promedio del \n",
    "        indice de masa corporal de cada persona.\n",
    "\n",
    "        El índice de masa corporal se calcula como\n",
    "        peso / (estatura al cuadrado).\n",
    "\n",
    "        El promedio sería la suma de los tres \n",
    "        índices de masa corporal entre 3.\n",
    "\n",
    "        La función devuelve la cadena: 'El promedio de IMC es: ...'\n",
    "        reemplazando los ... con el cálculo anterior.\n",
    "\n",
    "    Recuerda:\n",
    "        Cuida la indentación.\n",
    "        \n",
    "    \"\"\"\n",
    "\n",
    "    # Escribe aquí tu código\n",
    "\n",
    "\n",
    "    # Escribe aquí tu código\n",
    "\n",
    "    return # Escribe aquí tu código"
   ]
  },
  {
   "cell_type": "code",
   "execution_count": null,
   "metadata": {},
   "outputs": [],
   "source": [
    "calificador.califica_promedio_inidice_masa_corporal(promedio_indice_masa_corporal, CORREO, False)"
   ]
  }
 ],
 "metadata": {
  "language_info": {
   "name": "python"
  },
  "orig_nbformat": 4
 },
 "nbformat": 4,
 "nbformat_minor": 2
}
