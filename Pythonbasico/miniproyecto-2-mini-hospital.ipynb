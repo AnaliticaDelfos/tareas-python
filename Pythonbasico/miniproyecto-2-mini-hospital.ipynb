{
 "cells": [
  {
   "cell_type": "markdown",
   "id": "1a40b4e8",
   "metadata": {},
   "source": [
    "# Mini proyecto"
   ]
  },
  {
   "cell_type": "markdown",
   "id": "a28d8d73",
   "metadata": {},
   "source": [
    "## Objetivo:\n",
    "\n",
    "Crear un mini sistema de registros médicos"
   ]
  },
  {
   "cell_type": "markdown",
   "id": "05153c41",
   "metadata": {},
   "source": [
    "## Instrucciones:\n",
    "\n",
    " - Se tendrán dos diccionarios que van a simular nuestra base de datos, un diccionario será para los doctores y otro diccionario será para los pacientes.\n",
    " - Crear un menú con el que se pueda hacer lo siguiente:\n",
    "     - Dar de alta doctores\n",
    "     - Dar de alta pacientes\n",
    "     - Agregar consultas a pacientes\n",
    "     - Ver la información de todos los pacientes\n",
    "     - Ver la información de todo los doctores\n",
    "     - Ver la información por paciente\n",
    "     - Ver la información por doctor\n",
    "     - Salir\n",
    " - En el caso de ver la información de todos los pacientes sólo se mostrará su nombre, código y el código de su doctor\n",
    " - En el caso de ver la información de todos los doctores sólo se mostrará su código y especialidad\n",
    " - En el caso de ver la información por paciente mostrar toda su información incluído el historial de consultas, además debe decir el nombre de su doctor, no su código\n",
    " - En el caso de ver la información por doctor mostrar toda su información\n",
    " - Los doctores deben tener la siguiente información:\n",
    "     - Nombre\n",
    "     - Código de doctor\n",
    "     - Especialidad\n",
    " - Los pacientes deben tener la siguiente información:\n",
    "     - Nombre\n",
    "     - Código de paciente\n",
    "     - Código de doctor\n",
    "     - Historial de consultas\n",
    " - El historial de consultas debe consistir en los siguiente:\n",
    "     - Fecha de la consulta\n",
    "     - Razón de consulta"
   ]
  },
  {
   "cell_type": "markdown",
   "id": "cc676858",
   "metadata": {},
   "source": [
    "## Consejos:\n",
    "\n",
    " - Separar el código en funciones\n",
    " - Comenzar con las funciones para agregar doctores y pacientes\n",
    " - Acceder a los diccionarios de doctores y alumnos con la palabra global"
   ]
  }
 ],
 "metadata": {
  "kernelspec": {
   "display_name": "Python 3 (ipykernel)",
   "language": "python",
   "name": "python3"
  },
  "language_info": {
   "codemirror_mode": {
    "name": "ipython",
    "version": 3
   },
   "file_extension": ".py",
   "mimetype": "text/x-python",
   "name": "python",
   "nbconvert_exporter": "python",
   "pygments_lexer": "ipython3",
   "version": "3.9.7"
  }
 },
 "nbformat": 4,
 "nbformat_minor": 5
}
