{
 "cells": [
  {
   "cell_type": "code",
   "execution_count": null,
   "metadata": {},
   "outputs": [],
   "source": [
    "#\n",
    "#\n",
    "# EJECUTAR ESTA CELDA\n",
    "#\n",
    "#\n",
    "\n",
    "#####################################\n",
    "#       Operaciones varias\n",
    "#####################################\n",
    "\n",
    "\n",
    "import calificador\n",
    "CORREO = \"TU CORREO\""
   ]
  },
  {
   "cell_type": "code",
   "execution_count": null,
   "metadata": {},
   "outputs": [],
   "source": [
    "def primer_caracter(palabra):\n",
    "    \"\"\"\n",
    "    Instrucciones:\n",
    "        Esta función recibe una palabra como argumento\n",
    "        llamado palabra\n",
    "        y devuelve el primer caracter de esa palabra\n",
    "\n",
    "    Ejemplo:\n",
    "        Si palabra = \"Curso de Python\"\n",
    "        regresa 'C'\n",
    "\n",
    "    Recuerda:\n",
    "        Para acceder a los elementos de un arreglo se\n",
    "        usan los corchetes [] y el índice del elemento al que \n",
    "        deseas acceder.\n",
    "        Cuida la indentación.\n",
    "    \"\"\"\n",
    "\n",
    "    # Escribe aquí tu código\n",
    "    \n",
    "\n",
    "    # Escribe aquí tu código\n",
    "    \n",
    "    return # Escribe aquí tu código\n"
   ]
  },
  {
   "cell_type": "code",
   "execution_count": null,
   "metadata": {},
   "outputs": [],
   "source": [
    "primer_caracter(\"Curso de Python\")"
   ]
  },
  {
   "cell_type": "code",
   "execution_count": null,
   "metadata": {},
   "outputs": [],
   "source": [
    "calificador.califica_primer_caracter(primer_caracter, CORREO, False)"
   ]
  },
  {
   "cell_type": "code",
   "execution_count": null,
   "metadata": {},
   "outputs": [],
   "source": [
    "def penultimo_caracter(palabra):\n",
    "    \"\"\"\n",
    "    Instrucciones:\n",
    "        Esta función recibe una palabra como argumento\n",
    "        llamado palabra\n",
    "        y devuelve el penúltimo caracter de esa palabra\n",
    "\n",
    "    Ejemplo:\n",
    "        Si palabra = \"Curso de Python\"\n",
    "        regresa 'o'\n",
    "\n",
    "    Recuerda:\n",
    "        Python admite índices negativos para acceder a los elementos\n",
    "        de un arreglo, lista, etc...\n",
    "        donde el índice -1 representa el último elemento\n",
    "        Cuida la indentación.\n",
    "    \"\"\"\n",
    "\n",
    "    # Escribe aquí tu código\n",
    "    \n",
    "\n",
    "    # Escribe aquí tu código\n",
    "    \n",
    "    return # Escribe aquí tu código"
   ]
  },
  {
   "cell_type": "code",
   "execution_count": null,
   "metadata": {},
   "outputs": [],
   "source": [
    "penultimo_caracter(\"Hola\")"
   ]
  },
  {
   "cell_type": "code",
   "execution_count": null,
   "metadata": {},
   "outputs": [],
   "source": [
    "calificador.califica_penultimo_caracter(penultimo_caracter, CORREO, False)"
   ]
  },
  {
   "cell_type": "code",
   "execution_count": null,
   "metadata": {},
   "outputs": [],
   "source": [
    "def mostrar_numeros(a, b, c):\n",
    "    \"\"\"\n",
    "    Instrucciones:\n",
    "        Esta función recibe como parámetros\n",
    "        tres números llamados\n",
    "        a, b y c.\n",
    "\n",
    "        La función debe regresar la cadena de caracteres\n",
    "        a = <a>, b = <b> y c = <c>\n",
    "        reemplazando lo que hay entre <> con el valor\n",
    "        de la variable correspondiente\n",
    "\n",
    "    Ejemplo:\n",
    "        Si a = 2\n",
    "        b = 3\n",
    "        c = 4\n",
    "        La función regresa 'a = 2, b = 3 y c = 4' (Ojo con los espacios)\n",
    "\n",
    "    Recuerda:\n",
    "        Para meter variables dentro de cadenas de caracteres\n",
    "        puedes anteponer la letra f antes de las comillas\n",
    "        y luego usar llaves {} para meter la variable:\n",
    "        Si a = 1\n",
    "        f\"a = {a}\" (nota que le estoy pasando la variable)\n",
    "        devuelve 'a = 1'\n",
    "        O puedes usar la función format()\n",
    "        Si a = 1\n",
    "        \"a = {0}\".format(a) (nota el uso de índices en este caso)\n",
    "        devuelve 'a = 1'\n",
    "\n",
    "    Recuerda:\n",
    "        Cuida la indentación.\n",
    "    \"\"\"\n",
    "\n",
    "    # Escribe aquí tu código\n",
    "\n",
    "\n",
    "    # Escribe aquí tu código\n",
    "    \n",
    "    return # Escribe aquí tu código"
   ]
  },
  {
   "cell_type": "code",
   "execution_count": null,
   "metadata": {},
   "outputs": [],
   "source": [
    "mostrar_numeros(1,2,3)"
   ]
  },
  {
   "cell_type": "code",
   "execution_count": null,
   "metadata": {},
   "outputs": [],
   "source": [
    "calificador.califica_mostrar_numeros(mostrar_numeros, CORREO, False)"
   ]
  },
  {
   "cell_type": "code",
   "execution_count": null,
   "metadata": {},
   "outputs": [],
   "source": [
    "def concatenar_cadenas(cadena1, cadena2):\n",
    "    \"\"\"\n",
    "    Instrucciones:\n",
    "        Esta función recibe como parámetros\n",
    "        dos cadenas llamadas \n",
    "        cadena1 y cadena2 respectivamente\n",
    "\n",
    "        Deberás crear una variable llamada\n",
    "        cadenas\n",
    "        que será el resultado de contactenar \n",
    "        la cadena1 y la cadena2\n",
    "\n",
    "    Ejemplo:\n",
    "        Si cadena1 = \"hola, \"\n",
    "        y cadena2 = \"mundo\"\n",
    "        cadenas tendra el valor de 'hola, mundo'\n",
    "\n",
    "    Recuerda:\n",
    "        Para concatenar cadenas se usa el operador +\n",
    "\n",
    "    Recuerda:\n",
    "        Cuida la indentación.\n",
    "\n",
    "    Observación:\n",
    "        Aunque este ejercicio se puede hacer con \n",
    "        una solución parecida al ejercicio anterior\n",
    "        usa el operador +\n",
    "    \"\"\"\n",
    "\n",
    "    # Escribe aquí tu código\n",
    "\n",
    "\n",
    "    # Escribe aquí tu código\n",
    "\n",
    "    return # Escribe aquí tu código"
   ]
  },
  {
   "cell_type": "code",
   "execution_count": null,
   "metadata": {},
   "outputs": [],
   "source": [
    "concatenar_cadenas(\"Hola, \", \"mundo\")"
   ]
  },
  {
   "cell_type": "code",
   "execution_count": null,
   "metadata": {},
   "outputs": [],
   "source": [
    "calificador.califica_concatenar_cadenas(concatenar_cadenas, CORREO, False)"
   ]
  },
  {
   "cell_type": "code",
   "execution_count": null,
   "metadata": {},
   "outputs": [],
   "source": [
    "def peso_de_un_cuerpo(masa):\n",
    "    \"\"\"\n",
    "    Instrucciones:\n",
    "        Esta función recibe como parámetro\n",
    "        la masa de un cuerpo en la variable masa\n",
    "\n",
    "        Deberás calcular el peso de un cuerpo\n",
    "        con esa masa.\n",
    "        La formula para calcular el peso de un cuerpo\n",
    "        es gravedad*masa\n",
    "        Toma la gravedad de la tierra con un valor de \n",
    "        9.81.\n",
    "\n",
    "    Observación:\n",
    "        No te sorprendas si al hacer una multiplicación\n",
    "        como 10*9.81 el resultado no sea exactamente\n",
    "        98.1\n",
    "\n",
    "    Recuerda:\n",
    "        Cuida la indentación.\n",
    "    \"\"\"\n",
    "\n",
    "    # Escribe aquí tu código\n",
    "\n",
    "\n",
    "    # Escribe aquí tu código\n",
    "\n",
    "    return # Escribe aquí tu código"
   ]
  },
  {
   "cell_type": "code",
   "execution_count": null,
   "metadata": {},
   "outputs": [],
   "source": [
    "calificador.califica_peso_de_un_cuerpo(peso_de_un_cuerpo, CORREO, False)"
   ]
  },
  {
   "cell_type": "code",
   "execution_count": null,
   "metadata": {},
   "outputs": [],
   "source": [
    "def calculo_de_velocidad_constante(distancia, instante_t):\n",
    "    \"\"\"\n",
    "    Instrucciones:\n",
    "        Esta función recibe como parámetros\n",
    "        la distancia que recorre un objeto en movimiento\n",
    "        y el instante te tiempo t en el que se quiere\n",
    "        medir su velocidad\n",
    "        \n",
    "\n",
    "        Calcula la velocidad del cuerpo en movimiento\n",
    "        data la distancia y el instante_t\n",
    "\n",
    "        La formula para calcular la velocidad es\n",
    "        distancia / tiempo\n",
    "\n",
    "    Recuerda:\n",
    "        Cuida la indentación.\n",
    "        \n",
    "    \"\"\"\n",
    "\n",
    "    # Escribe aquí tu código\n",
    "\n",
    "\n",
    "    # Escribe aquí tu código\n",
    "\n",
    "    return # Escribe aquí tu código"
   ]
  },
  {
   "cell_type": "code",
   "execution_count": null,
   "metadata": {},
   "outputs": [],
   "source": [
    "calificador.califica_calculo_de_velocidad_constante(calculo_de_velocidad_constante, CORREO, False)"
   ]
  },
  {
   "cell_type": "code",
   "execution_count": null,
   "metadata": {},
   "outputs": [],
   "source": [
    "def calculo_de_velocidad_con_aceleracion(velocidad_inicial, aceleracion, instante_t):\n",
    "    \"\"\"\n",
    "    Instrucciones:\n",
    "        Esta función recibe como parámetros\n",
    "        la velocidad inicial, la aceleracion\n",
    "        y un instante t\n",
    "        de un cuerpo en movimiento uniformemente\n",
    "        acelerado.\n",
    "\n",
    "        Calcula la velocidad del cuerpo en movimiento\n",
    "        dada su velocidad inicial y aceleracion \n",
    "        en el tiempo t\n",
    "\n",
    "        La fórmula para calcular la velocidad de un cuerpo\n",
    "        en movimiento con aceleración constante es:\n",
    "        velocidad_inicial + aceleracion * tiempo\n",
    "\n",
    "    Recuerda:\n",
    "        Cuida la indentación.\n",
    "        \n",
    "    \"\"\"\n",
    "\n",
    "    # Escribe aquí tu código\n",
    "\n",
    "\n",
    "    # Escribe aquí tu código\n",
    "\n",
    "    return # Escribe aquí tu código"
   ]
  },
  {
   "cell_type": "code",
   "execution_count": null,
   "metadata": {},
   "outputs": [],
   "source": [
    "calificador.califica_calculo_de_velocidad_con_aceleracion(calculo_de_velocidad_con_aceleracion, CORREO, False)"
   ]
  },
  {
   "cell_type": "code",
   "execution_count": null,
   "metadata": {},
   "outputs": [],
   "source": [
    "def calculo_de_posicion_de_un_cuerpo_en_movimiento_con_aceleracion_constante(posicion_inicial, velocidad_inicial, instante_t, aceleracion):\n",
    "    \"\"\"\n",
    "    Instrucciones:\n",
    "        Esta función recibe como parámetros\n",
    "        la posición inicial, velocidad inicial\n",
    "        y aceleracion en un instante de tiempo t\n",
    "        de un cuerpo en movimiento con aceleración\n",
    "        constante.\n",
    "\n",
    "        Calcula la posición de dicho cuerpo al cabo \n",
    "        de del tiempo t.\n",
    "\n",
    "        La fórmula para calcular la posición es:\n",
    "        posicion inicial + velocidad inicial * tiempo + 1/2 * aceleracion * (tiempo al cuadrado)\n",
    "\n",
    "    Recuerda:\n",
    "        Cuida la indentación.\n",
    "\n",
    "    \"\"\"\n",
    "\n",
    "    # Escribe aquí tu código\n",
    "\n",
    "\n",
    "    # Escribe aquí tu código\n",
    "\n",
    "    return # Escribe aquí tu código"
   ]
  },
  {
   "cell_type": "code",
   "execution_count": null,
   "metadata": {},
   "outputs": [],
   "source": [
    "calificador.califica_calculo_de_posicion_de_un_cuerpo_en_movimiento_con_aceleracion_constante(calculo_de_posicion_de_un_cuerpo_en_movimiento_con_aceleracion_constante, CORREO, False)"
   ]
  },
  {
   "cell_type": "code",
   "execution_count": null,
   "metadata": {},
   "outputs": [],
   "source": [
    "def promedio_inidice_masa_corporal(peso_p1, estatura_p1, peso_p2, estatura_p2, peso_p3, estatura_p3):\n",
    "    \"\"\"\n",
    "    Instrucciones:\n",
    "        Esta función recibe como parámetros\n",
    "        el peso y la estatura de 3 personas.\n",
    "\n",
    "        Deberás calcular el promedio del \n",
    "        indice de masa corporal de cada persona.\n",
    "\n",
    "        El índice de masa corporal se calcula como\n",
    "        peso / (estatura al cuadrado).\n",
    "\n",
    "        El promedio sería la suma de los tres \n",
    "        índices de masa corporal entre 3.\n",
    "\n",
    "    Recuerda:\n",
    "        Cuida la indentación.\n",
    "        \n",
    "    \"\"\"\n",
    "\n",
    "    # Escribe aquí tu código\n",
    "\n",
    "\n",
    "    # Escribe aquí tu código\n",
    "\n",
    "    return # Escribe aquí tu código"
   ]
  },
  {
   "cell_type": "code",
   "execution_count": null,
   "metadata": {},
   "outputs": [],
   "source": [
    "calificador.califica_promedio_inidice_masa_corporal(promedio_inidice_masa_corporal, CORREO, False)"
   ]
  }
 ],
 "metadata": {
  "language_info": {
   "name": "python"
  },
  "orig_nbformat": 4
 },
 "nbformat": 4,
 "nbformat_minor": 2
}
