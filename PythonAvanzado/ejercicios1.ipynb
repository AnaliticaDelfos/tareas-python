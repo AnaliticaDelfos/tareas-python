{
 "cells": [
  {
   "cell_type": "markdown",
   "metadata": {},
   "source": [
    "# Ejercicio"
   ]
  },
  {
   "cell_type": "markdown",
   "metadata": {},
   "source": [
    "Crear una clase para representar un banco.\n",
    "Supongamos que todos los bancos creados a partir de la clase pertenece a la misma empresa y que pueden tener distintos nombres, de este modo la clase banco debe contar con los siguientes atributos de clase:\n",
    "- Nombre de la agencia con el valor de la cadena de caracteres Analítica Delfos.\n",
    "\n",
    "Además de contar con la siguiente propiedades:\n",
    "- Un registro interno de los bancos que se han creado, este registro es una propiedad privada y es un diccionario donde se guarda el identificador de cada banco junto a su dirección y el monto total de dinero que tiene cada banco, este registro se actualiza al momento de crear un banco y cuando ingrese dinero a dicho banco.\n",
    "\n",
    "La clase banco debe contar con los siguientes métodos de clase (o estáticos):\n",
    "- crear_identificador: Debe ser privado y genera el identificador que se le dará a cada banco, puedes generarlo de la forma que se te ocurra.\n",
    "- mostrar_registros: Es público y muestra los registros que tiene la clase de los bancos.\n",
    "\n",
    "Los bancos deben tener las siguientes propiedades:\n",
    "- nombre_de_banco: Cadena de caracteres, se define al momento de crear el banco.\n",
    "- identificador: Se crea a partir del método crear identificador propio de la clase.\n",
    "- direccion: Cadena de caracteres, se define al momento de lac reación del banco.\n",
    "- monto. Se define como 0 al momento de crear el banco.\n",
    "- clientes. Diccionario donde las claves son los nombres de los clientes y los valores el monto de cada cliente. Se define como diccionario vacio al momento de su creación.\n",
    "- transacciones. Lista que contiene diccionarios de los depósitos de los clientes, así como el nombre del cliente. Se define como lista vacía al momnento de su creación.\n"
   ]
  },
  {
   "cell_type": "code",
   "execution_count": null,
   "metadata": {},
   "outputs": [],
   "source": [
    "# Plantea aquí tu solución:\n"
   ]
  }
 ],
 "metadata": {
  "language_info": {
   "name": "python"
  },
  "orig_nbformat": 4
 },
 "nbformat": 4,
 "nbformat_minor": 2
}
