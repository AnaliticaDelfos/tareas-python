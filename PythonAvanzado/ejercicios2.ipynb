{
 "cells": [
  {
   "cell_type": "markdown",
   "metadata": {},
   "source": [
    "# Dado un archivo json realizar lo siguiente:"
   ]
  },
  {
   "cell_type": "markdown",
   "metadata": {},
   "source": [
    "## Crear una clase llamada Reporter.\n",
    " La clase reporter tendrá 3 métodos:\n",
    " - \\_\\_init\\_\\_: El cual inicializa la variable contenido como un diccionario vacio\n",
    " - abrir_archivo: El cual recibirá el nombre del archivo que va a cargar usando la librería json y depositará su contenido en la propiedad contendio del objeto creado a partir de esta clase es decir, contenido es una propiedad de objeto o de instancia, no de clase.\n",
    " - crear_reporte: Este método crea el reporte y lo guarda como un archivo json."
   ]
  },
  {
   "cell_type": "markdown",
   "metadata": {},
   "source": [
    "El reporte estará conformado por lo siguiente:\n",
    "- calculos: La suma de cada una de las listas dentro del archivo original, las listas deben ser guardadas bajo la clave formada por código de tienda, un guión medio, código de artículo.\n",
    "- listas_corruptas: Una lista de las listas que tuvieron el número 53 como los primeros 2 dígitos de cualquier elemento, los nombres de las listas deberán guardarse como código de tienda, un guión medio, código de artículo.\n",
    "- lista_con_0: El nombre de la primer lista que contenga un cero, el nombre de la lista deberá guardarse como código de tienda, un guión medio,código de artículo."
   ]
  },
  {
   "cell_type": "markdown",
   "metadata": {},
   "source": [
    "## Restricciones:\n",
    "- Los números a sumar no pueden ser aquellos que tengan el número 53 como los primeros 2 dígitos.\n",
    "- No se tomarán encuenta las tiendas que tienen el 13 en alguna parte de de su código.\n",
    "- Aquella lista que aparezca en la lista_con_0 no debe aparecer en los cálculos.\n",
    "- Usar breaks y continues, no usar ningún else.\n",
    "- Al momento de encontrarse un 0 en una lista, registrar la lista que lo contiene y terminar los cálculos, es decir, una vez que se encuentre el 0, dejar de revisar las listas.\n",
    "- Escribe anotaciones y usa tipos de datos"
   ]
  },
  {
   "cell_type": "markdown",
   "metadata": {},
   "source": [
    "## Al finalizar:\n",
    "- Redondea las sumas que guardaste en el reporte bajo calculos a 2 dígitos.\n",
    "- Se deberá guardar el reporte en un archivo llamado reporte.json.\n",
    "- Usar la función comparar provista para verificar si lo hiciste bien."
   ]
  },
  {
   "cell_type": "markdown",
   "metadata": {},
   "source": [
    "## Recordatorios:\n",
    "- Para abrir un archivo json y convertir su contendio en un diccionario de python se puede usar el siguiente fragmento de código:\n",
    "``` Python\n",
    "with open(nombre_archivo) as f:\n",
    "  contenido = json.load(f)\n",
    "```"
   ]
  },
  {
   "cell_type": "markdown",
   "metadata": {},
   "source": [
    "Para guardar un diccionario dentro de un archivo json se puede usar algo como lo siguiente:\n",
    "```Python\n",
    "with open(archivo_destino, \"w\") as f:\n",
    "  json.dump(diccionario, f)\n",
    "```"
   ]
  },
  {
   "cell_type": "markdown",
   "metadata": {},
   "source": [
    "En ambos casos anteriores debes importar la librería json"
   ]
  },
  {
   "cell_type": "markdown",
   "metadata": {},
   "source": [
    "No puedes comparar los dígitos de un número con otro número primero convierte el número a cadenas de caracteres y luego compara los primeros dos caracteres con la cadena \"53\"."
   ]
  },
  {
   "cell_type": "code",
   "execution_count": null,
   "metadata": {},
   "outputs": [],
   "source": [
    "# Aquí puedes escribir tu código\n",
    "import json"
   ]
  },
  {
   "cell_type": "code",
   "execution_count": null,
   "metadata": {},
   "outputs": [],
   "source": [
    "from pprint import pprint\n",
    "import json"
   ]
  },
  {
   "cell_type": "code",
   "execution_count": null,
   "metadata": {},
   "outputs": [],
   "source": [
    "def ver_reporte_para_cotejo():\n",
    "    with open(\"reporte-resultado.json\") as f:\n",
    "        reporte: dict = json.load(f)\n",
    "        pprint(reporte)\n",
    "\n",
    "ver_reporte_para_cotejo()"
   ]
  },
  {
   "cell_type": "code",
   "execution_count": null,
   "metadata": {},
   "outputs": [],
   "source": [
    "# Pequeño fragmento para abrir el archivo a trabajar,\n",
    "# modificar según se requiera, pero recordar el nombre\n",
    "ruta_archivo = \"ejercicio-1-python-avanzado.json\"\n",
    "with open(ruta_archivo) as f:\n",
    "    contenido: dict = json.load(f)\n",
    "    pprint(contenido)"
   ]
  }
 ],
 "metadata": {
  "kernelspec": {
   "display_name": "delfosenv",
   "language": "python",
   "name": "python3"
  },
  "language_info": {
   "codemirror_mode": {
    "name": "ipython",
    "version": 3
   },
   "file_extension": ".py",
   "mimetype": "text/x-python",
   "name": "python",
   "nbconvert_exporter": "python",
   "pygments_lexer": "ipython3",
   "version": "3.11.4"
  },
  "orig_nbformat": 4
 },
 "nbformat": 4,
 "nbformat_minor": 2
}
