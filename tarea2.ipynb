{
 "cells": [
  {
   "cell_type": "code",
   "execution_count": null,
   "metadata": {},
   "outputs": [],
   "source": [
    "#\n",
    "#\n",
    "# EJECUTAR ESTA CELDA\n",
    "#\n",
    "#\n",
    "\n",
    "#####################################\n",
    "#       Operaciones artiméticas\n",
    "#####################################\n",
    "\n",
    "\n",
    "import calificador\n",
    "UUID = \"TU CLAVE\"\n",
    "DESEO_CONTRIBUIR_A_MEJORAR = True"
   ]
  },
  {
   "cell_type": "markdown",
   "metadata": {},
   "source": [
    "# Ejercicios"
   ]
  },
  {
   "cell_type": "code",
   "execution_count": null,
   "metadata": {},
   "outputs": [],
   "source": [
    "def suma(a, b):\n",
    "    \"\"\"\n",
    "    Instrucciones:\n",
    "        Esta función toma los parámetros a y b\n",
    "        y devuelve la suma de dichos parámetros\n",
    "    \n",
    "    Ejemplo:\n",
    "        Si a = 1\n",
    "        y b = 2\n",
    "        la función debe regresar un 3\n",
    "\n",
    "    Recuerda:\n",
    "        Lo que la función \"regresa\" va justo después\n",
    "        de la palabra return\n",
    "\n",
    "    Recuerda:\n",
    "        Cuida la indentación.\n",
    "    \"\"\"\n",
    "\n",
    "    # Escribe aquí tu código\n",
    "    \n",
    "\n",
    "    # Escribe aquí tu código\n",
    "    \n",
    "    return # Escribe aquí tu código"
   ]
  },
  {
   "cell_type": "code",
   "execution_count": null,
   "metadata": {},
   "outputs": [],
   "source": [
    "suma(20, 30)"
   ]
  },
  {
   "cell_type": "code",
   "execution_count": null,
   "metadata": {},
   "outputs": [],
   "source": [
    "calificador.califica_suma(suma, UUID, DESEO_CONTRIBUIR_A_MEJORAR)"
   ]
  },
  {
   "cell_type": "code",
   "execution_count": null,
   "metadata": {},
   "outputs": [],
   "source": [
    "def resta(a, b):\n",
    "    \"\"\"\n",
    "    Instrucciones:\n",
    "        Esta función toma los parámetros a y b\n",
    "        y regresa el resultado de restar b a a\n",
    "\n",
    "    Ejemplo:\n",
    "        Si a = 3\n",
    "        y b = 5\n",
    "        la función regresa -2\n",
    "\n",
    "    Recuerda:\n",
    "        Cuida la indentación.\n",
    "    \"\"\"\n",
    "\n",
    "    # Escribe aquí tu código\n",
    "    \n",
    "\n",
    "    # Escribe aquí tu código\n",
    "    \n",
    "    return # Escribe aquí tu código"
   ]
  },
  {
   "cell_type": "code",
   "execution_count": null,
   "metadata": {},
   "outputs": [],
   "source": [
    "resta(10, 15)"
   ]
  },
  {
   "cell_type": "code",
   "execution_count": null,
   "metadata": {},
   "outputs": [],
   "source": [
    "calificador.califica_resta(resta, UUID, DESEO_CONTRIBUIR_A_MEJORAR)"
   ]
  },
  {
   "cell_type": "code",
   "execution_count": null,
   "metadata": {},
   "outputs": [],
   "source": [
    "def multiplicacion(a, b):\n",
    "    \"\"\"\n",
    "    Instrucciones:\n",
    "        Esta función toma los parámetros a y b\n",
    "        y regresa el resultado de multiplicar b y a\n",
    "\n",
    "    Ejemplo:\n",
    "        Si a = 3\n",
    "        y b = 5\n",
    "        la función regresa 15\n",
    "\n",
    "    Recuerda:\n",
    "        Cuida la indentación.\n",
    "    \"\"\"\n",
    "\n",
    "    # Escribe aquí tu código\n",
    "    \n",
    "\n",
    "    # Escribe aquí tu código\n",
    "    \n",
    "    return # Escribe aquí tu código"
   ]
  },
  {
   "cell_type": "code",
   "execution_count": null,
   "metadata": {},
   "outputs": [],
   "source": [
    "multiplicacion(8, 5)"
   ]
  },
  {
   "cell_type": "code",
   "execution_count": null,
   "metadata": {},
   "outputs": [],
   "source": [
    "calificador.califica_multiplicacion(multiplicacion, UUID, DESEO_CONTRIBUIR_A_MEJORAR)"
   ]
  },
  {
   "cell_type": "code",
   "execution_count": null,
   "metadata": {},
   "outputs": [],
   "source": [
    "def division(a, b):\n",
    "    \"\"\"\n",
    "    Instrucciones:\n",
    "        Esta función toma los parámetros a y b\n",
    "        y regresa el resultado de dividir a entre b\n",
    "\n",
    "    Ejemplo:\n",
    "        Si a = 10\n",
    "        y b = 5\n",
    "        la función regresa 2\n",
    "\n",
    "    Recuerda:\n",
    "        Cuida la indentación.\n",
    "    \"\"\"\n",
    "\n",
    "    # Escribe aquí tu código\n",
    "    \n",
    "\n",
    "    # Escribe aquí tu código\n",
    "    \n",
    "    return # Escribe aquí tu código"
   ]
  },
  {
   "cell_type": "code",
   "execution_count": null,
   "metadata": {},
   "outputs": [],
   "source": [
    "division(10, 2)"
   ]
  },
  {
   "cell_type": "code",
   "execution_count": null,
   "metadata": {},
   "outputs": [],
   "source": [
    "calificador.califica_division(division, UUID, DESEO_CONTRIBUIR_A_MEJORAR)"
   ]
  },
  {
   "cell_type": "code",
   "execution_count": null,
   "metadata": {},
   "outputs": [],
   "source": [
    "def al_cuadrado(a):\n",
    "    \"\"\"\n",
    "    Instrucciones:\n",
    "        Esta función toma un parámetro a\n",
    "        y regresa el resultado de elevar ese número al cuadrado\n",
    "\n",
    "    Ejemplo:\n",
    "        Si a = 10\n",
    "        la función regresa 100\n",
    "\n",
    "    Recuerda:\n",
    "        Cuida la indentación.\n",
    "    \"\"\"\n",
    "\n",
    "    # Escribe aquí tu código\n",
    "    \n",
    "\n",
    "    # Escribe aquí tu código\n",
    "    \n",
    "    return # Escribe aquí tu código"
   ]
  },
  {
   "cell_type": "code",
   "execution_count": null,
   "metadata": {},
   "outputs": [],
   "source": [
    "al_cuadrado(3)"
   ]
  },
  {
   "cell_type": "code",
   "execution_count": null,
   "metadata": {},
   "outputs": [],
   "source": [
    "calificador.califica_al_cuadrado(al_cuadrado, UUID, DESEO_CONTRIBUIR_A_MEJORAR)"
   ]
  },
  {
   "cell_type": "code",
   "execution_count": null,
   "metadata": {},
   "outputs": [],
   "source": [
    "def potencia(a, b):\n",
    "    \"\"\"\n",
    "    Instrucciones:\n",
    "        Esta función toma los parámetros a y b\n",
    "        y regresa el resultado de elevar el número a\n",
    "        a la pontencia b\n",
    "\n",
    "    Ejemplo:\n",
    "        Si a = 2\n",
    "        y b = 5\n",
    "        la función regresa 32\n",
    "\n",
    "    Recuerda:\n",
    "        Cuida la indentación.\n",
    "    \"\"\"\n",
    "\n",
    "    # Escribe aquí tu código\n",
    "    \n",
    "\n",
    "    # Escribe aquí tu código\n",
    "    \n",
    "    return # Escribe aquí tu código"
   ]
  },
  {
   "cell_type": "code",
   "execution_count": null,
   "metadata": {},
   "outputs": [],
   "source": [
    "potencia(3, 5)"
   ]
  },
  {
   "cell_type": "code",
   "execution_count": null,
   "metadata": {},
   "outputs": [],
   "source": [
    "calificador.califica_potencia(potencia, UUID, DESEO_CONTRIBUIR_A_MEJORAR)"
   ]
  },
  {
   "cell_type": "code",
   "execution_count": null,
   "metadata": {},
   "outputs": [],
   "source": [
    "def suma_mas_dos(a, b):\n",
    "    \"\"\"\n",
    "    Instrucciones:\n",
    "        Esta función recibe dos parámetros\n",
    "        a y b\n",
    "        efectúa la suma de estos dos, es decir\n",
    "        a + b\n",
    "        a ese resultado se le suma 2 y se\n",
    "        regresa el nuevo resultado\n",
    "\n",
    "    Ejemplo:\n",
    "        Si a = 1\n",
    "        y b = 2\n",
    "        su suma da 3\n",
    "        y 3 + 2 = 5\n",
    "        Regresa 5\n",
    "\n",
    "    Recuerda:\n",
    "        Cuida la indentación.\n",
    "    \"\"\"\n",
    "    \n",
    "    # Escribe aquí tu código\n",
    "    \n",
    "\n",
    "    # Escribe aquí tu código\n",
    "\n",
    "    return # Escribe aquí tu código"
   ]
  },
  {
   "cell_type": "code",
   "execution_count": null,
   "metadata": {},
   "outputs": [],
   "source": [
    "suma_mas_dos(3, 4)"
   ]
  },
  {
   "cell_type": "code",
   "execution_count": null,
   "metadata": {},
   "outputs": [],
   "source": [
    "calificador.califica_suma_mas_dos(suma_mas_dos, UUID, DESEO_CONTRIBUIR_A_MEJORAR)"
   ]
  },
  {
   "cell_type": "code",
   "execution_count": null,
   "metadata": {},
   "outputs": [],
   "source": [
    "def resta_menos_veinte(a, b):\n",
    "    \"\"\"\n",
    "    Instrucciones:\n",
    "        Esta función recibe dos parámetros\n",
    "        a y b\n",
    "        efectúa la resta de b menos a es decir\n",
    "        b - a\n",
    "        a ese resultado se le resta veinte y se\n",
    "        regresa el nuevo resultado\n",
    "\n",
    "    Ejemplo:\n",
    "        Si a = 10\n",
    "        y b = 2\n",
    "        su resta da -8\n",
    "        y -8 - 20 = -28\n",
    "        Regresa -28\n",
    "\n",
    "    Recuerda:\n",
    "        Cuida la indentación.\n",
    "    \"\"\"\n",
    "    \n",
    "    # Escribe aquí tu código\n",
    "    \n",
    "\n",
    "    # Escribe aquí tu código\n",
    "    \n",
    "    return # Escribe aquí tu código"
   ]
  },
  {
   "cell_type": "code",
   "execution_count": null,
   "metadata": {},
   "outputs": [],
   "source": [
    "resta_menos_veinte(3, 10)"
   ]
  },
  {
   "cell_type": "code",
   "execution_count": null,
   "metadata": {},
   "outputs": [],
   "source": [
    "calificador.califica_resta_menos_veinte(resta_menos_veinte, UUID, DESEO_CONTRIBUIR_A_MEJORAR)"
   ]
  },
  {
   "cell_type": "code",
   "execution_count": null,
   "metadata": {},
   "outputs": [],
   "source": [
    "def valor_absoluto(numero):\n",
    "    \"\"\"\n",
    "    Instrucciones:\n",
    "        Esta función recibe un número\n",
    "        y regresa el valor absoluto de\n",
    "        ese número\n",
    "\n",
    "    Ejemplo:\n",
    "        Si numero = -10\n",
    "        regresa 10\n",
    "        Si numero = 3\n",
    "        regresa 3\n",
    "\n",
    "    Recuerda:\n",
    "        Cuida la indentación.\n",
    "    \"\"\"\n",
    "    \n",
    "    # Escribe aquí tu código\n",
    "    \n",
    "\n",
    "    # Escribe aquí tu código\n",
    "    \n",
    "    return # Escribe aquí tu código"
   ]
  },
  {
   "cell_type": "code",
   "execution_count": null,
   "metadata": {},
   "outputs": [],
   "source": [
    "valor_absoluto(-3)"
   ]
  },
  {
   "cell_type": "code",
   "execution_count": null,
   "metadata": {},
   "outputs": [],
   "source": [
    "calificador.califica_valor_absoluto(valor_absoluto, UUID, DESEO_CONTRIBUIR_A_MEJORAR)"
   ]
  },
  {
   "cell_type": "code",
   "execution_count": null,
   "metadata": {},
   "outputs": [],
   "source": [
    "def convertir_a_entero(numero):\n",
    "    \"\"\"\n",
    "    Instrucciones:\n",
    "        Esta función recibe un número\n",
    "        el cual puede ser de tipo\n",
    "        int (entero), float (con decimales)\n",
    "        o string (sin decimales)\n",
    "        y regresa la parte entera de dicho número\n",
    "\n",
    "        Usa la función int\n",
    "\n",
    "    Ejemplo:\n",
    "        Si numero = 2\n",
    "        regresa 2\n",
    "        Si numero = 3.9\n",
    "        regresa 3\n",
    "        Si numero = \"2\"\n",
    "        regresa 2\n",
    "\n",
    "    Recuerda:\n",
    "        Cuida la indentación.\n",
    "    \"\"\"\n",
    "    \n",
    "    # Escribe aquí tu código\n",
    "    \n",
    "\n",
    "    # Escribe aquí tu código\n",
    "    \n",
    "    return # Escribe aquí tu código"
   ]
  },
  {
   "cell_type": "code",
   "execution_count": null,
   "metadata": {},
   "outputs": [],
   "source": [
    "convertir_a_entero(2.4)"
   ]
  },
  {
   "cell_type": "code",
   "execution_count": null,
   "metadata": {},
   "outputs": [],
   "source": [
    "calificador.califica_convertir_a_entero(convertir_a_entero, UUID, DESEO_CONTRIBUIR_A_MEJORAR)"
   ]
  },
  {
   "cell_type": "code",
   "execution_count": null,
   "metadata": {},
   "outputs": [],
   "source": [
    "def convertir_a_float(numero):\n",
    "    \"\"\"\n",
    "    Instrucciones:\n",
    "        Esta función recibe un número\n",
    "        el cual puede ser de tipo\n",
    "        int (entero), float (con decimales)\n",
    "        o string (con o sin decimales)\n",
    "        y regresa ese número con punto decimal\n",
    "\n",
    "        Usa la función float\n",
    "\n",
    "    Ejemplo:\n",
    "        Si numero = 2\n",
    "        regresa 2.9\n",
    "        Si numero = 3.9\n",
    "        regresa 3.9\n",
    "        Si numero = \"2.1\"\n",
    "        regresa 2.1\n",
    "\n",
    "    Recuerda:\n",
    "        Cuida la indentación.\n",
    "    \"\"\"\n",
    "    \n",
    "    # Escribe aquí tu código\n",
    "    \n",
    "\n",
    "    # Escribe aquí tu código\n",
    "    \n",
    "    return # Escribe aquí tu código"
   ]
  },
  {
   "cell_type": "code",
   "execution_count": null,
   "metadata": {},
   "outputs": [],
   "source": [
    "convertir_a_float(\"2\")"
   ]
  },
  {
   "cell_type": "code",
   "execution_count": null,
   "metadata": {},
   "outputs": [],
   "source": [
    "calificador.califica_convertir_a_float(convertir_a_float, UUID, DESEO_CONTRIBUIR_A_MEJORAR)"
   ]
  },
  {
   "cell_type": "code",
   "execution_count": null,
   "metadata": {},
   "outputs": [],
   "source": [
    "def redondear_a_n_digitos(numero, n):\n",
    "    \"\"\"\n",
    "    Instrucciones:\n",
    "        Esta función recibe un número\n",
    "        el cual puede ser de tipo\n",
    "        int (entero) o float (con decimales)\n",
    "        y regresa ese número redondeado \n",
    "        a n cifras\n",
    "\n",
    "        La función round puede recibir\n",
    "        en primer lugar el número a redondear\n",
    "        y en segundo lugar el número de decimales.\n",
    "        Algo como round(numero_a_redondear, numero_de_decimales)\n",
    "\n",
    "    Ejemplo:\n",
    "        Si numero = 2.45 y n = 1\n",
    "        regresa 2.5\n",
    "        Si numero = 3.456 y n = 2\n",
    "        regresa 3.46\n",
    "        Si numero = 10.98765 y n = 4\n",
    "        regresa 10.9877\n",
    "\n",
    "    Recuerda:\n",
    "        Cuida la indentación.\n",
    "    \"\"\"\n",
    "    \n",
    "    # Escribe aquí tu código\n",
    "    \n",
    "\n",
    "    # Escribe aquí tu código\n",
    "    \n",
    "    return # Escribe aquí tu código"
   ]
  },
  {
   "cell_type": "code",
   "execution_count": null,
   "metadata": {},
   "outputs": [],
   "source": [
    "redondear_a_n_digitos(3.98786, 1)"
   ]
  },
  {
   "cell_type": "code",
   "execution_count": null,
   "metadata": {},
   "outputs": [],
   "source": [
    "calificador.califica_redondear_a_n_digitos(redondear_a_n_digitos, UUID, DESEO_CONTRIBUIR_A_MEJORAR)"
   ]
  },
  {
   "cell_type": "code",
   "execution_count": null,
   "metadata": {},
   "outputs": [],
   "source": [
    "def modulo(dividendo, divisor):\n",
    "    \"\"\"\n",
    "    Instrucciones:\n",
    "        Esta función recibe dos números\n",
    "        el número a dividir (dividendo)\n",
    "        y el número que divide (divisor)\n",
    "        y regresa el resultado de efectuar\n",
    "        la operación módulo, es decir, regresa\n",
    "        el residuo de efectuar la división.\n",
    "\n",
    "        Usa el operador %\n",
    "\n",
    "    Ejemplo:\n",
    "        Si dividendo = 4 y divisor = 2\n",
    "        regresa 0\n",
    "        Si dividendo = 7 y divisor = 3\n",
    "        regresa 1\n",
    "        Si dividendo = 109 y divisor = 10\n",
    "        regresa 9\n",
    "\n",
    "    Recuerda:\n",
    "        Cuida la indentación.\n",
    "    \"\"\"\n",
    "    \n",
    "    # Escribe aquí tu código\n",
    "    \n",
    "\n",
    "    # Escribe aquí tu código\n",
    "    \n",
    "    return # Escribe aquí tu código"
   ]
  },
  {
   "cell_type": "code",
   "execution_count": null,
   "metadata": {},
   "outputs": [],
   "source": [
    "modulo(2, 3)"
   ]
  },
  {
   "cell_type": "code",
   "execution_count": null,
   "metadata": {},
   "outputs": [],
   "source": [
    "calificador.califica_modulo(modulo, UUID, DESEO_CONTRIBUIR_A_MEJORAR)"
   ]
  },
  {
   "cell_type": "code",
   "execution_count": null,
   "metadata": {},
   "outputs": [],
   "source": [
    "def division_entera(dividendo, divisor):\n",
    "    \"\"\"\n",
    "    Instrucciones:\n",
    "        Esta función recibe dos números\n",
    "        el número a dividir (dividendo)\n",
    "        y el número que divide (divisor)\n",
    "        y regresa el resultado de efectuar\n",
    "        la división entera, es decir, regresa\n",
    "        el cociente entero de efectuar la división\n",
    "\n",
    "        Usa el operador //\n",
    "\n",
    "    Ejemplo:\n",
    "        Si dividendo = 4 y divisor = 2\n",
    "        regresa 2\n",
    "        Si dividendo = 7 y divisor = 3\n",
    "        regresa 2\n",
    "        Si dividendo = 109 y divisor = 10\n",
    "        regresa 10\n",
    "\n",
    "    Recuerda:\n",
    "        Cuida la indentación.\n",
    "    \"\"\"\n",
    "    \n",
    "    # Escribe aquí tu código\n",
    "    \n",
    "\n",
    "    # Escribe aquí tu código\n",
    "    \n",
    "    return # Escribe aquí tu código"
   ]
  },
  {
   "cell_type": "code",
   "execution_count": null,
   "metadata": {},
   "outputs": [],
   "source": [
    "division_entera(4, 3)"
   ]
  },
  {
   "cell_type": "code",
   "execution_count": null,
   "metadata": {},
   "outputs": [],
   "source": [
    "calificador.califica_division_entera(division_entera, UUID, DESEO_CONTRIBUIR_A_MEJORAR)"
   ]
  },
  {
   "cell_type": "code",
   "execution_count": null,
   "metadata": {},
   "outputs": [],
   "source": [
    "def en_mayusculas(palabra):\n",
    "    \"\"\"\n",
    "    Instrucciones:\n",
    "        Esta función recibe una palabra como argumento\n",
    "        llamado 'palabra'\n",
    "        Usar el método upper()\n",
    "        para convertir la palabra que llega como argumento\n",
    "        a mayúsculas\n",
    "        y regresar la palabra en mayúsculas\n",
    "\n",
    "    Ejemplo:\n",
    "        Si palabra = 'hola, mundo'\n",
    "        regresa 'HOLA, MUNDO'\n",
    "\n",
    "    Recuerda:\n",
    "        Cuida la indentación.\n",
    "    \"\"\"\n",
    "\n",
    "    # Escribe aquí tu código\n",
    "    \n",
    "\n",
    "    # Escribe aquí tu código\n",
    "    \n",
    "    return # Escribe aquí tu código"
   ]
  },
  {
   "cell_type": "code",
   "execution_count": null,
   "metadata": {},
   "outputs": [],
   "source": [
    "en_mayusculas(\"estoy aprendiendo\")"
   ]
  },
  {
   "cell_type": "code",
   "execution_count": null,
   "metadata": {},
   "outputs": [],
   "source": [
    "calificador.califica_en_mayusculas(en_mayusculas, UUID, DESEO_CONTRIBUIR_A_MEJORAR)"
   ]
  },
  {
   "cell_type": "code",
   "execution_count": null,
   "metadata": {},
   "outputs": [],
   "source": [
    "def en_minusculas(palabra):\n",
    "    \"\"\"\n",
    "    Instrucciones:\n",
    "        Esta función recibe una palabra como argumento\n",
    "        llamado 'palabra'\n",
    "        Usar el método lower()\n",
    "        para convertir la palabra que llega como argumento\n",
    "        a minúsculas\n",
    "        y regresar la palabra en minúsculas\n",
    "\n",
    "    Ejemplo:\n",
    "        Si palabra = 'HOLA, MUNDO'\n",
    "        regresa 'hola, mundo'\n",
    "\n",
    "    Recuerda:\n",
    "        Cuida la indentación.\n",
    "    \"\"\"\n",
    "\n",
    "    # Escribe aquí tu código\n",
    "    \n",
    "\n",
    "    # Escribe aquí tu código\n",
    "    \n",
    "    return # Escribe aquí tu código"
   ]
  },
  {
   "cell_type": "code",
   "execution_count": null,
   "metadata": {},
   "outputs": [],
   "source": [
    "en_minusculas(\"HOLA, MUNDO\")"
   ]
  },
  {
   "cell_type": "code",
   "execution_count": null,
   "metadata": {},
   "outputs": [],
   "source": [
    "calificador.califica_en_minusculas(en_minusculas, UUID, DESEO_CONTRIBUIR_A_MEJORAR)"
   ]
  },
  {
   "cell_type": "code",
   "execution_count": null,
   "metadata": {},
   "outputs": [],
   "source": [
    "def primer_caracter(palabra):\n",
    "    \"\"\"\n",
    "    Instrucciones:\n",
    "        Esta función recibe una palabra como argumento\n",
    "        llamado palabra\n",
    "        y devuelve el primer caracter de esa palabra\n",
    "\n",
    "    Ejemplo:\n",
    "        Si palabra = \"Curso de Python\"\n",
    "        regresa 'C'\n",
    "\n",
    "    Recuerda:\n",
    "        Cuida la indentación.\n",
    "    \"\"\"\n",
    "\n",
    "    # Escribe aquí tu código\n",
    "    \n",
    "\n",
    "    # Escribe aquí tu código\n",
    "    \n",
    "    return # Escribe aquí tu código\n"
   ]
  },
  {
   "cell_type": "code",
   "execution_count": null,
   "metadata": {},
   "outputs": [],
   "source": [
    "primer_caracter(\"Curso de Python\")"
   ]
  },
  {
   "cell_type": "code",
   "execution_count": null,
   "metadata": {},
   "outputs": [],
   "source": [
    "calificador.califica_primer_caracter(primer_caracter, UUID, DESEO_CONTRIBUIR_A_MEJORAR)"
   ]
  },
  {
   "cell_type": "code",
   "execution_count": null,
   "metadata": {},
   "outputs": [],
   "source": [
    "def penultimo_caracter(palabra):\n",
    "    \"\"\"\n",
    "    Instrucciones:\n",
    "        Esta función recibe una palabra como argumento\n",
    "        llamado palabra\n",
    "        y devuelve el penúltimo caracter de esa palabra\n",
    "\n",
    "    Ejemplo:\n",
    "        Si palabra = \"Curso de Python\"\n",
    "        regresa 'o'\n",
    "\n",
    "    Recuerda:\n",
    "        Cuida la indentación.\n",
    "    \"\"\"\n",
    "\n",
    "    # Escribe aquí tu código\n",
    "    \n",
    "\n",
    "    # Escribe aquí tu código\n",
    "    \n",
    "    return # Escribe aquí tu código"
   ]
  },
  {
   "cell_type": "code",
   "execution_count": null,
   "metadata": {},
   "outputs": [],
   "source": [
    "penultimo_caracter(\"Hola\")"
   ]
  },
  {
   "cell_type": "code",
   "execution_count": null,
   "metadata": {},
   "outputs": [],
   "source": [
    "calificador.califica_penultimo_caracter(penultimo_caracter, UUID, DESEO_CONTRIBUIR_A_MEJORAR)"
   ]
  },
  {
   "cell_type": "code",
   "execution_count": null,
   "metadata": {},
   "outputs": [],
   "source": [
    "def mostrar_numeros(a, b, c):\n",
    "    \"\"\"\n",
    "    Instrucciones:\n",
    "        Esta función recibe como parámetros\n",
    "        tres números llamados\n",
    "        a, b y c.\n",
    "\n",
    "        La función debe regresar la cadena de caracteres\n",
    "        a = <a>, b = <b> y c = <c>\n",
    "        reemplazando lo que hay entre <> con el valor\n",
    "        de la variable correspondiente\n",
    "\n",
    "    Ejemplo:\n",
    "        Si a = 2\n",
    "        b = 3\n",
    "        c = 4\n",
    "        La función regresa 'a = 2, b = 3 y c = 4' (Ojo con los espacios)\n",
    "\n",
    "    Recuerda:\n",
    "        Para meter variables dentro de cadenas de caracteres\n",
    "        puedes anteponer la letra f antes de las comillas\n",
    "        y luego usar llaves {} para meter la variable:\n",
    "        Si a = 1\n",
    "        f\"a = {a}\" (nota que le estoy pasando la variable)\n",
    "        devuelve 'a = 1'\n",
    "        O puedes usar la función format()\n",
    "        Si a = 1\n",
    "        \"a = {0}\".format(a) (nota el uso de índices en este caso)\n",
    "        devuelve 'a = 1'\n",
    "\n",
    "    Recuerda:\n",
    "        Cuida la indentación.\n",
    "    \"\"\"\n",
    "\n",
    "    # Escribe aquí tu código\n",
    "\n",
    "\n",
    "    # Escribe aquí tu código\n",
    "    \n",
    "    return # Escribe aquí tu código"
   ]
  },
  {
   "cell_type": "code",
   "execution_count": null,
   "metadata": {},
   "outputs": [],
   "source": [
    "mostrar_numeros(1,2,3)"
   ]
  },
  {
   "cell_type": "code",
   "execution_count": null,
   "metadata": {},
   "outputs": [],
   "source": [
    "calificador.califica_mostrar_numeros(mostrar_numeros, UUID, DESEO_CONTRIBUIR_A_MEJORAR)"
   ]
  },
  {
   "cell_type": "code",
   "execution_count": null,
   "metadata": {},
   "outputs": [],
   "source": [
    "def concatenar_cadenas(cadena1, cadena2):\n",
    "    \"\"\"\n",
    "    Instrucciones:\n",
    "        Esta función recibe como parámetros\n",
    "        dos cadenas llamadas \n",
    "        cadena1 y cadena2 respectivamente\n",
    "\n",
    "        Deberás crear una variable llamada\n",
    "        cadenas\n",
    "        que será el resultado de contactenar \n",
    "        la cadena1 y la cadena2\n",
    "\n",
    "    Ejemplo:\n",
    "        Si cadena1 = \"hola, \"\n",
    "        y cadena2 = \"mundo\"\n",
    "        cadenas tendra el valor de 'hola, mundo'\n",
    "\n",
    "    Recuerda:\n",
    "        Para concatenar cadenas se usa el operador +\n",
    "\n",
    "    Recuerda:\n",
    "        Cuida la indentación.\n",
    "\n",
    "    Observación:\n",
    "        Aunque este ejercicio se puede hacer con \n",
    "        una solución parecida al ejercicio anterior\n",
    "        usa el operador +\n",
    "    \"\"\"\n",
    "\n",
    "    # Escribe aquí tu código\n",
    "\n",
    "\n",
    "    # Escribe aquí tu código\n",
    "\n",
    "    return # Escribe aquí tu código"
   ]
  },
  {
   "cell_type": "code",
   "execution_count": null,
   "metadata": {},
   "outputs": [],
   "source": [
    "concatenar_cadenas(\"Hola, \", \"mundo\")"
   ]
  },
  {
   "cell_type": "code",
   "execution_count": null,
   "metadata": {},
   "outputs": [],
   "source": [
    "calificador.califica_concatenar_cadenas(concatenar_cadenas, UUID, DESEO_CONTRIBUIR_A_MEJORAR)"
   ]
  },
  {
   "cell_type": "markdown",
   "metadata": {},
   "source": [
    "# Problemas"
   ]
  },
  {
   "cell_type": "code",
   "execution_count": null,
   "metadata": {},
   "outputs": [],
   "source": [
    "def peso_de_un_cuerpo(masa):\n",
    "    \"\"\"\n",
    "    Instrucciones:\n",
    "        Esta función recibe como parámetro\n",
    "        la masa de un cuerpo en la variable masa\n",
    "\n",
    "        Deberás calcular el peso de un cuerpo\n",
    "        con esa masa.\n",
    "        La formula para calcular el peso de un cuerpo\n",
    "        es gravedad*masa\n",
    "        Toma la gravedad de la tierra con un valor de \n",
    "        9.81.\n",
    "\n",
    "    Observación:\n",
    "        No te sorprendas si al hacer una multiplicación\n",
    "        como 10*9.81 el resultado no sea exactamente\n",
    "        98.1\n",
    "\n",
    "    Recuerda:\n",
    "        Cuida la indentación.\n",
    "    \"\"\"\n",
    "\n",
    "    # Escribe aquí tu código\n",
    "\n",
    "\n",
    "    # Escribe aquí tu código\n",
    "\n",
    "    return # Escribe aquí tu código"
   ]
  },
  {
   "cell_type": "code",
   "execution_count": null,
   "metadata": {},
   "outputs": [],
   "source": [
    "calificador.califica_peso_de_un_cuerpo(peso_de_un_cuerpo, UUID, DESEO_CONTRIBUIR_A_MEJORAR)"
   ]
  },
  {
   "cell_type": "code",
   "execution_count": null,
   "metadata": {},
   "outputs": [],
   "source": [
    "def calculo_de_velocidad_constante(distancia, instante_t):\n",
    "    \"\"\"\n",
    "    Instrucciones:\n",
    "        Esta función recibe como parámetros\n",
    "        la distancia que recorre un objeto en movimiento\n",
    "        y el instante te tiempo t en el que se quiere\n",
    "        medir su velocidad\n",
    "        \n",
    "\n",
    "        Calcula la velocidad del cuerpo en movimiento\n",
    "        data la distancia y el instante_t\n",
    "\n",
    "        La formula para calcular la velocidad es\n",
    "        distancia / tiempo\n",
    "\n",
    "    Recuerda:\n",
    "        Cuida la indentación.\n",
    "        \n",
    "    \"\"\"\n",
    "\n",
    "    # Escribe aquí tu código\n",
    "\n",
    "\n",
    "    # Escribe aquí tu código\n",
    "\n",
    "    return # Escribe aquí tu código"
   ]
  },
  {
   "cell_type": "code",
   "execution_count": null,
   "metadata": {},
   "outputs": [],
   "source": [
    "calificador.califica_calculo_de_velocidad_constante(calculo_de_velocidad_constante, UUID, DESEO_CONTRIBUIR_A_MEJORAR)"
   ]
  },
  {
   "cell_type": "code",
   "execution_count": null,
   "metadata": {},
   "outputs": [],
   "source": [
    "def calculo_de_velocidad_con_aceleracion(velocidad_inicial, aceleracion, instante_t):\n",
    "    \"\"\"\n",
    "    Instrucciones:\n",
    "        Esta función recibe como parámetros\n",
    "        la velocidad inicial, la aceleracion\n",
    "        y un instante t\n",
    "        de un cuerpo en movimiento uniformemente\n",
    "        acelerado.\n",
    "\n",
    "        Calcula la velocidad del cuerpo en movimiento\n",
    "        dada su velocidad inicial y aceleracion \n",
    "        en el tiempo t\n",
    "\n",
    "        La fórmula para calcular la velocidad de un cuerpo\n",
    "        en movimiento con aceleración constante es:\n",
    "        velocidad_inicial + aceleracion * tiempo\n",
    "\n",
    "    Recuerda:\n",
    "        Cuida la indentación.\n",
    "        \n",
    "    \"\"\"\n",
    "\n",
    "    # Escribe aquí tu código\n",
    "\n",
    "\n",
    "    # Escribe aquí tu código\n",
    "\n",
    "    return # Escribe aquí tu código"
   ]
  },
  {
   "cell_type": "code",
   "execution_count": null,
   "metadata": {},
   "outputs": [],
   "source": [
    "calificador.califica_calculo_de_velocidad_con_aceleracion(calculo_de_velocidad_con_aceleracion, UUID, DESEO_CONTRIBUIR_A_MEJORAR)"
   ]
  },
  {
   "cell_type": "code",
   "execution_count": null,
   "metadata": {},
   "outputs": [],
   "source": [
    "def calculo_de_posicion_de_un_cuerpo_en_movimiento_con_aceleracion_constante(posicion_inicial, velocidad_inicial, instante_t, aceleracion):\n",
    "    \"\"\"\n",
    "    Instrucciones:\n",
    "        Esta función recibe como parámetros\n",
    "        la posición inicial, velocidad inicial\n",
    "        y aceleracion en un instante de tiempo t\n",
    "        de un cuerpo en movimiento con aceleración\n",
    "        constante.\n",
    "\n",
    "        Calcula la posición de dicho cuerpo al cabo \n",
    "        de del tiempo t.\n",
    "\n",
    "        La fórmula para calcular la posición es:\n",
    "        posicion inicial + velocidad inicial * tiempo + 1/2 * aceleracion * (tiempo al cuadrado)\n",
    "\n",
    "    Recuerda:\n",
    "        Cuida la indentación.\n",
    "\n",
    "    \"\"\"\n",
    "\n",
    "    # Escribe aquí tu código\n",
    "\n",
    "\n",
    "    # Escribe aquí tu código\n",
    "\n",
    "    return # Escribe aquí tu código"
   ]
  },
  {
   "cell_type": "code",
   "execution_count": null,
   "metadata": {},
   "outputs": [],
   "source": [
    "calificador.califica_calculo_de_posicion_de_un_cuerpo_en_movimiento_con_aceleracion_constante(calculo_de_posicion_de_un_cuerpo_en_movimiento_con_aceleracion_constante, UUID, DESEO_CONTRIBUIR_A_MEJORAR)"
   ]
  },
  {
   "cell_type": "code",
   "execution_count": null,
   "metadata": {},
   "outputs": [],
   "source": [
    "def promedio_inidice_masa_corporal(peso_p1, estatura_p1, peso_p2, estatura_p2, peso_p3, estatura_p3):\n",
    "    \"\"\"\n",
    "    Instrucciones:\n",
    "        Esta función recibe como parámetros\n",
    "        el peso y la estatura de 3 personas.\n",
    "\n",
    "        Deberás calcular el promedio del \n",
    "        indice de masa corporal de cada persona.\n",
    "\n",
    "        El índice de masa corporal se calcula como\n",
    "        peso / (estatura al cuadrado).\n",
    "\n",
    "        El promedio sería la suma de los tres \n",
    "        índices de masa corporal entre 3.\n",
    "\n",
    "    Recuerda:\n",
    "        Cuida la indentación.\n",
    "        \n",
    "    \"\"\"\n",
    "\n",
    "    # Escribe aquí tu código\n",
    "\n",
    "\n",
    "    # Escribe aquí tu código\n",
    "\n",
    "    return # Escribe aquí tu código"
   ]
  },
  {
   "cell_type": "code",
   "execution_count": null,
   "metadata": {},
   "outputs": [],
   "source": [
    "calificador.califica_promedio_inidice_masa_corporal(promedio_inidice_masa_corporal, UUID, DESEO_CONTRIBUIR_A_MEJORAR)"
   ]
  }
 ],
 "metadata": {
  "interpreter": {
   "hash": "52e906d48b26901c718c7cd569792dc03a2dc8ecec1e49796e8e9092c38d0e33"
  },
  "kernelspec": {
   "display_name": "Python 3 (ipykernel)",
   "language": "python",
   "name": "python3"
  },
  "language_info": {
   "codemirror_mode": {
    "name": "ipython",
    "version": 3
   },
   "file_extension": ".py",
   "mimetype": "text/x-python",
   "name": "python",
   "nbconvert_exporter": "python",
   "pygments_lexer": "ipython3",
   "version": "3.9.7"
  }
 },
 "nbformat": 4,
 "nbformat_minor": 4
}
