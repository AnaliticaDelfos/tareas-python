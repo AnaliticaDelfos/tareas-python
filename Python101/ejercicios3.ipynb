{
 "cells": [
  {
   "cell_type": "markdown",
   "metadata": {},
   "source": [
    "# Ejercicio 3\n",
    "\n",
    "Escribir una función que reciba un número y devuelva un verdadero si ese número es capicúa (el palíndromo de los números)"
   ]
  },
  {
   "cell_type": "code",
   "execution_count": null,
   "metadata": {},
   "outputs": [],
   "source": []
  },
  {
   "cell_type": "markdown",
   "metadata": {},
   "source": [
    "# Ejercicio 4\n",
    "\n",
    "Escribir una función que reciba un número indeterminado de palabras o números y devuelva una lista con verdaderos o falsos según si las entradas son palíndromos (o capicúas)\n",
    "\n",
    "Ejemplo:\n",
    " - Entradas: \"Hola\", 121, \"Anita lava la tina\"\n",
    " - Salida: [False, True, True]"
   ]
  },
  {
   "cell_type": "markdown",
   "metadata": {},
   "source": []
  }
 ],
 "metadata": {
  "language_info": {
   "name": "python"
  },
  "orig_nbformat": 4
 },
 "nbformat": 4,
 "nbformat_minor": 2
}
