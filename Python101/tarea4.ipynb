{
 "cells": [
  {
   "cell_type": "code",
   "execution_count": null,
   "metadata": {},
   "outputs": [],
   "source": [
    "#\n",
    "#\n",
    "# EJECUTAR ESTA CELDA\n",
    "#\n",
    "#\n",
    "\n",
    "#####################################\n",
    "#       Condicionales\n",
    "#####################################\n",
    "\n",
    "\n",
    "import calificador\n",
    "UUID = \"TU CLAVE\"\n",
    "DESEO_CONTRIBUIR_A_MEJORAR = True"
   ]
  },
  {
   "cell_type": "code",
   "execution_count": null,
   "metadata": {},
   "outputs": [],
   "source": [
    "def creacion_de_lista_vacia():\n",
    "    \"\"\"\n",
    "    Instrucciones:\n",
    "        Esta función no recibe ningún parámetro\n",
    "        y devuelve una lista vacía\n",
    "\n",
    "    Recuerda:\n",
    "        Cuida la indentación.\n",
    "    \"\"\"\n",
    "    \n",
    "    # Escribe aquí tu código\n",
    "    \n",
    "    \n",
    "    # Escribe aquí tu código\n",
    "    \n",
    "    return # Escribe aquí tu código"
   ]
  },
  {
   "cell_type": "code",
   "execution_count": null,
   "metadata": {},
   "outputs": [],
   "source": [
    "calificador.califica_creacion_de_lista_vacia(creacion_de_lista_vacia, UUID, DESEO_CONTRIBUIR_A_MEJORAR)"
   ]
  },
  {
   "cell_type": "code",
   "execution_count": null,
   "metadata": {},
   "outputs": [],
   "source": [
    "def creacion_de_una_tupla_vacia():\n",
    "    \"\"\"\n",
    "    Instrucciones:\n",
    "        Esta función no recibe ningún parámetro\n",
    "        y devuelve una tupla vacía\n",
    "\n",
    "    Recuerda:\n",
    "        Cuida la indentación.\n",
    "    \"\"\"\n",
    "    \n",
    "    # Escribe aquí tu código\n",
    "    \n",
    "    \n",
    "    # Escribe aquí tu código\n",
    "    \n",
    "    return # Escribe aquí tu código"
   ]
  },
  {
   "cell_type": "code",
   "execution_count": null,
   "metadata": {},
   "outputs": [],
   "source": [
    "calificador.califica_creacion_de_una_tupla_vacia(creacion_de_una_tupla_vacia, UUID, DESEO_CONTRIBUIR_A_MEJORAR)"
   ]
  },
  {
   "cell_type": "code",
   "execution_count": null,
   "metadata": {},
   "outputs": [],
   "source": [
    "def creacion_de_un_diccionario_vacio():\n",
    "    \"\"\"\n",
    "    Instrucciones:\n",
    "        Esta función no recibe ningún parámetro\n",
    "        y devuelve un diccionario vacío\n",
    "\n",
    "    Recuerda:\n",
    "        Cuida la indentación.\n",
    "    \"\"\"\n",
    "    \n",
    "    # Escribe aquí tu código\n",
    "    \n",
    "    \n",
    "    # Escribe aquí tu código\n",
    "    \n",
    "    return # Escribe aquí tu código"
   ]
  },
  {
   "cell_type": "code",
   "execution_count": null,
   "metadata": {},
   "outputs": [],
   "source": [
    "calificador.califica_creacion_de_un_diccionario_vacio(creacion_de_un_diccionario_vacio, UUID, DESEO_CONTRIBUIR_A_MEJORAR)"
   ]
  },
  {
   "cell_type": "code",
   "execution_count": null,
   "metadata": {},
   "outputs": [],
   "source": [
    "def obtener_longitud_de_una_lista(lista):\n",
    "    \"\"\"\n",
    "    Instrucciones:\n",
    "        Esta función recibe una lista y\n",
    "        devuelve la longitud de esa lista\n",
    "\n",
    "    Recuerda:\n",
    "        Cuida la indentación.\n",
    "    \"\"\"\n",
    "    \n",
    "    # Escribe aquí tu código\n",
    "    \n",
    "    \n",
    "    # Escribe aquí tu código\n",
    "    \n",
    "    return # Escribe aquí tu código"
   ]
  },
  {
   "cell_type": "code",
   "execution_count": null,
   "metadata": {},
   "outputs": [],
   "source": [
    "calificador.califica_obtener_longitud_de_una_lista(obtener_longitud_de_una_lista, UUID, DESEO_CONTRIBUIR_A_MEJORAR)"
   ]
  },
  {
   "cell_type": "code",
   "execution_count": null,
   "metadata": {},
   "outputs": [],
   "source": [
    "def obtener_longitud_de_una_tupla(tupla):\n",
    "    \"\"\"\n",
    "    Instrucciones:\n",
    "        Esta función recibe una tupla y\n",
    "        devuelve la longitud de esa tupla\n",
    "\n",
    "    Recuerda:\n",
    "        Cuida la indentación.\n",
    "    \"\"\"\n",
    "    \n",
    "    # Escribe aquí tu código\n",
    "    \n",
    "    \n",
    "    # Escribe aquí tu código\n",
    "    \n",
    "    return # Escribe aquí tu código"
   ]
  },
  {
   "cell_type": "code",
   "execution_count": null,
   "metadata": {},
   "outputs": [],
   "source": [
    "calificador.califica_obtener_longitud_de_una_tupla(obtener_longitud_de_una_tupla, UUID, DESEO_CONTRIBUIR_A_MEJORAR)"
   ]
  },
  {
   "cell_type": "code",
   "execution_count": null,
   "metadata": {},
   "outputs": [],
   "source": [
    "def obtener_longitud_de_un_diccionario(diccionario):\n",
    "    \"\"\"\n",
    "    Instrucciones:\n",
    "        Esta función recibe un diccionario y\n",
    "        devuelve la longitud de ese diccionario\n",
    "\n",
    "    Recuerda:\n",
    "        Cuida la indentación.\n",
    "    \"\"\"\n",
    "    \n",
    "    # Escribe aquí tu código\n",
    "    \n",
    "    \n",
    "    # Escribe aquí tu código\n",
    "    \n",
    "    return # Escribe aquí tu código"
   ]
  },
  {
   "cell_type": "code",
   "execution_count": null,
   "metadata": {},
   "outputs": [],
   "source": [
    "calificador.califica_obtener_longitud_de_un_diccionario(obtener_longitud_de_un_diccionario, UUID, DESEO_CONTRIBUIR_A_MEJORAR)"
   ]
  },
  {
   "cell_type": "code",
   "execution_count": null,
   "metadata": {},
   "outputs": [],
   "source": [
    "def creacion_de_una_lista_con_exactamente_un_elemento(elemento):\n",
    "    \"\"\"\n",
    "    Instrucciones:\n",
    "        Esta función recibe un elemento, puede\n",
    "        ser un número, una cadena de caracteres\n",
    "        una tupla, una lista o cualquier objeto de Python\n",
    "        y devuelve una lista con dicho objeto.\n",
    "\n",
    "    Recuerda:\n",
    "        Cuida la indentación.\n",
    "    \"\"\"\n",
    "    \n",
    "    # Escribe aquí tu código\n",
    "    \n",
    "    \n",
    "    # Escribe aquí tu código\n",
    "    \n",
    "    return # Escribe aquí tu código"
   ]
  },
  {
   "cell_type": "code",
   "execution_count": null,
   "metadata": {},
   "outputs": [],
   "source": [
    "calificador.califica_creacion_de_una_lista_con_exactamente_un_elemento(creacion_de_una_lista_con_exactamente_un_elemento, UUID, DESEO_CONTRIBUIR_A_MEJORAR)"
   ]
  },
  {
   "cell_type": "code",
   "execution_count": null,
   "metadata": {},
   "outputs": [],
   "source": [
    "def creacion_de_una_tupla_con_exactamente_un_elemento(elemento):\n",
    "\n",
    "    \"\"\"\n",
    "    Instrucciones:\n",
    "        Esta función recibe un elemento, puede\n",
    "        ser un número, una cadena de caracteres\n",
    "        una tupla, una lista o cualquier objeto de Python\n",
    "        y devuelve una tupla con dicho objeto.\n",
    "\n",
    "    Recuerda:\n",
    "        Cuida la indentación.\n",
    "    \"\"\"\n",
    "    \n",
    "    # Escribe aquí tu código\n",
    "    \n",
    "    \n",
    "    # Escribe aquí tu código\n",
    "    \n",
    "    return # Escribe aquí tu código"
   ]
  },
  {
   "cell_type": "code",
   "execution_count": null,
   "metadata": {},
   "outputs": [],
   "source": [
    "calificador.califica_creacion_de_una_tupla_con_exactamente_un_elemento(creacion_de_una_tupla_con_exactamente_un_elemento, UUID, DESEO_CONTRIBUIR_A_MEJORAR)"
   ]
  },
  {
   "cell_type": "code",
   "execution_count": null,
   "metadata": {},
   "outputs": [],
   "source": [
    "def creacion_de_un_diccionario_con_clave_edad(edad):\n",
    "\n",
    "    \"\"\"\n",
    "    Instrucciones:\n",
    "        Esta función recibe la edad de una persona\n",
    "        y devuelve un diccionario que tenga una única\n",
    "        clave llamada 'edad' y cuyo valor sea la\n",
    "        edad que llega por parámetro.\n",
    "\n",
    "    Recuerda:\n",
    "        Cuida la indentación.\n",
    "    \"\"\"\n",
    "    \n",
    "    # Escribe aquí tu código\n",
    "    \n",
    "    \n",
    "    # Escribe aquí tu código\n",
    "    \n",
    "    return # Escribe aquí tu código"
   ]
  },
  {
   "cell_type": "code",
   "execution_count": null,
   "metadata": {},
   "outputs": [],
   "source": [
    "calificador.califica_creacion_de_un_diccionario_con_clave_edad(creacion_de_un_diccionario_con_clave_edad, UUID, DESEO_CONTRIBUIR_A_MEJORAR)"
   ]
  },
  {
   "cell_type": "code",
   "execution_count": null,
   "metadata": {},
   "outputs": [],
   "source": [
    "def creacion_de_una_lista_con_tres_elementos():\n",
    "\n",
    "    \"\"\"\n",
    "    Instrucciones:\n",
    "        Esta función no recibe ningún parámetro\n",
    "        y regresa una lista con las letras\n",
    "        'a', 'b', 'c', es decir, regresa una lista\n",
    "        con 3 elementos.\n",
    "\n",
    "    Recuerda:\n",
    "        Cuida la indentación.\n",
    "    \"\"\"\n",
    "    \n",
    "    # Escribe aquí tu código\n",
    "    \n",
    "    \n",
    "    # Escribe aquí tu código\n",
    "    \n",
    "    return # Escribe aquí tu código"
   ]
  },
  {
   "cell_type": "code",
   "execution_count": null,
   "metadata": {},
   "outputs": [],
   "source": [
    "calificador.califica_creacion_de_una_lista_con_tres_elementos(creacion_de_una_lista_con_tres_elementos, UUID, DESEO_CONTRIBUIR_A_MEJORAR)"
   ]
  },
  {
   "cell_type": "code",
   "execution_count": null,
   "metadata": {},
   "outputs": [],
   "source": [
    "def creacion_de_una_tupla_con_tres_elementos():\n",
    "\n",
    "    \"\"\"\n",
    "    Instrucciones:\n",
    "        Esta función no recibe ningún parámetro\n",
    "        y regresa una tupla con las letras\n",
    "        'a', '1', 'b', es decir, regresa una tupla\n",
    "        con 3 elementos.\n",
    "\n",
    "    Recuerda:\n",
    "        Cuida la indentación.\n",
    "    \"\"\"\n",
    "    \n",
    "    # Escribe aquí tu código\n",
    "    \n",
    "    \n",
    "    # Escribe aquí tu código\n",
    "    \n",
    "    return # Escribe aquí tu código"
   ]
  },
  {
   "cell_type": "code",
   "execution_count": null,
   "metadata": {},
   "outputs": [],
   "source": [
    "calificador.califica_creacion_de_una_tupla_con_tres_elementos(creacion_de_una_tupla_con_tres_elementos, UUID, DESEO_CONTRIBUIR_A_MEJORAR)"
   ]
  },
  {
   "cell_type": "code",
   "execution_count": null,
   "metadata": {},
   "outputs": [],
   "source": [
    "def acceder_al_elemento_5(lista):\n",
    "\n",
    "    \"\"\"\n",
    "    Instrucciones:\n",
    "        Esta función recibe una lista\n",
    "        y regresa el elemento con el índice\n",
    "        5 de dicha lista.\n",
    "\n",
    "    Recuerda:\n",
    "        Cuida la indentación.\n",
    "    \"\"\"\n",
    "    \n",
    "    # Escribe aquí tu código\n",
    "    \n",
    "    \n",
    "    # Escribe aquí tu código\n",
    "    \n",
    "    return # Escribe aquí tu código"
   ]
  },
  {
   "cell_type": "code",
   "execution_count": null,
   "metadata": {},
   "outputs": [],
   "source": [
    "calificador.califica_acceder_al_elemento_5(acceder_al_elemento_5, UUID, DESEO_CONTRIBUIR_A_MEJORAR)"
   ]
  },
  {
   "cell_type": "code",
   "execution_count": null,
   "metadata": {},
   "outputs": [],
   "source": [
    "def acceder_al_ultimo_elemento_de_una_tupla_en_rango(tope):\n",
    "\n",
    "    \"\"\"\n",
    "    Instrucciones:\n",
    "        Esta función recibe un número, el cual\n",
    "        funciona como tope en la creación de una tupla.\n",
    "        Deberás crear una tupla con los números del 0\n",
    "        a tope, acceder al último elemento de dicha tupla\n",
    "        y regresarlo.\n",
    "\n",
    "    Recuerda:\n",
    "        Cuida la indentación.\n",
    "    \"\"\"\n",
    "    \n",
    "    # Escribe aquí tu código\n",
    "    \n",
    "    \n",
    "    # Escribe aquí tu código\n",
    "    \n",
    "    return # Escribe aquí tu código"
   ]
  },
  {
   "cell_type": "code",
   "execution_count": null,
   "metadata": {},
   "outputs": [],
   "source": [
    "calificador.califica_acceder_al_ultimo_elemento_de_una_tupla_en_rango(acceder_al_ultimo_elemento_de_una_tupla_en_rango, UUID, DESEO_CONTRIBUIR_A_MEJORAR)"
   ]
  }
 ],
 "metadata": {
  "language_info": {
   "name": "python"
  },
  "orig_nbformat": 4
 },
 "nbformat": 4,
 "nbformat_minor": 2
}
