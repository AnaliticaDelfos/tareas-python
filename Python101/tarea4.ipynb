{
 "cells": [
  {
   "cell_type": "code",
   "execution_count": null,
   "metadata": {},
   "outputs": [],
   "source": [
    "#\n",
    "#\n",
    "# EJECUTAR ESTA CELDA\n",
    "#\n",
    "#\n",
    "\n",
    "#####################################\n",
    "#       Condicionales\n",
    "#####################################\n",
    "\n",
    "\n",
    "import calificador\n",
    "CORREO = \"TU CORREO\""
   ]
  },
  {
   "cell_type": "code",
   "execution_count": null,
   "metadata": {},
   "outputs": [],
   "source": [
    "def creacion_de_lista_vacia():\n",
    "    \"\"\"\n",
    "    Instrucciones:\n",
    "        Esta función no recibe ningún parámetro\n",
    "        y devuelve una lista vacía\n",
    "\n",
    "    Recuerda:\n",
    "        Cuida la indentación.\n",
    "    \"\"\"\n",
    "    \n",
    "    # Escribe aquí tu código\n",
    "    \n",
    "    \n",
    "    # Escribe aquí tu código\n",
    "    \n",
    "    return # Escribe aquí tu código"
   ]
  },
  {
   "cell_type": "code",
   "execution_count": null,
   "metadata": {},
   "outputs": [],
   "source": [
    "calificador.califica_creacion_de_lista_vacia(creacion_de_lista_vacia, CORREO, False)"
   ]
  },
  {
   "cell_type": "code",
   "execution_count": null,
   "metadata": {},
   "outputs": [],
   "source": [
    "def creacion_de_una_tupla_vacia():\n",
    "    \"\"\"\n",
    "    Instrucciones:\n",
    "        Esta función no recibe ningún parámetro\n",
    "        y devuelve una tupla vacía\n",
    "\n",
    "    Recuerda:\n",
    "        Cuida la indentación.\n",
    "    \"\"\"\n",
    "    \n",
    "    # Escribe aquí tu código\n",
    "    \n",
    "    \n",
    "    # Escribe aquí tu código\n",
    "    \n",
    "    return # Escribe aquí tu código"
   ]
  },
  {
   "cell_type": "code",
   "execution_count": null,
   "metadata": {},
   "outputs": [],
   "source": [
    "calificador.califica_creacion_de_una_tupla_vacia(creacion_de_una_tupla_vacia, CORREO, False)"
   ]
  },
  {
   "cell_type": "code",
   "execution_count": null,
   "metadata": {},
   "outputs": [],
   "source": [
    "def creacion_de_un_diccionario_vacio():\n",
    "    \"\"\"\n",
    "    Instrucciones:\n",
    "        Esta función no recibe ningún parámetro\n",
    "        y devuelve un diccionario vacío\n",
    "\n",
    "    Recuerda:\n",
    "        Cuida la indentación.\n",
    "    \"\"\"\n",
    "    \n",
    "    # Escribe aquí tu código\n",
    "    \n",
    "    \n",
    "    # Escribe aquí tu código\n",
    "    \n",
    "    return # Escribe aquí tu código"
   ]
  },
  {
   "cell_type": "code",
   "execution_count": null,
   "metadata": {},
   "outputs": [],
   "source": [
    "calificador.califica_creacion_de_un_diccionario_vacio(creacion_de_un_diccionario_vacio, CORREO, False)"
   ]
  },
  {
   "cell_type": "code",
   "execution_count": null,
   "metadata": {},
   "outputs": [],
   "source": [
    "def obtener_longitud_de_una_lista(lista):\n",
    "    \"\"\"\n",
    "    Instrucciones:\n",
    "        Esta función recibe una lista y\n",
    "        devuelve la longitud de esa lista\n",
    "\n",
    "    Recuerda:\n",
    "        Cuida la indentación.\n",
    "    \"\"\"\n",
    "    \n",
    "    # Escribe aquí tu código\n",
    "    \n",
    "    \n",
    "    # Escribe aquí tu código\n",
    "    \n",
    "    return # Escribe aquí tu código"
   ]
  },
  {
   "cell_type": "code",
   "execution_count": null,
   "metadata": {},
   "outputs": [],
   "source": [
    "calificador.califica_obtener_longitud_de_una_lista(obtener_longitud_de_una_lista, CORREO, False)"
   ]
  },
  {
   "cell_type": "code",
   "execution_count": null,
   "metadata": {},
   "outputs": [],
   "source": [
    "def obtener_longitud_de_una_tupla(tupla):\n",
    "    \"\"\"\n",
    "    Instrucciones:\n",
    "        Esta función recibe una tupla y\n",
    "        devuelve la longitud de esa tupla\n",
    "\n",
    "    Recuerda:\n",
    "        Cuida la indentación.\n",
    "    \"\"\"\n",
    "    \n",
    "    # Escribe aquí tu código\n",
    "    \n",
    "    \n",
    "    # Escribe aquí tu código\n",
    "    \n",
    "    return # Escribe aquí tu código"
   ]
  },
  {
   "cell_type": "code",
   "execution_count": null,
   "metadata": {},
   "outputs": [],
   "source": [
    "calificador.califica_obtener_longitud_de_una_tupla(obtener_longitud_de_una_tupla, CORREO, False)"
   ]
  },
  {
   "cell_type": "code",
   "execution_count": null,
   "metadata": {},
   "outputs": [],
   "source": [
    "def obtener_longitud_de_un_diccionario(diccionario):\n",
    "    \"\"\"\n",
    "    Instrucciones:\n",
    "        Esta función recibe un diccionario y\n",
    "        devuelve la longitud de ese diccionario\n",
    "\n",
    "    Recuerda:\n",
    "        Cuida la indentación.\n",
    "    \"\"\"\n",
    "    \n",
    "    # Escribe aquí tu código\n",
    "    \n",
    "    \n",
    "    # Escribe aquí tu código\n",
    "    \n",
    "    return # Escribe aquí tu código"
   ]
  },
  {
   "cell_type": "code",
   "execution_count": null,
   "metadata": {},
   "outputs": [],
   "source": [
    "calificador.califica_obtener_longitud_de_un_diccionario(obtener_longitud_de_un_diccionario, CORREO, False)"
   ]
  },
  {
   "cell_type": "code",
   "execution_count": null,
   "metadata": {},
   "outputs": [],
   "source": [
    "def creacion_de_una_lista_con_exactamente_un_elemento(elemento):\n",
    "    \"\"\"\n",
    "    Instrucciones:\n",
    "        Esta función recibe un elemento, puede\n",
    "        ser un número, una cadena de caracteres\n",
    "        una tupla, una lista o cualquier objeto de Python\n",
    "        y devuelve una lista con dicho objeto.\n",
    "\n",
    "    Recuerda:\n",
    "        Cuida la indentación.\n",
    "    \"\"\"\n",
    "    \n",
    "    # Escribe aquí tu código\n",
    "    \n",
    "    \n",
    "    # Escribe aquí tu código\n",
    "    \n",
    "    return # Escribe aquí tu código"
   ]
  },
  {
   "cell_type": "code",
   "execution_count": null,
   "metadata": {},
   "outputs": [],
   "source": [
    "calificador.califica_creacion_de_una_lista_con_exactamente_un_elemento(creacion_de_una_lista_con_exactamente_un_elemento, CORREO, False)"
   ]
  },
  {
   "cell_type": "code",
   "execution_count": null,
   "metadata": {},
   "outputs": [],
   "source": [
    "def creacion_de_una_tupla_con_exactamente_un_elemento(elemento):\n",
    "\n",
    "    \"\"\"\n",
    "    Instrucciones:\n",
    "        Esta función recibe un elemento, puede\n",
    "        ser un número, una cadena de caracteres\n",
    "        una tupla, una lista o cualquier objeto de Python\n",
    "        y devuelve una tupla con dicho objeto.\n",
    "\n",
    "    Recuerda:\n",
    "        Cuida la indentación.\n",
    "    \"\"\"\n",
    "    \n",
    "    # Escribe aquí tu código\n",
    "    \n",
    "    \n",
    "    # Escribe aquí tu código\n",
    "    \n",
    "    return # Escribe aquí tu código"
   ]
  },
  {
   "cell_type": "code",
   "execution_count": null,
   "metadata": {},
   "outputs": [],
   "source": [
    "calificador.califica_creacion_de_una_tupla_con_exactamente_un_elemento(creacion_de_una_tupla_con_exactamente_un_elemento, CORREO, False)"
   ]
  },
  {
   "cell_type": "code",
   "execution_count": null,
   "metadata": {},
   "outputs": [],
   "source": [
    "def creacion_de_un_diccionario_con_clave_edad(edad):\n",
    "\n",
    "    \"\"\"\n",
    "    Instrucciones:\n",
    "        Esta función recibe la edad de una persona\n",
    "        y devuelve un diccionario que tenga una única\n",
    "        clave llamada 'edad' y cuyo valor sea la\n",
    "        edad que llega por parámetro.\n",
    "\n",
    "    Recuerda:\n",
    "        Cuida la indentación.\n",
    "    \"\"\"\n",
    "    \n",
    "    # Escribe aquí tu código\n",
    "    \n",
    "    \n",
    "    # Escribe aquí tu código\n",
    "    \n",
    "    return # Escribe aquí tu código"
   ]
  },
  {
   "cell_type": "code",
   "execution_count": null,
   "metadata": {},
   "outputs": [],
   "source": [
    "calificador.califica_creacion_de_un_diccionario_con_clave_edad(creacion_de_un_diccionario_con_clave_edad, CORREO, False)"
   ]
  },
  {
   "cell_type": "code",
   "execution_count": null,
   "metadata": {},
   "outputs": [],
   "source": [
    "def creacion_de_una_lista_con_tres_elementos():\n",
    "\n",
    "    \"\"\"\n",
    "    Instrucciones:\n",
    "        Esta función no recibe ningún parámetro\n",
    "        y regresa una lista con las letras\n",
    "        'a', 'b', 'c', es decir, regresa una lista\n",
    "        con 3 elementos.\n",
    "\n",
    "    Recuerda:\n",
    "        Cuida la indentación.\n",
    "    \"\"\"\n",
    "    \n",
    "    # Escribe aquí tu código\n",
    "    \n",
    "    \n",
    "    # Escribe aquí tu código\n",
    "    \n",
    "    return # Escribe aquí tu código"
   ]
  },
  {
   "cell_type": "code",
   "execution_count": null,
   "metadata": {},
   "outputs": [],
   "source": [
    "calificador.califica_creacion_de_una_lista_con_tres_elementos(creacion_de_una_lista_con_tres_elementos, CORREO, False)"
   ]
  },
  {
   "cell_type": "code",
   "execution_count": null,
   "metadata": {},
   "outputs": [],
   "source": [
    "def creacion_de_una_tupla_con_tres_elementos():\n",
    "\n",
    "    \"\"\"\n",
    "    Instrucciones:\n",
    "        Esta función no recibe ningún parámetro\n",
    "        y regresa una tupla con las letras\n",
    "        'a', '1', 'b', es decir, regresa una tupla\n",
    "        con 3 elementos.\n",
    "\n",
    "    Recuerda:\n",
    "        Cuida la indentación.\n",
    "    \"\"\"\n",
    "    \n",
    "    # Escribe aquí tu código\n",
    "    \n",
    "    \n",
    "    # Escribe aquí tu código\n",
    "    \n",
    "    return # Escribe aquí tu código"
   ]
  },
  {
   "cell_type": "code",
   "execution_count": null,
   "metadata": {},
   "outputs": [],
   "source": [
    "calificador.califica_creacion_de_una_tupla_con_tres_elementos(creacion_de_una_tupla_con_tres_elementos, CORREO, False)"
   ]
  },
  {
   "cell_type": "code",
   "execution_count": null,
   "metadata": {},
   "outputs": [],
   "source": [
    "def acceder_al_elemento_5(lista):\n",
    "\n",
    "    \"\"\"\n",
    "    Instrucciones:\n",
    "        Esta función recibe una lista\n",
    "        y regresa el elemento con el índice\n",
    "        5 de dicha lista.\n",
    "\n",
    "    Recuerda:\n",
    "        Cuida la indentación.\n",
    "    \"\"\"\n",
    "    \n",
    "    # Escribe aquí tu código\n",
    "    \n",
    "    \n",
    "    # Escribe aquí tu código\n",
    "    \n",
    "    return # Escribe aquí tu código"
   ]
  },
  {
   "cell_type": "code",
   "execution_count": null,
   "metadata": {},
   "outputs": [],
   "source": [
    "calificador.califica_acceder_al_elemento_5(acceder_al_elemento_5, CORREO, False)"
   ]
  },
  {
   "cell_type": "code",
   "execution_count": null,
   "metadata": {},
   "outputs": [],
   "source": [
    "def acceder_al_ultimo_elemento_de_una_tupla_en_rango(tope):\n",
    "\n",
    "    \"\"\"\n",
    "    Instrucciones:\n",
    "        Esta función recibe un número, el cual\n",
    "        funciona como tope en la creación de una tupla.\n",
    "        Deberás crear una tupla con los números del 0\n",
    "        a tope, acceder al último elemento de dicha tupla\n",
    "        y regresarlo.\n",
    "\n",
    "    Recuerda:\n",
    "        Cuida la indentación.\n",
    "    \"\"\"\n",
    "    \n",
    "    # Escribe aquí tu código\n",
    "    \n",
    "    \n",
    "    # Escribe aquí tu código\n",
    "    \n",
    "    return # Escribe aquí tu código"
   ]
  },
  {
   "cell_type": "code",
   "execution_count": null,
   "metadata": {},
   "outputs": [],
   "source": [
    "calificador.califica_acceder_al_ultimo_elemento_de_una_tupla_en_rango(acceder_al_ultimo_elemento_de_una_tupla_en_rango, CORREO, False)"
   ]
  },
  {
   "cell_type": "code",
   "execution_count": null,
   "metadata": {},
   "outputs": [],
   "source": [
    "def creacion_de_diccionario_dentro_de_otro_diccionario():\n",
    "    \"\"\"\n",
    "    Instrucciones:\n",
    "        Esta función no recibe parámetros y regresa un diccionario\n",
    "        con la siguiente estructura:\n",
    "        Una clave llamada 'estado' cuyo valor es 'Activo',\n",
    "        una clave llamada 'datos' cuyo valor es otro diccionario\n",
    "        con dos claves, una llamada 'curso' cuyo valor es\n",
    "        'Python de la A a la Z' y otra clave llamada 'tareas'\n",
    "        cuyo valor es 3.\n",
    "\n",
    "    Recuerda:\n",
    "        Cuida la indentación.\n",
    "    \"\"\"\n",
    "    \n",
    "    # Escribe aquí tu código\n",
    "    \n",
    "    \n",
    "    # Escribe aquí tu código\n",
    "    \n",
    "    return # Escribe aquí tu código"
   ]
  },
  {
   "cell_type": "code",
   "execution_count": null,
   "metadata": {},
   "outputs": [],
   "source": [
    "calificador.califica_creacion_de_diccionario_dentro_de_otro_diccionario(creacion_de_diccionario_dentro_de_otro_diccionario, CORREO, False)"
   ]
  },
  {
   "cell_type": "code",
   "execution_count": null,
   "metadata": {},
   "outputs": [],
   "source": [
    "def creacion_de_lista_de_diccionarios():\n",
    "    \"\"\"\n",
    "    Instrucciones:\n",
    "        Esta función no recibe parámteros y devuelve una \n",
    "        lista con dos diccionario de la siguiente forma:\n",
    "        El primer diccionario tiene la clave pais cuyo valor\n",
    "        es 'México' y tiene otra clave cuyo valor es 'nombre oficial'\n",
    "        cuyo valor es 'Estados Unidos Mexicanos'.\n",
    "        El segundo diccionario tiene la clave 'pais' cuyo valor\n",
    "        es 'Estados Unidos' y tiene otra clave cuyo valor es\n",
    "        'nombre oficial' cuyo valor es 'Estados Unidos de América'.\n",
    "\n",
    "    Recuerda:\n",
    "        Cuida la indentación.\n",
    "    \"\"\"\n",
    "    \n",
    "    # Escribe aquí tu código\n",
    "    \n",
    "    \n",
    "    # Escribe aquí tu código\n",
    "    \n",
    "    return # Escribe aquí tu código"
   ]
  },
  {
   "cell_type": "code",
   "execution_count": null,
   "metadata": {},
   "outputs": [],
   "source": [
    "calificador.califica_creacion_de_lista_de_diccionarios(creacion_de_lista_de_diccionarios, CORREO, False)"
   ]
  },
  {
   "cell_type": "code",
   "execution_count": null,
   "metadata": {},
   "outputs": [],
   "source": [
    "def creacion_de_diccionario_con_listas():\n",
    "\n",
    "    \"\"\"\n",
    "    Instrucciones:\n",
    "        Esta función no recibe parámetros y regresa\n",
    "        un diccionario de la siguiente forma:\n",
    "        Tiene una clave llamada 'tarea1' cuyos\n",
    "        valores son una lista con los números\n",
    "        10, 10, 8.\n",
    "        Y tiene una clave llamada 'tarea2' cuyos\n",
    "        valores son una lista con los números\n",
    "        10, 8, 7.\n",
    "\n",
    "    Recuerda:\n",
    "        Cuida la indentación.\n",
    "    \"\"\"\n",
    "    \n",
    "    # Escribe aquí tu código\n",
    "    \n",
    "    \n",
    "    # Escribe aquí tu código\n",
    "    \n",
    "    return # Escribe aquí tu código"
   ]
  },
  {
   "cell_type": "code",
   "execution_count": null,
   "metadata": {},
   "outputs": [],
   "source": [
    "calificador.califica_creacion_de_diccionario_con_listas(creacion_de_diccionario_con_listas, CORREO, False)"
   ]
  },
  {
   "cell_type": "code",
   "execution_count": null,
   "metadata": {},
   "outputs": [],
   "source": [
    "def creacion_de_diccionario_con_tuplas():\n",
    "    \"\"\"\n",
    "    Instrucciones:\n",
    "        Esta función no recibe parámetros y regresa\n",
    "        un diccionario de la siguiente forma:\n",
    "        Tiene una clave llamada 'historial'\n",
    "        cuyo valor es una tupla con 3 elementos,\n",
    "        el primer elemento de la tupla es\n",
    "        otra tupla con los números 3,5,1,6,\n",
    "        el segundo elemento de la tupla es\n",
    "        otra tupla con los números 56,2,1,7,\n",
    "        el tercer elemento de la tupla es\n",
    "        otra tupla con los números 62,4,78,3. \n",
    "\n",
    "    Recuerda:\n",
    "        Cuida la indentación.\n",
    "    \"\"\"\n",
    "    \n",
    "    # Escribe aquí tu código\n",
    "    \n",
    "    \n",
    "    # Escribe aquí tu código\n",
    "    \n",
    "    return # Escribe aquí tu código"
   ]
  },
  {
   "cell_type": "code",
   "execution_count": null,
   "metadata": {},
   "outputs": [],
   "source": [
    "calificador.califica_creacion_de_diccionario_con_tuplas(creacion_de_diccionario_con_tuplas, CORREO, False)"
   ]
  },
  {
   "cell_type": "code",
   "execution_count": null,
   "metadata": {},
   "outputs": [],
   "source": [
    "def creacion_de_diccionario_a_partir_de_clave(clave, valor):\n",
    "\n",
    "    \"\"\"\n",
    "    Instrucciones:\n",
    "        Esta función recibe una clave y un valor\n",
    "        y regresa un diccionario con esa clave\n",
    "        y cuyo valor sea el valor que llega por parámetro\n",
    "\n",
    "    Recuerda:\n",
    "        Cuida la indentación.\n",
    "    \"\"\"\n",
    "    \n",
    "    # Escribe aquí tu código\n",
    "    \n",
    "    \n",
    "    # Escribe aquí tu código\n",
    "    \n",
    "    # return # Escribe aquí tu código\n",
    "    \n",
    "    return # Escribe aquí tu código"
   ]
  },
  {
   "cell_type": "code",
   "execution_count": null,
   "metadata": {},
   "outputs": [],
   "source": [
    "calificador.califica_creacion_de_diccionario_a_partir_de_clave(creacion_de_diccionario_a_partir_de_clave, CORREO, False)"
   ]
  },
  {
   "cell_type": "code",
   "execution_count": null,
   "metadata": {},
   "outputs": [],
   "source": [
    "def lista_hasta_10000():\n",
    "\n",
    "    \"\"\"\n",
    "    Instrucciones:\n",
    "        Esta función no recibe parámetros y regresa\n",
    "        una lista con los números del 0 al 10000\n",
    "\n",
    "    Recuerda:\n",
    "        Cuida la indentación.\n",
    "    \"\"\"\n",
    "    \n",
    "    # Escribe aquí tu código\n",
    "    \n",
    "    \n",
    "    # Escribe aquí tu código\n",
    "    \n",
    "    #return # Escribe aquí tu código\n",
    "    \n",
    "    return # Escribe aquí tu código"
   ]
  },
  {
   "cell_type": "code",
   "execution_count": null,
   "metadata": {},
   "outputs": [],
   "source": [
    "calificador.califica_lista_hasta_10000(lista_hasta_10000, CORREO, False)"
   ]
  },
  {
   "cell_type": "code",
   "execution_count": null,
   "metadata": {},
   "outputs": [],
   "source": [
    "def lista_en_rango(tope):\n",
    "\n",
    "    \"\"\"\n",
    "    Instrucciones:\n",
    "        Esta función recibe como parámetro\n",
    "        un número, el cual sirve como tope\n",
    "        para crear una lista con los números\n",
    "        del 0 a tope - 1, debes regresar dicha lista.\n",
    "\n",
    "    Recuerda:\n",
    "        Cuida la indentación.\n",
    "    \"\"\"\n",
    "    \n",
    "    # Escribe aquí tu código\n",
    "    \n",
    "    \n",
    "    # Escribe aquí tu código\n",
    "    \n",
    "    return # Escribe aquí tu código"
   ]
  },
  {
   "cell_type": "code",
   "execution_count": null,
   "metadata": {},
   "outputs": [],
   "source": [
    "calificador.califica_lista_en_rango(lista_en_rango, CORREO, False)"
   ]
  },
  {
   "cell_type": "code",
   "execution_count": null,
   "metadata": {},
   "outputs": [],
   "source": [
    "def obtener_suma_sencilla(lista):\n",
    "    \"\"\"\n",
    "    Instrucciones:\n",
    "        Esta función recibe como parámetro\n",
    "        una lista de números y devuelve la suma total\n",
    "        de ellos.\n",
    "        \n",
    "    Nota:\n",
    "        En python existe una función llamada sum\n",
    "        que toma un iterable y devuelve la suma\n",
    "        de los elementos de ese iterable, aunque\n",
    "        esa función resuelve el problema, resuelve\n",
    "        este problema usando ciclos.\n",
    "    \"\"\"\n",
    "    \n",
    "    # Escribe aquí tu código\n",
    "    \n",
    "    \n",
    "    # Escribe aquí tu código\n",
    "    \n",
    "    return # Escribe aquí tu código"
   ]
  },
  {
   "cell_type": "code",
   "execution_count": null,
   "metadata": {},
   "outputs": [],
   "source": [
    "calificador.califica_obtener_suma_sencilla(obtener_suma_sencilla, CORREO, False)"
   ]
  },
  {
   "cell_type": "code",
   "execution_count": null,
   "metadata": {},
   "outputs": [],
   "source": [
    "def obtener_multiplicacion_sencilla(lista):\n",
    "    \"\"\"\n",
    "    Instrucciones:\n",
    "        Esta función recibe como parámetro\n",
    "        una lista de números y devuelve el producto de todos ellos.\n",
    "    \"\"\"\n",
    "    \n",
    "    # Escribe aquí tu código\n",
    "    \n",
    "    \n",
    "    # Escribe aquí tu código\n",
    "    \n",
    "    return # Escribe aquí tu código"
   ]
  },
  {
   "cell_type": "code",
   "execution_count": null,
   "metadata": {},
   "outputs": [],
   "source": [
    "calificador.califica_obtener_multiplicacion_sencilla(obtener_multiplicacion_sencilla, CORREO, False)"
   ]
  },
  {
   "cell_type": "code",
   "execution_count": null,
   "metadata": {},
   "outputs": [],
   "source": [
    "def obtener_palabras_mayores_a_3(lista):\n",
    "    \"\"\"\n",
    "    Instrucciones:\n",
    "        Esta función recibe como parámetro\n",
    "        una lista de palabras y devuelve una tupla\n",
    "        con aquellas palabras que tienen más de 3 \n",
    "        letras\n",
    "    \"\"\"\n",
    "    \n",
    "    # Escribe aquí tu código\n",
    "    \n",
    "    \n",
    "    # Escribe aquí tu código\n",
    "    \n",
    "    return # Escribe aquí tu código"
   ]
  },
  {
   "cell_type": "code",
   "execution_count": null,
   "metadata": {},
   "outputs": [],
   "source": [
    "calificador.califica_obtener_palabras_mayores_a_3(obtener_palabras_mayores_a_3, CORREO, False)"
   ]
  },
  {
   "cell_type": "code",
   "execution_count": null,
   "metadata": {},
   "outputs": [],
   "source": [
    "def obtener_factorial(tope):\n",
    "    \"\"\"\n",
    "    Instrucciones:\n",
    "        Esta función recibe como parámetro\n",
    "        un número y devuelve el factorial de dicho número.\n",
    "\n",
    "    Recuerda:\n",
    "        El factorial de un número se obtiene multiplicando\n",
    "        todos los números mayores que cero y menores o iguales\n",
    "        que dicho número.\n",
    "\n",
    "    Ejemplo:\n",
    "        Factorial de 3 = 3*2*1\n",
    "        Factorial de 4 = 4*3*2*1\n",
    "    \"\"\"\n",
    "    \n",
    "    # Escribe aquí tu código\n",
    "    \n",
    "    \n",
    "    # Escribe aquí tu código\n",
    "    \n",
    "    return # Escribe aquí tu código"
   ]
  },
  {
   "cell_type": "code",
   "execution_count": null,
   "metadata": {},
   "outputs": [],
   "source": [
    "calificador.califica_obtener_factorial(obtener_factorial, CORREO, False)"
   ]
  },
  {
   "cell_type": "code",
   "execution_count": null,
   "metadata": {},
   "outputs": [],
   "source": [
    "def sumar_impares(tope):\n",
    "    \"\"\"\n",
    "    Instrucciones:\n",
    "        Esta función recibe como parámetro\n",
    "        un número y devuelve la suma de los números impares\n",
    "        desde cero hasta el número que llega como parámetro\n",
    "        incluído ese número.\n",
    "    \"\"\"\n",
    "    \n",
    "    # Escribe aquí tu código\n",
    "    \n",
    "    \n",
    "    # Escribe aquí tu código\n",
    "    \n",
    "    return # Escribe aquí tu código"
   ]
  },
  {
   "cell_type": "code",
   "execution_count": null,
   "metadata": {},
   "outputs": [],
   "source": [
    "calificador.califica_sumar_impares(sumar_impares, CORREO, False)"
   ]
  },
  {
   "cell_type": "code",
   "execution_count": null,
   "metadata": {},
   "outputs": [],
   "source": [
    "def encontrar_indice(lista, numero):\n",
    "    \"\"\"\n",
    "    Instrucciones:\n",
    "        Esta función recibe como parámetro una lista y\n",
    "        un número y devuelve el índice en el que se encuentra\n",
    "        el número en dicha lista.\n",
    "    \"\"\"\n",
    "    \n",
    "    # Escribe aquí tu código\n",
    "    \n",
    "    \n",
    "    # Escribe aquí tu código\n",
    "    \n",
    "    return # Escribe aquí tu código"
   ]
  },
  {
   "cell_type": "code",
   "execution_count": null,
   "metadata": {},
   "outputs": [],
   "source": [
    "calificador.califica_encontrar_indice(encontrar_indice, CORREO, False)"
   ]
  },
  {
   "cell_type": "code",
   "execution_count": null,
   "metadata": {},
   "outputs": [],
   "source": [
    "def suma_totales(productos):\n",
    "    \"\"\"\n",
    "    Instrucciones:\n",
    "        Esta función recibe una lista de tuplas en las que el primer\n",
    "        elemento de la tupla es el nombre de un producto y el segundo\n",
    "        elemento es el total de productos vendidos de ese tipo.\n",
    "        Devolver el total de productos vendidos.\n",
    "\n",
    "    Recuerda:\n",
    "        Cuida la indentación.\n",
    "    \"\"\"\n",
    "    \n",
    "    # Escribe aquí tu código\n",
    "    \n",
    "    \n",
    "    # Escribe aquí tu código\n",
    "    \n",
    "    return # Escribe aquí tu código"
   ]
  },
  {
   "cell_type": "code",
   "execution_count": null,
   "metadata": {},
   "outputs": [],
   "source": [
    "calificador.califica_suma_totales(suma_totales, CORREO, False)"
   ]
  },
  {
   "cell_type": "code",
   "execution_count": null,
   "metadata": {},
   "outputs": [],
   "source": [
    "def revisar_claves(diccionario):\n",
    "    \"\"\"\n",
    "    Instrucciones:\n",
    "        Esta función recibe un diccionario y devuelve un\n",
    "        nuevo diccionario que tenga como claves\n",
    "        aquellas claves que inicien con la letra a\n",
    "        y sus valores respectivos.\n",
    "\n",
    "    Ejemplo:\n",
    "        Si el diccionario = {\"abecedario\": \"abcd...\", \"comida\": \"tacos\"}\n",
    "        la funcion devolvería {\"abecedario\": \"abcd...\"}.\n",
    "\n",
    "    A considerar:\n",
    "        No sabes si las claves inician con mayúscula o minúscula.\n",
    "    \"\"\"\n",
    "    \n",
    "    # Escribe aquí tu código\n",
    "    \n",
    "    \n",
    "    # Escribe aquí tu código\n",
    "    \n",
    "    return # Escribe aquí tu código"
   ]
  },
  {
   "cell_type": "code",
   "execution_count": null,
   "metadata": {},
   "outputs": [],
   "source": [
    "calificador.califica_revisar_claves(revisar_claves, CORREO, False)"
   ]
  },
  {
   "cell_type": "code",
   "execution_count": null,
   "metadata": {},
   "outputs": [],
   "source": [
    "def suma_filas(listas):\n",
    "    \"\"\"\n",
    "    Instrucciones:\n",
    "        Esta función recibe una lista de listas y devuelve una\n",
    "        nueva lista formada por la suma de los números\n",
    "        de cada una de las filas, en este sentido podemos\n",
    "        pensar la lista como una matriz, sin embargo, \n",
    "        no tiene porqué cumplir con una forma geométrica\n",
    "        regular.\n",
    "\n",
    "    Tip:\n",
    "        Nada impide que uses un ciclo dentro de otro ciclo,\n",
    "        es decir, con el ciclo exterior revisas cada una de las\n",
    "        filas y con el ciclo interior revisas cada uno \n",
    "        de los números de esa fila\n",
    "    \"\"\"\n",
    "    \n",
    "    # Escribe aquí tu código\n",
    "    \n",
    "    \n",
    "    # Escribe aquí tu código\n",
    "    \n",
    "    return # Escribe aquí tu código"
   ]
  },
  {
   "cell_type": "code",
   "execution_count": null,
   "metadata": {},
   "outputs": [],
   "source": [
    "calificador.califica_suma_filas(suma_filas, CORREO, False)"
   ]
  },
  {
   "cell_type": "code",
   "execution_count": null,
   "metadata": {},
   "outputs": [],
   "source": [
    "def filtrado(diccionario):\n",
    "    \"\"\"\n",
    "    Instrucciones:\n",
    "        Esta función recibe un diccionario con las\n",
    "        siguientes características.\n",
    "        Las claves son cadenas de caracteres de 3, 4\n",
    "        o 5 caracteres.\n",
    "        Las claves cuya longitud es 3 o 4 pueden contener\n",
    "        listas.\n",
    "        Las claves cuya longitud es de 5 poseen una palabra.\n",
    "        En caso de que exista la lista en la clave\n",
    "        obtener la suma de sus elementos y guardarlo\n",
    "        en otra lista.\n",
    "        En caso de que sea una palabra lo que se encuentre como valor,\n",
    "        guardarla en una lista (el valor, no la clave).\n",
    "        La función devuelve una tupla en cuyo primer\n",
    "        elemento se encuentra la lista de los números\n",
    "        obtenidos a partir de las sumas y en segundo lugar\n",
    "        se encuentra la lista que contiene las palabras.\n",
    "\n",
    "    Tip:\n",
    "        Piensa esta tarea en términos de ciclos. Pregúntate cómo \n",
    "        resolver cada una de las partes y al final pega los resultados.\n",
    "\n",
    "    Tip: Pregunta por el tipo de dato de los valores del diccionario.\n",
    "\n",
    "    Tipo: Para preguntar si algo es de algún tipo usas el doble igual\n",
    "    y el nombre de ese tipo, por ejemplo con variable == list estoy preguntando\n",
    "    si la variable es de tipo lista, así con int, float, tuple, dict, etc...\n",
    "\n",
    "    Ejemplo:\n",
    "\n",
    "        diccionario = {\"ola\": \"Del mar\", \"hola\": [1,2,3], \"curso\": \"Python\", \"ZDRF\": [3,4,5]}\n",
    "\n",
    "        Resultado: ([6, 12], [\"Python\"])\n",
    "    \"\"\"\n",
    "    \n",
    "    # Escribe aquí tu código\n",
    "    \n",
    "    \n",
    "    # Escribe aquí tu código\n",
    "    \n",
    "    return # Escribe aquí tu código"
   ]
  },
  {
   "cell_type": "code",
   "execution_count": null,
   "metadata": {},
   "outputs": [],
   "source": [
    "calificador.califica_filtrado(filtrado, CORREO, False)"
   ]
  },
  {
   "cell_type": "code",
   "execution_count": null,
   "metadata": {},
   "outputs": [],
   "source": [
    "def encontrar_primos(tope):\n",
    "    \"\"\"\n",
    "    Instrucciones:\n",
    "        Esta función recibe un número y devuelve una tupla\n",
    "        con los números primos debajo de este, incluyendo este,\n",
    "        si es que es primo.\n",
    "\n",
    "    Recordatorio:\n",
    "        Un número primero es aquel que sólo puede\n",
    "        dividirse entre sí mismo y entre 1 de forma entera.\n",
    "\n",
    "    Tip: \n",
    "        Construye una lista y conviértela a tupla\n",
    "\n",
    "    Consideración:\n",
    "        Tomemos el 1 como primo\n",
    "    \"\"\"\n",
    "    \n",
    "    # Escribe aquí tu código\n",
    "    \n",
    "    \n",
    "    # Escribe aquí tu código\n",
    "    \n",
    "    return # Escribe aquí tu código"
   ]
  },
  {
   "cell_type": "code",
   "execution_count": null,
   "metadata": {},
   "outputs": [],
   "source": [
    "calificador.califica_encontrar_primos(encontrar_primos, CORREO, False)"
   ]
  },
  {
   "cell_type": "code",
   "execution_count": null,
   "metadata": {},
   "outputs": [],
   "source": [
    "def obtener_nickname(diccionario):\n",
    "    \"\"\"\n",
    "    Instrucciones:\n",
    "        Esta función recibe un diccionario cuyas claves\n",
    "        son nombres de usuarios y valores son calificaciones.\n",
    "        La función devuelve una lista construida con las primeras\n",
    "        dos letras de cada uno de los nombres de los usuarios, \n",
    "        en mayúsculas.\n",
    "    \"\"\"\n",
    "    \n",
    "    # Escribe aquí tu código\n",
    "    \n",
    "    \n",
    "    # Escribe aquí tu código\n",
    "    \n",
    "    return # Escribe aquí tu código"
   ]
  },
  {
   "cell_type": "code",
   "execution_count": null,
   "metadata": {},
   "outputs": [],
   "source": [
    "calificador.califica_obtener_nickname(obtener_nickname, CORREO, False)"
   ]
  }
 ],
 "metadata": {
  "kernelspec": {
   "display_name": "Python 3.10.6 ('delfosenv')",
   "language": "python",
   "name": "python3"
  },
  "language_info": {
   "codemirror_mode": {
    "name": "ipython",
    "version": 3
   },
   "file_extension": ".py",
   "mimetype": "text/x-python",
   "name": "python",
   "nbconvert_exporter": "python",
   "pygments_lexer": "ipython3",
   "version": "3.10.6"
  },
  "orig_nbformat": 4,
  "vscode": {
   "interpreter": {
    "hash": "66c9bc616bbdea0db480a7a6aa32456e08a9558e4f5898b1f651409aba2af12d"
   }
  }
 },
 "nbformat": 4,
 "nbformat_minor": 2
}
