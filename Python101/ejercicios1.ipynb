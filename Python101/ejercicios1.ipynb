{
 "cells": [
  {
   "cell_type": "code",
   "execution_count": null,
   "metadata": {},
   "outputs": [],
   "source": [
    "def ejercicio_1():\n",
    "    \"\"\"\n",
    "    Instrucciones:\n",
    "        Esta función no recibe ningún parámetro.\n",
    "        Le pide al usuario 3 veces el nombre y la edad\n",
    "        de una persona, guarda el nombre y edad\n",
    "        de cada persona en un diccionario\n",
    "        y devolver una lista con dichos diccionarios\n",
    "    \n",
    "    Ejemplo:\n",
    "        [\n",
    "            {\"nombre\": \"Alberto\", \"edad\": 28}.\n",
    "            {\"nombre\": \"John\", \"edad\": 32},\n",
    "            {\"nombre\": \"Maria\", \"edad\": 27}\n",
    "        ]\n",
    "\n",
    "    \"\"\"\n",
    "\n",
    "    # Escribe aquí tu código\n",
    "    \n",
    "\n",
    "    # Escribe aquí tu código\n",
    "\n",
    "    return # Escribe aquí tu código"
   ]
  },
  {
   "cell_type": "code",
   "execution_count": null,
   "metadata": {},
   "outputs": [],
   "source": [
    "def ejercicio_2():\n",
    "    \"\"\"\n",
    "    Instrucciones:\n",
    "        Esta función no recibe ningún parámetro.\n",
    "        Le pide al usuario 1 vez el nombre y la calificación\n",
    "        de una persona, guarda el nombre y calificación\n",
    "        de esa persona en un diccionario, que adicionalmente\n",
    "        tenga una clave llamada \"aprobatorio\" teniendo ésta un\n",
    "        True si es que la calificación es mayor o igual a 8\n",
    "        y False en caso contrario.\n",
    "    \n",
    "    Ejemplo:\n",
    "        Si palabra es \"Hola\"\n",
    "        la función regresa un 4\n",
    "    \"\"\"\n",
    "\n",
    "    # Escribe aquí tu código\n",
    "    \n",
    "\n",
    "    # Escribe aquí tu código\n",
    "\n",
    "    return # Escribe aquí tu código"
   ]
  },
  {
   "cell_type": "code",
   "execution_count": null,
   "metadata": {},
   "outputs": [],
   "source": [
    "def ejercicio_3():\n",
    "    \"\"\"\n",
    "    Instrucciones:\n",
    "        Esta función no recibe parámetros.\n",
    "        Le pide al usuario un número entero\n",
    "        no negativo.\n",
    "        Si ese número es mayor o igual a 20,\n",
    "        devuelve la palabra \"Infinito\",\n",
    "        si ese número es menor a 20, devuelve\n",
    "        dicho número en una tupla.\n",
    "        Si el número no es un número no negativo\n",
    "        devuelve \"No entendí\"\n",
    "    \n",
    "    Ejemplo:\n",
    "        Si palabra es \"Hola\"\n",
    "        la función regresa un 4\n",
    "\n",
    "    \"\"\"\n",
    "\n",
    "    # Escribe aquí tu código\n",
    "    \n",
    "\n",
    "    # Escribe aquí tu código\n",
    "\n",
    "    return # Escribe aquí tu código"
   ]
  }
 ],
 "metadata": {
  "language_info": {
   "name": "python"
  },
  "orig_nbformat": 4
 },
 "nbformat": 4,
 "nbformat_minor": 2
}
