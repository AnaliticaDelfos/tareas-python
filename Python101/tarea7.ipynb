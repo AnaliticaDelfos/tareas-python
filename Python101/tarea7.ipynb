{
 "cells": [
  {
   "cell_type": "code",
   "execution_count": null,
   "metadata": {},
   "outputs": [],
   "source": [
    "#\n",
    "#\n",
    "# EJECUTAR ESTA CELDA\n",
    "#\n",
    "#\n",
    "\n",
    "#####################################\n",
    "#       Programación orientada a objetos\n",
    "#####################################\n",
    "\n",
    "\n",
    "import calificador\n",
    "CORREO = \"TU CORREO\""
   ]
  },
  {
   "cell_type": "code",
   "execution_count": null,
   "metadata": {},
   "outputs": [],
   "source": [
    "class Saludos:\n",
    "    \"\"\"\n",
    "    Instrucciones:\n",
    "        Los objetos creados a partir de esta clase\n",
    "        deben contener una propiedad llamada saludo\n",
    "        cuyo valor, al momento de creación, es la\n",
    "        cadena de caracteres \"Hola\".\n",
    "\n",
    "        Además debe contar con un método llamado\n",
    "        mostrar_saludo que lo único que hace es \n",
    "        devolver la propiedad saludo.\n",
    "\n",
    "    Nota:\n",
    "        Dejamos marcados los métodos necesarios\n",
    "        para esto, pasándole el parámetro self,\n",
    "        sin embargo, más adelante dejarán de\n",
    "        estar presentes y deberás escribirlos tu.\n",
    "    \"\"\"\n",
    "    def __init__(self):\n",
    "        ...\n",
    "\n",
    "    def mostrar_saludo(self):\n",
    "        ...\n",
    "    "
   ]
  },
  {
   "cell_type": "code",
   "execution_count": null,
   "metadata": {},
   "outputs": [],
   "source": [
    "calificador.califica_clase_saludos(Saludos, CORREO, False)"
   ]
  },
  {
   "cell_type": "code",
   "execution_count": null,
   "metadata": {},
   "outputs": [],
   "source": [
    "class Perro:\n",
    "    \"\"\"\n",
    "    Instrucciones:\n",
    "        Los objetos creados a partir de esta clase cuentan con una propiedad\n",
    "        raza y una propiedad nombre, las cuales se inicializan como None.\n",
    "\n",
    "        Además cuentan con un método llamado asignar_raza, el cual recibe\n",
    "        la raza que tendrá el perro, modifica la propiedad raza con el valor\n",
    "        recibido y devuelve la cadena \"Raza asignada\", \n",
    "        otro método llamado asignar nombre el que recibe el nombre que tendrá el perro,\n",
    "        modifica la propiedad nombre y devuelve \"Nombre asignado\", por último\n",
    "        cuentan con un método llamado ladrar, que lo único que hace\n",
    "        es devolver la cadena \"¡GUAU!\".\n",
    "\n",
    "    Nota:\n",
    "        Dejamos marcados los métodos necesarios\n",
    "        para esto, pasándole el parámetro self,\n",
    "        sin embargo, más adelante dejarán de\n",
    "        estar presentes y deberás escribirlos tu.\n",
    "        \n",
    "    \"\"\"\n",
    "    def __init__(self):\n",
    "        \"\"\"\n",
    "        A esto nos referimos con inicializar como None\n",
    "        \"\"\"\n",
    "        self.raza = None\n",
    "        self.nombre = None\n",
    "    \n",
    "    def asignar_raza(self, raza):\n",
    "        ...\n",
    "\n",
    "    def asignar_nombre(self, nombre):\n",
    "        ...\n",
    "\n",
    "    def ladrar(self):\n",
    "        ...\n",
    "    \n",
    "    "
   ]
  },
  {
   "cell_type": "code",
   "execution_count": null,
   "metadata": {},
   "outputs": [],
   "source": [
    "calificador.califica_clase_perro(Perro, CORREO, False)"
   ]
  },
  {
   "cell_type": "code",
   "execution_count": null,
   "metadata": {},
   "outputs": [],
   "source": [
    "class CalculadoraBasica:\n",
    "    \"\"\"\n",
    "    Instrucciones:\n",
    "        Los objetos creados a partir de esta clase tienen una propiedad\n",
    "        llamada marca que tiene como valor \"Delfos\".\n",
    "\n",
    "        Además de contar con los siguientes métodos:\n",
    "        Suma, resta, multiplicación y división, todos reciben\n",
    "        2 números y devuelven el resultado de realizar\n",
    "        la operación indicada por el nombre.\n",
    "\n",
    "    \"\"\"\n",
    "    def __init__(self):\n",
    "        ...\n",
    "\n",
    "    def suma(self, a, b):\n",
    "        ...\n",
    "    \n",
    "    def resta(self, a, b):\n",
    "        ...\n",
    "    \n",
    "    def multiplicacion(self, a, b):\n",
    "        ...\n",
    "    \n",
    "    def division(self, a, b):\n",
    "        ..."
   ]
  },
  {
   "cell_type": "code",
   "execution_count": null,
   "metadata": {},
   "outputs": [],
   "source": [
    "calificador.califica_clase_calculadora_basica(CalculadoraBasica, CORREO, False)"
   ]
  },
  {
   "attachments": {},
   "cell_type": "markdown",
   "metadata": {},
   "source": [
    "Distancia euclideana:\n",
    "$$d_{(p1, p2)} = \\sqrt{(p1_1 - p2_1)^2 + (p1_2 - p2_2)^2}$$\n",
    "\n",
    "Distancia manhattan:\n",
    "$$d_{(p1, p2)} = |p1_1 - p2_1| + |p2_1 - p2_2|$$\n",
    "\n",
    "Distancia discreta:\n",
    "$$d_{(p1, p2)}=\\begin{cases}\n",
    "  1 & \\text{Si p1 es igual a p2}\\\\\n",
    "  0 & \\text{En otro caso}\n",
    "\\end{cases}$$\n",
    "\n",
    "Donde $p1$ y $p2$ son los puntos, $p1_1$ es la primer coordenada del punto $p1$, $p2_1$ es la primer coordenada del punto $p2$, $p1_2$ es la segunda coordenada del punto $p1$, $p2_2$ es la segunda coordenada del punto $p2$ y, como notación $|p1_1 - p2_1|$ es el valor absoluto de la resta de la primer coordenada del primer punto con la primer coordenada del segundo punto"
   ]
  },
  {
   "cell_type": "code",
   "execution_count": null,
   "metadata": {},
   "outputs": [],
   "source": [
    "class Distancias:\n",
    "    \"\"\"\n",
    "    Los objetos creados a partir de esta clase son capaces de calcular\n",
    "    3 tipos distintos de distancias.\n",
    "\n",
    "    Los métodos para calcular las distancias se deben llamar: euclideana,\n",
    "    manhattan y discreta.\n",
    "\n",
    "    Los tres métodos deben recibir 2 listas p1, p2. Las listas que\n",
    "    reciben tienen pares de números que representan las coordenadas\n",
    "    de dos puntos, es decir, por ejemplo p1 puede ser la lista [1, 2]\n",
    "    y representa al punto en las coordenadas (1,2).\n",
    "\n",
    "    En el caso de la distancia euclidena hay que devolver la \n",
    "    distancia obtenida redondeada a 2 decimales.\n",
    "\n",
    "    Las fórmulas para las distancias están en la celda anterior.\n",
    "\n",
    "    Además de los métodos anteriores, se debe contar con una propiedad\n",
    "    llamada marca, cuyo valor sea \"Delfos\", esta propiedad se inicializa en\n",
    "    el método __init__\n",
    "    \"\"\"\n",
    "    ..."
   ]
  },
  {
   "cell_type": "code",
   "execution_count": null,
   "metadata": {},
   "outputs": [],
   "source": [
    "calificador.califica_distancias(Distancias, CORREO, False)"
   ]
  }
 ],
 "metadata": {
  "kernelspec": {
   "display_name": "Python 3 (ipykernel)",
   "language": "python",
   "name": "python3"
  },
  "language_info": {
   "codemirror_mode": {
    "name": "ipython",
    "version": 3
   },
   "file_extension": ".py",
   "mimetype": "text/x-python",
   "name": "python",
   "nbconvert_exporter": "python",
   "pygments_lexer": "ipython3",
   "version": "3.10.9"
  }
 },
 "nbformat": 4,
 "nbformat_minor": 2
}
