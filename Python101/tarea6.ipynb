{
 "cells": [
  {
   "cell_type": "code",
   "execution_count": null,
   "metadata": {},
   "outputs": [],
   "source": [
    "#\n",
    "#\n",
    "# EJECUTAR ESTA CELDA\n",
    "#\n",
    "#\n",
    "\n",
    "#####################################\n",
    "#       Ciclos\n",
    "#####################################\n",
    "\n",
    "\n",
    "import calificador\n",
    "CORREO = \"TU CORREO\""
   ]
  },
  {
   "cell_type": "code",
   "execution_count": null,
   "metadata": {},
   "outputs": [],
   "source": [
    "def encontrar_ocurrencias(lista_numeros, numero_a_buscar):\n",
    "    \"\"\"\n",
    "    Instrucciones:\n",
    "        Esta función recibe por parámetro una lista\n",
    "        de números y un número a buscar.\n",
    "\n",
    "        Devuelve la cantidad de veces que aparece el numero_a_buscar\n",
    "        en la lista de números.\n",
    "\n",
    "    Ejemplo:\n",
    "        Si lista_numeros = [1,2,3,4,3]\n",
    "        y numero_a_buscar = 3\n",
    "        La función devuelve un 2\n",
    "    \"\"\"\n",
    "\n",
    "    # Escribe aquí tu código\n",
    "    \n",
    "    \n",
    "    # Escribe aquí tu código\n",
    "    \n",
    "    return # Escribe aquí tu código"
   ]
  },
  {
   "cell_type": "code",
   "execution_count": null,
   "metadata": {},
   "outputs": [],
   "source": [
    "calificador.califica_encontrar_ocurrencias(encontrar_ocurrencias, CORREO, False)"
   ]
  },
  {
   "cell_type": "code",
   "execution_count": null,
   "metadata": {},
   "outputs": [],
   "source": [
    "def contar_en_lista(lista_palabras):\n",
    "    \"\"\"\n",
    "    Instrucciones:\n",
    "        Esta función recibe por parámetro una lista de palabras.\n",
    "\n",
    "        Devuelve un diccionario que tenga como claves cada una de las\n",
    "        palabras de la lista y como valor la cantidad de veces que aparece\n",
    "        esa palabra en la lista\n",
    "\n",
    "    Ejemplo:\n",
    "        Si lista_numeros = [\"Hola\", \"Hola\", \"Adios\"]\n",
    "        La función devuelve {\"Hola\": 2, \"Adios\": 1}\n",
    "    \"\"\"\n",
    "\n",
    "    # Escribe aquí tu código\n",
    "    \n",
    "    \n",
    "    # Escribe aquí tu código\n",
    "    \n",
    "    return # Escribe aquí tu código"
   ]
  },
  {
   "cell_type": "code",
   "execution_count": null,
   "metadata": {},
   "outputs": [],
   "source": [
    "calificador.califica_contar_en_lista(contar_en_lista, CORREO, False)"
   ]
  },
  {
   "cell_type": "code",
   "execution_count": null,
   "metadata": {},
   "outputs": [],
   "source": [
    "def elementos_comunes(lista_1, lista_2):\n",
    "    \"\"\"\n",
    "    Instrucciones:\n",
    "        Esta función recibe por parámetro dos listas.\n",
    "\n",
    "        Devuelve una lista que contenga los elementos que\n",
    "        se encuentran en ambas listas.\n",
    "\n",
    "    Ejemplo:\n",
    "        Si lista_1 = [1,2,3]\n",
    "        y lista_2 = [2,3,4]\n",
    "        La función devuelve [2,3]\n",
    "\n",
    "    Restricciones:\n",
    "        Agregar solo una vez el elemento en común,\n",
    "        si al revisar vemos que aparece otra vez en \n",
    "        alguna de las listas no agregarlo. Por ejemplo:\n",
    "        Si lista_1 = [2,2,2,2] y lista_2 = [2,2,3]\n",
    "        la función debe devolver [2]\n",
    "\n",
    "    Nota:\n",
    "        Aunque es posible hacer esto usando conjuntos\n",
    "        resuelve el problema usando ciclos.\n",
    "    \"\"\"\n",
    "\n",
    "    # Escribe aquí tu código\n",
    "    \n",
    "    \n",
    "    # Escribe aquí tu código\n",
    "    \n",
    "    return # Escribe aquí tu código"
   ]
  },
  {
   "cell_type": "code",
   "execution_count": null,
   "metadata": {},
   "outputs": [],
   "source": [
    "calificador.califica_elementos_comunes(elementos_comunes, CORREO, False)"
   ]
  },
  {
   "cell_type": "code",
   "execution_count": null,
   "metadata": {},
   "outputs": [],
   "source": [
    "def sumar_claves_de_diccionario(diccionario):\n",
    "    \"\"\"\n",
    "    Instrucciones:\n",
    "        Esta función recibe por parámetro un diccionario en cuyos valores hay números.\n",
    "\n",
    "        Devuelve la suma total de cada uno de los valores del diccionario.\n",
    "\n",
    "    Ejemplo:\n",
    "        Si diccionario = {\"manzanas\": 3, \"platanos\": 2}\n",
    "        La función devuelve 5\n",
    "    \"\"\"\n",
    "\n",
    "    # Escribe aquí tu código\n",
    "    \n",
    "    \n",
    "    # Escribe aquí tu código\n",
    "    \n",
    "    return # Escribe aquí tu código"
   ]
  },
  {
   "cell_type": "code",
   "execution_count": null,
   "metadata": {},
   "outputs": [],
   "source": [
    "calificador.califica_sumar_claves_de_diccionario(sumar_claves_de_diccionario, CORREO, False)"
   ]
  },
  {
   "cell_type": "code",
   "execution_count": null,
   "metadata": {},
   "outputs": [],
   "source": [
    "def separar_numeros(lista):\n",
    "    \"\"\"\n",
    "    Instrucciones:\n",
    "        Esta función recibe por parámetro una lista de cualquier tipo de dato.\n",
    "\n",
    "        Devuelve una tupla que contenga sólo los números enteros que sean mayores a 5\n",
    "        de la lista. La tupla resultante no debe tener elementos repetidos.\n",
    "\n",
    "    Ejemplo:\n",
    "        Si lista = [\"Hola\", [\"Hola\", \"Adios\"], 3, (19,), 5, 8]\n",
    "        La función devuelve (8,)\n",
    "    \"\"\"\n",
    "\n",
    "    # Escribe aquí tu código\n",
    "    \n",
    "    \n",
    "    # Escribe aquí tu código\n",
    "    \n",
    "    return # Escribe aquí tu código"
   ]
  },
  {
   "cell_type": "code",
   "execution_count": null,
   "metadata": {},
   "outputs": [],
   "source": [
    "calificador.califica_separar_numeros(separar_numeros, CORREO, False)"
   ]
  },
  {
   "cell_type": "code",
   "execution_count": null,
   "metadata": {},
   "outputs": [],
   "source": [
    "def cuadrado_de_asteriscos(n_asteriscos):\n",
    "    \"\"\"\n",
    "    Instrucciones:\n",
    "        Esta función recibe por parámetro un número que representa \n",
    "        la longitud del lado de un cuadrado.\n",
    "\n",
    "        Devuelve una cadena de caracteres que crea un cuadrado con\n",
    "        el n_asteriscos por lado\n",
    "\n",
    "    Ejemplo:\n",
    "        Si n_asteriscos = 3\n",
    "        La función devuelve:\n",
    "        '***\n",
    "         ***\n",
    "         ***'\n",
    "\n",
    "    Nota: \n",
    "        El número de filas es igual al número de asteríscos.\n",
    "\n",
    "    Nota:\n",
    "        Es probable que aunque tu ejercicio se vea bien, el calificador\n",
    "        diga que está mal por exceso de espacios, usa la función trim\n",
    "        para quitar los espacios extras una vez hayas creado el cuadrado.\n",
    "    \"\"\"\n",
    "\n",
    "    # Escribe aquí tu código\n",
    "    \n",
    "    \n",
    "    # Escribe aquí tu código\n",
    "    \n",
    "    return # Escribe aquí tu código"
   ]
  },
  {
   "cell_type": "code",
   "execution_count": null,
   "metadata": {},
   "outputs": [],
   "source": [
    "calificador.califica_cuadrado_de_asteriscos(cuadrado_de_asteriscos, CORREO, False)"
   ]
  },
  {
   "cell_type": "code",
   "execution_count": null,
   "metadata": {},
   "outputs": [],
   "source": [
    "def rectangulo_de_asteriscos(ancho, alto):\n",
    "    \"\"\"\n",
    "    Instrucciones:\n",
    "        Esta función recibe por parámetro dos números, ancho y alto.\n",
    "\n",
    "        Devuelve una cadena de caracteres que crea un rectángulo con\n",
    "        asteríscos ancho*alto\n",
    "\n",
    "    Ejemplo:\n",
    "        Si ancho = 3 y alto = 3\n",
    "        La función devuelve:\n",
    "        '***\n",
    "         ***'\n",
    "\n",
    "    Nota: \n",
    "        El número de filas es igual al alto y el número de\n",
    "        columnas es igual al ancho\n",
    "    \"\"\"\n",
    "\n",
    "    # Escribe aquí tu código\n",
    "    \n",
    "    \n",
    "    # Escribe aquí tu código\n",
    "    \n",
    "    return # Escribe aquí tu código"
   ]
  },
  {
   "cell_type": "code",
   "execution_count": null,
   "metadata": {},
   "outputs": [],
   "source": [
    "calificador.califica_rectangulo_de_asteriscos(rectangulo_de_asteriscos, CORREO, False)"
   ]
  },
  {
   "cell_type": "code",
   "execution_count": null,
   "metadata": {},
   "outputs": [],
   "source": [
    "def triangulo_de_asteriscos(alto):\n",
    "    \"\"\"\n",
    "    Instrucciones:\n",
    "        Esta función recibe por parámetro el alto de un triángulo.\n",
    "\n",
    "        Devuelve una cadena de caracteres que crea un triángulo. Este triángulo se\n",
    "        construirá con asteríscos de tal forma que se pone un asterísco\n",
    "        en la primer fila, dos asteríscos en la segunda fila, tres asteríscos\n",
    "        en la tercer fila, ..., en la fila número igual a alto habrá\n",
    "        tantos asteríscos como alto.\n",
    "\n",
    "    Ejemplo:\n",
    "        Si alto = 3\n",
    "        La función devuelve:\n",
    "        '*\n",
    "         **\n",
    "         ***'\n",
    "    \"\"\"\n",
    "\n",
    "    # Escribe aquí tu código\n",
    "    \n",
    "    \n",
    "    # Escribe aquí tu código\n",
    "    \n",
    "    return # Escribe aquí tu código"
   ]
  },
  {
   "cell_type": "code",
   "execution_count": null,
   "metadata": {},
   "outputs": [],
   "source": [
    "calificador.califica_triangulo_de_asteriscos(triangulo_de_asteriscos, CORREO, False)"
   ]
  },
  {
   "cell_type": "code",
   "execution_count": null,
   "metadata": {},
   "outputs": [],
   "source": [
    "def suma_totales(productos):\n",
    "    \"\"\"\n",
    "    Instrucciones:\n",
    "        Esta función recibe una lista de tuplas en las que el primer\n",
    "        elemento de la tupla es el nombre de un producto y el segundo\n",
    "        elemento es el total de productos vendidos de ese tipo.\n",
    "        Devolver el total de productos vendidos.\n",
    "\n",
    "    Recuerda:\n",
    "        Cuida la indentación.\n",
    "    \"\"\"\n",
    "    \n",
    "    # Escribe aquí tu código\n",
    "    \n",
    "    \n",
    "    # Escribe aquí tu código\n",
    "    \n",
    "    return # Escribe aquí tu código"
   ]
  },
  {
   "cell_type": "code",
   "execution_count": null,
   "metadata": {},
   "outputs": [],
   "source": [
    "calificador.califica_suma_totales(suma_totales, CORREO, False)"
   ]
  },
  {
   "cell_type": "code",
   "execution_count": null,
   "metadata": {},
   "outputs": [],
   "source": [
    "def pares_en_rango(inicio, fin):\n",
    "    \"\"\"\n",
    "    Instrucciones:\n",
    "        Esta función recibe dos números, llamados inicio y fin, respectivamente.\n",
    "        El fin es mayor que el inicio.\n",
    "        Encontrar los números pares que se encuentran entre inicio (inclusive) y fin (inclusive)\n",
    "        y agregarlos a una lista, regresar dicha lista.\n",
    "\n",
    "    Recuerda:\n",
    "        Cuida la indentación.\n",
    "    \"\"\"\n",
    "    \n",
    "    # Escribe aquí tu código\n",
    "    \n",
    "    \n",
    "    # Escribe aquí tu código\n",
    "    \n",
    "    return # Escribe aquí tu código"
   ]
  },
  {
   "cell_type": "code",
   "execution_count": null,
   "metadata": {},
   "outputs": [],
   "source": [
    "calificador.califica_pares_en_rango(pares_en_rango, CORREO, False)"
   ]
  },
  {
   "cell_type": "code",
   "execution_count": null,
   "metadata": {},
   "outputs": [],
   "source": [
    "def multiplos_de_5(numeros):\n",
    "    \"\"\"\n",
    "    Instrucciones:\n",
    "        Esta función recibe una lista de números enteros llamada numeros.\n",
    "        Guardar los números que sea múltiplos de 5 en una \n",
    "        lista nueva y regresar dicha lista.\n",
    "\n",
    "    Recuerda:\n",
    "        Cuida la indentación.\n",
    "    \"\"\"\n",
    "    \n",
    "    # Escribe aquí tu código\n",
    "    \n",
    "    \n",
    "    # Escribe aquí tu código\n",
    "    \n",
    "    return # Escribe aquí tu código"
   ]
  },
  {
   "cell_type": "code",
   "execution_count": null,
   "metadata": {},
   "outputs": [],
   "source": [
    "calificador.califica_multiplos_de_5(multiplos_de_5, CORREO, False)"
   ]
  },
  {
   "cell_type": "code",
   "execution_count": null,
   "metadata": {},
   "outputs": [],
   "source": [
    "def contar_vocales_y_numeros(cadena):\n",
    "    \"\"\"\n",
    "    Instrucciones:\n",
    "        Esta función recibe una cadena de caracteres como parámetro.\n",
    "        Usar ciclos (for o while) para encontrar lo siguiente:\n",
    "            Cantidad de números\n",
    "            Cantidad de letras\n",
    "        Regresar una tupla cuyo primer elemento sea la cantidad de vocales\n",
    "        y su segundo elemento sea la cantidad de números.\n",
    "\n",
    "    Recuerda:\n",
    "        Cuida la indentación.\n",
    "    \"\"\"\n",
    "    \n",
    "    # Escribe aquí tu código\n",
    "    \n",
    "    \n",
    "    # Escribe aquí tu código\n",
    "    \n",
    "    return # Escribe aquí tu código"
   ]
  },
  {
   "cell_type": "code",
   "execution_count": null,
   "metadata": {},
   "outputs": [],
   "source": [
    "calificador.califica_contar_vocales_y_numeros(contar_vocales_y_numeros, CORREO, False)"
   ]
  },
  {
   "cell_type": "code",
   "execution_count": null,
   "metadata": {},
   "outputs": [],
   "source": [
    "def obtener_promedio2(informacion_de_clase):\n",
    "    \"\"\"\n",
    "    Instrucciones:\n",
    "        Esta función recibe un diccionario llamado\n",
    "        informacion_de_clase que tiene una clave\n",
    "        \"alumnos\", dicha clave contiene una lista de números\n",
    "        con punto decimal (float), obtener el promedio de dichos\n",
    "        números.\n",
    "\n",
    "    Recuerda:\n",
    "        Cuida la indentación.\n",
    "    \"\"\"\n",
    "    \n",
    "    # Escribe aquí tu código\n",
    "\n",
    "    \n",
    "    # Escribe aquí tu código\n",
    "    \n",
    "    return # Escribe aquí tu código"
   ]
  },
  {
   "cell_type": "code",
   "execution_count": null,
   "metadata": {},
   "outputs": [],
   "source": [
    "calificador.califica_obtener_promedio2(obtener_promedio2, CORREO, False)"
   ]
  }
 ],
 "metadata": {
  "kernelspec": {
   "display_name": "delfos",
   "language": "python",
   "name": "python3"
  },
  "language_info": {
   "codemirror_mode": {
    "name": "ipython",
    "version": 3
   },
   "file_extension": ".py",
   "mimetype": "text/x-python",
   "name": "python",
   "nbconvert_exporter": "python",
   "pygments_lexer": "ipython3",
   "version": "3.10.9"
  },
  "orig_nbformat": 4
 },
 "nbformat": 4,
 "nbformat_minor": 2
}
