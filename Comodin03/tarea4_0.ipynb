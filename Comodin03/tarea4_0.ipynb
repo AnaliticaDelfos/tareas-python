{
 "cells": [
  {
   "cell_type": "code",
   "execution_count": 1,
   "metadata": {},
   "outputs": [],
   "source": [
    "#\n",
    "#\n",
    "# EJECUTAR ESTA CELDA CADA VEZ QUE ENTRES A HACER LA TAREA\n",
    "#\n",
    "#\n",
    "\n",
    "#####################################\n",
    "# Cadenas de caracteres\n",
    "#####################################\n",
    "\n",
    "\n",
    "import calificador\n",
    "from controlador import Controlador"
   ]
  },
  {
   "cell_type": "code",
   "execution_count": 2,
   "metadata": {},
   "outputs": [],
   "source": [
    "@Controlador(\"4\", \"ejercicio_31\")\n",
    "def ejercicio_31(str):\n",
    "    \"\"\"\n",
    "    Instrucciones:\n",
    "        La función \"ejercicio_31\" toma el parámetro \"str\" y,\n",
    "        regresa la cadena de caracteres asignada al mismo con \n",
    "        el primer carácter de cada palabra en mayúscula.\n",
    "\n",
    "    Condiciones:\n",
    "        El tipo de dato de dicho parámetro debe ser string.\n",
    "        La cadena de caracteres asignada a \"str\" debe ser \n",
    "        alfabética.\n",
    "        Utiliza el método .title() para convertir a mayúsculas\n",
    "        el primer carácter de todas las palabras.\n",
    "\n",
    "    Ejemplo:\n",
    "        Si str = \"hola mundo\" la función regresa:\n",
    "        Hola Mundo\n",
    "\n",
    "    Recuerda:        \n",
    "        Lo que la función \"regresa\" es justo lo que va después \n",
    "        de la palabra reservada \"return\".\n",
    "        \n",
    "        Cuida la indentación.\n",
    "    \"\"\"\n",
    "\n",
    "    # Escribe aquí tu código ↓\n",
    "    \n",
    "\n",
    "    # Escribe aquí tu código ↑\n",
    "\n",
    "    return # ← Escribe aquí tu código"
   ]
  },
  {
   "cell_type": "code",
   "execution_count": null,
   "metadata": {},
   "outputs": [],
   "source": [
    "ejercicio_31(\"buenos días\")"
   ]
  },
  {
   "cell_type": "code",
   "execution_count": 3,
   "metadata": {},
   "outputs": [
    {
     "name": "stdout",
     "output_type": "stream",
     "text": [
      "===============================================================================\n",
      "\n",
      "============> Calificando: tarea 4 - ejercicio ejercicio_31 <============\n",
      "\n",
      "===============================================================================\n",
      "\n",
      "\n",
      "======================================================\n",
      "            ||          Calificación: 100.0            \n",
      "            ||          Aciertos: 3                   \n",
      "            ||          Errores: 0                     \n",
      "======================================================\n",
      "    \n",
      "======> Casos existosos: <======\n",
      "\n",
      "\u001b[0;34m Valores de entrada: hola mundo.             \u001b[0;35m Valor esperado: Hola Mundo.             \u001b[0;36m Valor obtenido: Hola Mundo\n",
      "\u001b[00m\n",
      "\u001b[0;34m Valores de entrada: buenos días.             \u001b[0;35m Valor esperado: Buenos Días.             \u001b[0;36m Valor obtenido: Buenos Días\n",
      "\u001b[00m\n",
      "\u001b[0;34m Valores de entrada: Analítica delfos.             \u001b[0;35m Valor esperado: Analítica Delfos.             \u001b[0;36m Valor obtenido: Analítica Delfos\n",
      "\u001b[00m\n",
      "======> No hubo errores :D <======\n",
      "\n"
     ]
    },
    {
     "ename": "ConnectionError",
     "evalue": "HTTPConnectionPool(host='127.0.0.1', port=8086): Max retries exceeded with url: / (Caused by NewConnectionError('<urllib3.connection.HTTPConnection object at 0x000001E16FE4DB40>: Failed to establish a new connection: [WinError 10061] No se puede establecer una conexión ya que el equipo de destino denegó expresamente dicha conexión'))",
     "output_type": "error",
     "traceback": [
      "\u001b[1;31m---------------------------------------------------------------------------\u001b[0m",
      "\u001b[1;31mConnectionRefusedError\u001b[0m                    Traceback (most recent call last)",
      "File \u001b[1;32mc:\\Users\\Paola Soria\\miniconda3\\lib\\site-packages\\urllib3\\connection.py:174\u001b[0m, in \u001b[0;36mHTTPConnection._new_conn\u001b[1;34m(self)\u001b[0m\n\u001b[0;32m    173\u001b[0m \u001b[38;5;28;01mtry\u001b[39;00m:\n\u001b[1;32m--> 174\u001b[0m     conn \u001b[38;5;241m=\u001b[39m connection\u001b[38;5;241m.\u001b[39mcreate_connection(\n\u001b[0;32m    175\u001b[0m         (\u001b[38;5;28mself\u001b[39m\u001b[38;5;241m.\u001b[39m_dns_host, \u001b[38;5;28mself\u001b[39m\u001b[38;5;241m.\u001b[39mport), \u001b[38;5;28mself\u001b[39m\u001b[38;5;241m.\u001b[39mtimeout, \u001b[38;5;241m*\u001b[39m\u001b[38;5;241m*\u001b[39mextra_kw\n\u001b[0;32m    176\u001b[0m     )\n\u001b[0;32m    178\u001b[0m \u001b[38;5;28;01mexcept\u001b[39;00m SocketTimeout:\n",
      "File \u001b[1;32mc:\\Users\\Paola Soria\\miniconda3\\lib\\site-packages\\urllib3\\util\\connection.py:95\u001b[0m, in \u001b[0;36mcreate_connection\u001b[1;34m(address, timeout, source_address, socket_options)\u001b[0m\n\u001b[0;32m     94\u001b[0m \u001b[38;5;28;01mif\u001b[39;00m err \u001b[38;5;129;01mis\u001b[39;00m \u001b[38;5;129;01mnot\u001b[39;00m \u001b[38;5;28;01mNone\u001b[39;00m:\n\u001b[1;32m---> 95\u001b[0m     \u001b[38;5;28;01mraise\u001b[39;00m err\n\u001b[0;32m     97\u001b[0m \u001b[38;5;28;01mraise\u001b[39;00m socket\u001b[38;5;241m.\u001b[39merror(\u001b[38;5;124m\"\u001b[39m\u001b[38;5;124mgetaddrinfo returns an empty list\u001b[39m\u001b[38;5;124m\"\u001b[39m)\n",
      "File \u001b[1;32mc:\\Users\\Paola Soria\\miniconda3\\lib\\site-packages\\urllib3\\util\\connection.py:85\u001b[0m, in \u001b[0;36mcreate_connection\u001b[1;34m(address, timeout, source_address, socket_options)\u001b[0m\n\u001b[0;32m     84\u001b[0m     sock\u001b[38;5;241m.\u001b[39mbind(source_address)\n\u001b[1;32m---> 85\u001b[0m \u001b[43msock\u001b[49m\u001b[38;5;241;43m.\u001b[39;49m\u001b[43mconnect\u001b[49m\u001b[43m(\u001b[49m\u001b[43msa\u001b[49m\u001b[43m)\u001b[49m\n\u001b[0;32m     86\u001b[0m \u001b[38;5;28;01mreturn\u001b[39;00m sock\n",
      "\u001b[1;31mConnectionRefusedError\u001b[0m: [WinError 10061] No se puede establecer una conexión ya que el equipo de destino denegó expresamente dicha conexión",
      "\nDuring handling of the above exception, another exception occurred:\n",
      "\u001b[1;31mNewConnectionError\u001b[0m                        Traceback (most recent call last)",
      "File \u001b[1;32mc:\\Users\\Paola Soria\\miniconda3\\lib\\site-packages\\urllib3\\connectionpool.py:703\u001b[0m, in \u001b[0;36mHTTPConnectionPool.urlopen\u001b[1;34m(self, method, url, body, headers, retries, redirect, assert_same_host, timeout, pool_timeout, release_conn, chunked, body_pos, **response_kw)\u001b[0m\n\u001b[0;32m    702\u001b[0m \u001b[38;5;66;03m# Make the request on the httplib connection object.\u001b[39;00m\n\u001b[1;32m--> 703\u001b[0m httplib_response \u001b[38;5;241m=\u001b[39m \u001b[38;5;28;43mself\u001b[39;49m\u001b[38;5;241;43m.\u001b[39;49m\u001b[43m_make_request\u001b[49m\u001b[43m(\u001b[49m\n\u001b[0;32m    704\u001b[0m \u001b[43m    \u001b[49m\u001b[43mconn\u001b[49m\u001b[43m,\u001b[49m\n\u001b[0;32m    705\u001b[0m \u001b[43m    \u001b[49m\u001b[43mmethod\u001b[49m\u001b[43m,\u001b[49m\n\u001b[0;32m    706\u001b[0m \u001b[43m    \u001b[49m\u001b[43murl\u001b[49m\u001b[43m,\u001b[49m\n\u001b[0;32m    707\u001b[0m \u001b[43m    \u001b[49m\u001b[43mtimeout\u001b[49m\u001b[38;5;241;43m=\u001b[39;49m\u001b[43mtimeout_obj\u001b[49m\u001b[43m,\u001b[49m\n\u001b[0;32m    708\u001b[0m \u001b[43m    \u001b[49m\u001b[43mbody\u001b[49m\u001b[38;5;241;43m=\u001b[39;49m\u001b[43mbody\u001b[49m\u001b[43m,\u001b[49m\n\u001b[0;32m    709\u001b[0m \u001b[43m    \u001b[49m\u001b[43mheaders\u001b[49m\u001b[38;5;241;43m=\u001b[39;49m\u001b[43mheaders\u001b[49m\u001b[43m,\u001b[49m\n\u001b[0;32m    710\u001b[0m \u001b[43m    \u001b[49m\u001b[43mchunked\u001b[49m\u001b[38;5;241;43m=\u001b[39;49m\u001b[43mchunked\u001b[49m\u001b[43m,\u001b[49m\n\u001b[0;32m    711\u001b[0m \u001b[43m\u001b[49m\u001b[43m)\u001b[49m\n\u001b[0;32m    713\u001b[0m \u001b[38;5;66;03m# If we're going to release the connection in ``finally:``, then\u001b[39;00m\n\u001b[0;32m    714\u001b[0m \u001b[38;5;66;03m# the response doesn't need to know about the connection. Otherwise\u001b[39;00m\n\u001b[0;32m    715\u001b[0m \u001b[38;5;66;03m# it will also try to release it and we'll have a double-release\u001b[39;00m\n\u001b[0;32m    716\u001b[0m \u001b[38;5;66;03m# mess.\u001b[39;00m\n",
      "File \u001b[1;32mc:\\Users\\Paola Soria\\miniconda3\\lib\\site-packages\\urllib3\\connectionpool.py:398\u001b[0m, in \u001b[0;36mHTTPConnectionPool._make_request\u001b[1;34m(self, conn, method, url, timeout, chunked, **httplib_request_kw)\u001b[0m\n\u001b[0;32m    397\u001b[0m     \u001b[38;5;28;01melse\u001b[39;00m:\n\u001b[1;32m--> 398\u001b[0m         conn\u001b[38;5;241m.\u001b[39mrequest(method, url, \u001b[38;5;241m*\u001b[39m\u001b[38;5;241m*\u001b[39mhttplib_request_kw)\n\u001b[0;32m    400\u001b[0m \u001b[38;5;66;03m# We are swallowing BrokenPipeError (errno.EPIPE) since the server is\u001b[39;00m\n\u001b[0;32m    401\u001b[0m \u001b[38;5;66;03m# legitimately able to close the connection after sending a valid response.\u001b[39;00m\n\u001b[0;32m    402\u001b[0m \u001b[38;5;66;03m# With this behaviour, the received response is still readable.\u001b[39;00m\n",
      "File \u001b[1;32mc:\\Users\\Paola Soria\\miniconda3\\lib\\site-packages\\urllib3\\connection.py:244\u001b[0m, in \u001b[0;36mHTTPConnection.request\u001b[1;34m(self, method, url, body, headers)\u001b[0m\n\u001b[0;32m    243\u001b[0m     headers[\u001b[38;5;124m\"\u001b[39m\u001b[38;5;124mUser-Agent\u001b[39m\u001b[38;5;124m\"\u001b[39m] \u001b[38;5;241m=\u001b[39m _get_default_user_agent()\n\u001b[1;32m--> 244\u001b[0m \u001b[38;5;28;43msuper\u001b[39;49m\u001b[43m(\u001b[49m\u001b[43mHTTPConnection\u001b[49m\u001b[43m,\u001b[49m\u001b[43m \u001b[49m\u001b[38;5;28;43mself\u001b[39;49m\u001b[43m)\u001b[49m\u001b[38;5;241;43m.\u001b[39;49m\u001b[43mrequest\u001b[49m\u001b[43m(\u001b[49m\u001b[43mmethod\u001b[49m\u001b[43m,\u001b[49m\u001b[43m \u001b[49m\u001b[43murl\u001b[49m\u001b[43m,\u001b[49m\u001b[43m \u001b[49m\u001b[43mbody\u001b[49m\u001b[38;5;241;43m=\u001b[39;49m\u001b[43mbody\u001b[49m\u001b[43m,\u001b[49m\u001b[43m \u001b[49m\u001b[43mheaders\u001b[49m\u001b[38;5;241;43m=\u001b[39;49m\u001b[43mheaders\u001b[49m\u001b[43m)\u001b[49m\n",
      "File \u001b[1;32mc:\\Users\\Paola Soria\\miniconda3\\lib\\http\\client.py:1282\u001b[0m, in \u001b[0;36mHTTPConnection.request\u001b[1;34m(self, method, url, body, headers, encode_chunked)\u001b[0m\n\u001b[0;32m   1281\u001b[0m \u001b[38;5;250m\u001b[39m\u001b[38;5;124;03m\"\"\"Send a complete request to the server.\"\"\"\u001b[39;00m\n\u001b[1;32m-> 1282\u001b[0m \u001b[38;5;28;43mself\u001b[39;49m\u001b[38;5;241;43m.\u001b[39;49m\u001b[43m_send_request\u001b[49m\u001b[43m(\u001b[49m\u001b[43mmethod\u001b[49m\u001b[43m,\u001b[49m\u001b[43m \u001b[49m\u001b[43murl\u001b[49m\u001b[43m,\u001b[49m\u001b[43m \u001b[49m\u001b[43mbody\u001b[49m\u001b[43m,\u001b[49m\u001b[43m \u001b[49m\u001b[43mheaders\u001b[49m\u001b[43m,\u001b[49m\u001b[43m \u001b[49m\u001b[43mencode_chunked\u001b[49m\u001b[43m)\u001b[49m\n",
      "File \u001b[1;32mc:\\Users\\Paola Soria\\miniconda3\\lib\\http\\client.py:1328\u001b[0m, in \u001b[0;36mHTTPConnection._send_request\u001b[1;34m(self, method, url, body, headers, encode_chunked)\u001b[0m\n\u001b[0;32m   1327\u001b[0m     body \u001b[38;5;241m=\u001b[39m _encode(body, \u001b[38;5;124m'\u001b[39m\u001b[38;5;124mbody\u001b[39m\u001b[38;5;124m'\u001b[39m)\n\u001b[1;32m-> 1328\u001b[0m \u001b[38;5;28;43mself\u001b[39;49m\u001b[38;5;241;43m.\u001b[39;49m\u001b[43mendheaders\u001b[49m\u001b[43m(\u001b[49m\u001b[43mbody\u001b[49m\u001b[43m,\u001b[49m\u001b[43m \u001b[49m\u001b[43mencode_chunked\u001b[49m\u001b[38;5;241;43m=\u001b[39;49m\u001b[43mencode_chunked\u001b[49m\u001b[43m)\u001b[49m\n",
      "File \u001b[1;32mc:\\Users\\Paola Soria\\miniconda3\\lib\\http\\client.py:1277\u001b[0m, in \u001b[0;36mHTTPConnection.endheaders\u001b[1;34m(self, message_body, encode_chunked)\u001b[0m\n\u001b[0;32m   1276\u001b[0m     \u001b[38;5;28;01mraise\u001b[39;00m CannotSendHeader()\n\u001b[1;32m-> 1277\u001b[0m \u001b[38;5;28;43mself\u001b[39;49m\u001b[38;5;241;43m.\u001b[39;49m\u001b[43m_send_output\u001b[49m\u001b[43m(\u001b[49m\u001b[43mmessage_body\u001b[49m\u001b[43m,\u001b[49m\u001b[43m \u001b[49m\u001b[43mencode_chunked\u001b[49m\u001b[38;5;241;43m=\u001b[39;49m\u001b[43mencode_chunked\u001b[49m\u001b[43m)\u001b[49m\n",
      "File \u001b[1;32mc:\\Users\\Paola Soria\\miniconda3\\lib\\http\\client.py:1037\u001b[0m, in \u001b[0;36mHTTPConnection._send_output\u001b[1;34m(self, message_body, encode_chunked)\u001b[0m\n\u001b[0;32m   1036\u001b[0m \u001b[38;5;28;01mdel\u001b[39;00m \u001b[38;5;28mself\u001b[39m\u001b[38;5;241m.\u001b[39m_buffer[:]\n\u001b[1;32m-> 1037\u001b[0m \u001b[38;5;28;43mself\u001b[39;49m\u001b[38;5;241;43m.\u001b[39;49m\u001b[43msend\u001b[49m\u001b[43m(\u001b[49m\u001b[43mmsg\u001b[49m\u001b[43m)\u001b[49m\n\u001b[0;32m   1039\u001b[0m \u001b[38;5;28;01mif\u001b[39;00m message_body \u001b[38;5;129;01mis\u001b[39;00m \u001b[38;5;129;01mnot\u001b[39;00m \u001b[38;5;28;01mNone\u001b[39;00m:\n\u001b[0;32m   1040\u001b[0m \n\u001b[0;32m   1041\u001b[0m     \u001b[38;5;66;03m# create a consistent interface to message_body\u001b[39;00m\n",
      "File \u001b[1;32mc:\\Users\\Paola Soria\\miniconda3\\lib\\http\\client.py:975\u001b[0m, in \u001b[0;36mHTTPConnection.send\u001b[1;34m(self, data)\u001b[0m\n\u001b[0;32m    974\u001b[0m \u001b[38;5;28;01mif\u001b[39;00m \u001b[38;5;28mself\u001b[39m\u001b[38;5;241m.\u001b[39mauto_open:\n\u001b[1;32m--> 975\u001b[0m     \u001b[38;5;28;43mself\u001b[39;49m\u001b[38;5;241;43m.\u001b[39;49m\u001b[43mconnect\u001b[49m\u001b[43m(\u001b[49m\u001b[43m)\u001b[49m\n\u001b[0;32m    976\u001b[0m \u001b[38;5;28;01melse\u001b[39;00m:\n",
      "File \u001b[1;32mc:\\Users\\Paola Soria\\miniconda3\\lib\\site-packages\\urllib3\\connection.py:205\u001b[0m, in \u001b[0;36mHTTPConnection.connect\u001b[1;34m(self)\u001b[0m\n\u001b[0;32m    204\u001b[0m \u001b[38;5;28;01mdef\u001b[39;00m \u001b[38;5;21mconnect\u001b[39m(\u001b[38;5;28mself\u001b[39m):\n\u001b[1;32m--> 205\u001b[0m     conn \u001b[38;5;241m=\u001b[39m \u001b[38;5;28;43mself\u001b[39;49m\u001b[38;5;241;43m.\u001b[39;49m\u001b[43m_new_conn\u001b[49m\u001b[43m(\u001b[49m\u001b[43m)\u001b[49m\n\u001b[0;32m    206\u001b[0m     \u001b[38;5;28mself\u001b[39m\u001b[38;5;241m.\u001b[39m_prepare_conn(conn)\n",
      "File \u001b[1;32mc:\\Users\\Paola Soria\\miniconda3\\lib\\site-packages\\urllib3\\connection.py:186\u001b[0m, in \u001b[0;36mHTTPConnection._new_conn\u001b[1;34m(self)\u001b[0m\n\u001b[0;32m    185\u001b[0m \u001b[38;5;28;01mexcept\u001b[39;00m SocketError \u001b[38;5;28;01mas\u001b[39;00m e:\n\u001b[1;32m--> 186\u001b[0m     \u001b[38;5;28;01mraise\u001b[39;00m NewConnectionError(\n\u001b[0;32m    187\u001b[0m         \u001b[38;5;28mself\u001b[39m, \u001b[38;5;124m\"\u001b[39m\u001b[38;5;124mFailed to establish a new connection: \u001b[39m\u001b[38;5;132;01m%s\u001b[39;00m\u001b[38;5;124m\"\u001b[39m \u001b[38;5;241m%\u001b[39m e\n\u001b[0;32m    188\u001b[0m     )\n\u001b[0;32m    190\u001b[0m \u001b[38;5;28;01mreturn\u001b[39;00m conn\n",
      "\u001b[1;31mNewConnectionError\u001b[0m: <urllib3.connection.HTTPConnection object at 0x000001E16FE4DB40>: Failed to establish a new connection: [WinError 10061] No se puede establecer una conexión ya que el equipo de destino denegó expresamente dicha conexión",
      "\nDuring handling of the above exception, another exception occurred:\n",
      "\u001b[1;31mMaxRetryError\u001b[0m                             Traceback (most recent call last)",
      "File \u001b[1;32mc:\\Users\\Paola Soria\\miniconda3\\lib\\site-packages\\requests\\adapters.py:486\u001b[0m, in \u001b[0;36mHTTPAdapter.send\u001b[1;34m(self, request, stream, timeout, verify, cert, proxies)\u001b[0m\n\u001b[0;32m    485\u001b[0m \u001b[38;5;28;01mtry\u001b[39;00m:\n\u001b[1;32m--> 486\u001b[0m     resp \u001b[38;5;241m=\u001b[39m \u001b[43mconn\u001b[49m\u001b[38;5;241;43m.\u001b[39;49m\u001b[43murlopen\u001b[49m\u001b[43m(\u001b[49m\n\u001b[0;32m    487\u001b[0m \u001b[43m        \u001b[49m\u001b[43mmethod\u001b[49m\u001b[38;5;241;43m=\u001b[39;49m\u001b[43mrequest\u001b[49m\u001b[38;5;241;43m.\u001b[39;49m\u001b[43mmethod\u001b[49m\u001b[43m,\u001b[49m\n\u001b[0;32m    488\u001b[0m \u001b[43m        \u001b[49m\u001b[43murl\u001b[49m\u001b[38;5;241;43m=\u001b[39;49m\u001b[43murl\u001b[49m\u001b[43m,\u001b[49m\n\u001b[0;32m    489\u001b[0m \u001b[43m        \u001b[49m\u001b[43mbody\u001b[49m\u001b[38;5;241;43m=\u001b[39;49m\u001b[43mrequest\u001b[49m\u001b[38;5;241;43m.\u001b[39;49m\u001b[43mbody\u001b[49m\u001b[43m,\u001b[49m\n\u001b[0;32m    490\u001b[0m \u001b[43m        \u001b[49m\u001b[43mheaders\u001b[49m\u001b[38;5;241;43m=\u001b[39;49m\u001b[43mrequest\u001b[49m\u001b[38;5;241;43m.\u001b[39;49m\u001b[43mheaders\u001b[49m\u001b[43m,\u001b[49m\n\u001b[0;32m    491\u001b[0m \u001b[43m        \u001b[49m\u001b[43mredirect\u001b[49m\u001b[38;5;241;43m=\u001b[39;49m\u001b[38;5;28;43;01mFalse\u001b[39;49;00m\u001b[43m,\u001b[49m\n\u001b[0;32m    492\u001b[0m \u001b[43m        \u001b[49m\u001b[43massert_same_host\u001b[49m\u001b[38;5;241;43m=\u001b[39;49m\u001b[38;5;28;43;01mFalse\u001b[39;49;00m\u001b[43m,\u001b[49m\n\u001b[0;32m    493\u001b[0m \u001b[43m        \u001b[49m\u001b[43mpreload_content\u001b[49m\u001b[38;5;241;43m=\u001b[39;49m\u001b[38;5;28;43;01mFalse\u001b[39;49;00m\u001b[43m,\u001b[49m\n\u001b[0;32m    494\u001b[0m \u001b[43m        \u001b[49m\u001b[43mdecode_content\u001b[49m\u001b[38;5;241;43m=\u001b[39;49m\u001b[38;5;28;43;01mFalse\u001b[39;49;00m\u001b[43m,\u001b[49m\n\u001b[0;32m    495\u001b[0m \u001b[43m        \u001b[49m\u001b[43mretries\u001b[49m\u001b[38;5;241;43m=\u001b[39;49m\u001b[38;5;28;43mself\u001b[39;49m\u001b[38;5;241;43m.\u001b[39;49m\u001b[43mmax_retries\u001b[49m\u001b[43m,\u001b[49m\n\u001b[0;32m    496\u001b[0m \u001b[43m        \u001b[49m\u001b[43mtimeout\u001b[49m\u001b[38;5;241;43m=\u001b[39;49m\u001b[43mtimeout\u001b[49m\u001b[43m,\u001b[49m\n\u001b[0;32m    497\u001b[0m \u001b[43m        \u001b[49m\u001b[43mchunked\u001b[49m\u001b[38;5;241;43m=\u001b[39;49m\u001b[43mchunked\u001b[49m\u001b[43m,\u001b[49m\n\u001b[0;32m    498\u001b[0m \u001b[43m    \u001b[49m\u001b[43m)\u001b[49m\n\u001b[0;32m    500\u001b[0m \u001b[38;5;28;01mexcept\u001b[39;00m (ProtocolError, \u001b[38;5;167;01mOSError\u001b[39;00m) \u001b[38;5;28;01mas\u001b[39;00m err:\n",
      "File \u001b[1;32mc:\\Users\\Paola Soria\\miniconda3\\lib\\site-packages\\urllib3\\connectionpool.py:787\u001b[0m, in \u001b[0;36mHTTPConnectionPool.urlopen\u001b[1;34m(self, method, url, body, headers, retries, redirect, assert_same_host, timeout, pool_timeout, release_conn, chunked, body_pos, **response_kw)\u001b[0m\n\u001b[0;32m    785\u001b[0m     e \u001b[38;5;241m=\u001b[39m ProtocolError(\u001b[38;5;124m\"\u001b[39m\u001b[38;5;124mConnection aborted.\u001b[39m\u001b[38;5;124m\"\u001b[39m, e)\n\u001b[1;32m--> 787\u001b[0m retries \u001b[38;5;241m=\u001b[39m \u001b[43mretries\u001b[49m\u001b[38;5;241;43m.\u001b[39;49m\u001b[43mincrement\u001b[49m\u001b[43m(\u001b[49m\n\u001b[0;32m    788\u001b[0m \u001b[43m    \u001b[49m\u001b[43mmethod\u001b[49m\u001b[43m,\u001b[49m\u001b[43m \u001b[49m\u001b[43murl\u001b[49m\u001b[43m,\u001b[49m\u001b[43m \u001b[49m\u001b[43merror\u001b[49m\u001b[38;5;241;43m=\u001b[39;49m\u001b[43me\u001b[49m\u001b[43m,\u001b[49m\u001b[43m \u001b[49m\u001b[43m_pool\u001b[49m\u001b[38;5;241;43m=\u001b[39;49m\u001b[38;5;28;43mself\u001b[39;49m\u001b[43m,\u001b[49m\u001b[43m \u001b[49m\u001b[43m_stacktrace\u001b[49m\u001b[38;5;241;43m=\u001b[39;49m\u001b[43msys\u001b[49m\u001b[38;5;241;43m.\u001b[39;49m\u001b[43mexc_info\u001b[49m\u001b[43m(\u001b[49m\u001b[43m)\u001b[49m\u001b[43m[\u001b[49m\u001b[38;5;241;43m2\u001b[39;49m\u001b[43m]\u001b[49m\n\u001b[0;32m    789\u001b[0m \u001b[43m\u001b[49m\u001b[43m)\u001b[49m\n\u001b[0;32m    790\u001b[0m retries\u001b[38;5;241m.\u001b[39msleep()\n",
      "File \u001b[1;32mc:\\Users\\Paola Soria\\miniconda3\\lib\\site-packages\\urllib3\\util\\retry.py:592\u001b[0m, in \u001b[0;36mRetry.increment\u001b[1;34m(self, method, url, response, error, _pool, _stacktrace)\u001b[0m\n\u001b[0;32m    591\u001b[0m \u001b[38;5;28;01mif\u001b[39;00m new_retry\u001b[38;5;241m.\u001b[39mis_exhausted():\n\u001b[1;32m--> 592\u001b[0m     \u001b[38;5;28;01mraise\u001b[39;00m MaxRetryError(_pool, url, error \u001b[38;5;129;01mor\u001b[39;00m ResponseError(cause))\n\u001b[0;32m    594\u001b[0m log\u001b[38;5;241m.\u001b[39mdebug(\u001b[38;5;124m\"\u001b[39m\u001b[38;5;124mIncremented Retry for (url=\u001b[39m\u001b[38;5;124m'\u001b[39m\u001b[38;5;132;01m%s\u001b[39;00m\u001b[38;5;124m'\u001b[39m\u001b[38;5;124m): \u001b[39m\u001b[38;5;132;01m%r\u001b[39;00m\u001b[38;5;124m\"\u001b[39m, url, new_retry)\n",
      "\u001b[1;31mMaxRetryError\u001b[0m: HTTPConnectionPool(host='127.0.0.1', port=8086): Max retries exceeded with url: / (Caused by NewConnectionError('<urllib3.connection.HTTPConnection object at 0x000001E16FE4DB40>: Failed to establish a new connection: [WinError 10061] No se puede establecer una conexión ya que el equipo de destino denegó expresamente dicha conexión'))",
      "\nDuring handling of the above exception, another exception occurred:\n",
      "\u001b[1;31mConnectionError\u001b[0m                           Traceback (most recent call last)",
      "Cell \u001b[1;32mIn[3], line 1\u001b[0m\n\u001b[1;32m----> 1\u001b[0m \u001b[43mcalificador\u001b[49m\u001b[38;5;241;43m.\u001b[39;49m\u001b[43mcalifica_ejercicio_31\u001b[49m\u001b[43m(\u001b[49m\u001b[43mejercicio_31\u001b[49m\u001b[43m)\u001b[49m\n",
      "File \u001b[1;32mc:\\Users\\Paola Soria\\Documents\\delfos\\tareas\\tareas-python\\Comodin03\\templates.py:83\u001b[0m, in \u001b[0;36mtemplate_iterable.<locals>.decoradora.<locals>.contenedora\u001b[1;34m(f)\u001b[0m\n\u001b[0;32m     80\u001b[0m     Controlador\u001b[38;5;241m.\u001b[39mignorar_traceback()\n\u001b[0;32m     81\u001b[0m Controlador\u001b[38;5;241m.\u001b[39mcalificando()\n\u001b[1;32m---> 83\u001b[0m \u001b[43mhelper\u001b[49m\u001b[43m(\u001b[49m\u001b[43mresultados\u001b[49m\u001b[43m,\u001b[49m\u001b[43m \u001b[49m\u001b[43mtarea\u001b[49m\u001b[43m,\u001b[49m\u001b[43m \u001b[49m\u001b[43mnombre\u001b[49m\u001b[43m,\u001b[49m\u001b[43m \u001b[49m\u001b[43merror\u001b[49m\u001b[38;5;241;43m=\u001b[39;49m\u001b[43merror\u001b[49m\u001b[43m,\u001b[49m\u001b[43m \u001b[49m\u001b[43mexcepcion\u001b[49m\u001b[38;5;241;43m=\u001b[39;49m\u001b[43mexcepcion\u001b[49m\u001b[43m,\u001b[49m\u001b[43m \u001b[49m\u001b[43mexception_type\u001b[49m\u001b[38;5;241;43m=\u001b[39;49m\u001b[43mexcepcion_type\u001b[49m\u001b[43m)\u001b[49m\n",
      "File \u001b[1;32mc:\\Users\\Paola Soria\\Documents\\delfos\\tareas\\tareas-python\\Comodin03\\utilidades.py:98\u001b[0m, in \u001b[0;36mhelper\u001b[1;34m(resultados, tarea, nombre, **kwargs)\u001b[0m\n\u001b[0;32m     96\u001b[0m                 \u001b[38;5;28mprint\u001b[39m(mensajes\u001b[38;5;241m.\u001b[39mmensaje_de_resultados(resultado[\u001b[38;5;124m'\u001b[39m\u001b[38;5;124mesperado\u001b[39m\u001b[38;5;124m'\u001b[39m], resultado[\u001b[38;5;124m'\u001b[39m\u001b[38;5;124mobtenido\u001b[39m\u001b[38;5;124m'\u001b[39m], resultado\u001b[38;5;241m.\u001b[39mget(\u001b[38;5;124m'\u001b[39m\u001b[38;5;124margumentos\u001b[39m\u001b[38;5;124m'\u001b[39m)))\n\u001b[0;32m     97\u001b[0m         resultados \u001b[38;5;241m=\u001b[39m \u001b[38;5;28mlist\u001b[39m(\u001b[38;5;28mmap\u001b[39m(convertir_a_tupla, resultados))\n\u001b[1;32m---> 98\u001b[0m         \u001b[43mmandar_a_firestore\u001b[49m\u001b[43m(\u001b[49m\u001b[43mnombre\u001b[49m\u001b[43m,\u001b[49m\u001b[43m \u001b[49m\u001b[43mcalificacion\u001b[49m\u001b[43m,\u001b[49m\u001b[43m \u001b[49m\u001b[43mresultados\u001b[49m\u001b[43m,\u001b[49m\u001b[43m \u001b[49m\u001b[43mtarea\u001b[49m\u001b[43m)\u001b[49m\n\u001b[0;32m    100\u001b[0m \u001b[38;5;28;01melse\u001b[39;00m:\n\u001b[0;32m    101\u001b[0m     \u001b[38;5;66;03m# errores.append(str(kwargs['exception_type']))\u001b[39;00m\n\u001b[0;32m    102\u001b[0m     mandar_a_firestore(nombre, \u001b[38;5;28;01mNone\u001b[39;00m, \u001b[38;5;28;01mNone\u001b[39;00m, tarea)\n",
      "File \u001b[1;32mc:\\Users\\Paola Soria\\Documents\\delfos\\tareas\\tareas-python\\Comodin03\\utilidades.py:18\u001b[0m, in \u001b[0;36mmandar_a_firestore\u001b[1;34m(ejercicio, calificacion, resultados, tarea)\u001b[0m\n\u001b[0;32m     16\u001b[0m     correo \u001b[38;5;241m=\u001b[39m \u001b[38;5;124m'\u001b[39m\u001b[38;5;124mestudiante@analiticadelfos.com\u001b[39m\u001b[38;5;124m'\u001b[39m\n\u001b[0;32m     17\u001b[0m     ruta \u001b[38;5;241m=\u001b[39m \u001b[38;5;124m\"\u001b[39m\u001b[38;5;124mhttp://127.0.0.1:8086\u001b[39m\u001b[38;5;124m\"\u001b[39m\n\u001b[1;32m---> 18\u001b[0m resp \u001b[38;5;241m=\u001b[39m \u001b[43mrequests\u001b[49m\u001b[43m \u001b[49m\u001b[43m\\\u001b[49m\n\u001b[0;32m     19\u001b[0m \u001b[43m    \u001b[49m\u001b[38;5;241;43m.\u001b[39;49m\u001b[43mpost\u001b[49m\u001b[43m(\u001b[49m\u001b[43mruta\u001b[49m\u001b[43m,\u001b[49m\u001b[43m \u001b[49m\u001b[43m\\\u001b[49m\n\u001b[0;32m     20\u001b[0m \u001b[43m    \u001b[49m\u001b[43mjson\u001b[49m\u001b[38;5;241;43m=\u001b[39;49m\u001b[43m{\u001b[49m\u001b[38;5;124;43m\"\u001b[39;49m\u001b[38;5;124;43muuid\u001b[39;49m\u001b[38;5;124;43m\"\u001b[39;49m\u001b[43m:\u001b[49m\u001b[43m \u001b[49m\u001b[43mcorreo\u001b[49m\u001b[43m,\u001b[49m\u001b[43m \u001b[49m\u001b[43m\\\u001b[49m\n\u001b[0;32m     21\u001b[0m \u001b[43m    \u001b[49m\u001b[38;5;124;43m\"\u001b[39;49m\u001b[38;5;124;43mid_curso\u001b[39;49m\u001b[38;5;124;43m\"\u001b[39;49m\u001b[43m:\u001b[49m\u001b[43m \u001b[49m\u001b[43mID_CURSO\u001b[49m\u001b[43m,\u001b[49m\u001b[43m \u001b[49m\u001b[43m\\\u001b[49m\n\u001b[0;32m     22\u001b[0m \u001b[43m    \u001b[49m\u001b[38;5;124;43m\"\u001b[39;49m\u001b[38;5;124;43mejercicio\u001b[39;49m\u001b[38;5;124;43m\"\u001b[39;49m\u001b[43m:\u001b[49m\u001b[43m \u001b[49m\u001b[43mejercicio\u001b[49m\u001b[43m,\u001b[49m\u001b[43m \u001b[49m\u001b[43m\\\u001b[49m\n\u001b[0;32m     23\u001b[0m \u001b[43m    \u001b[49m\u001b[38;5;124;43m\"\u001b[39;49m\u001b[38;5;124;43mid_tarea\u001b[39;49m\u001b[38;5;124;43m\"\u001b[39;49m\u001b[43m:\u001b[49m\u001b[43m \u001b[49m\u001b[38;5;124;43mf\u001b[39;49m\u001b[38;5;124;43m'\u001b[39;49m\u001b[38;5;132;43;01m{\u001b[39;49;00m\u001b[43mtarea\u001b[49m\u001b[38;5;132;43;01m}\u001b[39;49;00m\u001b[38;5;124;43m'\u001b[39;49m\u001b[43m,\u001b[49m\u001b[43m \u001b[49m\u001b[43m\\\u001b[49m\n\u001b[0;32m     24\u001b[0m \u001b[43m    \u001b[49m\u001b[38;5;124;43m\"\u001b[39;49m\u001b[38;5;124;43mcalificacion\u001b[39;49m\u001b[38;5;124;43m\"\u001b[39;49m\u001b[43m:\u001b[49m\u001b[43m \u001b[49m\u001b[43mcalificacion\u001b[49m\u001b[43m,\u001b[49m\u001b[43m \u001b[49m\u001b[43m\\\u001b[49m\n\u001b[0;32m     25\u001b[0m \u001b[43m    \u001b[49m\u001b[38;5;124;43m\"\u001b[39;49m\u001b[38;5;124;43mresultados\u001b[39;49m\u001b[38;5;124;43m\"\u001b[39;49m\u001b[43m:\u001b[49m\u001b[43m \u001b[49m\u001b[43mresultados\u001b[49m\u001b[43m,\u001b[49m\u001b[43m \u001b[49m\u001b[43m\\\u001b[49m\n\u001b[0;32m     26\u001b[0m \u001b[43m    \u001b[49m\u001b[38;5;124;43m\"\u001b[39;49m\u001b[38;5;124;43medicion\u001b[39;49m\u001b[38;5;124;43m\"\u001b[39;49m\u001b[43m:\u001b[49m\u001b[43m \u001b[49m\u001b[38;5;124;43m\"\u001b[39;49m\u001b[38;5;124;43m1\u001b[39;49m\u001b[38;5;124;43m\"\u001b[39;49m\u001b[43m,\u001b[49m\u001b[43m \u001b[49m\u001b[43m\\\u001b[49m\n\u001b[0;32m     27\u001b[0m \u001b[43m    \u001b[49m\u001b[38;5;124;43m\"\u001b[39;49m\u001b[38;5;124;43mtipo\u001b[39;49m\u001b[38;5;124;43m\"\u001b[39;49m\u001b[43m:\u001b[49m\u001b[43m \u001b[49m\u001b[38;5;124;43m\"\u001b[39;49m\u001b[38;5;124;43mjupyter\u001b[39;49m\u001b[38;5;124;43m\"\u001b[39;49m\u001b[43m,\u001b[49m\n\u001b[0;32m     28\u001b[0m \u001b[43m    \u001b[49m\u001b[38;5;124;43m\"\u001b[39;49m\u001b[38;5;124;43merrores\u001b[39;49m\u001b[38;5;124;43m\"\u001b[39;49m\u001b[43m:\u001b[49m\u001b[43m \u001b[49m\u001b[43merrores\u001b[49m\n\u001b[0;32m     29\u001b[0m \u001b[43m    \u001b[49m\u001b[43m}\u001b[49m\u001b[43m)\u001b[49m\n\u001b[0;32m     30\u001b[0m \u001b[38;5;28;01mif\u001b[39;00m resp\u001b[38;5;241m.\u001b[39mstatus_code \u001b[38;5;241m!=\u001b[39m \u001b[38;5;241m200\u001b[39m:\n\u001b[0;32m     31\u001b[0m     \u001b[38;5;28mprint\u001b[39m(mensajes\u001b[38;5;241m.\u001b[39mmensaje_de_error_en_servidor(resp))\n",
      "File \u001b[1;32mc:\\Users\\Paola Soria\\miniconda3\\lib\\site-packages\\requests\\api.py:115\u001b[0m, in \u001b[0;36mpost\u001b[1;34m(url, data, json, **kwargs)\u001b[0m\n\u001b[0;32m    103\u001b[0m \u001b[38;5;28;01mdef\u001b[39;00m \u001b[38;5;21mpost\u001b[39m(url, data\u001b[38;5;241m=\u001b[39m\u001b[38;5;28;01mNone\u001b[39;00m, json\u001b[38;5;241m=\u001b[39m\u001b[38;5;28;01mNone\u001b[39;00m, \u001b[38;5;241m*\u001b[39m\u001b[38;5;241m*\u001b[39mkwargs):\n\u001b[0;32m    104\u001b[0m \u001b[38;5;250m    \u001b[39m\u001b[38;5;124mr\u001b[39m\u001b[38;5;124;03m\"\"\"Sends a POST request.\u001b[39;00m\n\u001b[0;32m    105\u001b[0m \n\u001b[0;32m    106\u001b[0m \u001b[38;5;124;03m    :param url: URL for the new :class:`Request` object.\u001b[39;00m\n\u001b[1;32m   (...)\u001b[0m\n\u001b[0;32m    112\u001b[0m \u001b[38;5;124;03m    :rtype: requests.Response\u001b[39;00m\n\u001b[0;32m    113\u001b[0m \u001b[38;5;124;03m    \"\"\"\u001b[39;00m\n\u001b[1;32m--> 115\u001b[0m     \u001b[38;5;28;01mreturn\u001b[39;00m request(\u001b[38;5;124m\"\u001b[39m\u001b[38;5;124mpost\u001b[39m\u001b[38;5;124m\"\u001b[39m, url, data\u001b[38;5;241m=\u001b[39mdata, json\u001b[38;5;241m=\u001b[39mjson, \u001b[38;5;241m*\u001b[39m\u001b[38;5;241m*\u001b[39mkwargs)\n",
      "File \u001b[1;32mc:\\Users\\Paola Soria\\miniconda3\\lib\\site-packages\\requests\\api.py:59\u001b[0m, in \u001b[0;36mrequest\u001b[1;34m(method, url, **kwargs)\u001b[0m\n\u001b[0;32m     55\u001b[0m \u001b[38;5;66;03m# By using the 'with' statement we are sure the session is closed, thus we\u001b[39;00m\n\u001b[0;32m     56\u001b[0m \u001b[38;5;66;03m# avoid leaving sockets open which can trigger a ResourceWarning in some\u001b[39;00m\n\u001b[0;32m     57\u001b[0m \u001b[38;5;66;03m# cases, and look like a memory leak in others.\u001b[39;00m\n\u001b[0;32m     58\u001b[0m \u001b[38;5;28;01mwith\u001b[39;00m sessions\u001b[38;5;241m.\u001b[39mSession() \u001b[38;5;28;01mas\u001b[39;00m session:\n\u001b[1;32m---> 59\u001b[0m     \u001b[38;5;28;01mreturn\u001b[39;00m session\u001b[38;5;241m.\u001b[39mrequest(method\u001b[38;5;241m=\u001b[39mmethod, url\u001b[38;5;241m=\u001b[39murl, \u001b[38;5;241m*\u001b[39m\u001b[38;5;241m*\u001b[39mkwargs)\n",
      "File \u001b[1;32mc:\\Users\\Paola Soria\\miniconda3\\lib\\site-packages\\requests\\sessions.py:589\u001b[0m, in \u001b[0;36mSession.request\u001b[1;34m(self, method, url, params, data, headers, cookies, files, auth, timeout, allow_redirects, proxies, hooks, stream, verify, cert, json)\u001b[0m\n\u001b[0;32m    584\u001b[0m send_kwargs \u001b[38;5;241m=\u001b[39m {\n\u001b[0;32m    585\u001b[0m     \u001b[38;5;124m\"\u001b[39m\u001b[38;5;124mtimeout\u001b[39m\u001b[38;5;124m\"\u001b[39m: timeout,\n\u001b[0;32m    586\u001b[0m     \u001b[38;5;124m\"\u001b[39m\u001b[38;5;124mallow_redirects\u001b[39m\u001b[38;5;124m\"\u001b[39m: allow_redirects,\n\u001b[0;32m    587\u001b[0m }\n\u001b[0;32m    588\u001b[0m send_kwargs\u001b[38;5;241m.\u001b[39mupdate(settings)\n\u001b[1;32m--> 589\u001b[0m resp \u001b[38;5;241m=\u001b[39m \u001b[38;5;28mself\u001b[39m\u001b[38;5;241m.\u001b[39msend(prep, \u001b[38;5;241m*\u001b[39m\u001b[38;5;241m*\u001b[39msend_kwargs)\n\u001b[0;32m    591\u001b[0m \u001b[38;5;28;01mreturn\u001b[39;00m resp\n",
      "File \u001b[1;32mc:\\Users\\Paola Soria\\miniconda3\\lib\\site-packages\\requests\\sessions.py:703\u001b[0m, in \u001b[0;36mSession.send\u001b[1;34m(self, request, **kwargs)\u001b[0m\n\u001b[0;32m    700\u001b[0m start \u001b[38;5;241m=\u001b[39m preferred_clock()\n\u001b[0;32m    702\u001b[0m \u001b[38;5;66;03m# Send the request\u001b[39;00m\n\u001b[1;32m--> 703\u001b[0m r \u001b[38;5;241m=\u001b[39m adapter\u001b[38;5;241m.\u001b[39msend(request, \u001b[38;5;241m*\u001b[39m\u001b[38;5;241m*\u001b[39mkwargs)\n\u001b[0;32m    705\u001b[0m \u001b[38;5;66;03m# Total elapsed time of the request (approximately)\u001b[39;00m\n\u001b[0;32m    706\u001b[0m elapsed \u001b[38;5;241m=\u001b[39m preferred_clock() \u001b[38;5;241m-\u001b[39m start\n",
      "File \u001b[1;32mc:\\Users\\Paola Soria\\miniconda3\\lib\\site-packages\\requests\\adapters.py:519\u001b[0m, in \u001b[0;36mHTTPAdapter.send\u001b[1;34m(self, request, stream, timeout, verify, cert, proxies)\u001b[0m\n\u001b[0;32m    515\u001b[0m     \u001b[38;5;28;01mif\u001b[39;00m \u001b[38;5;28misinstance\u001b[39m(e\u001b[38;5;241m.\u001b[39mreason, _SSLError):\n\u001b[0;32m    516\u001b[0m         \u001b[38;5;66;03m# This branch is for urllib3 v1.22 and later.\u001b[39;00m\n\u001b[0;32m    517\u001b[0m         \u001b[38;5;28;01mraise\u001b[39;00m SSLError(e, request\u001b[38;5;241m=\u001b[39mrequest)\n\u001b[1;32m--> 519\u001b[0m     \u001b[38;5;28;01mraise\u001b[39;00m \u001b[38;5;167;01mConnectionError\u001b[39;00m(e, request\u001b[38;5;241m=\u001b[39mrequest)\n\u001b[0;32m    521\u001b[0m \u001b[38;5;28;01mexcept\u001b[39;00m ClosedPoolError \u001b[38;5;28;01mas\u001b[39;00m e:\n\u001b[0;32m    522\u001b[0m     \u001b[38;5;28;01mraise\u001b[39;00m \u001b[38;5;167;01mConnectionError\u001b[39;00m(e, request\u001b[38;5;241m=\u001b[39mrequest)\n",
      "\u001b[1;31mConnectionError\u001b[0m: HTTPConnectionPool(host='127.0.0.1', port=8086): Max retries exceeded with url: / (Caused by NewConnectionError('<urllib3.connection.HTTPConnection object at 0x000001E16FE4DB40>: Failed to establish a new connection: [WinError 10061] No se puede establecer una conexión ya que el equipo de destino denegó expresamente dicha conexión'))"
     ]
    }
   ],
   "source": [
    "calificador.califica_ejercicio_31(ejercicio_31)"
   ]
  },
  {
   "cell_type": "code",
   "execution_count": 4,
   "metadata": {},
   "outputs": [],
   "source": [
    "@Controlador(\"4\", \"ejercicio_32\")\n",
    "def ejercicio_32(str1, str2):\n",
    "    \"\"\"\n",
    "     Instrucciones:\n",
    "        La función \"ejercicio_32\" toma el parámetro \"str1\", \n",
    "        \"str2\" y, regresa el total de veces que aparece la \n",
    "        subcadena \"str2\" en la cadena \"str1\".\n",
    "\n",
    "    Condiciones:\n",
    "        El tipo de dato de dicho parámetro debe ser string.\n",
    "        La cadena y subcadena \"str1\" y \"str2\" correspondientemente\n",
    "        deben ser cadenas alfabéticas.\n",
    "        Utiliza el método .count() que recibe por argumento\n",
    "        la subcadena cuya aparición en la cadena de caracteres\n",
    "        a la que es aplicado dicho método debe contar.\n",
    "\n",
    "    Ejemplo:\n",
    "        Si str1 = \"Bello camello\" y str2 = \"ello\" la función regresa:\n",
    "        2\n",
    "\n",
    "    Recuerda:        \n",
    "        Lo que la función \"regresa\" es justo lo que va después \n",
    "        de la palabra reservada \"return\".\n",
    "        \n",
    "        Cuida la indentación.\n",
    "    \"\"\"\n",
    "\n",
    "    # Escribe aquí tu código ↓\n",
    "    \n",
    "\n",
    "    # Escribe aquí tu código ↑\n",
    "\n",
    "    return # ← Escribe aquí tu código"
   ]
  },
  {
   "cell_type": "code",
   "execution_count": null,
   "metadata": {},
   "outputs": [],
   "source": [
    "ejercicio_32(\"Hola crayola\", \"ola\")"
   ]
  },
  {
   "cell_type": "code",
   "execution_count": 5,
   "metadata": {},
   "outputs": [
    {
     "name": "stdout",
     "output_type": "stream",
     "text": [
      "===============================================================================\n",
      "\n",
      "============> Calificando: tarea 4 - ejercicio ejercicio_32 <============\n",
      "\n",
      "===============================================================================\n",
      "\n",
      "\n",
      "======================================================\n",
      "            ||          Calificación: 100.0            \n",
      "            ||          Aciertos: 3                   \n",
      "            ||          Errores: 0                     \n",
      "======================================================\n",
      "    \n",
      "======> Casos existosos: <======\n",
      "\n",
      "\u001b[0;34mValores de entrada: ['Hola crayola', 'ola'].             \u001b[0;35mValor esperado: 2.             \u001b[0;36mValor obtenido: 2\n",
      "\n",
      "\u001b[0;34mValores de entrada: ['Bello camello', 'ello'].             \u001b[0;35mValor esperado: 2.             \u001b[0;36mValor obtenido: 2\n",
      "\n",
      "\u001b[0;34mValores de entrada: ['Hola mundo', 'mundo'].             \u001b[0;35mValor esperado: 1.             \u001b[0;36mValor obtenido: 1\n",
      "\n",
      "======> No hubo errores :D <======\n",
      "\n",
      "\u001b[0;32m============> Calificación recibida <============\n",
      "\n"
     ]
    }
   ],
   "source": [
    "calificador.califica_ejercicio_32(ejercicio_32)"
   ]
  },
  {
   "cell_type": "code",
   "execution_count": 6,
   "metadata": {},
   "outputs": [],
   "source": [
    "@Controlador(\"4\", \"ejercicio_33\")\n",
    "def ejercicio_33(str1, str2):\n",
    "    \"\"\"\n",
    "    Instrucciones:\n",
    "        La función \"ejercicio_33\" toma el parámetro \"str1\", \n",
    "        \"str2\" y, regresa el índice en el que aparece la \n",
    "        subcadena \"str2\" en la cadena \"str1\".\n",
    "\n",
    "    Condiciones:\n",
    "        El tipo de dato de dicho parámetro debe ser string.\n",
    "        La cadena y subcadena \"str1\" y \"str2\" correspondientemente\n",
    "        deben ser cadenas alfabéticas.\n",
    "        Utiliza el método .find() que recibe por argumento\n",
    "        la subcadena cuyo índice donde aparece dentro de la cadena \n",
    "        de caracteres a la que es aplicado dicho método debe regresar.\n",
    "\n",
    "    Ejemplo:\n",
    "        Si str1 = \"Bienvenido sea\" y str2 = \"ido\" la función regresa:\n",
    "        7\n",
    "\n",
    "    Recuerda:        \n",
    "        Lo que la función \"regresa\" es justo lo que va después \n",
    "        de la palabra reservada \"return\".\n",
    "        \n",
    "        Cuida la indentación.\n",
    "    \"\"\"\n",
    "\n",
    "    # Escribe aquí tu código ↓\n",
    "    \n",
    "\n",
    "    # Escribe aquí tu código ↑\n",
    "\n",
    "    return # ← Escribe aquí tu código"
   ]
  },
  {
   "cell_type": "code",
   "execution_count": null,
   "metadata": {},
   "outputs": [],
   "source": [
    "ejercicio_33(\"Hola Mundo\", \"un\")"
   ]
  },
  {
   "cell_type": "code",
   "execution_count": 7,
   "metadata": {},
   "outputs": [
    {
     "name": "stdout",
     "output_type": "stream",
     "text": [
      "===============================================================================\n",
      "\n",
      "============> Calificando: tarea 4 - ejercicio ejercicio_33 <============\n",
      "\n",
      "===============================================================================\n",
      "\n",
      "\n",
      "======================================================\n",
      "            ||          Calificación: 75.0            \n",
      "            ||          Aciertos: 3                   \n",
      "            ||          Errores: 1                     \n",
      "======================================================\n",
      "    \n",
      "======> Casos existosos: <======\n",
      "\n",
      "\u001b[0;34mValores de entrada: ['Bienvenido sea', 'ido'].             \u001b[0;35mValor esperado: 7.             \u001b[0;36mValor obtenido: 7\n",
      "\n",
      "\u001b[0;34mValores de entrada: ['Hola mundo', 'un'].             \u001b[0;35mValor esperado: 6.             \u001b[0;36mValor obtenido: 6\n",
      "\n",
      "\u001b[0;34mValores de entrada: ['Delfos', 'os'].             \u001b[0;35mValor esperado: 4.             \u001b[0;36mValor obtenido: 4\n",
      "\n",
      "\u001b[0;31m======> Casos con error <======\n",
      "\u001b[00m\n",
      "\u001b[0;34mValores de entrada: ['Pepe pecas', 'ca'].             \u001b[0;35mValor esperado: 8.             \u001b[0;36mValor obtenido: 7\n",
      "\n",
      "\u001b[0;32m============> Calificación recibida <============\n",
      "\n"
     ]
    }
   ],
   "source": [
    "calificador.califica_ejercicio_33(ejercicio_33)"
   ]
  },
  {
   "cell_type": "code",
   "execution_count": 8,
   "metadata": {},
   "outputs": [],
   "source": [
    "@Controlador(\"4\", \"ejercicio_34\")\n",
    "def ejercicio_34(str):\n",
    "    \"\"\"\n",
    "    Instrucciones:\n",
    "        La función \"ejercicio_34\" toma el parámetro \"str\" y,\n",
    "        regresa el valor de verdad True si \"str\" esta formado \n",
    "        únicamente por caracteres numéricos y False de lo\n",
    "        contrario.\n",
    "\n",
    "    Condiciones:\n",
    "        El tipo de dato de dicho parámetro debe ser string.\n",
    "\n",
    "    Ejemplo:\n",
    "        Si str = \"101\" la función regresa:\n",
    "        True\n",
    "\n",
    "    Recuerda:\n",
    "        Utiliza el método .isdigit()\n",
    "        \n",
    "        Lo que la función \"regresa\" es justo lo que va después \n",
    "        de la palabra reservada \"return\".\n",
    "        \n",
    "        Cuida la indentación.\n",
    "    \"\"\"\n",
    "\n",
    "    # Escribe aquí tu código ↓\n",
    "    \n",
    "\n",
    "    # Escribe aquí tu código ↑\n",
    "\n",
    "    return # ← Escribe aquí tu código"
   ]
  },
  {
   "cell_type": "code",
   "execution_count": null,
   "metadata": {},
   "outputs": [],
   "source": [
    "ejercicio_34(\"Python 101\")"
   ]
  },
  {
   "cell_type": "code",
   "execution_count": 9,
   "metadata": {},
   "outputs": [
    {
     "name": "stdout",
     "output_type": "stream",
     "text": [
      "===============================================================================\n",
      "\n",
      "============> Calificando: tarea 4 - ejercicio ejercicio_34 <============\n",
      "\n",
      "===============================================================================\n",
      "\n",
      "\n",
      "======================================================\n",
      "            ||          Calificación: 100.0            \n",
      "            ||          Aciertos: 4                   \n",
      "            ||          Errores: 0                     \n",
      "======================================================\n",
      "    \n",
      "======> Casos existosos: <======\n",
      "\n",
      "\u001b[0;34m Valores de entrada: Python 101.             \u001b[0;35m Valor esperado: False.             \u001b[0;36m Valor obtenido: False\n",
      "\u001b[00m\n",
      "\u001b[0;34m Valores de entrada: 101.             \u001b[0;35m Valor esperado: True.             \u001b[0;36m Valor obtenido: True\n",
      "\u001b[00m\n",
      "\u001b[0;34m Valores de entrada: Hola mundo.             \u001b[0;35m Valor esperado: False.             \u001b[0;36m Valor obtenido: False\n",
      "\u001b[00m\n",
      "\u001b[0;34m Valores de entrada: 1000.             \u001b[0;35m Valor esperado: True.             \u001b[0;36m Valor obtenido: True\n",
      "\u001b[00m\n",
      "======> No hubo errores :D <======\n",
      "\n",
      "\u001b[0;32m============> Calificación recibida <============\n",
      "\n"
     ]
    }
   ],
   "source": [
    "calificador.califica_ejercicio_34(ejercicio_34)"
   ]
  },
  {
   "cell_type": "code",
   "execution_count": 10,
   "metadata": {},
   "outputs": [],
   "source": [
    "@Controlador(\"4\", \"ejercicio_35\")\n",
    "def ejercicio_35(str):\n",
    "    \"\"\"\n",
    "    Instrucciones:\n",
    "        La función \"ejercicio_35\" toma el parámetro \"str\" y,\n",
    "        regresa el valor de verdad True si \"str\" esta formado \n",
    "        únicamente por caracteres alfabéticos escritos con\n",
    "        minúsculas y False para cualquier otro caso.\n",
    "\n",
    "    Condiciones:\n",
    "        El tipo de dato de dicho parámetro debe ser string.\n",
    "\n",
    "    Ejemplo:\n",
    "        Si str = \"Hola mundo\" la función regresa:\n",
    "        False\n",
    "\n",
    "    Recuerda:\n",
    "        Utiliza el método .islower()\n",
    "        \n",
    "        Lo que la función \"regresa\" es justo lo que va después \n",
    "        de la palabra reservada \"return\".\n",
    "        \n",
    "        Cuida la indentación.\n",
    "    \"\"\"\n",
    "\n",
    "    # Escribe aquí tu código ↓\n",
    "    \n",
    "\n",
    "    # Escribe aquí tu código ↑\n",
    "\n",
    "    return # ← Escribe aquí tu código"
   ]
  },
  {
   "cell_type": "code",
   "execution_count": null,
   "metadata": {},
   "outputs": [],
   "source": [
    "ejercicio_35(\"python\")"
   ]
  },
  {
   "cell_type": "code",
   "execution_count": 11,
   "metadata": {},
   "outputs": [
    {
     "name": "stdout",
     "output_type": "stream",
     "text": [
      "===============================================================================\n",
      "\n",
      "============> Calificando: tarea 4 - ejercicio ejercicio_35 <============\n",
      "\n",
      "===============================================================================\n",
      "\n",
      "\n",
      "======================================================\n",
      "            ||          Calificación: 100.0            \n",
      "            ||          Aciertos: 4                   \n",
      "            ||          Errores: 0                     \n",
      "======================================================\n",
      "    \n",
      "======> Casos existosos: <======\n",
      "\n",
      "\u001b[0;34m Valores de entrada: Hola mundo.             \u001b[0;35m Valor esperado: False.             \u001b[0;36m Valor obtenido: False\n",
      "\u001b[00m\n",
      "\u001b[0;34m Valores de entrada: hola mundo.             \u001b[0;35m Valor esperado: True.             \u001b[0;36m Valor obtenido: True\n",
      "\u001b[00m\n",
      "\u001b[0;34m Valores de entrada: python.             \u001b[0;35m Valor esperado: True.             \u001b[0;36m Valor obtenido: True\n",
      "\u001b[00m\n",
      "\u001b[0;34m Valores de entrada: Python.             \u001b[0;35m Valor esperado: False.             \u001b[0;36m Valor obtenido: False\n",
      "\u001b[00m\n",
      "======> No hubo errores :D <======\n",
      "\n",
      "\u001b[0;32m============> Calificación recibida <============\n",
      "\n"
     ]
    }
   ],
   "source": [
    "calificador.califica_ejercicio_35(ejercicio_35)"
   ]
  },
  {
   "cell_type": "code",
   "execution_count": 12,
   "metadata": {},
   "outputs": [],
   "source": [
    "@Controlador(\"4\", \"ejercicio_36\")\n",
    "def ejercicio_36(str):\n",
    "    \"\"\"\n",
    "    Instrucciones:\n",
    "        La función \"ejercicio_36\" toma el parámetro \"str\" y,\n",
    "        regresa el valor de verdad True si \"str\" esta formado \n",
    "        únicamente por caracteres alfabéticos escritos con\n",
    "        mayúsculas y False para cualquier otro caso.\n",
    "\n",
    "    Condiciones:\n",
    "        El tipo de dato de dicho parámetro debe ser string.\n",
    "\n",
    "    Ejemplo:\n",
    "        Si str = \"DELFOS\" la función regresa:\n",
    "        True\n",
    "\n",
    "    Recuerda:\n",
    "        Utiliza el método .isupper()\n",
    "        \n",
    "        Lo que la función \"regresa\" es justo lo que va después \n",
    "        de la palabra reservada \"return\".\n",
    "        \n",
    "        Cuida la indentación.\n",
    "    \"\"\"\n",
    "\n",
    "    # Escribe aquí tu código ↓\n",
    "    \n",
    "\n",
    "    # Escribe aquí tu código ↑\n",
    "\n",
    "    return # ← Escribe aquí tu código"
   ]
  },
  {
   "cell_type": "code",
   "execution_count": null,
   "metadata": {},
   "outputs": [],
   "source": [
    "ejercicio_36(\"Python\")"
   ]
  },
  {
   "cell_type": "code",
   "execution_count": 13,
   "metadata": {},
   "outputs": [
    {
     "name": "stdout",
     "output_type": "stream",
     "text": [
      "===============================================================================\n",
      "\n",
      "============> Calificando: tarea 4 - ejercicio ejercicio_36 <============\n",
      "\n",
      "===============================================================================\n",
      "\n",
      "\n",
      "======================================================\n",
      "            ||          Calificación: 100.0            \n",
      "            ||          Aciertos: 4                   \n",
      "            ||          Errores: 0                     \n",
      "======================================================\n",
      "    \n",
      "======> Casos existosos: <======\n",
      "\n",
      "\u001b[0;34m Valores de entrada: Rusa.             \u001b[0;35m Valor esperado: False.             \u001b[0;36m Valor obtenido: False\n",
      "\u001b[00m\n",
      "\u001b[0;34m Valores de entrada: DELFOS.             \u001b[0;35m Valor esperado: True.             \u001b[0;36m Valor obtenido: True\n",
      "\u001b[00m\n",
      "\u001b[0;34m Valores de entrada: python.             \u001b[0;35m Valor esperado: False.             \u001b[0;36m Valor obtenido: False\n",
      "\u001b[00m\n",
      "\u001b[0;34m Valores de entrada: PYTHON.             \u001b[0;35m Valor esperado: True.             \u001b[0;36m Valor obtenido: True\n",
      "\u001b[00m\n",
      "======> No hubo errores :D <======\n",
      "\n",
      "\u001b[0;32m============> Calificación recibida <============\n",
      "\n"
     ]
    }
   ],
   "source": [
    "calificador.califica_ejercicio_36(ejercicio_36)"
   ]
  },
  {
   "cell_type": "code",
   "execution_count": 14,
   "metadata": {},
   "outputs": [],
   "source": [
    "@Controlador(\"4\", \"ejercicio_37\")\n",
    "def ejercicio_37(str):\n",
    "    \"\"\"\n",
    "    Instrucciones:\n",
    "        La función \"ejercicio_37\" toma el parámetro \"str\" y,\n",
    "        regresa el valor de verdad True si \"str\" esta formado \n",
    "        únicamente por caracteres alfabéticos cuyo primer carácter\n",
    "        de cada palabra sea mayúscula y False para cualquier otro caso.\n",
    "\n",
    "    Condiciones:\n",
    "        El tipo de dato de dicho parámetro debe ser string.\n",
    "\n",
    "    Ejemplo:\n",
    "        Si str = \"Hola Mundo\" la función regresa:\n",
    "        True\n",
    "\n",
    "    Recuerda:\n",
    "        Utiliza el método .istitle()\n",
    "        \n",
    "        Lo que la función \"regresa\" es justo lo que va después \n",
    "        de la palabra reservada \"return\".\n",
    "        \n",
    "        Cuida la indentación.\n",
    "    \"\"\"\n",
    "\n",
    "    # Escribe aquí tu código ↓\n",
    "    \n",
    "\n",
    "    # Escribe aquí tu código ↑\n",
    "\n",
    "    return # ← Escribe aquí tu código"
   ]
  },
  {
   "cell_type": "code",
   "execution_count": null,
   "metadata": {},
   "outputs": [],
   "source": [
    "ejercicio_37(\"Buenos Días\")"
   ]
  },
  {
   "cell_type": "code",
   "execution_count": 15,
   "metadata": {},
   "outputs": [
    {
     "name": "stdout",
     "output_type": "stream",
     "text": [
      "===============================================================================\n",
      "\n",
      "============> Calificando: tarea 4 - ejercicio ejercicio_37 <============\n",
      "\n",
      "===============================================================================\n",
      "\n",
      "\n",
      "======================================================\n",
      "            ||          Calificación: 100.0            \n",
      "            ||          Aciertos: 5                   \n",
      "            ||          Errores: 0                     \n",
      "======================================================\n",
      "    \n",
      "======> Casos existosos: <======\n",
      "\n",
      "\u001b[0;34m Valores de entrada: Hola Mundo.             \u001b[0;35m Valor esperado: True.             \u001b[0;36m Valor obtenido: True\n",
      "\u001b[00m\n",
      "\u001b[0;34m Valores de entrada: Buenos Días.             \u001b[0;35m Valor esperado: True.             \u001b[0;36m Valor obtenido: True\n",
      "\u001b[00m\n",
      "\u001b[0;34m Valores de entrada: Python.             \u001b[0;35m Valor esperado: True.             \u001b[0;36m Valor obtenido: True\n",
      "\u001b[00m\n",
      "\u001b[0;34m Valores de entrada: hola mundo.             \u001b[0;35m Valor esperado: False.             \u001b[0;36m Valor obtenido: False\n",
      "\u001b[00m\n",
      "\u001b[0;34m Valores de entrada: Hola mundo.             \u001b[0;35m Valor esperado: False.             \u001b[0;36m Valor obtenido: False\n",
      "\u001b[00m\n",
      "======> No hubo errores :D <======\n",
      "\n",
      "\u001b[0;32m============> Calificación recibida <============\n",
      "\n"
     ]
    }
   ],
   "source": [
    "calificador.califica_ejercicio_37(ejercicio_37)"
   ]
  },
  {
   "cell_type": "code",
   "execution_count": 16,
   "metadata": {},
   "outputs": [],
   "source": [
    "@Controlador(\"4\", \"ejercicio_38\")\n",
    "def ejercicio_38(str):\n",
    "    \"\"\"\n",
    "    Instrucciones:\n",
    "        La función \"ejercicio_38\" toma el parámetro \"str\" y,\n",
    "        regresa el valor de verdad True si \"str\" esta formado \n",
    "        únicamente por espacios vacíos y False para cualquier\n",
    "        otro caso.\n",
    "\n",
    "    Condiciones:\n",
    "        El tipo de dato de dicho parámetro debe ser string.\n",
    "\n",
    "    Ejemplo:\n",
    "        Si str = \"Hola \" la función regresa:\n",
    "        False\n",
    "\n",
    "    Recuerda:\n",
    "        Utiliza el método .isspace()\n",
    "        \n",
    "        Lo que la función \"regresa\" es justo lo que va después \n",
    "        de la palabra reservada \"return\".\n",
    "        \n",
    "        Cuida la indentación.\n",
    "    \"\"\"\n",
    "\n",
    "    # Escribe aquí tu código ↓\n",
    "    \n",
    "\n",
    "    # Escribe aquí tu código ↑\n",
    "\n",
    "    return # ← Escribe aquí tu código"
   ]
  },
  {
   "cell_type": "code",
   "execution_count": null,
   "metadata": {},
   "outputs": [],
   "source": [
    "ejercicio_38(\"    \")"
   ]
  },
  {
   "cell_type": "code",
   "execution_count": 17,
   "metadata": {},
   "outputs": [
    {
     "name": "stdout",
     "output_type": "stream",
     "text": [
      "===============================================================================\n",
      "\n",
      "============> Calificando: tarea 4 - ejercicio ejercicio_38 <============\n",
      "\n",
      "===============================================================================\n",
      "\n",
      "\n",
      "======================================================\n",
      "            ||          Calificación: 100.0            \n",
      "            ||          Aciertos: 4                   \n",
      "            ||          Errores: 0                     \n",
      "======================================================\n",
      "    \n",
      "======> Casos existosos: <======\n",
      "\n",
      "\u001b[0;34m Valores de entrada: Tururú.             \u001b[0;35m Valor esperado: False.             \u001b[0;36m Valor obtenido: False\n",
      "\u001b[00m\n",
      "\u001b[0;34m Valores de entrada:     .             \u001b[0;35m Valor esperado: True.             \u001b[0;36m Valor obtenido: True\n",
      "\u001b[00m\n",
      "\u001b[0;34m Valores de entrada:  .             \u001b[0;35m Valor esperado: True.             \u001b[0;36m Valor obtenido: True\n",
      "\u001b[00m\n",
      "\u001b[0;34m Valores de entrada: .             \u001b[0;35m Valor esperado: False.             \u001b[0;36m Valor obtenido: False\n",
      "\u001b[00m\n",
      "======> No hubo errores :D <======\n",
      "\n",
      "\u001b[0;32m============> Calificación recibida <============\n",
      "\n"
     ]
    }
   ],
   "source": [
    "calificador.califica_ejercicio_38(ejercicio_38)"
   ]
  },
  {
   "cell_type": "code",
   "execution_count": 18,
   "metadata": {},
   "outputs": [],
   "source": [
    "@Controlador(\"4\", \"ejercicio_39\")\n",
    "def ejercicio_39(str1, str2):\n",
    "    \"\"\"\n",
    "    Instrucciones:\n",
    "        La función \"ejercicio_39\" toma los parametros \"str1\", \"str2\"\n",
    "        y, regresa el valor de verdad True si la cadena \"str1\" empieza\n",
    "        con la subcadena \"str2\" y False para cualquier otro caso.\n",
    "\n",
    "    Condiciones:\n",
    "        El tipo de dato de dichos parametros debe ser string.\n",
    "        Utiliza el método .startswith()\n",
    "\n",
    "    Ejemplo:\n",
    "        Si str1 = \"Hola Mundo\" y str2 = \"Hola\" la función regresa True:\n",
    "        \"Hola mundo\".startswith(\"Hola\") → True\n",
    "\n",
    "    Recuerda:\n",
    "        Lo que la función \"regresa\" es justo lo que va después \n",
    "        de la palabra reservada \"return\".\n",
    "        \n",
    "        Cuida la indentación.\n",
    "    \"\"\"\n",
    "\n",
    "    # Escribe aquí tu código ↓\n",
    "\n",
    "\n",
    "    # Escribe aquí tu código ↑\n",
    "\n",
    "    return # ← Escribe aquí tu código"
   ]
  },
  {
   "cell_type": "code",
   "execution_count": null,
   "metadata": {},
   "outputs": [],
   "source": [
    "ejercicio_39(\"Bienvenidos\", \"Bien\")"
   ]
  },
  {
   "cell_type": "code",
   "execution_count": 19,
   "metadata": {},
   "outputs": [
    {
     "name": "stdout",
     "output_type": "stream",
     "text": [
      "===============================================================================\n",
      "\n",
      "============> Calificando: tarea 4 - ejercicio ejercicio_39 <============\n",
      "\n",
      "===============================================================================\n",
      "\n",
      "\n",
      "======================================================\n",
      "            ||          Calificación: 75.0            \n",
      "            ||          Aciertos: 3                   \n",
      "            ||          Errores: 1                     \n",
      "======================================================\n",
      "    \n",
      "======> Casos existosos: <======\n",
      "\n",
      "\u001b[0;34mValores de entrada: ['Bienvenidos', 'Bien'].             \u001b[0;35mValor esperado: True.             \u001b[0;36mValor obtenido: True\n",
      "\n",
      "\u001b[0;34mValores de entrada: ['Bienvenidos', 'idos'].             \u001b[0;35mValor esperado: False.             \u001b[0;36mValor obtenido: False\n",
      "\n",
      "\u001b[0;34mValores de entrada: ['Hola mundo', 'Hola'].             \u001b[0;35mValor esperado: True.             \u001b[0;36mValor obtenido: True\n",
      "\n",
      "\u001b[0;31m======> Casos con error <======\n",
      "\u001b[00m\n",
      "\u001b[0;34mValores de entrada: ['hola mundo', 'hola'].             \u001b[0;35mValor esperado: False.             \u001b[0;36mValor obtenido: True\n",
      "\n",
      "\u001b[0;32m============> Calificación recibida <============\n",
      "\n"
     ]
    }
   ],
   "source": [
    "calificador.califica_ejercicio_39(ejercicio_39)"
   ]
  },
  {
   "cell_type": "code",
   "execution_count": 20,
   "metadata": {},
   "outputs": [],
   "source": [
    "@Controlador(\"4\", \"ejercicio_40\")\n",
    "def ejercicio_40(str1, str2):\n",
    "    \"\"\"\n",
    "    Instrucciones:\n",
    "        La función \"ejercicio_40\" toma los parametros \"str1\", \"str2\"\n",
    "        y, regresa el valor de verdad True si la cadena \"str1\" termina\n",
    "        con la subcadena \"str2\" y False para cualquier otro caso.\n",
    "\n",
    "    Condiciones:\n",
    "        El tipo de dato de dichos parametros debe ser string.\n",
    "        Utiliza el método .endswith()\n",
    "\n",
    "    Ejemplo:\n",
    "        Si str1 = \"Bienvenidos\" y str2 = \"idos\" la función regresa True:\n",
    "        \"Bienvenidos\".endswith(\"idos\") → True\n",
    "\n",
    "    Recuerda:\n",
    "        Lo que la función \"regresa\" es justo lo que va después \n",
    "        de la palabra reservada \"return\".\n",
    "        \n",
    "        Cuida la indentación.\n",
    "    \"\"\"\n",
    "\n",
    "    # Escribe aquí tu código ↓\n",
    "\n",
    "\n",
    "    # Escribe aquí tu código ↑\n",
    "\n",
    "    return # ← Escribe aquí tu código"
   ]
  },
  {
   "cell_type": "code",
   "execution_count": null,
   "metadata": {},
   "outputs": [],
   "source": [
    "ejercicio_40(\"Hola mundo\", \"Hola\")"
   ]
  },
  {
   "cell_type": "code",
   "execution_count": 21,
   "metadata": {},
   "outputs": [
    {
     "name": "stdout",
     "output_type": "stream",
     "text": [
      "===============================================================================\n",
      "\n",
      "============> Calificando: tarea 4 - ejercicio ejercicio_40 <============\n",
      "\n",
      "===============================================================================\n",
      "\n",
      "\n",
      "======================================================\n",
      "            ||          Calificación: 100.0            \n",
      "            ||          Aciertos: 4                   \n",
      "            ||          Errores: 0                     \n",
      "======================================================\n",
      "    \n",
      "======> Casos existosos: <======\n",
      "\n",
      "\u001b[0;34mValores de entrada: ['Bienvenidos', 'Bien'].             \u001b[0;35mValor esperado: False.             \u001b[0;36mValor obtenido: False\n",
      "\n",
      "\u001b[0;34mValores de entrada: ['Bienvenidos', 'idos'].             \u001b[0;35mValor esperado: True.             \u001b[0;36mValor obtenido: True\n",
      "\n",
      "\u001b[0;34mValores de entrada: ['Hola mundo', 'Hola'].             \u001b[0;35mValor esperado: False.             \u001b[0;36mValor obtenido: False\n",
      "\n",
      "\u001b[0;34mValores de entrada: ['hola mundo', 'mundo'].             \u001b[0;35mValor esperado: True.             \u001b[0;36mValor obtenido: True\n",
      "\n",
      "======> No hubo errores :D <======\n",
      "\n",
      "\u001b[0;32m============> Calificación recibida <============\n",
      "\n"
     ]
    }
   ],
   "source": [
    "calificador.califica_ejercicio_40(ejercicio_40)"
   ]
  }
 ],
 "metadata": {
  "kernelspec": {
   "display_name": "infotec",
   "language": "python",
   "name": "python3"
  },
  "language_info": {
   "codemirror_mode": {
    "name": "ipython",
    "version": 3
   },
   "file_extension": ".py",
   "mimetype": "text/x-python",
   "name": "python",
   "nbconvert_exporter": "python",
   "pygments_lexer": "ipython3",
   "version": "3.10.10"
  }
 },
 "nbformat": 4,
 "nbformat_minor": 2
}
