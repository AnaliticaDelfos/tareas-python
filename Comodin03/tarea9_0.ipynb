{
 "cells": [
  {
   "cell_type": "code",
   "execution_count": 1,
   "metadata": {},
   "outputs": [],
   "source": [
    "#\n",
    "#\n",
    "# EJECUTAR ESTA CELDA CADA VEZ QUE ENTRES A HACER LA TAREA\n",
    "#\n",
    "#\n",
    "\n",
    "#####################################\n",
    "# Iterables y ciclos\n",
    "#####################################\n",
    "\n",
    "\n",
    "import calificador\n",
    "from controlador import Controlador"
   ]
  },
  {
   "cell_type": "code",
   "execution_count": 2,
   "metadata": {},
   "outputs": [],
   "source": [
    "@Controlador(\"9\", \"ejercicio_81\")\n",
    "def ejercicio_81(lista):\n",
    "    \"\"\"\n",
    "    Instrucciones:\n",
    "        La función \"ejercicio_81\" toma como parámetro \n",
    "        \"lista\" y debe regresar esa lista sin elementos\n",
    "        es decir, una lista vacía.\n",
    "\n",
    "    Condiciones: \n",
    "        El parámetro \"lista\" debe ser una lista con\n",
    "        tres elementos del tipo de dato que tu desees.\n",
    "\n",
    "    Recuerda:\n",
    "        Revisa el método .clear()\n",
    "        \n",
    "        Lo que la función \"regresa\" es justo lo que va después \n",
    "        de la palabra reservada \"return\".\n",
    "        \n",
    "        Cuida la indentación.\n",
    "    \"\"\"\n",
    "    \n",
    "    # Escribe aquí tu código ↓\n",
    "    \n",
    "    \n",
    "    # Escribe aquí tu código ↑\n",
    "    \n",
    "    return # ← Escribe aquí tu código"
   ]
  },
  {
   "cell_type": "code",
   "execution_count": 4,
   "metadata": {},
   "outputs": [
    {
     "name": "stdout",
     "output_type": "stream",
     "text": [
      "===============================================================================\n",
      "\n",
      "============> Calificando: tarea 9 - ejercicio ejercicio_81 <============\n",
      "\n",
      "===============================================================================\n",
      "\n",
      "\n",
      "======================================================\n",
      "            ||          Calificación: 100.0            \n",
      "            ||          Aciertos: 3                   \n",
      "            ||          Errores: 0                     \n",
      "======================================================\n",
      "    \n",
      "======> Casos existosos: <======\n",
      "\n",
      "\u001b[0;34m Valores de entrada: [1, 2, 3].             \u001b[0;35m Valor esperado: [].             \u001b[0;36m Valor obtenido: []\n",
      "\u001b[00m\n",
      "\u001b[0;34m Valores de entrada: ['a', 'b', 'c'].             \u001b[0;35m Valor esperado: [].             \u001b[0;36m Valor obtenido: []\n",
      "\u001b[00m\n",
      "\u001b[0;34m Valores de entrada: [1.1, 2.1, 3.1].             \u001b[0;35m Valor esperado: [].             \u001b[0;36m Valor obtenido: []\n",
      "\u001b[00m\n",
      "======> No hubo errores :D <======\n",
      "\n",
      "\u001b[0;32m============> Calificación recibida <============\n",
      "\n"
     ]
    }
   ],
   "source": [
    "calificador.califica_ejercicio_81(ejercicio_81)"
   ]
  },
  {
   "cell_type": "code",
   "execution_count": 11,
   "metadata": {},
   "outputs": [],
   "source": [
    "@Controlador(\"9\", \"ejercicio_82\")\n",
    "def ejercicio_82(lista):\n",
    "    \"\"\"\n",
    "    Instrucciones:\n",
    "        La función \"ejercicio_82\" toma como parámetro \n",
    "        \"lista\" y debe regresar una lista con las \n",
    "        palabras que tengan igual o más de 5 letras.\n",
    "\n",
    "    Condiciones: \n",
    "        El parámetro \"lista\" debe ser una lista con \n",
    "        los siguientes elementos:\n",
    "        \"Lunes\", \"Día\", \"Semana\", \"Mes\", \"Agosto\" \n",
    "\n",
    "    Recuerda:\n",
    "        Lo que la función \"regresa\" es justo lo que va después \n",
    "        de la palabra reservada \"return\".\n",
    "        \n",
    "        Cuida la indentación.\n",
    "    \"\"\"\n",
    "    \n",
    "    # Escribe aquí tu código ↓\n",
    "    \n",
    "    \n",
    "    # Escribe aquí tu código ↑"
   ]
  },
  {
   "cell_type": "code",
   "execution_count": 12,
   "metadata": {},
   "outputs": [
    {
     "name": "stdout",
     "output_type": "stream",
     "text": [
      "===============================================================================\n",
      "\n",
      "============> Calificando: tarea 9 - ejercicio ejercicio_82 <============\n",
      "\n",
      "===============================================================================\n",
      "\n",
      "\n",
      "======================================================\n",
      "            ||          Calificación: 100.0            \n",
      "            ||          Aciertos: 1                   \n",
      "            ||          Errores: 0                     \n",
      "======================================================\n",
      "    \n",
      "======> Casos existosos: <======\n",
      "\n",
      "\u001b[0;34m Valores de entrada: ['Lunes', 'Día', 'Semana', 'Mes', 'Agosto'].             \u001b[0;35m Valor esperado: ['Lunes', 'Semana', 'Agosto'].             \u001b[0;36m Valor obtenido: ['Lunes', 'Semana', 'Agosto']\n",
      "\u001b[00m\n",
      "======> No hubo errores :D <======\n",
      "\n",
      "\u001b[0;32m============> Calificación recibida <============\n",
      "\n"
     ]
    }
   ],
   "source": [
    "calificador.califica_ejercicio_82(ejercicio_82)"
   ]
  },
  {
   "cell_type": "code",
   "execution_count": 13,
   "metadata": {},
   "outputs": [],
   "source": [
    "@Controlador(\"9\", \"ejercicio_83\")\n",
    "def ejercicio_83(diccionario):\n",
    "    \"\"\"\n",
    "    Instrucciones:\n",
    "        La función \"ejercicio_83\" toma como parámetro \n",
    "        \"diccionario\" y debe regresar una lista con los \n",
    "        valores que contenga \"diccionario\"\n",
    "\n",
    "    Condiciones: \n",
    "        El parámetro \"diccionario\" debe ser un diccionario con \n",
    "        los siguientes pares clave-valor:\n",
    "        \"Marca\": \"Ford\", \"Modelo\": \"Sedan\", \"Año\": 2019\n",
    "\n",
    "    Recuerda:\n",
    "        Revisa el método .values()\n",
    "        \n",
    "        Lo que la función \"regresa\" es justo lo que va después \n",
    "        de la palabra reservada \"return\".\n",
    "        \n",
    "        Cuida la indentación.\n",
    "    \"\"\"\n",
    "    \n",
    "    # Escribe aquí tu código ↓\n",
    "    \n",
    "    \n",
    "    # Escribe aquí tu código ↑\n",
    "    \n",
    "    return # ← Escribe aquí tu código"
   ]
  },
  {
   "cell_type": "code",
   "execution_count": 14,
   "metadata": {},
   "outputs": [
    {
     "name": "stdout",
     "output_type": "stream",
     "text": [
      "===============================================================================\n",
      "\n",
      "============> Calificando: tarea 9 - ejercicio ejercicio_83 <============\n",
      "\n",
      "===============================================================================\n",
      "\n",
      "\n",
      "======================================================\n",
      "            ||          Calificación: 100.0            \n",
      "            ||          Aciertos: 1                   \n",
      "            ||          Errores: 0                     \n",
      "======================================================\n",
      "    \n",
      "======> Casos existosos: <======\n",
      "\n",
      "\u001b[0;34m Valores de entrada: {'Marca': 'Ford', 'Modelo': 'Sedan', 'Año': 2019}.             \u001b[0;35m Valor esperado: ['Ford', 'Sedan', 2019].             \u001b[0;36m Valor obtenido: ['Ford', 'Sedan', 2019]\n",
      "\u001b[00m\n",
      "======> No hubo errores :D <======\n",
      "\n",
      "\u001b[0;32m============> Calificación recibida <============\n",
      "\n"
     ]
    }
   ],
   "source": [
    "calificador.califica_ejercicio_83(ejercicio_83)"
   ]
  },
  {
   "cell_type": "code",
   "execution_count": 15,
   "metadata": {},
   "outputs": [],
   "source": [
    "@Controlador(\"9\", \"ejercicio_84\")\n",
    "def ejercicio_84(diccionario):\n",
    "    \"\"\"\n",
    "    Instrucciones:\n",
    "        La función \"ejercicio_84\" toma como parámetro \n",
    "        \"diccionario\" y debe regresar una lista con las \n",
    "        claves que contenga \"diccionario\"\n",
    "\n",
    "    Condiciones: \n",
    "        El parámetro \"diccionario\" debe ser un diccionario con \n",
    "        los siguientes pares clave-valor:\n",
    "        'Ana': 23, 'Juan': 15, 'Martha': 33, 'Alicia': 21, 'Pedro': 38, 'Eric': 32, 'Elena': 89\n",
    "\n",
    "    Recuerda:\n",
    "        Revisa el método .keys()\n",
    "        \n",
    "        Lo que la función \"regresa\" es justo lo que va después \n",
    "        de la palabra reservada \"return\".\n",
    "        \n",
    "        Cuida la indentación.\n",
    "    \"\"\"\n",
    "    \n",
    "    # Escribe aquí tu código ↓\n",
    "    \n",
    "    \n",
    "    # Escribe aquí tu código ↑\n",
    "    \n",
    "    return # ← Escribe aquí tu código"
   ]
  },
  {
   "cell_type": "code",
   "execution_count": 16,
   "metadata": {},
   "outputs": [
    {
     "name": "stdout",
     "output_type": "stream",
     "text": [
      "===============================================================================\n",
      "\n",
      "============> Calificando: tarea 9 - ejercicio ejercicio_84 <============\n",
      "\n",
      "===============================================================================\n",
      "\n",
      "\n",
      "======================================================\n",
      "            ||          Calificación: 100.0            \n",
      "            ||          Aciertos: 1                   \n",
      "            ||          Errores: 0                     \n",
      "======================================================\n",
      "    \n",
      "======> Casos existosos: <======\n",
      "\n",
      "\u001b[0;34m Valores de entrada: {'Ana': 23, 'Juan': 15, 'Martha': 33, 'Alicia': 21, 'Pedro': 38, 'Eric': 32, 'Elena': 89}.             \u001b[0;35m Valor esperado: ['Ana', 'Juan', 'Martha', 'Alicia', 'Pedro', 'Eric', 'Elena'].             \u001b[0;36m Valor obtenido: ['Ana', 'Juan', 'Martha', 'Alicia', 'Pedro', 'Eric', 'Elena']\n",
      "\u001b[00m\n",
      "======> No hubo errores :D <======\n",
      "\n",
      "\u001b[0;32m============> Calificación recibida <============\n",
      "\n"
     ]
    }
   ],
   "source": [
    "calificador.califica_ejercicio_84(ejercicio_84)"
   ]
  },
  {
   "cell_type": "code",
   "execution_count": 17,
   "metadata": {},
   "outputs": [],
   "source": [
    "@Controlador(\"9\", \"ejercicio_85\")\n",
    "def ejercicio_85(lista):\n",
    "    \"\"\"\n",
    "    Instrucciones:\n",
    "        La función \"ejercicio_85\" toma como parámetro \n",
    "        \"lista\" y debe regresar una tupla con los\n",
    "        elementos que contenga \"lista\".\n",
    "\n",
    "    Condiciones: \n",
    "        El parámetro \"lista\" debe ser una lista con\n",
    "        tres elementos del tipo de dato que tu desees.\n",
    "\n",
    "    Recuerda:\n",
    "        Lo que la función \"regresa\" es justo lo que va después \n",
    "        de la palabra reservada \"return\".\n",
    "        \n",
    "        Cuida la indentación.\n",
    "    \"\"\"\n",
    "    \n",
    "    # Escribe aquí tu código ↓\n",
    "    \n",
    "    \n",
    "    # Escribe aquí tu código ↑\n",
    "    \n",
    "    return # ← Escribe aquí tu código"
   ]
  },
  {
   "cell_type": "code",
   "execution_count": 18,
   "metadata": {},
   "outputs": [
    {
     "name": "stdout",
     "output_type": "stream",
     "text": [
      "===============================================================================\n",
      "\n",
      "============> Calificando: tarea 9 - ejercicio ejercicio_85 <============\n",
      "\n",
      "===============================================================================\n",
      "\n",
      "\n",
      "======================================================\n",
      "            ||          Calificación: 100.0            \n",
      "            ||          Aciertos: 3                   \n",
      "            ||          Errores: 0                     \n",
      "======================================================\n",
      "    \n",
      "======> Casos existosos: <======\n",
      "\n",
      "\u001b[0;34m Valores de entrada: [1, 2, 3].             \u001b[0;35m Valor esperado: (1, 2, 3).             \u001b[0;36m Valor obtenido: (1, 2, 3)\n",
      "\u001b[00m\n",
      "\u001b[0;34m Valores de entrada: ['a', 'b', 'c'].             \u001b[0;35m Valor esperado: ('a', 'b', 'c').             \u001b[0;36m Valor obtenido: ('a', 'b', 'c')\n",
      "\u001b[00m\n",
      "\u001b[0;34m Valores de entrada: [1.1, 2.1, 3.1].             \u001b[0;35m Valor esperado: (1.1, 2.1, 3.1).             \u001b[0;36m Valor obtenido: (1.1, 2.1, 3.1)\n",
      "\u001b[00m\n",
      "======> No hubo errores :D <======\n",
      "\n",
      "\u001b[0;32m============> Calificación recibida <============\n",
      "\n"
     ]
    }
   ],
   "source": [
    "calificador.califica_ejercicio_85(ejercicio_85)"
   ]
  },
  {
   "cell_type": "code",
   "execution_count": null,
   "metadata": {},
   "outputs": [],
   "source": [
    "@Controlador(\"9\", \"ejercicio_86\")\n",
    "def ejercicio_86(lista1, lista2):\n",
    "    \"\"\"\n",
    "    Instrucciones:\n",
    "        La función \"ejercicio_86\" toma como parametros \n",
    "        \"lista1\", \"lista2\" y, debe regresar un diccionario\n",
    "        donde \"lista1\" sean las claves y \"lista2\" sean los\n",
    "        valores de éste.\n",
    "\n",
    "    Condiciones: \n",
    "        El parámetro \"lista1\" debe contener los siguientes elementos:\n",
    "        \"Lunes\", \"Martes\", \"Miércoles\", \"Jueves\", \"Viernes\"\n",
    "        y \"lista2\" debe contener los siguientes elementos:\n",
    "        1, 2, 3, 4, 5 \n",
    "\n",
    "    Recuerda:\n",
    "        Revisa la función zip()\n",
    "        \n",
    "        Lo que la función \"regresa\" es justo lo que va después \n",
    "        de la palabra reservada \"return\".\n",
    "        \n",
    "        Cuida la indentación.\n",
    "    \"\"\"\n",
    "    \n",
    "    # Escribe aquí tu código ↓\n",
    "    \n",
    "    \n",
    "    # Escribe aquí tu código ↑\n",
    "    \n",
    "    return # ← Escribe aquí tu código"
   ]
  },
  {
   "cell_type": "code",
   "execution_count": null,
   "metadata": {},
   "outputs": [],
   "source": [
    "calificador.califica_ejercicio_86(ejercicio_86)"
   ]
  },
  {
   "cell_type": "code",
   "execution_count": 19,
   "metadata": {},
   "outputs": [],
   "source": [
    "@Controlador(\"9\", \"ejercicio_87\")\n",
    "def ejercicio_87():\n",
    "    \"\"\"\n",
    "    Instrucciones:\n",
    "        La función \"ejercicio_87\" no toma ningún \n",
    "        parámetro y debe regresar una tupla con \n",
    "        los números del 34 al 56 (incluyendo el \n",
    "        34 y el 56).\n",
    "    \n",
    "    Condiciones:\n",
    "        Los elementos de la lista deben ser números\n",
    "        enteros (int).\n",
    "\n",
    "    Recuerda:\n",
    "        Lo que la función \"regresa\" es justo lo que va después \n",
    "        de la palabra reservada \"return\".\n",
    "        \n",
    "        Cuida la indentación.\n",
    "    \"\"\"\n",
    "    \n",
    "    # Escribe aquí tu código ↓\n",
    "    \n",
    "    \n",
    "    # Escribe aquí tu código ↑\n",
    "    \n",
    "    return # ← Escribe aquí tu código"
   ]
  },
  {
   "cell_type": "code",
   "execution_count": 20,
   "metadata": {},
   "outputs": [
    {
     "name": "stdout",
     "output_type": "stream",
     "text": [
      "===============================================================================\n",
      "\n",
      "============> Calificando: tarea 9 - ejercicio ejercicio_87 <============\n",
      "\n",
      "===============================================================================\n",
      "\n",
      "\n",
      "======================================================\n",
      "            ||          Calificación: 100.0            \n",
      "            ||          Aciertos: 1                   \n",
      "            ||          Errores: 0                     \n",
      "======================================================\n",
      "    \n",
      "======> Casos existosos: <======\n",
      "\n",
      "\u001b[0;34mValores de entrada: N/A.         \u001b[0;35mValor esperado: (34, 35, 36, 37, 38, 39, 40, 41, 42, 43, 44, 45, 46, 47, 48, 49, 50, 51, 52, 53, 54, 55, 56).         \u001b[0;36mValor obtenido: (34, 35, 36, 37, 38, 39, 40, 41, 42, 43, 44, 45, 46, 47, 48, 49, 50, 51, 52, 53, 54, 55, 56)\n",
      "\n",
      "======> No hubo errores :D <======\n",
      "\n",
      "\u001b[0;32m============> Calificación recibida <============\n",
      "\n"
     ]
    }
   ],
   "source": [
    "calificador.califica_ejercicio_87(ejercicio_87)"
   ]
  },
  {
   "cell_type": "code",
   "execution_count": 21,
   "metadata": {},
   "outputs": [],
   "source": [
    "@Controlador(\"9\", \"ejercicio_88\")\n",
    "def ejercicio_88(lista):\n",
    "    \"\"\"\n",
    "    Instrucciones:\n",
    "        La función \"ejercicio_88\" toma como parámetro \n",
    "        \"lista\" y debe regresar la lista que se le \n",
    "        pase como parámetro con la extensión de la \n",
    "        siguiente lista: [\"Python\", \"básico\"]. Es\n",
    "        decir, a la lista original le añadimos esta\n",
    "        lista de dos elementos.\n",
    "\n",
    "    Condiciones: \n",
    "        El parámetro \"lista\" debe ser una lista con \n",
    "        tres elementos de tu elección.\n",
    "\n",
    "        La lista final tendrá un total de 5 elementos.\n",
    "\n",
    "    Recuerda:\n",
    "        Revisa la función extend()\n",
    "        \n",
    "        Lo que la función \"regresa\" es justo lo que va después \n",
    "        de la palabra reservada \"return\".\n",
    "        \n",
    "        Cuida la indentación.\n",
    "    \"\"\"\n",
    "    \n",
    "    # Escribe aquí tu código ↓\n",
    "    \n",
    "    \n",
    "    # Escribe aquí tu código ↑\n",
    "    \n",
    "    return # ← Escribe aquí tu código"
   ]
  },
  {
   "cell_type": "code",
   "execution_count": 22,
   "metadata": {},
   "outputs": [
    {
     "name": "stdout",
     "output_type": "stream",
     "text": [
      "===============================================================================\n",
      "\n",
      "============> Calificando: tarea 9 - ejercicio ejercicio_88 <============\n",
      "\n",
      "===============================================================================\n",
      "\n",
      "\n",
      "======================================================\n",
      "            ||          Calificación: 100.0            \n",
      "            ||          Aciertos: 3                   \n",
      "            ||          Errores: 0                     \n",
      "======================================================\n",
      "    \n",
      "======> Casos existosos: <======\n",
      "\n",
      "\u001b[0;34m Valores de entrada: [1, 2, 3, 'Python', 'básico'].             \u001b[0;35m Valor esperado: [1, 2, 3, 'Python', 'básico'].             \u001b[0;36m Valor obtenido: [1, 2, 3, 'Python', 'básico']\n",
      "\u001b[00m\n",
      "\u001b[0;34m Valores de entrada: ['a', 'b', 'c', 'Python', 'básico'].             \u001b[0;35m Valor esperado: ['a', 'b', 'c', 'Python', 'básico'].             \u001b[0;36m Valor obtenido: ['a', 'b', 'c', 'Python', 'básico']\n",
      "\u001b[00m\n",
      "\u001b[0;34m Valores de entrada: [1.1, 2.1, 3.1, 'Python', 'básico'].             \u001b[0;35m Valor esperado: [1.1, 2.1, 3.1, 'Python', 'básico'].             \u001b[0;36m Valor obtenido: [1.1, 2.1, 3.1, 'Python', 'básico']\n",
      "\u001b[00m\n",
      "======> No hubo errores :D <======\n",
      "\n",
      "\u001b[0;32m============> Calificación recibida <============\n",
      "\n"
     ]
    }
   ],
   "source": [
    "calificador.califica_ejercicio_88(ejercicio_88)"
   ]
  },
  {
   "cell_type": "code",
   "execution_count": null,
   "metadata": {},
   "outputs": [],
   "source": [
    "@Controlador(\"9\", \"ejercicio_89\")\n",
    "def ejercicio_89():\n",
    "    \"\"\"\n",
    "    Instrucciones:\n",
    "        La función \"ejercicio_89\" no toma nada\n",
    "        como parámetro y debe regresar una lista\n",
    "        que contenga los números pares que se \n",
    "        encuentren entre el 20 y el 53 incluyendo el\n",
    "        20 y el 53.\n",
    "\n",
    "    Recuerda:\n",
    "        Revisa los ciclos for y las listas por comprensión.\n",
    "        \n",
    "        Lo que la función \"regresa\" es justo lo que va después \n",
    "        de la palabra reservada \"return\".\n",
    "        \n",
    "        Cuida la indentación.\n",
    "    \"\"\"\n",
    "    \n",
    "    # Escribe aquí tu código ↓\n",
    "    \n",
    "    \n",
    "    # Escribe aquí tu código ↑\n",
    "    \n",
    "    return # ← Escribe aquí tu código"
   ]
  },
  {
   "cell_type": "code",
   "execution_count": null,
   "metadata": {},
   "outputs": [],
   "source": [
    "calificador.califica_ejercicio_89(ejercicio_89)"
   ]
  },
  {
   "cell_type": "code",
   "execution_count": 25,
   "metadata": {},
   "outputs": [],
   "source": [
    "@Controlador(\"9\", \"ejercicio_90\")\n",
    "def ejercicio_90(lista):\n",
    "    \"\"\"\n",
    "    Instrucciones:\n",
    "        La función \"ejercicio_90\" toma como parámetro \n",
    "        \"lista\" y debe regresar el elemento correspondiente\n",
    "        al número mayor encontrado en \"lista\".\n",
    "\n",
    "    Condiciones: \n",
    "        El parámetro \"lista\" debe ser una lista con los \n",
    "        elementos: 2,2,98,5,8,55,5,41,35,2,88,6,6,21,1\n",
    "\n",
    "    Recuerda:\n",
    "        Revisa la función max()\n",
    "        \n",
    "        Lo que la función \"regresa\" es justo lo que va después \n",
    "        de la palabra reservada \"return\".\n",
    "        \n",
    "        Cuida la indentación.\n",
    "    \"\"\"\n",
    "    \n",
    "    # Escribe aquí tu código ↓\n",
    "    \n",
    "    \n",
    "    # Escribe aquí tu código ↑\n",
    "    \n",
    "    return # ← Escribe aquí tu código"
   ]
  },
  {
   "cell_type": "code",
   "execution_count": 26,
   "metadata": {},
   "outputs": [
    {
     "name": "stdout",
     "output_type": "stream",
     "text": [
      "===============================================================================\n",
      "\n",
      "============> Calificando: tarea 9 - ejercicio ejercicio_90 <============\n",
      "\n",
      "===============================================================================\n",
      "\n",
      "\n",
      "======================================================\n",
      "            ||          Calificación: 100.0            \n",
      "            ||          Aciertos: 1                   \n",
      "            ||          Errores: 0                     \n",
      "======================================================\n",
      "    \n",
      "======> Casos existosos: <======\n",
      "\n",
      "\u001b[0;34m Valores de entrada: [2, 2, 98, 5, 8, 55, 5, 41, 35, 2, 88, 6, 6, 21, 1].             \u001b[0;35m Valor esperado: 98.             \u001b[0;36m Valor obtenido: 98\n",
      "\u001b[00m\n",
      "======> No hubo errores :D <======\n",
      "\n",
      "\u001b[0;32m============> Calificación recibida <============\n",
      "\n"
     ]
    }
   ],
   "source": [
    "calificador.califica_ejercicio_90(ejercicio_90)"
   ]
  }
 ],
 "metadata": {
  "kernelspec": {
   "display_name": "infotec",
   "language": "python",
   "name": "python3"
  },
  "language_info": {
   "codemirror_mode": {
    "name": "ipython",
    "version": 3
   },
   "file_extension": ".py",
   "mimetype": "text/x-python",
   "name": "python",
   "nbconvert_exporter": "python",
   "pygments_lexer": "ipython3",
   "version": "3.10.10"
  }
 },
 "nbformat": 4,
 "nbformat_minor": 2
}
