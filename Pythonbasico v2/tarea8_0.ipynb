{
 "cells": [
  {
   "cell_type": "code",
   "execution_count": null,
   "metadata": {},
   "outputs": [],
   "source": [
    "#\n",
    "#\n",
    "# EJECUTAR ESTA CELDA CADA VEZ QUE ENTRES A HACER LA TAREA\n",
    "#\n",
    "#\n",
    "\n",
    "#####################################\n",
    "#       Estructuras de datos parte 2\n",
    "#####################################\n",
    "\n",
    "\n",
    "import calificador\n",
    "from controlador import Controlador\n",
    "CORREO = \"CAMBIA ESTO POR TU CORREO\""
   ]
  },
  {
   "cell_type": "code",
   "execution_count": null,
   "metadata": {},
   "outputs": [],
   "source": [
    "@Controlador(\"8\", \"ejercicio_71\")\n",
    "def ejercicio_71():\n",
    "\n",
    "    \"\"\"\n",
    "    Título: Tupla con 3 elementos.\n",
    "    \n",
    "    Instrucciones:\n",
    "        Esta función no recibe ningún parámetro\n",
    "        y regresa una tupla con las letras\n",
    "        'a', '1', 'b', es decir, regresa una tupla\n",
    "        con 3 elementos.\n",
    "\n",
    "    Recuerda:\n",
    "        Cuida la indentación.\n",
    "    \"\"\"\n",
    "    \n",
    "    # Escribe aquí tu código\n",
    "    \n",
    "    \n",
    "    # Escribe aquí tu código\n",
    "    \n",
    "    return # Escribe aquí tu código"
   ]
  },
  {
   "cell_type": "code",
   "execution_count": null,
   "metadata": {},
   "outputs": [],
   "source": [
    "ejercicio_71()"
   ]
  },
  {
   "cell_type": "code",
   "execution_count": null,
   "metadata": {},
   "outputs": [],
   "source": [
    "calificador.califica_ejercicio_71(ejercicio_71, CORREO)"
   ]
  },
  {
   "cell_type": "code",
   "execution_count": null,
   "metadata": {},
   "outputs": [],
   "source": [
    "@Controlador(\"8\", \"ejercicio_72\")\n",
    "def ejercicio_72(lista):\n",
    "\n",
    "    \"\"\"\n",
    "    Título: Elemento 5 de una lista.\n",
    "\n",
    "    Instrucciones:\n",
    "        Esta función recibe una lista\n",
    "        y regresa el elemento con el índice\n",
    "        5 de dicha lista.\n",
    "\n",
    "    Recuerda:\n",
    "        Cuida la indentación.\n",
    "    \"\"\"\n",
    "    \n",
    "    # Escribe aquí tu código\n",
    "    \n",
    "    \n",
    "    # Escribe aquí tu código\n",
    "    \n",
    "    return # Escribe aquí tu código"
   ]
  },
  {
   "cell_type": "code",
   "execution_count": null,
   "metadata": {},
   "outputs": [],
   "source": [
    "ejercicio_72()"
   ]
  },
  {
   "cell_type": "code",
   "execution_count": null,
   "metadata": {},
   "outputs": [],
   "source": [
    "calificador.califica_ejercicio_72(ejercicio_72, CORREO)"
   ]
  },
  {
   "cell_type": "code",
   "execution_count": null,
   "metadata": {},
   "outputs": [],
   "source": [
    "@Controlador(\"8\", \"ejercicio_73\")\n",
    "def ejercicio_73(tope):\n",
    "\n",
    "    \"\"\"\n",
    "    Título: Último elemento de una tupla con un cierto rango de números.\n",
    "    \n",
    "    Instrucciones:\n",
    "        Esta función recibe un número, el cual\n",
    "        funciona como tope en la creación de una tupla.\n",
    "        Deberás crear una tupla con los números del 0\n",
    "        a tope, acceder al último elemento de dicha tupla\n",
    "        y regresarlo.\n",
    "\n",
    "    Recuerda:\n",
    "        Cuida la indentación.\n",
    "    \"\"\"\n",
    "    \n",
    "    # Escribe aquí tu código\n",
    "    \n",
    "    \n",
    "    # Escribe aquí tu código\n",
    "    \n",
    "    return # Escribe aquí tu código"
   ]
  },
  {
   "cell_type": "code",
   "execution_count": null,
   "metadata": {},
   "outputs": [],
   "source": [
    "ejercicio_73()"
   ]
  },
  {
   "cell_type": "code",
   "execution_count": null,
   "metadata": {},
   "outputs": [],
   "source": [
    "calificador.califica_ejercicio_73(ejercicio_73, CORREO)"
   ]
  },
  {
   "cell_type": "code",
   "execution_count": null,
   "metadata": {},
   "outputs": [],
   "source": [
    "@Controlador(\"8\", \"ejercicio_74\")\n",
    "def ejercicio_74():\n",
    "    \"\"\"\n",
    "    Título: Creación de un diccionario dentro de un diccionario.\n",
    "    \n",
    "    Instrucciones:\n",
    "        Esta función no recibe parámetros y regresa un diccionario\n",
    "        con la siguiente estructura:\n",
    "        Una clave llamada 'estado' cuyo valor es 'Activo',\n",
    "        una clave llamada 'datos' cuyo valor es otro diccionario\n",
    "        con dos claves, una llamada 'curso' cuyo valor es\n",
    "        'Python básico' y otra clave llamada 'tareas'\n",
    "        cuyo valor es 3.\n",
    "\n",
    "    Recuerda:\n",
    "        Cuida la indentación.\n",
    "    \"\"\"\n",
    "    \n",
    "    # Escribe aquí tu código\n",
    "    \n",
    "    \n",
    "    # Escribe aquí tu código\n",
    "    \n",
    "    return # Escribe aquí tu código"
   ]
  },
  {
   "cell_type": "code",
   "execution_count": null,
   "metadata": {},
   "outputs": [],
   "source": [
    "ejercicio_74()"
   ]
  },
  {
   "cell_type": "code",
   "execution_count": null,
   "metadata": {},
   "outputs": [],
   "source": [
    "calificador.califica_ejercicio_74(ejercicio_74, CORREO)"
   ]
  },
  {
   "cell_type": "code",
   "execution_count": null,
   "metadata": {},
   "outputs": [],
   "source": [
    "@Controlador(\"8\", \"ejercicio_75\")\n",
    "def ejercicio_75():\n",
    "    \"\"\"\n",
    "    Título: Creación de lista dentro de diccionario.\n",
    "    \n",
    "    Instrucciones:\n",
    "        Esta función no recibe parámteros y devuelve una \n",
    "        lista con dos diccionario de la siguiente forma:\n",
    "        El primer diccionario tiene la clave pais cuyo valor\n",
    "        es 'México' y tiene otra clave cuyo valor es 'nombre oficial'\n",
    "        cuyo valor es 'Estados Unidos Mexicanos'.\n",
    "        El segundo diccionario tiene la clave 'pais' cuyo valor\n",
    "        es 'Estados Unidos' y tiene otra clave cuyo valor es\n",
    "        'nombre oficial' cuyo valor es 'Estados Unidos de América'.\n",
    "\n",
    "    Recuerda:\n",
    "        Cuida la indentación.\n",
    "    \"\"\"\n",
    "    \n",
    "    # Escribe aquí tu código\n",
    "    \n",
    "    \n",
    "    # Escribe aquí tu código\n",
    "    \n",
    "    return # Escribe aquí tu código"
   ]
  },
  {
   "cell_type": "code",
   "execution_count": null,
   "metadata": {},
   "outputs": [],
   "source": [
    "ejercicio_75()"
   ]
  },
  {
   "cell_type": "code",
   "execution_count": null,
   "metadata": {},
   "outputs": [],
   "source": [
    "calificador.califica_ejercicio_75(ejercicio_75, CORREO)"
   ]
  },
  {
   "cell_type": "code",
   "execution_count": null,
   "metadata": {},
   "outputs": [],
   "source": [
    "@Controlador(\"8\", \"ejercicio_76\")\n",
    "def ejercicio_76():\n",
    "\n",
    "    \"\"\"\n",
    "    Título: Creación de diccionario con listas\n",
    "    \n",
    "    Instrucciones:\n",
    "        Esta función no recibe parámetros y regresa\n",
    "        un diccionario de la siguiente forma:\n",
    "        Tiene una clave llamada 'tarea1' cuyos\n",
    "        valores son una lista con los números\n",
    "        10, 10, 8.\n",
    "        Y tiene una clave llamada 'tarea2' cuyos\n",
    "        valores son una lista con los números\n",
    "        10, 8, 7.\n",
    "\n",
    "    Recuerda:\n",
    "        Cuida la indentación.\n",
    "    \"\"\"\n",
    "    \n",
    "    # Escribe aquí tu código\n",
    "    \n",
    "    \n",
    "    # Escribe aquí tu código\n",
    "    \n",
    "    return # Escribe aquí tu código"
   ]
  },
  {
   "cell_type": "code",
   "execution_count": null,
   "metadata": {},
   "outputs": [],
   "source": [
    "ejercicio_76()"
   ]
  },
  {
   "cell_type": "code",
   "execution_count": null,
   "metadata": {},
   "outputs": [],
   "source": [
    "calificador.califica_ejercicio_76(ejercicio_76, CORREO)"
   ]
  },
  {
   "cell_type": "code",
   "execution_count": null,
   "metadata": {},
   "outputs": [],
   "source": [
    "@Controlador(\"8\", \"ejercicio_77\")\n",
    "def ejercicio_77():\n",
    "    \"\"\"\n",
    "    Título: Creación de diccionario con tuplas.\n",
    "\n",
    "    Instrucciones:\n",
    "        Esta función no recibe parámetros y regresa\n",
    "        un diccionario de la siguiente forma:\n",
    "        Tiene una clave llamada 'historial'\n",
    "        cuyo valor es una tupla con 3 elementos,\n",
    "        el primer elemento de la tupla es\n",
    "        otra tupla con los números 3,5,1,6,\n",
    "        el segundo elemento de la tupla es\n",
    "        otra tupla con los números 56,2,1,7,\n",
    "        el tercer elemento de la tupla es\n",
    "        otra tupla con los números 62,4,78,3. \n",
    "\n",
    "    Recuerda:\n",
    "        Cuida la indentación.\n",
    "    \"\"\"\n",
    "    \n",
    "    # Escribe aquí tu código\n",
    "    \n",
    "    \n",
    "    # Escribe aquí tu código\n",
    "    \n",
    "    return # Escribe aquí tu código"
   ]
  },
  {
   "cell_type": "code",
   "execution_count": null,
   "metadata": {},
   "outputs": [],
   "source": [
    "ejercicio_77()"
   ]
  },
  {
   "cell_type": "code",
   "execution_count": null,
   "metadata": {},
   "outputs": [],
   "source": [
    "calificador.califica_ejercicio_77(ejercicio_77, CORREO)"
   ]
  },
  {
   "cell_type": "code",
   "execution_count": null,
   "metadata": {},
   "outputs": [],
   "source": [
    "@Controlador(\"8\", \"ejercicio_78\")\n",
    "def ejercicio_78(clave, valor):\n",
    "\n",
    "    \"\"\"\n",
    "    Título: Creación de diccionario a partir de clave.\n",
    "\n",
    "    Instrucciones:\n",
    "        Esta función recibe una clave y un valor\n",
    "        y regresa un diccionario con esa clave\n",
    "        y cuyo valor sea el valor que llega por parámetro\n",
    "\n",
    "    Recuerda:\n",
    "        Cuida la indentación.\n",
    "    \"\"\"\n",
    "    \n",
    "    # Escribe aquí tu código\n",
    "    \n",
    "    \n",
    "    # Escribe aquí tu código\n",
    "    \n",
    "    # return # Escribe aquí tu código\n",
    "    \n",
    "    return # Escribe aquí tu código"
   ]
  },
  {
   "cell_type": "code",
   "execution_count": null,
   "metadata": {},
   "outputs": [],
   "source": [
    "ejercicio_78(\"clave\", \"valor\")"
   ]
  },
  {
   "cell_type": "code",
   "execution_count": null,
   "metadata": {},
   "outputs": [],
   "source": [
    "calificador.califica_ejercicio_78(ejercicio_78, CORREO)"
   ]
  },
  {
   "cell_type": "code",
   "execution_count": null,
   "metadata": {},
   "outputs": [],
   "source": [
    "@Controlador(\"8\", \"ejercicio_79\")\n",
    "def ejercicio_79():\n",
    "\n",
    "    \"\"\"\n",
    "    Instrucciones:\n",
    "        Esta función no recibe parámetros y regresa\n",
    "        una lista con los números del 0 al 10000\n",
    "\n",
    "    Recuerda:\n",
    "        Cuida la indentación.\n",
    "    \"\"\"\n",
    "    \n",
    "    # Escribe aquí tu código\n",
    "    \n",
    "    \n",
    "    # Escribe aquí tu código\n",
    "    \n",
    "    #return # Escribe aquí tu código\n",
    "    \n",
    "    return # Escribe aquí tu código"
   ]
  },
  {
   "cell_type": "code",
   "execution_count": null,
   "metadata": {},
   "outputs": [],
   "source": [
    "ejercicio_79(1.40)"
   ]
  },
  {
   "cell_type": "code",
   "execution_count": null,
   "metadata": {},
   "outputs": [],
   "source": [
    "calificador.califica_ejercicio_79(ejercicio_79, CORREO)"
   ]
  },
  {
   "cell_type": "code",
   "execution_count": null,
   "metadata": {},
   "outputs": [],
   "source": [
    "@Controlador(\"8\", \"ejercicio_80\")\n",
    "def ejercicio_80(tope):\n",
    "\n",
    "    \"\"\"\n",
    "    Instrucciones:\n",
    "        Esta función recibe como parámetro\n",
    "        un número, el cual sirve como tope\n",
    "        para crear una lista con los números\n",
    "        del 0 a tope - 1, debes regresar dicha lista.\n",
    "\n",
    "    Recuerda:\n",
    "        Cuida la indentación.\n",
    "    \"\"\"\n",
    "    \n",
    "    # Escribe aquí tu código\n",
    "    \n",
    "    \n",
    "    # Escribe aquí tu código\n",
    "    \n",
    "    return # Escribe aquí tu código"
   ]
  },
  {
   "cell_type": "code",
   "execution_count": null,
   "metadata": {},
   "outputs": [],
   "source": [
    "ejercicio_80()"
   ]
  },
  {
   "cell_type": "code",
   "execution_count": null,
   "metadata": {},
   "outputs": [],
   "source": [
    "calificador.califica_ejercicio_80(ejercicio_80, CORREO)"
   ]
  }
 ],
 "metadata": {
  "kernelspec": {
   "display_name": "infotec",
   "language": "python",
   "name": "python3"
  },
  "language_info": {
   "codemirror_mode": {
    "name": "ipython",
    "version": 3
   },
   "file_extension": ".py",
   "mimetype": "text/x-python",
   "name": "python",
   "nbconvert_exporter": "python",
   "pygments_lexer": "ipython3",
   "version": "3.11.5"
  }
 },
 "nbformat": 4,
 "nbformat_minor": 2
}
