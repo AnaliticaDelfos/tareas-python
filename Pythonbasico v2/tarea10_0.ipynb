{
 "cells": [
  {
   "cell_type": "code",
   "execution_count": null,
   "metadata": {},
   "outputs": [],
   "source": [
    "#\n",
    "#\n",
    "# EJECUTAR ESTA CELDA CADA VEZ QUE ENTRES A HACER LA TAREA\n",
    "#\n",
    "#\n",
    "\n",
    "#####################################\n",
    "#       Estructuras de datos y ciclos\n",
    "#####################################\n",
    "\n",
    "\n",
    "import calificador\n",
    "from controlador import Controlador\n",
    "CORREO = \"estudiante@analiticadelfos.com\""
   ]
  },
  {
   "cell_type": "code",
   "execution_count": null,
   "metadata": {},
   "outputs": [],
   "source": [
    "@Controlador(\"10\", \"ejercicio_91\")\n",
    "def ejercicio_91(inicio, fin):\n",
    "    \"\"\"\n",
    "    Título: Pares en rango.\n",
    "    \n",
    "    Instrucciones:\n",
    "        Esta función recibe dos números, llamados inicio y fin, respectivamente.\n",
    "        El fin es mayor que el inicio.\n",
    "        Encontrar los números pares que se encuentran entre inicio (inclusive) y fin (inclusive)\n",
    "        y agregarlos a una lista, regresar dicha lista.\n",
    "\n",
    "    Recuerda:\n",
    "        Cuida la indentación.\n",
    "    \"\"\"\n",
    "    \n",
    "    # Escribe aquí tu código\n",
    "    \n",
    "    \n",
    "    # Escribe aquí tu código\n",
    "    \n",
    "    return # Escribe aquí tu código"
   ]
  },
  {
   "cell_type": "code",
   "execution_count": null,
   "metadata": {},
   "outputs": [],
   "source": [
    "calificador.califica_ejercicio_91(ejercicio_91, CORREO)"
   ]
  },
  {
   "cell_type": "code",
   "execution_count": null,
   "metadata": {},
   "outputs": [],
   "source": [
    "@Controlador(\"10\", \"ejercicio_92\")\n",
    "def ejercicio_92(numeros):\n",
    "    \"\"\"\n",
    "    Título: Múltiplos de 5.\n",
    "\n",
    "    Instrucciones:\n",
    "        Esta función recibe una lista de números enteros llamada numeros.\n",
    "        Guardar los números que sea múltiplos de 5 en una \n",
    "        lista nueva y regresar dicha lista.\n",
    "\n",
    "    Recuerda:\n",
    "        Cuida la indentación.\n",
    "    \"\"\"\n",
    "    \n",
    "    # Escribe aquí tu código\n",
    "    \n",
    "    \n",
    "    # Escribe aquí tu código\n",
    "    \n",
    "    return # Escribe aquí tu código"
   ]
  },
  {
   "cell_type": "code",
   "execution_count": null,
   "metadata": {},
   "outputs": [],
   "source": [
    "calificador.califica_ejercicio_92(ejercicio_92, CORREO)"
   ]
  },
  {
   "cell_type": "code",
   "execution_count": null,
   "metadata": {},
   "outputs": [],
   "source": [
    "@Controlador(\"10\", \"ejercicio_93\")\n",
    "def ejercicio_93(cadena):\n",
    "    \"\"\"\n",
    "    Título: Contar vocales y números\n",
    "    \n",
    "    Instrucciones:\n",
    "        Esta función recibe una cadena de caracteres como parámetro.\n",
    "        Usar ciclos (for o while) para encontrar lo siguiente:\n",
    "            Cantidad de números\n",
    "            Cantidad de letras\n",
    "        Regresar una tupla cuyo primer elemento sea la cantidad de vocales\n",
    "        y su segundo elemento sea la cantidad de números.\n",
    "\n",
    "    Recuerda:\n",
    "        Cuida la indentación.\n",
    "    \"\"\"\n",
    "    \n",
    "    # Escribe aquí tu código\n",
    "    \n",
    "    \n",
    "    # Escribe aquí tu código\n",
    "    \n",
    "    return # Escribe aquí tu código"
   ]
  },
  {
   "cell_type": "code",
   "execution_count": null,
   "metadata": {},
   "outputs": [],
   "source": [
    "calificador.califica_ejercicio_93(ejercicio_93, CORREO)"
   ]
  },
  {
   "cell_type": "code",
   "execution_count": null,
   "metadata": {},
   "outputs": [],
   "source": [
    "@Controlador(\"10\", \"ejercicio_94\")\n",
    "def ejercicio_94(informacion_de_clase):\n",
    "    \"\"\"\n",
    "    Título: Obtener promedio de diccionario.\n",
    "    \n",
    "    Instrucciones:\n",
    "        Esta función recibe un diccionario llamado\n",
    "        informacion_de_clase que tiene una clave\n",
    "        \"alumnos\", dicha clave contiene una lista de números\n",
    "        con punto decimal (float), obtener el promedio de dichos\n",
    "        números.\n",
    "\n",
    "    Recuerda:\n",
    "        Cuida la indentación.\n",
    "    \"\"\"\n",
    "    \n",
    "    # Escribe aquí tu código\n",
    "\n",
    "    \n",
    "    # Escribe aquí tu código\n",
    "    \n",
    "    return # Escribe aquí tu código"
   ]
  },
  {
   "cell_type": "code",
   "execution_count": null,
   "metadata": {},
   "outputs": [],
   "source": [
    "calificador.califica_ejercicio_94(ejercicio_94, CORREO)"
   ]
  },
  {
   "cell_type": "code",
   "execution_count": null,
   "metadata": {},
   "outputs": [],
   "source": [
    "@Controlador(\"10\", \"ejercicio_95\")\n",
    "def ejercicio_95(lista_numeros, numero_a_buscar):\n",
    "    \"\"\"\n",
    "    Título: Encontrar ocurrencias.\n",
    "    \n",
    "    Instrucciones:\n",
    "        Esta función recibe por parámetro una lista\n",
    "        de números y un número a buscar.\n",
    "\n",
    "        Devuelve la cantidad de veces que aparece el numero_a_buscar\n",
    "        en la lista de números.\n",
    "\n",
    "    Ejemplo:\n",
    "        Si lista_numeros = [1,2,3,4,3]\n",
    "        y numero_a_buscar = 3\n",
    "        La función devuelve un 2\n",
    "    \"\"\"\n",
    "\n",
    "    # Escribe aquí tu código\n",
    "    \n",
    "    \n",
    "    # Escribe aquí tu código\n",
    "    \n",
    "    return # Escribe aquí tu código"
   ]
  },
  {
   "cell_type": "code",
   "execution_count": null,
   "metadata": {},
   "outputs": [],
   "source": [
    "calificador.califica_ejercicio_95(ejercicio_95, CORREO)"
   ]
  },
  {
   "cell_type": "code",
   "execution_count": null,
   "metadata": {},
   "outputs": [],
   "source": [
    "@Controlador(\"10\", \"ejercicio_96\")\n",
    "def ejercicio_96(lista_palabras):\n",
    "    \"\"\"\n",
    "    Título: Contar en lista.\n",
    "    \n",
    "    Instrucciones:\n",
    "        Esta función recibe por parámetro una lista de palabras.\n",
    "\n",
    "        Devuelve un diccionario que tenga como claves cada una de las\n",
    "        palabras de la lista y como valor la cantidad de veces que aparece\n",
    "        esa palabra en la lista\n",
    "\n",
    "    Ejemplo:\n",
    "        Si lista_numeros = [\"Hola\", \"Hola\", \"Adios\"]\n",
    "        La función devuelve {\"Hola\": 2, \"Adios\": 1}\n",
    "    \"\"\"\n",
    "\n",
    "    # Escribe aquí tu código\n",
    "    \n",
    "    \n",
    "    # Escribe aquí tu código\n",
    "    \n",
    "    return # Escribe aquí tu código"
   ]
  },
  {
   "cell_type": "code",
   "execution_count": null,
   "metadata": {},
   "outputs": [],
   "source": [
    "calificador.califica_ejercicio_96(ejercicio_96, CORREO)"
   ]
  },
  {
   "cell_type": "code",
   "execution_count": null,
   "metadata": {},
   "outputs": [],
   "source": [
    "@Controlador(\"10\", \"ejercicio_97\")\n",
    "def ejercicio_97(lista_1, lista_2):\n",
    "    \"\"\"\n",
    "    Título: Elementos comunes.\n",
    "    \n",
    "    Instrucciones:\n",
    "        Esta función recibe por parámetro dos listas.\n",
    "\n",
    "        Devuelve una lista que contenga los elementos que\n",
    "        se encuentran en ambas listas.\n",
    "\n",
    "    Ejemplo:\n",
    "        Si lista_1 = [1,2,3]\n",
    "        y lista_2 = [2,3,4]\n",
    "        La función devuelve [2,3]\n",
    "\n",
    "    Restricciones:\n",
    "        Agregar solo una vez el elemento en común,\n",
    "        si al revisar vemos que aparece otra vez en \n",
    "        alguna de las listas no agregarlo. Por ejemplo:\n",
    "        Si lista_1 = [2,2,2,2] y lista_2 = [2,2,3]\n",
    "        la función debe devolver [2]\n",
    "\n",
    "    Nota:\n",
    "        Aunque es posible hacer esto usando conjuntos\n",
    "        resuelve el problema usando ciclos.\n",
    "    \"\"\"\n",
    "\n",
    "    # Escribe aquí tu código\n",
    "    \n",
    "    \n",
    "    # Escribe aquí tu código\n",
    "    \n",
    "    return # Escribe aquí tu código"
   ]
  },
  {
   "cell_type": "code",
   "execution_count": null,
   "metadata": {},
   "outputs": [],
   "source": [
    "calificador.califica_ejercicio_97(ejercicio_97, CORREO)"
   ]
  },
  {
   "cell_type": "code",
   "execution_count": null,
   "metadata": {},
   "outputs": [],
   "source": [
    "@Controlador(\"10\", \"ejercicio_98\")\n",
    "def ejercicio_98(diccionario):\n",
    "    \"\"\"\n",
    "    Título: Sumar valores de diccionario.\n",
    "\n",
    "    Instrucciones:\n",
    "        Esta función recibe por parámetro un diccionario en cuyos valores hay números.\n",
    "\n",
    "        Devuelve la suma total de cada uno de los valores del diccionario.\n",
    "\n",
    "    Ejemplo:\n",
    "        Si diccionario = {\"manzanas\": 3, \"platanos\": 2}\n",
    "        La función devuelve 5\n",
    "    \"\"\"\n",
    "\n",
    "    # Escribe aquí tu código\n",
    "    \n",
    "    \n",
    "    # Escribe aquí tu código\n",
    "    \n",
    "    return # Escribe aquí tu código"
   ]
  },
  {
   "cell_type": "code",
   "execution_count": null,
   "metadata": {},
   "outputs": [],
   "source": [
    "calificador.califica_ejercicio_98(ejercicio_98, CORREO)"
   ]
  },
  {
   "cell_type": "code",
   "execution_count": null,
   "metadata": {},
   "outputs": [],
   "source": [
    "@Controlador(\"10\", \"ejercicio_99\")\n",
    "def ejercicio_99(lista):\n",
    "    \"\"\"\n",
    "    Título: Separar números.\n",
    "    \n",
    "    Instrucciones:\n",
    "        Esta función recibe por parámetro una lista de cualquier tipo de dato.\n",
    "\n",
    "        Devuelve una tupla que contenga sólo los números enteros que sean mayores a 5\n",
    "        de la lista. La tupla resultante no debe tener elementos repetidos.\n",
    "\n",
    "    Ejemplo:\n",
    "        Si lista = [\"Hola\", [\"Hola\", \"Adios\"], 3, (19,), 5, 8]\n",
    "        La función devuelve (8,)\n",
    "    \"\"\"\n",
    "\n",
    "    # Escribe aquí tu código\n",
    "    \n",
    "    \n",
    "    # Escribe aquí tu código\n",
    "    \n",
    "    return # Escribe aquí tu código"
   ]
  },
  {
   "cell_type": "code",
   "execution_count": null,
   "metadata": {},
   "outputs": [],
   "source": [
    "calificador.califica_ejercicio_99(ejercicio_99, CORREO)"
   ]
  },
  {
   "cell_type": "code",
   "execution_count": null,
   "metadata": {},
   "outputs": [],
   "source": [
    "@Controlador(\"10\", \"ejercicio_100\")\n",
    "def ejercicio_100(n_asteriscos):\n",
    "    \"\"\"\n",
    "    Título: Cuadro de asteriscos.\n",
    "    \n",
    "    Instrucciones:\n",
    "        Esta función recibe por parámetro un número que representa \n",
    "        la longitud del lado de un cuadrado.\n",
    "\n",
    "        Devuelve una cadena de caracteres que crea un cuadrado con\n",
    "        el n_asteriscos por lado\n",
    "\n",
    "    Ejemplo:\n",
    "        Si n_asteriscos = 3\n",
    "        La función devuelve:\n",
    "        '***\n",
    "         ***\n",
    "         ***'\n",
    "\n",
    "    Nota: \n",
    "        El número de filas es igual al número de asteríscos.\n",
    "\n",
    "    Nota:\n",
    "        Es probable que aunque tu ejercicio se vea bien, el calificador\n",
    "        diga que está mal por exceso de espacios, usa la función trim\n",
    "        para quitar los espacios extras una vez hayas creado el cuadrado.\n",
    "    \"\"\"\n",
    "\n",
    "    # Escribe aquí tu código\n",
    "    \n",
    "    \n",
    "    # Escribe aquí tu código\n",
    "    \n",
    "    return # Escribe aquí tu código"
   ]
  },
  {
   "cell_type": "code",
   "execution_count": null,
   "metadata": {},
   "outputs": [],
   "source": [
    "calificador.califica_ejercicio_100(ejercicio_100, CORREO)"
   ]
  }
 ],
 "metadata": {
  "kernelspec": {
   "display_name": "infotec",
   "language": "python",
   "name": "python3"
  },
  "language_info": {
   "codemirror_mode": {
    "name": "ipython",
    "version": 3
   },
   "file_extension": ".py",
   "mimetype": "text/x-python",
   "name": "python",
   "nbconvert_exporter": "python",
   "pygments_lexer": "ipython3",
   "version": "3.11.5"
  }
 },
 "nbformat": 4,
 "nbformat_minor": 2
}
