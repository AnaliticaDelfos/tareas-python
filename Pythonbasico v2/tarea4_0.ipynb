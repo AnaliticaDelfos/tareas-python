{
 "cells": [
  {
   "cell_type": "code",
   "execution_count": null,
   "metadata": {},
   "outputs": [],
   "source": [
    "#\n",
    "#\n",
    "# EJECUTAR ESTA CELDA CADA VEZ QUE ENTRES A HACER LA TAREA\n",
    "#\n",
    "#\n",
    "\n",
    "#####################################\n",
    "#       Cadenas de caracteres parte 1\n",
    "#####################################\n",
    "\n",
    "\n",
    "import calificador\n",
    "from controlador import Controlador\n",
    "CORREO = \"estudiante@analiticadelfos.com\""
   ]
  },
  {
   "cell_type": "code",
   "execution_count": null,
   "metadata": {},
   "outputs": [],
   "source": [
    "@Controlador(\"4\", \"ejercicio_31\")\n",
    "def ejercicio_31(cadena):\n",
    "    \"\"\"\n",
    "    Título: Minúsculas\n",
    "\n",
    "    Instrucciones:\n",
    "        Esta función recibe una cadena de caracteres\n",
    "        y devuelve dicha cadena en minúsculas.\n",
    "        Usar el método lower de las cadenas de caracteres\n",
    "    \n",
    "    Ejemplo:\n",
    "        Si cadena = \"Hola Mundo\"\n",
    "        devuelve \"hola mundo\"\n",
    "\n",
    "    Recuerda:\n",
    "        Cuida la indentación.\n",
    "\n",
    "    \"\"\"\n",
    "\n",
    "    # Escribe aquí tu código\n",
    "    \n",
    "\n",
    "    # Escribe aquí tu código\n",
    "\n",
    "    return # Escribe aquí tu código"
   ]
  },
  {
   "cell_type": "code",
   "execution_count": null,
   "metadata": {},
   "outputs": [],
   "source": [
    "ejercicio_31(\"Hola Mundo\")"
   ]
  },
  {
   "cell_type": "code",
   "execution_count": null,
   "metadata": {},
   "outputs": [],
   "source": [
    "calificador.califica_ejercicio_31(ejercicio_31, CORREO)"
   ]
  },
  {
   "cell_type": "code",
   "execution_count": null,
   "metadata": {},
   "outputs": [],
   "source": [
    "@Controlador(\"4\", \"ejercicio_32\")\n",
    "def ejercicio_32(cadena):\n",
    "    \"\"\"\n",
    "    Título: Mayúsculas\n",
    "\n",
    "    Instrucciones:\n",
    "        Esta función recibe una cadena de caracteres\n",
    "        y devuelve dicha cadena en mayúsculas.\n",
    "        Usar el método upper de las cadenas de caracteres\n",
    "    \n",
    "    Ejemplo:\n",
    "        Si cadena = \"Hola Mundo\"\n",
    "        devuelve \"HOLA MUNDO\"\n",
    "\n",
    "    Recuerda:\n",
    "        Cuida la indentación.\n",
    "\n",
    "    \"\"\"\n",
    "\n",
    "    # Escribe aquí tu código\n",
    "    \n",
    "\n",
    "    # Escribe aquí tu código\n",
    "\n",
    "    return # Escribe aquí tu código"
   ]
  },
  {
   "cell_type": "code",
   "execution_count": null,
   "metadata": {},
   "outputs": [],
   "source": [
    "ejercicio_32(\"Hola Mundo\")"
   ]
  },
  {
   "cell_type": "code",
   "execution_count": null,
   "metadata": {},
   "outputs": [],
   "source": [
    "calificador.califica_ejercicio_32(ejercicio_32, CORREO)"
   ]
  },
  {
   "cell_type": "code",
   "execution_count": null,
   "metadata": {},
   "outputs": [],
   "source": [
    "@Controlador(\"4\", \"ejercicio_33\")\n",
    "def ejercicio_33(cadena, caracter):\n",
    "    \"\"\"\n",
    "    Título: Encontrar índice\n",
    "\n",
    "    Instrucciones:\n",
    "        Esta función recibe una cadena de caracteres\n",
    "        y un caracter a buscar en dicha cadena.\n",
    "        Devuelve el índice donde se encuentra la primera vez el\n",
    "        caracter en la cadena de caracteres.\n",
    "        Usar la función index de las cadenas de caracteres.\n",
    "    \n",
    "    Ejemplo:\n",
    "        Si cadena = \"Hola Mundo\"\n",
    "        y caracter = \"a\"\n",
    "        devuelve 3\n",
    "\n",
    "    Recuerda:\n",
    "        Cuida la indentación.\n",
    "\n",
    "    \"\"\"\n",
    "\n",
    "    # Escribe aquí tu código\n",
    "    \n",
    "\n",
    "    # Escribe aquí tu código\n",
    "\n",
    "    return # Escribe aquí tu código"
   ]
  },
  {
   "cell_type": "code",
   "execution_count": null,
   "metadata": {},
   "outputs": [],
   "source": [
    "ejercicio_33(\"Hola Mundo\", \"a\")"
   ]
  },
  {
   "cell_type": "code",
   "execution_count": null,
   "metadata": {},
   "outputs": [],
   "source": [
    "calificador.califica_ejercicio_33(ejercicio_33, CORREO)"
   ]
  },
  {
   "cell_type": "code",
   "execution_count": null,
   "metadata": {},
   "outputs": [],
   "source": [
    "@Controlador(\"4\", \"ejercicio_34\")\n",
    "def ejercicio_34(nombre):\n",
    "    \"\"\"\n",
    "    Título: Interpolación de strings 1\n",
    "    \n",
    "    Instrucciones:\n",
    "        Esta función recibe el nombre de una persona\n",
    "        y regresa la cadena de caracteres 'Saludos: <<nombre de la persona>>'\n",
    "        donde <<nombre de la persona>> debe sustituirse por el nombre que llega a la\n",
    "        función.\n",
    "    \n",
    "    Ejemplo:\n",
    "        Si nombre = \"Juan\"\n",
    "        devuelve 'Saludos: Juan'\n",
    "\n",
    "    Recuerda:\n",
    "        Lo que la función \"regresa\" va justo después\n",
    "        de la palabra return\n",
    "\n",
    "    Recuerda:\n",
    "        Cuida la indentación.\n",
    "\n",
    "    Recuerda:\n",
    "        Para usar una variable dentro de una cadena de caracteres puedes\n",
    "        usar las llaves {} y dentro de las llaves poner aquella variable que\n",
    "        desees se use en ese lugar. Por ejemplo: f\"Tu edad es: {edad_de_usuario}\"\n",
    "        usa la variable edad_de_usauario y evalua su valor dentro de la \n",
    "        cadena de caracteres.\n",
    "        Nota cómo se antepone la f a la cadena de caracteres.\n",
    "        Aunque puedes usar el operador + para concatenar cadenas de caracteres\n",
    "        se recomienda el uso de {}. \n",
    "    \"\"\"\n",
    "\n",
    "    # Escribe aquí tu código\n",
    "    \n",
    "\n",
    "    # Escribe aquí tu código\n",
    "\n",
    "    return f\"Saludos: {nombre}\"# Escribe aquí tu código"
   ]
  },
  {
   "cell_type": "code",
   "execution_count": null,
   "metadata": {},
   "outputs": [],
   "source": [
    "ejercicio_34(\"Juan\")"
   ]
  },
  {
   "cell_type": "code",
   "execution_count": null,
   "metadata": {},
   "outputs": [],
   "source": [
    "calificador.califica_ejercicio_34(ejercicio_34, CORREO)"
   ]
  },
  {
   "cell_type": "code",
   "execution_count": null,
   "metadata": {},
   "outputs": [],
   "source": [
    "@Controlador(\"4\", \"ejercicio_35\")\n",
    "def ejercicio_35(objeto):\n",
    "    \"\"\"\n",
    "    Título: Interpolación de strings 2\n",
    "\n",
    "    Instrucciones:\n",
    "        Esta función recibe una variable con un tipo de dato\n",
    "        desconocido y regresa la cadena de caracteres:\n",
    "        'El tipo de dato de la variable es: <<tipo de dato>>'\n",
    "        donde <<tipo de dato>> se debe sustituir por el tipo \n",
    "        de dato de la variable.\n",
    "    \n",
    "    Ejemplo:\n",
    "        Si objeto = 2\n",
    "        devuelve \"El tipo de dato de la variable es: <class 'int'>\"\n",
    "\n",
    "        Otro ejemplo\n",
    "\n",
    "        Si objeto = '2'\n",
    "        devuelve \"El tipo de dato de la variable es: <class 'str'>\"\n",
    "\n",
    "    Recuerda:\n",
    "        Cuida la indentación.\n",
    "\n",
    "    Recuerda:\n",
    "        La función type te dice cuál es el tipo de dato de un objeto.\n",
    "\n",
    "    \"\"\"\n",
    "\n",
    "    # Escribe aquí tu código\n",
    "    \n",
    "\n",
    "    # Escribe aquí tu código\n",
    "\n",
    "    return # Escribe aquí tu código"
   ]
  },
  {
   "cell_type": "code",
   "execution_count": null,
   "metadata": {},
   "outputs": [],
   "source": [
    "ejercicio_35(2)"
   ]
  },
  {
   "cell_type": "code",
   "execution_count": null,
   "metadata": {},
   "outputs": [],
   "source": [
    "calificador.califica_ejercicio_35(ejercicio_35, CORREO)"
   ]
  },
  {
   "cell_type": "code",
   "execution_count": null,
   "metadata": {},
   "outputs": [],
   "source": [
    "@Controlador(\"4\", \"ejercicio_36\")\n",
    "def ejercicio_36(nacionalidad, edad, estatura):\n",
    "    \"\"\"\n",
    "    Título: Interpolación de strings 3\n",
    "\n",
    "    Instrucciones:\n",
    "        Esta función recibe la nacionalidad, edad y estatura de una\n",
    "        persona y devuelve la cadena de caracteres:\n",
    "        \"Usuario de: <<nacionalidad>> con edad <<edad>> y estatura <<estatura>>\"\n",
    "        donde <<nacionalidad>>, <<edad>>, <<estatura>> se sustituyen\n",
    "        con sus valores correspondientes.\n",
    "\n",
    "\n",
    "    Ejemplo:\n",
    "        Si nacionalidad = \"Mexicana\",\n",
    "        edad = 28\n",
    "        y\n",
    "        estatura = 1.60\n",
    "        devuelve 'Usuario de: Mexicana con edad 28 y estatura 1.6'\n",
    "\n",
    "    Recuerda:\n",
    "        Cuida la indentación.\n",
    "\n",
    "    \"\"\"\n",
    "\n",
    "    # Escribe aquí tu código\n",
    "    \n",
    "\n",
    "    # Escribe aquí tu código\n",
    "\n",
    "    return f\"Usuario de: {nacionalidad} con edad {edad} y estatura {estatura}\"# Escribe aquí tu código"
   ]
  },
  {
   "cell_type": "code",
   "execution_count": null,
   "metadata": {},
   "outputs": [],
   "source": [
    "ejercicio_36(\"Mexicana\", 28, 1.60)"
   ]
  },
  {
   "cell_type": "code",
   "execution_count": null,
   "metadata": {},
   "outputs": [],
   "source": [
    "calificador.califica_ejercicio_36(ejercicio_36, CORREO)"
   ]
  },
  {
   "cell_type": "code",
   "execution_count": null,
   "metadata": {},
   "outputs": [],
   "source": [
    "@Controlador(\"4\", \"ejercicio_37\")\n",
    "def ejercicio_37(correo):\n",
    "    \"\"\"\n",
    "    Título: Limpiar correo\n",
    "\n",
    "    Instrucciones:\n",
    "        Esta función recibe un correo y devuelve ese mismo correo\n",
    "        pero todo en minúsculas y sin espacios a los lados.\n",
    "        Este proceso es particularmente útil al momento de revisar\n",
    "        si la información que envió un usuario al llenar un formulario\n",
    "        tiene un formato adecuado, uno de los errores más comunes\n",
    "        es que el usuario, al ingresar el correo, ponga un espacio al final\n",
    "        o al inicio o que inicie el correo con mayúscula.\n",
    "    \n",
    "    Ejemplo:\n",
    "        Si correo = \"Estudiante@analiticadelfos.com \"\n",
    "        devuelve \"estudiante@analiticadelfos.com\"\n",
    "\n",
    "    Recuerda:\n",
    "        Cuida la indentación.\n",
    "\n",
    "    Consejo:\n",
    "        El método strip quita los espacios en blanco de ambos extremos \n",
    "        de una cadena de caracteres\n",
    "    \"\"\"\n",
    "\n",
    "    # Escribe aquí tu código\n",
    "    \n",
    "\n",
    "    # Escribe aquí tu código\n",
    "\n",
    "    return # Escribe aquí tu código"
   ]
  },
  {
   "cell_type": "code",
   "execution_count": null,
   "metadata": {},
   "outputs": [],
   "source": [
    "ejercicio_37(\"Estudiante@analiticadelfos.com \")"
   ]
  },
  {
   "cell_type": "code",
   "execution_count": null,
   "metadata": {},
   "outputs": [],
   "source": [
    "calificador.califica_ejercicio_37(ejercicio_37, CORREO)"
   ]
  },
  {
   "cell_type": "code",
   "execution_count": null,
   "metadata": {},
   "outputs": [],
   "source": [
    "@Controlador(\"4\", \"ejercicio_38\")\n",
    "def ejercicio_38(cadena_original, caracter_a_reemplazar, caracter_nuevo):\n",
    "    \"\"\"\n",
    "    Título: Sustituyendo caracteres\n",
    "\n",
    "    Instrucciones:\n",
    "        Esta función recibe una cadena de caracteres, un caracter que vamos\n",
    "        a identificar para ser reemplazado y un caracter nuevo que es con el que\n",
    "        vamos a reemplazar al caracter a reemplazar.\n",
    "\n",
    "    Restricciones:\n",
    "        Transforma en minúsculas la cadena original.\n",
    "        Reemplaza todas las coincidencias\n",
    "    \n",
    "    Ejemplo:\n",
    "        Si cadena_original = \"hola mundo\"\n",
    "        caracter_a_reemplazar = \"a\"\n",
    "        caracter_nuevo = \"o\"\n",
    "        devuelve \"holo mundo\"\n",
    "\n",
    "    Recuerda:\n",
    "        Cuida la indentación.\n",
    "\n",
    "    Consejo:\n",
    "        Usa la función replace de las cadenas de caracteres.\n",
    "\n",
    "    \"\"\"\n",
    "\n",
    "    # Escribe aquí tu código\n",
    "    \n",
    "\n",
    "    # Escribe aquí tu código\n",
    "\n",
    "    return # Escribe aquí tu código"
   ]
  },
  {
   "cell_type": "code",
   "execution_count": null,
   "metadata": {},
   "outputs": [],
   "source": [
    "ejercicio_38(\"hola mundo\", \"a\", \"o\")"
   ]
  },
  {
   "cell_type": "code",
   "execution_count": null,
   "metadata": {},
   "outputs": [],
   "source": [
    "calificador.califica_ejercicio_38(ejercicio_38, CORREO)"
   ]
  },
  {
   "cell_type": "code",
   "execution_count": null,
   "metadata": {},
   "outputs": [],
   "source": [
    "@Controlador(\"4\", \"ejercicio_39\")\n",
    "def ejercicio_39(cadena_de_caracteres):\n",
    "    \"\"\"\n",
    "    Instrucciones:\n",
    "        Esta función recibe una cadena de caracteres y \n",
    "        devuelve la misma cadena de caracteres pero reemplazando todas\n",
    "        las vocales con acentos por su equivalente sin acentos.\n",
    "    \n",
    "    Ejemplo:\n",
    "        Si cadena_de_caracteres = \"ÁéÍóú\"\n",
    "        devuelve \"aeiou\"\n",
    "\n",
    "    Restricciones:\n",
    "        Transforma en minúsculas la cadena original.\n",
    "        Reemplaza todas las coincidencias.\n",
    "    \n",
    "    Recuerda:\n",
    "        Cuida la indentación.\n",
    "\n",
    "    \"\"\"\n",
    "\n",
    "    # Escribe aquí tu código\n",
    "    cadena = cadena_de_caracteres.lower()\n",
    "    cadena = cadena.replace(\"á\", \"a\")\n",
    "    cadena = cadena.replace(\"é\", \"e\")\n",
    "    cadena = cadena.replace(\"í\", \"i\")\n",
    "    cadena = cadena.replace(\"ó\", \"o\")\n",
    "    cadena = cadena.replace(\"ú\", \"u\")\n",
    "\n",
    "    # Escribe aquí tu código\n",
    "\n",
    "    return cadena# Escribe aquí tu código"
   ]
  },
  {
   "cell_type": "code",
   "execution_count": null,
   "metadata": {},
   "outputs": [],
   "source": [
    "ejercicio_39(\"Papá\")"
   ]
  },
  {
   "cell_type": "code",
   "execution_count": null,
   "metadata": {},
   "outputs": [],
   "source": [
    "calificador.califica_ejercicio_39(ejercicio_39, CORREO)"
   ]
  },
  {
   "cell_type": "code",
   "execution_count": null,
   "metadata": {},
   "outputs": [],
   "source": [
    "@Controlador(\"4\", \"ejercicio_40\")\n",
    "def ejercicio_40(correo):\n",
    "    \"\"\"\n",
    "    Instrucciones:\n",
    "        Se te da la tarea de guardar los correos de las personas\n",
    "        que usan un cierto sistema, pero te das cuenta\n",
    "        que las personas a veces agregan un espacio al final\n",
    "        o usan puras mayúsculas, usaron acentos y además, resulta que\n",
    "        particularmente los correos de gmail los escribieron\n",
    "        como gmmail.\n",
    "        Esta función recibe un correo, le quita los espacios a las\n",
    "        orillas, lo convierte a minúsculas, quita los acentos,\n",
    "        arregla el error de gmail y devuelve la cadena resultante.\n",
    "\n",
    "    Ejemplo:\n",
    "        Si la función recibe\n",
    "        correo = \"LópezPérez@GMMAIL.com \"\n",
    "        La función devuelve lopezperez@gmail.com.\n",
    "\n",
    "    Recuerda:\n",
    "        Cuida la indentación.\n",
    "        \n",
    "    \"\"\"\n",
    "\n",
    "    # Escribe aquí tu código\n",
    "\n",
    "    # Escribe aquí tu código\n",
    "\n",
    "    return # Escribe aquí tu código"
   ]
  },
  {
   "cell_type": "code",
   "execution_count": null,
   "metadata": {},
   "outputs": [],
   "source": [
    "ejercicio_40(\"LópezPérez@GMMAIL.com \")"
   ]
  },
  {
   "cell_type": "code",
   "execution_count": null,
   "metadata": {},
   "outputs": [],
   "source": [
    "calificador.califica_ejercicio_40(ejercicio_40, CORREO)"
   ]
  }
 ],
 "metadata": {
  "kernelspec": {
   "display_name": "infotec",
   "language": "python",
   "name": "python3"
  },
  "language_info": {
   "codemirror_mode": {
    "name": "ipython",
    "version": 3
   },
   "file_extension": ".py",
   "mimetype": "text/x-python",
   "name": "python",
   "nbconvert_exporter": "python",
   "pygments_lexer": "ipython3",
   "version": "3.11.5"
  }
 },
 "nbformat": 4,
 "nbformat_minor": 2
}
