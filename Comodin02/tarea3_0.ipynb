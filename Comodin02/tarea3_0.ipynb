{
 "cells": [
  {
   "cell_type": "code",
   "execution_count": null,
   "metadata": {},
   "outputs": [],
   "source": [
    "#\n",
    "#\n",
    "# EJECUTAR ESTA CELDA CADA VEZ QUE ENTRES A HACER LA TAREA\n",
    "#\n",
    "#\n",
    "\n",
    "#####################################\n",
    "# Módulo Math\n",
    "#####################################\n",
    "\n",
    "\n",
    "import calificador\n",
    "from controlador import Controlador\n",
    "import math"
   ]
  },
  {
   "cell_type": "code",
   "execution_count": null,
   "metadata": {},
   "outputs": [],
   "source": [
    "@Controlador(\"3\", \"ejercicio_21\")\n",
    "def ejercicio_21(x):\n",
    "    \"\"\"\n",
    "    Instrucciones:\n",
    "        La función \"ejercicio_21\" toma el parámetro \"x\" y\n",
    "        debe regresar el logaritmo base 10 de dicho parámetro.\n",
    "    \n",
    "    Condiciones:\n",
    "        Utilizar la función log10() del módulo math para \n",
    "        obtener el logaritmo base 10 de x.\n",
    "        No es necesario importar el módulo en cada\n",
    "        ejercicio, éste ya fue importado en el primer\n",
    "        bloque de código con el calificador.\n",
    "    \n",
    "    Ejemplo:\n",
    "        Si x=5 la función regresa 0.6989\n",
    "        math.log10(5) = 0.6989\n",
    "\n",
    "    Recuerda:\n",
    "        Lo que la función \"regresa\" es justo lo que\n",
    "        va después de la palabra reservada \"return\".\n",
    "        \n",
    "        Cuida la indentación.\n",
    "    \"\"\"\n",
    "\n",
    "    # Escribe aquí tu código ↓\n",
    "    \n",
    "\n",
    "    # Escribe aquí tu código ↑\n",
    "\n",
    "    return # ← Escribe aquí tu código"
   ]
  },
  {
   "cell_type": "code",
   "execution_count": null,
   "metadata": {},
   "outputs": [],
   "source": [
    "ejercicio_21(1)"
   ]
  },
  {
   "cell_type": "code",
   "execution_count": null,
   "metadata": {},
   "outputs": [],
   "source": [
    "calificador.califica_ejercicio_21(ejercicio_21)"
   ]
  },
  {
   "cell_type": "code",
   "execution_count": null,
   "metadata": {},
   "outputs": [],
   "source": [
    "@Controlador(\"3\", \"ejercicio_22\")\n",
    "def ejercicio_22(x):\n",
    "    \"\"\"\n",
    "    Instrucciones:\n",
    "        La función \"ejercicio_22\" toma el parámetro \"x\" y\n",
    "        debe regresar el logaritmo base 2 de dicho parámetro.\n",
    "    \n",
    "    Condiciones:\n",
    "        Utilizar la función log2() del módulo math para \n",
    "        obtener el logaritmo base 2 de x.\n",
    "        No es necesario importar el módulo en cada\n",
    "        ejercicio, éste ya fue importado en el primer\n",
    "        bloque de código con el calificador.\n",
    "    \n",
    "    Ejemplo:\n",
    "        Si x=1 la función regresa 0.0\n",
    "        math.log2(1) = 0.0\n",
    "\n",
    "    Recuerda:\n",
    "        Lo que la función \"regresa\" es justo lo que\n",
    "        va después de la palabra reservada \"return\".\n",
    "        \n",
    "        Cuida la indentación.\n",
    "    \"\"\"\n",
    "\n",
    "    # Escribe aquí tu código ↓\n",
    "    \n",
    "\n",
    "    # Escribe aquí tu código ↑\n",
    "\n",
    "    return # ← Escribe aquí tu código"
   ]
  },
  {
   "cell_type": "code",
   "execution_count": null,
   "metadata": {},
   "outputs": [],
   "source": [
    "ejercicio_22(5)"
   ]
  },
  {
   "cell_type": "code",
   "execution_count": null,
   "metadata": {},
   "outputs": [],
   "source": [
    "calificador.califica_ejercicio_22(ejercicio_22)"
   ]
  },
  {
   "cell_type": "code",
   "execution_count": null,
   "metadata": {},
   "outputs": [],
   "source": [
    "@Controlador(\"3\", \"ejercicio_23\")\n",
    "def ejercicio_23(x):\n",
    "    \"\"\"\n",
    "    Instrucciones: \n",
    "        La función \"ejercicio_23\" toma el parámetro \"x\" y \n",
    "        debe regresar el arcocoseno de dicho parámetro.\n",
    "    \n",
    "    Condiciones: \n",
    "        Utilizar la función acos() del módulo math la cual\n",
    "        regresa el arcocoseno de x en radianes; el resultado \n",
    "        está entre 0 y pi.\n",
    "        No es necesario importar el módulo en cada\n",
    "        ejercicio, éste ya fue importado en el primer\n",
    "        bloque de código con el calificador.\n",
    "\n",
    "    Ejemplo:\n",
    "        Si x=0 la función regresa 1.57079:\n",
    "        math.acos(0) = 1.57079\n",
    "    \n",
    "    Recuerda:\n",
    "        Lo que la función \"regresa\" es justo lo que\n",
    "        va después de la palabra reservada \"return\".\n",
    "        \n",
    "        Cuida la indentación.\n",
    "    \"\"\"\n",
    "\n",
    "    # Escribe aquí tu código ↓\n",
    "    \n",
    "\n",
    "    # Escribe aquí tu código ↑\n",
    "\n",
    "    return # ← Escribe aquí tu código"
   ]
  },
  {
   "cell_type": "code",
   "execution_count": null,
   "metadata": {},
   "outputs": [],
   "source": [
    "ejercicio_23(1)"
   ]
  },
  {
   "cell_type": "code",
   "execution_count": null,
   "metadata": {},
   "outputs": [],
   "source": [
    "calificador.califica_ejercicio_23(ejercicio_23)"
   ]
  },
  {
   "cell_type": "code",
   "execution_count": null,
   "metadata": {},
   "outputs": [],
   "source": [
    "@Controlador(\"3\", \"ejercicio_24\")\n",
    "def ejercicio_24(x):\n",
    "    \"\"\"\n",
    "    Instrucciones: \n",
    "        La función \"ejercicio_24\" toma el parámetro \"x\" y \n",
    "        debe regresar el arcoseno de dicho parámetro.\n",
    "    \n",
    "    Condiciones: \n",
    "        Utilizar la función asin() del módulo math la cual\n",
    "        regresa el arcoseno de x en radianes; el resultado \n",
    "        está entre -pi/2 y pi/2.\n",
    "        No es necesario importar el módulo en cada\n",
    "        ejercicio, éste ya fue importado en el primer\n",
    "        bloque de código con el calificador.\n",
    "\n",
    "    Ejemplo:\n",
    "        Si x=-1 la función regresa -1.5707:\n",
    "        math.asin(7) = -1.5707\n",
    "    \n",
    "    Recuerda:\n",
    "        Lo que la función \"regresa\" es justo lo que\n",
    "        va después de la palabra reservada \"return\".\n",
    "        \n",
    "        Cuida la indentación.\n",
    "    \"\"\"\n",
    "\n",
    "    # Escribe aquí tu código ↓\n",
    "    \n",
    "\n",
    "    # Escribe aquí tu código ↑\n",
    "\n",
    "    return # ← Escribe aquí tu código"
   ]
  },
  {
   "cell_type": "code",
   "execution_count": null,
   "metadata": {},
   "outputs": [],
   "source": [
    "ejercicio_24(0)"
   ]
  },
  {
   "cell_type": "code",
   "execution_count": null,
   "metadata": {},
   "outputs": [],
   "source": [
    "calificador.califica_ejercicio_24(ejercicio_24)"
   ]
  },
  {
   "cell_type": "code",
   "execution_count": null,
   "metadata": {},
   "outputs": [],
   "source": [
    "@Controlador(\"3\", \"ejercicio_25\")\n",
    "def ejercicio_25(x):\n",
    "    \"\"\"\n",
    "    Instrucciones: \n",
    "        La función \"ejercicio_25\" toma el parámetro \"x\" y \n",
    "        debe regresar el arcotangente de dicho parámetro.\n",
    "    \n",
    "    Condiciones: \n",
    "        Utilizar la función atan() del módulo math la cual\n",
    "        regresa el arcotangente de x en radianes; el resultado \n",
    "        está entre -pi/2 y pi/2.\n",
    "        No es necesario importar el módulo en cada\n",
    "        ejercicio, éste ya fue importado en el primer\n",
    "        bloque de código con el calificador.\n",
    "\n",
    "    Ejemplo:\n",
    "        Si x=1 la función regresa 0.78539:\n",
    "        math.atan(1) = 0.78539\n",
    "    \n",
    "    Recuerda:\n",
    "        Lo que la función \"regresa\" es justo lo que\n",
    "        va después de la palabra reservada \"return\".\n",
    "        \n",
    "        Cuida la indentación.\n",
    "    \"\"\"\n",
    "\n",
    "    # Escribe aquí tu código ↓\n",
    "    \n",
    "\n",
    "    # Escribe aquí tu código ↑\n",
    "\n",
    "    return # ← Escribe aquí tu código"
   ]
  },
  {
   "cell_type": "code",
   "execution_count": null,
   "metadata": {},
   "outputs": [],
   "source": [
    "ejercicio_25(-1)"
   ]
  },
  {
   "cell_type": "code",
   "execution_count": null,
   "metadata": {},
   "outputs": [],
   "source": [
    "calificador.califica_ejercicio_25(ejercicio_25)"
   ]
  },
  {
   "cell_type": "code",
   "execution_count": null,
   "metadata": {},
   "outputs": [],
   "source": [
    "@Controlador(\"3\", \"ejercicio_26\")\n",
    "def ejercicio_26(x, y):\n",
    "    \"\"\"\n",
    "    Instrucciones: \n",
    "        La función \"ejercicio_26\" toma el parámetro \"x\", \"y\"\n",
    "        y regresa el equivalente de calcular la hipotenusa de \n",
    "        un triángulo rectángulo usando el teorema de Pitágoras:\n",
    "        sqrt(x*x + y*y). \n",
    "    \n",
    "    Condiciones: \n",
    "        Utilizar la función hypot() del módulo math la cual\n",
    "        regresa para un punto bidimensional (x, y) el equivalente\n",
    "        a calcular la hipotenusa de un triángulo rectángulo usando\n",
    "        el  teorema de Pitágoras\n",
    "        No es necesario importar el módulo en cada\n",
    "        ejercicio, éste ya fue importado en el primer\n",
    "        bloque de código con el calificador.\n",
    "\n",
    "    Ejemplo:\n",
    "        Si x=3 y y=5 la función regresa 5.830951:\n",
    "        math.hypot(3,5) = 5.830951\n",
    "    \n",
    "    Recuerda:\n",
    "        Lo que la función \"regresa\" es justo lo que\n",
    "        va después de la palabra reservada \"return\".\n",
    "        \n",
    "        Cuida la indentación.\n",
    "    \"\"\"\n",
    "\n",
    "    # Escribe aquí tu código ↓\n",
    "    \n",
    "\n",
    "    # Escribe aquí tu código ↑\n",
    "\n",
    "    return # ← Escribe aquí tu código"
   ]
  },
  {
   "cell_type": "code",
   "execution_count": null,
   "metadata": {},
   "outputs": [],
   "source": [
    "ejercicio_26(6, 3)"
   ]
  },
  {
   "cell_type": "code",
   "execution_count": null,
   "metadata": {},
   "outputs": [],
   "source": [
    "calificador.califica_ejercicio_26(ejercicio_26)"
   ]
  },
  {
   "cell_type": "code",
   "execution_count": null,
   "metadata": {},
   "outputs": [],
   "source": [
    "@Controlador(\"3\", \"ejercicio_27\")\n",
    "def ejercicio_27(x):\n",
    "    \"\"\"\n",
    "    Instrucciones: \n",
    "        La función \"ejercicio_27\" toma el parámetro \"x\" y debe \n",
    "        regresar el resultado de elevar la constante matemática\n",
    "        \"e\" a la potencia de dicho parámetro menos uno. \n",
    "    \n",
    "    Condiciones: \n",
    "        Utilizar la función expm1() del módulo math la cual\n",
    "        regresa \"e\" elevado a la x potencia menos 1. Donde \"e\" \n",
    "        es la base de los logaritmos naturales. \n",
    "        No es necesario importar el módulo en cada ejercicio, \n",
    "        éste ya fue importado en el primer bloque de código con \n",
    "        el calificador.\n",
    "\n",
    "    Ejemplo:\n",
    "        Si x=10 la función regresa 22025.4657:\n",
    "        math.expm1(10) = 22025.4657\n",
    "    \n",
    "    Recuerda:\n",
    "        Lo que la función \"regresa\" es justo lo que\n",
    "        va después de la palabra reservada \"return\".\n",
    "        \n",
    "        Cuida la indentación.\n",
    "    \"\"\"\n",
    "\n",
    "    # Escribe aquí tu código ↓\n",
    "    \n",
    "\n",
    "    # Escribe aquí tu código ↑\n",
    "\n",
    "    return # ← Escribe aquí tu código"
   ]
  },
  {
   "cell_type": "code",
   "execution_count": null,
   "metadata": {},
   "outputs": [],
   "source": [
    "ejercicio_27(1)"
   ]
  },
  {
   "cell_type": "code",
   "execution_count": null,
   "metadata": {},
   "outputs": [],
   "source": [
    "calificador.califica_ejercicio_27(ejercicio_27)"
   ]
  },
  {
   "cell_type": "code",
   "execution_count": null,
   "metadata": {},
   "outputs": [],
   "source": [
    "@Controlador(\"3\", \"ejercicio_28\")\n",
    "def ejercicio_28(x):\n",
    "    \"\"\"\n",
    "     Instrucciones: \n",
    "        La función \"ejercicio_28\" toma el parámetro \"x\" y \n",
    "        debe regresar el coseno hiperbólico de dicho parámetro.\n",
    "    \n",
    "    Condiciones: \n",
    "        Utilizar la función cosh() del módulo math la cual\n",
    "        regresa el coseno hiperbólico de x.\n",
    "        No es necesario importar el módulo en cada\n",
    "        ejercicio, éste ya fue importado en el primer\n",
    "        bloque de código con el calificador.\n",
    "\n",
    "    Ejemplo:\n",
    "        Si x=3 la función regresa 10.06766:\n",
    "        math.cosh(3) = 10.06766\n",
    "    \n",
    "    Recuerda:\n",
    "        Lo que la función \"regresa\" es justo lo que\n",
    "        va después de la palabra reservada \"return\".\n",
    "        \n",
    "        Cuida la indentación.\n",
    "    \"\"\"\n",
    "\n",
    "    # Escribe aquí tu código ↓\n",
    "    \n",
    "\n",
    "    # Escribe aquí tu código ↑\n",
    "\n",
    "    return # ← Escribe aquí tu código"
   ]
  },
  {
   "cell_type": "code",
   "execution_count": null,
   "metadata": {},
   "outputs": [],
   "source": [
    "ejercicio_28(8)"
   ]
  },
  {
   "cell_type": "code",
   "execution_count": null,
   "metadata": {},
   "outputs": [],
   "source": [
    "calificador.califica_ejercicio_28(ejercicio_28)"
   ]
  },
  {
   "cell_type": "code",
   "execution_count": null,
   "metadata": {},
   "outputs": [],
   "source": [
    "@Controlador(\"3\", \"ejercicio_29\")\n",
    "def ejercicio_29(x):\n",
    "    \"\"\"\n",
    "     Instrucciones: \n",
    "        La función \"ejercicio_29\" toma el parámetro \"x\" y \n",
    "        debe regresar el seno hiperbólico de dicho parámetro.\n",
    "    \n",
    "    Condiciones: \n",
    "        Utilizar la función sinh() del módulo math la cual\n",
    "        regresa el seno hiperbólico de x.\n",
    "        No es necesario importar el módulo en cada\n",
    "        ejercicio, éste ya fue importado en el primer\n",
    "        bloque de código con el calificador.\n",
    "\n",
    "    Ejemplo:\n",
    "        Si x=1 la función regresa 1.17520:\n",
    "        math.sinh(1) = 1.17520\n",
    "    \n",
    "    Recuerda:\n",
    "        Lo que la función \"regresa\" es justo lo que\n",
    "        va después de la palabra reservada \"return\".\n",
    "        \n",
    "        Cuida la indentación.\n",
    "    \"\"\"\n",
    "\n",
    "    # Escribe aquí tu código ↓\n",
    "\n",
    "\n",
    "    # Escribe aquí tu código ↑\n",
    "\n",
    "    return # ← Escribe aquí tu código"
   ]
  },
  {
   "cell_type": "code",
   "execution_count": null,
   "metadata": {},
   "outputs": [],
   "source": [
    "ejercicio_29(100)"
   ]
  },
  {
   "cell_type": "code",
   "execution_count": null,
   "metadata": {},
   "outputs": [],
   "source": [
    "calificador.califica_ejercicio_29(ejercicio_29)"
   ]
  },
  {
   "cell_type": "code",
   "execution_count": null,
   "metadata": {},
   "outputs": [],
   "source": [
    "@Controlador(\"3\", \"ejercicio_30\")\n",
    "def ejercicio_30(x):\n",
    "    \"\"\"\n",
    "    Instrucciones: \n",
    "        La función \"ejercicio_30\" toma el parámetro \"x\" y \n",
    "        debe regresar la tangente hiperbólica de dicho parámetro.\n",
    "    \n",
    "    Condiciones: \n",
    "        Utilizar la función tanh() del módulo math la cual\n",
    "        regresa la tangente hiperbólica de x.\n",
    "        No es necesario importar el módulo en cada\n",
    "        ejercicio, éste ya fue importado en el primer\n",
    "        bloque de código con el calificador.\n",
    "\n",
    "    Ejemplo:\n",
    "        Si x=10 la función regresa 0.99999:\n",
    "        math.tanh(10) = 0.99999\n",
    "    \n",
    "    Recuerda:\n",
    "        Lo que la función \"regresa\" es justo lo que\n",
    "        va después de la palabra reservada \"return\".\n",
    "        \n",
    "        Cuida la indentación. \n",
    "    \"\"\"\n",
    "\n",
    "    # Escribe aquí tu código ↓\n",
    "\n",
    "\n",
    "    # Escribe aquí tu código ↑\n",
    "\n",
    "    return # ← Escribe aquí tu código"
   ]
  },
  {
   "cell_type": "code",
   "execution_count": null,
   "metadata": {},
   "outputs": [],
   "source": [
    "ejercicio_30(4)"
   ]
  },
  {
   "cell_type": "code",
   "execution_count": null,
   "metadata": {},
   "outputs": [],
   "source": [
    "calificador.califica_ejercicio_30(ejercicio_30)"
   ]
  }
 ],
 "metadata": {
  "kernelspec": {
   "display_name": "infotec",
   "language": "python",
   "name": "python3"
  },
  "language_info": {
   "codemirror_mode": {
    "name": "ipython",
    "version": 3
   },
   "file_extension": ".py",
   "mimetype": "text/x-python",
   "name": "python",
   "nbconvert_exporter": "python",
   "pygments_lexer": "ipython3",
   "version": "3.12.2"
  }
 },
 "nbformat": 4,
 "nbformat_minor": 2
}
