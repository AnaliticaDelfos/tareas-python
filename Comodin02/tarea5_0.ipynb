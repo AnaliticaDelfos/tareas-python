{
 "cells": [
  {
   "cell_type": "code",
   "execution_count": 1,
   "metadata": {},
   "outputs": [],
   "source": [
    "#\n",
    "#\n",
    "# EJECUTAR ESTA CELDA CADA VEZ QUE ENTRES A HACER LA TAREA\n",
    "#\n",
    "#\n",
    "\n",
    "#####################################\n",
    "# Conversiones\n",
    "#####################################\n",
    "\n",
    "\n",
    "import calificador\n",
    "from controlador import Controlador"
   ]
  },
  {
   "cell_type": "code",
   "execution_count": 2,
   "metadata": {},
   "outputs": [],
   "source": [
    "@Controlador(\"5\", \"ejercicio_41\")\n",
    "def ejercicio_41(int):\n",
    "    \"\"\"\n",
    "    Instrucciones:\n",
    "        La función \"ejercicio_41\" toma el parámetro \"int\" y,\n",
    "        debe regresar una cadena de caracteres que representa\n",
    "        el carácter al que corresponde este número en Unicode.\n",
    "\n",
    "    Condiciones:\n",
    "        El tipo de dato de \"int\" debe ser número entero.\n",
    "\n",
    "        Utiliza la función chr(int) para obtener la cadena \n",
    "        solicitada.\n",
    "\n",
    "    Ejemplo:\n",
    "        Si int = 98 la función regresa:\n",
    "        b\n",
    "\n",
    "    Recuerda:\n",
    "        Lo que la función \"regresa\" es justo lo que va después \n",
    "        de la palabra reservada \"return\".\n",
    "        \n",
    "        Cuida la indentación.\n",
    "    \"\"\"\n",
    "\n",
    "    # Escribe aquí tu código ↓\n",
    "    \n",
    "\n",
    "    # Escribe aquí tu código ↑\n",
    "\n",
    "    return # ← Escribe aquí tu código"
   ]
  },
  {
   "cell_type": "code",
   "execution_count": null,
   "metadata": {},
   "outputs": [],
   "source": [
    "ejercicio_41(105)"
   ]
  },
  {
   "cell_type": "code",
   "execution_count": 4,
   "metadata": {},
   "outputs": [
    {
     "name": "stdout",
     "output_type": "stream",
     "text": [
      "===============================================================================\n",
      "\n",
      "============> Calificando: tarea 5 - ejercicio ejercicio_41 <============\n",
      "\n",
      "===============================================================================\n",
      "\n",
      "\n",
      "======================================================\n",
      "            ||          Calificación: 100.0            \n",
      "            ||          Aciertos: 4                   \n",
      "            ||          Errores: 0                     \n",
      "======================================================\n",
      "    \n",
      "======> Casos existosos: <======\n",
      "\n",
      "\u001b[0;34m Valores de entrada: 97.             \u001b[0;35m Valor esperado: a.             \u001b[0;36m Valor obtenido: a\n",
      "\u001b[00m\n",
      "\u001b[0;34m Valores de entrada: 98.             \u001b[0;35m Valor esperado: b.             \u001b[0;36m Valor obtenido: b\n",
      "\u001b[00m\n",
      "\u001b[0;34m Valores de entrada: 105.             \u001b[0;35m Valor esperado: i.             \u001b[0;36m Valor obtenido: i\n",
      "\u001b[00m\n",
      "\u001b[0;34m Valores de entrada: 230.             \u001b[0;35m Valor esperado: æ.             \u001b[0;36m Valor obtenido: æ\n",
      "\u001b[00m\n",
      "======> No hubo errores :D <======\n",
      "\n",
      "\u001b[0;32m============> Calificación recibida <============\n",
      "\n"
     ]
    }
   ],
   "source": [
    "calificador.califica_ejercicio_41(ejercicio_41)"
   ]
  },
  {
   "cell_type": "code",
   "execution_count": 5,
   "metadata": {},
   "outputs": [],
   "source": [
    "@Controlador(\"5\", \"ejercicio_42\")\n",
    "def ejercicio_42(str):\n",
    "    \"\"\"\n",
    "    Instrucciones:\n",
    "        La función \"ejercicio_42\" toma el parámetro \"str\" y,\n",
    "        debe regresar el número entero al que corresponda\n",
    "        la cadena de carácter Unicode \"str\".\n",
    "\n",
    "    Condiciones:\n",
    "        El tipo de dato de \"str\" debe ser una cadena de \n",
    "        caracteres que corresponda a algún carácter Unicode.\n",
    "\n",
    "        Utiliza la función ord(str) para obtener la cadena \n",
    "        solicitada.\n",
    "\n",
    "    Ejemplo:\n",
    "        Si str = \"&\" la función regresa:\n",
    "        38\n",
    "\n",
    "    Recuerda:\n",
    "        Lo que la función \"regresa\" es justo lo que va después \n",
    "        de la palabra reservada \"return\".\n",
    "        \n",
    "        Cuida la indentación.\n",
    "    \"\"\"\n",
    "\n",
    "    # Escribe aquí tu código ↓\n",
    "    \n",
    "\n",
    "    # Escribe aquí tu código ↑\n",
    "\n",
    "    return # ← Escribe aquí tu código"
   ]
  },
  {
   "cell_type": "code",
   "execution_count": null,
   "metadata": {},
   "outputs": [],
   "source": [
    "ejercicio_42(\"€\")"
   ]
  },
  {
   "cell_type": "code",
   "execution_count": 6,
   "metadata": {},
   "outputs": [
    {
     "name": "stdout",
     "output_type": "stream",
     "text": [
      "===============================================================================\n",
      "\n",
      "============> Calificando: tarea 5 - ejercicio ejercicio_42 <============\n",
      "\n",
      "===============================================================================\n",
      "\n",
      "\n",
      "======================================================\n",
      "            ||          Calificación: 100.0            \n",
      "            ||          Aciertos: 4                   \n",
      "            ||          Errores: 0                     \n",
      "======================================================\n",
      "    \n",
      "======> Casos existosos: <======\n",
      "\n",
      "\u001b[0;34m Valores de entrada: &.             \u001b[0;35m Valor esperado: 38.             \u001b[0;36m Valor obtenido: 38\n",
      "\u001b[00m\n",
      "\u001b[0;34m Valores de entrada: €.             \u001b[0;35m Valor esperado: 8364.             \u001b[0;36m Valor obtenido: 8364\n",
      "\u001b[00m\n",
      "\u001b[0;34m Valores de entrada: @.             \u001b[0;35m Valor esperado: 64.             \u001b[0;36m Valor obtenido: 64\n",
      "\u001b[00m\n",
      "\u001b[0;34m Valores de entrada: ↓.             \u001b[0;35m Valor esperado: 8595.             \u001b[0;36m Valor obtenido: 8595\n",
      "\u001b[00m\n",
      "======> No hubo errores :D <======\n",
      "\n",
      "\u001b[0;32m============> Calificación recibida <============\n",
      "\n"
     ]
    }
   ],
   "source": [
    "calificador.califica_ejercicio_42(ejercicio_42)"
   ]
  },
  {
   "cell_type": "code",
   "execution_count": 7,
   "metadata": {},
   "outputs": [],
   "source": [
    "@Controlador(\"5\", \"ejercicio_43\")\n",
    "def ejercicio_43(iterable):\n",
    "    \"\"\"\n",
    "    Instrucciones:\n",
    "        La función \"ejercicio_43\" toma el parámetro \"iterable\" \n",
    "        y, debe regresar el valor de verdad True si es que todos\n",
    "        los elementos de dicho parámetro tienen valor de verdad\n",
    "        True (o si el iterable esta vacío), de lo contrario \n",
    "        regresará False.\n",
    "\n",
    "    Condiciones:\n",
    "        El tipo de dato de \"iterable\" debe ser un objeto iterable.\n",
    "\n",
    "        Utiliza la función all(iterable) para obtener el valor \n",
    "        solicitado.\n",
    "\n",
    "    Ejemplo:\n",
    "        Si iterable = \"Hola mundo\" la función regresa:\n",
    "        True\n",
    "\n",
    "    Recuerda:\n",
    "        Lo que la función \"regresa\" es justo lo que va después \n",
    "        de la palabra reservada \"return\".\n",
    "        \n",
    "        Cuida la indentación.\n",
    "    \"\"\"\n",
    "\n",
    "    # Escribe aquí tu código ↓\n",
    "    \n",
    "\n",
    "    # Escribe aquí tu código ↑\n",
    "\n",
    "    return # ← Escribe aquí tu código"
   ]
  },
  {
   "cell_type": "code",
   "execution_count": null,
   "metadata": {},
   "outputs": [],
   "source": [
    "ejercicio_43([False, True])"
   ]
  },
  {
   "cell_type": "code",
   "execution_count": 8,
   "metadata": {},
   "outputs": [
    {
     "name": "stdout",
     "output_type": "stream",
     "text": [
      "===============================================================================\n",
      "\n",
      "============> Calificando: tarea 5 - ejercicio ejercicio_43 <============\n",
      "\n",
      "===============================================================================\n",
      "\n",
      "\n",
      "======================================================\n",
      "            ||          Calificación: 100.0            \n",
      "            ||          Aciertos: 4                   \n",
      "            ||          Errores: 0                     \n",
      "======================================================\n",
      "    \n",
      "======> Casos existosos: <======\n",
      "\n",
      "\u001b[0;34m Valores de entrada: Hola mundo.             \u001b[0;35m Valor esperado: True.             \u001b[0;36m Valor obtenido: True\n",
      "\u001b[00m\n",
      "\u001b[0;34m Valores de entrada: [False, True].             \u001b[0;35m Valor esperado: False.             \u001b[0;36m Valor obtenido: False\n",
      "\u001b[00m\n",
      "\u001b[0;34m Valores de entrada: .             \u001b[0;35m Valor esperado: True.             \u001b[0;36m Valor obtenido: True\n",
      "\u001b[00m\n",
      "\u001b[0;34m Valores de entrada: (1, 2, 3).             \u001b[0;35m Valor esperado: True.             \u001b[0;36m Valor obtenido: True\n",
      "\u001b[00m\n",
      "======> No hubo errores :D <======\n",
      "\n",
      "\u001b[0;32m============> Calificación recibida <============\n",
      "\n"
     ]
    }
   ],
   "source": [
    "calificador.califica_ejercicio_43(ejercicio_43)"
   ]
  },
  {
   "cell_type": "code",
   "execution_count": 9,
   "metadata": {},
   "outputs": [],
   "source": [
    "@Controlador(\"5\", \"ejercicio_44\")\n",
    "def ejercicio_44(iterable):\n",
    "    \"\"\"\n",
    "    Instrucciones:\n",
    "        La función \"ejercicio_44\" toma el parámetro \"iterable\" \n",
    "        y, debe regresar el valor de verdad True si es que alguno\n",
    "        de los elementos de dicho parámetro tienen valor de verdad\n",
    "        True, de lo contrario  o si el iterable esta vació entonces\n",
    "        regresará False.\n",
    "\n",
    "    Condiciones:\n",
    "        El tipo de dato de \"iterable\" debe ser un objeto iterable.\n",
    "\n",
    "        Utiliza la función any(iterable) para obtener el valor \n",
    "        solicitado.\n",
    "\n",
    "    Ejemplo:\n",
    "        Si iterable = \"\" la función regresa:\n",
    "        False\n",
    "\n",
    "    Recuerda:\n",
    "        Lo que la función \"regresa\" es justo lo que va después \n",
    "        de la palabra reservada \"return\".\n",
    "        \n",
    "        Cuida la indentación.\n",
    "    \"\"\"\n",
    "\n",
    "    # Escribe aquí tu código ↓\n",
    "    \n",
    "\n",
    "    # Escribe aquí tu código ↑\n",
    "\n",
    "    return # ← Escribe aquí tu código"
   ]
  },
  {
   "cell_type": "code",
   "execution_count": null,
   "metadata": {},
   "outputs": [],
   "source": [
    "ejercicio_44((False, False))"
   ]
  },
  {
   "cell_type": "code",
   "execution_count": 10,
   "metadata": {},
   "outputs": [
    {
     "name": "stdout",
     "output_type": "stream",
     "text": [
      "===============================================================================\n",
      "\n",
      "============> Calificando: tarea 5 - ejercicio ejercicio_44 <============\n",
      "\n",
      "===============================================================================\n",
      "\n",
      "\n",
      "======================================================\n",
      "            ||          Calificación: 100.0            \n",
      "            ||          Aciertos: 4                   \n",
      "            ||          Errores: 0                     \n",
      "======================================================\n",
      "    \n",
      "======> Casos existosos: <======\n",
      "\n",
      "\u001b[0;34m Valores de entrada: .             \u001b[0;35m Valor esperado: False.             \u001b[0;36m Valor obtenido: False\n",
      "\u001b[00m\n",
      "\u001b[0;34m Valores de entrada: Hola mundo.             \u001b[0;35m Valor esperado: True.             \u001b[0;36m Valor obtenido: True\n",
      "\u001b[00m\n",
      "\u001b[0;34m Valores de entrada: (False, False).             \u001b[0;35m Valor esperado: False.             \u001b[0;36m Valor obtenido: False\n",
      "\u001b[00m\n",
      "\u001b[0;34m Valores de entrada: [].             \u001b[0;35m Valor esperado: False.             \u001b[0;36m Valor obtenido: False\n",
      "\u001b[00m\n",
      "======> No hubo errores :D <======\n",
      "\n",
      "\u001b[0;32m============> Calificación recibida <============\n",
      "\n"
     ]
    }
   ],
   "source": [
    "calificador.califica_ejercicio_44(ejercicio_44)"
   ]
  },
  {
   "cell_type": "code",
   "execution_count": 11,
   "metadata": {},
   "outputs": [],
   "source": [
    "@Controlador(\"5\", \"ejercicio_45\")\n",
    "def ejercicio_45(x, y):\n",
    "    \"\"\"\n",
    "    Instrucciones:\n",
    "        La función \"ejercicio_45\" toma los parametros \"x\", \"y\", y  \n",
    "        debe regresar una tupla que contiene el resultado exacto de\n",
    "        dividir \"x\" entre \"y\" y el resiudo de dicha división en ese\n",
    "        orden. \n",
    "\n",
    "    Condiciones:\n",
    "        El tipo de dato de \"x\", \"y\" deben ser numeros enteros o \n",
    "        decimales.\n",
    "\n",
    "        Utiliza la función divmode(x,y) para obtener la tupla \n",
    "        solicitada.\n",
    "\n",
    "    Ejemplo:\n",
    "        Si  x=7 y y=2.5  la función regresa:\n",
    "        (2.0, 2.0)\n",
    "\n",
    "    Recuerda:\n",
    "        Lo que la función \"regresa\" es justo lo que va después \n",
    "        de la palabra reservada \"return\".\n",
    "        \n",
    "        Cuida la indentación.\n",
    "    \"\"\"\n",
    "\n",
    "    # Escribe aquí tu código ↓\n",
    "    \n",
    "\n",
    "    # Escribe aquí tu código ↑\n",
    "\n",
    "    return # ← Escribe aquí tu código"
   ]
  },
  {
   "cell_type": "code",
   "execution_count": null,
   "metadata": {},
   "outputs": [],
   "source": [
    "ejercicio_45(6, 2)"
   ]
  },
  {
   "cell_type": "code",
   "execution_count": 12,
   "metadata": {},
   "outputs": [
    {
     "name": "stdout",
     "output_type": "stream",
     "text": [
      "===============================================================================\n",
      "\n",
      "============> Calificando: tarea 5 - ejercicio ejercicio_45 <============\n",
      "\n",
      "===============================================================================\n",
      "\n",
      "\n",
      "======================================================\n",
      "            ||          Calificación: 100.0            \n",
      "            ||          Aciertos: 4                   \n",
      "            ||          Errores: 0                     \n",
      "======================================================\n",
      "    \n",
      "======> Casos existosos: <======\n",
      "\n",
      "\u001b[0;34mValores de entrada: [6, 2].             \u001b[0;35mValor esperado: (3, 0).             \u001b[0;36mValor obtenido: (3, 0)\n",
      "\n",
      "\u001b[0;34mValores de entrada: [7, 2.5].             \u001b[0;35mValor esperado: (2.0, 2.0).             \u001b[0;36mValor obtenido: (2.0, 2.0)\n",
      "\n",
      "\u001b[0;34mValores de entrada: [6.6, 1.5].             \u001b[0;35mValor esperado: (4.0, 0.5999999999999996).             \u001b[0;36mValor obtenido: (4.0, 0.5999999999999996)\n",
      "\n",
      "\u001b[0;34mValores de entrada: [7.5, 4].             \u001b[0;35mValor esperado: (1.0, 3.5).             \u001b[0;36mValor obtenido: (1.0, 3.5)\n",
      "\n",
      "======> No hubo errores :D <======\n",
      "\n",
      "\u001b[0;32m============> Calificación recibida <============\n",
      "\n"
     ]
    }
   ],
   "source": [
    "calificador.califica_ejercicio_45(ejercicio_45)"
   ]
  },
  {
   "cell_type": "code",
   "execution_count": 13,
   "metadata": {},
   "outputs": [],
   "source": [
    "@Controlador(\"5\", \"ejercicio_46\")\n",
    "def ejercicio_46(iterable):\n",
    "    \"\"\"\n",
    "    Instrucciones:\n",
    "        La función \"ejercicio_46\" toma el parámetro \"iterable\" \n",
    "        y, debe regresar la suma de los elementos que contenga \n",
    "        dicho parámetro.\n",
    "\n",
    "    Condiciones:\n",
    "        El tipo de dato de \"iterable\" debe ser un objeto iterable\n",
    "        que contenga elementos cuyo tipo de dato sea número entero\n",
    "        y/o número decimal.\n",
    "\n",
    "        Utiliza la función sum(iterable) para obtener el valor \n",
    "        solicitado.\n",
    "\n",
    "    Ejemplo:\n",
    "        Si iterable = (1,2,3.5) la función regresa:\n",
    "        6.5\n",
    "\n",
    "    Recuerda:\n",
    "        Lo que la función \"regresa\" es justo lo que va después \n",
    "        de la palabra reservada \"return\".\n",
    "        \n",
    "        Cuida la indentación.\n",
    "    \"\"\"\n",
    "\n",
    "    # Escribe aquí tu código ↓\n",
    "    \n",
    "\n",
    "    # Escribe aquí tu código ↑\n",
    "\n",
    "    return # ← Escribe aquí tu código"
   ]
  },
  {
   "cell_type": "code",
   "execution_count": null,
   "metadata": {},
   "outputs": [],
   "source": [
    "ejercicio_46([1,2,3])"
   ]
  },
  {
   "cell_type": "code",
   "execution_count": 14,
   "metadata": {},
   "outputs": [
    {
     "name": "stdout",
     "output_type": "stream",
     "text": [
      "===============================================================================\n",
      "\n",
      "============> Calificando: tarea 5 - ejercicio ejercicio_46 <============\n",
      "\n",
      "===============================================================================\n",
      "\n",
      "\n",
      "======================================================\n",
      "            ||          Calificación: 75.0            \n",
      "            ||          Aciertos: 3                   \n",
      "            ||          Errores: 1                     \n",
      "======================================================\n",
      "    \n",
      "======> Casos existosos: <======\n",
      "\n",
      "\u001b[0;34m Valores de entrada: [1, 2, 3].             \u001b[0;35m Valor esperado: 6.             \u001b[0;36m Valor obtenido: 6\n",
      "\u001b[00m\n",
      "\u001b[0;34m Valores de entrada: (5, 2, 99).             \u001b[0;35m Valor esperado: 106.             \u001b[0;36m Valor obtenido: 106\n",
      "\u001b[00m\n",
      "\u001b[0;34m Valores de entrada: [1.6, 6.2, 9].             \u001b[0;35m Valor esperado: 16.8.             \u001b[0;36m Valor obtenido: 16.8\n",
      "\u001b[00m\n",
      "\u001b[0;31m======> Casos con error <======\n",
      "\u001b[00m\n",
      "\u001b[0;34m Valores de entrada: (1, 2, 3.5).             \u001b[0;35m Valor esperado: 6.25.             \u001b[0;36m Valor obtenido: 6.5\n",
      "\u001b[00m\n",
      "\u001b[0;32m============> Calificación recibida <============\n",
      "\n"
     ]
    }
   ],
   "source": [
    "calificador.califica_ejercicio_46(ejercicio_46)"
   ]
  },
  {
   "cell_type": "code",
   "execution_count": 15,
   "metadata": {},
   "outputs": [],
   "source": [
    "@Controlador(\"5\", \"ejercicio_47\")\n",
    "def ejercicio_47(int):\n",
    "    \"\"\"\n",
    "    Instrucciones:\n",
    "        La función \"ejercicio_47\" toma el parámetro \"int\" \n",
    "        y, debe regresar dicho parámetro convertido a \n",
    "        número decimal.\n",
    "\n",
    "    Condiciones:\n",
    "        El tipo de dato de \"int\" debe ser un número entero.\n",
    "\n",
    "        Utiliza la función float() para obtener el número \n",
    "        indicado.\n",
    "\n",
    "    Ejemplo:\n",
    "        Si int = 678 la función regresa:\n",
    "        678.0\n",
    "\n",
    "    Recuerda:\n",
    "        Lo que la función \"regresa\" es justo lo que va después \n",
    "        de la palabra reservada \"return\".\n",
    "        \n",
    "        Cuida la indentación.\n",
    "    \"\"\"\n",
    "\n",
    "    # Escribe aquí tu código ↓\n",
    "    \n",
    "\n",
    "    # Escribe aquí tu código ↑\n",
    "\n",
    "    return # ← Escribe aquí tu código"
   ]
  },
  {
   "cell_type": "code",
   "execution_count": null,
   "metadata": {},
   "outputs": [],
   "source": [
    "ejercicio_47(235)"
   ]
  },
  {
   "cell_type": "code",
   "execution_count": 16,
   "metadata": {},
   "outputs": [
    {
     "name": "stdout",
     "output_type": "stream",
     "text": [
      "===============================================================================\n",
      "\n",
      "============> Calificando: tarea 5 - ejercicio ejercicio_47 <============\n",
      "\n",
      "===============================================================================\n",
      "\n",
      "\n",
      "======================================================\n",
      "            ||          Calificación: 100.0            \n",
      "            ||          Aciertos: 4                   \n",
      "            ||          Errores: 0                     \n",
      "======================================================\n",
      "    \n",
      "======> Casos existosos: <======\n",
      "\n",
      "\u001b[0;34m Valores de entrada: 2.             \u001b[0;35m Valor esperado: 2.0.             \u001b[0;36m Valor obtenido: 2.0\n",
      "\u001b[00m\n",
      "\u001b[0;34m Valores de entrada: 589.             \u001b[0;35m Valor esperado: 589.0.             \u001b[0;36m Valor obtenido: 589.0\n",
      "\u001b[00m\n",
      "\u001b[0;34m Valores de entrada: 678.             \u001b[0;35m Valor esperado: 678.0.             \u001b[0;36m Valor obtenido: 678.0\n",
      "\u001b[00m\n",
      "\u001b[0;34m Valores de entrada: 235.             \u001b[0;35m Valor esperado: 235.0.             \u001b[0;36m Valor obtenido: 235.0\n",
      "\u001b[00m\n",
      "======> No hubo errores :D <======\n",
      "\n",
      "\u001b[0;32m============> Calificación recibida <============\n",
      "\n"
     ]
    }
   ],
   "source": [
    "calificador.califica_ejercicio_47(ejercicio_47)"
   ]
  },
  {
   "cell_type": "code",
   "execution_count": 17,
   "metadata": {},
   "outputs": [],
   "source": [
    "@Controlador(\"5\", \"ejercicio_48\")\n",
    "def ejercicio_48(float):\n",
    "    \"\"\"\n",
    "    Instrucciones:\n",
    "        La función \"ejercicio_48\" toma el parámetro \"float\" \n",
    "        y, debe regresar dicho parámetro convertido a \n",
    "        número entero.\n",
    "\n",
    "    Condiciones:\n",
    "        El tipo de dato de \"float\" debe ser un número decimal.\n",
    "\n",
    "        Utiliza la función int() para obtener el número indicado.\n",
    "\n",
    "    Ejemplo:\n",
    "        Si float = 5.23 la función regresa:\n",
    "        5\n",
    "\n",
    "    Recuerda:\n",
    "        Lo que la función \"regresa\" es justo lo que va después \n",
    "        de la palabra reservada \"return\".\n",
    "        \n",
    "        Cuida la indentación\n",
    "    \"\"\"\n",
    "\n",
    "    # Escribe aquí tu código ↓\n",
    "    \n",
    "\n",
    "    # Escribe aquí tu código ↑\n",
    "\n",
    "    return # ← Escribe aquí tu código"
   ]
  },
  {
   "cell_type": "code",
   "execution_count": null,
   "metadata": {},
   "outputs": [],
   "source": [
    "ejercicio_48(3.6)"
   ]
  },
  {
   "cell_type": "code",
   "execution_count": 18,
   "metadata": {},
   "outputs": [
    {
     "name": "stdout",
     "output_type": "stream",
     "text": [
      "===============================================================================\n",
      "\n",
      "============> Calificando: tarea 5 - ejercicio ejercicio_48 <============\n",
      "\n",
      "===============================================================================\n",
      "\n",
      "\n",
      "======================================================\n",
      "            ||          Calificación: 100.0            \n",
      "            ||          Aciertos: 4                   \n",
      "            ||          Errores: 0                     \n",
      "======================================================\n",
      "    \n",
      "======> Casos existosos: <======\n",
      "\n",
      "\u001b[0;34m Valores de entrada: 3.1416.             \u001b[0;35m Valor esperado: 3.             \u001b[0;36m Valor obtenido: 3\n",
      "\u001b[00m\n",
      "\u001b[0;34m Valores de entrada: 2.9.             \u001b[0;35m Valor esperado: 2.             \u001b[0;36m Valor obtenido: 2\n",
      "\u001b[00m\n",
      "\u001b[0;34m Valores de entrada: 3.6.             \u001b[0;35m Valor esperado: 3.             \u001b[0;36m Valor obtenido: 3\n",
      "\u001b[00m\n",
      "\u001b[0;34m Valores de entrada: 5.23.             \u001b[0;35m Valor esperado: 5.             \u001b[0;36m Valor obtenido: 5\n",
      "\u001b[00m\n",
      "======> No hubo errores :D <======\n",
      "\n",
      "\u001b[0;32m============> Calificación recibida <============\n",
      "\n"
     ]
    }
   ],
   "source": [
    "calificador.califica_ejercicio_48(ejercicio_48)"
   ]
  },
  {
   "cell_type": "code",
   "execution_count": 19,
   "metadata": {},
   "outputs": [],
   "source": [
    "@Controlador(\"4\", \"ejercicio_49\")\n",
    "def ejercicio_49(x):\n",
    "    \"\"\"\n",
    "    Instrucciones:\n",
    "        La función \"ejercicio_49\" toma el parámetro \"x\" y,\n",
    "        debe regresar la representación de dicho parámetro en \n",
    "        forma de cadena de caracteres en hexadecimal.\n",
    "\n",
    "    Condiciones:\n",
    "        El tipo de dato de \"float\" debe ser el numero decimal\n",
    "        3.14\n",
    "\n",
    "    Ejemplo:\n",
    "        Para un caso en el que float = 1.3 la función regresaría:\n",
    "        0x1.4cccccccccccdp+0\n",
    "\n",
    "    Recuerda:\n",
    "        Hay una sola respuesta correcta.\n",
    "\n",
    "        Revisa el método .hex()\n",
    "        \n",
    "        Lo que la función \"regresa\" es justo lo que va después \n",
    "        de la palabra reservada \"return\".\n",
    "        \n",
    "        Cuida la indentación.\n",
    "    \"\"\"\n",
    "\n",
    "    # Escribe aquí tu código ↓\n",
    "    \n",
    "\n",
    "    # Escribe aquí tu código ↑\n",
    "\n",
    "    return # ← Escribe aquí tu código"
   ]
  },
  {
   "cell_type": "code",
   "execution_count": null,
   "metadata": {},
   "outputs": [],
   "source": [
    "ejercicio_49()"
   ]
  },
  {
   "cell_type": "code",
   "execution_count": 20,
   "metadata": {},
   "outputs": [
    {
     "name": "stdout",
     "output_type": "stream",
     "text": [
      "===============================================================================\n",
      "\n",
      "============> Calificando: tarea 5 - ejercicio ejercicio_49 <============\n",
      "\n",
      "===============================================================================\n",
      "\n",
      "\n",
      "======================================================\n",
      "            ||          Calificación: 100.0            \n",
      "            ||          Aciertos: 1                   \n",
      "            ||          Errores: 0                     \n",
      "======================================================\n",
      "    \n",
      "======> Casos existosos: <======\n",
      "\n",
      "\u001b[0;34m Valores de entrada: 3.14.             \u001b[0;35m Valor esperado: 0x1.91eb851eb851fp+1.             \u001b[0;36m Valor obtenido: 0x1.91eb851eb851fp+1\n",
      "\u001b[00m\n",
      "======> No hubo errores :D <======\n",
      "\n",
      "\u001b[0;32m============> Calificación recibida <============\n",
      "\n"
     ]
    }
   ],
   "source": [
    "calificador.califica_ejercicio_49(ejercicio_49)"
   ]
  },
  {
   "cell_type": "code",
   "execution_count": 25,
   "metadata": {},
   "outputs": [],
   "source": [
    "@Controlador(\"5\", \"ejercicio_50\")\n",
    "def ejercicio_50(x):\n",
    "    \"\"\"\n",
    "    Instrucciones:\n",
    "        La función \"ejercicio_50\" toma el parámetro \"x\" y,\n",
    "        debe regresar la representación en número binario de \n",
    "        dicho parámetro.\n",
    "\n",
    "    Condiciones:\n",
    "        El tipo de dato de \"int\" debe ser el número entero 50.\n",
    "\n",
    "    Ejemplo:\n",
    "        Para un caso en el que int = 1 la función regresaría:\n",
    "        0b1\n",
    "\n",
    "    Recuerda:\n",
    "        Solo existe una respuesta correcta.\n",
    "\n",
    "        Revisa la función bin()\n",
    "\n",
    "        Lo que la función \"regresa\" es justo lo que va después \n",
    "        de la palabra reservada \"return\".\n",
    "        \n",
    "        Cuida la indentación.\n",
    "    \"\"\"\n",
    "        \n",
    "    # Escribe aquí tu código ↓\n",
    "    \n",
    "\n",
    "    # Escribe aquí tu código ↑\n",
    "\n",
    "    return # ← Escribe aquí tu código"
   ]
  },
  {
   "cell_type": "code",
   "execution_count": null,
   "metadata": {},
   "outputs": [],
   "source": [
    "ejercicio_50()"
   ]
  },
  {
   "cell_type": "code",
   "execution_count": 26,
   "metadata": {},
   "outputs": [
    {
     "name": "stdout",
     "output_type": "stream",
     "text": [
      "===============================================================================\n",
      "\n",
      "============> Calificando: tarea 5 - ejercicio ejercicio_50 <============\n",
      "\n",
      "===============================================================================\n",
      "\n",
      "\n",
      "======================================================\n",
      "            ||          Calificación: 100.0            \n",
      "            ||          Aciertos: 1                   \n",
      "            ||          Errores: 0                     \n",
      "======================================================\n",
      "    \n",
      "======> Casos existosos: <======\n",
      "\n",
      "\u001b[0;34m Valores de entrada: 50.             \u001b[0;35m Valor esperado: 0b110010.             \u001b[0;36m Valor obtenido: 0b110010\n",
      "\u001b[00m\n",
      "======> No hubo errores :D <======\n",
      "\n",
      "\u001b[0;32m============> Calificación recibida <============\n",
      "\n"
     ]
    }
   ],
   "source": [
    "calificador.califica_ejercicio_50(ejercicio_50)"
   ]
  }
 ],
 "metadata": {
  "kernelspec": {
   "display_name": "infotec",
   "language": "python",
   "name": "python3"
  },
  "language_info": {
   "codemirror_mode": {
    "name": "ipython",
    "version": 3
   },
   "file_extension": ".py",
   "mimetype": "text/x-python",
   "name": "python",
   "nbconvert_exporter": "python",
   "pygments_lexer": "ipython3",
   "version": "3.10.10"
  }
 },
 "nbformat": 4,
 "nbformat_minor": 2
}
