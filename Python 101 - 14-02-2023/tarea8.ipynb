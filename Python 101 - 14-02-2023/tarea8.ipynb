{
 "cells": [
  {
   "cell_type": "code",
   "execution_count": 1,
   "metadata": {},
   "outputs": [],
   "source": [
    "#\n",
    "#\n",
    "# EJECUTAR ESTA CELDA\n",
    "#\n",
    "#\n",
    "\n",
    "#####################################\n",
    "#       Estructuras de datos\n",
    "#####################################\n",
    "\n",
    "\n",
    "import calificador\n",
    "CORREO = \"estudiante@analiticadelfos.com\""
   ]
  },
  {
   "cell_type": "code",
   "execution_count": 4,
   "metadata": {},
   "outputs": [],
   "source": [
    "class Saludos:\n",
    "    def __init__(self):\n",
    "        self.saludo = \"Hola\"\n",
    "\n",
    "    def mostrar_saludo(self):\n",
    "        return self.saludo\n",
    "    \n",
    "    def __str__(self) -> str:\n",
    "        return self.saludo"
   ]
  },
  {
   "cell_type": "code",
   "execution_count": 5,
   "metadata": {},
   "outputs": [
    {
     "name": "stdout",
     "output_type": "stream",
     "text": [
      "===============================================================================\n",
      "\n",
      "============> Calificando: tarea 8 - ejercicio saludos <============\n",
      "\n",
      "===============================================================================\n",
      "\n",
      "\n",
      "        ======================================================\n",
      "                    ||          Calificación: 50.0            \n",
      "                    ||          Aciertos: 1                   \n",
      "                    ||          Errores: 1                     \n",
      "        ======================================================\n",
      "            \n",
      "======> Casos existosos: <======\n",
      "\n",
      "Valores de entrada: N/A.                     Valor esperado: Hola.                     Valor obtenido: Hola\n",
      "\n",
      "======> Casos con error <======\n",
      "\n",
      "Valores de entrada: N/A.                         Valor esperado: Hola.                         Valor obtenido: hola\n",
      "\n",
      "============> Enviando calificación <============\n",
      "\n",
      "============> Calificación recibida <============\n",
      "\n"
     ]
    }
   ],
   "source": [
    "calificador.califica_clase_saludos(Saludos, CORREO, False)"
   ]
  },
  {
   "cell_type": "code",
   "execution_count": null,
   "metadata": {},
   "outputs": [],
   "source": []
  }
 ],
 "metadata": {
  "kernelspec": {
   "display_name": "delfos",
   "language": "python",
   "name": "python3"
  },
  "language_info": {
   "codemirror_mode": {
    "name": "ipython",
    "version": 3
   },
   "file_extension": ".py",
   "mimetype": "text/x-python",
   "name": "python",
   "nbconvert_exporter": "python",
   "pygments_lexer": "ipython3",
   "version": "3.10.9"
  },
  "orig_nbformat": 4
 },
 "nbformat": 4,
 "nbformat_minor": 2
}
