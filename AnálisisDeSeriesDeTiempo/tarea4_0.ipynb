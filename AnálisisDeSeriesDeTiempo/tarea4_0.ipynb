{
 "cells": [
  {
   "cell_type": "markdown",
   "metadata": {},
   "source": [
    "<center><img src=\"Analitica delfos-06.jpg\" width=\"200\" height=\"160\" style=\"margin:auto\"/></center>"
   ]
  },
  {
   "cell_type": "code",
   "execution_count": null,
   "metadata": {},
   "outputs": [],
   "source": [
    "#\n",
    "#\n",
    "# EJECUTAR ESTA CELDA CADA VEZ QUE ENTRES A HACER LA TAREA\n",
    "#\n",
    "#\n",
    "\n",
    "#####################################\n",
    "#       Pandas\n",
    "#####################################\n",
    "\n",
    "\n",
    "import calificador\n",
    "from controlador import Controlador\n",
    "import pandas as pd"
   ]
  },
  {
   "cell_type": "code",
   "execution_count": null,
   "metadata": {},
   "outputs": [],
   "source": [
    "@Controlador(\"4\", \"ejercicio_16\")\n",
    "def ejercicio_16(df: pd.DataFrame, columna: str):\n",
    "    \"\"\"\n",
    "    Instrucciones:\n",
    "        Esta función recibe un DataFrame de pandas y el nombre de una columna (str). \n",
    "        Debe calcular el promedio de los valores de esa columna y devolver un número redondeado a dos decimales.\n",
    "\n",
    "    Nota:\n",
    "        Devolver el resultado en tipo float, usar float(...) para lograr esto\n",
    "\n",
    "    Recuerda:\n",
    "        Lo que la función \"regresa\" es justo lo que va después \n",
    "        de la palabra reservada \"return\".\n",
    "        \n",
    "        Cuida la indentación.\n",
    "    \"\"\"\n",
    "\n",
    "    # Escribe aquí tu código ↓\n",
    "    \n",
    "\n",
    "    # Escribe aquí tu código ↑\n",
    "\n",
    "    return # ← Escribe aquí tu código"
   ]
  },
  {
   "cell_type": "code",
   "execution_count": null,
   "metadata": {},
   "outputs": [],
   "source": [
    "calificador.califica_ejercicio_ts_16(ejercicio_16)"
   ]
  },
  {
   "cell_type": "code",
   "execution_count": null,
   "metadata": {},
   "outputs": [],
   "source": [
    "@Controlador(\"4\", \"ejercicio_17\")\n",
    "def ejercicio_17(df: pd.DataFrame, columnas: list[str]):\n",
    "    \"\"\"\n",
    "    Instrucciones:\n",
    "        Esta función recibe un DataFrame de pandas y una lista de nombres de columnas (list[str]). \n",
    "        Debe devolver una Serie de pandas con la desviación estándar de cada columna seleccionada, \n",
    "        redondeada a dos decimales.\n",
    "\n",
    "    Recuerda:\n",
    "        Lo que la función \"regresa\" es justo lo que va después \n",
    "        de la palabra reservada \"return\".\n",
    "        \n",
    "        Cuida la indentación.\n",
    "    \"\"\"\n",
    "\n",
    "    # Escribe aquí tu código ↓\n",
    "    \n",
    "\n",
    "    # Escribe aquí tu código ↑\n",
    "\n",
    "    return # ← Escribe aquí tu código"
   ]
  },
  {
   "cell_type": "code",
   "execution_count": null,
   "metadata": {},
   "outputs": [],
   "source": [
    "calificador.califica_ejercicio_ts_17(ejercicio_17)"
   ]
  },
  {
   "cell_type": "code",
   "execution_count": null,
   "metadata": {},
   "outputs": [],
   "source": [
    "@Controlador(\"4\", \"ejercicio_18\")\n",
    "def ejercicio_18(df: pd.DataFrame, columnas: list[str]):\n",
    "    \"\"\"\n",
    "     Instrucciones:\n",
    "        Esta función recibe un DataFrame de pandas y una lista de columnas numéricas (list[str]). \n",
    "        Debe devolver un DataFrame de pandas nuevo con las columnas seleccionadas normalizadas al rango [0, 1], \n",
    "        redondeadas a dos decimales.\n",
    "\n",
    "    Recuerda:\n",
    "        Lo que la función \"regresa\" es justo lo que va después \n",
    "        de la palabra reservada \"return\".\n",
    "        \n",
    "        Cuida la indentación.\n",
    "    \"\"\"\n",
    "\n",
    "    # Escribe aquí tu código ↓\n",
    "    \n",
    "\n",
    "    # Escribe aquí tu código ↑\n",
    "\n",
    "    return # ← Escribe aquí tu código"
   ]
  },
  {
   "cell_type": "code",
   "execution_count": null,
   "metadata": {},
   "outputs": [],
   "source": [
    "calificador.califica_ejercicio_ts_18(ejercicio_18)"
   ]
  },
  {
   "cell_type": "markdown",
   "metadata": {},
   "source": [
    "Fórmula Z-Score\n",
    "\n",
    "$$z=\\frac{x-\\mu}{\\sigma}$$"
   ]
  },
  {
   "cell_type": "code",
   "execution_count": null,
   "metadata": {},
   "outputs": [],
   "source": [
    "@Controlador(\"4\", \"ejercicio_19\")\n",
    "def ejercicio_19(df: pd.DataFrame, columnas: list[str]):\n",
    "    \"\"\"\n",
    "    Instrucciones:\n",
    "        Esta función recibe un DataFrame de pandas y una lista de columnas numéricas (list[str]). \n",
    "        Debe devolver un DataFrame de pandas con esas columnas normalizadas mediante la fórmula Z-score.\n",
    "    \n",
    "    \"\"\"\n",
    "\n",
    "    # Escribe aquí tu código ↓\n",
    "\n",
    "\n",
    "    # Escribe aquí tu código ↑\n",
    "\n",
    "    return # ← Escribe aquí tu código"
   ]
  },
  {
   "cell_type": "code",
   "execution_count": null,
   "metadata": {},
   "outputs": [],
   "source": [
    "calificador.califica_ejercicio_ts_19(ejercicio_19)"
   ]
  },
  {
   "cell_type": "code",
   "execution_count": null,
   "metadata": {},
   "outputs": [],
   "source": [
    "@Controlador(\"4\", \"ejercicio_20\")\n",
    "def ejercicio_20(df: pd.DataFrame, col1: str, col2: str):\n",
    "    \"\"\"\n",
    "    Instrucciones:\n",
    "        Esta función recibe un DataFrame de pandas y dos nombres de columnas (str). \n",
    "        Debe calcular el coeficiente de correlación de Pearson entre esas dos columnas y devolver un número redondeado a dos decimales.\n",
    "    \"\"\"\n",
    "\n",
    "    # Escribe aquí tu código ↓\n",
    "    \n",
    "\n",
    "    # Escribe aquí tu código ↑\n",
    "\n",
    "    return # ← Escribe aquí tu código"
   ]
  },
  {
   "cell_type": "code",
   "execution_count": null,
   "metadata": {},
   "outputs": [],
   "source": [
    "calificador.califica_ejercicio_ts_20(ejercicio_20)"
   ]
  }
 ],
 "metadata": {
  "kernelspec": {
   "display_name": "delfos",
   "language": "python",
   "name": "python3"
  },
  "language_info": {
   "codemirror_mode": {
    "name": "ipython",
    "version": 3
   },
   "file_extension": ".py",
   "mimetype": "text/x-python",
   "name": "python",
   "nbconvert_exporter": "python",
   "pygments_lexer": "ipython3",
   "version": "3.13.5"
  }
 },
 "nbformat": 4,
 "nbformat_minor": 2
}
