{
 "cells": [
  {
   "cell_type": "code",
   "execution_count": null,
   "metadata": {},
   "outputs": [],
   "source": [
    "#\n",
    "#\n",
    "# EJECUTAR ESTA CELDA\n",
    "#\n",
    "#\n",
    "\n",
    "#####################################\n",
    "#       Condicionales\n",
    "#####################################\n",
    "\n",
    "\n",
    "import calificador\n",
    "CORREO = \"TU CORREO\""
   ]
  },
  {
   "cell_type": "code",
   "execution_count": null,
   "metadata": {},
   "outputs": [],
   "source": [
    "def obtener_suma_sencilla(lista):\n",
    "    \"\"\"\n",
    "    Instrucciones:\n",
    "        Esta función recibe como parámetro\n",
    "        una lista de números y devuelve la suma total\n",
    "        de ellos.\n",
    "        \n",
    "    Nota:\n",
    "        En python existe una función llamada sum\n",
    "        que toma un iterable y devuelve la suma\n",
    "        de los elementos de ese iterable, aunque\n",
    "        esa función resuelve el problema, resuelve\n",
    "        este problema usando ciclos.\n",
    "    \"\"\"\n",
    "    \n",
    "    # Escribe aquí tu código\n",
    "    \n",
    "    \n",
    "    # Escribe aquí tu código\n",
    "    \n",
    "    return # Escribe aquí tu código"
   ]
  },
  {
   "cell_type": "code",
   "execution_count": null,
   "metadata": {},
   "outputs": [],
   "source": [
    "calificador.califica_obtener_suma_sencilla(obtener_suma_sencilla, CORREO, False)"
   ]
  },
  {
   "cell_type": "code",
   "execution_count": null,
   "metadata": {},
   "outputs": [],
   "source": [
    "def obtener_multiplicacion_sencilla(lista):\n",
    "    \"\"\"\n",
    "    Instrucciones:\n",
    "        Esta función recibe como parámetro\n",
    "        una lista de números y devuelve el producto de todos ellos.\n",
    "    \"\"\"\n",
    "    \n",
    "    # Escribe aquí tu código\n",
    "    \n",
    "    \n",
    "    # Escribe aquí tu código\n",
    "    \n",
    "    return # Escribe aquí tu código"
   ]
  },
  {
   "cell_type": "code",
   "execution_count": null,
   "metadata": {},
   "outputs": [],
   "source": [
    "calificador.califica_obtener_multiplicacion_sencilla(obtener_multiplicacion_sencilla, CORREO, False)"
   ]
  },
  {
   "cell_type": "code",
   "execution_count": null,
   "metadata": {},
   "outputs": [],
   "source": [
    "def obtener_palabras_mayores_a_3(lista):\n",
    "    \"\"\"\n",
    "    Instrucciones:\n",
    "        Esta función recibe como parámetro\n",
    "        una lista de palabras y devuelve una tupla\n",
    "        con aquellas palabras que tienen más de 3 \n",
    "        letras\n",
    "    \"\"\"\n",
    "    \n",
    "    # Escribe aquí tu código\n",
    "    \n",
    "    \n",
    "    # Escribe aquí tu código\n",
    "    \n",
    "    return # Escribe aquí tu código"
   ]
  },
  {
   "cell_type": "code",
   "execution_count": null,
   "metadata": {},
   "outputs": [],
   "source": [
    "calificador.califica_obtener_palabras_mayores_a_3(obtener_palabras_mayores_a_3, CORREO, False)"
   ]
  },
  {
   "cell_type": "code",
   "execution_count": null,
   "metadata": {},
   "outputs": [],
   "source": [
    "def obtener_factorial(tope):\n",
    "    \"\"\"\n",
    "    Instrucciones:\n",
    "        Esta función recibe como parámetro\n",
    "        un número y devuelve el factorial de dicho número.\n",
    "\n",
    "    Recuerda:\n",
    "        El factorial de un número se obtiene multiplicando\n",
    "        todos los números mayores que cero y menores o iguales\n",
    "        que dicho número.\n",
    "\n",
    "    Ejemplo:\n",
    "        Factorial de 3 = 3*2*1\n",
    "        Factorial de 4 = 4*3*2*1\n",
    "    \"\"\"\n",
    "    \n",
    "    # Escribe aquí tu código\n",
    "    \n",
    "    \n",
    "    # Escribe aquí tu código\n",
    "    \n",
    "    return # Escribe aquí tu código"
   ]
  },
  {
   "cell_type": "code",
   "execution_count": null,
   "metadata": {},
   "outputs": [],
   "source": [
    "calificador.califica_obtener_factorial(obtener_factorial, CORREO, False)"
   ]
  },
  {
   "cell_type": "code",
   "execution_count": null,
   "metadata": {},
   "outputs": [],
   "source": [
    "def sumar_impares(tope):\n",
    "    \"\"\"\n",
    "    Instrucciones:\n",
    "        Esta función recibe como parámetro\n",
    "        un número y devuelve la suma de los números impares\n",
    "        desde cero hasta el número que llega como parámetro\n",
    "        incluído ese número.\n",
    "    \"\"\"\n",
    "    \n",
    "    # Escribe aquí tu código\n",
    "    \n",
    "    \n",
    "    # Escribe aquí tu código\n",
    "    \n",
    "    return # Escribe aquí tu código"
   ]
  },
  {
   "cell_type": "code",
   "execution_count": null,
   "metadata": {},
   "outputs": [],
   "source": [
    "calificador.califica_sumar_impares(sumar_impares, CORREO, False)"
   ]
  },
  {
   "cell_type": "code",
   "execution_count": null,
   "metadata": {},
   "outputs": [],
   "source": [
    "def encontrar_indice(lista, numero):\n",
    "    \"\"\"\n",
    "    Instrucciones:\n",
    "        Esta función recibe como parámetro una lista y\n",
    "        un número y devuelve el índice en el que se encuentra\n",
    "        el número en dicha lista.\n",
    "    \"\"\"\n",
    "    \n",
    "    # Escribe aquí tu código\n",
    "    \n",
    "    \n",
    "    # Escribe aquí tu código\n",
    "    \n",
    "    return # Escribe aquí tu código"
   ]
  },
  {
   "cell_type": "code",
   "execution_count": null,
   "metadata": {},
   "outputs": [],
   "source": [
    "calificador.califica_encontrar_indice(encontrar_indice, CORREO, False)"
   ]
  },
  {
   "cell_type": "code",
   "execution_count": null,
   "metadata": {},
   "outputs": [],
   "source": [
    "def suma_totales(productos):\n",
    "    \"\"\"\n",
    "    Instrucciones:\n",
    "        Esta función recibe una lista de tuplas en las que el primer\n",
    "        elemento de la tupla es el nombre de un producto y el segundo\n",
    "        elemento es el total de productos vendidos de ese tipo.\n",
    "        Devolver el total de productos vendidos.\n",
    "\n",
    "    Recuerda:\n",
    "        Cuida la indentación.\n",
    "    \"\"\"\n",
    "    \n",
    "    # Escribe aquí tu código\n",
    "    \n",
    "    \n",
    "    # Escribe aquí tu código\n",
    "    \n",
    "    return # Escribe aquí tu código"
   ]
  },
  {
   "cell_type": "code",
   "execution_count": null,
   "metadata": {},
   "outputs": [],
   "source": [
    "calificador.califica_suma_totales(suma_totales, CORREO, False)"
   ]
  },
  {
   "cell_type": "code",
   "execution_count": null,
   "metadata": {},
   "outputs": [],
   "source": [
    "def revisar_claves(diccionario):\n",
    "    \"\"\"\n",
    "    Instrucciones:\n",
    "        Esta función recibe un diccionario y devuelve un\n",
    "        nuevo diccionario que tenga como claves\n",
    "        aquellas claves que inicien con la letra a\n",
    "        y sus valores respectivos.\n",
    "\n",
    "    Ejemplo:\n",
    "        Si el diccionario = {\"abecedario\": \"abcd...\", \"comida\": \"tacos\"}\n",
    "        la funcion devolvería {\"abecedario\": \"abcd...\"}.\n",
    "\n",
    "    A considerar:\n",
    "        No sabes si las claves inician con mayúscula o minúscula.\n",
    "    \"\"\"\n",
    "    \n",
    "    # Escribe aquí tu código\n",
    "    \n",
    "    \n",
    "    # Escribe aquí tu código\n",
    "    \n",
    "    return # Escribe aquí tu código"
   ]
  },
  {
   "cell_type": "code",
   "execution_count": null,
   "metadata": {},
   "outputs": [],
   "source": [
    "calificador.califica_revisar_claves(revisar_claves, CORREO, False)"
   ]
  },
  {
   "cell_type": "code",
   "execution_count": null,
   "metadata": {},
   "outputs": [],
   "source": [
    "def suma_filas(listas):\n",
    "    \"\"\"\n",
    "    Instrucciones:\n",
    "        Esta función recibe una lista de listas y devuelve una\n",
    "        nueva lista formada por la suma de los números\n",
    "        de cada una de las filas, en este sentido podemos\n",
    "        pensar la lista como una matriz, sin embargo, \n",
    "        no tiene porqué cumplir con una forma geométrica\n",
    "        regular.\n",
    "\n",
    "    Tip:\n",
    "        Nada impide que uses un ciclo dentro de otro ciclo,\n",
    "        es decir, con el ciclo exterior revisas cada una de las\n",
    "        filas y con el ciclo interior revisas cada uno \n",
    "        de los números de esa fila\n",
    "    \"\"\"\n",
    "    \n",
    "    # Escribe aquí tu código\n",
    "    \n",
    "    \n",
    "    # Escribe aquí tu código\n",
    "    \n",
    "    return # Escribe aquí tu código"
   ]
  },
  {
   "cell_type": "code",
   "execution_count": null,
   "metadata": {},
   "outputs": [],
   "source": [
    "calificador.califica_suma_filas(suma_filas, CORREO, False)"
   ]
  },
  {
   "cell_type": "code",
   "execution_count": null,
   "metadata": {},
   "outputs": [],
   "source": [
    "def filtrado(diccionario):\n",
    "    \"\"\"\n",
    "    Instrucciones:\n",
    "        Esta función recibe un diccionario con las\n",
    "        siguientes características.\n",
    "        Las claves son cadenas de caracteres de 3, 4\n",
    "        o 5 caracteres.\n",
    "        Las claves cuya longitud es 3 o 4 pueden contener\n",
    "        listas.\n",
    "        Las claves cuya longitud es de 5 poseen una palabra.\n",
    "        En caso de que exista la lista en la clave\n",
    "        obtener la suma de sus elementos y guardarlo\n",
    "        en otra lista.\n",
    "        En caso de que sea una palabra lo que se encuentre como valor,\n",
    "        guardarla en una lista (el valor, no la clave).\n",
    "        La función devuelve una tupla en cuyo primer\n",
    "        elemento se encuentra la lista de los números\n",
    "        obtenidos a partir de las sumas y en segundo lugar\n",
    "        se encuentra la lista que contiene las palabras.\n",
    "\n",
    "    Tip:\n",
    "        Piensa esta tarea en términos de ciclos. Pregúntate cómo \n",
    "        resolver cada una de las partes y al final pega los resultados.\n",
    "\n",
    "    Tip: Pregunta por el tipo de dato de los valores del diccionario.\n",
    "\n",
    "    Tipo: Para preguntar si algo es de algún tipo usas el doble igual\n",
    "    y el nombre de ese tipo, por ejemplo con variable == list estoy preguntando\n",
    "    si la variable es de tipo lista, así con int, float, tuple, dict, etc...\n",
    "\n",
    "    Ejemplo:\n",
    "\n",
    "        diccionario = {\"ola\": \"Del mar\", \"hola\": [1,2,3], \"curso\": \"Python\", \"ZDRF\": [3,4,5]}\n",
    "\n",
    "        Resultado: ([6, 12], [\"Python\"])\n",
    "    \"\"\"\n",
    "    \n",
    "    # Escribe aquí tu código\n",
    "    \n",
    "    \n",
    "    # Escribe aquí tu código\n",
    "    \n",
    "    return # Escribe aquí tu código"
   ]
  },
  {
   "cell_type": "code",
   "execution_count": null,
   "metadata": {},
   "outputs": [],
   "source": [
    "calificador.califica_filtrado(filtrado, CORREO, False)"
   ]
  },
  {
   "cell_type": "code",
   "execution_count": null,
   "metadata": {},
   "outputs": [],
   "source": [
    "def encontrar_primos(tope):\n",
    "    \"\"\"\n",
    "    Instrucciones:\n",
    "        Esta función recibe un número y devuelve una tupla\n",
    "        con los números primos debajo de este, incluyendo este,\n",
    "        si es que es primo.\n",
    "\n",
    "    Recordatorio:\n",
    "        Un número primero es aquel que sólo puede\n",
    "        dividirse entre sí mismo y entre 1 de forma entera.\n",
    "\n",
    "    Tip: \n",
    "        Construye una lista y conviértela a tupla\n",
    "\n",
    "    Consideración:\n",
    "        Tomemos el 1 como primo\n",
    "    \"\"\"\n",
    "    \n",
    "    # Escribe aquí tu código\n",
    "    \n",
    "    \n",
    "    # Escribe aquí tu código\n",
    "    \n",
    "    return # Escribe aquí tu código"
   ]
  },
  {
   "cell_type": "code",
   "execution_count": null,
   "metadata": {},
   "outputs": [],
   "source": [
    "calificador.califica_encontrar_primos(encontrar_primos, CORREO, False)"
   ]
  },
  {
   "cell_type": "code",
   "execution_count": null,
   "metadata": {},
   "outputs": [],
   "source": [
    "def obtener_nickname(diccionario):\n",
    "    \"\"\"\n",
    "    Instrucciones:\n",
    "        Esta función recibe un diccionario cuyas claves\n",
    "        son nombres de usuarios y valores son calificaciones.\n",
    "        La función devuelve una lista construida con las primeras\n",
    "        dos letras de cada uno de los nombres de los usuarios, \n",
    "        en mayúsculas.\n",
    "    \"\"\"\n",
    "    \n",
    "    # Escribe aquí tu código\n",
    "    \n",
    "    \n",
    "    # Escribe aquí tu código\n",
    "    \n",
    "    return # Escribe aquí tu código"
   ]
  },
  {
   "cell_type": "code",
   "execution_count": null,
   "metadata": {},
   "outputs": [],
   "source": [
    "calificador.califica_obtener_nickname(obtener_nickname, CORREO, False)"
   ]
  }
 ],
 "metadata": {
  "kernelspec": {
   "display_name": "Python 3.10.6 ('delfosenv')",
   "language": "python",
   "name": "python3"
  },
  "language_info": {
   "codemirror_mode": {
    "name": "ipython",
    "version": 3
   },
   "file_extension": ".py",
   "mimetype": "text/x-python",
   "name": "python",
   "nbconvert_exporter": "python",
   "pygments_lexer": "ipython3",
   "version": "3.10.6"
  },
  "orig_nbformat": 4,
  "vscode": {
   "interpreter": {
    "hash": "66c9bc616bbdea0db480a7a6aa32456e08a9558e4f5898b1f651409aba2af12d"
   }
  }
 },
 "nbformat": 4,
 "nbformat_minor": 2
}
