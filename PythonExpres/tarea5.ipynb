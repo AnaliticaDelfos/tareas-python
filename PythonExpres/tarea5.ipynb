{
 "cells": [
  {
   "cell_type": "code",
   "execution_count": null,
   "metadata": {},
   "outputs": [],
   "source": [
    "#\n",
    "#\n",
    "# EJECUTAR ESTA CELDA\n",
    "#\n",
    "#\n",
    "\n",
    "#####################################\n",
    "#       Condicionales\n",
    "#####################################\n",
    "\n",
    "\n",
    "import calificador\n",
    "CORREO = \"TU CORREO\""
   ]
  },
  {
   "cell_type": "code",
   "execution_count": null,
   "metadata": {},
   "outputs": [],
   "source": [
    "def creacion_de_una_tupla_con_tres_elementos():\n",
    "\n",
    "    \"\"\"\n",
    "    Instrucciones:\n",
    "        Esta función no recibe ningún parámetro\n",
    "        y regresa una tupla con las letras\n",
    "        'a', '1', 'b', es decir, regresa una tupla\n",
    "        con 3 elementos.\n",
    "\n",
    "    Recuerda:\n",
    "        Cuida la indentación.\n",
    "    \"\"\"\n",
    "    \n",
    "    # Escribe aquí tu código\n",
    "    \n",
    "    \n",
    "    # Escribe aquí tu código\n",
    "    \n",
    "    return # Escribe aquí tu código"
   ]
  },
  {
   "cell_type": "code",
   "execution_count": null,
   "metadata": {},
   "outputs": [],
   "source": [
    "calificador.califica_creacion_de_una_tupla_con_tres_elementos(creacion_de_una_tupla_con_tres_elementos, CORREO, False)"
   ]
  },
  {
   "cell_type": "code",
   "execution_count": null,
   "metadata": {},
   "outputs": [],
   "source": [
    "def acceder_al_elemento_5(lista):\n",
    "\n",
    "    \"\"\"\n",
    "    Instrucciones:\n",
    "        Esta función recibe una lista\n",
    "        y regresa el elemento con el índice\n",
    "        5 de dicha lista.\n",
    "\n",
    "    Recuerda:\n",
    "        Cuida la indentación.\n",
    "    \"\"\"\n",
    "    \n",
    "    # Escribe aquí tu código\n",
    "    \n",
    "    \n",
    "    # Escribe aquí tu código\n",
    "    \n",
    "    return # Escribe aquí tu código"
   ]
  },
  {
   "cell_type": "code",
   "execution_count": null,
   "metadata": {},
   "outputs": [],
   "source": [
    "calificador.califica_acceder_al_elemento_5(acceder_al_elemento_5, CORREO, False)"
   ]
  },
  {
   "cell_type": "code",
   "execution_count": null,
   "metadata": {},
   "outputs": [],
   "source": [
    "def acceder_al_ultimo_elemento_de_una_tupla_en_rango(tope):\n",
    "\n",
    "    \"\"\"\n",
    "    Instrucciones:\n",
    "        Esta función recibe un número, el cual\n",
    "        funciona como tope en la creación de una tupla.\n",
    "        Deberás crear una tupla con los números del 0\n",
    "        a tope, acceder al último elemento de dicha tupla\n",
    "        y regresarlo.\n",
    "\n",
    "    Recuerda:\n",
    "        Cuida la indentación.\n",
    "    \"\"\"\n",
    "    \n",
    "    # Escribe aquí tu código\n",
    "    \n",
    "    \n",
    "    # Escribe aquí tu código\n",
    "    \n",
    "    return # Escribe aquí tu código"
   ]
  },
  {
   "cell_type": "code",
   "execution_count": null,
   "metadata": {},
   "outputs": [],
   "source": [
    "calificador.califica_acceder_al_ultimo_elemento_de_una_tupla_en_rango(acceder_al_ultimo_elemento_de_una_tupla_en_rango, CORREO, False)"
   ]
  },
  {
   "cell_type": "code",
   "execution_count": null,
   "metadata": {},
   "outputs": [],
   "source": [
    "def creacion_de_diccionario_dentro_de_otro_diccionario():\n",
    "    \"\"\"\n",
    "    Instrucciones:\n",
    "        Esta función no recibe parámetros y regresa un diccionario\n",
    "        con la siguiente estructura:\n",
    "        Una clave llamada 'estado' cuyo valor es 'Activo',\n",
    "        una clave llamada 'datos' cuyo valor es otro diccionario\n",
    "        con dos claves, una llamada 'curso' cuyo valor es\n",
    "        'Python de la A a la Z' y otra clave llamada 'tareas'\n",
    "        cuyo valor es 3.\n",
    "\n",
    "    Recuerda:\n",
    "        Cuida la indentación.\n",
    "    \"\"\"\n",
    "    \n",
    "    # Escribe aquí tu código\n",
    "    \n",
    "    \n",
    "    # Escribe aquí tu código\n",
    "    \n",
    "    return # Escribe aquí tu código"
   ]
  },
  {
   "cell_type": "code",
   "execution_count": null,
   "metadata": {},
   "outputs": [],
   "source": [
    "calificador.califica_creacion_de_diccionario_dentro_de_otro_diccionario(creacion_de_diccionario_dentro_de_otro_diccionario, CORREO, False)"
   ]
  },
  {
   "cell_type": "code",
   "execution_count": null,
   "metadata": {},
   "outputs": [],
   "source": [
    "def creacion_de_lista_de_diccionarios():\n",
    "    \"\"\"\n",
    "    Instrucciones:\n",
    "        Esta función no recibe parámteros y devuelve una \n",
    "        lista con dos diccionario de la siguiente forma:\n",
    "        El primer diccionario tiene la clave pais cuyo valor\n",
    "        es 'México' y tiene otra clave cuyo valor es 'nombre oficial'\n",
    "        cuyo valor es 'Estados Unidos Mexicanos'.\n",
    "        El segundo diccionario tiene la clave 'pais' cuyo valor\n",
    "        es 'Estados Unidos' y tiene otra clave cuyo valor es\n",
    "        'nombre oficial' cuyo valor es 'Estados Unidos de América'.\n",
    "\n",
    "    Recuerda:\n",
    "        Cuida la indentación.\n",
    "    \"\"\"\n",
    "    \n",
    "    # Escribe aquí tu código\n",
    "    \n",
    "    \n",
    "    # Escribe aquí tu código\n",
    "    \n",
    "    return # Escribe aquí tu código"
   ]
  },
  {
   "cell_type": "code",
   "execution_count": null,
   "metadata": {},
   "outputs": [],
   "source": [
    "calificador.califica_creacion_de_lista_de_diccionarios(creacion_de_lista_de_diccionarios, CORREO, False)"
   ]
  },
  {
   "cell_type": "code",
   "execution_count": null,
   "metadata": {},
   "outputs": [],
   "source": [
    "def creacion_de_diccionario_con_listas():\n",
    "\n",
    "    \"\"\"\n",
    "    Instrucciones:\n",
    "        Esta función no recibe parámetros y regresa\n",
    "        un diccionario de la siguiente forma:\n",
    "        Tiene una clave llamada 'tarea1' cuyos\n",
    "        valores son una lista con los números\n",
    "        10, 10, 8.\n",
    "        Y tiene una clave llamada 'tarea2' cuyos\n",
    "        valores son una lista con los números\n",
    "        10, 8, 7.\n",
    "\n",
    "    Recuerda:\n",
    "        Cuida la indentación.\n",
    "    \"\"\"\n",
    "    \n",
    "    # Escribe aquí tu código\n",
    "    \n",
    "    \n",
    "    # Escribe aquí tu código\n",
    "    \n",
    "    return # Escribe aquí tu código"
   ]
  },
  {
   "cell_type": "code",
   "execution_count": null,
   "metadata": {},
   "outputs": [],
   "source": [
    "calificador.califica_creacion_de_diccionario_con_listas(creacion_de_diccionario_con_listas, CORREO, False)"
   ]
  },
  {
   "cell_type": "code",
   "execution_count": null,
   "metadata": {},
   "outputs": [],
   "source": [
    "def creacion_de_diccionario_con_tuplas():\n",
    "    \"\"\"\n",
    "    Instrucciones:\n",
    "        Esta función no recibe parámetros y regresa\n",
    "        un diccionario de la siguiente forma:\n",
    "        Tiene una clave llamada 'historial'\n",
    "        cuyo valor es una tupla con 3 elementos,\n",
    "        el primer elemento de la tupla es\n",
    "        otra tupla con los números 3,5,1,6,\n",
    "        el segundo elemento de la tupla es\n",
    "        otra tupla con los números 56,2,1,7,\n",
    "        el tercer elemento de la tupla es\n",
    "        otra tupla con los números 62,4,78,3. \n",
    "\n",
    "    Recuerda:\n",
    "        Cuida la indentación.\n",
    "    \"\"\"\n",
    "    \n",
    "    # Escribe aquí tu código\n",
    "    \n",
    "    \n",
    "    # Escribe aquí tu código\n",
    "    \n",
    "    return # Escribe aquí tu código"
   ]
  },
  {
   "cell_type": "code",
   "execution_count": null,
   "metadata": {},
   "outputs": [],
   "source": [
    "calificador.califica_creacion_de_diccionario_con_tuplas(creacion_de_diccionario_con_tuplas, CORREO, False)"
   ]
  },
  {
   "cell_type": "code",
   "execution_count": null,
   "metadata": {},
   "outputs": [],
   "source": [
    "def creacion_de_diccionario_a_partir_de_clave(clave, valor):\n",
    "\n",
    "    \"\"\"\n",
    "    Instrucciones:\n",
    "        Esta función recibe una clave y un valor\n",
    "        y regresa un diccionario con esa clave\n",
    "        y cuyo valor sea el valor que llega por parámetro\n",
    "\n",
    "    Recuerda:\n",
    "        Cuida la indentación.\n",
    "    \"\"\"\n",
    "    \n",
    "    # Escribe aquí tu código\n",
    "    \n",
    "    \n",
    "    # Escribe aquí tu código\n",
    "    \n",
    "    # return # Escribe aquí tu código\n",
    "    \n",
    "    return # Escribe aquí tu código"
   ]
  },
  {
   "cell_type": "code",
   "execution_count": null,
   "metadata": {},
   "outputs": [],
   "source": [
    "calificador.califica_creacion_de_diccionario_a_partir_de_clave(creacion_de_diccionario_a_partir_de_clave, CORREO, False)"
   ]
  },
  {
   "cell_type": "code",
   "execution_count": null,
   "metadata": {},
   "outputs": [],
   "source": [
    "def lista_hasta_10000():\n",
    "\n",
    "    \"\"\"\n",
    "    Instrucciones:\n",
    "        Esta función no recibe parámetros y regresa\n",
    "        una lista con los números del 0 al 10000\n",
    "\n",
    "    Recuerda:\n",
    "        Cuida la indentación.\n",
    "    \"\"\"\n",
    "    \n",
    "    # Escribe aquí tu código\n",
    "    \n",
    "    \n",
    "    # Escribe aquí tu código\n",
    "    \n",
    "    #return # Escribe aquí tu código\n",
    "    \n",
    "    return # Escribe aquí tu código"
   ]
  },
  {
   "cell_type": "code",
   "execution_count": null,
   "metadata": {},
   "outputs": [],
   "source": [
    "calificador.califica_lista_hasta_10000(lista_hasta_10000, CORREO, False)"
   ]
  },
  {
   "cell_type": "code",
   "execution_count": null,
   "metadata": {},
   "outputs": [],
   "source": [
    "def lista_en_rango(tope):\n",
    "\n",
    "    \"\"\"\n",
    "    Instrucciones:\n",
    "        Esta función recibe como parámetro\n",
    "        un número, el cual sirve como tope\n",
    "        para crear una lista con los números\n",
    "        del 0 a tope - 1, debes regresar dicha lista.\n",
    "\n",
    "    Recuerda:\n",
    "        Cuida la indentación.\n",
    "    \"\"\"\n",
    "    \n",
    "    # Escribe aquí tu código\n",
    "    \n",
    "    \n",
    "    # Escribe aquí tu código\n",
    "    \n",
    "    return # Escribe aquí tu código"
   ]
  },
  {
   "cell_type": "code",
   "execution_count": null,
   "metadata": {},
   "outputs": [],
   "source": [
    "calificador.califica_lista_en_rango(lista_en_rango, CORREO, False)"
   ]
  }
 ],
 "metadata": {
  "kernelspec": {
   "display_name": "Python 3.10.6 ('delfosenv')",
   "language": "python",
   "name": "python3"
  },
  "language_info": {
   "codemirror_mode": {
    "name": "ipython",
    "version": 3
   },
   "file_extension": ".py",
   "mimetype": "text/x-python",
   "name": "python",
   "nbconvert_exporter": "python",
   "pygments_lexer": "ipython3",
   "version": "3.10.6"
  },
  "orig_nbformat": 4,
  "vscode": {
   "interpreter": {
    "hash": "66c9bc616bbdea0db480a7a6aa32456e08a9558e4f5898b1f651409aba2af12d"
   }
  }
 },
 "nbformat": 4,
 "nbformat_minor": 2
}
