{
 "cells": [
  {
   "cell_type": "markdown",
   "metadata": {},
   "source": [
    "# Ejercicios\n",
    "\n",
    "Todo buen programador debe contar con la habilidad de verificar que sus programas están bien hechos, al menos en una buena cantidad de casos (si se puede en el caso general mejor, es decir, para todos), por lo que, en estos ejercicios deberás entender correctamente el problema y tú mismo proveer casos a partir de los cuales sepas cuál es la respuesta. Prueba con más de un conjunto de casos."
   ]
  },
  {
   "cell_type": "markdown",
   "metadata": {},
   "source": [
    "# Ejercicio 1\n",
    "Escribir una función que reciba por parámetro el radio y la altura de un cilindro y regresa el volumen de un cilindro con esas características. El volumen de un cilindro se calcula como: (pi * radio^2) * altura"
   ]
  },
  {
   "cell_type": "code",
   "execution_count": null,
   "metadata": {},
   "outputs": [],
   "source": []
  },
  {
   "cell_type": "markdown",
   "metadata": {},
   "source": [
    "# Ejercicio 2\n",
    "\n",
    "Escribir una función que reciba una cadena de caracteres y devuelva una nueva cadena de caracteres formada por el primer caracter, el caracter de en medio y el último, en ese orden, en caso de que la cadena de caracteres tenga más de 3 elementos, devolver la cadena de caracteres \"Ingrese una cadena válida\""
   ]
  },
  {
   "cell_type": "code",
   "execution_count": null,
   "metadata": {},
   "outputs": [],
   "source": []
  },
  {
   "cell_type": "markdown",
   "metadata": {},
   "source": [
    "# Ejercicio 3\n",
    "\n",
    "Escribir una función que le pida al usuario excatamente 3 veces que ingrese algún texto, el que sea, guardarlo en una lista y devolver la lista en orden invertida."
   ]
  },
  {
   "cell_type": "code",
   "execution_count": null,
   "metadata": {},
   "outputs": [],
   "source": []
  }
 ],
 "metadata": {
  "kernelspec": {
   "display_name": "Python 3.10.6 ('delfosenv')",
   "language": "python",
   "name": "python3"
  },
  "language_info": {
   "name": "python",
   "version": "3.10.6 | packaged by conda-forge | (main, Oct 24 2022, 16:02:16) [MSC v.1916 64 bit (AMD64)]"
  },
  "orig_nbformat": 4,
  "vscode": {
   "interpreter": {
    "hash": "66c9bc616bbdea0db480a7a6aa32456e08a9558e4f5898b1f651409aba2af12d"
   }
  }
 },
 "nbformat": 4,
 "nbformat_minor": 2
}
