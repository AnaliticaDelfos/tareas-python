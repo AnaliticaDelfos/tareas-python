{
 "cells": [
  {
   "cell_type": "markdown",
   "metadata": {},
   "source": [
    "# Ejercicios\n",
    "\n",
    "Todo buen programador debe contar con la habilidad de verificar que sus programas están bien hechos, al menos en una buena cantidad de casos (si se puede en el caso general mejor, es decir, para todos), por lo que, en estos ejercicios deberás entender correctamente el problema y tú mismo proveer casos a partir de los cuales sepas cuál es la respuesta. Prueba con más de un conjunto de casos."
   ]
  },
  {
   "attachments": {},
   "cell_type": "markdown",
   "metadata": {},
   "source": [
    "# Ejercicio 1\n",
    "\n",
    "Escribir una función que reciba un número y devuelva un verdadero si ese número es palíndromo."
   ]
  },
  {
   "cell_type": "code",
   "execution_count": null,
   "metadata": {},
   "outputs": [],
   "source": []
  },
  {
   "attachments": {},
   "cell_type": "markdown",
   "metadata": {},
   "source": [
    "# Ejercicio 2\n",
    "\n",
    "Escribir una función que reciba un número y devuelva un verdadero si ese número es capicúa (el palíndromo de los números)"
   ]
  },
  {
   "cell_type": "code",
   "execution_count": null,
   "metadata": {},
   "outputs": [],
   "source": []
  },
  {
   "attachments": {},
   "cell_type": "markdown",
   "metadata": {},
   "source": [
    "# Ejercicio 3\n",
    "\n",
    "Escribir una función que reciba dos números y realice la suma de ambos con el algoritmo que nos enseñaron de pequeños, es decir, sumar solamente pares de dígitos por columna."
   ]
  },
  {
   "cell_type": "code",
   "execution_count": null,
   "metadata": {},
   "outputs": [],
   "source": []
  }
 ],
 "metadata": {
  "kernelspec": {
   "display_name": "Python 3.8.13 ('base')",
   "language": "python",
   "name": "python3"
  },
  "language_info": {
   "name": "python",
   "version": "3.8.13 (default, Mar 28 2022, 06:59:08) [MSC v.1916 64 bit (AMD64)]"
  },
  "orig_nbformat": 4,
  "vscode": {
   "interpreter": {
    "hash": "1dd86b3613c0f716f7b92f29e5af451a27803ae73253089eb82406c5b9ed6813"
   }
  }
 },
 "nbformat": 4,
 "nbformat_minor": 2
}
