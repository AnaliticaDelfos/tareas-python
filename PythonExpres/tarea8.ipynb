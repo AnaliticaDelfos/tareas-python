{
 "cells": [
  {
   "cell_type": "code",
   "execution_count": null,
   "metadata": {},
   "outputs": [],
   "source": [
    "#\n",
    "#\n",
    "# EJECUTAR ESTA CELDA\n",
    "#\n",
    "#\n",
    "\n",
    "#####################################\n",
    "#       Ciclos\n",
    "#####################################\n",
    "\n",
    "\n",
    "import calificador\n",
    "CORREO = \"TU CORREO\""
   ]
  },
  {
   "cell_type": "code",
   "execution_count": null,
   "metadata": {},
   "outputs": [],
   "source": [
    "def cuadrado_de_asteriscos(n_asteriscos):\n",
    "    \"\"\"\n",
    "    Instrucciones:\n",
    "        Esta función recibe por parámetro un número que representa \n",
    "        la longitud del lado de un cuadrado.\n",
    "\n",
    "        Devuelve una cadena de caracteres que crea un cuadrado con\n",
    "        el n_asteriscos por lado\n",
    "\n",
    "    Ejemplo:\n",
    "        Si n_asteriscos = 3\n",
    "        La función devuelve:\n",
    "        '***\n",
    "         ***\n",
    "         ***'\n",
    "\n",
    "    Nota: \n",
    "        El número de filas es igual al número de asteríscos.\n",
    "\n",
    "    Nota:\n",
    "        Es probable que aunque tu ejercicio se vea bien, el calificador\n",
    "        diga que está mal por exceso de espacios, usa la función trim\n",
    "        para quitar los espacios extras una vez hayas creado el cuadrado.\n",
    "    \"\"\"\n",
    "\n",
    "    # Escribe aquí tu código\n",
    "    \n",
    "    \n",
    "    # Escribe aquí tu código\n",
    "    \n",
    "    return # Escribe aquí tu código"
   ]
  },
  {
   "cell_type": "code",
   "execution_count": null,
   "metadata": {},
   "outputs": [],
   "source": [
    "calificador.califica_cuadrado_de_asteriscos(cuadrado_de_asteriscos, CORREO, False)"
   ]
  },
  {
   "cell_type": "code",
   "execution_count": null,
   "metadata": {},
   "outputs": [],
   "source": [
    "def rectangulo_de_asteriscos(ancho, alto):\n",
    "    \"\"\"\n",
    "    Instrucciones:\n",
    "        Esta función recibe por parámetro dos números, ancho y alto.\n",
    "\n",
    "        Devuelve una cadena de caracteres que crea un rectángulo con\n",
    "        asteríscos ancho*alto\n",
    "\n",
    "    Ejemplo:\n",
    "        Si ancho = 3 y alto = 3\n",
    "        La función devuelve:\n",
    "        '***\n",
    "         ***'\n",
    "\n",
    "    Nota: \n",
    "        El número de filas es igual al alto y el número de\n",
    "        columnas es igual al ancho\n",
    "    \"\"\"\n",
    "\n",
    "    # Escribe aquí tu código\n",
    "    \n",
    "    \n",
    "    # Escribe aquí tu código\n",
    "    \n",
    "    return # Escribe aquí tu código"
   ]
  },
  {
   "cell_type": "code",
   "execution_count": null,
   "metadata": {},
   "outputs": [],
   "source": [
    "calificador.califica_rectangulo_de_asteriscos(rectangulo_de_asteriscos, CORREO, False)"
   ]
  },
  {
   "cell_type": "code",
   "execution_count": null,
   "metadata": {},
   "outputs": [],
   "source": [
    "def triangulo_de_asteriscos(alto):\n",
    "    \"\"\"\n",
    "    Instrucciones:\n",
    "        Esta función recibe por parámetro el alto de un triángulo.\n",
    "\n",
    "        Devuelve una cadena de caracteres que crea un triángulo. Este triángulo se\n",
    "        construirá con asteríscos de tal forma que se pone un asterísco\n",
    "        en la primer fila, dos asteríscos en la segunda fila, tres asteríscos\n",
    "        en la tercer fila, ..., en la fila número igual a alto habrá\n",
    "        tantos asteríscos como alto.\n",
    "\n",
    "    Ejemplo:\n",
    "        Si alto = 3\n",
    "        La función devuelve:\n",
    "        '*\n",
    "         **\n",
    "         ***'\n",
    "    \"\"\"\n",
    "\n",
    "    # Escribe aquí tu código\n",
    "    \n",
    "    \n",
    "    # Escribe aquí tu código\n",
    "    \n",
    "    return # Escribe aquí tu código"
   ]
  },
  {
   "cell_type": "code",
   "execution_count": null,
   "metadata": {},
   "outputs": [],
   "source": [
    "calificador.califica_triangulo_de_asteriscos(triangulo_de_asteriscos, CORREO, False)"
   ]
  }
 ],
 "metadata": {
  "kernelspec": {
   "display_name": "delfos",
   "language": "python",
   "name": "python3"
  },
  "language_info": {
   "codemirror_mode": {
    "name": "ipython",
    "version": 3
   },
   "file_extension": ".py",
   "mimetype": "text/x-python",
   "name": "python",
   "nbconvert_exporter": "python",
   "pygments_lexer": "ipython3",
   "version": "3.10.9"
  },
  "orig_nbformat": 4
 },
 "nbformat": 4,
 "nbformat_minor": 2
}
