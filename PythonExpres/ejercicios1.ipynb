{
 "cells": [
  {
   "cell_type": "markdown",
   "metadata": {},
   "source": [
    "# Ejercicios\n",
    "\n",
    "Todo buen programador debe contar con la habilidad de verificar que sus programas están bien hechos, al menos en una buena cantidad de casos (si se puede en el caso general mejor, es decir, para todos), por lo que, en estos ejercicios deberás entender correctamente el problema y tú mismo proveer casos a partir de los cuales sepas cuál es la respuesta. Prueba con más de un conjunto de casos."
   ]
  },
  {
   "cell_type": "markdown",
   "metadata": {},
   "source": [
    "# Ejercicio 1\n",
    "\n",
    "Escribir un algoritmo que permita obtener el área de un triángulo cualquiera usando la fórmula de Herón.\n",
    "\n",
    "La fórmula de Herón es la siguiente.\n",
    "\n",
    "$$\\text{área}=\\frac{1}{4}\\sqrt{(a^2+b^2+c^2)^2-2(a^4+b^4+c^4)}$$\n",
    "\n",
    "Ésta fórmula permite calcular el área de cualquier rectángulo, aún si no es triángulo rectángulo, conociendo la longitud de sus lados."
   ]
  },
  {
   "cell_type": "markdown",
   "metadata": {},
   "source": [
    "# Ejercicio 2\n",
    "\n",
    "Escribir un algoritmo que permita obtener la distancia entre dos puntos, en el plano, conociendo sus coordenadas.\n",
    "\n",
    "La fórmula para obtener la distancia entre dos puntos se parece mucho al teorema de Pitágoras y es la siguiente:\n",
    "\n",
    "$$d_{ab} = \\sqrt{(a_1 - b_1)^2 + (a_2 - b_2)^2}$$\n",
    "\n",
    "Donde $d_{ab}$ es la distancia entre los puntos $a$ y $b$, $a_1$ es la primer coordenada del punto $a$, $a_2$ es la segunda coordenada del punto $a$ y de manera similar con el punto $b$"
   ]
  },
  {
   "cell_type": "markdown",
   "metadata": {},
   "source": [
    "# Ejercicio 3\n",
    "\n",
    "Escribir un algoritmo que permita obtener el ángulo entre la hipotenusa de un triángulo rectángulo y algun otro cateto conociendo la longitud de los catetos.\n",
    "\n",
    "La formula para obtener dicho ángulo es:\n",
    "\n",
    "$$\\alpha = \\text{arctan}(\\frac{a}{b})$$\n",
    "\n",
    "Donde $\\alpha$ es el ángulo deseado, $a$ es el cateto opuesto a dicho ángulo y $b$ es el cateto adyacente a dicho ángulo.\n",
    "\n",
    "Mostrar el resultado en grados y en radianes.\n"
   ]
  }
 ],
 "metadata": {
  "kernelspec": {
   "display_name": "Python 3.10.6 ('delfosenv')",
   "language": "python",
   "name": "python3"
  },
  "language_info": {
   "name": "python",
   "version": "3.10.6"
  },
  "orig_nbformat": 4,
  "vscode": {
   "interpreter": {
    "hash": "66c9bc616bbdea0db480a7a6aa32456e08a9558e4f5898b1f651409aba2af12d"
   }
  }
 },
 "nbformat": 4,
 "nbformat_minor": 2
}
