{
 "cells": [
  {
   "cell_type": "code",
   "execution_count": 1,
   "metadata": {},
   "outputs": [],
   "source": [
    "#\n",
    "#\n",
    "# EJECUTAR ESTA CELDA CADA VEZ QUE ENTRES A HACER LA TAREA\n",
    "#\n",
    "#\n",
    "\n",
    "#####################################\n",
    "# Estructuras de datos\n",
    "#####################################\n",
    "\n",
    "\n",
    "import calificador\n",
    "from controlador import Controlador"
   ]
  },
  {
   "cell_type": "code",
   "execution_count": 2,
   "metadata": {},
   "outputs": [],
   "source": [
    "@Controlador(\"7\", \"ejercicio_61\")\n",
    "def ejercicio_61():\n",
    "    \"\"\"\n",
    "    Instrucciones:\n",
    "        La función \"ejercicio_61\" no toma ningún parámetro\n",
    "        y regresa una lista con los elementos: 1, 2, 3, [4,5]\n",
    "        es decir, debe regresar una lista con 4 elementos donde \n",
    "        tres son un número entero y uno una lista con dos elementos.\n",
    "\n",
    "    Recuerda:\n",
    "        Lo que la función \"regresa\" es justo lo que va después \n",
    "        de la palabra reservada \"return\".\n",
    "        \n",
    "        Cuida la indentación\n",
    "    \"\"\"\n",
    "    \n",
    "    # Escribe aquí tu código ↓\n",
    "    \n",
    "    \n",
    "    # Escribe aquí tu código ↑\n",
    "    \n",
    "    return # ← Escribe aquí tu código\n"
   ]
  },
  {
   "cell_type": "code",
   "execution_count": 4,
   "metadata": {},
   "outputs": [
    {
     "name": "stdout",
     "output_type": "stream",
     "text": [
      "===============================================================================\n",
      "\n",
      "============> Calificando: tarea 7 - ejercicio ejercicio_61 <============\n",
      "\n",
      "===============================================================================\n",
      "\n",
      "\n",
      "======================================================\n",
      "            ||          Calificación: 100.0            \n",
      "            ||          Aciertos: 1                   \n",
      "            ||          Errores: 0                     \n",
      "======================================================\n",
      "    \n",
      "======> Casos existosos: <======\n",
      "\n",
      "\u001b[0;34mValores de entrada: N/A.         \u001b[0;35mValor esperado: [1, 2, 3, [4, 5]].         \u001b[0;36mValor obtenido: [1, 2, 3, [4, 5]]\n",
      "\n",
      "======> No hubo errores :D <======\n",
      "\n",
      "\u001b[0;32m============> Calificación recibida <============\n",
      "\n"
     ]
    }
   ],
   "source": [
    "calificador.califica_ejercicio_61(ejercicio_61)"
   ]
  },
  {
   "cell_type": "code",
   "execution_count": 5,
   "metadata": {},
   "outputs": [],
   "source": [
    "@Controlador(\"7\", \"ejercicio_62\")\n",
    "def ejercicio_62(tupla):\n",
    "    \"\"\"\n",
    "    Instrucciones:\n",
    "        La función \"ejercicio_62\" toma el parámetro \"tupla\" \n",
    "        y regresa su longitud.\n",
    "\n",
    "    Condiciones:\n",
    "        El parámetro \"tupla\" debe ser una tupla con la cantidad\n",
    "        de elementos que tu decidas.\n",
    "\n",
    "    Recuerda:\n",
    "        Revisa la función len()\n",
    "\n",
    "        Lo que la función \"regresa\" es justo lo que va después \n",
    "        de la palabra reservada \"return\".\n",
    "        \n",
    "        Cuida la indentación.\n",
    "    \"\"\"\n",
    "    \n",
    "    # Escribe aquí tu código ↓\n",
    "    \n",
    "    \n",
    "    # Escribe aquí tu código ↑\n",
    "    \n",
    "    return # ← Escribe aquí tu código"
   ]
  },
  {
   "cell_type": "code",
   "execution_count": 6,
   "metadata": {},
   "outputs": [
    {
     "name": "stdout",
     "output_type": "stream",
     "text": [
      "===============================================================================\n",
      "\n",
      "============> Calificando: tarea 7 - ejercicio ejercicio_62 <============\n",
      "\n",
      "===============================================================================\n",
      "\n",
      "\n",
      "======================================================\n",
      "            ||          Calificación: 100.0            \n",
      "            ||          Aciertos: 4                   \n",
      "            ||          Errores: 0                     \n",
      "======================================================\n",
      "    \n",
      "======> Casos existosos: <======\n",
      "\n",
      "\u001b[0;34m Valores de entrada: ().             \u001b[0;35m Valor esperado: 0.             \u001b[0;36m Valor obtenido: 0\n",
      "\u001b[00m\n",
      "\u001b[0;34m Valores de entrada: (1, 2, 3).             \u001b[0;35m Valor esperado: 3.             \u001b[0;36m Valor obtenido: 3\n",
      "\u001b[00m\n",
      "\u001b[0;34m Valores de entrada: (1, 2, 3, 4, 5, 6, 7, 8, 9, 10).             \u001b[0;35m Valor esperado: 10.             \u001b[0;36m Valor obtenido: 10\n",
      "\u001b[00m\n",
      "\u001b[0;34m Valores de entrada: (0, 1, 2, 3, 4, 5, 6, 7, 8, 9, 10, 11, 12, 13, 14, 15, 16, 17, 18, 19, 20, 21, 22, 23, 24, 25, 26, 27, 28, 29, 30, 31, 32, 33, 34, 35, 36, 37, 38, 39, 40, 41, 42, 43, 44, 45, 46, 47, 48, 49, 50, 51, 52, 53, 54, 55, 56, 57, 58, 59, 60, 61, 62, 63, 64, 65, 66, 67, 68, 69, 70, 71, 72, 73, 74, 75, 76, 77, 78, 79, 80, 81, 82, 83, 84, 85, 86, 87, 88, 89, 90, 91, 92, 93, 94, 95, 96, 97, 98, 99).             \u001b[0;35m Valor esperado: 100.             \u001b[0;36m Valor obtenido: 100\n",
      "\u001b[00m\n",
      "======> No hubo errores :D <======\n",
      "\n",
      "\u001b[0;32m============> Calificación recibida <============\n",
      "\n"
     ]
    }
   ],
   "source": [
    "calificador.califica_ejercicio_62(ejercicio_62)"
   ]
  },
  {
   "cell_type": "code",
   "execution_count": 7,
   "metadata": {},
   "outputs": [],
   "source": [
    "@Controlador(\"7\", \"ejercicio_63\")\n",
    "def ejercicio_63(x):\n",
    "    \"\"\"\n",
    "    Instrucciones:\n",
    "        La función \"ejercicio_63\" toma el parámetro \"x\" \n",
    "        y debe regresar una lista que contenga como \n",
    "        único elemento al resultado de elevar \"x\"\n",
    "        al cubo.\n",
    "\n",
    "    Condiciones:\n",
    "        El parámetro \"x\" debe ser un número entero (int).\n",
    "\n",
    "    Recuerda:\n",
    "        Lo que la función \"regresa\" es justo lo que va después \n",
    "        de la palabra reservada \"return\".\n",
    "        \n",
    "        Cuida la indentación.\n",
    "    \"\"\"\n",
    "    \n",
    "    # Escribe aquí tu código ↓\n",
    "    \n",
    "    \n",
    "    # Escribe aquí tu código ↑\n",
    "    \n",
    "    return # ← Escribe aquí tu código"
   ]
  },
  {
   "cell_type": "code",
   "execution_count": 8,
   "metadata": {},
   "outputs": [
    {
     "name": "stdout",
     "output_type": "stream",
     "text": [
      "===============================================================================\n",
      "\n",
      "============> Calificando: tarea 7 - ejercicio ejercicio_63 <============\n",
      "\n",
      "===============================================================================\n",
      "\n",
      "\n",
      "======================================================\n",
      "            ||          Calificación: 100.0            \n",
      "            ||          Aciertos: 4                   \n",
      "            ||          Errores: 0                     \n",
      "======================================================\n",
      "    \n",
      "======> Casos existosos: <======\n",
      "\n",
      "\u001b[0;34m Valores de entrada: 1.5.             \u001b[0;35m Valor esperado: [3.375].             \u001b[0;36m Valor obtenido: [3.375]\n",
      "\u001b[00m\n",
      "\u001b[0;34m Valores de entrada: -1.5.             \u001b[0;35m Valor esperado: [-3.375].             \u001b[0;36m Valor obtenido: [-3.375]\n",
      "\u001b[00m\n",
      "\u001b[0;34m Valores de entrada: 5.             \u001b[0;35m Valor esperado: [125].             \u001b[0;36m Valor obtenido: [125]\n",
      "\u001b[00m\n",
      "\u001b[0;34m Valores de entrada: -3.             \u001b[0;35m Valor esperado: [-27].             \u001b[0;36m Valor obtenido: [-27]\n",
      "\u001b[00m\n",
      "======> No hubo errores :D <======\n",
      "\n",
      "\u001b[0;32m============> Calificación recibida <============\n",
      "\n"
     ]
    }
   ],
   "source": [
    "calificador.califica_ejercicio_63(ejercicio_63)"
   ]
  },
  {
   "cell_type": "code",
   "execution_count": 9,
   "metadata": {},
   "outputs": [],
   "source": [
    "@Controlador(\"7\", \"ejercicio_64\")\n",
    "def ejercicio_64():\n",
    "    \"\"\"\n",
    "    Instrucciones:\n",
    "        La función \"ejercicio_64\" no toma ningún parámetro\n",
    "        y regresa una lista vacía.\n",
    "\n",
    "    Recuerda:\n",
    "        Lo que la función \"regresa\" es justo lo que va después \n",
    "        de la palabra reservada \"return\".\n",
    "        \n",
    "        Cuida la indentación\n",
    "    \"\"\"\n",
    "    \n",
    "    # Escribe aquí tu código ↓\n",
    "    \n",
    "    \n",
    "    # Escribe aquí tu código ↑\n",
    "    \n",
    "    return # ← Escribe aquí tu código"
   ]
  },
  {
   "cell_type": "code",
   "execution_count": 10,
   "metadata": {},
   "outputs": [
    {
     "name": "stdout",
     "output_type": "stream",
     "text": [
      "===============================================================================\n",
      "\n",
      "============> Calificando: tarea 7 - ejercicio ejercicio_64 <============\n",
      "\n",
      "===============================================================================\n",
      "\n",
      "\n",
      "======================================================\n",
      "            ||          Calificación: 100.0            \n",
      "            ||          Aciertos: 1                   \n",
      "            ||          Errores: 0                     \n",
      "======================================================\n",
      "    \n",
      "======> Casos existosos: <======\n",
      "\n",
      "\u001b[0;34mValores de entrada: N/A.         \u001b[0;35mValor esperado: [].         \u001b[0;36mValor obtenido: []\n",
      "\n",
      "======> No hubo errores :D <======\n",
      "\n",
      "\u001b[0;32m============> Calificación recibida <============\n",
      "\n"
     ]
    }
   ],
   "source": [
    "calificador.califica_ejercicio_64(ejercicio_64)"
   ]
  },
  {
   "cell_type": "code",
   "execution_count": 13,
   "metadata": {},
   "outputs": [],
   "source": [
    "@Controlador(\"7\", \"ejercicio_65\")\n",
    "def ejercicio_65(i, x):\n",
    "    \"\"\"\n",
    "    Instrucciones:\n",
    "        La función \"ejercicio_65\" toma el parámetro \"i\", \"x\"\n",
    "        y, agrega el valor correspondiente a \"x\" en la \n",
    "        posición del indice determinado por \"i\" a la siguiente\n",
    "        lista: [\"Azul\", \"Verde\", \"Amarillo\"] para despues \n",
    "        regresar dicha lista ya modificada.\n",
    "\n",
    "    Condiciones:\n",
    "        El parámetro \"i\" debe ser el número entero del \n",
    "        índice donde queremos agregar nuestra \"x\" dentro de\n",
    "        la lista indicada.\n",
    "\n",
    "        El parámetro \"x\" debe ser una cadena de caracteres con\n",
    "        el nombre de algún color con la primer letra en mayúsculas.\n",
    "\n",
    "    Recuerda:\n",
    "        Revisa el método .insert()\n",
    "\n",
    "        Lo que la función \"regresa\" es justo lo que va después \n",
    "        de la palabra reservada \"return\".\n",
    "        \n",
    "        Cuida la indentación.\n",
    "    \"\"\"\n",
    "    \n",
    "    # Escribe aquí tu código ↓\n",
    "    \n",
    "    \n",
    "    # Escribe aquí tu código ↑\n",
    "    \n",
    "    return # ← Escribe aquí tu código"
   ]
  },
  {
   "cell_type": "code",
   "execution_count": 14,
   "metadata": {},
   "outputs": [
    {
     "name": "stdout",
     "output_type": "stream",
     "text": [
      "===============================================================================\n",
      "\n",
      "============> Calificando: tarea 7 - ejercicio ejercicio_65 <============\n",
      "\n",
      "===============================================================================\n",
      "\n",
      "\n",
      "======================================================\n",
      "            ||          Calificación: 0.0            \n",
      "            ||          Aciertos: 0                   \n",
      "            ||          Errores: 4                     \n",
      "======================================================\n",
      "    \n",
      "======> Casos existosos: <======\n",
      "\n",
      "\u001b[0;31m======> Casos con error <======\n",
      "\u001b[00m\n",
      "\u001b[0;34mValores de entrada: [0, 'Morado'].             \u001b[0;35mValor esperado: [['Morado', 'Azul', 'Verde', 'Amarillo']].             \u001b[0;36mValor obtenido: ['Morado', 'Azul', 'Verde', 'Amarillo']\n",
      "\n",
      "\u001b[0;34mValores de entrada: [1, 'Morado'].             \u001b[0;35mValor esperado: [['Azul', 'Morado', 'Verde', 'Amarillo']].             \u001b[0;36mValor obtenido: ['Azul', 'Morado', 'Verde', 'Amarillo']\n",
      "\n",
      "\u001b[0;34mValores de entrada: [2, 'Rosa'].             \u001b[0;35mValor esperado: [['Azul', 'Verde', 'Rosa', 'Amarillo']].             \u001b[0;36mValor obtenido: ['Azul', 'Verde', 'Rosa', 'Amarillo']\n",
      "\n",
      "\u001b[0;34mValores de entrada: [3, 'Rosa'].             \u001b[0;35mValor esperado: [['Azul', 'Verde', 'Amarillo', 'Rosa']].             \u001b[0;36mValor obtenido: ['Azul', 'Verde', 'Amarillo', 'Rosa']\n",
      "\n",
      "\u001b[0;32m============> Calificación recibida <============\n",
      "\n"
     ]
    }
   ],
   "source": [
    "calificador.califica_ejercicio_65(ejercicio_65)"
   ]
  },
  {
   "cell_type": "code",
   "execution_count": 15,
   "metadata": {},
   "outputs": [],
   "source": [
    "@Controlador(\"7\", \"ejercicio_66\")\n",
    "def ejercicio_66(x, y):\n",
    "    \"\"\"\n",
    "    Instrucciones:\n",
    "        La función \"ejercicio_66\" toma los parametros \"x\", \n",
    "        \"y\" y, debe regresar un diccionario con dos pares\n",
    "        clave-valor donde la clave del primer par sea \n",
    "        \"Edad\" y el valor el parámetro \"x\" y la clave del\n",
    "        segundo par sea \"Nombre\" cuyo valor será el del \n",
    "        parámetro \"y\" correspondientemente.\n",
    "\n",
    "    Condiciones:\n",
    "        El parámetro \"x\" debe ser un número entero (int) que\n",
    "        represente una edad y el parámetro \"y\" debe ser una \n",
    "        cadena de caracteres (str) que reperesente un nombre.\n",
    "\n",
    "    Recuerda:\n",
    "        Lo que la función \"regresa\" es justo lo que va después \n",
    "        de la palabra reservada \"return\".\n",
    "        \n",
    "        Cuida la indentación.\n",
    "    \"\"\"\n",
    "    \n",
    "    # Escribe aquí tu código ↓\n",
    "    \n",
    "    \n",
    "    # Escribe aquí tu código ↑\n",
    "    \n",
    "    return # ← Escribe aquí tu código"
   ]
  },
  {
   "cell_type": "code",
   "execution_count": 16,
   "metadata": {},
   "outputs": [
    {
     "name": "stdout",
     "output_type": "stream",
     "text": [
      "===============================================================================\n",
      "\n",
      "============> Calificando: tarea 7 - ejercicio ejercicio_66 <============\n",
      "\n",
      "===============================================================================\n",
      "\n",
      "\n",
      "======================================================\n",
      "            ||          Calificación: 100.0            \n",
      "            ||          Aciertos: 2                   \n",
      "            ||          Errores: 0                     \n",
      "======================================================\n",
      "    \n",
      "======> Casos existosos: <======\n",
      "\n",
      "\u001b[0;34mValores de entrada: [27, 'Ana'].             \u001b[0;35mValor esperado: {'Edad': 27, 'Nombre': 'Ana'}.             \u001b[0;36mValor obtenido: {'Edad': 27, 'Nombre': 'Ana'}\n",
      "\n",
      "\u001b[0;34mValores de entrada: [60, 'Juan'].             \u001b[0;35mValor esperado: {'Edad': 60, 'Nombre': 'Juan'}.             \u001b[0;36mValor obtenido: {'Edad': 60, 'Nombre': 'Juan'}\n",
      "\n",
      "======> No hubo errores :D <======\n",
      "\n",
      "\u001b[0;32m============> Calificación recibida <============\n",
      "\n"
     ]
    }
   ],
   "source": [
    "calificador.califica_ejercicio_66(ejercicio_66)"
   ]
  },
  {
   "cell_type": "code",
   "execution_count": 19,
   "metadata": {},
   "outputs": [],
   "source": [
    "@Controlador(\"7\", \"ejercicio_67\")\n",
    "def ejercicio_67():\n",
    "    \"\"\"\n",
    "     Instrucciones:\n",
    "        La función \"ejercicio_67\" no toma nada por argumento \n",
    "        y debe regresar la longitud de un diccionario.\n",
    "\n",
    "    Condiciones:\n",
    "        El diccionario debe tener tres pares clave-valor con \n",
    "        contenido de tu preferencia\n",
    "\n",
    "    Recuerda:\n",
    "        Revisa la función len()\n",
    "\n",
    "        Lo que la función \"regresa\" es justo lo que va después \n",
    "        de la palabra reservada \"return\".\n",
    "        \n",
    "        Cuida la indentación.\n",
    "    \"\"\"\n",
    "    \n",
    "    # Escribe aquí tu código ↓\n",
    "     \n",
    "\n",
    "    # Escribe aquí tu código ↑\n",
    "    \n",
    "    return # ← Escribe aquí tu código"
   ]
  },
  {
   "cell_type": "code",
   "execution_count": 20,
   "metadata": {},
   "outputs": [
    {
     "name": "stdout",
     "output_type": "stream",
     "text": [
      "===============================================================================\n",
      "\n",
      "============> Calificando: tarea 7 - ejercicio ejercicio_67 <============\n",
      "\n",
      "===============================================================================\n",
      "\n",
      "\n",
      "======================================================\n",
      "            ||          Calificación: 0.0            \n",
      "            ||          Aciertos: 0                   \n",
      "            ||          Errores: 4                     \n",
      "======================================================\n",
      "    \n",
      "======> Casos existosos: <======\n",
      "\n",
      "\u001b[0;31m======> Casos con error <======\n",
      "\u001b[00m\n",
      "\u001b[0;34m Valores de entrada: {}.             \u001b[0;35m Valor esperado: 0.             \u001b[0;36m Valor obtenido: {'clave': 1, 'v': 2, 'x': 3}\n",
      "\u001b[00m\n",
      "\u001b[0;34m Valores de entrada: {'Uno': 1, 'Dos': 2, 'Tres': 3}.             \u001b[0;35m Valor esperado: 3.             \u001b[0;36m Valor obtenido: {'clave': 1, 'v': 2, 'x': 3}\n",
      "\u001b[00m\n",
      "\u001b[0;34m Valores de entrada: {'Dia': 'Martes'}.             \u001b[0;35m Valor esperado: 1.             \u001b[0;36m Valor obtenido: {'clave': 1, 'v': 2, 'x': 3}\n",
      "\u001b[00m\n",
      "\u001b[0;34m Valores de entrada: {'Curso': 'Python de la a a la z', 'Fecha': '17 de enero'}.             \u001b[0;35m Valor esperado: 2.             \u001b[0;36m Valor obtenido: {'clave': 1, 'v': 2, 'x': 3}\n",
      "\u001b[00m\n",
      "\u001b[0;32m============> Calificación recibida <============\n",
      "\n"
     ]
    }
   ],
   "source": [
    "calificador.califica_ejercicio_67(ejercicio_67)"
   ]
  },
  {
   "cell_type": "code",
   "execution_count": 21,
   "metadata": {},
   "outputs": [],
   "source": [
    "@Controlador(\"7\", \"ejercicio_68\")\n",
    "def ejercicio_68():\n",
    "    \"\"\"\n",
    "    Instrucciones:\n",
    "        La función \"ejercicio_68\" no toma ningún parámetro\n",
    "        y regresa un diccionario vacío.\n",
    "\n",
    "    Recuerda:\n",
    "        Lo que la función \"regresa\" es justo lo que va después \n",
    "        de la palabra reservada \"return\".\n",
    "        \n",
    "        Cuida la indentación\n",
    "    \"\"\"\n",
    "    \n",
    "    # Escribe aquí tu código ↓\n",
    "    \n",
    "    \n",
    "    # Escribe aquí tu código ↑\n",
    "    \n",
    "    return # ← Escribe aquí tu código"
   ]
  },
  {
   "cell_type": "code",
   "execution_count": 22,
   "metadata": {},
   "outputs": [
    {
     "name": "stdout",
     "output_type": "stream",
     "text": [
      "===============================================================================\n",
      "\n",
      "============> Calificando: tarea 7 - ejercicio ejercicio_68 <============\n",
      "\n",
      "===============================================================================\n",
      "\n",
      "\n",
      "======================================================\n",
      "            ||          Calificación: 0.0            \n",
      "            ||          Aciertos: 0                   \n",
      "            ||          Errores: 1                     \n",
      "======================================================\n",
      "    \n",
      "======> Casos existosos: <======\n",
      "\n",
      "\u001b[0;31m======> Casos con error <======\n",
      "\u001b[00m\n",
      "\u001b[0;34mValores de entrada: N/A.         \u001b[0;35mValor esperado: ().         \u001b[0;36mValor obtenido: {}\n",
      "\n",
      "\u001b[0;32m============> Calificación recibida <============\n",
      "\n"
     ]
    }
   ],
   "source": [
    "calificador.califica_ejercicio_68(ejercicio_68)"
   ]
  },
  {
   "cell_type": "code",
   "execution_count": 23,
   "metadata": {},
   "outputs": [],
   "source": [
    "@Controlador(\"7\", \"ejercicio_69\")\n",
    "def ejercicio_69():\n",
    "    \"\"\"\n",
    "    Instrucciones:\n",
    "        La función \"ejercicio_69\" no toma ningún parámetro\n",
    "        y regresa una tupla con los elementos: \"Analítica\", \"Delfos\" \n",
    "        es decir, debe regresar una tupla con dos elementos.\n",
    "\n",
    "    Recuerda:\n",
    "        Lo que la función \"regresa\" es justo lo que va después \n",
    "        de la palabra reservada \"return\".\n",
    "        \n",
    "        Cuida la indentación\n",
    "    \"\"\"\n",
    "    \n",
    "    # Escribe aquí tu código ↓\n",
    "    \n",
    "    \n",
    "    # Escribe aquí tu código ↑\n",
    "    \n",
    "    return # ← Escribe aquí tu código\n"
   ]
  },
  {
   "cell_type": "code",
   "execution_count": 24,
   "metadata": {},
   "outputs": [
    {
     "name": "stdout",
     "output_type": "stream",
     "text": [
      "===============================================================================\n",
      "\n",
      "============> Calificando: tarea 7 - ejercicio ejercicio_69 <============\n",
      "\n",
      "===============================================================================\n",
      "\n",
      "\n",
      "======================================================\n",
      "            ||          Calificación: 100.0            \n",
      "            ||          Aciertos: 1                   \n",
      "            ||          Errores: 0                     \n",
      "======================================================\n",
      "    \n",
      "======> Casos existosos: <======\n",
      "\n",
      "\u001b[0;34mValores de entrada: N/A.         \u001b[0;35mValor esperado: ('Analítica', 'Delfos').         \u001b[0;36mValor obtenido: ('Analítica', 'Delfos')\n",
      "\n",
      "======> No hubo errores :D <======\n",
      "\n",
      "\u001b[0;32m============> Calificación recibida <============\n",
      "\n"
     ]
    }
   ],
   "source": [
    "calificador.califica_ejercicio_69(ejercicio_69)"
   ]
  },
  {
   "cell_type": "code",
   "execution_count": 25,
   "metadata": {},
   "outputs": [],
   "source": [
    "@Controlador(\"7\", \"ejercicio_70\")\n",
    "def ejercicio_70(x):\n",
    "    \"\"\"\n",
    "    Instrucciones:\n",
    "        La función \"ejercicio_70\" toma el parámetro \"x\" y  \n",
    "        lo agrega al final de la lista: [\"Piña\", \"Manzana\", \"Uva\"] \n",
    "        para despues regresar dicha lista con \"x\" como último\n",
    "        elemento.\n",
    "\n",
    "    Condiciones:\n",
    "        El parámetro \"x\" debe ser una cadena de caracteres con\n",
    "        el nombre de alguna fruta.\n",
    "\n",
    "    Recuerda:\n",
    "        Revisa el método .append()\n",
    "\n",
    "        Lo que la función \"regresa\" es justo lo que va después \n",
    "        de la palabra reservada \"return\".\n",
    "        \n",
    "        Cuida la indentación.\n",
    "    \"\"\"\n",
    "    \n",
    "    # Escribe aquí tu código ↓\n",
    "    \n",
    "    \n",
    "    # Escribe aquí tu código ↑\n",
    "    \n",
    "    return # ← Escribe aquí tu código"
   ]
  },
  {
   "cell_type": "code",
   "execution_count": 26,
   "metadata": {},
   "outputs": [
    {
     "name": "stdout",
     "output_type": "stream",
     "text": [
      "===============================================================================\n",
      "\n",
      "============> Calificando: tarea 7 - ejercicio ejercicio_70 <============\n",
      "\n",
      "===============================================================================\n",
      "\n",
      "\n",
      "======================================================\n",
      "            ||          Calificación: 100.0            \n",
      "            ||          Aciertos: 4                   \n",
      "            ||          Errores: 0                     \n",
      "======================================================\n",
      "    \n",
      "======> Casos existosos: <======\n",
      "\n",
      "\u001b[0;34m Valores de entrada: Pera.             \u001b[0;35m Valor esperado: ['Piña', 'Manzana', 'Uva', 'Pera'].             \u001b[0;36m Valor obtenido: ['Piña', 'Manzana', 'Uva', 'Pera']\n",
      "\u001b[00m\n",
      "\u001b[0;34m Valores de entrada: Sandía.             \u001b[0;35m Valor esperado: ['Piña', 'Manzana', 'Uva', 'Sandía'].             \u001b[0;36m Valor obtenido: ['Piña', 'Manzana', 'Uva', 'Sandía']\n",
      "\u001b[00m\n",
      "\u001b[0;34m Valores de entrada: Fresa.             \u001b[0;35m Valor esperado: ['Piña', 'Manzana', 'Uva', 'Fresa'].             \u001b[0;36m Valor obtenido: ['Piña', 'Manzana', 'Uva', 'Fresa']\n",
      "\u001b[00m\n",
      "\u001b[0;34m Valores de entrada: Mango.             \u001b[0;35m Valor esperado: ['Piña', 'Manzana', 'Uva', 'Mango'].             \u001b[0;36m Valor obtenido: ['Piña', 'Manzana', 'Uva', 'Mango']\n",
      "\u001b[00m\n",
      "======> No hubo errores :D <======\n",
      "\n",
      "\u001b[0;32m============> Calificación recibida <============\n",
      "\n"
     ]
    }
   ],
   "source": [
    "calificador.califica_ejercicio_70(ejercicio_70)"
   ]
  }
 ],
 "metadata": {
  "kernelspec": {
   "display_name": "infotec",
   "language": "python",
   "name": "python3"
  },
  "language_info": {
   "codemirror_mode": {
    "name": "ipython",
    "version": 3
   },
   "file_extension": ".py",
   "mimetype": "text/x-python",
   "name": "python",
   "nbconvert_exporter": "python",
   "pygments_lexer": "ipython3",
   "version": "3.10.10"
  }
 },
 "nbformat": 4,
 "nbformat_minor": 2
}
