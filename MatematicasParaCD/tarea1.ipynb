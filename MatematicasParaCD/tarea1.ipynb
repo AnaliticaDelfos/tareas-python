{
 "cells": [
  {
   "cell_type": "code",
   "execution_count": 1,
   "metadata": {},
   "outputs": [],
   "source": [
    "#\n",
    "#\n",
    "# EJECUTAR ESTA CELDA\n",
    "#\n",
    "#\n",
    "\n",
    "#####################################\n",
    "#       Tarea ejemplo\n",
    "#####################################\n",
    "\n",
    "\n",
    "import calificador\n",
    "import numpy as np\n",
    "CORREO = \"TU CORREO\""
   ]
  },
  {
   "cell_type": "code",
   "execution_count": 2,
   "metadata": {},
   "outputs": [],
   "source": [
    "def ejercicio_4():\n",
    "    \"\"\"\n",
    "    Instrucciones:\n",
    "        Esta función no recibe ningún argumento,\n",
    "        crea el arreglo de numpy con los valores\n",
    "        \n",
    "        [[90, 52, 80],\n",
    "        [58, 24, 16],\n",
    "        [45, 47, 97]]\n",
    "        \n",
    "        devuelve la suma por filas\n",
    "\n",
    "    Recuerda:\n",
    "        Lo que la función \"regresa\" va justo después\n",
    "        de la palabra return\n",
    "\n",
    "    Recuerda:\n",
    "        Cuida la indentación.\n",
    "    \"\"\"\n",
    "\n",
    "    # Escribe aquí tu código\n",
    "    \n",
    "\n",
    "    # Escribe aquí tu código\n",
    "    \n",
    "    return # Escribe aquí tu código"
   ]
  },
  {
   "cell_type": "code",
   "execution_count": 3,
   "metadata": {},
   "outputs": [
    {
     "ename": "AssertionError",
     "evalue": "Ingresa tu correo",
     "output_type": "error",
     "traceback": [
      "\u001b[1;31m---------------------------------------------------------------------------\u001b[0m",
      "\u001b[1;31mAssertionError\u001b[0m                            Traceback (most recent call last)",
      "Cell \u001b[1;32mIn[3], line 1\u001b[0m\n\u001b[1;32m----> 1\u001b[0m calificador\u001b[39m.\u001b[39;49mejercicio_4(ejercicio_4, CORREO, \u001b[39mFalse\u001b[39;49;00m)\n",
      "File \u001b[1;32mc:\\Users\\angel\\Documents\\Analitica Delfos\\Proyectos externos\\tareas-python\\MatematicasParaCD\\utilidades.py:219\u001b[0m, in \u001b[0;36mtemplate_iterable.<locals>.decoradora.<locals>.contenedora\u001b[1;34m(f, uuid, deseo_ayudar)\u001b[0m\n\u001b[0;32m    216\u001b[0m         excepcion \u001b[39m=\u001b[39m \u001b[39mstr\u001b[39m(e)\n\u001b[0;32m    217\u001b[0m         \u001b[39mbreak\u001b[39;00m\n\u001b[1;32m--> 219\u001b[0m helper(resultados, tarea, nombre, uuid, error\u001b[39m=\u001b[39;49merror, deseo\u001b[39m=\u001b[39;49mdeseo_ayudar, excepcion\u001b[39m=\u001b[39;49mexcepcion)\n",
      "File \u001b[1;32mc:\\Users\\angel\\Documents\\Analitica Delfos\\Proyectos externos\\tareas-python\\MatematicasParaCD\\utilidades.py:72\u001b[0m, in \u001b[0;36mhelper\u001b[1;34m(resultados, tarea, nombre, uuid, **kwargs)\u001b[0m\n\u001b[0;32m     70\u001b[0m \u001b[39mif\u001b[39;00m \u001b[39mnot\u001b[39;00m kwargs[\u001b[39m'\u001b[39m\u001b[39merror\u001b[39m\u001b[39m'\u001b[39m]:\n\u001b[0;32m     71\u001b[0m     \u001b[39massert\u001b[39;00m uuid \u001b[39m!=\u001b[39m \u001b[39mNone\u001b[39;00m, \u001b[39m\"\u001b[39m\u001b[39mIngresa tu correo\u001b[39m\u001b[39m\"\u001b[39m\n\u001b[1;32m---> 72\u001b[0m     \u001b[39massert\u001b[39;00m uuid \u001b[39m!=\u001b[39m \u001b[39m\"\u001b[39m\u001b[39mTU CORREO\u001b[39m\u001b[39m\"\u001b[39m, \u001b[39m\"\u001b[39m\u001b[39mIngresa tu correo\u001b[39m\u001b[39m\"\u001b[39m\n\u001b[0;32m     73\u001b[0m     \u001b[39mprint\u001b[39m(\u001b[39mf\u001b[39m\u001b[39m\"\u001b[39m\u001b[39m===============================================================================\u001b[39m\u001b[39m\\n\u001b[39;00m\u001b[39m\"\u001b[39m)\n\u001b[0;32m     74\u001b[0m     \u001b[39mprint\u001b[39m(\u001b[39mf\u001b[39m\u001b[39m\"\u001b[39m\u001b[39m============> Calificando: tarea \u001b[39m\u001b[39m{\u001b[39;00mtarea\u001b[39m}\u001b[39;00m\u001b[39m - ejercicio \u001b[39m\u001b[39m{\u001b[39;00mnombre\u001b[39m}\u001b[39;00m\u001b[39m <============\u001b[39m\u001b[39m\\n\u001b[39;00m\u001b[39m\"\u001b[39m)\n",
      "\u001b[1;31mAssertionError\u001b[0m: Ingresa tu correo"
     ]
    }
   ],
   "source": [
    "calificador.ejercicio_4(ejercicio_4, CORREO, False)"
   ]
  },
  {
   "cell_type": "code",
   "execution_count": null,
   "metadata": {},
   "outputs": [],
   "source": [
    "def ejercicio_5():\n",
    "    \"\"\"\n",
    "    Instrucciones:\n",
    "        Esta función no recibe ningún argumento,\n",
    "        crea el arreglo de numpy con los valores\n",
    "        \n",
    "        [[90, 52, 80],\n",
    "        [58, 24, 16],\n",
    "        [45, 47, 97]]\n",
    "        \n",
    "        devuelve la suma de todos los elementos\n",
    "\n",
    "    Recuerda:\n",
    "        Lo que la función \"regresa\" va justo después\n",
    "        de la palabra return\n",
    "\n",
    "    Recuerda:\n",
    "        Cuida la indentación.\n",
    "    \"\"\"\n",
    "\n",
    "    # Escribe aquí tu código\n",
    "\n",
    "\n",
    "    # Escribe aquí tu código\n",
    "    \n",
    "    return # Escribe aquí tu código"
   ]
  },
  {
   "cell_type": "code",
   "execution_count": null,
   "metadata": {},
   "outputs": [],
   "source": [
    "calificador.ejercicio_5(ejercicio_5, CORREO, False)"
   ]
  },
  {
   "cell_type": "code",
   "execution_count": null,
   "metadata": {},
   "outputs": [],
   "source": [
    "def ejercicio_6(lista):\n",
    "    \"\"\"\n",
    "    Instrucciones:\n",
    "        Esta función recibe una lista de python y devuelve un\n",
    "        arreglo de numpy con esa lista pero con dimensiones (2,3)\n",
    "\n",
    "    Recuerda:\n",
    "        Lo que la función \"regresa\" va justo después\n",
    "        de la palabra return\n",
    "\n",
    "    Recuerda:\n",
    "        Cuida la indentación.\n",
    "    \"\"\"\n",
    "\n",
    "    # Escribe aquí tu código\n",
    "    \n",
    "\n",
    "    # Escribe aquí tu código\n",
    "    \n",
    "    return # Escribe aquí tu código"
   ]
  },
  {
   "cell_type": "code",
   "execution_count": null,
   "metadata": {},
   "outputs": [],
   "source": [
    "calificador.ejercicio_6(ejercicio_6, CORREO, False)"
   ]
  },
  {
   "cell_type": "code",
   "execution_count": null,
   "metadata": {},
   "outputs": [],
   "source": [
    "def ejercicio_7(lista):\n",
    "    \"\"\"\n",
    "    Instrucciones:\n",
    "        Esta función recibe una lista de python, crea un arreglo\n",
    "        a partir de esa lista.\n",
    "\n",
    "        Devuelve un arreglo (vector fila) con tantos unos\n",
    "        como se encuentren en la última dimensión del arreglo creado\n",
    "        en el paso anterior.\n",
    "\n",
    "    Recuerda:\n",
    "        Lo que la función \"regresa\" va justo después\n",
    "        de la palabra return\n",
    "\n",
    "    Recuerda:\n",
    "        Cuida la indentación.\n",
    "    \"\"\"\n",
    "\n",
    "    # Escribe aquí tu código\n",
    "    \n",
    "    # Escribe aquí tu código\n",
    "    \n",
    "    return # Escribe aquí tu código"
   ]
  },
  {
   "cell_type": "code",
   "execution_count": null,
   "metadata": {},
   "outputs": [],
   "source": [
    "calificador.ejercicio_7(ejercicio_7, CORREO, False)"
   ]
  },
  {
   "cell_type": "code",
   "execution_count": null,
   "metadata": {},
   "outputs": [],
   "source": [
    "def ejercicio_8(lista):\n",
    "    \"\"\"\n",
    "    Instrucciones:\n",
    "        Esta función recibe una lista de python, crea un arreglo\n",
    "        a partir de esa lista.\n",
    "\n",
    "        Devuelve ese mismo arreglo con todos sus elementos elevados al cuadrado\n",
    "\n",
    "    Recuerda:\n",
    "        Lo que la función \"regresa\" va justo después\n",
    "        de la palabra return\n",
    "\n",
    "    Recuerda:\n",
    "        Cuida la indentación.\n",
    "    \"\"\"\n",
    "\n",
    "    # Escribe aquí tu código\n",
    "   \n",
    "\n",
    "    # Escribe aquí tu código\n",
    "    \n",
    "    return # Escribe aquí tu código"
   ]
  },
  {
   "cell_type": "code",
   "execution_count": null,
   "metadata": {},
   "outputs": [],
   "source": [
    "calificador.ejercicio_8(ejercicio_8, CORREO, False)"
   ]
  },
  {
   "cell_type": "code",
   "execution_count": null,
   "metadata": {},
   "outputs": [],
   "source": [
    "def ejercicio_9(lista):\n",
    "    \"\"\"\n",
    "    Instrucciones:\n",
    "        Esta función recibe una lista de python, crea un arreglo\n",
    "        a partir de esa lista, con forma (3,3).\n",
    "\n",
    "        Devuelve un arreglo que corresponde a la segunda fila\n",
    "        del arreglo anterior y hasta el penúltimo elemento \n",
    "        de esa fila\n",
    "\n",
    "    Ejemplo:\n",
    "        Si lista = [10, 11, 12, 13, 14, 15, 16, 17, 18]\n",
    "        la función debe regresar np.array([13, 14])\n",
    "\n",
    "    Recuerda:\n",
    "        Lo que la función \"regresa\" va justo después\n",
    "        de la palabra return\n",
    "\n",
    "    Recuerda:\n",
    "        Cuida la indentación.\n",
    "    \"\"\"\n",
    "\n",
    "    # Escribe aquí tu código\n",
    "    \n",
    "    # Escribe aquí tu código\n",
    "    \n",
    "    return  # Escribe aquí tu código"
   ]
  },
  {
   "cell_type": "code",
   "execution_count": null,
   "metadata": {},
   "outputs": [],
   "source": [
    "calificador.ejercicio_9(ejercicio_9, CORREO, False)"
   ]
  }
 ],
 "metadata": {
  "language_info": {
   "name": "python"
  },
  "orig_nbformat": 4
 },
 "nbformat": 4,
 "nbformat_minor": 2
}
