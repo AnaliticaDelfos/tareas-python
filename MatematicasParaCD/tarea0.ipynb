{
 "cells": [
  {
   "cell_type": "code",
   "execution_count": 1,
   "metadata": {},
   "outputs": [],
   "source": [
    "#\n",
    "#\n",
    "# EJECUTAR ESTA CELDA\n",
    "#\n",
    "#\n",
    "\n",
    "#####################################\n",
    "#       Tarea ejemplo\n",
    "#####################################\n",
    "\n",
    "\n",
    "import calificador\n",
    "import numpy as np\n",
    "CORREO = \"TU CORREO\""
   ]
  },
  {
   "cell_type": "code",
   "execution_count": 2,
   "metadata": {},
   "outputs": [],
   "source": [
    "def ejercicio_1():\n",
    "    \"\"\"\n",
    "    Instrucciones:\n",
    "        Esta función no recibe ningún argumento \n",
    "        y devuelve un arreglo de numpy\n",
    "        lleno de ceros con forma (1, 3)\n",
    "\n",
    "    Recuerda:\n",
    "        Lo que la función \"regresa\" va justo después\n",
    "        de la palabra return\n",
    "\n",
    "    Recuerda:\n",
    "        Cuida la indentación.\n",
    "    \"\"\"\n",
    "\n",
    "    # Escribe aquí tu código\n",
    "    \n",
    "\n",
    "    # Escribe aquí tu código\n",
    "    \n",
    "    return # Escribe aquí tu código"
   ]
  },
  {
   "cell_type": "code",
   "execution_count": 3,
   "metadata": {},
   "outputs": [
    {
     "ename": "AssertionError",
     "evalue": "Ingresa tu correo",
     "output_type": "error",
     "traceback": [
      "\u001b[1;31m---------------------------------------------------------------------------\u001b[0m",
      "\u001b[1;31mAssertionError\u001b[0m                            Traceback (most recent call last)",
      "Cell \u001b[1;32mIn[3], line 1\u001b[0m\n\u001b[1;32m----> 1\u001b[0m calificador\u001b[39m.\u001b[39;49mejercicio_1(ejercicio_1, CORREO, \u001b[39mFalse\u001b[39;49;00m)\n",
      "File \u001b[1;32mc:\\Users\\angel\\Documents\\Analitica Delfos\\Proyectos externos\\tareas-python\\MatematicasParaCD\\utilidades.py:219\u001b[0m, in \u001b[0;36mtemplate_iterable.<locals>.decoradora.<locals>.contenedora\u001b[1;34m(f, uuid, deseo_ayudar)\u001b[0m\n\u001b[0;32m    216\u001b[0m         excepcion \u001b[39m=\u001b[39m \u001b[39mstr\u001b[39m(e)\n\u001b[0;32m    217\u001b[0m         \u001b[39mbreak\u001b[39;00m\n\u001b[1;32m--> 219\u001b[0m helper(resultados, tarea, nombre, uuid, error\u001b[39m=\u001b[39;49merror, deseo\u001b[39m=\u001b[39;49mdeseo_ayudar, excepcion\u001b[39m=\u001b[39;49mexcepcion)\n",
      "File \u001b[1;32mc:\\Users\\angel\\Documents\\Analitica Delfos\\Proyectos externos\\tareas-python\\MatematicasParaCD\\utilidades.py:72\u001b[0m, in \u001b[0;36mhelper\u001b[1;34m(resultados, tarea, nombre, uuid, **kwargs)\u001b[0m\n\u001b[0;32m     70\u001b[0m \u001b[39mif\u001b[39;00m \u001b[39mnot\u001b[39;00m kwargs[\u001b[39m'\u001b[39m\u001b[39merror\u001b[39m\u001b[39m'\u001b[39m]:\n\u001b[0;32m     71\u001b[0m     \u001b[39massert\u001b[39;00m uuid \u001b[39m!=\u001b[39m \u001b[39mNone\u001b[39;00m, \u001b[39m\"\u001b[39m\u001b[39mIngresa tu correo\u001b[39m\u001b[39m\"\u001b[39m\n\u001b[1;32m---> 72\u001b[0m     \u001b[39massert\u001b[39;00m uuid \u001b[39m!=\u001b[39m \u001b[39m\"\u001b[39m\u001b[39mTU CORREO\u001b[39m\u001b[39m\"\u001b[39m, \u001b[39m\"\u001b[39m\u001b[39mIngresa tu correo\u001b[39m\u001b[39m\"\u001b[39m\n\u001b[0;32m     73\u001b[0m     \u001b[39mprint\u001b[39m(\u001b[39mf\u001b[39m\u001b[39m\"\u001b[39m\u001b[39m===============================================================================\u001b[39m\u001b[39m\\n\u001b[39;00m\u001b[39m\"\u001b[39m)\n\u001b[0;32m     74\u001b[0m     \u001b[39mprint\u001b[39m(\u001b[39mf\u001b[39m\u001b[39m\"\u001b[39m\u001b[39m============> Calificando: tarea \u001b[39m\u001b[39m{\u001b[39;00mtarea\u001b[39m}\u001b[39;00m\u001b[39m - ejercicio \u001b[39m\u001b[39m{\u001b[39;00mnombre\u001b[39m}\u001b[39;00m\u001b[39m <============\u001b[39m\u001b[39m\\n\u001b[39;00m\u001b[39m\"\u001b[39m)\n",
      "\u001b[1;31mAssertionError\u001b[0m: Ingresa tu correo"
     ]
    }
   ],
   "source": [
    "calificador.ejercicio_1(ejercicio_1, CORREO, False)"
   ]
  },
  {
   "cell_type": "code",
   "execution_count": null,
   "metadata": {},
   "outputs": [],
   "source": [
    "def ejercicio_2():\n",
    "    \"\"\"\n",
    "    Instrucciones:\n",
    "        Esta función no recibe ningún argumento \n",
    "        y devuelve un arreglo de numpy\n",
    "        lleno de unos con forma (3, 3)\n",
    "\n",
    "    Recuerda:\n",
    "        Lo que la función \"regresa\" va justo después\n",
    "        de la palabra return\n",
    "\n",
    "    Recuerda:\n",
    "        Cuida la indentación.\n",
    "    \"\"\"\n",
    "\n",
    "    # Escribe aquí tu código\n",
    "    \n",
    "\n",
    "    # Escribe aquí tu código\n",
    "    \n",
    "    return # Escribe aquí tu código"
   ]
  },
  {
   "cell_type": "code",
   "execution_count": null,
   "metadata": {},
   "outputs": [],
   "source": [
    "calificador.ejercicio_2(ejercicio_2, CORREO, False)"
   ]
  },
  {
   "cell_type": "code",
   "execution_count": null,
   "metadata": {},
   "outputs": [],
   "source": [
    "def ejercicio_3():\n",
    "    \"\"\"\n",
    "    Instrucciones:\n",
    "        Esta función no recibe ningún argumento,\n",
    "        crea el arreglo de numpy con los valores\n",
    "        \n",
    "        [[13,  4, 52, 43, 42],\n",
    "        [36, 44, 42, 98, 56]]\n",
    "        \n",
    "        se le suma 1 a cada elemento y devuelve el \n",
    "        arreglo de numpy resultante\n",
    "\n",
    "    Recuerda:\n",
    "        Lo que la función \"regresa\" va justo después\n",
    "        de la palabra return\n",
    "\n",
    "    Recuerda:\n",
    "        Cuida la indentación.\n",
    "    \"\"\"\n",
    "\n",
    "    # Escribe aquí tu código\n",
    "    \n",
    "\n",
    "    # Escribe aquí tu código\n",
    "    \n",
    "    return # Escribe aquí tu código"
   ]
  },
  {
   "cell_type": "code",
   "execution_count": null,
   "metadata": {},
   "outputs": [],
   "source": [
    "calificador.ejercicio_3(ejercicio_3, CORREO, False)"
   ]
  }
 ],
 "metadata": {
  "kernelspec": {
   "display_name": "delfosenv",
   "language": "python",
   "name": "python3"
  },
  "language_info": {
   "codemirror_mode": {
    "name": "ipython",
    "version": 3
   },
   "file_extension": ".py",
   "mimetype": "text/x-python",
   "name": "python",
   "nbconvert_exporter": "python",
   "pygments_lexer": "ipython3",
   "version": "3.11.4"
  },
  "orig_nbformat": 4
 },
 "nbformat": 4,
 "nbformat_minor": 2
}
