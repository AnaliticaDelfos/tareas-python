{
 "cells": [
  {
   "cell_type": "code",
   "execution_count": null,
   "metadata": {},
   "outputs": [],
   "source": [
    "#\n",
    "#\n",
    "# EJECUTAR ESTA CELDA\n",
    "#\n",
    "#\n",
    "\n",
    "#####################################\n",
    "#       Tarea ejemplo\n",
    "#####################################\n",
    "\n",
    "\n",
    "import calificador\n",
    "import numpy as np\n",
    "CORREO = \"TU CORREO\""
   ]
  },
  {
   "cell_type": "code",
   "execution_count": null,
   "metadata": {},
   "outputs": [],
   "source": [
    "def ejercicio_18(lista):\n",
    "    \"\"\"\n",
    "    Instrucciones:\n",
    "        Esta función recibe una lista, no es necesario saber\n",
    "        las dimensiones de esta lista, basta con saber que genera\n",
    "        una matriz cuadrada y que tiene un número par de columnas.\n",
    "        Crea un arreglo de numpy con dicha lista y aplica, en orden,\n",
    "        las siguientes operaciones:\n",
    "        Multiplica los elementos por 1.153.\n",
    "        Les suma a los elementos 100.\n",
    "        A los elementos de la mitad izquierda (pensando en columnas)\n",
    "        se les multiplica por -2.\n",
    "        A los elementos de la mitad derecha (pensando en columnas)\n",
    "        se les redondea a un decimal.\n",
    "\n",
    "    Recuerda:\n",
    "        Tú no sabes cuánto mide el arreglo, por lo tanto,\n",
    "        debes de encontrar el número de columnas.\n",
    "\n",
    "        Es probable que al momento de intentar hacer slicing\n",
    "        te mande un error de tipos, esto puede deberse a que\n",
    "        el slicing únicamente se puede hacer con números enteros, entonces,\n",
    "        el número que uses hay que asegurarse que sea número entero.\n",
    "\n",
    "    Recuerda:\n",
    "        Cuida la indentación.\n",
    "    \"\"\"\n",
    "\n",
    "    # Escribe aquí tu código\n",
    "    \n",
    "    \n",
    "    # Escribe aquí tu código\n",
    "    \n",
    "    return # Escribe aquí tu código"
   ]
  },
  {
   "cell_type": "code",
   "execution_count": null,
   "metadata": {},
   "outputs": [],
   "source": [
    "calificador.ejercicio_18(ejercicio_18, CORREO, False)"
   ]
  },
  {
   "cell_type": "code",
   "execution_count": null,
   "metadata": {},
   "outputs": [],
   "source": [
    "def ejercicio_19(lista):\n",
    "    \"\"\"\n",
    "    Instrucciones:\n",
    "        Esta función recibe una lista, no es necesario saber\n",
    "        las dimensiones de esta lista, basta con saber que\n",
    "        podemos interpretarlo como un vector fila.\n",
    "\n",
    "        Esta función debe devolver un arreglo de\n",
    "        4xn donde n es el número de elementos que tiene la lista\n",
    "        y cada renglón se rellena de la siguiente forma:\n",
    "        Primer fila: los elementos de la lista original.\n",
    "        Segunda fila: los elementos de la lista original multiplicados\n",
    "            por 3.1416\n",
    "        Tercera fila: los elementos de la lista original elevados\n",
    "            al cuadrado\n",
    "        Cuarta fila: Raíz cuadrada de la lista original y redondeado\n",
    "            el resultado a dos cifras.\n",
    "\n",
    "    Recuerda:\n",
    "        Cuida la indentación.\n",
    "    \"\"\"\n",
    "\n",
    "    # Escribe aquí tu código\n",
    "    \n",
    "\n",
    "    # Escribe aquí tu código\n",
    "    \n",
    "    return # Escribe aquí tu código"
   ]
  },
  {
   "cell_type": "code",
   "execution_count": null,
   "metadata": {},
   "outputs": [],
   "source": [
    "calificador.ejercicio_19(ejercicio_19, CORREO, False)"
   ]
  },
  {
   "cell_type": "code",
   "execution_count": null,
   "metadata": {},
   "outputs": [],
   "source": [
    "def ejercicio_20(lista1, lista2):\n",
    "    \"\"\"\n",
    "    Instrucciones:\n",
    "        Esta función recibe dos listas que generan matrices de las\n",
    "        mismas dimensiones y devuelve la multiplicación elemento\n",
    "        a elemento de dichas matrices.\n",
    "\n",
    "\n",
    "    Recuerda:\n",
    "        Cuida la indentación.\n",
    "    \"\"\"\n",
    "\n",
    "    # Escribe aquí tu código\n",
    "    \n",
    "\n",
    "    # Escribe aquí tu código\n",
    "    \n",
    "    return # Escribe aquí tu código"
   ]
  },
  {
   "cell_type": "code",
   "execution_count": null,
   "metadata": {},
   "outputs": [],
   "source": [
    "calificador.ejercicio_20(ejercicio_20, CORREO, False)"
   ]
  },
  {
   "cell_type": "code",
   "execution_count": null,
   "metadata": {},
   "outputs": [],
   "source": [
    "def ejercicio_21(lista1, lista2):\n",
    "    \"\"\"\n",
    "    Instrucciones:\n",
    "        Esta función recibe dos listas que generan matrices cuyas dimensiones\n",
    "        permiten hacer la multiplicación de matrices y devuelve\n",
    "        el resultado de hacer la multiplicación de matrices.\n",
    "\n",
    "\n",
    "    Recuerda:\n",
    "        Cuida la indentación.\n",
    "    \"\"\"\n",
    "\n",
    "    # Escribe aquí tu código\n",
    "    \n",
    "    \n",
    "    # Escribe aquí tu código\n",
    "    \n",
    "    return # Escribe aquí tu código"
   ]
  },
  {
   "cell_type": "code",
   "execution_count": null,
   "metadata": {},
   "outputs": [],
   "source": [
    "calificador.ejercicio_21(ejercicio_21, CORREO, False)"
   ]
  },
  {
   "cell_type": "markdown",
   "metadata": {},
   "source": [
    "## Fórmula para el ejercicio 22\n",
    "\n",
    "Dada una matriz M, transformar sus elementos de forma iterativa según la siguiente fórmula:\n",
    "\n",
    "$$M \\leftarrow M - \\alpha * M$$"
   ]
  },
  {
   "cell_type": "code",
   "execution_count": null,
   "metadata": {},
   "outputs": [],
   "source": [
    "def ejercicio_22(lista, alpha, n):\n",
    "    \"\"\"\n",
    "    Instrucciones:\n",
    "        Esta función recibe una lista que se puede pensar como una matriz.\n",
    "        Actualizar los valores de la matriz generada usando la fórmula de arriba.\n",
    "        Realizar esta actualización n veces.\n",
    "\n",
    "        Redondear el resultado final a 5 cifras.\n",
    "\n",
    "\n",
    "    Recuerda:\n",
    "        Cuida la indentación.\n",
    "    \"\"\"\n",
    "\n",
    "    # Escribe aquí tu código\n",
    "\n",
    "\n",
    "    # Escribe aquí tu código\n",
    "    \n",
    "    return # Escribe aquí tu código"
   ]
  },
  {
   "cell_type": "code",
   "execution_count": null,
   "metadata": {},
   "outputs": [],
   "source": [
    "calificador.ejercicio_22(ejercicio_22, CORREO, False)"
   ]
  }
 ],
 "metadata": {
  "kernelspec": {
   "display_name": "delfosenv",
   "language": "python",
   "name": "python3"
  },
  "language_info": {
   "codemirror_mode": {
    "name": "ipython",
    "version": 3
   },
   "file_extension": ".py",
   "mimetype": "text/x-python",
   "name": "python",
   "nbconvert_exporter": "python",
   "pygments_lexer": "ipython3",
   "version": "3.11.4"
  },
  "orig_nbformat": 4
 },
 "nbformat": 4,
 "nbformat_minor": 2
}
