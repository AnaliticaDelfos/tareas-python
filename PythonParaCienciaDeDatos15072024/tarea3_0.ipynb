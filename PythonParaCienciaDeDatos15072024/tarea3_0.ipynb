{
 "cells": [
  {
   "cell_type": "code",
   "execution_count": null,
   "metadata": {},
   "outputs": [],
   "source": [
    "#\n",
    "#\n",
    "# EJECUTAR ESTA CELDA CADA VEZ QUE ENTRES A HACER LA TAREA\n",
    "#\n",
    "#\n",
    "\n",
    "#####################################\n",
    "# Módulo Math\n",
    "#####################################\n",
    "\n",
    "\n",
    "import calificador\n",
    "from controlador import Controlador\n",
    "import math"
   ]
  },
  {
   "cell_type": "markdown",
   "metadata": {},
   "source": [
    "Fórmula ejercicio 21:\n",
    "$$a = \\sqrt{\\frac{x^3}{9}}"
   ]
  },
  {
   "cell_type": "code",
   "execution_count": null,
   "metadata": {},
   "outputs": [],
   "source": [
    "@Controlador(\"3\", \"ejercicio_21\")\n",
    "def ejercicio_21(x):\n",
    "    \"\"\"\n",
    "    Instrucciones:\n",
    "        La función \"ejercicio_21\" toma el parámetro \"x\" \n",
    "        y debe regresar el resultado de utilizar dicho \n",
    "        prámetro en la fórmula del ejercicio 21 para \n",
    "        calcular \"a\".\n",
    "\n",
    "    Condiciones:\n",
    "        Utilizar la función sqrt() del módulo math \n",
    "        para obtener la raíz cuadrada de la fórmula.\n",
    "        No es necesario importar el módulo en cada\n",
    "        ejercicio, éste ya fue importado en el primer\n",
    "        bloque de código con el calificador.\n",
    "    \n",
    "    Ejemplo:\n",
    "        Si x=6 la función regresa 4.8:\n",
    "        a = math.sqrt(6**3/9) \n",
    "        a = 4.8\n",
    "\n",
    "    Recuerda:\n",
    "        Lo que la función \"regresa\" es justo lo que\n",
    "        va después de la palabra reservada \"return\".\n",
    "        \n",
    "        Cuida la indentación.\n",
    "    \"\"\"\n",
    "    \n",
    "    # Escribe aquí tu código ↓\n",
    "    \n",
    "\n",
    "    # Escribe aquí tu código ↑\n",
    "\n",
    "    return # ← Escribe aquí tu código\n",
    "    "
   ]
  },
  {
   "cell_type": "code",
   "execution_count": null,
   "metadata": {},
   "outputs": [],
   "source": [
    "ejercicio_21(9)"
   ]
  },
  {
   "cell_type": "code",
   "execution_count": null,
   "metadata": {},
   "outputs": [],
   "source": [
    "calificador.califica_ejercicio_21(ejercicio_21)"
   ]
  },
  {
   "cell_type": "markdown",
   "metadata": {},
   "source": [
    "Fórmula ejercicio 22:\n",
    "$$ a = x^5 + 12 $$"
   ]
  },
  {
   "cell_type": "code",
   "execution_count": null,
   "metadata": {},
   "outputs": [],
   "source": [
    "@Controlador(\"3\", \"ejercicio_22\")\n",
    "def ejercicio_22(x):\n",
    "    \"\"\"\n",
    "    Instrucciones:\n",
    "        La función \"ejercicio_22\" toma el parámetro \"x\" \n",
    "        y debe regresar el resultado de utilizar dicho \n",
    "        prámetro en la fórmula del ejercicio 22 para \n",
    "        calcular \"a\".\n",
    "\n",
    "    Condiciones:\n",
    "        Utilizar la función pow(x, y) del módulo math \n",
    "        que retorna x elevado a la potencia y, para \n",
    "        obtener la quinta potencia de la x de la fórmula.\n",
    "        No es necesario importar el módulo en cada\n",
    "        ejercicio, éste ya fue importado en el primer\n",
    "        bloque de código con el calificador.\n",
    "    \n",
    "    Ejemplo:\n",
    "        Si x=4 la función regresa 1036:\n",
    "        a = math.pow(4, 5) + 12\n",
    "        a = 1036\n",
    "\n",
    "    Recuerda:\n",
    "        Lo que la función \"regresa\" es justo lo que\n",
    "        va después de la palabra reservada \"return\".\n",
    "        \n",
    "        Cuida la indentación.\n",
    "    \"\"\"\n",
    "\n",
    "    # Escribe aquí tu código ↓\n",
    "    \n",
    "\n",
    "    # Escribe aquí tu código ↑\n",
    "\n",
    "    return # ← Escribe aquí tu código"
   ]
  },
  {
   "cell_type": "code",
   "execution_count": null,
   "metadata": {},
   "outputs": [],
   "source": [
    "ejercicio_22(3)"
   ]
  },
  {
   "cell_type": "code",
   "execution_count": null,
   "metadata": {},
   "outputs": [],
   "source": [
    "calificador.califica_ejercicio_22(ejercicio_22)"
   ]
  },
  {
   "cell_type": "markdown",
   "metadata": {},
   "source": [
    "Fórmula ejercicio 23:\n",
    "$$ a = 4 * sen(x) $$"
   ]
  },
  {
   "cell_type": "code",
   "execution_count": null,
   "metadata": {},
   "outputs": [],
   "source": [
    "@Controlador(\"3\", \"ejercicio_23\")\n",
    "def ejercicio_23(x):\n",
    "    \"\"\"\n",
    "    Instrucciones:\n",
    "        La función \"ejercicio_23\" toma el parámetro \"x\" \n",
    "        y debe regresar el resultado de utilizar dicho \n",
    "        prámetro en la fórmula del ejercicio 23 para \n",
    "        calcular \"a\".\n",
    "\n",
    "    Condiciones:\n",
    "        Utilizar la función sin(x) del módulo math \n",
    "        para obtener el valor seno(x) de la fórmula.\n",
    "        No es necesario importar el módulo en cada\n",
    "        ejercicio, éste ya fue importado en el primer\n",
    "        bloque de código con el calificador.\n",
    "    \n",
    "    Ejemplo:\n",
    "        Si x=2 la función regresa 3.637:\n",
    "        a = 4 * math.sin(2) \n",
    "        a = 3.637\n",
    "\n",
    "    Recuerda:\n",
    "        Lo que la función \"regresa\" es justo lo que\n",
    "        va después de la palabra reservada \"return\".\n",
    "        \n",
    "        Cuida la indentación.\n",
    "    \"\"\"\n",
    "\n",
    "    # Escribe aquí tu código ↓\n",
    "    \n",
    "\n",
    "    # Escribe aquí tu código ↑\n",
    "\n",
    "    return # ← Escribe aquí tu código"
   ]
  },
  {
   "cell_type": "code",
   "execution_count": null,
   "metadata": {},
   "outputs": [],
   "source": [
    "ejercicio_23(1)"
   ]
  },
  {
   "cell_type": "code",
   "execution_count": null,
   "metadata": {},
   "outputs": [],
   "source": [
    "calificador.califica_ejercicio_23(ejercicio_23)"
   ]
  },
  {
   "cell_type": "markdown",
   "metadata": {},
   "source": [
    "Fórmula ejercicio 24:\n",
    "\n",
    "$$ a = \\frac{y*3}{cos(x)} $$"
   ]
  },
  {
   "cell_type": "code",
   "execution_count": null,
   "metadata": {},
   "outputs": [],
   "source": [
    "@Controlador(\"3\", \"ejercicio_24\")\n",
    "def ejercicio_24(x, y):\n",
    "    \"\"\"\n",
    "    Instrucciones:\n",
    "        La función \"ejercicio_24\" toma los parámetros \"x\", \n",
    "        \"y\", y debe regresar el resultado de utilizar dichos\n",
    "        prámetros en la fórmula del ejercicio 24 para \n",
    "        calcular \"a\".\n",
    "\n",
    "    Condiciones:\n",
    "        Utilizar la función cos(x) del módulo math \n",
    "        para obtener el valor cos(x) de la fórmula.\n",
    "        No es necesario importar el módulo en cada\n",
    "        ejercicio, éste ya fue importado en el primer\n",
    "        bloque de código con el calificador.\n",
    "    \n",
    "    Ejemplo:\n",
    "        Si x=3 y y=1 la función regresa -3.0303259977239816:\n",
    "        a = 1*3 / math.cos(3) \n",
    "        a = -3.0303259977239816\n",
    "\n",
    "    Recuerda:\n",
    "        Lo que la función \"regresa\" es justo lo que\n",
    "        va después de la palabra reservada \"return\".\n",
    "        \n",
    "        Cuida la indentación.\n",
    "    \"\"\"\n",
    "\n",
    "    # Escribe aquí tu código ↓\n",
    "    \n",
    "\n",
    "    # Escribe aquí tu código ↑\n",
    "\n",
    "    return # ← Escribe aquí tu código"
   ]
  },
  {
   "cell_type": "code",
   "execution_count": null,
   "metadata": {},
   "outputs": [],
   "source": [
    "ejercicio_24(5, 2)"
   ]
  },
  {
   "cell_type": "code",
   "execution_count": null,
   "metadata": {},
   "outputs": [],
   "source": [
    "calificador.califica_ejercicio_24(ejercicio_24)"
   ]
  },
  {
   "cell_type": "markdown",
   "metadata": {},
   "source": [
    "Fórmula ejercicio 25:\n",
    "$$ a = \\sqrt{tan(x) * y}$$"
   ]
  },
  {
   "cell_type": "code",
   "execution_count": null,
   "metadata": {},
   "outputs": [],
   "source": [
    "@Controlador(\"3\", \"ejercicio_25\")\n",
    "def ejercicio_25(x, y):\n",
    "    \"\"\"\n",
    "     Instrucciones:\n",
    "        La función \"ejercicio_25\" toma los parámetros \"x\", \n",
    "        \"y\", y debe regresar el resultado de utilizar dichos\n",
    "        prámetros en la fórmula del ejercicio 25 para \n",
    "        calcular \"a\".\n",
    "\n",
    "    Condiciones:\n",
    "        Utilizar la función tan(x) del módulo math \n",
    "        para obtener el valor tan(x) de la fórmula.\n",
    "        No es necesario importar el módulo en cada\n",
    "        ejercicio, éste ya fue importado en el primer\n",
    "        bloque de código con el calificador.\n",
    "    \n",
    "    Ejemplo:\n",
    "        Si x=2 y y=6 la función regresa -6.56:\n",
    "        a = (math.tan(2) * 6)**(1/2)\n",
    "        a = 6.56\n",
    "\n",
    "    Recuerda:\n",
    "        Lo que la función \"regresa\" es justo lo que\n",
    "        va después de la palabra reservada \"return\".\n",
    "        \n",
    "        Cuida la indentación.\n",
    "    \"\"\"\n",
    "\n",
    "    # Escribe aquí tu código ↓\n",
    "    \n",
    "\n",
    "    # Escribe aquí tu código ↑\n",
    "\n",
    "    return # ← Escribe aquí tu código"
   ]
  },
  {
   "cell_type": "code",
   "execution_count": null,
   "metadata": {},
   "outputs": [],
   "source": [
    "ejercicio_25(2, 4)"
   ]
  },
  {
   "cell_type": "code",
   "execution_count": null,
   "metadata": {},
   "outputs": [],
   "source": [
    "calificador.califica_ejercicio_25(ejercicio_25)"
   ]
  },
  {
   "cell_type": "markdown",
   "metadata": {},
   "source": [
    "Fórmula ejercicio 26:\n",
    "\n",
    "$$a = π * x^2 $$"
   ]
  },
  {
   "cell_type": "code",
   "execution_count": null,
   "metadata": {},
   "outputs": [],
   "source": [
    "@Controlador(\"3\", \"ejercicio_26\")\n",
    "def ejercicio_26(x):\n",
    "    \"\"\"\n",
    "    Instrucciones:\n",
    "        La función \"ejercicio_26\" toma el parámetro \"x\" \n",
    "        y debe regresar el resultado de utilizar dicho \n",
    "        prámetro en la fórmula del ejercicio 26 para \n",
    "        calcular \"a\".\n",
    "\n",
    "    Condiciones:\n",
    "        Utilizar la constante math.pi del módulo math \n",
    "        para obtener el valor π de la fórmula.\n",
    "        No es necesario importar el módulo en cada\n",
    "        ejercicio, éste ya fue importado en el primer\n",
    "        bloque de código con el calificador.\n",
    "    \n",
    "    Ejemplo:\n",
    "        Si x=5 la función regresa 78.54:\n",
    "        a = math.pi * 5**2\n",
    "        a = 78.54\n",
    "\n",
    "    Recuerda:\n",
    "        Lo que la función \"regresa\" es justo lo que\n",
    "        va después de la palabra reservada \"return\".\n",
    "        \n",
    "        Cuida la indentación.\n",
    "    \"\"\"\n",
    "\n",
    "    # Escribe aquí tu código ↓\n",
    "    \n",
    "\n",
    "    # Escribe aquí tu código ↑\n",
    "\n",
    "    return # ← Escribe aquí tu código"
   ]
  },
  {
   "cell_type": "code",
   "execution_count": null,
   "metadata": {},
   "outputs": [],
   "source": [
    "ejercicio_26(4)"
   ]
  },
  {
   "cell_type": "code",
   "execution_count": null,
   "metadata": {},
   "outputs": [],
   "source": [
    "calificador.califica_ejercicio_26(ejercicio_26)"
   ]
  },
  {
   "cell_type": "markdown",
   "metadata": {},
   "source": [
    "Fórmula ejercicio 27:\n",
    "$$ a = e(x) + \\frac{x + 10}{y} $$"
   ]
  },
  {
   "cell_type": "code",
   "execution_count": null,
   "metadata": {},
   "outputs": [],
   "source": [
    "@Controlador(\"3\", \"ejercicio_27\")\n",
    "def ejercicio_27(x, y):\n",
    "    \"\"\"\n",
    "    Instrucciones:\n",
    "        La función \"ejercicio_27\" toma los parámetros \"x\", \n",
    "        \"y\", y debe regresar el resultado de utilizar dichos\n",
    "        prámetros en la fórmula del ejercicio 27 para \n",
    "        calcular \"a\".\n",
    "\n",
    "    Condiciones:\n",
    "        Utilizar la constante del número de Euler (e)\n",
    "        del módulo math para obtener el valor e de la fórmula.\n",
    "        No es necesario importar el módulo en cada\n",
    "        ejercicio, éste ya fue importado en el primer\n",
    "        bloque de código con el calificador.\n",
    "    \n",
    "    Ejemplo:\n",
    "        Si x=2 y y=4 la función regresa 10.4:\n",
    "        a = math.exp(2) + ((2 + 10) / 4)\n",
    "        a = 10.4\n",
    "\n",
    "    Recuerda:\n",
    "        Lo que la función \"regresa\" es justo lo que\n",
    "        va después de la palabra reservada \"return\".\n",
    "        \n",
    "        Cuida la indentación.\n",
    "    \"\"\"\n",
    "\n",
    "    # Escribe aquí tu código ↓\n",
    "    \n",
    "\n",
    "    # Escribe aquí tu código ↑\n",
    "\n",
    "    return # ← Escribe aquí tu código"
   ]
  },
  {
   "cell_type": "code",
   "execution_count": null,
   "metadata": {},
   "outputs": [],
   "source": [
    "ejercicio_27(4, 5)"
   ]
  },
  {
   "cell_type": "code",
   "execution_count": null,
   "metadata": {},
   "outputs": [],
   "source": [
    "calificador.califica_ejercicio_27(ejercicio_27)"
   ]
  },
  {
   "cell_type": "markdown",
   "metadata": {},
   "source": [
    "Fórmula ejercicio 28:\n",
    "$$ a = \\sqrt[3]{x+7} $$"
   ]
  },
  {
   "cell_type": "code",
   "execution_count": null,
   "metadata": {},
   "outputs": [],
   "source": [
    "@Controlador(\"3\", \"ejercicio_28\")\n",
    "def ejercicio_28(x):\n",
    "    \"\"\"\n",
    "    Instrucciones:\n",
    "        La función \"ejercicio_28\" toma el parámetro \"x\" \n",
    "        y debe regresar el resultado de utilizar dicho \n",
    "        prámetro en la fórmula del ejercicio 28 para \n",
    "        calcular \"a\".\n",
    "\n",
    "    Condiciones:\n",
    "        Utilizar la función cbrt() del módulo math \n",
    "        para obtener la raíz cúbica de la fórmula.\n",
    "        No es necesario importar el módulo en cada\n",
    "        ejercicio, éste ya fue importado en el primer\n",
    "        bloque de código con el calificador.\n",
    "    \n",
    "    Ejemplo:\n",
    "        Si x=35 la función regresa 3.271:\n",
    "        a = math.cbrt(35+7) \n",
    "        a = 3.271\n",
    "\n",
    "    Recuerda:\n",
    "        Lo que la función \"regresa\" es justo lo que\n",
    "        va después de la palabra reservada \"return\".\n",
    "        \n",
    "        Cuida la indentación.\n",
    "    \"\"\"\n",
    "\n",
    "    # Escribe aquí tu código ↓\n",
    "    \n",
    "\n",
    "    # Escribe aquí tu código ↑\n",
    "\n",
    "    return # ← Escribe aquí tu código"
   ]
  },
  {
   "cell_type": "code",
   "execution_count": null,
   "metadata": {},
   "outputs": [],
   "source": [
    "ejercicio_28(20)"
   ]
  },
  {
   "cell_type": "code",
   "execution_count": null,
   "metadata": {},
   "outputs": [],
   "source": [
    "calificador.califica_ejercicio_28(ejercicio_28)"
   ]
  },
  {
   "cell_type": "code",
   "execution_count": null,
   "metadata": {},
   "outputs": [],
   "source": [
    "@Controlador(\"3\", \"ejercicio_29\")\n",
    "def ejercicio_29(radianes, x):\n",
    "    \"\"\"\n",
    "    Instrucciones:\n",
    "        La función \"ejercicio_29\" toma el parámetro \n",
    "        \"radianes\" y x\", y debe regresar el resultado \n",
    "        de obtener la conversion del parámetro \"radianes\"\n",
    "        a grados y multiplicar los grados obtenidos por \n",
    "        el parámetro \"x\"\n",
    "\n",
    "    Condiciones:\n",
    "        Utilizar la función degrees() del módulo math\n",
    "        que convierte la cantidad en radianes que se \n",
    "        le pase como argumento a grados.\n",
    "        No es necesario importar el módulo en cada\n",
    "        ejercicio, éste ya fue importado en el primer\n",
    "        bloque de código con el calificador.\n",
    "    \n",
    "    Ejemplo:\n",
    "        Si radianes=5 y x=3 la función regresa 859.43:\n",
    "        math.degrees(5) * 3 = 859.43\n",
    "\n",
    "    Recuerda:\n",
    "        Lo que la función \"regresa\" es justo lo que\n",
    "        va después de la palabra reservada \"return\".\n",
    "        \n",
    "        Cuida la indentación.\n",
    "    \"\"\"\n",
    "\n",
    "    # Escribe aquí tu código ↓\n",
    "\n",
    "\n",
    "    # Escribe aquí tu código ↑\n",
    "\n",
    "    return # ← Escribe aquí tu código"
   ]
  },
  {
   "cell_type": "code",
   "execution_count": null,
   "metadata": {},
   "outputs": [],
   "source": [
    "ejercicio_29(2, 3)"
   ]
  },
  {
   "cell_type": "code",
   "execution_count": null,
   "metadata": {},
   "outputs": [],
   "source": [
    "calificador.califica_ejercicio_29(ejercicio_29)"
   ]
  },
  {
   "cell_type": "code",
   "execution_count": null,
   "metadata": {},
   "outputs": [],
   "source": [
    "@Controlador(\"3\", \"ejercicio_30\")\n",
    "def ejercicio_30(grados, x):\n",
    "    \"\"\"\n",
    "    Instrucciones:\n",
    "        La función \"ejercicio_30\" toma los parámetros \n",
    "        \"grados\" y x\", y debe regresar el resultado \n",
    "        de obtener la conversion del parámetro \"grados\"\n",
    "        a radianes y sumarle x.\n",
    "\n",
    "    Condiciones:\n",
    "        Utilizar la función radians() del módulo math\n",
    "        que convierte la cantidad en grados que se \n",
    "        le pase como argumento a radianes.\n",
    "        No es necesario importar el módulo en cada\n",
    "        ejercicio, éste ya fue importado en el primer\n",
    "        bloque de código con el calificador.\n",
    "    \n",
    "    Ejemplo:\n",
    "        Si grados=4 y x=6 la función regresa 6.069:\n",
    "        math.radians(4) + 6 = 6.069\n",
    "\n",
    "    Recuerda:\n",
    "        Lo que la función \"regresa\" es justo lo que\n",
    "        va después de la palabra reservada \"return\".\n",
    "        \n",
    "        Cuida la indentación.\n",
    "    \"\"\"\n",
    "\n",
    "    # Escribe aquí tu código ↓\n",
    "\n",
    "\n",
    "    # Escribe aquí tu código ↑\n",
    "\n",
    "    return # ← Escribe aquí tu código"
   ]
  },
  {
   "cell_type": "code",
   "execution_count": null,
   "metadata": {},
   "outputs": [],
   "source": [
    "ejercicio_30(6, 10)"
   ]
  },
  {
   "cell_type": "code",
   "execution_count": null,
   "metadata": {},
   "outputs": [],
   "source": [
    "calificador.califica_ejercicio_30(ejercicio_30)"
   ]
  }
 ],
 "metadata": {
  "kernelspec": {
   "display_name": "infotec",
   "language": "python",
   "name": "python3"
  },
  "language_info": {
   "codemirror_mode": {
    "name": "ipython",
    "version": 3
   },
   "file_extension": ".py",
   "mimetype": "text/x-python",
   "name": "python",
   "nbconvert_exporter": "python",
   "pygments_lexer": "ipython3",
   "version": "3.12.2"
  }
 },
 "nbformat": 4,
 "nbformat_minor": 2
}
