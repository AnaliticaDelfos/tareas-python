{
 "cells": [
  {
   "cell_type": "markdown",
   "metadata": {},
   "source": [
    "<center><img src=\"Analitica delfos-06.jpg\" width=\"200\" height=\"160\" style=\"margin:auto\"/></center>"
   ]
  },
  {
   "cell_type": "code",
   "execution_count": null,
   "metadata": {},
   "outputs": [],
   "source": [
    "#\n",
    "#\n",
    "# EJECUTAR ESTA CELDA CADA VEZ QUE ENTRES A HACER LA TAREA\n",
    "#\n",
    "#\n",
    "\n",
    "#####################################\n",
    "# Iterables y ciclos\n",
    "#####################################\n",
    "\n",
    "\n",
    "import calificador\n",
    "from controlador import Controlador"
   ]
  },
  {
   "cell_type": "code",
   "execution_count": null,
   "metadata": {},
   "outputs": [],
   "source": [
    "@Controlador(\"9\", \"ejercicio_81\")\n",
    "def ejercicio_81(lista):\n",
    "    \"\"\"\n",
    "    Instrucciones:\n",
    "        La función \"ejercicio_81\" toma como parámetro \n",
    "        \"lista\" y debe regresar una tupla con los\n",
    "        elementos que contenga \"lista\".\n",
    "\n",
    "    Condiciones: \n",
    "        El parámetro \"lista\" debe ser una lista con\n",
    "        tres elementos del tipo de dato que tu desees.\n",
    "\n",
    "    Recuerda:\n",
    "        Lo que la función \"regresa\" es justo lo que va después \n",
    "        de la palabra reservada \"return\".\n",
    "        \n",
    "        Cuida la indentación.\n",
    "    \"\"\"\n",
    "    \n",
    "    # Escribe aquí tu código ↓\n",
    "    \n",
    "    \n",
    "    # Escribe aquí tu código ↑\n",
    "    \n",
    "    return # ← Escribe aquí tu código"
   ]
  },
  {
   "cell_type": "code",
   "execution_count": null,
   "metadata": {},
   "outputs": [],
   "source": [
    "calificador.califica_ejercicio_81(ejercicio_81)"
   ]
  },
  {
   "cell_type": "code",
   "execution_count": null,
   "metadata": {},
   "outputs": [],
   "source": [
    "@Controlador(\"9\", \"ejercicio_82\")\n",
    "def ejercicio_82(lista):\n",
    "    \"\"\"\n",
    "    Instrucciones:\n",
    "        La función \"ejercicio_82\" toma como parámetro \n",
    "        \"lista\" y debe regresar la lista que se le \n",
    "        pase como parámetro con la extensión de la \n",
    "        siguiente lista: [\"Python\", \"básico\"]. Es\n",
    "        decir, a la lista original le añadimos esta\n",
    "        lista de dos elementos.\n",
    "\n",
    "    Condiciones: \n",
    "        El parámetro \"lista\" debe ser una lista con \n",
    "        tres elementos, los cuales deben ser: 1,2,3 .\n",
    "\n",
    "        La lista final tendrá un total de 5 elementos.\n",
    "\n",
    "    Recuerda:\n",
    "        Revisa la función extend()\n",
    "        \n",
    "        Lo que la función \"regresa\" es justo lo que va después \n",
    "        de la palabra reservada \"return\".\n",
    "        \n",
    "        Cuida la indentación.\n",
    "    \"\"\"\n",
    "    \n",
    "    # Escribe aquí tu código ↓\n",
    "    \n",
    "    \n",
    "    # Escribe aquí tu código ↑\n",
    "    \n",
    "    return # ← Escribe aquí tu código"
   ]
  },
  {
   "cell_type": "code",
   "execution_count": null,
   "metadata": {},
   "outputs": [],
   "source": [
    "calificador.califica_ejercicio_82(ejercicio_82)"
   ]
  },
  {
   "cell_type": "code",
   "execution_count": null,
   "metadata": {},
   "outputs": [],
   "source": [
    "@Controlador(\"9\", \"ejercicio_83\")\n",
    "def ejercicio_83(lista):\n",
    "    \"\"\"\n",
    "    Instrucciones:\n",
    "        La función \"ejercicio_83\" toma como parámetro \n",
    "        \"lista\" y debe regresar una lista con las \n",
    "        palabras que tengan igual o más de 4 letras.\n",
    "\n",
    "    Condiciones: \n",
    "        El parámetro \"lista\" debe ser una lista con \n",
    "        los siguientes elementos:\n",
    "        \"Uva\", \"Hola\", \"Amarillo\", \"Rico\", \"Oso\" \n",
    "\n",
    "    Recuerda:\n",
    "        Lo que la función \"regresa\" es justo lo que va después \n",
    "        de la palabra reservada \"return\".\n",
    "        \n",
    "        Cuida la indentación.\n",
    "    \"\"\"\n",
    "    \n",
    "    # Escribe aquí tu código ↓\n",
    "    \n",
    "    \n",
    "    # Escribe aquí tu código ↑\n",
    "    \n",
    "    return # ← Escribe aquí tu código"
   ]
  },
  {
   "cell_type": "code",
   "execution_count": null,
   "metadata": {},
   "outputs": [],
   "source": [
    "calificador.califica_ejercicio_83(ejercicio_83)"
   ]
  },
  {
   "cell_type": "code",
   "execution_count": null,
   "metadata": {},
   "outputs": [],
   "source": [
    "@Controlador(\"9\", \"ejercicio_84\")\n",
    "def ejercicio_84(diccionario):\n",
    "    \"\"\"\n",
    "    Instrucciones:\n",
    "        La función \"ejercicio_84\" toma como parámetro \n",
    "        \"diccionario\" y debe regresar una lista con los \n",
    "        valores que contenga \"diccionario\"\n",
    "\n",
    "    Condiciones: \n",
    "        El parámetro \"diccionario\" debe ser un diccionario con \n",
    "        los siguientes pares clave-valor:\n",
    "        \"Marca\": \"Ford\", \"Modelo\": \"Sedan\", \"Año\": 2019\n",
    "\n",
    "    Recuerda:\n",
    "        Revisa el método .values()\n",
    "        \n",
    "        Lo que la función \"regresa\" es justo lo que va después \n",
    "        de la palabra reservada \"return\".\n",
    "        \n",
    "        Cuida la indentación.\n",
    "    \"\"\"\n",
    "    \n",
    "    # Escribe aquí tu código ↓\n",
    "    \n",
    "    \n",
    "    # Escribe aquí tu código ↑\n",
    "    \n",
    "    return # ← Escribe aquí tu código"
   ]
  },
  {
   "cell_type": "code",
   "execution_count": null,
   "metadata": {},
   "outputs": [],
   "source": [
    "calificador.califica_ejercicio_84(ejercicio_84)"
   ]
  },
  {
   "cell_type": "code",
   "execution_count": null,
   "metadata": {},
   "outputs": [],
   "source": [
    "@Controlador(\"9\", \"ejercicio_85\")\n",
    "def ejercicio_85(lista):\n",
    "    \"\"\"\n",
    "    Instrucciones:\n",
    "        La función \"ejercicio_85\" toma como parámetro \n",
    "        \"lista\" y debe regresar esa lista sin elementos\n",
    "        es decir, una lista vacía.\n",
    "\n",
    "    Condiciones: \n",
    "        El parámetro \"lista\" debe ser una lista con\n",
    "        tres elementos del tipo de dato que tu desees.\n",
    "\n",
    "    Recuerda:\n",
    "        Revisa el método .clear()\n",
    "        \n",
    "        Lo que la función \"regresa\" es justo lo que va después \n",
    "        de la palabra reservada \"return\".\n",
    "        \n",
    "        Cuida la indentación.\n",
    "    \"\"\"\n",
    "    \n",
    "    # Escribe aquí tu código ↓\n",
    "    \n",
    "    \n",
    "    # Escribe aquí tu código ↑\n",
    "    \n",
    "    return # ← Escribe aquí tu código"
   ]
  },
  {
   "cell_type": "code",
   "execution_count": null,
   "metadata": {},
   "outputs": [],
   "source": [
    "calificador.califica_ejercicio_85(ejercicio_85)"
   ]
  },
  {
   "cell_type": "code",
   "execution_count": null,
   "metadata": {},
   "outputs": [],
   "source": [
    "@Controlador(\"9\", \"ejercicio_86\")\n",
    "def ejercicio_86(lista1, lista2):\n",
    "    \"\"\"\n",
    "    Instrucciones:\n",
    "        La función \"ejercicio_86\" toma como parametros \n",
    "        \"lista1\", \"lista2\" y, debe regresar un diccionario\n",
    "        donde \"lista1\" sean las claves y \"lista2\" sean los\n",
    "        valores de éste.\n",
    "\n",
    "    Condiciones: \n",
    "        El parámetro \"lista1\" debe contener los siguientes elementos:\n",
    "        \"Lunes\", \"Martes\", \"Miércoles\", \"Jueves\", \"Viernes\"\n",
    "        y \"lista2\" debe contener los siguientes elementos:\n",
    "        1, 2, 3, 4, 5 \n",
    "\n",
    "    Recuerda:\n",
    "        Revisa la función zip()\n",
    "        \n",
    "        Lo que la función \"regresa\" es justo lo que va después \n",
    "        de la palabra reservada \"return\".\n",
    "        \n",
    "        Cuida la indentación.\n",
    "    \"\"\"\n",
    "    \n",
    "    # Escribe aquí tu código ↓\n",
    "    \n",
    "    \n",
    "    # Escribe aquí tu código ↑\n",
    "    \n",
    "    return # ← Escribe aquí tu código"
   ]
  },
  {
   "cell_type": "code",
   "execution_count": null,
   "metadata": {},
   "outputs": [],
   "source": [
    "calificador.califica_ejercicio_86(ejercicio_86)"
   ]
  },
  {
   "cell_type": "code",
   "execution_count": null,
   "metadata": {},
   "outputs": [],
   "source": [
    "@Controlador(\"9\", \"ejercicio_87\")\n",
    "def ejercicio_87(diccionario):\n",
    "    \"\"\"\n",
    "    Instrucciones:\n",
    "        La función \"ejercicio_87\" toma como parámetro \n",
    "        \"diccionario\" y debe regresar una lista con las \n",
    "        claves que contenga \"diccionario\"\n",
    "\n",
    "    Condiciones: \n",
    "        El parámetro \"diccionario\" debe ser un diccionario con \n",
    "        los siguientes pares clave-valor:\n",
    "        'Ana': 23, 'Juan': 15, 'Martha': 33, 'Alicia': 21, 'Pedro': 38, 'Eric': 32, 'Elena': 89\n",
    "\n",
    "    Recuerda:\n",
    "        Revisa el método .keys()\n",
    "        \n",
    "        Lo que la función \"regresa\" es justo lo que va después \n",
    "        de la palabra reservada \"return\".\n",
    "        \n",
    "        Cuida la indentación.\n",
    "    \"\"\"\n",
    "    \n",
    "    # Escribe aquí tu código ↓\n",
    "    \n",
    "    \n",
    "    # Escribe aquí tu código ↑\n",
    "    \n",
    "    return # ← Escribe aquí tu código"
   ]
  },
  {
   "cell_type": "code",
   "execution_count": null,
   "metadata": {},
   "outputs": [],
   "source": [
    "calificador.califica_ejercicio_87(ejercicio_87)"
   ]
  },
  {
   "cell_type": "code",
   "execution_count": null,
   "metadata": {},
   "outputs": [],
   "source": [
    "@Controlador(\"9\", \"ejercicio_88\")\n",
    "def ejercicio_88():\n",
    "    \"\"\"\n",
    "    Instrucciones:\n",
    "        La función \"ejercicio_88\" no toma ningún \n",
    "        parámetro y debe regresar una tupla con \n",
    "        los números del 0 al 50 (incluyendo el \n",
    "        0 y el 50).\n",
    "    \n",
    "    Condiciones:\n",
    "        Los elementos de la lista deben ser números\n",
    "        enteros (int).\n",
    "\n",
    "    Recuerda:\n",
    "        Lo que la función \"regresa\" es justo lo que va después \n",
    "        de la palabra reservada \"return\".\n",
    "        \n",
    "        Cuida la indentación.\n",
    "    \"\"\"\n",
    "    \n",
    "    # Escribe aquí tu código ↓\n",
    "    \n",
    "    \n",
    "    # Escribe aquí tu código ↑\n",
    "    \n",
    "    return # ← Escribe aquí tu código"
   ]
  },
  {
   "cell_type": "code",
   "execution_count": null,
   "metadata": {},
   "outputs": [],
   "source": [
    "calificador.califica_ejercicio_88(ejercicio_88)"
   ]
  },
  {
   "cell_type": "code",
   "execution_count": null,
   "metadata": {},
   "outputs": [],
   "source": [
    "@Controlador(\"9\", \"ejercicio_89\")\n",
    "def ejercicio_89():\n",
    "    \"\"\"\n",
    "    Instrucciones:\n",
    "        La función \"ejercicio_89\" no toma nada\n",
    "        como parámetro y debe regresar una lista\n",
    "        que contenga los números pares que se \n",
    "        encuentren entre el 0 y el 10 incluyendo el\n",
    "        0 y el 10.\n",
    "\n",
    "    Recuerda:\n",
    "        Revisa los ciclos for y las listas por comprensión.\n",
    "        \n",
    "        Lo que la función \"regresa\" es justo lo que va después \n",
    "        de la palabra reservada \"return\".\n",
    "        \n",
    "        Cuida la indentación.\n",
    "    \"\"\"\n",
    "    \n",
    "    # Escribe aquí tu código ↓\n",
    "    \n",
    "    \n",
    "    # Escribe aquí tu código ↑\n",
    "    \n",
    "    return # ← Escribe aquí tu código"
   ]
  },
  {
   "cell_type": "code",
   "execution_count": null,
   "metadata": {},
   "outputs": [],
   "source": [
    "calificador.califica_ejercicio_89(ejercicio_89)"
   ]
  },
  {
   "cell_type": "code",
   "execution_count": null,
   "metadata": {},
   "outputs": [],
   "source": [
    "@Controlador(\"9\", \"ejercicio_90\")\n",
    "def ejercicio_90(lista):\n",
    "    \"\"\"\n",
    "    Instrucciones:\n",
    "        La función \"ejercicio_90\" toma como parámetro \n",
    "        \"lista\" y debe regresar el elemento correspondiente\n",
    "        al número menor encontrado en \"lista\".\n",
    "\n",
    "    Condiciones: \n",
    "        El parámetro \"lista\" debe ser una lista con los\n",
    "        elementos: 2,2,98,5,8,55,5,41,35,2,88,6,6,21,1\n",
    "\n",
    "    Recuerda:\n",
    "        Revisa la función min()\n",
    "        \n",
    "        Lo que la función \"regresa\" es justo lo que va después \n",
    "        de la palabra reservada \"return\".\n",
    "        \n",
    "        Cuida la indentación.\n",
    "    \"\"\"\n",
    "    \n",
    "    # Escribe aquí tu código ↓\n",
    "    \n",
    "    \n",
    "    # Escribe aquí tu código ↑\n",
    "    \n",
    "    return # ← Escribe aquí tu código"
   ]
  },
  {
   "cell_type": "code",
   "execution_count": null,
   "metadata": {},
   "outputs": [],
   "source": [
    "calificador.califica_ejercicio_90(ejercicio_90)"
   ]
  }
 ],
 "metadata": {
  "kernelspec": {
   "display_name": "infotec",
   "language": "python",
   "name": "python3"
  },
  "language_info": {
   "codemirror_mode": {
    "name": "ipython",
    "version": 3
   },
   "file_extension": ".py",
   "mimetype": "text/x-python",
   "name": "python",
   "nbconvert_exporter": "python",
   "pygments_lexer": "ipython3",
   "version": "3.10.10"
  }
 },
 "nbformat": 4,
 "nbformat_minor": 2
}
