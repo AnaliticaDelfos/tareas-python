{
 "cells": [
  {
   "cell_type": "code",
   "execution_count": null,
   "metadata": {},
   "outputs": [],
   "source": [
    "#\n",
    "#\n",
    "# EJECUTAR ESTA CELDA CADA VEZ QUE ENTRES A HACER LA TAREA\n",
    "#\n",
    "#\n",
    "\n",
    "#####################################\n",
    "#       Programación orientada a objetos\n",
    "#####################################\n",
    "\n",
    "\n",
    "import calificador\n",
    "from controlador import Controlador"
   ]
  },
  {
   "cell_type": "markdown",
   "metadata": {},
   "source": [
    "Construir un sistema simple para gestionar información de empleados en una empresa. Deberás implementar una clase base Empleado y dos clases hijas: Desarrollador y Gerente."
   ]
  },
  {
   "cell_type": "code",
   "execution_count": null,
   "metadata": {},
   "outputs": [],
   "source": [
    "class Empleado:\n",
    "    \"\"\"\n",
    "    Instrucciones:\n",
    "        Esta clase debe tener:\n",
    "\n",
    "        Atributos:\n",
    "\n",
    "            nombre, inicializado como None\n",
    "            salario_base, inicializado como None\n",
    "\n",
    "        Métodos:\n",
    "            \n",
    "            asignar_nombre: Asigna el nombre al empleado\n",
    "            asignar_salario_base: Asigna el salario base\n",
    "\n",
    "            mostrar_informacion: Muestra el nombre y salario base con la siguiente estructura <<Nombre: #. Salario: $#.>>\n",
    "            sustituyendo # con el valor correspondiente. Ojo con los puntos, espacios y el signo $, no usar << >>.\n",
    "            Por ejemplo: \n",
    "                Nombre: Alberto. Salario: $10000.\n",
    "\n",
    "            calcular_salario: Devuelve el salario base. Unicamente el número, en tipo float\n",
    "\n",
    "            es_gerente: Devuelve False.\n",
    "\n",
    "    \"\"\"\n",
    "    def __init__(self):\n",
    "        self.nombre = None\n",
    "        self.salario_base = None\n",
    "        \n",
    "    def asignar_nombre(self, nombre):\n",
    "        self.nombre = nombre\n",
    "        \n",
    "    def asignar_salario_base(self, salario):\n",
    "        self.salario_base = salario\n",
    "        \n",
    "    def mostrar_informacion(self):\n",
    "        return f\"Nombre: {self.nombre}. Salario: ${self.salario_base}\"\n",
    "    \n",
    "    def calcular_salario(self):\n",
    "        return self.salario_base\n",
    "    \n",
    "    def es_gerente(self):\n",
    "        return False\n",
    "    "
   ]
  },
  {
   "cell_type": "code",
   "execution_count": null,
   "metadata": {},
   "outputs": [],
   "source": [
    "calificador.califica_clase_empleado(Empleado)"
   ]
  },
  {
   "cell_type": "code",
   "execution_count": null,
   "metadata": {},
   "outputs": [],
   "source": [
    "class Desarrollador:\n",
    "    \"\"\"\n",
    "    Instrucciones:\n",
    "        Modificar esta clase para que sea hija de la clase Empleado.\n",
    "        \n",
    "        Esta clase debe tener:\n",
    "\n",
    "        lenguajes (lista de str), inicializar como lista vacía\n",
    "\n",
    "        Métodos :\n",
    "        agregar_lenguaje: Agrega un lenguaje a la lista.\n",
    "        ver_lenguajes: Devuelve la lista de lenguajes, como lista.\n",
    "        \n",
    "    \"\"\""
   ]
  },
  {
   "cell_type": "code",
   "execution_count": null,
   "metadata": {},
   "outputs": [],
   "source": [
    "calificador.califica_clase_desarrollador(Desarrollador)"
   ]
  },
  {
   "cell_type": "code",
   "execution_count": null,
   "metadata": {},
   "outputs": [],
   "source": [
    "class Gerente:\n",
    "    \"\"\"\n",
    "    Instrucciones:\n",
    "        Modificar esta clase para que sea hija de la clase Empleado.\n",
    "        \n",
    "        Debe tener:\n",
    "\n",
    "        bono (float), inicializar en None\n",
    "\n",
    "        Métodos:\n",
    "        asignar_bono: Asigna el bono para el gerente\n",
    "        obtener_bono: Devuelve el bono en float\n",
    "        calcular_salario: Sobrescribe el método base, incluye el bono. Sobreescribir un método, en python es volver a \n",
    "        escribir el método deseado, con el comportamiento deseado, en este caso devuelve la suma del salario base con el bono. \n",
    "        \n",
    "    Ejemplo de sobreescritura\n",
    "    \n",
    "    Si tenemos una clase que se llama Animal y tiene un método que se llama caminar de la siguiente manera\n",
    "    def caminar(self):\n",
    "        print('Estoy caminando')\n",
    "        \n",
    "    Sobreescribir ese método sería posicionarte en la clase hija, dijamos Perro y escribir\n",
    "    def caminar(self):\n",
    "        print('Soy perro y estoy caminando')\n",
    "        \n",
    "    En otros lenguajes es más marcada la parte de sobreescritura, aquí nada más es volverlo a definir\n",
    "    \"\"\"\n",
    "    "
   ]
  },
  {
   "cell_type": "code",
   "execution_count": null,
   "metadata": {},
   "outputs": [],
   "source": [
    "calificador.califica_clase_gerente(Gerente)"
   ]
  }
 ],
 "metadata": {
  "kernelspec": {
   "display_name": "delfos",
   "language": "python",
   "name": "python3"
  },
  "language_info": {
   "codemirror_mode": {
    "name": "ipython",
    "version": 3
   },
   "file_extension": ".py",
   "mimetype": "text/x-python",
   "name": "python",
   "nbconvert_exporter": "python",
   "pygments_lexer": "ipython3",
   "version": "3.13.2"
  }
 },
 "nbformat": 4,
 "nbformat_minor": 2
}
