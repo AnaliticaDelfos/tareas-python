{
 "cells": [
  {
   "cell_type": "markdown",
   "metadata": {},
   "source": [
    "<center><img src=\"Analitica delfos-06.jpg\" width=\"200\" height=\"160\" style=\"margin:auto\"/></center>"
   ]
  },
  {
   "cell_type": "code",
   "execution_count": null,
   "metadata": {},
   "outputs": [],
   "source": [
    "#\n",
    "#\n",
    "# EJECUTAR ESTA CELDA CADA VEZ QUE ENTRES A HACER LA TAREA\n",
    "#\n",
    "#\n",
    "\n",
    "#####################################\n",
    "#  Operaciones aritméticas parte 1\n",
    "#####################################\n",
    "\n",
    "\n",
    "import calificador\n",
    "from controlador import Controlador"
   ]
  },
  {
   "cell_type": "code",
   "execution_count": null,
   "metadata": {},
   "outputs": [],
   "source": [
    "@Controlador(\"1\", \"ejercicio_1\")\n",
    "def ejercicio_1(numero1, numero2):\n",
    "    \"\"\"\n",
    "    Instrucciones:\n",
    "        La función \"ejercicio_1\" toma los parámetros \n",
    "        \"numero1\" y \"numero2\", y debe regresar la suma\n",
    "        de estos parámetros.\n",
    "    \n",
    "    Ejemplo:\n",
    "        Para un caso en el que numero1 = 5 y numero2 = 10,\n",
    "        la función regresa un 15:\n",
    "        5 + 10 = 15\n",
    "\n",
    "    Recuerda:\n",
    "        Lo que la función \"regresa\" es justo lo que\n",
    "        va después de la palabra reservada \"return\".\n",
    "        \n",
    "        Cuida la indentación.\n",
    "    \"\"\"\n",
    "\n",
    "    # Escribe aquí tu código ↓\n",
    "    \n",
    "\n",
    "    # Escribe aquí tu código ↑\n",
    "    \n",
    "    return # ← Escribe aquí tu código"
   ]
  },
  {
   "cell_type": "code",
   "execution_count": null,
   "metadata": {},
   "outputs": [],
   "source": [
    "ejercicio_1(15, 5)"
   ]
  },
  {
   "cell_type": "code",
   "execution_count": null,
   "metadata": {},
   "outputs": [],
   "source": [
    "calificador.califica_ejercicio_1(ejercicio_1)"
   ]
  },
  {
   "cell_type": "code",
   "execution_count": null,
   "metadata": {},
   "outputs": [],
   "source": [
    "@Controlador(\"1\", \"ejercicio_2\")\n",
    "def ejercicio_2(numero1, numero2, numero3):\n",
    "    \"\"\"\n",
    "    Instrucciones:\n",
    "        La función \"ejercicio_2\" toma los parámetros\n",
    "        \"numero1\", \"numero2\" y \"numero3\", y debe regresar\n",
    "        el resultado de la suma de \"numero1\" con \"numero2\" \n",
    "        menos \"numero3\".\n",
    "\n",
    "    Ejemplo:\n",
    "        Si numero1 = 5, numero2 = 5 y numero3 = 2\n",
    "        la función regresa un 8:\n",
    "        5 + 5 = 10\n",
    "        10 - 2 = 8\n",
    "\n",
    "    Recuerda:\n",
    "        Cuida la indentación.\n",
    "    \"\"\"\n",
    "\n",
    "    # Escribe aquí tu código ↓\n",
    "    \n",
    "\n",
    "    # Escribe aquí tu código ↑\n",
    "    \n",
    "    return # ← Escribe aquí tu código "
   ]
  },
  {
   "cell_type": "code",
   "execution_count": null,
   "metadata": {},
   "outputs": [],
   "source": [
    "ejercicio_2(10, 10, 5)"
   ]
  },
  {
   "cell_type": "code",
   "execution_count": null,
   "metadata": {},
   "outputs": [],
   "source": [
    "calificador.califica_ejercicio_2(ejercicio_2)"
   ]
  },
  {
   "cell_type": "code",
   "execution_count": null,
   "metadata": {},
   "outputs": [],
   "source": [
    "@Controlador(\"1\", \"ejercicio_3\")\n",
    "def ejercicio_3(numero1, numero2, numero3):\n",
    "    \"\"\"\n",
    "    Instrucciones:\n",
    "        La función \"ejercicio_3\" toma los parámetros\n",
    "        \"numero1\", \"numero2\" y \"numero3\", y debe regresar\n",
    "        el resultado de multiplicar \"numero2\" por \"numero3\"\n",
    "        más \"número1\".\n",
    "\n",
    "    Ejemplo:\n",
    "        Si numero1 = 5, numero2 = 2 y numero3 = 2\n",
    "        la función regresa un 9:\n",
    "        2 * 2 = 4\n",
    "        4 + 5 = 9\n",
    "\n",
    "    Recuerda:\n",
    "        Cuida la indentación.\n",
    "    \"\"\"\n",
    "\n",
    "    # Escribe aquí tu código ↓\n",
    "    \n",
    "\n",
    "    # Escribe aquí tu código ↑\n",
    "    \n",
    "    return # ← Escribe aquí tu código"
   ]
  },
  {
   "cell_type": "code",
   "execution_count": null,
   "metadata": {},
   "outputs": [],
   "source": [
    "ejercicio_3(10, 5, 5)"
   ]
  },
  {
   "cell_type": "code",
   "execution_count": null,
   "metadata": {},
   "outputs": [],
   "source": [
    "calificador.califica_ejercicio_3(ejercicio_3)"
   ]
  },
  {
   "cell_type": "code",
   "execution_count": null,
   "metadata": {},
   "outputs": [],
   "source": [
    "@Controlador(\"1\", \"ejercicio_4\")\n",
    "def ejercicio_4(numero1, numero2):\n",
    "    \"\"\"\n",
    "    Instrucciones:\n",
    "        La función \"ejercicio_4\" toma los parámetros \n",
    "        \"numero1\" y \"numero2\", y debe regresar el resultado\n",
    "        de dividir \"numero2\" entre \"numero1\".\n",
    "\n",
    "    Ejemplo:\n",
    "        Si numero1 = 2 y numero2 = 10 la función regresa 5:\n",
    "        10 / 2 = 5\n",
    "\n",
    "    Recuerda:\n",
    "        Cuida la indentación.\n",
    "    \"\"\"\n",
    "\n",
    "    # Escribe aquí tu código ↓\n",
    "    \n",
    "\n",
    "    # Escribe aquí tu código ↑\n",
    "    \n",
    "    return # ← Escribe aquí tu código"
   ]
  },
  {
   "cell_type": "code",
   "execution_count": null,
   "metadata": {},
   "outputs": [],
   "source": [
    "ejercicio_4(4, 20)"
   ]
  },
  {
   "cell_type": "code",
   "execution_count": null,
   "metadata": {},
   "outputs": [],
   "source": [
    "calificador.califica_ejercicio_4(ejercicio_4)"
   ]
  },
  {
   "cell_type": "code",
   "execution_count": null,
   "metadata": {},
   "outputs": [],
   "source": [
    "@Controlador(\"1\", \"ejercicio_5\")\n",
    "def ejercicio_5(numero1, numero2):\n",
    "    \"\"\"\n",
    "    Instrucciones:\n",
    "        La función \"ejercicio_5\" toma los parámetros\n",
    "        \"numero1\" y \"numero2\", y debe regresar el resultado\n",
    "        de elevar \"numero1\" a la potencia de \"numero2\".\n",
    "        \n",
    "    Ejemplo:\n",
    "        Si numero1 = 5 y numero2 = 2 la función regresa 25:\n",
    "        5 ** 2 = 25\n",
    "\n",
    "    Recuerda:\n",
    "        Cuida la indentación.\n",
    "    \"\"\"\n",
    "\n",
    "    # Escribe aquí tu código ↓\n",
    "    \n",
    "\n",
    "    # Escribe aquí tu código ↑\n",
    "    \n",
    "    return # ← Escribe aquí tu código"
   ]
  },
  {
   "cell_type": "code",
   "execution_count": null,
   "metadata": {},
   "outputs": [],
   "source": [
    "ejercicio_5(6, 2)"
   ]
  },
  {
   "cell_type": "code",
   "execution_count": null,
   "metadata": {},
   "outputs": [],
   "source": [
    "calificador.califica_ejercicio_5(ejercicio_5)"
   ]
  },
  {
   "cell_type": "code",
   "execution_count": null,
   "metadata": {},
   "outputs": [],
   "source": [
    "@Controlador(\"1\", \"ejercicio_6\")\n",
    "def ejercicio_6(numero1):\n",
    "    \"\"\"\n",
    "    Instrucciones:\n",
    "        La función \"ejercicio_6\" toma el parámetro \n",
    "        \"numero1\", y debe regresar el resultado de elevar\n",
    "        \"numero1\" al cubo.\n",
    "\n",
    "    Ejemplo:\n",
    "        Si numero1 = 2 la función regresa 8.\n",
    "\n",
    "    Recuerda:\n",
    "        Cuida la indentación.\n",
    "    \"\"\"\n",
    "\n",
    "    # Escribe aquí tu código ↓\n",
    "    \n",
    "\n",
    "    # Escribe aquí tu código ↑\n",
    "    \n",
    "    return # ← Escribe aquí tu código"
   ]
  },
  {
   "cell_type": "code",
   "execution_count": null,
   "metadata": {},
   "outputs": [],
   "source": [
    "ejercicio_6(5)"
   ]
  },
  {
   "cell_type": "code",
   "execution_count": null,
   "metadata": {},
   "outputs": [],
   "source": [
    "calificador.califica_ejercicio_6(ejercicio_6)"
   ]
  },
  {
   "cell_type": "code",
   "execution_count": null,
   "metadata": {},
   "outputs": [],
   "source": [
    "@Controlador(\"1\", \"ejercicio_7\")\n",
    "def ejercicio_7(numero1, numero2):\n",
    "    \"\"\"\n",
    "    Instrucciones:\n",
    "        La función \"ejercicio_7\" toma los parámetros \"numero1\"\n",
    "        y \"numero2\", y debe regresar el resultado de\n",
    "        elevar \"numero1\" al cuadrado más \"numero2\".\n",
    "\n",
    "    Ejemplo:\n",
    "        Si numero1 = 2 y numero2 = 6 la función regresa 10:\n",
    "        2 ** 2 = 4\n",
    "        4 + 6 = 10\n",
    "\n",
    "    Recuerda:\n",
    "        Cuida la indentación.\n",
    "    \"\"\"\n",
    "    \n",
    "    # Escribe aquí tu código ↓\n",
    "    \n",
    "\n",
    "    # Escribe aquí tu código ↑\n",
    "\n",
    "    return # ← Escribe aquí tu código"
   ]
  },
  {
   "cell_type": "code",
   "execution_count": null,
   "metadata": {},
   "outputs": [],
   "source": [
    "ejercicio_7(3, 4)"
   ]
  },
  {
   "cell_type": "code",
   "execution_count": null,
   "metadata": {},
   "outputs": [],
   "source": [
    "calificador.califica_ejercicio_7(ejercicio_7)"
   ]
  },
  {
   "cell_type": "code",
   "execution_count": null,
   "metadata": {},
   "outputs": [],
   "source": [
    "@Controlador(\"1\", \"ejercicio_8\")\n",
    "def ejercicio_8(numero1, numero2):\n",
    "    \"\"\"\n",
    "    Instrucciones:\n",
    "        La función \"ejercicio_8\" toma los parámetros\n",
    "        \"numero1\" y \"numero2\" y debe regresar el resultado\n",
    "        de dividir \"numero1\" entre 2 y despues sumarle \"numero2\".\n",
    "\n",
    "    Ejemplo:\n",
    "        Si numero1 = 20 y numero2 = 1 la función regresa 11:\n",
    "        20 / 2 = 10\n",
    "        10 + 1 = 11\n",
    "\n",
    "    Recuerda:\n",
    "        Cuida la indentación.\n",
    "    \"\"\"\n",
    "    \n",
    "    # Escribe aquí tu código ↓\n",
    "    \n",
    "\n",
    "    # Escribe aquí tu código ↑\n",
    "    \n",
    "    return # ← Escribe aquí tu código"
   ]
  },
  {
   "cell_type": "code",
   "execution_count": null,
   "metadata": {},
   "outputs": [],
   "source": [
    "ejercicio_8(30, 5)"
   ]
  },
  {
   "cell_type": "code",
   "execution_count": null,
   "metadata": {},
   "outputs": [],
   "source": [
    "calificador.califica_ejercicio_8(ejercicio_8)"
   ]
  },
  {
   "cell_type": "code",
   "execution_count": null,
   "metadata": {},
   "outputs": [],
   "source": [
    "@Controlador(\"1\", \"ejercicio_9\")\n",
    "def ejercicio_9(numero1):\n",
    "    \"\"\"\n",
    "    Instrucciones:\n",
    "        La función \"ejercicio_9\" toma el parámetro\n",
    "        \"numero1\" y debe regresar el resultado de\n",
    "        obtener el valor absoluto de \"numero1\".\n",
    "\n",
    "    Ejemplo:\n",
    "        Si numero1 = -25 la función regresa 25.\n",
    "\n",
    "    Recuerda:\n",
    "        La función abs() sirve para calcular el valor\n",
    "        absoluto de un número.\n",
    "        \n",
    "        Cuida la indentación.\n",
    "    \"\"\"\n",
    "    \n",
    "    # Escribe aquí tu código ↓\n",
    "    \n",
    "\n",
    "    # Escribe aquí tu código ↑\n",
    "    \n",
    "    return # ← Escribe aquí tu código"
   ]
  },
  {
   "cell_type": "code",
   "execution_count": null,
   "metadata": {},
   "outputs": [],
   "source": [
    "ejercicio_9(-9)"
   ]
  },
  {
   "cell_type": "code",
   "execution_count": null,
   "metadata": {},
   "outputs": [],
   "source": [
    "calificador.califica_ejercicio_9(ejercicio_9)"
   ]
  },
  {
   "cell_type": "code",
   "execution_count": null,
   "metadata": {},
   "outputs": [],
   "source": [
    "@Controlador(\"1\", \"ejercicio_10\")\n",
    "def ejercicio_10(numero1):\n",
    "    \"\"\"\n",
    "    Instrucciones:\n",
    "        La función \"ejercicio_10\" toma el parámetro \"numero1\" \n",
    "        y debe regresar su raíz cuadrada.\n",
    "\n",
    "    Ejemplo:\n",
    "        Si numero1 = 25 la función regresa 5.\n",
    "\n",
    "    Restricciones:\n",
    "        No importar ninguna librería adicional.\n",
    "\n",
    "    Recuerda:\n",
    "        Matemáticamente hablando, la raíz cuadrada de un \n",
    "        número se puede obtener al elevar dicho numero a \n",
    "        la potencia de 1/2, igual que la raíz cúbica de \n",
    "        un número se puede obtener al elevar dicho numero\n",
    "        a la potencia de 1/3, y así sucesivamente. \n",
    "        \n",
    "        Cuida la indentación.\n",
    "    \"\"\"\n",
    "    \n",
    "    # Escribe aquí tu código ↓\n",
    "    \n",
    "\n",
    "    # Escribe aquí tu código ↑\n",
    "    \n",
    "    return # ← Escribe aquí tu código"
   ]
  },
  {
   "cell_type": "code",
   "execution_count": null,
   "metadata": {},
   "outputs": [],
   "source": [
    "ejercicio_10(16)"
   ]
  },
  {
   "cell_type": "code",
   "execution_count": null,
   "metadata": {},
   "outputs": [],
   "source": [
    "calificador.califica_ejercicio_10(ejercicio_10)"
   ]
  }
 ],
 "metadata": {
  "kernelspec": {
   "display_name": "delfos",
   "language": "python",
   "name": "python3"
  },
  "language_info": {
   "codemirror_mode": {
    "name": "ipython",
    "version": 3
   },
   "file_extension": ".py",
   "mimetype": "text/x-python",
   "name": "python",
   "nbconvert_exporter": "python",
   "pygments_lexer": "ipython3",
   "version": "3.12.9"
  }
 },
 "nbformat": 4,
 "nbformat_minor": 2
}
