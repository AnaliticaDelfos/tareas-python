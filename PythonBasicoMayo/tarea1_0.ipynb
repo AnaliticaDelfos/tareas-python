{
 "cells": [
  {
   "cell_type": "code",
   "execution_count": 1,
   "metadata": {},
   "outputs": [],
   "source": [
    "#\n",
    "#\n",
    "# EJECUTAR ESTA CELDA\n",
    "#\n",
    "#\n",
    "\n",
    "#####################################\n",
    "#       Operaciones aritméticas parte 1\n",
    "#####################################\n",
    "\n",
    "\n",
    "import calificador\n",
    "from controlador import Controlador"
   ]
  },
  {
   "cell_type": "code",
   "execution_count": 4,
   "metadata": {},
   "outputs": [],
   "source": [
    "@Controlador(\"1\", \"ejercicio_1\")\n",
    "def ejercicio_1(a, b):\n",
    "    \"\"\"\n",
    "    Instrucciones:\n",
    "        Esta función toma los parámetros a y b\n",
    "        y devuelve la suma de dichos parámetros\n",
    "    \n",
    "    Ejemplo:\n",
    "        Si a = 1\n",
    "        y b = 2\n",
    "        la función debe regresar un 3\n",
    "\n",
    "    Recuerda:\n",
    "        Lo que la función \"regresa\" va justo después\n",
    "        de la palabra return\n",
    "\n",
    "    Recuerda:\n",
    "        Cuida la indentación.\n",
    "    \"\"\"\n",
    "\n",
    "    # Escribe aquí tu código\n",
    "    \n",
    "\n",
    "    # Escribe aquí tu código\n",
    "    \n",
    "    return # Escribe aquí tu código"
   ]
  },
  {
   "cell_type": "code",
   "execution_count": null,
   "metadata": {},
   "outputs": [],
   "source": [
    "ejercicio_1(20, 30)"
   ]
  },
  {
   "cell_type": "code",
   "execution_count": 5,
   "metadata": {},
   "outputs": [
    {
     "name": "stdout",
     "output_type": "stream",
     "text": [
      "===============================================================================\n",
      "\n",
      "============> Calificando: tarea 1 - ejercicio ejercicio_1 <============\n",
      "\n",
      "===============================================================================\n",
      "\n",
      "\n",
      "======================================================\n",
      "            ||          Calificación: 100.0            \n",
      "            ||          Aciertos: 1                   \n",
      "            ||          Errores: 0                     \n",
      "======================================================\n",
      "    \n",
      "======> Casos existosos: <======\n",
      "\n",
      "\u001b[0;34mValores de entrada: [1, 2].             \u001b[0;35mValor esperado: 3.             \u001b[0;36mValor obtenido: 3\n",
      "\n",
      "======> No hubo errores :D <======\n",
      "\n",
      "\u001b[0;32m============> Calificación recibida <============\n",
      "\n"
     ]
    }
   ],
   "source": [
    "calificador.califica_ejercicio_1(ejercicio_1)"
   ]
  },
  {
   "cell_type": "code",
   "execution_count": null,
   "metadata": {},
   "outputs": [],
   "source": [
    "@Controlador(\"1\", \"ejercicio_2\")\n",
    "def ejercicio_2(a, b):\n",
    "    \"\"\"\n",
    "    Instrucciones:\n",
    "        Esta función toma los parámetros a y b\n",
    "        y regresa el resultado de restar b a a\n",
    "\n",
    "    Ejemplo:\n",
    "        Si a = 3\n",
    "        y b = 5\n",
    "        la función regresa -2\n",
    "\n",
    "    Recuerda:\n",
    "        Cuida la indentación.\n",
    "    \"\"\"\n",
    "\n",
    "    # Escribe aquí tu código\n",
    "    \n",
    "\n",
    "    # Escribe aquí tu código\n",
    "    \n",
    "    return # Escribe aquí tu código"
   ]
  },
  {
   "cell_type": "code",
   "execution_count": null,
   "metadata": {},
   "outputs": [],
   "source": [
    "ejercicio_2(10, 15)"
   ]
  },
  {
   "cell_type": "code",
   "execution_count": null,
   "metadata": {},
   "outputs": [],
   "source": [
    "calificador.califica_ejercicio_2(ejercicio_2)"
   ]
  },
  {
   "cell_type": "code",
   "execution_count": null,
   "metadata": {},
   "outputs": [],
   "source": [
    "@Controlador(\"1\", \"ejercicio_3\")\n",
    "def ejercicio_3(a, b):\n",
    "    \"\"\"\n",
    "    Instrucciones:\n",
    "        Esta función toma los parámetros a y b\n",
    "        y regresa el resultado de multiplicar b y a\n",
    "\n",
    "    Ejemplo:\n",
    "        Si a = 3\n",
    "        y b = 5\n",
    "        la función regresa 15\n",
    "\n",
    "    Recuerda:\n",
    "        Cuida la indentación.\n",
    "    \"\"\"\n",
    "\n",
    "    # Escribe aquí tu código\n",
    "    \n",
    "\n",
    "    # Escribe aquí tu código\n",
    "    \n",
    "    return # Escribe aquí tu código"
   ]
  },
  {
   "cell_type": "code",
   "execution_count": null,
   "metadata": {},
   "outputs": [],
   "source": [
    "ejercicio_3(8, 5)"
   ]
  },
  {
   "cell_type": "code",
   "execution_count": null,
   "metadata": {},
   "outputs": [],
   "source": [
    "calificador.califica_ejercicio_3(ejercicio_3)"
   ]
  },
  {
   "cell_type": "code",
   "execution_count": null,
   "metadata": {},
   "outputs": [],
   "source": [
    "@Controlador(\"1\", \"ejercicio_4\")\n",
    "def ejercicio_4(a, b):\n",
    "    \"\"\"\n",
    "    Instrucciones:\n",
    "        Esta función toma los parámetros a y b\n",
    "        y regresa el resultado de dividir a entre b\n",
    "\n",
    "    Ejemplo:\n",
    "        Si a = 10\n",
    "        y b = 5\n",
    "        la función regresa 2\n",
    "\n",
    "    Recuerda:\n",
    "        Cuida la indentación.\n",
    "    \"\"\"\n",
    "\n",
    "    # Escribe aquí tu código\n",
    "    \n",
    "\n",
    "    # Escribe aquí tu código\n",
    "    \n",
    "    return # Escribe aquí tu código"
   ]
  },
  {
   "cell_type": "code",
   "execution_count": null,
   "metadata": {},
   "outputs": [],
   "source": [
    "ejercicio_4(10, 2)"
   ]
  },
  {
   "cell_type": "code",
   "execution_count": null,
   "metadata": {},
   "outputs": [],
   "source": [
    "calificador.califica_ejercicio_4(ejercicio_4)"
   ]
  },
  {
   "cell_type": "code",
   "execution_count": null,
   "metadata": {},
   "outputs": [],
   "source": [
    "@Controlador(\"1\", \"ejercicio_5\")\n",
    "def ejercicio_5(a):\n",
    "    \"\"\"\n",
    "    Instrucciones:\n",
    "        Esta función toma un parámetro a\n",
    "        y regresa el resultado de elevar ese número al cuadrado.\n",
    "        Puedes usar dos asteríscos de la siguiente manera:\n",
    "        2**3 que da como resultado elevar 2 a la 3 y da como resultado 8,\n",
    "        o 6**5 es elevar 6 a la 5.\n",
    "\n",
    "    Ejemplo:\n",
    "        Si a = 10\n",
    "        la función regresa 100\n",
    "\n",
    "    Recuerda:\n",
    "        Cuida la indentación.\n",
    "    \"\"\"\n",
    "\n",
    "    # Escribe aquí tu código\n",
    "    \n",
    "\n",
    "    # Escribe aquí tu código\n",
    "    \n",
    "    return # Escribe aquí tu código"
   ]
  },
  {
   "cell_type": "code",
   "execution_count": null,
   "metadata": {},
   "outputs": [],
   "source": [
    "ejercicio_5(3)"
   ]
  },
  {
   "cell_type": "code",
   "execution_count": null,
   "metadata": {},
   "outputs": [],
   "source": [
    "calificador.califica_ejercicio_5(ejercicio_5)"
   ]
  },
  {
   "cell_type": "code",
   "execution_count": null,
   "metadata": {},
   "outputs": [],
   "source": [
    "@Controlador(\"1\", \"ejercicio_6\")\n",
    "def ejercicio_6(a, b):\n",
    "    \"\"\"\n",
    "    Instrucciones:\n",
    "        Esta función toma los parámetros a y b\n",
    "        y regresa el resultado de elevar el número a\n",
    "        a la pontencia b.\n",
    "\n",
    "    Ejemplo:\n",
    "        Si a = 2\n",
    "        y b = 5\n",
    "        la función regresa 32\n",
    "\n",
    "    Recuerda:\n",
    "        Cuida la indentación.\n",
    "    \"\"\"\n",
    "\n",
    "    # Escribe aquí tu código\n",
    "    \n",
    "\n",
    "    # Escribe aquí tu código\n",
    "    \n",
    "    return # Escribe aquí tu código"
   ]
  },
  {
   "cell_type": "code",
   "execution_count": null,
   "metadata": {},
   "outputs": [],
   "source": [
    "ejercicio_6(3, 5)"
   ]
  },
  {
   "cell_type": "code",
   "execution_count": null,
   "metadata": {},
   "outputs": [],
   "source": [
    "calificador.califica_ejercicio_6(ejercicio_6)"
   ]
  },
  {
   "cell_type": "code",
   "execution_count": null,
   "metadata": {},
   "outputs": [],
   "source": [
    "@Controlador(\"1\", \"ejercicio_7\")\n",
    "def ejercicio_7(a, b):\n",
    "    \"\"\"\n",
    "    Instrucciones:\n",
    "        Esta función recibe dos parámetros\n",
    "        a y b\n",
    "        efectúa la suma de estos dos, es decir\n",
    "        a + b\n",
    "        a ese resultado se le suma 2 y se\n",
    "        regresa el nuevo resultado\n",
    "\n",
    "    Ejemplo:\n",
    "        Si a = 1\n",
    "        y b = 2\n",
    "        su suma da 3\n",
    "        y 3 + 2 = 5\n",
    "        Regresa 5\n",
    "\n",
    "    Recuerda:\n",
    "        Cuida la indentación.\n",
    "    \"\"\"\n",
    "    \n",
    "    # Escribe aquí tu código\n",
    "    \n",
    "\n",
    "    # Escribe aquí tu código\n",
    "\n",
    "    return # Escribe aquí tu código"
   ]
  },
  {
   "cell_type": "code",
   "execution_count": null,
   "metadata": {},
   "outputs": [],
   "source": [
    "ejercicio_7(3, 4)"
   ]
  },
  {
   "cell_type": "code",
   "execution_count": null,
   "metadata": {},
   "outputs": [],
   "source": [
    "calificador.califica_ejercicio_7(ejercicio_7)"
   ]
  },
  {
   "cell_type": "code",
   "execution_count": null,
   "metadata": {},
   "outputs": [],
   "source": [
    "@Controlador(\"1\", \"ejercicio_8\")\n",
    "def ejercicio_8(a, b):\n",
    "    \"\"\"\n",
    "    Instrucciones:\n",
    "        Esta función recibe dos parámetros\n",
    "        a y b\n",
    "        efectúa la resta de b menos a es decir\n",
    "        b - a\n",
    "        a ese resultado se le resta veinte y se\n",
    "        regresa el nuevo resultado\n",
    "\n",
    "    Ejemplo:\n",
    "        Si a = 10\n",
    "        y b = 2\n",
    "        su resta da -8\n",
    "        y -8 - 20 = -28\n",
    "        Regresa -28\n",
    "\n",
    "    Recuerda:\n",
    "        Cuida la indentación.\n",
    "    \"\"\"\n",
    "    \n",
    "    # Escribe aquí tu código\n",
    "    \n",
    "\n",
    "    # Escribe aquí tu código\n",
    "    \n",
    "    return # Escribe aquí tu código"
   ]
  },
  {
   "cell_type": "code",
   "execution_count": null,
   "metadata": {},
   "outputs": [],
   "source": [
    "ejercicio_8(3, 10)"
   ]
  },
  {
   "cell_type": "code",
   "execution_count": null,
   "metadata": {},
   "outputs": [],
   "source": [
    "calificador.califica_ejercicio_8(ejercicio_8)"
   ]
  },
  {
   "cell_type": "code",
   "execution_count": null,
   "metadata": {},
   "outputs": [],
   "source": [
    "def ejercicio_9(numero):\n",
    "    \"\"\"\n",
    "    Instrucciones:\n",
    "        Esta función recibe un número\n",
    "        y regresa el valor absoluto de\n",
    "        ese número, puedes usar la función abs.\n",
    "\n",
    "    Ejemplo:\n",
    "        Si numero = -10\n",
    "        regresa 10\n",
    "        Si numero = 3\n",
    "        regresa 3\n",
    "\n",
    "    Recuerda:\n",
    "        Cuida la indentación.\n",
    "    \"\"\"\n",
    "    \n",
    "    # Escribe aquí tu código\n",
    "    \n",
    "\n",
    "    # Escribe aquí tu código\n",
    "    \n",
    "    return # Escribe aquí tu código"
   ]
  },
  {
   "cell_type": "code",
   "execution_count": null,
   "metadata": {},
   "outputs": [],
   "source": [
    "ejercicio_9(-3)"
   ]
  },
  {
   "cell_type": "code",
   "execution_count": null,
   "metadata": {},
   "outputs": [],
   "source": [
    "calificador.califica_ejercicio_9(ejercicio_9)"
   ]
  },
  {
   "cell_type": "code",
   "execution_count": null,
   "metadata": {},
   "outputs": [],
   "source": [
    "def ejercicio_10(numero):\n",
    "    \"\"\"\n",
    "    Instrucciones:\n",
    "        Esta función recibe un número\n",
    "        y regresa la raíz cuadrada de ese número.\n",
    "\n",
    "    Ejemplo:\n",
    "        Si numero = 4\n",
    "        regresa 2.0\n",
    "        Si numero = 9\n",
    "        regresa 3.0\n",
    "\n",
    "    Ayuda:\n",
    "    Una potencia fraccionaria indica que se eleva a la potencia\n",
    "    correspondiente del numerador y se le saca la raíz correspondiente\n",
    "    al denominador, por ejemplo, 4**(5/3) significa que elevamos\n",
    "    4 a la 5 y al resultado le sacamos la raíz cúbica.\n",
    "    \n",
    "    Restricciones:\n",
    "        No importar ninguna librería adicional.\n",
    "\n",
    "    Recuerda:\n",
    "        Cuida la indentación.\n",
    "    \"\"\"\n",
    "    \n",
    "    # Escribe aquí tu código\n",
    "    \n",
    "\n",
    "    # Escribe aquí tu código\n",
    "    \n",
    "    return # Escribe aquí tu código"
   ]
  },
  {
   "cell_type": "code",
   "execution_count": null,
   "metadata": {},
   "outputs": [],
   "source": [
    "ejercicio_10(9)"
   ]
  },
  {
   "cell_type": "code",
   "execution_count": null,
   "metadata": {},
   "outputs": [],
   "source": [
    "calificador.califica_ejercicio_10(ejercicio_10)"
   ]
  }
 ],
 "metadata": {
  "kernelspec": {
   "display_name": "infotec",
   "language": "python",
   "name": "python3"
  },
  "language_info": {
   "codemirror_mode": {
    "name": "ipython",
    "version": 3
   },
   "file_extension": ".py",
   "mimetype": "text/x-python",
   "name": "python",
   "nbconvert_exporter": "python",
   "pygments_lexer": "ipython3",
   "version": "3.12.2"
  }
 },
 "nbformat": 4,
 "nbformat_minor": 2
}
