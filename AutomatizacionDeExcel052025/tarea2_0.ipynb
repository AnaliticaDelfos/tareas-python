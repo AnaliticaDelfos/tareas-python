{
 "cells": [
  {
   "cell_type": "markdown",
   "metadata": {},
   "source": [
    "<center><img src=\"Analitica delfos-06.jpg\" width=\"200\" height=\"160\" style=\"margin:auto\"/></center>"
   ]
  },
  {
   "cell_type": "code",
   "execution_count": null,
   "metadata": {},
   "outputs": [],
   "source": [
    "#\n",
    "#\n",
    "# EJECUTAR ESTA CELDA CADA VEZ QUE ENTRES A HACER LA TAREA\n",
    "#\n",
    "#\n",
    "\n",
    "#####################################\n",
    "# Operaciones aritméticas parte 2\n",
    "#####################################\n",
    "\n",
    "\n",
    "import calificador\n",
    "from controlador import Controlador"
   ]
  },
  {
   "cell_type": "markdown",
   "metadata": {},
   "source": [
    "Fórmula del ejercicio 11:\n",
    "\n",
    "$$(y-x)^2$$"
   ]
  },
  {
   "cell_type": "code",
   "execution_count": null,
   "metadata": {},
   "outputs": [],
   "source": [
    "@Controlador(\"2\", \"ejercicio_11\")\n",
    "def ejercicio_11(x, y):\n",
    "    \"\"\"\n",
    "    Instrucciones:\n",
    "        La función \"ejericio_11\" toma los parámetros \"x\", \n",
    "        \"y\", y debe regresar el resultado de utilizar dichos\n",
    "        parámetros en la fórmula del ejercicio 11.\n",
    "    \n",
    "    Ejemplo:\n",
    "        Si x=5 y y=10 la función regresa 25:\n",
    "        10 - 5 = 5\n",
    "        5 ** 2 = 25\n",
    "\n",
    "    Recuerda:\n",
    "        Lo que la función \"regresa\" es justo lo que va después\n",
    "        de la palabra reservada return\n",
    "\n",
    "        Cuida la indentación.\n",
    "\n",
    "    Consejo:\n",
    "        Para obetener la potencia de un número se puede usar la \n",
    "        función incorporada pow(), el operador ** o multiplicar \n",
    "        las números/variables por sí mismas el número de veces \n",
    "        que sea necesario (definición de potencia)\n",
    "    \"\"\"\n",
    "\n",
    "    # Escribe aquí tu código ↓\n",
    "    \n",
    "\n",
    "    # Escribe aquí tu código ↑\n",
    "\n",
    "    return # ← Escribe aquí tu código"
   ]
  },
  {
   "cell_type": "code",
   "execution_count": null,
   "metadata": {},
   "outputs": [],
   "source": [
    "ejercicio_11(-3, 5)"
   ]
  },
  {
   "cell_type": "code",
   "execution_count": null,
   "metadata": {},
   "outputs": [],
   "source": [
    "calificador.califica_ejercicio_11(ejercicio_11)"
   ]
  },
  {
   "cell_type": "markdown",
   "metadata": {},
   "source": [
    "Fórmula del ejercicio 12:\n",
    "$$\\frac{(x-y)^3}{z*3}$$"
   ]
  },
  {
   "cell_type": "code",
   "execution_count": null,
   "metadata": {},
   "outputs": [],
   "source": [
    "@Controlador(\"2\", \"ejercicio_12\")\n",
    "def ejercicio_12(x, y, z):\n",
    "    \"\"\"\n",
    "    Instrucciones:\n",
    "        Esta función toma los parámetros \"x\", \"y\", \"z\", y debe\n",
    "        regresar el resultado de aplicar dichos parámetros a \n",
    "        la fórmula del ejercicio 12.\n",
    "    \n",
    "    Condiciones:\n",
    "        Redondea el resultado a dos decimales con la función \n",
    "        round()\n",
    "\n",
    "    Ejemplo:\n",
    "        Si x=4, y=1 y z=1 la función regresa 9:\n",
    "        (4 - 1)**3 = 27\n",
    "        27 / (1*3) = 9\n",
    "\n",
    "    Recuerda:\n",
    "        Cuida la indentación.\n",
    "    \"\"\"\n",
    "\n",
    "    # Escribe aquí tu código ↓\n",
    "    \n",
    "\n",
    "    # Escribe aquí tu código ↑\n",
    "\n",
    "    return # ← Escribe aquí tu código"
   ]
  },
  {
   "cell_type": "code",
   "execution_count": null,
   "metadata": {},
   "outputs": [],
   "source": [
    "ejercicio_12(10, 6, 4)"
   ]
  },
  {
   "cell_type": "code",
   "execution_count": null,
   "metadata": {},
   "outputs": [],
   "source": [
    "calificador.califica_ejercicio_12(ejercicio_12)"
   ]
  },
  {
   "cell_type": "markdown",
   "metadata": {},
   "source": [
    "Fórmula del ejercicio 13:\n",
    "\n",
    "$$\\frac{x}{(y/z)^2}$$"
   ]
  },
  {
   "cell_type": "code",
   "execution_count": null,
   "metadata": {},
   "outputs": [],
   "source": [
    "@Controlador(\"2\", \"ejercicio_13\")\n",
    "def ejercicio_13(x, y, z):\n",
    "    \"\"\"\n",
    "    Instrucciones:\n",
    "        Esta función toma los parámetros \"x\", \"y\", \"z\", y debe\n",
    "        regresar el resultado de aplicar dichos parámetros a \n",
    "        la fórmula del ejercicio 13.\n",
    "    \n",
    "    Ejemplo:\n",
    "        Si x=32, y=8 y z=2 la función regresa 2:\n",
    "        32 / (8/2)**2\n",
    "        32 / 4**2\n",
    "        32 / 16 = 2\n",
    "\n",
    "    Recuerda:\n",
    "        Cuida la indentación.\n",
    "    \"\"\"\n",
    "\n",
    "    # Escribe aquí tu código ↓\n",
    "    \n",
    "\n",
    "    # Escribe aquí tu código ↑\n",
    "\n",
    "    return # ← Escribe aquí tu código"
   ]
  },
  {
   "cell_type": "code",
   "execution_count": null,
   "metadata": {},
   "outputs": [],
   "source": [
    "ejercicio_13(5, 1, 1)"
   ]
  },
  {
   "cell_type": "code",
   "execution_count": null,
   "metadata": {},
   "outputs": [],
   "source": [
    "calificador.califica_ejercicio_13(ejercicio_13)"
   ]
  },
  {
   "cell_type": "markdown",
   "metadata": {},
   "source": [
    "Forma general del trinomio cuadrado perfecto de (x+y)^2 :\n",
    "$$x^2 + 2xy + y^2$$"
   ]
  },
  {
   "cell_type": "code",
   "execution_count": null,
   "metadata": {},
   "outputs": [],
   "source": [
    "@Controlador(\"2\", \"ejercicio_14\")\n",
    "def ejercicio_14(x, y):\n",
    "    \"\"\"\n",
    "    Instrucciones:\n",
    "        Esta función toma los parámetros \"x\", \"y\" y debe\n",
    "        regresar el resultado de aplicar dichos parámetros a \n",
    "        la fórmula del ejercicio 14.\n",
    "    \n",
    "    Ejemplo:\n",
    "        Si x=2 y y=1 la función regresa 7:\n",
    "        2**2 + 2(2*1) + 1**2\n",
    "        4 + 4 + 1 = 9\n",
    "\n",
    "    Recuerda:\n",
    "        Cuida la indentación.\n",
    "    \"\"\"\n",
    "\n",
    "    # Escribe aquí tu código ↓\n",
    "    \n",
    "\n",
    "    # Escribe aquí tu código ↑\n",
    "\n",
    "    return # ← Escribe aquí tu código"
   ]
  },
  {
   "cell_type": "code",
   "execution_count": null,
   "metadata": {},
   "outputs": [],
   "source": [
    "ejercicio_14(2,2)"
   ]
  },
  {
   "cell_type": "code",
   "execution_count": null,
   "metadata": {},
   "outputs": [],
   "source": [
    "calificador.califica_ejercicio_14(ejercicio_14)"
   ]
  },
  {
   "cell_type": "markdown",
   "metadata": {},
   "source": [
    "Ecuación de la pendiente (m) de una recta que pasa por dos puntos coordenados P1(x1, y1) y P2(x2, y2)\n",
    "\n",
    "$$m =\\frac{y2 - y1}{x2-x1}$$"
   ]
  },
  {
   "cell_type": "code",
   "execution_count": null,
   "metadata": {},
   "outputs": [],
   "source": [
    "@Controlador(\"2\", \"ejercicio_15\")\n",
    "def ejercicio_15(x1, y1, x2, y2):\n",
    "    \"\"\"\n",
    "    Instrucciones:\n",
    "        Esta función toma los parámetros \"x1\", \"y1\", \"x2\", \"y2\",\n",
    "        y debe regresar el resultado de aplicar dichos parámetros a \n",
    "        la ecuación de la pendiente (m) de una recta que pasa por dos puntos.\n",
    "\n",
    "    Condiciones:\n",
    "        Redondea el resultado obtenido a dos decimales con la función\n",
    "        round ()\n",
    "    \n",
    "    Ejemplo:\n",
    "        Si x1=1, y1=1, x2=2 y y2=2 la función regresa 1:\n",
    "        m = (2 - 1) / (2 - 1)\n",
    "        m = 1\n",
    "\n",
    "    Recuerda:\n",
    "        Cuida la indentación.\n",
    "    \"\"\"\n",
    "\n",
    "    # Escribe aquí tu código ↓\n",
    "    \n",
    "\n",
    "    # Escribe aquí tu código ↑\n",
    "\n",
    "    return # ← Escribe aquí tu código"
   ]
  },
  {
   "cell_type": "code",
   "execution_count": null,
   "metadata": {},
   "outputs": [],
   "source": [
    "ejercicio_15(2,2,5,5)"
   ]
  },
  {
   "cell_type": "code",
   "execution_count": null,
   "metadata": {},
   "outputs": [],
   "source": [
    "calificador.califica_ejercicio_15(ejercicio_15)"
   ]
  },
  {
   "cell_type": "markdown",
   "metadata": {},
   "source": [
    "Fórmula para calcular el calor específico (Ce):\n",
    "$$Ce = \\frac{Q}{m(T2-T1)}$$\n",
    "\n",
    "Donde Q = Capacidad calorífica, T2 = Temperatura final, T1 = Temperatura inicial, m = Masa del sistema"
   ]
  },
  {
   "cell_type": "code",
   "execution_count": null,
   "metadata": {},
   "outputs": [],
   "source": [
    "@Controlador(\"2\", \"ejercicio_16\")\n",
    "def ejercicio_16(Q, T1, T2):\n",
    "    \"\"\"\n",
    "    Instrucciones:\n",
    "        Esta función toma los parámetros \"Q\", \"T1\", \"T2\", y debe \n",
    "        regresar el resultado de aplicar dichos parámetros a la \n",
    "        fórmula para calcular el calor específico (Ce) considerando\n",
    "        una m=10.\n",
    "\n",
    "    Condiciones:\n",
    "        Redondea el resultado obtenido a dos decimales con la función\n",
    "        round ()\n",
    "    \n",
    "    Ejemplo:\n",
    "        Si Q=20, T1=4 y T2=5 la función regresa 2:\n",
    "        Ce = 20 / 10(5-4)\n",
    "        Ce = 20 / 10(1)\n",
    "        Ce = 2\n",
    "\n",
    "    Recuerda:\n",
    "        Cuida la indentación.\n",
    "    \"\"\"\n",
    "\n",
    "    # Escribe aquí tu código ↓\n",
    "    \n",
    "\n",
    "    # Escribe aquí tu código ↑\n",
    "\n",
    "    return # ← Escribe aquí tu código"
   ]
  },
  {
   "cell_type": "code",
   "execution_count": null,
   "metadata": {},
   "outputs": [],
   "source": [
    "ejercicio_16(50, 5, 10)"
   ]
  },
  {
   "cell_type": "code",
   "execution_count": null,
   "metadata": {},
   "outputs": [],
   "source": [
    "calificador.califica_ejercicio_16(ejercicio_16)"
   ]
  },
  {
   "cell_type": "markdown",
   "metadata": {},
   "source": [
    "Fórmula para calcular la potencia eléctrica (P):\n",
    "$$P = \\frac{V^2}{R}$$\n",
    "\n",
    "Donde V = Diferencia de potencial o voltaje y R = Resistencia\n"
   ]
  },
  {
   "cell_type": "code",
   "execution_count": null,
   "metadata": {},
   "outputs": [],
   "source": [
    "@Controlador(\"2\", \"ejercicio_17\")\n",
    "def ejercicio_17(V, R):\n",
    "    \"\"\"\n",
    "    Instrucciones:\n",
    "        Esta función toma los parámetros \"V\", \"R\", y debe regresar \n",
    "        el resultado de aplicar dichos parámetros a la fórmula para \n",
    "        calcular la potencia eléctrica (P).\n",
    "    \n",
    "    Ejemplo:\n",
    "        Si V=10 y R=5 la función regresa 20:\n",
    "        P = 10**2 / 5\n",
    "        P = 100 / 5\n",
    "        P = 20\n",
    "\n",
    "    Recuerda:\n",
    "        Cuida la indentación.\n",
    "    \"\"\"\n",
    "\n",
    "    # Escribe aquí tu código ↓\n",
    "    \n",
    "\n",
    "    # Escribe aquí tu código ↑\n",
    "\n",
    "    return # ← Escribe aquí tu código"
   ]
  },
  {
   "cell_type": "code",
   "execution_count": null,
   "metadata": {},
   "outputs": [],
   "source": [
    "ejercicio_17(5, 5)"
   ]
  },
  {
   "cell_type": "code",
   "execution_count": null,
   "metadata": {},
   "outputs": [],
   "source": [
    "calificador.califica_ejercicio_17(ejercicio_17)"
   ]
  },
  {
   "cell_type": "markdown",
   "metadata": {},
   "source": [
    "Fórmula para calcular la eficiencia térmica (e):\n",
    "$$e = \\frac{Q2-Q1}{Qe}$$\n",
    "\n",
    "Donde Q2 = Calor entrante al sistema, Q1 = Calor saliente del sistema y Qe = Calor suministrado al sistema"
   ]
  },
  {
   "cell_type": "code",
   "execution_count": null,
   "metadata": {},
   "outputs": [],
   "source": [
    "@Controlador(\"2\", \"ejercicio_18\")\n",
    "def ejercicio_18(Q1, Q2, Qe):\n",
    "    \"\"\"\n",
    "    Instrucciones:\n",
    "        Esta función toma los parámetros \"Q1\", \"Q2\", \"Qe\", y debe \n",
    "        regresar el resultado de aplicar dichos parámetros a la \n",
    "        fórmula para calcular la eficiencia térmica(e).\n",
    "    \n",
    "    Ejemplo:\n",
    "        Si Q1=3, Q2=13 y Qe=2 la función regresa 5:\n",
    "        e = 13 - 3 / 2\n",
    "        e = 10 / 2\n",
    "        e = 5\n",
    "\n",
    "    Recuerda:\n",
    "        Cuida la indentación.\n",
    "    \"\"\"\n",
    "\n",
    "    # Escribe aquí tu código ↓\n",
    "\n",
    "\n",
    "    # Escribe aquí tu código ↑\n",
    "\n",
    "    return # ← Escribe aquí tu código"
   ]
  },
  {
   "cell_type": "code",
   "execution_count": null,
   "metadata": {},
   "outputs": [],
   "source": [
    "ejercicio_18(5,15,5)"
   ]
  },
  {
   "cell_type": "code",
   "execution_count": null,
   "metadata": {},
   "outputs": [],
   "source": [
    "calificador.califica_ejercicio_18(ejercicio_18)"
   ]
  },
  {
   "cell_type": "markdown",
   "metadata": {},
   "source": [
    "Fórmula para calcular el trabajo realizado por un gas dentro de un cilindro sometido al calor (w):\n",
    "$$w = P(V2 - V1)$$\n",
    "\n",
    "Donde P = Presión, V2 = Volumen final y V1 = Volumen inicial"
   ]
  },
  {
   "cell_type": "code",
   "execution_count": null,
   "metadata": {},
   "outputs": [],
   "source": [
    "@Controlador(\"2\", \"ejercicio_19\")\n",
    "def ejercicio_19(P, V2, V1):\n",
    "    \"\"\"\n",
    "    Instrucciones:\n",
    "        Esta función toma los parámetros \"P\", \"V2\", \"V1\", y debe \n",
    "        regresar el resultado de aplicar dichos parámetros a la \n",
    "        fórmula para calcular el trabajo realizado por un gas.\n",
    "    \n",
    "    Ejemplo: \n",
    "        Si P=10, V2=6 y V1=2 la función regresa 40:\n",
    "        w = 10*(6-2)\n",
    "        w = 10*4\n",
    "        w = 40 \n",
    "\n",
    "    Recuerda:\n",
    "        Cuida la indentación.\n",
    "    \"\"\"\n",
    "\n",
    "    # Escribe aquí tu código ↓\n",
    "\n",
    "\n",
    "    # Escribe aquí tu código ↑\n",
    "\n",
    "    return # ← Escribe aquí tu código"
   ]
  },
  {
   "cell_type": "code",
   "execution_count": null,
   "metadata": {},
   "outputs": [],
   "source": [
    "ejercicio_19(10, 6, 1)"
   ]
  },
  {
   "cell_type": "code",
   "execution_count": null,
   "metadata": {},
   "outputs": [],
   "source": [
    "calificador.califica_ejercicio_19(ejercicio_19)"
   ]
  },
  {
   "cell_type": "markdown",
   "metadata": {},
   "source": [
    "Fórmula del Teorema de Torricelli \n",
    "$$v = \\sqrt{2*g*h}$$\n",
    "\n",
    "Donde v = Velocidad en la que fluye el agua saliente de un sistema, g = aceleración de a gravedad, h=altura del orificio de salida del sistema desde la superficie"
   ]
  },
  {
   "cell_type": "code",
   "execution_count": null,
   "metadata": {},
   "outputs": [],
   "source": [
    "@Controlador(\"2\", \"ejercicio_20\")\n",
    "def ejercicio_20(h):\n",
    "    \"\"\"\n",
    "    Instrucciones:\n",
    "        Esta función toma el parámetro \"h\", y debe regresar el\n",
    "        resultado de aplicar dicho parámetro a la fórmula del \n",
    "        Teorema de Torricelli considerando a g=10 \n",
    "    \n",
    "    Ejemplo:\n",
    "        Si h=1 la función debe regresar 4.4721:\n",
    "        v = (2*10*1)**(1/2)\n",
    "        v = 20**(1/2)\n",
    "        v = 4.4721\n",
    "\n",
    "    Recuerda:\n",
    "        Cuida la indentación.\n",
    "    \"\"\"\n",
    "\n",
    "    # Escribe aquí tu código ↓\n",
    "\n",
    "\n",
    "    # Escribe aquí tu código ↑\n",
    "\n",
    "    return # ← Escribe aquí tu código"
   ]
  },
  {
   "cell_type": "code",
   "execution_count": null,
   "metadata": {},
   "outputs": [],
   "source": [
    "ejercicio_20(5)"
   ]
  },
  {
   "cell_type": "code",
   "execution_count": null,
   "metadata": {},
   "outputs": [],
   "source": [
    "calificador.califica_ejercicio_20(ejercicio_20)"
   ]
  }
 ],
 "metadata": {
  "kernelspec": {
   "display_name": "delfos",
   "language": "python",
   "name": "python3"
  },
  "language_info": {
   "codemirror_mode": {
    "name": "ipython",
    "version": 3
   },
   "file_extension": ".py",
   "mimetype": "text/x-python",
   "name": "python",
   "nbconvert_exporter": "python",
   "pygments_lexer": "ipython3",
   "version": "3.13.2"
  }
 },
 "nbformat": 4,
 "nbformat_minor": 2
}
