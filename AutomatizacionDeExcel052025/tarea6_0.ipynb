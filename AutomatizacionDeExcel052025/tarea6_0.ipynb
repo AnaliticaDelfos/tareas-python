{
 "cells": [
  {
   "cell_type": "markdown",
   "metadata": {},
   "source": [
    "<center><img src=\"Analitica delfos-06.jpg\" width=\"200\" height=\"160\" style=\"margin:auto\"/></center>"
   ]
  },
  {
   "cell_type": "code",
   "execution_count": null,
   "metadata": {},
   "outputs": [],
   "source": [
    "#\n",
    "#\n",
    "# EJECUTAR ESTA CELDA CADA VEZ QUE ENTRES A HACER LA TAREA\n",
    "#\n",
    "#\n",
    "\n",
    "#####################################\n",
    "# Cadenas de caracteres\n",
    "#####################################\n",
    "\n",
    "\n",
    "import calificador\n",
    "from controlador import Controlador\n",
    "import pandas as pd"
   ]
  },
  {
   "cell_type": "code",
   "execution_count": null,
   "metadata": {},
   "outputs": [],
   "source": [
    "@Controlador(\"6\", \"ejercicio_51\")\n",
    "def ejercicio_51():\n",
    "    \"\"\"\n",
    "    Instrucciones:\n",
    "        La función \"ejercicio_51\" no recibe nada y devuelve un DataFrame\n",
    "        de pandas que contenga el siguiente diccionario\n",
    "        {\"col1\": [\"Hola\"], \"col2\": [\"mundo\"]}\n",
    "        \n",
    "    Recuerda:\n",
    "        Cuida la indentación.\n",
    "    \"\"\"\n",
    "\n",
    "    # Escribe aquí tu código ↓\n",
    "    \n",
    "\n",
    "    # Escribe aquí tu código ↑\n",
    "    \n",
    "    return # ← Escribe aquí tu código"
   ]
  },
  {
   "cell_type": "code",
   "execution_count": null,
   "metadata": {},
   "outputs": [],
   "source": [
    "calificador.califica_p_ejercicio_6(ejercicio_51)"
   ]
  },
  {
   "cell_type": "code",
   "execution_count": null,
   "metadata": {},
   "outputs": [],
   "source": [
    "@Controlador(\"6\", \"ejercicio_52\")\n",
    "def ejercicio_52(dataframe):\n",
    "    \"\"\"\n",
    "    Instrucciones:\n",
    "        La función \"ejercicio_52\" toma el argumento dataframe\n",
    "        el cual es un dataframe de pandas y que contiene una columna\n",
    "        llamada edad, suma 1 a dicha columna y devolver el \n",
    "        dataframe resultante.\n",
    "        \n",
    "    PRECAUCIÓN:\n",
    "        Python pasa valores por referencia, por lo que la variable dataframe\n",
    "        tiene el objeto provisto por el calificador, si por alguna razón\n",
    "        invocas a esta función más de una vez, se modificará el valor del\n",
    "        dataframe original, por lo que puede ser que el calificador\n",
    "        te la ponga mal si lo mandas calificar luego de haber ejecutado esta función en otro momento\n",
    "        para atacar este problema habría que reiniciar el kernel (kernel -> restar) y volver a ejecutar\n",
    "        la primer celda, luego esta celda y luego mandar calificar\n",
    "\n",
    "    Recuerda:\n",
    "        Cuida la indentación.\n",
    "    \"\"\"\n",
    "\n",
    "    # Escribe aquí tu código ↓\n",
    "    \n",
    "    \n",
    "    # Escribe aquí tu código ↑\n",
    "    \n",
    "    return # ← Escribe aquí tu código "
   ]
  },
  {
   "cell_type": "code",
   "execution_count": null,
   "metadata": {},
   "outputs": [],
   "source": [
    "calificador.califica_p_ejercicio_7(ejercicio_52)"
   ]
  },
  {
   "cell_type": "code",
   "execution_count": null,
   "metadata": {},
   "outputs": [],
   "source": [
    "@Controlador(\"6\", \"ejercicio_53\")\n",
    "def ejercicio_53(dataframe):\n",
    "    \"\"\"\n",
    "     Instrucciones:\n",
    "        La función \"ejercicio_53\", recibe un dataframe y devuelve el total veces que se repite\n",
    "        cada elemento de la columna saludos del dataframe\n",
    "    \n",
    "    Pasa saber más:\n",
    "        Pandas tiene una función llamada value_counts que devuelve justamente lo solicitado (en forma de serie).\n",
    "        https://pandas.pydata.org/docs/reference/api/pandas.Series.value_counts.html\n",
    "\n",
    "    Recuerda:        \n",
    "        Cuida la indentación.\n",
    "    \"\"\"\n",
    "\n",
    "    # Escribe aquí tu código ↓\n",
    "    \n",
    "\n",
    "    # Escribe aquí tu código ↑\n",
    "\n",
    "    return # ← Escribe aquí tu código"
   ]
  },
  {
   "cell_type": "code",
   "execution_count": null,
   "metadata": {},
   "outputs": [],
   "source": [
    "calificador.califica_p_ejercicio_8(ejercicio_53)"
   ]
  },
  {
   "cell_type": "code",
   "execution_count": null,
   "metadata": {},
   "outputs": [],
   "source": [
    "@Controlador(\"6\", \"ejercicio_54\")\n",
    "def ejercicio_54(diccionario):\n",
    "    \"\"\"\n",
    "    Instrucciones:\n",
    "        La función \"ejercicio_54\" toma el parámetro \"diccionario\", crea un dataframe a partir de éste\n",
    "        y devuelve la suma de los valores de la columna Promedio. Devolver el resultado en forma de\n",
    "        Series que tenga una única clave llamada resultado y cuyo valor sea el resultado obtenido.\n",
    "\n",
    "    Consejo:\n",
    "        Usa la función sum sobre dicha columna.\n",
    "    \"\"\"\n",
    "\n",
    "    # Escribe aquí tu código ↓\n",
    "\n",
    "\n",
    "    # Escribe aquí tu código ↑\n",
    "\n",
    "    return # ← Escribe aquí tu código"
   ]
  },
  {
   "cell_type": "code",
   "execution_count": null,
   "metadata": {},
   "outputs": [],
   "source": [
    "calificador.califica_p_ejercicio_9(ejercicio_54)"
   ]
  },
  {
   "cell_type": "code",
   "execution_count": null,
   "metadata": {},
   "outputs": [],
   "source": [
    "@Controlador(\"6\", \"ejercicio_55\")\n",
    "def ejercicio_55(diccionario):\n",
    "    \"\"\"\n",
    "    Instrucciones:\n",
    "        La función \"ejercicio_55\" toma el parámetro \"diccionario\", crea un dataframe a partir de éste\n",
    "        y devuelve el promedio de los valores de la columna Promedio. Devolver el resultado en forma de\n",
    "        Series que tenga una única clave llamada resultado y cuyo valor sea el resultado obtenido.\n",
    "\n",
    "    Consejo:\n",
    "        Usa la función mean sobre dicha columna.\n",
    "    \"\"\"\n",
    "\n",
    "    # Escribe aquí tu código ↓\n",
    "\n",
    "\n",
    "    # Escribe aquí tu código ↑\n",
    "\n",
    "    return # ← Escribe aquí tu código"
   ]
  },
  {
   "cell_type": "code",
   "execution_count": null,
   "metadata": {},
   "outputs": [],
   "source": [
    "calificador.califica_p_ejercicio_10(ejercicio_55)"
   ]
  }
 ],
 "metadata": {
  "kernelspec": {
   "display_name": "delfos",
   "language": "python",
   "name": "python3"
  },
  "language_info": {
   "codemirror_mode": {
    "name": "ipython",
    "version": 3
   },
   "file_extension": ".py",
   "mimetype": "text/x-python",
   "name": "python",
   "nbconvert_exporter": "python",
   "pygments_lexer": "ipython3",
   "version": "3.13.2"
  }
 },
 "nbformat": 4,
 "nbformat_minor": 2
}
