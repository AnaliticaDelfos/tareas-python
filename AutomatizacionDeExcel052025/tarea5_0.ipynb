{
 "cells": [
  {
   "cell_type": "markdown",
   "metadata": {},
   "source": [
    "<center><img src=\"Analitica delfos-06.jpg\" width=\"200\" height=\"160\" style=\"margin:auto\"/></center>"
   ]
  },
  {
   "cell_type": "code",
   "execution_count": null,
   "metadata": {},
   "outputs": [],
   "source": [
    "#\n",
    "#\n",
    "# EJECUTAR ESTA CELDA CADA VEZ QUE ENTRES A HACER LA TAREA\n",
    "#\n",
    "#\n",
    "\n",
    "#####################################\n",
    "# Pandas\n",
    "#####################################\n",
    "\n",
    "\n",
    "import calificador\n",
    "from controlador import Controlador\n",
    "import pandas as pd"
   ]
  },
  {
   "cell_type": "markdown",
   "metadata": {},
   "source": [
    "A partir de ahora no te proveemos de una celda con un ejemplo, no es algo por lo qué ponerse triste, una parte importante en la vida de un programador es que es capaz de verificar que su código está bien hecho dada una entrada y esperando una salida, por ejemplo, supongamos que haces un programa que recibe dos números y devuelve la suma de ellos, en este caso un programador debe poder al menos un caso en el que conozca tanto las entradas como el resultado esperado, es decir, podría probar que si le da a su función un 2 y un 3 su función debe contestar con un 5.\n",
    "\n",
    "Justo lo anterior es lo que esperamos que desarrolles, esa habilidad de crear tus propias pruebas dados tus propios códigos, por eso les decimos algo como \"Cuando estés listo para que se califique tu función porque crees que resuelve el problema, mándala calificar\", queremos que desarrolles esa habilidad, sólo así sabrás que tu código está bien hecho y que entendiste realmente el problema que estás tratando de resolver.\n",
    "\n",
    "Adicionalmente recuerda que puedes agregar las celdas que gustes, también puedes borrarlas en caso que no te gusten, sólo recuerda no borrar las celdas donde se define la función, donde se manda a calificar y la primer celda, fuera de eso, puedes hacer lo que tu quieras :)\n",
    "\n",
    "Algunos tips que te pueden funcionar son los siguientes:\n",
    "- Analiza los valores extremos o en la frontera (cuál es el último o primer valor para el que mi función hace lo que tiene que hacer?)\n",
    "- Verifica casos chiquitos perfectamente conocidos para ti (una suma de 2 y 2 me debe dar 4).\n",
    "- Prueba más de un caso chiquito.\n",
    "- Verifica cómo se comporta tu función tomando valores admitidos, pero de diferente dominio (una suma de 2 y -2 me debe dar 0).\n",
    "- Analiza para cuales tipos de datos tu función hace lo que tiene que hacer y para cuales no ([1] + 1 = [1, 1], pero 1 + 1 = 2).\n",
    "- Esto que te digo sale de una metodología llamada \"Test driven development\" por si quieres saber más :)\n",
    "\n",
    "También queremos que recuerdes que no estás solo, estamos para apoyarte en cualquier duda que tengas.   "
   ]
  },
  {
   "cell_type": "code",
   "execution_count": null,
   "metadata": {},
   "outputs": [],
   "source": [
    "@Controlador(\"5\", \"ejercicio_41\")\n",
    "def ejercicio_41():\n",
    "    \"\"\"\n",
    "     Instrucciones:\n",
    "        La función \"ejercicio_41\" devuelve una serie con los elementos\n",
    "        Python, Java, TypeScript y JavaScript y como índice\n",
    "        los números del 0 al 3\n",
    "\n",
    "    Recuerda:        \n",
    "        Cuida la indentación.\n",
    "    \"\"\"\n",
    "\n",
    "    # Escribe aquí tu código ↓\n",
    "    \n",
    "\n",
    "    # Escribe aquí tu código ↑\n",
    "\n",
    "    return # ← Escribe aquí tu código"
   ]
  },
  {
   "cell_type": "code",
   "execution_count": null,
   "metadata": {},
   "outputs": [],
   "source": [
    "calificador.califica_p_ejercicio_1(ejercicio_41)"
   ]
  },
  {
   "cell_type": "code",
   "execution_count": null,
   "metadata": {},
   "outputs": [],
   "source": [
    "@Controlador(\"5\", \"ejercicio_42\")\n",
    "def ejercicio_42(serie):\n",
    "    \"\"\"\n",
    "    Instrucciones:\n",
    "        La función \"ejercicio_2\" recibe una Serie de pandas\n",
    "        y devuelve el valor que se encuentra asociado al índice \"d\"\n",
    "\n",
    "    Recuerda:\n",
    "        Cuida la indentación.\n",
    "    \"\"\"\n",
    "\n",
    "    # Escribe aquí tu código ↓\n",
    "    \n",
    "    \n",
    "    # Escribe aquí tu código ↑\n",
    "    \n",
    "    return # ← Escribe aquí tu código "
   ]
  },
  {
   "cell_type": "code",
   "execution_count": null,
   "metadata": {},
   "outputs": [],
   "source": [
    "calificador.califica_p_ejercicio_2(ejercicio_42)"
   ]
  },
  {
   "cell_type": "code",
   "execution_count": null,
   "metadata": {},
   "outputs": [],
   "source": [
    "@Controlador(\"5\", \"ejercicio_43\")\n",
    "def ejercicio_43(serie):\n",
    "    \"\"\"\n",
    "     Instrucciones:\n",
    "        La función \"ejercicio_43\" recibe una serie de pandas y devuelve esa misma\n",
    "        serie pero con sus valores incrementados en uno.\n",
    "\n",
    "    Recuerda:        \n",
    "        Cuida la indentación.\n",
    "    \"\"\"\n",
    "\n",
    "    # Escribe aquí tu código ↓\n",
    "    \n",
    "\n",
    "    # Escribe aquí tu código ↑\n",
    "\n",
    "    return # ← Escribe aquí tu código"
   ]
  },
  {
   "cell_type": "code",
   "execution_count": null,
   "metadata": {},
   "outputs": [],
   "source": [
    "calificador.califica_p_ejercicio_3(ejercicio_43)"
   ]
  },
  {
   "cell_type": "code",
   "execution_count": null,
   "metadata": {},
   "outputs": [],
   "source": [
    "@Controlador(\"5\", \"ejercicio_44\")\n",
    "def ejercicio_44(serie):\n",
    "    \"\"\"\n",
    "    Instrucciones:\n",
    "        La función \"ejercicio_44\" recibe el argumento serie\n",
    "        que es una Serie de Pandas busca el valor asociado al índice\n",
    "        \"e\" y le asigna el valor de 2.71 y devuelve la serie\n",
    "        con el valor actualizado\n",
    "\n",
    "    Recuerda:\n",
    "        \n",
    "        Cuida la indentación.\n",
    "    \"\"\"\n",
    "\n",
    "    # Escribe aquí tu código ↓\n",
    "    \n",
    "\n",
    "    # Escribe aquí tu código ↑\n",
    "\n",
    "    return # ← Escribe aquí tu código"
   ]
  },
  {
   "cell_type": "code",
   "execution_count": null,
   "metadata": {},
   "outputs": [],
   "source": [
    "calificador.califica_p_ejercicio_4(ejercicio_44)"
   ]
  },
  {
   "cell_type": "code",
   "execution_count": null,
   "metadata": {},
   "outputs": [],
   "source": [
    "@Controlador(\"5\", \"ejercicio_45\")\n",
    "def ejercicio_45(serie):\n",
    "    \"\"\"\n",
    "    Instrucciones:\n",
    "        La función \"ejercicio_45\" recibe una serie y devuelve esa\n",
    "        misma serie con un valor adicional, 23 asociado al índice\n",
    "        \"día\"\n",
    "\n",
    "    Recuerda:\n",
    "        \n",
    "        Cuida la indentación.\n",
    "    \"\"\"\n",
    "\n",
    "    # Escribe aquí tu código ↓\n",
    "    \n",
    "\n",
    "    # Escribe aquí tu código ↑\n",
    "\n",
    "    return # ← Escribe aquí tu código"
   ]
  },
  {
   "cell_type": "code",
   "execution_count": null,
   "metadata": {},
   "outputs": [],
   "source": [
    "calificador.califica_p_ejercicio_5(ejercicio_45)"
   ]
  }
 ],
 "metadata": {
  "kernelspec": {
   "display_name": "delfos",
   "language": "python",
   "name": "python3"
  },
  "language_info": {
   "codemirror_mode": {
    "name": "ipython",
    "version": 3
   },
   "file_extension": ".py",
   "mimetype": "text/x-python",
   "name": "python",
   "nbconvert_exporter": "python",
   "pygments_lexer": "ipython3",
   "version": "3.13.2"
  }
 },
 "nbformat": 4,
 "nbformat_minor": 2
}
