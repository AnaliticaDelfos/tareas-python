{
 "cells": [
  {
   "cell_type": "code",
   "execution_count": null,
   "metadata": {},
   "outputs": [],
   "source": [
    "#\n",
    "#\n",
    "# EJECUTAR ESTA CELDA\n",
    "#\n",
    "#\n",
    "\n",
    "#####################################\n",
    "#       Tarea ejemplo\n",
    "#####################################\n",
    "\n",
    "\n",
    "import calificador\n",
    "CORREO = \"TU CORREO\""
   ]
  },
  {
   "cell_type": "code",
   "execution_count": null,
   "metadata": {},
   "outputs": [],
   "source": [
    "def suma_test(a, b):\n",
    "    \"\"\"\n",
    "    Instrucciones:\n",
    "        Esta función toma los parámetros a y b\n",
    "        y devuelve la suma de dichos parámetros\n",
    "    \n",
    "    Ejemplo:\n",
    "        Si a = 1\n",
    "        y b = 2\n",
    "        la función debe regresar un 3\n",
    "\n",
    "    Recuerda:\n",
    "        Lo que la función \"regresa\" va justo después\n",
    "        de la palabra return\n",
    "\n",
    "    Recuerda:\n",
    "        Cuida la indentación.\n",
    "    \"\"\"\n",
    "\n",
    "    # Escribe aquí tu código\n",
    "\n",
    "\n",
    "    # Escribe aquí tu código\n",
    "\n",
    "    return # Escribe aquí tu código"
   ]
  },
  {
   "cell_type": "code",
   "execution_count": null,
   "metadata": {},
   "outputs": [],
   "source": [
    "suma_test(1,2)"
   ]
  },
  {
   "cell_type": "code",
   "execution_count": null,
   "metadata": {},
   "outputs": [],
   "source": [
    "calificador.califica_suma_test(suma_test, CORREO, False)"
   ]
  },
  {
   "cell_type": "code",
   "execution_count": null,
   "metadata": {},
   "outputs": [],
   "source": [
    "def resta_test(a, b):\n",
    "    \"\"\"\n",
    "    Instrucciones:\n",
    "        Esta función toma los parámetros a y b\n",
    "        y regresa el resultado de restar b a a\n",
    "\n",
    "    Ejemplo:\n",
    "        Si a = 3\n",
    "        y b = 5\n",
    "        la función regresa -2\n",
    "\n",
    "    Recuerda:\n",
    "        Cuida la indentación.\n",
    "    \"\"\"\n",
    "\n",
    "    # Escribe aquí tu código\n",
    "\n",
    "    \n",
    "    # Escribe aquí tu código\n",
    "\n",
    "    return # Escribe aquí tu código"
   ]
  },
  {
   "cell_type": "code",
   "execution_count": null,
   "metadata": {},
   "outputs": [],
   "source": [
    "resta_test(1,2)"
   ]
  },
  {
   "cell_type": "code",
   "execution_count": null,
   "metadata": {},
   "outputs": [],
   "source": [
    "calificador.califica_resta_test(resta_test, CORREO, False)"
   ]
  },
  {
   "cell_type": "code",
   "execution_count": null,
   "metadata": {},
   "outputs": [],
   "source": [
    "def saludo_test():\n",
    "    \"\"\"\n",
    "    Instrucciones:\n",
    "        Esta función no tiene argumentos y lo único que tiene que regresar\n",
    "        es la cadena de caracteres 'Hola, mundo!'\n",
    "\n",
    "    Recuerda:\n",
    "        Cuida la indentación.\n",
    "        \n",
    "    \"\"\"\n",
    "\n",
    "    # Escribe aquí tu código\n",
    "\n",
    "\n",
    "    # Escribe aquí tu código\n",
    "    \n",
    "    return # Escribe aquí tu código"
   ]
  },
  {
   "cell_type": "code",
   "execution_count": null,
   "metadata": {},
   "outputs": [],
   "source": [
    "calificador.califica_saludo_test(saludo_test, CORREO, False)"
   ]
  }
 ],
 "metadata": {
  "kernelspec": {
   "display_name": "Python 3.10.6 ('delfosenv')",
   "language": "python",
   "name": "python3"
  },
  "language_info": {
   "codemirror_mode": {
    "name": "ipython",
    "version": 3
   },
   "file_extension": ".py",
   "mimetype": "text/x-python",
   "name": "python",
   "nbconvert_exporter": "python",
   "pygments_lexer": "ipython3",
   "version": "3.10.6"
  },
  "vscode": {
   "interpreter": {
    "hash": "66c9bc616bbdea0db480a7a6aa32456e08a9558e4f5898b1f651409aba2af12d"
   }
  }
 },
 "nbformat": 4,
 "nbformat_minor": 4
}
