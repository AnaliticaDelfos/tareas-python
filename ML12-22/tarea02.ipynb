{
 "cells": [
  {
   "cell_type": "code",
   "execution_count": null,
   "metadata": {},
   "outputs": [],
   "source": [
    "#\n",
    "#\n",
    "# EJECUTAR ESTA CELDA\n",
    "#\n",
    "#\n",
    "\n",
    "#####################################\n",
    "#       Tarea ejemplo\n",
    "#####################################\n",
    "\n",
    "\n",
    "import calificador\n",
    "import numpy as np\n",
    "CORREO = \"TU CORREO\""
   ]
  },
  {
   "cell_type": "code",
   "execution_count": null,
   "metadata": {},
   "outputs": [],
   "source": [
    "def ejercicio_6(lista):\n",
    "    \"\"\"\n",
    "    Instrucciones:\n",
    "        Esta función recibe una lista, llamada lista,\n",
    "        construye un arreglo de numpy a partir de ella,\n",
    "        y devuelve un arreglo (máscara) donde los elementos sean\n",
    "        True y False, siguiendo la siguiente regla:\n",
    "        True si es menor que cero\n",
    "        False si es mayor o igual a cero.\n",
    "    \"\"\"\n",
    "    # Escribe aquí tu código\n",
    "\n",
    "    # Escribe aquí tu código\n",
    "\n",
    "    return # Escribe aquí tu código"
   ]
  },
  {
   "cell_type": "code",
   "execution_count": null,
   "metadata": {},
   "outputs": [],
   "source": [
    "calificador.califica_ejercicio_ml_6(ejercicio_6, CORREO, False)"
   ]
  },
  {
   "cell_type": "code",
   "execution_count": null,
   "metadata": {},
   "outputs": [],
   "source": [
    "def ejercicio_7(ceros):\n",
    "    \"\"\"\n",
    "    Instrucciones:\n",
    "        Esta función recibe un número llamado ceros y\n",
    "        devuelve un arreglo de numpy de esa cantidad de ceros.\n",
    "\n",
    "    Nota:\n",
    "        La forma del arreglo resultante es (ceros,)\n",
    "    \"\"\"\n",
    "    # Escribe aquí tu código\n",
    "\n",
    "    # Escribe aquí tu código\n",
    "\n",
    "    return # Escribe aquí tu código"
   ]
  },
  {
   "cell_type": "code",
   "execution_count": null,
   "metadata": {},
   "outputs": [],
   "source": [
    "calificador.califica_ejercicio_ml_7(ejercicio_7, CORREO, False)"
   ]
  },
  {
   "cell_type": "code",
   "execution_count": null,
   "metadata": {},
   "outputs": [],
   "source": [
    "def ejercicio_8(unos):\n",
    "    \"\"\"\n",
    "    Instrucciones:\n",
    "        Esta función recibe un número llamado unos\n",
    "        y devuelve un arreglo de numpy de esa\n",
    "        cantidad de unos.\n",
    "\n",
    "    Nota:\n",
    "        La forma del arreglo resultante es (unos,)\n",
    "    \"\"\"\n",
    "    # Escribe aquí tu código\n",
    "    \n",
    "    # Escribe aquí tu código\n",
    "\n",
    "    return # Escribe aquí tu código"
   ]
  },
  {
   "cell_type": "code",
   "execution_count": null,
   "metadata": {},
   "outputs": [],
   "source": [
    "calificador.califica_ejercicio_ml_8(ejercicio_8, CORREO, False)"
   ]
  },
  {
   "cell_type": "code",
   "execution_count": null,
   "metadata": {},
   "outputs": [],
   "source": [
    "def ejercicio_9(cincos):\n",
    "    \"\"\"\n",
    "    Instrucciones:\n",
    "        Esta función recibe un número llamado cincos\n",
    "        y devuelve un arreglo de numpy de esa\n",
    "        cantidad de cincos.\n",
    "\n",
    "    Nota:\n",
    "        La forma del arreglo resultante es (cincos,)\n",
    "    \"\"\"\n",
    "    # Escribe aquí tu código\n",
    "\n",
    "    # Escribe aquí tu código\n",
    "\n",
    "    return # Escribe aquí tu código"
   ]
  },
  {
   "cell_type": "code",
   "execution_count": null,
   "metadata": {},
   "outputs": [],
   "source": [
    "calificador.califica_ejercicio_ml_9(ejercicio_9, CORREO, False)"
   ]
  },
  {
   "cell_type": "code",
   "execution_count": null,
   "metadata": {},
   "outputs": [],
   "source": [
    "def ejercicio_10(lista):\n",
    "    \"\"\"\n",
    "    Instrucciones:\n",
    "        Esta función recibe una lista y devuelve un arreglo\n",
    "        de numpy cuyo único elemento sea la suma\n",
    "        de todos los elementos de dicha lista.\n",
    "\n",
    "    \"\"\"\n",
    "    # Escribe aquí tu código\n",
    "\n",
    "    # Escribe aquí tu código\n",
    "\n",
    "    return # Escribe aquí tu código"
   ]
  },
  {
   "cell_type": "code",
   "execution_count": null,
   "metadata": {},
   "outputs": [],
   "source": [
    "calificador.califica_ejercicio_ml_10(ejercicio_10, CORREO, False)"
   ]
  },
  {
   "cell_type": "code",
   "execution_count": null,
   "metadata": {},
   "outputs": [],
   "source": [
    "def ejercicio_11(lista):\n",
    "    \"\"\"\n",
    "    Instrucciones:\n",
    "        Esta función recibe una lista y devuelve un arreglo\n",
    "        de numpy que contenga como único elemento el\n",
    "        promedio de todos los elementos de dicha lista.\n",
    "\n",
    "    \"\"\"\n",
    "    # Escribe aquí tu código\n",
    "\n",
    "    # Escribe aquí tu código\n",
    "\n",
    "    return # Escribe aquí tu código"
   ]
  },
  {
   "cell_type": "code",
   "execution_count": null,
   "metadata": {},
   "outputs": [],
   "source": [
    "calificador.califica_ejercicio_ml_11(ejercicio_11, CORREO, False)"
   ]
  },
  {
   "cell_type": "code",
   "execution_count": null,
   "metadata": {},
   "outputs": [],
   "source": [
    "def ejercicio_12(matriz):\n",
    "    \"\"\"\n",
    "    Instrucciones:\n",
    "        Esta función recibe una matriz y devuelve un arreglo\n",
    "        de numpy donde cada elemento sea el promedio de los\n",
    "        números que se encuentra en cada una de las columnas,\n",
    "        es decir, calcular el promedio por columna.\n",
    "\n",
    "    \"\"\"\n",
    "    # Escribe aquí tu código\n",
    "\n",
    "    # Escribe aquí tu código\n",
    "\n",
    "    return # Escribe aquí tu código"
   ]
  },
  {
   "cell_type": "code",
   "execution_count": null,
   "metadata": {},
   "outputs": [],
   "source": [
    "calificador.califica_ejercicio_ml_12(ejercicio_12, CORREO, False)"
   ]
  },
  {
   "cell_type": "code",
   "execution_count": null,
   "metadata": {},
   "outputs": [],
   "source": [
    "def ejercicio_13(matriz):\n",
    "    \"\"\"\n",
    "    Instrucciones:\n",
    "        Esta función recibe una matriz y devuelve un arreglo\n",
    "        de numpy donde cada elemento sea la desviación estándar de los\n",
    "        números que se encuentra en cada una de las filas,\n",
    "        es decir, calcular la desviación estándar por fila.\n",
    "\n",
    "    \"\"\"\n",
    "    # Escribe aquí tu código\n",
    "    \n",
    "    # Escribe aquí tu código\n",
    "\n",
    "    return  # Escribe aquí tu código"
   ]
  },
  {
   "cell_type": "code",
   "execution_count": null,
   "metadata": {},
   "outputs": [],
   "source": [
    "calificador.califica_ejercicio_ml_13(ejercicio_13, CORREO, False)"
   ]
  },
  {
   "cell_type": "code",
   "execution_count": null,
   "metadata": {},
   "outputs": [],
   "source": [
    "def ejercicio_14(lista):\n",
    "    \"\"\"\n",
    "    Instrucciones:\n",
    "        Esta función recibe una lista, construye un arreglo\n",
    "        de numpy con dicha lista, le agrega una dimensión\n",
    "        al inicio y al final y devuelve la forma\n",
    "        del arreglo resultante.\n",
    "      \n",
    "    Consejo:\n",
    "      Usar np.exand_dims\n",
    "\n",
    "    \"\"\"\n",
    "    # Escribe aquí tu código\n",
    "\n",
    "    # Escribe aquí tu código\n",
    "\n",
    "    return # Escribe aquí tu código"
   ]
  },
  {
   "cell_type": "code",
   "execution_count": null,
   "metadata": {},
   "outputs": [],
   "source": [
    "calificador.califica_ejercicio_ml_14(ejercicio_14, CORREO, False)"
   ]
  },
  {
   "attachments": {},
   "cell_type": "markdown",
   "metadata": {},
   "source": [
    "Desarrollo para el ejercicio 15\n",
    "$$ r = lista * 3$$\n",
    "$$ r = r ^ 2$$\n",
    "$$ r = r / 5$$\n",
    "$$ r = r + 30$$"
   ]
  },
  {
   "cell_type": "code",
   "execution_count": null,
   "metadata": {},
   "outputs": [],
   "source": [
    "def ejercicio_15(lista):\n",
    "    \"\"\"\n",
    "    Instrucciones:\n",
    "        Esta función recibe una lista, construye un arreglo\n",
    "        de numpy con dicha lista con forma 4x3x2 y le aplica\n",
    "        las operaciones que se mencionan arriba. Devuelve el \n",
    "        arreglo resultante.\n",
    "\n",
    "    \"\"\"\n",
    "    # Escribe aquí tu código\n",
    "\n",
    "    # Escribe aquí tu código\n",
    "\n",
    "    return # Escribe aquí tu código"
   ]
  },
  {
   "cell_type": "code",
   "execution_count": null,
   "metadata": {},
   "outputs": [],
   "source": [
    "calificador.califica_ejercicio_ml_15(ejercicio_15, CORREO, False)"
   ]
  },
  {
   "cell_type": "code",
   "execution_count": null,
   "metadata": {},
   "outputs": [],
   "source": []
  }
 ],
 "metadata": {
  "kernelspec": {
   "display_name": "Python 3.10.6 ('delfosenv')",
   "language": "python",
   "name": "python3"
  },
  "language_info": {
   "codemirror_mode": {
    "name": "ipython",
    "version": 3
   },
   "file_extension": ".py",
   "mimetype": "text/x-python",
   "name": "python",
   "nbconvert_exporter": "python",
   "pygments_lexer": "ipython3",
   "version": "3.10.6"
  },
  "orig_nbformat": 4,
  "vscode": {
   "interpreter": {
    "hash": "66c9bc616bbdea0db480a7a6aa32456e08a9558e4f5898b1f651409aba2af12d"
   }
  }
 },
 "nbformat": 4,
 "nbformat_minor": 2
}
