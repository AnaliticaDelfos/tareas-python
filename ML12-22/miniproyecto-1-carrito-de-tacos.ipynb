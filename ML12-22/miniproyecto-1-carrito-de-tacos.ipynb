{
 "cells": [
  {
   "cell_type": "markdown",
   "metadata": {},
   "source": [
    "# Mini proyecto - Carrito de tacos"
   ]
  },
  {
   "cell_type": "markdown",
   "metadata": {},
   "source": [
    "¡¡Felicidades!! ¡¡Te han contratado en una empresa para hacer un software tipo inventario para los carritos de tacos de dicha empresa!!\n",
    "\n",
    "Esta empresa es una start up de comida enfocada a la venta de tacos de forma móvil en la que se provee a los empleados un carrito para vender tacos en zonas populares de tal forma que se pueda mover e ir a dónde están los comenzales. \n",
    "\n",
    "Esta empresa fue muy amable al darte las instrucciones de lo que necesitan, aunque no siempre pasa así. Las instrucciones son las siguientes:"
   ]
  },
  {
   "cell_type": "markdown",
   "metadata": {},
   "source": [
    "## Instrucciones"
   ]
  },
  {
   "cell_type": "markdown",
   "metadata": {},
   "source": [
    " - Escribir todo el código en una única celda\n",
    " - El código debe cumplir las siguientes características:\n",
    "     - Al inicio del código se deberá poder agregar tacos de un cierto tipo, a partir de un menú.\n",
    "         - Por ejemplo: tipo = input(\"1 = Al pastor, 2 = Bistek, 3 = Adobada, 4 = Salir \")\n",
    "     - Luego de obtener el tipo, preguntar cuántos tacos agregar.\n",
    "         - Por ejemplo: cantidad = input(\"Cantidad: \")\n",
    "     - Luego de obtener la cantidad, preguntar por el precio de venta de los tacos.\n",
    "     - Guardar en un diccionario que tenga como clave el tipo de tacos y como valor un diccionario que tenga la cantidad por cada uno y el precio de venta de cada uno.\n",
    "         - Por ejemplo: carrito['Pastor'] = {'cantidad': 20, 'precio': 10}\n",
    "     - Al momento de agregar tacos se debe soportar sumar de la cantidad existende de tacos de un tipo y no sólo 'poner' la cantidad de los tacos.\n",
    "         - Por ejemplo: Si hay 20 tacos al pastor y quiero agregar 10 tacos al pastor deberá haber 30\n",
    "     - Todo lo anterior debe ejecutarse indefinidamente hasta que el usuario ingrese alguna seña para salir (puedes usar un ciclo while).\n",
    "         - Como un 4 para salir\n",
    "     - Una vez se termine de agregar tacos proceder a vender tacos.\n",
    "     - Para vender tacos se mostrará un menú del cual se escogerá el tipo de tacos a comprar. Para mantenerlo simple sólo se pueden comprar tacos de un tipo por orden.\n",
    "         - Por ejemplo: tipo = int(input(\"1 = Al pastor, 2 = Bistek, 3 = Adobada, 4 = Salir\"))\n",
    "     - Luego de escoger el tipo de taco a vender se preguntará por la cantidad de tacos.\n",
    "         - Por ejemplo: cantidad = int(input(\"Cantidad: \"))\n",
    "     - Luego de obtener la cantidad, validar si existe ese número de tacos de ese tipo, en caso de que la cantidad existente sea menor a la solicitada vender la cantidad total existente.\n",
    "         - Por ejemplo: Si hay 10 tacos al pastor y se piden 15, vender solamente 10.\n",
    "     - Una vez validado lo anterior mostrar un mensaje que diga \"Vendidos ... tacos por un total de ...\" cambiando los puntos suspensivos por el número de tacos vendidos y el total a pagado por esos tacos, respectivamente.\n",
    "     - Además de mostrar el mensaje, guardar en una lista las transacciones realizadas en forma de diccionario, en las que una clave del diccionario sea el tipo, otra clave sea la cantidad de tacos vendidos y una última que sea el total de ingresos por la venta.\n",
    "         - Un ejemplo del diccionario es: {\"Tipo\": \"Pastor\", \"Cantidad\": 2, \"Ingresos\": 20} (suponiendo que cuesten 10)\n",
    "     - Todo el proceso de venta deberá repetirse indefinidamente hasta que el usuario ingrese alguna seña para salir, como un 4 (puedes usar un ciclo while).\n",
    "     - Al término del programa se deberá mostrar la lista de las transacciones realizadas, el total de ingresos y la cantidad de tacos vendidos.\n",
    "         - Un ejemplo de la salida final es: Transacciones: [{\"Pastor\": 4, \"Cantidad\": 2, \"Ingresos\": 20}], Vendidos: 2, Ingresos 20."
   ]
  },
  {
   "cell_type": "markdown",
   "metadata": {},
   "source": [
    "## Consejos"
   ]
  },
  {
   "cell_type": "markdown",
   "metadata": {},
   "source": [
    " - Resuelve el problema primero con sólo un tipo de taco y la opción para salir, lo demás será sólo copiar y pegar.\n",
    " - Identifica los tipos de datos que se van a usar.\n",
    " - Usa la palabra break para ahorrarte validaciones.\n",
    " - Usa dos ciclos while, uno para surtir los tacos y otro para vender los tacos.\n",
    " - En algún punto tendrás que crear un diccionario dentro de otro diccionario para el momento en el que agregues tipos de tacos que no existan.\n",
    " - Al momento de vender de realizar una venta en la que se venden más tacos de los que tienes procura hacer que la cantidad de esos tacos sea cero.\n",
    " - Inicializa las variables que vas a usar, como menu, vendidos, ingresos...\n",
    " - Piensa fuera de la caja, no temas crear variables temporales."
   ]
  },
  {
   "cell_type": "code",
   "execution_count": null,
   "metadata": {},
   "outputs": [],
   "source": [
    "# Muestra del resultado esperado\n",
    "from ejemplo_carrito_de_tacos import muestra\n",
    "muestra()"
   ]
  },
  {
   "cell_type": "code",
   "execution_count": null,
   "metadata": {},
   "outputs": [],
   "source": []
  }
 ],
 "metadata": {
  "interpreter": {
   "hash": "9389834e928f465b3246b3a8ffb5fec3e73d70c9ee2f691f101289225194979f"
  },
  "kernelspec": {
   "display_name": "Python 3.9.7 ('base')",
   "language": "python",
   "name": "python3"
  },
  "language_info": {
   "codemirror_mode": {
    "name": "ipython",
    "version": 3
   },
   "file_extension": ".py",
   "mimetype": "text/x-python",
   "name": "python",
   "nbconvert_exporter": "python",
   "pygments_lexer": "ipython3",
   "version": "3.9.7"
  },
  "orig_nbformat": 4
 },
 "nbformat": 4,
 "nbformat_minor": 2
}
