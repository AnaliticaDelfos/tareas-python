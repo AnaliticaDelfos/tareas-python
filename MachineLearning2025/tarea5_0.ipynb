{
 "cells": [
  {
   "cell_type": "markdown",
   "metadata": {},
   "source": [
    "<center><img src=\"Analitica delfos-06.jpg\" width=\"200\" height=\"160\" style=\"margin:auto\"/></center>"
   ]
  },
  {
   "cell_type": "code",
   "execution_count": null,
   "metadata": {},
   "outputs": [],
   "source": [
    "#\n",
    "#\n",
    "# EJECUTAR ESTA CELDA CADA VEZ QUE ENTRES A HACER LA TAREA\n",
    "#\n",
    "#\n",
    "\n",
    "#####################################\n",
    "#       Pandas\n",
    "#####################################\n",
    "\n",
    "\n",
    "import calificador\n",
    "from controlador import Controlador\n",
    "import pandas as pd"
   ]
  },
  {
   "cell_type": "markdown",
   "metadata": {},
   "source": [
    "$$\\text{MAE}=\\frac{\\sum_{i=1}^n |y_i-x_i|}{n}$$"
   ]
  },
  {
   "cell_type": "code",
   "execution_count": null,
   "metadata": {},
   "outputs": [],
   "source": [
    "@Controlador(\"5\", \"ejercicio_21\")\n",
    "def ejercicio_21(y_real: pd.Series, y_pred: pd.Series):\n",
    "    \"\"\"\n",
    "    Instrucciones:\n",
    "        Esta función recibe dos Series de pandas (y_real y y_pred), ambas con índice de fechas (datetime64) y valores numéricos (float).\n",
    "        Debes calcular el error absoluto medio (MAE) entre ambas series y devolver un número redondeado a dos decimales.\n",
    "        No uses Sklearn.\n",
    "\n",
    "    Nota:\n",
    "        Devolver el resultado en tipo float, usar float(...) para lograr esto\n",
    "        \n",
    "    Tip:\n",
    "        Puedes hacer algo como (y_real - y_pred).abs().mean().round(2) y seguir esta sintaxis en este y en los demás ejercicios\n",
    "\n",
    "    Recuerda:\n",
    "        Lo que la función \"regresa\" es justo lo que va después \n",
    "        de la palabra reservada \"return\".\n",
    "        \n",
    "        Cuida la indentación.\n",
    "    \"\"\"\n",
    "\n",
    "    # Escribe aquí tu código ↓\n",
    "    \n",
    "\n",
    "    # Escribe aquí tu código ↑\n",
    "\n",
    "    return # ← Escribe aquí tu código"
   ]
  },
  {
   "cell_type": "code",
   "execution_count": null,
   "metadata": {},
   "outputs": [],
   "source": [
    "calificador.califica_ejercicio_ts_21(ejercicio_21)"
   ]
  },
  {
   "cell_type": "markdown",
   "metadata": {},
   "source": [
    "$$\\text{MSE}=\\frac{1}{n}\\sum_{i=1}^n(Y_i-\\hat{Y})^2$$"
   ]
  },
  {
   "cell_type": "code",
   "execution_count": null,
   "metadata": {},
   "outputs": [],
   "source": [
    "@Controlador(\"5\", \"ejercicio_22\")\n",
    "def ejercicio_22(y_real: pd.Series, y_pred: pd.Series):\n",
    "    \"\"\"\n",
    "    Instrucciones:\n",
    "        Esta función recibe dos Series de pandas (y_real y y_pred).\n",
    "        Debes calcular el error cuadrático medio (MSE) entre ambas series y devolver un número redondeado a dos decimales.\n",
    "        No uses Sklearn.\n",
    "        \n",
    "    Tip:\n",
    "        Cuando estés probando tu función, antes de mandarla a evaluar, considera usar como índices aquellos que provienen de \n",
    "        date_range, en este caso podrías especificar periods=5 y freq=\"D\"\n",
    "\n",
    "    Recuerda:\n",
    "        Lo que la función \"regresa\" es justo lo que va después \n",
    "        de la palabra reservada \"return\".\n",
    "        \n",
    "        Cuida la indentación.\n",
    "    \"\"\"\n",
    "\n",
    "    # Escribe aquí tu código ↓\n",
    "    \n",
    "\n",
    "    # Escribe aquí tu código ↑\n",
    "\n",
    "    return # ← Escribe aquí tu código"
   ]
  },
  {
   "cell_type": "code",
   "execution_count": null,
   "metadata": {},
   "outputs": [],
   "source": [
    "calificador.califica_ejercicio_ts_22(ejercicio_22)"
   ]
  },
  {
   "cell_type": "markdown",
   "metadata": {},
   "source": [
    "$$\\text{RMSE}=\\sqrt{\\frac{1}{n}\\sum_{i=1}^n (Y_i - \\hat{Y}_i)^2}$$"
   ]
  },
  {
   "cell_type": "code",
   "execution_count": null,
   "metadata": {},
   "outputs": [],
   "source": [
    "@Controlador(\"5\", \"ejercicio_23\")\n",
    "def ejercicio_23(y_real: pd.Series, y_pred: pd.Series):\n",
    "    \"\"\"\n",
    "     Instrucciones:\n",
    "        Esta función recibe dos Series de pandas (y_real y y_pred).\n",
    "        Debes calcular el root mean squared error (RMSE) entre ambas series y devolver un número redondeado a dos decimales.\n",
    "        No uses Sklearn\n",
    "        \n",
    "    Tip:\n",
    "        Cuando estés probando tu función, antes de mandarla a evaluar, considera usar como índices aquellos que provienen de \n",
    "        date_range, en este caso podrías especificar periods=5 y freq=\"D\" (hasta podrías usar el mismo de arriba)\n",
    "\n",
    "    Recuerda:\n",
    "        Lo que la función \"regresa\" es justo lo que va después \n",
    "        de la palabra reservada \"return\".\n",
    "        \n",
    "        Cuida la indentación.\n",
    "    \"\"\"\n",
    "\n",
    "    # Escribe aquí tu código ↓\n",
    "    \n",
    "\n",
    "    # Escribe aquí tu código ↑\n",
    "\n",
    "    return # ← Escribe aquí tu código"
   ]
  },
  {
   "cell_type": "code",
   "execution_count": null,
   "metadata": {},
   "outputs": [],
   "source": [
    "calificador.califica_ejercicio_ts_23(ejercicio_23)"
   ]
  },
  {
   "cell_type": "code",
   "execution_count": null,
   "metadata": {},
   "outputs": [],
   "source": [
    "@Controlador(\"5\", \"ejercicio_24\")\n",
    "def ejercicio_24(df: pd.DataFrame):\n",
    "    \"\"\"\n",
    "    Instrucciones:\n",
    "        Esta función recibe un DataFrame con tres columnas:\n",
    "            \"fecha\" (datetime64)\n",
    "            \"real\" (float)\n",
    "            \"pred\" (float)\n",
    "        Debes calcular el MAE por mes agrupando por \"fecha\". Retorna una Series donde el índice son los meses y los valores el MAE redondeado a dos decimales.\n",
    "        No usar Sklearn\n",
    "    \n",
    "    Tip:\n",
    "        Cuando estés probando tu función, antes de mandarla a evaluar, considera usar como índices aquellos que provienen de \n",
    "        date_range, en este caso podrías especificar periods=90 y freq=\"D\"\n",
    "        \n",
    "    \"\"\"\n",
    "\n",
    "    # Escribe aquí tu código ↓\n",
    "\n",
    "\n",
    "    # Escribe aquí tu código ↑\n",
    "\n",
    "    return # ← Escribe aquí tu código"
   ]
  },
  {
   "cell_type": "code",
   "execution_count": null,
   "metadata": {},
   "outputs": [],
   "source": [
    "calificador.califica_ejercicio_ts_24(ejercicio_24)"
   ]
  },
  {
   "cell_type": "code",
   "execution_count": null,
   "metadata": {},
   "outputs": [],
   "source": [
    "@Controlador(\"5\", \"ejercicio_20\")\n",
    "def ejercicio_25(df: pd.DataFrame):\n",
    "    \"\"\"\n",
    "    Esta función recibe un DataFrame con tres columnas:\n",
    "        \"fecha\" (datetime64)\n",
    "        \"real\" (float)\n",
    "        \"pred\" (float)\n",
    "    Debes calcular MSE, MAE y RMSE por trimestre. Retorna un DataFrame con columnas \"MSE\", \"MAE\" y \"RMSE\", redondeadas a dos decimales.\n",
    "    \n",
    "    Revisa la función resample https://pandas.pydata.org/docs/reference/api/pandas.DataFrame.resample.html\n",
    "    Revisa la función apply https://pandas.pydata.org/docs/reference/api/pandas.DataFrame.apply.html\n",
    "    Revisa las funciones lambda https://www.w3schools.com/python/python_lambda.asp\n",
    "    \n",
    "    En este caso hay que usar \"QE\" como argumento en resample y a esto pegarle un .apply dándole una función lambda.\n",
    "    \n",
    "    El resultado tiene sólo una fila y 3 columnas.\n",
    "    \n",
    "    Podrías simplemente ejecutar esta celda sin nada y luego la del calificador para que quede más claro cómo debe ser la salida.\n",
    "    \n",
    "    Usa la fecha como índice.\n",
    "    \"\"\"\n",
    "\n",
    "    # Escribe aquí tu código ↓\n",
    "    \n",
    "\n",
    "    # Escribe aquí tu código ↑\n",
    "\n",
    "    return # ← Escribe aquí tu código"
   ]
  },
  {
   "cell_type": "code",
   "execution_count": null,
   "metadata": {},
   "outputs": [],
   "source": [
    "calificador.califica_ejercicio_ts_25(ejercicio_25)"
   ]
  }
 ],
 "metadata": {
  "kernelspec": {
   "display_name": "timeseries",
   "language": "python",
   "name": "python3"
  },
  "language_info": {
   "codemirror_mode": {
    "name": "ipython",
    "version": 3
   },
   "file_extension": ".py",
   "mimetype": "text/x-python",
   "name": "python",
   "nbconvert_exporter": "python",
   "pygments_lexer": "ipython3",
   "version": "3.13.7"
  }
 },
 "nbformat": 4,
 "nbformat_minor": 2
}
