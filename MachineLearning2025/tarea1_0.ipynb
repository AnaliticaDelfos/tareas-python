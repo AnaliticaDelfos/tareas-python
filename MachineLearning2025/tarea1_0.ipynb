{
 "cells": [
  {
   "cell_type": "markdown",
   "metadata": {},
   "source": [
    "<center><img src=\"Analitica delfos-06.jpg\" width=\"200\" height=\"160\" style=\"margin:auto\"/></center>"
   ]
  },
  {
   "cell_type": "code",
   "execution_count": null,
   "metadata": {},
   "outputs": [],
   "source": [
    "#\n",
    "#\n",
    "# EJECUTAR ESTA CELDA CADA VEZ QUE ENTRES A HACER LA TAREA\n",
    "#\n",
    "#\n",
    "\n",
    "#####################################\n",
    "#  Regresión lineal\n",
    "#####################################\n",
    "\n",
    "\n",
    "import calificador\n",
    "from controlador import Controlador\n",
    "from sklearn.linear_model import LinearRegression\n",
    "import numpy as np\n",
    "from sklearn.metrics import r2_score, mean_squared_error"
   ]
  },
  {
   "cell_type": "code",
   "execution_count": null,
   "metadata": {},
   "outputs": [],
   "source": [
    "@Controlador(\"1\", \"ejercicio_ml_1\")\n",
    "def ejercicio_1(x, y, nuevo_x):\n",
    "    \"\"\"\n",
    "    Instrucciones:\n",
    "        Esta función recibe:\n",
    "\n",
    "        x (array o lista de números): variable independiente\n",
    "\n",
    "        y (array o lista de números): variable dependiente\n",
    "\n",
    "        nuevo_x (float): nuevo valor para predecir\n",
    "\n",
    "        Debe ajustar un modelo de regresión lineal usando sklearn.linear_model.LinearRegression, \n",
    "        entrenarlo con x y y, y luego devolver la predicción para nuevo_x, redondeada a dos decimales.\n",
    "        \n",
    "        Convertir el resultado a float usando la función float, por ejemplo:\n",
    "        \n",
    "        resultado = float(np.float(10.0))\n",
    "    \"\"\"\n",
    "\n",
    "    # Escribe aquí tu código ↓\n",
    "    \n",
    "\n",
    "    # Escribe aquí tu código ↑\n",
    "    \n",
    "    return # ← Escribe aquí tu código"
   ]
  },
  {
   "cell_type": "code",
   "execution_count": null,
   "metadata": {},
   "outputs": [],
   "source": [
    "calificador.califica_ejercicio_ml_1(ejercicio_1)"
   ]
  },
  {
   "cell_type": "code",
   "execution_count": null,
   "metadata": {},
   "outputs": [],
   "source": [
    "@Controlador(\"1\", \"ejercicio_ml_2\")\n",
    "def ejercicio_2(x, y):\n",
    "    \"\"\"\n",
    "    Instrucciones:\n",
    "        Esta función recibe:\n",
    "\n",
    "            x (array o lista bidimensional): variables independientes\n",
    "\n",
    "            y (array o lista): variable dependiente\n",
    "\n",
    "            Debe entrenar un modelo de regresión lineal y retornar el valor de R², redondeado a dos decimales.\n",
    "            \n",
    "            Si bien en clase vimos que hay que separar el conjunto total en entrenamiento y prueba\n",
    "            en este caso no lo vamos a hacer, usa la misma x y la misma y para obtener R².\n",
    "            \n",
    "\n",
    "    Recuerda:\n",
    "        Cuida la indentación.\n",
    "    \"\"\"\n",
    "\n",
    "    # Escribe aquí tu código ↓\n",
    "    \n",
    "\n",
    "    # Escribe aquí tu código ↑\n",
    "    \n",
    "    return  # ← Escribe aquí tu código "
   ]
  },
  {
   "cell_type": "code",
   "execution_count": null,
   "metadata": {},
   "outputs": [],
   "source": [
    "calificador.califica_ejercicio_ml_2(ejercicio_2)"
   ]
  },
  {
   "cell_type": "code",
   "execution_count": null,
   "metadata": {},
   "outputs": [],
   "source": [
    "@Controlador(\"1\", \"ejercicio_ml_3\")\n",
    "def ejercicio_3(x, y):\n",
    "    \"\"\"\n",
    "    Instrucciones:\n",
    "        Esta función recibe:\n",
    "\n",
    "            x (array o lista bidimensional): variables independientes\n",
    "\n",
    "            y (array o lista): variable dependiente\n",
    "\n",
    "            Debe ajustar una regresión lineal múltiple y devolver un arreglo de numpy con los coeficientes del modelo, \n",
    "            redondeados a dos decimales.\n",
    "\n",
    "            Vas a usar la propiedad coef_ de tu modelo, la cual contiene un arreglo de numpy, por lo que hay que redondear\n",
    "            los elementos de ese arreglo, puedes usar np.round o round pero\n",
    "            debes regresar una lista, no un arreglo.\n",
    "            Los arreglos de numpy tienen un método llamado tolist que transforma el arreglo en una lista de python\n",
    "    Recuerda:\n",
    "        Cuida la indentación.\n",
    "    \"\"\"\n",
    "\n",
    "    # Escribe aquí tu código ↓\n",
    "    \n",
    "\n",
    "    # Escribe aquí tu código ↑\n",
    "    \n",
    "    return # ← Escribe aquí tu código"
   ]
  },
  {
   "cell_type": "code",
   "execution_count": null,
   "metadata": {},
   "outputs": [],
   "source": [
    "calificador.califica_ejercicio_ml_3(ejercicio_3)"
   ]
  },
  {
   "cell_type": "code",
   "execution_count": null,
   "metadata": {},
   "outputs": [],
   "source": [
    "@Controlador(\"1\", \"ejercicio_ml_4\")\n",
    "def ejercicio_4(x, y):\n",
    "    \"\"\"\n",
    "    Instrucciones:\n",
    "        Esta función recibe:\n",
    "\n",
    "            x (array o lista): variable o variables independientes\n",
    "\n",
    "            y (array o lista): valores reales\n",
    "\n",
    "            Debe entrenar un modelo de regresión lineal y calcular el error cuadrático medio (MSE) entre los valores predichos y reales, redondeado a dos decimales.\n",
    "\n",
    "\n",
    "    Recuerda:\n",
    "        Cuida la indentación.\n",
    "    \"\"\"\n",
    "\n",
    "    # Escribe aquí tu código ↓\n",
    "    \n",
    "\n",
    "    # Escribe aquí tu código ↑\n",
    "    \n",
    "    return # ← Escribe aquí tu código"
   ]
  },
  {
   "cell_type": "code",
   "execution_count": null,
   "metadata": {},
   "outputs": [],
   "source": [
    "calificador.califica_ejercicio_ml_4(ejercicio_4)"
   ]
  },
  {
   "cell_type": "code",
   "execution_count": null,
   "metadata": {},
   "outputs": [],
   "source": [
    "@Controlador(\"1\", \"ejercicio_ml_5\")\n",
    "def ejercicio_5(x_entrenamiento, y_entrenamiento, x_nuevos):\n",
    "    \"\"\"\n",
    "    Instrucciones:\n",
    "        Esta función recibe:\n",
    "\n",
    "            x_entrenamiento (array bidimensional): variables independientes de entrenamiento\n",
    "\n",
    "            y_entrenamiento (array): variable dependiente de entrenamiento\n",
    "\n",
    "            x_nuevos (array bidimensional): nuevos valores para predecir\n",
    "\n",
    "            Debe entrenar el modelo y retornar un arreglo de numpy con las predicciones para x_nuevos, redondeadas a dos decimales.\n",
    "        \n",
    "\n",
    "    Recuerda:\n",
    "        Cuida la indentación.\n",
    "    \"\"\"\n",
    "\n",
    "    # Escribe aquí tu código ↓\n",
    "    \n",
    "\n",
    "    # Escribe aquí tu código ↑\n",
    "    \n",
    "    return  # ← Escribe aquí tu código"
   ]
  },
  {
   "cell_type": "code",
   "execution_count": null,
   "metadata": {},
   "outputs": [],
   "source": [
    "calificador.califica_ejercicio_ml_5(ejercicio_5)"
   ]
  }
 ],
 "metadata": {
  "kernelspec": {
   "display_name": "timeseries",
   "language": "python",
   "name": "python3"
  },
  "language_info": {
   "codemirror_mode": {
    "name": "ipython",
    "version": 3
   },
   "file_extension": ".py",
   "mimetype": "text/x-python",
   "name": "python",
   "nbconvert_exporter": "python",
   "pygments_lexer": "ipython3",
   "version": "3.13.7"
  }
 },
 "nbformat": 4,
 "nbformat_minor": 2
}
