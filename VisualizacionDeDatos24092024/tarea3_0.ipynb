{
 "cells": [
  {
   "cell_type": "code",
   "execution_count": 1,
   "metadata": {},
   "outputs": [],
   "source": [
    "#\n",
    "#\n",
    "# EJECUTAR ESTA CELDA CADA VEZ QUE ENTRES A HACER LA TAREA\n",
    "#\n",
    "#\n",
    "\n",
    "#####################################\n",
    "# Módulo Math\n",
    "#####################################\n",
    "\n",
    "\n",
    "import calificador\n",
    "from controlador import Controlador\n",
    "import math"
   ]
  },
  {
   "cell_type": "code",
   "execution_count": 4,
   "metadata": {},
   "outputs": [],
   "source": [
    "@Controlador(\"3\", \"ejercicio_21\")\n",
    "def ejercicio_21(x):\n",
    "    \"\"\"\n",
    "    Instrucciones: \n",
    "        La función \"ejercicio_21\" toma el parámetro \"x\" y \n",
    "        debe regresar el coseno hiperbólico inverso de \n",
    "        dicho parámetro.\n",
    "    \n",
    "    Condiciones: \n",
    "        Utilizar la función acosh() del módulo math la cual\n",
    "        regresa el coseno hiperbólico inverso de x.\n",
    "        No es necesario importar el módulo en cada\n",
    "        ejercicio, éste ya fue importado en el primer\n",
    "        bloque de código con el calificador.\n",
    "\n",
    "        Redondea a dos decimales el resultado obtenido con \n",
    "        ayuda de la función round()\n",
    "\n",
    "    Ejemplo:\n",
    "        Si x=4 la función regresa 2.0634370:\n",
    "        math.acosh(4) = 2.0634370\n",
    "    \n",
    "    Recuerda:\n",
    "        Lo que la función \"regresa\" es justo lo que\n",
    "        va después de la palabra reservada \"return\".\n",
    "        \n",
    "        Cuida la indentación. \n",
    "    \"\"\"\n",
    "\n",
    "    # Escribe aquí tu código ↓\n",
    "    \n",
    "\n",
    "    # Escribe aquí tu código ↑\n",
    "\n",
    "    return # ← Escribe aquí tu código"
   ]
  },
  {
   "cell_type": "code",
   "execution_count": null,
   "metadata": {},
   "outputs": [],
   "source": [
    "ejercicio_21(45)"
   ]
  },
  {
   "cell_type": "code",
   "execution_count": null,
   "metadata": {},
   "outputs": [],
   "source": [
    "calificador.califica_ejercicio_21(ejercicio_21)"
   ]
  },
  {
   "cell_type": "code",
   "execution_count": 6,
   "metadata": {},
   "outputs": [],
   "source": [
    "@Controlador(\"3\", \"ejercicio_22\")\n",
    "def ejercicio_22(x):\n",
    "    \"\"\"\n",
    "    Instrucciones: \n",
    "        La función \"ejercicio_22\" toma el parámetro \"x\" y \n",
    "        debe regresar el seno hiperbólico inverso de \n",
    "        dicho parámetro.\n",
    "    \n",
    "    Condiciones: \n",
    "        Utilizar la función asinh() del módulo math la cual\n",
    "        regresa el seno hiperbólico inverso de x.\n",
    "        No es necesario importar el módulo en cada\n",
    "        ejercicio, éste ya fue importado en el primer\n",
    "        bloque de código con el calificador.\n",
    "\n",
    "        Redondea a dos decimales el resultado obtenido con \n",
    "        ayuda de la función round()\n",
    "\n",
    "    Ejemplo:\n",
    "        Si x=25 la función regresa 3.912422:\n",
    "        math.asinh(25) = 3.912422 \n",
    "    \n",
    "    Recuerda:\n",
    "        Lo que la función \"regresa\" es justo lo que\n",
    "        va después de la palabra reservada \"return\".\n",
    "        \n",
    "        Cuida la indentación. \n",
    "    \"\"\"\n",
    "\n",
    "    # Escribe aquí tu código ↓\n",
    "    \n",
    "\n",
    "    # Escribe aquí tu código ↑\n",
    "\n",
    "    return # ← Escribe aquí tu código"
   ]
  },
  {
   "cell_type": "code",
   "execution_count": null,
   "metadata": {},
   "outputs": [],
   "source": [
    "ejercicio_22(20)"
   ]
  },
  {
   "cell_type": "code",
   "execution_count": null,
   "metadata": {},
   "outputs": [],
   "source": [
    "calificador.califica_ejercicio_22(ejercicio_22)"
   ]
  },
  {
   "cell_type": "code",
   "execution_count": 8,
   "metadata": {},
   "outputs": [],
   "source": [
    "@Controlador(\"3\", \"ejercicio_23\")\n",
    "def ejercicio_23(x):\n",
    "    \"\"\"\n",
    "    Instrucciones: \n",
    "        La función \"ejercicio_23\" toma el parámetro \"x\" y \n",
    "        debe regresar la tangente hiperbólica inversa de \n",
    "        dicho parámetro.\n",
    "    \n",
    "    Condiciones: \n",
    "        Utilizar la función atanh() del módulo math la cual\n",
    "        regresa la tangente hiperbólica inversa de x.\n",
    "        No es necesario importar el módulo en cada\n",
    "        ejercicio, éste ya fue importado en el primer\n",
    "        bloque de código con el calificador.\n",
    "\n",
    "        Redondea a dos decimales el resultado obtenido con \n",
    "        ayuda de la función round()\n",
    "\n",
    "    Ejemplo:\n",
    "        Si x=0 la función regresa 0.0:\n",
    "        math.atanh(0) = 0.0\n",
    "    \n",
    "    Recuerda:\n",
    "        Lo que la función \"regresa\" es justo lo que\n",
    "        va después de la palabra reservada \"return\".\n",
    "        \n",
    "        Cuida la indentación. \n",
    "    \"\"\"\n",
    "\n",
    "    # Escribe aquí tu código ↓\n",
    "    \n",
    "\n",
    "    # Escribe aquí tu código ↑\n",
    "\n",
    "    return # ← Escribe aquí tu código"
   ]
  },
  {
   "cell_type": "code",
   "execution_count": null,
   "metadata": {},
   "outputs": [],
   "source": [
    "ejercicio_23(0.5)"
   ]
  },
  {
   "cell_type": "code",
   "execution_count": null,
   "metadata": {},
   "outputs": [],
   "source": [
    "calificador.califica_ejercicio_23(ejercicio_23)"
   ]
  },
  {
   "cell_type": "code",
   "execution_count": 10,
   "metadata": {},
   "outputs": [],
   "source": [
    "@Controlador(\"3\", \"ejercicio_24\")\n",
    "def ejercicio_24(x):\n",
    "    \"\"\"\n",
    "    Instrucciones: \n",
    "        La función \"ejercicio_24\" toma el parámetro \"x\" y \n",
    "        debe regresar el valor absoluto de dicho parámetro.\n",
    "    \n",
    "    Condiciones: \n",
    "        Utilizar la función fabs() del módulo math la cual\n",
    "        regresa el valor absoluto de x.\n",
    "        No es necesario importar el módulo en cada\n",
    "        ejercicio, éste ya fue importado en el primer\n",
    "        bloque de código con el calificador.\n",
    "\n",
    "    Ejemplo:\n",
    "        Si x=-7 la función regresa 7:\n",
    "        math.fabs(-7) = 7\n",
    "    \n",
    "    Recuerda:\n",
    "        Lo que la función \"regresa\" es justo lo que\n",
    "        va después de la palabra reservada \"return\".\n",
    "        \n",
    "        Cuida la indentación. \n",
    "    \"\"\"\n",
    "\n",
    "    # Escribe aquí tu código ↓\n",
    "    \n",
    "\n",
    "    # Escribe aquí tu código ↑\n",
    "\n",
    "    return # ← Escribe aquí tu código"
   ]
  },
  {
   "cell_type": "code",
   "execution_count": null,
   "metadata": {},
   "outputs": [],
   "source": [
    "ejercicio_24(-150)"
   ]
  },
  {
   "cell_type": "code",
   "execution_count": null,
   "metadata": {},
   "outputs": [],
   "source": [
    "calificador.califica_ejercicio_24(ejercicio_24)"
   ]
  },
  {
   "cell_type": "code",
   "execution_count": 12,
   "metadata": {},
   "outputs": [],
   "source": [
    "@Controlador(\"3\", \"ejercicio_25\")\n",
    "def ejercicio_25(x, y):\n",
    "    \"\"\"\n",
    "    Instrucciones: \n",
    "        La función \"ejercicio_25\" toma los parámetros \"x\", \"y\"\n",
    "        y, debe regresar el máximo común divisor entre dichos parámetros.\n",
    "    \n",
    "    Condiciones: \n",
    "        Utilizar la función gcd() del módulo math la cual regresa \n",
    "        el máximo común divisor entre los números enteros que \n",
    "        toma como argumento. Si cualquiera de los números es distinto de cero, \n",
    "        el valor retornado es el entero positivo más grande que los divide.\n",
    "        Si todos los argumentos son cero, entonces el valor de retorno es 0.\n",
    "        No es necesario importar el módulo en cada ejercicio, éste ya fue \n",
    "        importado en el primer bloque de código con el calificador.\n",
    "\n",
    "    Ejemplo:\n",
    "        Si x=30 y y=5 la función regresa 5:\n",
    "        math.gcd(30, 5) = 5\n",
    "    \n",
    "    Recuerda:\n",
    "        Lo que la función \"regresa\" es justo lo que va después de la palabra \n",
    "        reservada \"return\".\n",
    "        \n",
    "        Cuida la indentación. \n",
    "    \"\"\"\n",
    "    # Escribe aquí tu código ↓\n",
    "    \n",
    "\n",
    "    # Escribe aquí tu código ↑\n",
    "\n",
    "    return # ← Escribe aquí tu código"
   ]
  },
  {
   "cell_type": "code",
   "execution_count": null,
   "metadata": {},
   "outputs": [],
   "source": [
    "ejercicio_25(60, 90)"
   ]
  },
  {
   "cell_type": "code",
   "execution_count": null,
   "metadata": {},
   "outputs": [],
   "source": [
    "calificador.califica_ejercicio_25(ejercicio_25)"
   ]
  },
  {
   "cell_type": "code",
   "execution_count": 14,
   "metadata": {},
   "outputs": [],
   "source": [
    "@Controlador(\"3\", \"ejercicio_26\")\n",
    "def ejercicio_26(x, y):\n",
    "    \"\"\"\n",
    "    Instrucciones: \n",
    "        La función \"ejercicio_26\" toma los parámetros \"x\", \"y\"\n",
    "        y, debe regresar el mínimo común múltiplo entre dichos parámetros.\n",
    "    \n",
    "    Condiciones: \n",
    "        Utilizar la función lcm() del módulo math la cual regresa \n",
    "        el mínimo común múltiplo entre los números enteros que \n",
    "        toma como argumento. Si todos los números son distintos de cero, \n",
    "        el valor retornado es el entero positivo más pequeño que es un múltiplo \n",
    "        de todos los argumentos. Si cualquiera de los argumentos son cero,\n",
    "        el valor de retorno es 0.\n",
    "        No es necesario importar el módulo en cada ejercicio, éste ya fue \n",
    "        importado en el primer bloque de código con el calificador.\n",
    "\n",
    "    Ejemplo:\n",
    "        Si x=16 y y=9 la función regresa 144:\n",
    "        math.lcm(16, 9) = 144\n",
    "    \n",
    "    Recuerda:\n",
    "        Lo que la función \"regresa\" es justo lo que va después de la palabra \n",
    "        reservada \"return\".\n",
    "        \n",
    "        Cuida la indentación.\n",
    "    \"\"\"\n",
    "\n",
    "    # Escribe aquí tu código ↓\n",
    "    \n",
    "\n",
    "    # Escribe aquí tu código ↑\n",
    "\n",
    "    return # ← Escribe aquí tu código"
   ]
  },
  {
   "cell_type": "code",
   "execution_count": null,
   "metadata": {},
   "outputs": [],
   "source": [
    "ejercicio_26(10, 25)"
   ]
  },
  {
   "cell_type": "code",
   "execution_count": null,
   "metadata": {},
   "outputs": [],
   "source": [
    "calificador.califica_ejercicio_26(ejercicio_26)"
   ]
  },
  {
   "cell_type": "code",
   "execution_count": 16,
   "metadata": {},
   "outputs": [],
   "source": [
    "@Controlador(\"3\", \"ejercicio_27\")\n",
    "def ejercicio_27(x):\n",
    "    \"\"\"\n",
    "    Instrucciones: \n",
    "        La función \"ejercicio_27\" toma el parámetro \"x\" y \n",
    "        debe regresar el resultado de dividir dicho parámetro\n",
    "        entre la constante matemática tau (τ).\n",
    "    \n",
    "    Condiciones: \n",
    "        Utilizar la constante tau del módulo math la cual es \n",
    "        una constante del círculo igual a 2π, la razón entre \n",
    "        la circunferencia de un círculo y su radio. \n",
    "        No es necesario importar el módulo en cada ejercicio, \n",
    "        éste ya fue importado en el primer bloque de código \n",
    "        con el calificador.\n",
    "        \n",
    "        Redondea a dos decimales el resultado obtenido con \n",
    "        ayuda de la función round()\n",
    "\n",
    "    Ejemplo:\n",
    "        Si x=360 la función regresa 57.2957:\n",
    "        360 / math.tau = 57.2957\n",
    "    \n",
    "    Recuerda:\n",
    "        Lo que la función \"regresa\" es justo lo que\n",
    "        va después de la palabra reservada \"return\".\n",
    "        \n",
    "        Cuida la indentación. \n",
    "    \"\"\"\n",
    "\n",
    "    # Escribe aquí tu código ↓\n",
    "    \n",
    "\n",
    "    # Escribe aquí tu código ↑\n",
    "\n",
    "    return # ← Escribe aquí tu código"
   ]
  },
  {
   "cell_type": "code",
   "execution_count": null,
   "metadata": {},
   "outputs": [],
   "source": [
    "ejercicio_27(180)"
   ]
  },
  {
   "cell_type": "code",
   "execution_count": null,
   "metadata": {},
   "outputs": [],
   "source": [
    "calificador.califica_ejercicio_27(ejercicio_27)"
   ]
  },
  {
   "cell_type": "code",
   "execution_count": 18,
   "metadata": {},
   "outputs": [],
   "source": [
    "@Controlador(\"3\", \"ejercicio_28\")\n",
    "def ejercicio_28(x):\n",
    "    \"\"\"\n",
    "    Instrucciones:\n",
    "        La función \"ejercicio_28\" toma el parámetro \"x\" y\n",
    "        debe regresar el logaritmo base 2 de dicho parámetro.\n",
    "    \n",
    "    Condiciones:\n",
    "        Utilizar la función log2() del módulo math para \n",
    "        obtener el logaritmo base 2 de x.\n",
    "        No es necesario importar el módulo en cada\n",
    "        ejercicio, éste ya fue importado en el primer\n",
    "        bloque de código con el calificador.\n",
    "    \n",
    "    Ejemplo:\n",
    "        Si x=1 la función regresa 0.0\n",
    "        math.log2(1) = 0.0\n",
    "\n",
    "    Recuerda:\n",
    "        Lo que la función \"regresa\" es justo lo que\n",
    "        va después de la palabra reservada \"return\".\n",
    "        \n",
    "        Cuida la indentación.\n",
    "    \"\"\"\n",
    "\n",
    "    # Escribe aquí tu código ↓\n",
    "    \n",
    "\n",
    "    # Escribe aquí tu código ↑\n",
    "\n",
    "    return # ← Escribe aquí tu código"
   ]
  },
  {
   "cell_type": "code",
   "execution_count": null,
   "metadata": {},
   "outputs": [],
   "source": [
    "ejercicio_28(10)"
   ]
  },
  {
   "cell_type": "code",
   "execution_count": null,
   "metadata": {},
   "outputs": [],
   "source": [
    "calificador.califica_ejercicio_28(ejercicio_28)"
   ]
  },
  {
   "cell_type": "code",
   "execution_count": 20,
   "metadata": {},
   "outputs": [],
   "source": [
    "@Controlador(\"3\", \"ejercicio_29\")\n",
    "def ejercicio_29(radianes, x):\n",
    "    \"\"\"\n",
    "    Instrucciones:\n",
    "        La función \"ejercicio_29\" toma el parámetro \n",
    "        \"radianes\" y x\", y debe regresar el resultado \n",
    "        de obtener la conversion del parámetro \"radianes\"\n",
    "        a grados y multiplicar los grados obtenidos por \n",
    "        el parámetro \"x\"\n",
    "\n",
    "    Condiciones:\n",
    "        Utilizar la función degrees() del módulo math\n",
    "        que convierte la cantidad en radianes que se \n",
    "        le pase como argumento a grados.\n",
    "        No es necesario importar el módulo en cada\n",
    "        ejercicio, éste ya fue importado en el primer\n",
    "        bloque de código con el calificador.\n",
    "\n",
    "        Redondea a dos decimales el resultado obtenido con \n",
    "        ayuda de la función round()\n",
    "    \n",
    "    Ejemplo:\n",
    "        Si radianes=5 y x=3 la función regresa 859.43:\n",
    "        math.degrees(5) * 3 = 859.43\n",
    "\n",
    "    Recuerda:\n",
    "        Lo que la función \"regresa\" es justo lo que\n",
    "        va después de la palabra reservada \"return\".\n",
    "        \n",
    "        Cuida la indentación.\n",
    "    \"\"\"\n",
    "\n",
    "    # Escribe aquí tu código ↓\n",
    "\n",
    "\n",
    "    # Escribe aquí tu código ↑\n",
    "\n",
    "    return # ← Escribe aquí tu código"
   ]
  },
  {
   "cell_type": "code",
   "execution_count": null,
   "metadata": {},
   "outputs": [],
   "source": [
    "ejercicio_29(2, 3)"
   ]
  },
  {
   "cell_type": "code",
   "execution_count": null,
   "metadata": {},
   "outputs": [],
   "source": [
    "calificador.califica_ejercicio_29(ejercicio_29)"
   ]
  },
  {
   "cell_type": "code",
   "execution_count": 22,
   "metadata": {},
   "outputs": [],
   "source": [
    "@Controlador(\"3\", \"ejercicio_30\")\n",
    "def ejercicio_30(grados, x):\n",
    "    \"\"\"\n",
    "    Instrucciones:\n",
    "        La función \"ejercicio_30\" toma los parámetros \n",
    "        \"grados\" y x\", y debe regresar el resultado \n",
    "        de obtener la conversion del parámetro \"grados\"\n",
    "        a radianes y sumarle x.\n",
    "\n",
    "    Condiciones:\n",
    "        Utilizar la función radians() del módulo math\n",
    "        que convierte la cantidad en grados que se \n",
    "        le pase como argumento a radianes.\n",
    "        No es necesario importar el módulo en cada\n",
    "        ejercicio, éste ya fue importado en el primer\n",
    "        bloque de código con el calificador.\n",
    "\n",
    "        Redondea a dos decimales el resultado obtenido con \n",
    "        ayuda de la función round()\n",
    "    \n",
    "    Ejemplo:\n",
    "        Si grados=4 y x=6 la función regresa 6.069:\n",
    "        math.radians(4) + 6 = 6.069\n",
    "\n",
    "    Recuerda:\n",
    "        Lo que la función \"regresa\" es justo lo que\n",
    "        va después de la palabra reservada \"return\".\n",
    "        \n",
    "        Cuida la indentación.\n",
    "\n",
    "    \"\"\"\n",
    "\n",
    "    # Escribe aquí tu código ↓\n",
    "\n",
    "\n",
    "    # Escribe aquí tu código ↑\n",
    "\n",
    "    return # ← Escribe aquí tu código"
   ]
  },
  {
   "cell_type": "code",
   "execution_count": null,
   "metadata": {},
   "outputs": [],
   "source": [
    "ejercicio_30(6, 10)"
   ]
  },
  {
   "cell_type": "code",
   "execution_count": null,
   "metadata": {},
   "outputs": [],
   "source": [
    "calificador.califica_ejercicio_30(ejercicio_30)"
   ]
  }
 ],
 "metadata": {
  "kernelspec": {
   "display_name": "infotec",
   "language": "python",
   "name": "python3"
  },
  "language_info": {
   "codemirror_mode": {
    "name": "ipython",
    "version": 3
   },
   "file_extension": ".py",
   "mimetype": "text/x-python",
   "name": "python",
   "nbconvert_exporter": "python",
   "pygments_lexer": "ipython3",
   "version": "3.10.10"
  }
 },
 "nbformat": 4,
 "nbformat_minor": 2
}
