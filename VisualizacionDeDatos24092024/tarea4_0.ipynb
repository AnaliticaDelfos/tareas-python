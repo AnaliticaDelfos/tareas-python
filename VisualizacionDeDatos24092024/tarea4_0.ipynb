{
 "cells": [
  {
   "cell_type": "code",
   "execution_count": 1,
   "metadata": {},
   "outputs": [],
   "source": [
    "#\n",
    "#\n",
    "# EJECUTAR ESTA CELDA CADA VEZ QUE ENTRES A HACER LA TAREA\n",
    "#\n",
    "#\n",
    "\n",
    "#####################################\n",
    "# Cadenas de caracteres\n",
    "#####################################\n",
    "\n",
    "\n",
    "import calificador\n",
    "from controlador import Controlador"
   ]
  },
  {
   "cell_type": "code",
   "execution_count": 2,
   "metadata": {},
   "outputs": [],
   "source": [
    "@Controlador(\"4\", \"ejercicio_31\")\n",
    "def ejercicio_31(str):\n",
    "    \"\"\"\n",
    "    Instrucciones:\n",
    "        La función \"ejercicio_31\" toma el parámetro \"str\" y,\n",
    "        regresa la cadena de caracteres asignada al mismo con \n",
    "        el primer carácter de cada palabra en mayúscula.\n",
    "\n",
    "    Condiciones:\n",
    "        El tipo de dato de dicho parámetro debe ser string.\n",
    "        La cadena de caracteres asignada a \"str\" debe ser \n",
    "        alfabética.\n",
    "        Utiliza el método .title() para convertir a mayúsculas\n",
    "        el primer carácter de todas las palabras.\n",
    "\n",
    "    Ejemplo:\n",
    "        Si str = \"hola mundo\" la función regresa:\n",
    "        Hola Mundo\n",
    "\n",
    "    Recuerda:        \n",
    "        Lo que la función \"regresa\" es justo lo que va después \n",
    "        de la palabra reservada \"return\".\n",
    "        \n",
    "        Cuida la indentación.\n",
    "    \"\"\"\n",
    "\n",
    "    # Escribe aquí tu código ↓\n",
    "    \n",
    "\n",
    "    # Escribe aquí tu código ↑\n",
    "\n",
    "    return # ← Escribe aquí tu código"
   ]
  },
  {
   "cell_type": "code",
   "execution_count": null,
   "metadata": {},
   "outputs": [],
   "source": [
    "ejercicio_31(\"buenos días\")"
   ]
  },
  {
   "cell_type": "code",
   "execution_count": null,
   "metadata": {},
   "outputs": [],
   "source": [
    "calificador.califica_ejercicio_31(ejercicio_31)"
   ]
  },
  {
   "cell_type": "code",
   "execution_count": 4,
   "metadata": {},
   "outputs": [],
   "source": [
    "@Controlador(\"4\", \"ejercicio_32\")\n",
    "def ejercicio_32(str1, str2):\n",
    "    \"\"\"\n",
    "     Instrucciones:\n",
    "        La función \"ejercicio_32\" toma el parámetro \"str1\", \n",
    "        \"str2\" y, regresa el total de veces que aparece la \n",
    "        subcadena \"str2\" en la cadena \"str1\".\n",
    "\n",
    "    Condiciones:\n",
    "        El tipo de dato de dicho parámetro debe ser string.\n",
    "        La cadena y subcadena \"str1\" y \"str2\" correspondientemente\n",
    "        deben ser cadenas alfabéticas.\n",
    "        Utiliza el método .count() que recibe por argumento\n",
    "        la subcadena cuya aparición en la cadena de caracteres\n",
    "        a la que es aplicado dicho método debe contar.\n",
    "\n",
    "    Ejemplo:\n",
    "        Si str1 = \"Bello camello\" y str2 = \"ello\" la función regresa:\n",
    "        2\n",
    "\n",
    "    Recuerda:        \n",
    "        Lo que la función \"regresa\" es justo lo que va después \n",
    "        de la palabra reservada \"return\".\n",
    "        \n",
    "        Cuida la indentación.\n",
    "    \"\"\"\n",
    "\n",
    "    # Escribe aquí tu código ↓\n",
    "    \n",
    "\n",
    "    # Escribe aquí tu código ↑\n",
    "\n",
    "    return # ← Escribe aquí tu código"
   ]
  },
  {
   "cell_type": "code",
   "execution_count": null,
   "metadata": {},
   "outputs": [],
   "source": [
    "ejercicio_32(\"Hola crayola\", \"ola\")"
   ]
  },
  {
   "cell_type": "code",
   "execution_count": null,
   "metadata": {},
   "outputs": [],
   "source": [
    "calificador.califica_ejercicio_32(ejercicio_32)"
   ]
  },
  {
   "cell_type": "code",
   "execution_count": 6,
   "metadata": {},
   "outputs": [],
   "source": [
    "@Controlador(\"4\", \"ejercicio_33\")\n",
    "def ejercicio_33(str1, str2):\n",
    "    \"\"\"\n",
    "    Instrucciones:\n",
    "        La función \"ejercicio_33\" toma el parámetro \"str1\", \n",
    "        \"str2\" y, regresa el índice en el que aparece la \n",
    "        subcadena \"str2\" en la cadena \"str1\".\n",
    "\n",
    "    Condiciones:\n",
    "        El tipo de dato de dicho parámetro debe ser string.\n",
    "        La cadena y subcadena \"str1\" y \"str2\" correspondientemente\n",
    "        deben ser cadenas alfabéticas.\n",
    "        Utiliza el método .find() que recibe por argumento\n",
    "        la subcadena cuyo índice donde aparece dentro de la cadena \n",
    "        de caracteres a la que es aplicado dicho método debe regresar.\n",
    "\n",
    "    Ejemplo:\n",
    "        Si str1 = \"Bienvenido sea\" y str2 = \"ido\" la función regresa:\n",
    "        7\n",
    "\n",
    "    Recuerda:        \n",
    "        Lo que la función \"regresa\" es justo lo que va después \n",
    "        de la palabra reservada \"return\".\n",
    "        \n",
    "        Cuida la indentación.\n",
    "    \"\"\"\n",
    "\n",
    "    # Escribe aquí tu código ↓\n",
    "    \n",
    "\n",
    "    # Escribe aquí tu código ↑\n",
    "\n",
    "    return # ← Escribe aquí tu código"
   ]
  },
  {
   "cell_type": "code",
   "execution_count": null,
   "metadata": {},
   "outputs": [],
   "source": [
    "ejercicio_33(\"Hola Mundo\", \"un\")"
   ]
  },
  {
   "cell_type": "code",
   "execution_count": null,
   "metadata": {},
   "outputs": [],
   "source": [
    "calificador.califica_ejercicio_33(ejercicio_33)"
   ]
  },
  {
   "cell_type": "code",
   "execution_count": 8,
   "metadata": {},
   "outputs": [],
   "source": [
    "@Controlador(\"4\", \"ejercicio_34\")\n",
    "def ejercicio_34(str):\n",
    "    \"\"\"\n",
    "    Instrucciones:\n",
    "        La función \"ejercicio_34\" toma el parámetro \"str\" y,\n",
    "        regresa el valor de verdad True si \"str\" esta formado \n",
    "        únicamente por caracteres numéricos y False de lo\n",
    "        contrario.\n",
    "\n",
    "    Condiciones:\n",
    "        El tipo de dato de dicho parámetro debe ser string.\n",
    "\n",
    "    Ejemplo:\n",
    "        Si str = \"101\" la función regresa:\n",
    "        True\n",
    "\n",
    "    Recuerda:\n",
    "        Utiliza el método .isdigit()\n",
    "        \n",
    "        Lo que la función \"regresa\" es justo lo que va después \n",
    "        de la palabra reservada \"return\".\n",
    "        \n",
    "        Cuida la indentación.\n",
    "    \"\"\"\n",
    "\n",
    "    # Escribe aquí tu código ↓\n",
    "    \n",
    "\n",
    "    # Escribe aquí tu código ↑\n",
    "\n",
    "    return # ← Escribe aquí tu código"
   ]
  },
  {
   "cell_type": "code",
   "execution_count": null,
   "metadata": {},
   "outputs": [],
   "source": [
    "ejercicio_34(\"Python 101\")"
   ]
  },
  {
   "cell_type": "code",
   "execution_count": null,
   "metadata": {},
   "outputs": [],
   "source": [
    "calificador.califica_ejercicio_34(ejercicio_34)"
   ]
  },
  {
   "cell_type": "code",
   "execution_count": 10,
   "metadata": {},
   "outputs": [],
   "source": [
    "@Controlador(\"4\", \"ejercicio_35\")\n",
    "def ejercicio_35(str):\n",
    "    \"\"\"\n",
    "    Instrucciones:\n",
    "        La función \"ejercicio_35\" toma el parámetro \"str\" y,\n",
    "        regresa el valor de verdad True si \"str\" esta formado \n",
    "        únicamente por caracteres alfabéticos escritos con\n",
    "        minúsculas y False para cualquier otro caso.\n",
    "\n",
    "    Condiciones:\n",
    "        El tipo de dato de dicho parámetro debe ser string.\n",
    "\n",
    "    Ejemplo:\n",
    "        Si str = \"Hola mundo\" la función regresa:\n",
    "        False\n",
    "\n",
    "    Recuerda:\n",
    "        Utiliza el método .islower()\n",
    "        \n",
    "        Lo que la función \"regresa\" es justo lo que va después \n",
    "        de la palabra reservada \"return\".\n",
    "        \n",
    "        Cuida la indentación.\n",
    "    \"\"\"\n",
    "\n",
    "    # Escribe aquí tu código ↓\n",
    "    \n",
    "\n",
    "    # Escribe aquí tu código ↑\n",
    "\n",
    "    return # ← Escribe aquí tu código"
   ]
  },
  {
   "cell_type": "code",
   "execution_count": null,
   "metadata": {},
   "outputs": [],
   "source": [
    "ejercicio_35(\"python\")"
   ]
  },
  {
   "cell_type": "code",
   "execution_count": null,
   "metadata": {},
   "outputs": [],
   "source": [
    "calificador.califica_ejercicio_35(ejercicio_35)"
   ]
  },
  {
   "cell_type": "code",
   "execution_count": 12,
   "metadata": {},
   "outputs": [],
   "source": [
    "@Controlador(\"4\", \"ejercicio_36\")\n",
    "def ejercicio_36(str):\n",
    "    \"\"\"\n",
    "    Instrucciones:\n",
    "        La función \"ejercicio_36\" toma el parámetro \"str\" y,\n",
    "        regresa el valor de verdad True si \"str\" esta formado \n",
    "        únicamente por caracteres alfabéticos escritos con\n",
    "        mayúsculas y False para cualquier otro caso.\n",
    "\n",
    "    Condiciones:\n",
    "        El tipo de dato de dicho parámetro debe ser string.\n",
    "\n",
    "    Ejemplo:\n",
    "        Si str = \"DELFOS\" la función regresa:\n",
    "        True\n",
    "\n",
    "    Recuerda:\n",
    "        Utiliza el método .isupper()\n",
    "        \n",
    "        Lo que la función \"regresa\" es justo lo que va después \n",
    "        de la palabra reservada \"return\".\n",
    "        \n",
    "        Cuida la indentación.\n",
    "    \"\"\"\n",
    "\n",
    "    # Escribe aquí tu código ↓\n",
    "    \n",
    "\n",
    "    # Escribe aquí tu código ↑\n",
    "\n",
    "    return # ← Escribe aquí tu código"
   ]
  },
  {
   "cell_type": "code",
   "execution_count": null,
   "metadata": {},
   "outputs": [],
   "source": [
    "ejercicio_36(\"Python\")"
   ]
  },
  {
   "cell_type": "code",
   "execution_count": null,
   "metadata": {},
   "outputs": [],
   "source": [
    "calificador.califica_ejercicio_36(ejercicio_36)"
   ]
  },
  {
   "cell_type": "code",
   "execution_count": 14,
   "metadata": {},
   "outputs": [],
   "source": [
    "@Controlador(\"4\", \"ejercicio_37\")\n",
    "def ejercicio_37(str):\n",
    "    \"\"\"\n",
    "    Instrucciones:\n",
    "        La función \"ejercicio_37\" toma el parámetro \"str\" y,\n",
    "        regresa el valor de verdad True si \"str\" esta formado \n",
    "        únicamente por caracteres alfabéticos cuyo primer carácter\n",
    "        de cada palabra sea mayúscula y False para cualquier otro caso.\n",
    "\n",
    "    Condiciones:\n",
    "        El tipo de dato de dicho parámetro debe ser string.\n",
    "\n",
    "    Ejemplo:\n",
    "        Si str = \"Hola Mundo\" la función regresa:\n",
    "        True\n",
    "\n",
    "    Recuerda:\n",
    "        Utiliza el método .istitle()\n",
    "        \n",
    "        Lo que la función \"regresa\" es justo lo que va después \n",
    "        de la palabra reservada \"return\".\n",
    "        \n",
    "        Cuida la indentación.\n",
    "    \"\"\"\n",
    "\n",
    "    # Escribe aquí tu código ↓\n",
    "    \n",
    "\n",
    "    # Escribe aquí tu código ↑\n",
    "\n",
    "    return # ← Escribe aquí tu código"
   ]
  },
  {
   "cell_type": "code",
   "execution_count": null,
   "metadata": {},
   "outputs": [],
   "source": [
    "ejercicio_37(\"Buenos Días\")"
   ]
  },
  {
   "cell_type": "code",
   "execution_count": null,
   "metadata": {},
   "outputs": [],
   "source": [
    "calificador.califica_ejercicio_37(ejercicio_37)"
   ]
  },
  {
   "cell_type": "code",
   "execution_count": 16,
   "metadata": {},
   "outputs": [],
   "source": [
    "@Controlador(\"4\", \"ejercicio_38\")\n",
    "def ejercicio_38(str):\n",
    "    \"\"\"\n",
    "    Instrucciones:\n",
    "        La función \"ejercicio_38\" toma el parámetro \"str\" y,\n",
    "        regresa el valor de verdad True si \"str\" esta formado \n",
    "        únicamente por espacios vacíos y False para cualquier\n",
    "        otro caso.\n",
    "\n",
    "    Condiciones:\n",
    "        El tipo de dato de dicho parámetro debe ser string.\n",
    "\n",
    "    Ejemplo:\n",
    "        Si str = \"Hola \" la función regresa:\n",
    "        False\n",
    "\n",
    "    Recuerda:\n",
    "        Utiliza el método .isspace()\n",
    "        \n",
    "        Lo que la función \"regresa\" es justo lo que va después \n",
    "        de la palabra reservada \"return\".\n",
    "        \n",
    "        Cuida la indentación.\n",
    "    \"\"\"\n",
    "\n",
    "    # Escribe aquí tu código ↓\n",
    "    \n",
    "\n",
    "    # Escribe aquí tu código ↑\n",
    "\n",
    "    return # ← Escribe aquí tu código"
   ]
  },
  {
   "cell_type": "code",
   "execution_count": null,
   "metadata": {},
   "outputs": [],
   "source": [
    "ejercicio_38(\"    \")"
   ]
  },
  {
   "cell_type": "code",
   "execution_count": null,
   "metadata": {},
   "outputs": [],
   "source": [
    "calificador.califica_ejercicio_38(ejercicio_38)"
   ]
  },
  {
   "cell_type": "code",
   "execution_count": 18,
   "metadata": {},
   "outputs": [],
   "source": [
    "@Controlador(\"4\", \"ejercicio_39\")\n",
    "def ejercicio_39(str1, str2):\n",
    "    \"\"\"\n",
    "    Instrucciones:\n",
    "        La función \"ejercicio_39\" toma los parametros \"str1\", \"str2\"\n",
    "        y, regresa el valor de verdad True si la cadena \"str1\" empieza\n",
    "        con la subcadena \"str2\" y False para cualquier otro caso.\n",
    "\n",
    "    Condiciones:\n",
    "        El tipo de dato de dichos parametros debe ser string.\n",
    "        Utiliza el método .startswith()\n",
    "\n",
    "    Ejemplo:\n",
    "        Si str1 = \"Hola Mundo\" y str2 = \"Hola\" la función regresa True:\n",
    "        \"Hola mundo\".startswith(\"Hola\") → True\n",
    "\n",
    "    Recuerda:\n",
    "        Lo que la función \"regresa\" es justo lo que va después \n",
    "        de la palabra reservada \"return\".\n",
    "        \n",
    "        Cuida la indentación.\n",
    "    \"\"\"\n",
    "\n",
    "    # Escribe aquí tu código ↓\n",
    "\n",
    "\n",
    "    # Escribe aquí tu código ↑\n",
    "\n",
    "    return # ← Escribe aquí tu código"
   ]
  },
  {
   "cell_type": "code",
   "execution_count": null,
   "metadata": {},
   "outputs": [],
   "source": [
    "ejercicio_39(\"Bienvenidos\", \"Bien\")"
   ]
  },
  {
   "cell_type": "code",
   "execution_count": null,
   "metadata": {},
   "outputs": [],
   "source": [
    "calificador.califica_ejercicio_39(ejercicio_39)"
   ]
  },
  {
   "cell_type": "code",
   "execution_count": 20,
   "metadata": {},
   "outputs": [],
   "source": [
    "@Controlador(\"4\", \"ejercicio_40\")\n",
    "def ejercicio_40(str1, str2):\n",
    "    \"\"\"\n",
    "    Instrucciones:\n",
    "        La función \"ejercicio_40\" toma los parametros \"str1\", \"str2\"\n",
    "        y, regresa el valor de verdad True si la cadena \"str1\" termina\n",
    "        con la subcadena \"str2\" y False para cualquier otro caso.\n",
    "\n",
    "    Condiciones:\n",
    "        El tipo de dato de dichos parametros debe ser string.\n",
    "        Utiliza el método .endswith()\n",
    "\n",
    "    Ejemplo:\n",
    "        Si str1 = \"Bienvenidos\" y str2 = \"idos\" la función regresa True:\n",
    "        \"Bienvenidos\".endswith(\"idos\") → True\n",
    "\n",
    "    Recuerda:\n",
    "        Lo que la función \"regresa\" es justo lo que va después \n",
    "        de la palabra reservada \"return\".\n",
    "        \n",
    "        Cuida la indentación.\n",
    "    \"\"\"\n",
    "\n",
    "    # Escribe aquí tu código ↓\n",
    "\n",
    "\n",
    "    # Escribe aquí tu código ↑\n",
    "\n",
    "    return # ← Escribe aquí tu código"
   ]
  },
  {
   "cell_type": "code",
   "execution_count": null,
   "metadata": {},
   "outputs": [],
   "source": [
    "ejercicio_40(\"Hola mundo\", \"Hola\")"
   ]
  },
  {
   "cell_type": "code",
   "execution_count": null,
   "metadata": {},
   "outputs": [],
   "source": [
    "calificador.califica_ejercicio_40(ejercicio_40)"
   ]
  }
 ],
 "metadata": {
  "kernelspec": {
   "display_name": "infotec",
   "language": "python",
   "name": "python3"
  },
  "language_info": {
   "codemirror_mode": {
    "name": "ipython",
    "version": 3
   },
   "file_extension": ".py",
   "mimetype": "text/x-python",
   "name": "python",
   "nbconvert_exporter": "python",
   "pygments_lexer": "ipython3",
   "version": "3.10.10"
  }
 },
 "nbformat": 4,
 "nbformat_minor": 2
}
