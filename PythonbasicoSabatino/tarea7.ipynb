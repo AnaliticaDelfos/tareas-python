{
 "cells": [
  {
   "cell_type": "code",
   "execution_count": null,
   "metadata": {},
   "outputs": [],
   "source": [
    "#\n",
    "#\n",
    "# EJECUTAR ESTA CELDA\n",
    "#\n",
    "#\n",
    "\n",
    "#####################################\n",
    "#       Estructuras de datos\n",
    "#####################################\n",
    "\n",
    "\n",
    "\n",
    "import calificador\n",
    "CORREO = \"TU CORREO\""
   ]
  },
  {
   "cell_type": "code",
   "execution_count": null,
   "metadata": {},
   "outputs": [],
   "source": [
    "def pares_en_rango(inicio, fin):\n",
    "    \"\"\"\n",
    "    Instrucciones:\n",
    "        Esta función recibe dos números, llamados inicio y fin, respectivamente.\n",
    "        El fin es mayor que el inicio.\n",
    "        Encontrar los números pares que se encuentran entre inicio (inclusive) y fin (inclusive)\n",
    "        y agregarlos a una lista, regresar dicha lista.\n",
    "\n",
    "    Recuerda:\n",
    "        Cuida la indentación.\n",
    "    \"\"\"\n",
    "    \n",
    "    # Escribe aquí tu código\n",
    "    \n",
    "    \n",
    "    # Escribe aquí tu código\n",
    "    \n",
    "    return # Escribe aquí tu código"
   ]
  },
  {
   "cell_type": "code",
   "execution_count": null,
   "metadata": {},
   "outputs": [],
   "source": [
    "calificador.califica_pares_en_rango(pares_en_rango, CORREO, False)"
   ]
  },
  {
   "cell_type": "code",
   "execution_count": null,
   "metadata": {},
   "outputs": [],
   "source": [
    "def multiplos_de_5(numeros):\n",
    "    \"\"\"\n",
    "    Instrucciones:\n",
    "        Esta función recibe una lista de números enteros llamada numeros.\n",
    "        Guardar los números que sea múltiplos de 5 en una \n",
    "        lista nueva y regresar dicha lista.\n",
    "\n",
    "    Recuerda:\n",
    "        Cuida la indentación.\n",
    "    \"\"\"\n",
    "    \n",
    "    # Escribe aquí tu código\n",
    "    \n",
    "    \n",
    "    # Escribe aquí tu código\n",
    "    \n",
    "    return # Escribe aquí tu código"
   ]
  },
  {
   "cell_type": "code",
   "execution_count": null,
   "metadata": {},
   "outputs": [],
   "source": [
    "calificador.califica_multiplos_de_5(multiplos_de_5, CORREO, False)"
   ]
  },
  {
   "cell_type": "code",
   "execution_count": null,
   "metadata": {},
   "outputs": [],
   "source": [
    "def contar_vocales_y_numeros(cadena):\n",
    "    \"\"\"\n",
    "    Instrucciones:\n",
    "        Esta función recibe una cadena de caracteres como parámetro.\n",
    "        Usar ciclos (for o while) para encontrar lo siguiente:\n",
    "            Cantidad de números\n",
    "            Cantidad de letras\n",
    "        Regresar una tupla cuyo primer elemento sea la cantidad de vocales\n",
    "        y su segundo elemento sea la cantidad de números.\n",
    "\n",
    "    Recuerda:\n",
    "        Cuida la indentación.\n",
    "    \"\"\"\n",
    "    \n",
    "    # Escribe aquí tu código\n",
    "    \n",
    "    \n",
    "    # Escribe aquí tu código\n",
    "    \n",
    "    return # Escribe aquí tu código"
   ]
  },
  {
   "cell_type": "code",
   "execution_count": null,
   "metadata": {},
   "outputs": [],
   "source": [
    "calificador.califica_contar_vocales_y_numeros(contar_vocales_y_numeros, CORREO, False)"
   ]
  },
  {
   "cell_type": "code",
   "execution_count": null,
   "metadata": {},
   "outputs": [],
   "source": [
    "def obtener_promedio2(informacion_de_clase):\n",
    "    \"\"\"\n",
    "    Instrucciones:\n",
    "        Esta función recibe un diccionario llamado\n",
    "        informacion_de_clase que tiene una clave\n",
    "        \"alumnos\", dicha clave contiene una lista de números\n",
    "        con punto decimal (float), obtener el promedio de dichos\n",
    "        números.\n",
    "\n",
    "    Recuerda:\n",
    "        Cuida la indentación.\n",
    "    \"\"\"\n",
    "    \n",
    "    # Escribe aquí tu código\n",
    "\n",
    "    \n",
    "    # Escribe aquí tu código\n",
    "    \n",
    "    return # Escribe aquí tu código"
   ]
  },
  {
   "cell_type": "code",
   "execution_count": null,
   "metadata": {},
   "outputs": [],
   "source": [
    "calificador.califica_obtener_promedio2(obtener_promedio2, CORREO, False)"
   ]
  },
  {
   "cell_type": "code",
   "execution_count": null,
   "metadata": {},
   "outputs": [],
   "source": [
    "def encontrar_ocurrencias(lista_numeros, numero_a_buscar):\n",
    "    \"\"\"\n",
    "    Instrucciones:\n",
    "        Esta función recibe por parámetro una lista\n",
    "        de números y un número a buscar.\n",
    "\n",
    "        Devuelve la cantidad de veces que aparece el numero_a_buscar\n",
    "        en la lista de números.\n",
    "\n",
    "    Ejemplo:\n",
    "        Si lista_numeros = [1,2,3,4,3]\n",
    "        y numero_a_buscar = 3\n",
    "        La función devuelve un 2\n",
    "    \"\"\"\n",
    "\n",
    "    # Escribe aquí tu código\n",
    "    \n",
    "    \n",
    "    # Escribe aquí tu código\n",
    "    \n",
    "    return # Escribe aquí tu código"
   ]
  },
  {
   "cell_type": "code",
   "execution_count": null,
   "metadata": {},
   "outputs": [],
   "source": [
    "calificador.califica_encontrar_ocurrencias(encontrar_ocurrencias, CORREO, False)"
   ]
  },
  {
   "cell_type": "code",
   "execution_count": null,
   "metadata": {},
   "outputs": [],
   "source": [
    "def contar_en_lista(lista_palabras):\n",
    "    \"\"\"\n",
    "    Instrucciones:\n",
    "        Esta función recibe por parámetro una lista de palabras.\n",
    "\n",
    "        Devuelve un diccionario que tenga como claves cada una de las\n",
    "        palabras de la lista y como valor la cantidad de veces que aparece\n",
    "        esa palabra en la lista\n",
    "\n",
    "    Ejemplo:\n",
    "        Si lista_numeros = [\"Hola\", \"Hola\", \"Adios\"]\n",
    "        La función devuelve {\"Hola\": 2, \"Adios\": 1}\n",
    "    \"\"\"\n",
    "\n",
    "    # Escribe aquí tu código\n",
    "    \n",
    "    \n",
    "    # Escribe aquí tu código\n",
    "    \n",
    "    return # Escribe aquí tu código"
   ]
  },
  {
   "cell_type": "code",
   "execution_count": null,
   "metadata": {},
   "outputs": [],
   "source": [
    "calificador.califica_contar_en_lista(contar_en_lista, CORREO, False)"
   ]
  },
  {
   "cell_type": "code",
   "execution_count": null,
   "metadata": {},
   "outputs": [],
   "source": [
    "def elementos_comunes(lista_1, lista_2):\n",
    "    \"\"\"\n",
    "    Instrucciones:\n",
    "        Esta función recibe por parámetro dos listas.\n",
    "\n",
    "        Devuelve una lista que contenga los elementos que\n",
    "        se encuentran en ambas listas.\n",
    "\n",
    "    Ejemplo:\n",
    "        Si lista_1 = [1,2,3]\n",
    "        y lista_2 = [2,3,4]\n",
    "        La función devuelve [2,3]\n",
    "\n",
    "    Restricciones:\n",
    "        Agregar solo una vez el elemento en común,\n",
    "        si al revisar vemos que aparece otra vez en \n",
    "        alguna de las listas no agregarlo. Por ejemplo:\n",
    "        Si lista_1 = [2,2,2,2] y lista_2 = [2,2,3]\n",
    "        la función debe devolver [2]\n",
    "\n",
    "    Nota:\n",
    "        Aunque es posible hacer esto usando conjuntos\n",
    "        resuelve el problema usando ciclos.\n",
    "    \"\"\"\n",
    "\n",
    "    # Escribe aquí tu código\n",
    "    \n",
    "    \n",
    "    # Escribe aquí tu código\n",
    "    \n",
    "    return # Escribe aquí tu código"
   ]
  },
  {
   "cell_type": "code",
   "execution_count": null,
   "metadata": {},
   "outputs": [],
   "source": [
    "calificador.califica_elementos_comunes(elementos_comunes, CORREO, False)"
   ]
  },
  {
   "cell_type": "code",
   "execution_count": null,
   "metadata": {},
   "outputs": [],
   "source": [
    "def sumar_claves_de_diccionario(diccionario):\n",
    "    \"\"\"\n",
    "    Instrucciones:\n",
    "        Esta función recibe por parámetro un diccionario en cuyos valores hay números.\n",
    "\n",
    "        Devuelve la suma total de cada uno de los valores del diccionario.\n",
    "\n",
    "    Ejemplo:\n",
    "        Si diccionario = {\"manzanas\": 3, \"platanos\": 2}\n",
    "        La función devuelve 5\n",
    "    \"\"\"\n",
    "\n",
    "    # Escribe aquí tu código\n",
    "    \n",
    "    \n",
    "    # Escribe aquí tu código\n",
    "    \n",
    "    return # Escribe aquí tu código"
   ]
  },
  {
   "cell_type": "code",
   "execution_count": null,
   "metadata": {},
   "outputs": [],
   "source": [
    "calificador.califica_sumar_claves_de_diccionario(sumar_claves_de_diccionario, CORREO, False)"
   ]
  },
  {
   "cell_type": "code",
   "execution_count": null,
   "metadata": {},
   "outputs": [],
   "source": [
    "def separar_numeros(lista):\n",
    "    \"\"\"\n",
    "    Instrucciones:\n",
    "        Esta función recibe por parámetro una lista de cualquier tipo de dato.\n",
    "\n",
    "        Devuelve una tupla que contenga sólo los números enteros que sean mayores a 5\n",
    "        de la lista. La tupla resultante no debe tener elementos repetidos.\n",
    "\n",
    "    Ejemplo:\n",
    "        Si lista = [\"Hola\", [\"Hola\", \"Adios\"], 3, (19,), 5, 8]\n",
    "        La función devuelve (8,)\n",
    "    \"\"\"\n",
    "\n",
    "    # Escribe aquí tu código\n",
    "    \n",
    "    \n",
    "    # Escribe aquí tu código\n",
    "    \n",
    "    return # Escribe aquí tu código"
   ]
  },
  {
   "cell_type": "code",
   "execution_count": null,
   "metadata": {},
   "outputs": [],
   "source": [
    "calificador.califica_separar_numeros(separar_numeros, CORREO, False)"
   ]
  }
 ],
 "metadata": {
  "kernelspec": {
   "display_name": "delfosenv",
   "language": "python",
   "name": "python3"
  },
  "language_info": {
   "name": "python",
   "version": "3.10.6 | packaged by conda-forge | (main, Oct 24 2022, 16:02:16) [MSC v.1916 64 bit (AMD64)]"
  },
  "orig_nbformat": 4,
  "vscode": {
   "interpreter": {
    "hash": "66c9bc616bbdea0db480a7a6aa32456e08a9558e4f5898b1f651409aba2af12d"
   }
  }
 },
 "nbformat": 4,
 "nbformat_minor": 2
}
