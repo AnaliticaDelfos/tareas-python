{
 "cells": [
  {
   "cell_type": "code",
   "execution_count": 1,
   "metadata": {},
   "outputs": [],
   "source": [
    "#\n",
    "#\n",
    "# EJECUTAR ESTA CELDA CADA VEZ QUE ENTRES A HACER LA TAREA\n",
    "#\n",
    "#\n",
    "\n",
    "#####################################\n",
    "# Operaciones aritméticas parte 2\n",
    "#####################################\n",
    "\n",
    "\n",
    "import calificador\n",
    "from controlador import Controlador"
   ]
  },
  {
   "cell_type": "markdown",
   "metadata": {},
   "source": [
    "Fórmula del ejercicio 11:\n",
    "$$\\frac{10+y}{x^2}$$"
   ]
  },
  {
   "cell_type": "code",
   "execution_count": 2,
   "metadata": {},
   "outputs": [],
   "source": [
    "@Controlador(\"2\", \"ejercicio_11\")\n",
    "def ejercicio_11(x, y):\n",
    "    \"\"\"\n",
    "    Instrucciones:\n",
    "        Esta función toma los parámetros \"x\", \"y\", y debe\n",
    "        regresar el resultado de aplicar dichos parámetros a \n",
    "        la fórmula del ejercicio 11.\n",
    "\n",
    "    Ejemplo:\n",
    "        Si x=3, y=2 la función regresa 1.333:\n",
    "        10+2 / 3**2\n",
    "        12 / 9 = 1.333\n",
    "\n",
    "    Recuerda:\n",
    "        Lo que la función \"regresa\" es justo lo que va después\n",
    "        de la palabra reservada return.\n",
    "\n",
    "        Cuida la indentación.\n",
    "\n",
    "    Consejo:\n",
    "        Para obetener la potencia de un número se puede usar la \n",
    "        función incorporada pow(), el operador ** o multiplicar \n",
    "        las números/variables por sí mismas el número de veces \n",
    "        que sea necesario (definición de potencia.\n",
    "    \"\"\"\n",
    "\n",
    "    # Escribe aquí tu código ↓\n",
    "    \n",
    "\n",
    "    # Escribe aquí tu código ↑\n",
    "\n",
    "    return # ← Escribe aquí tu código"
   ]
  },
  {
   "cell_type": "code",
   "execution_count": null,
   "metadata": {},
   "outputs": [],
   "source": [
    "ejercicio_11(2, 2)"
   ]
  },
  {
   "cell_type": "code",
   "execution_count": null,
   "metadata": {},
   "outputs": [],
   "source": [
    "calificador.califica_ejercicio_11(ejercicio_11)"
   ]
  },
  {
   "cell_type": "markdown",
   "metadata": {},
   "source": [
    "Fórmula del ejercicio 12:\n",
    "\n",
    "$$a = \\sqrt{\\frac{y*2}{x}}$$"
   ]
  },
  {
   "cell_type": "code",
   "execution_count": 9,
   "metadata": {},
   "outputs": [],
   "source": [
    "@Controlador(\"2\", \"ejercicio_12\")\n",
    "def ejercicio_12(x, y):\n",
    "    \"\"\"\n",
    "     Instrucciones:\n",
    "        Esta función toma los parámetros \"x\", \"y\", y debe\n",
    "        regresar el resultado de aplicar dichos parámetros a \n",
    "        la fórmula del ejercicio 12 para calcular \"a\".\n",
    "\n",
    "    Ejemplo:\n",
    "        Si x=1, y=15 la función regresa 5.4772:\n",
    "        a = (15*2 / 1)**(1/2)\n",
    "        a = 30**(1/2) = 5.4772\n",
    "\n",
    "    Recuerda:\n",
    "        Cuida la indentación.\n",
    "    \"\"\"\n",
    "\n",
    "    # Escribe aquí tu código ↓\n",
    "    \n",
    "\n",
    "    # Escribe aquí tu código ↑\n",
    "\n",
    "    return # ← Escribe aquí tu código"
   ]
  },
  {
   "cell_type": "code",
   "execution_count": null,
   "metadata": {},
   "outputs": [],
   "source": [
    "ejercicio_12(1, 18)"
   ]
  },
  {
   "cell_type": "code",
   "execution_count": null,
   "metadata": {},
   "outputs": [],
   "source": [
    "calificador.califica_ejercicio_12(ejercicio_12)"
   ]
  },
  {
   "cell_type": "markdown",
   "metadata": {},
   "source": [
    "Fórmula del ejercicio 13:\n",
    "\n",
    "$$a = x^4 + y * 3$$"
   ]
  },
  {
   "cell_type": "code",
   "execution_count": 11,
   "metadata": {},
   "outputs": [],
   "source": [
    "@Controlador(\"2\", \"ejercicio_13\")\n",
    "def ejercicio_13(x, y):\n",
    "    \"\"\"\n",
    "     Instrucciones:\n",
    "        Esta función toma los parámetros \"x\", \"y\", y debe\n",
    "        regresar el resultado de aplicar dichos parámetros a \n",
    "        la fórmula del ejercicio 13 para calcular \"a\".\n",
    "\n",
    "    Ejemplo:\n",
    "        Si x=1, y=5 la función regresa 16:\n",
    "        a = 1**4 + 5*3\n",
    "        a = 1 + 15 = 16\n",
    "\n",
    "    Recuerda:\n",
    "        Cuida la indentación.\n",
    "    \"\"\"\n",
    "\n",
    "    # Escribe aquí tu código ↓\n",
    "    \n",
    "\n",
    "    # Escribe aquí tu código ↑\n",
    "\n",
    "    return # ← Escribe aquí tu código"
   ]
  },
  {
   "cell_type": "code",
   "execution_count": null,
   "metadata": {},
   "outputs": [],
   "source": [
    "ejercicio_13(2, 6)"
   ]
  },
  {
   "cell_type": "code",
   "execution_count": null,
   "metadata": {},
   "outputs": [],
   "source": [
    "calificador.califica_ejercicio_13(ejercicio_13)"
   ]
  },
  {
   "cell_type": "markdown",
   "metadata": {},
   "source": [
    "Fórmula del ejercicio 14:\n",
    "\n",
    "$$\\frac{(x-z)^2}{y}$$"
   ]
  },
  {
   "cell_type": "code",
   "execution_count": 13,
   "metadata": {},
   "outputs": [],
   "source": [
    "@Controlador(\"2\", \"ejercicio_14\")\n",
    "def ejercicio_14(x, y, z):\n",
    "    \"\"\"\n",
    "    Instrucciones:\n",
    "        Esta función toma los parámetros \"x\", \"y\", \"z\" y debe\n",
    "        regresar el resultado de aplicar dichos parámetros a \n",
    "        la fórmula del ejercicio 14.\n",
    "\n",
    "    Ejemplo:\n",
    "        Si x=30, y=2 y z= 15 la función regresa 112.5:\n",
    "        (30 - 15)**2 / 2\n",
    "        225 /  2 = 112.5\n",
    "\n",
    "    Recuerda:\n",
    "        Cuida la indentación.\n",
    "    \"\"\"\n",
    "\n",
    "    # Escribe aquí tu código ↓\n",
    "    \n",
    "\n",
    "    # Escribe aquí tu código ↑\n",
    "\n",
    "    return # ← Escribe aquí tu código"
   ]
  },
  {
   "cell_type": "code",
   "execution_count": null,
   "metadata": {},
   "outputs": [],
   "source": [
    "ejercicio_14(40, 10, 30)"
   ]
  },
  {
   "cell_type": "code",
   "execution_count": null,
   "metadata": {},
   "outputs": [],
   "source": [
    "calificador.califica_ejercicio_14(ejercicio_14)"
   ]
  },
  {
   "cell_type": "markdown",
   "metadata": {},
   "source": [
    "Fórmula del ejercicio 15:\n",
    "$$\\frac{x^3}{\\frac{y}{2}}$$"
   ]
  },
  {
   "cell_type": "code",
   "execution_count": 15,
   "metadata": {},
   "outputs": [],
   "source": [
    "@Controlador(\"2\", \"ejercicio_15\")\n",
    "def ejercicio_15(x, y):\n",
    "    \"\"\"\n",
    "    Instrucciones:\n",
    "        Esta función toma los parámetros \"x\", \"y\", y debe\n",
    "        regresar el resultado de aplicar dichos parámetros a \n",
    "        la fórmula del ejercicio 15.\n",
    "\n",
    "    Ejemplo:\n",
    "        Si x=3, y=6 la función regresa :\n",
    "        3**3 / (6/2)\n",
    "        27 / 3 = 9\n",
    "\n",
    "    Recuerda:\n",
    "        Cuida la indentación.\n",
    "    \"\"\"\n",
    "\n",
    "    # Escribe aquí tu código ↓\n",
    "    \n",
    "\n",
    "    # Escribe aquí tu código ↑\n",
    "\n",
    "    return # ← Escribe aquí tu código"
   ]
  },
  {
   "cell_type": "code",
   "execution_count": null,
   "metadata": {},
   "outputs": [],
   "source": [
    "ejercicio_15(4, 8)"
   ]
  },
  {
   "cell_type": "code",
   "execution_count": null,
   "metadata": {},
   "outputs": [],
   "source": [
    "calificador.califica_ejercicio_15(ejercicio_15)"
   ]
  },
  {
   "cell_type": "markdown",
   "metadata": {},
   "source": [
    "Fórmula del ejercicio 16:\n",
    "\n",
    "$$\\sqrt{x^2+y}$$"
   ]
  },
  {
   "cell_type": "code",
   "execution_count": 17,
   "metadata": {},
   "outputs": [],
   "source": [
    "@Controlador(\"2\", \"ejercicio_16\")\n",
    "def ejercicio_16(x, y):\n",
    "    \"\"\"\n",
    "    Instrucciones:\n",
    "        La función \"ejericio_11\" toma los parámetros \"x\", \n",
    "        \"y\", y debe regresar el resultado de utilizar dichos\n",
    "        parámetros en la fórmula del ejercicio 16.\n",
    "\n",
    "    Condiciones:\n",
    "        Redondear a dos decimales el resultado obtenido con\n",
    "        ayuda de la función round()\n",
    "    \n",
    "    Ejemplo:\n",
    "        Si x=8 y y=17 la función regresa 9:\n",
    "        (8**2 + 17)**(1/2)\n",
    "        (64 + 17)**(1/2)\n",
    "        81**2 = 9\n",
    "\n",
    "    Recuerda:\n",
    "        Cuida la indentación.\n",
    "    \"\"\"\n",
    "\n",
    "    # Escribe aquí tu código ↓\n",
    "    \n",
    "\n",
    "    # Escribe aquí tu código ↑\n",
    "\n",
    "    return # ← Escribe aquí tu código"
   ]
  },
  {
   "cell_type": "code",
   "execution_count": null,
   "metadata": {},
   "outputs": [],
   "source": [
    "ejercicio_16(10, 21)"
   ]
  },
  {
   "cell_type": "code",
   "execution_count": null,
   "metadata": {},
   "outputs": [],
   "source": [
    "calificador.califica_ejercicio_16(ejercicio_16)"
   ]
  },
  {
   "cell_type": "markdown",
   "metadata": {},
   "source": [
    "Formula del ejercicio 17:\n",
    "\n",
    "$$\\frac{y^2}{x*z}$$"
   ]
  },
  {
   "cell_type": "code",
   "execution_count": 19,
   "metadata": {},
   "outputs": [],
   "source": [
    "@Controlador(\"2\", \"ejercicio_17\")\n",
    "def ejercicio_17(x, y, z):\n",
    "    \"\"\"\n",
    "    Instrucciones:\n",
    "        Esta función toma los parámetros \"x\", \"y\", \"z\", y debe\n",
    "        regresar el resultado de aplicar dichos parámetros a \n",
    "        la fórmula del ejercicio 17.\n",
    "    \n",
    "    Ejemplo:\n",
    "        Si x=2, y=6 y z=1 la función regresa 18:\n",
    "        6**2 / 2*1\n",
    "        36 / 2 = 18\n",
    "\n",
    "    Recuerda:\n",
    "        Cuida la indentación.\n",
    "    \"\"\"\n",
    "\n",
    "    # Escribe aquí tu código ↓\n",
    "    \n",
    "\n",
    "    # Escribe aquí tu código ↑\n",
    "\n",
    "    return # ← Escribe aquí tu código"
   ]
  },
  {
   "cell_type": "code",
   "execution_count": null,
   "metadata": {},
   "outputs": [],
   "source": [
    "ejercicio_17(2, 8, 4)"
   ]
  },
  {
   "cell_type": "code",
   "execution_count": null,
   "metadata": {},
   "outputs": [],
   "source": [
    "calificador.califica_ejercicio_17(ejercicio_17)"
   ]
  },
  {
   "cell_type": "markdown",
   "metadata": {},
   "source": [
    "Fórmula del ejercicio 18:\n",
    "$$\\frac{z^3}{z*x*y^2}$$"
   ]
  },
  {
   "cell_type": "code",
   "execution_count": 21,
   "metadata": {},
   "outputs": [],
   "source": [
    "@Controlador(\"2\", \"ejercicio_18\")\n",
    "def ejercicio_18(x, y, z):\n",
    "    \"\"\"\n",
    "    Instrucciones:\n",
    "        Esta función toma los parámetros \"x\", \"y\", \"z\", y debe\n",
    "        regresar el resultado de aplicar dichos parámetros a \n",
    "        la fórmula del ejercicio 18.\n",
    "\n",
    "    Ejemplo:\n",
    "        Si x=1, y=2 y z=3 la función regresa 2.25:\n",
    "        3**3 = 27\n",
    "        27 / (3*1*(2**2)) \n",
    "        27 / 12 = 2.25\n",
    "\n",
    "    Recuerda:\n",
    "        Cuida la indentación.\n",
    "    \"\"\"\n",
    "\n",
    "    # Escribe aquí tu código ↓\n",
    "\n",
    "\n",
    "    # Escribe aquí tu código ↑\n",
    "\n",
    "    return # ← Escribe aquí tu código"
   ]
  },
  {
   "cell_type": "code",
   "execution_count": null,
   "metadata": {},
   "outputs": [],
   "source": [
    "ejercicio_18(1,1,2)"
   ]
  },
  {
   "cell_type": "code",
   "execution_count": null,
   "metadata": {},
   "outputs": [],
   "source": [
    "calificador.califica_ejercicio_18(ejercicio_18)"
   ]
  },
  {
   "cell_type": "markdown",
   "metadata": {},
   "source": [
    "Fórmula del ejercicio 19:\n",
    "\n",
    "$$(x-y)^3$$"
   ]
  },
  {
   "cell_type": "code",
   "execution_count": 23,
   "metadata": {},
   "outputs": [],
   "source": [
    "@Controlador(\"2\", \"ejercicio_19\")\n",
    "def ejercicio_19(x, y):\n",
    "    \"\"\"\n",
    "    Instrucciones:\n",
    "        La función \"ejericio_11\" toma los parámetros \"x\", \n",
    "        \"y\", y debe regresar el resultado de utilizar dichos\n",
    "        parámetros en la fórmula del ejercicio 19.\n",
    "    \n",
    "    Ejemplo:\n",
    "        Si x=20 y y=12 la función regresa 512:\n",
    "        20 - 12 = 8\n",
    "        8 ** 3 = 512\n",
    "\n",
    "    Recuerda:\n",
    "        Cuida la indentación.\n",
    "    \"\"\"\n",
    "\n",
    "    # Escribe aquí tu código ↓\n",
    "\n",
    "\n",
    "    # Escribe aquí tu código ↑\n",
    "\n",
    "    return # ← Escribe aquí tu código"
   ]
  },
  {
   "cell_type": "code",
   "execution_count": null,
   "metadata": {},
   "outputs": [],
   "source": [
    "ejercicio_19(12, 10)"
   ]
  },
  {
   "cell_type": "code",
   "execution_count": null,
   "metadata": {},
   "outputs": [],
   "source": [
    "calificador.califica_ejercicio_19(ejercicio_19)"
   ]
  },
  {
   "cell_type": "markdown",
   "metadata": {},
   "source": [
    "Fórmula del ejercicio 20:\n",
    "$$\\sqrt{x+y^3}$$"
   ]
  },
  {
   "cell_type": "code",
   "execution_count": 25,
   "metadata": {},
   "outputs": [],
   "source": [
    "@Controlador(\"2\", \"ejercicio_20\")\n",
    "def ejercicio_20(x, y):\n",
    "    \"\"\"\n",
    "    Instrucciones:\n",
    "        La función \"ejericio_20\" toma los parámetros \"x\", \n",
    "        \"y\", y debe regresar el resultado de utilizar dichos\n",
    "        parámetros en la fórmula del ejercicio 20.\n",
    "\n",
    "    Condiciones:\n",
    "        Redondear a dos decimales el resultado obtenido con\n",
    "        ayuda de la función round()\n",
    "    \n",
    "    Ejemplo:\n",
    "        Si x=5 y y=3 la función regresa 5.656:\n",
    "        (5 + 3**3)**1(/2) \n",
    "        (32)**(1/2) = 5.656\n",
    "\n",
    "    Recuerda:\n",
    "        Cuida la indentación.\n",
    "    \"\"\"\n",
    "\n",
    "    # Escribe aquí tu código ↓\n",
    "\n",
    "\n",
    "    # Escribe aquí tu código ↑\n",
    "\n",
    "    return # ← Escribe aquí tu código"
   ]
  },
  {
   "cell_type": "code",
   "execution_count": null,
   "metadata": {},
   "outputs": [],
   "source": [
    "ejercicio_20(1, 2)"
   ]
  },
  {
   "cell_type": "code",
   "execution_count": null,
   "metadata": {},
   "outputs": [],
   "source": [
    "calificador.califica_ejercicio_20(ejercicio_20)"
   ]
  }
 ],
 "metadata": {
  "kernelspec": {
   "display_name": "infotec",
   "language": "python",
   "name": "python3"
  },
  "language_info": {
   "codemirror_mode": {
    "name": "ipython",
    "version": 3
   },
   "file_extension": ".py",
   "mimetype": "text/x-python",
   "name": "python",
   "nbconvert_exporter": "python",
   "pygments_lexer": "ipython3",
   "version": "3.10.10"
  }
 },
 "nbformat": 4,
 "nbformat_minor": 2
}
