{
 "cells": [
  {
   "cell_type": "code",
   "execution_count": null,
   "metadata": {},
   "outputs": [],
   "source": [
    "#\n",
    "#\n",
    "# EJECUTAR ESTA CELDA\n",
    "#\n",
    "#\n",
    "\n",
    "#####################################\n",
    "#       Numpy\n",
    "#####################################\n",
    "\n",
    "\n",
    "import calificador\n",
    "from controlador import Controlador\n",
    "import numpy as np"
   ]
  },
  {
   "cell_type": "code",
   "execution_count": null,
   "metadata": {},
   "outputs": [],
   "source": [
    "@Controlador(\"11\", \"ejercicio_100\")\n",
    "def ejercicio_100():\n",
    "    \"\"\"\n",
    "    Instrucciones:\n",
    "        Esta función no recibe ningún argumento \n",
    "        y devuelve un arreglo de numpy\n",
    "        lleno de nueves con forma (2, 2)\n",
    "\n",
    "    Recuerda:\n",
    "        Lo que la función \"regresa\" va justo después\n",
    "        de la palabra return\n",
    "\n",
    "    Recuerda:\n",
    "        Cuida la indentación.\n",
    "    \"\"\"\n",
    "\n",
    "    # Escribe aquí tu código\n",
    "    \n",
    "\n",
    "    # Escribe aquí tu código\n",
    "    \n",
    "    return np.ones((2,2)) *5 # Escribe aquí tu código"
   ]
  },
  {
   "cell_type": "code",
   "execution_count": null,
   "metadata": {},
   "outputs": [],
   "source": [
    "calificador.califica_ejercicio_100m(ejercicio_100)"
   ]
  },
  {
   "cell_type": "code",
   "execution_count": null,
   "metadata": {},
   "outputs": [],
   "source": [
    "@Controlador(\"11\", \"ejercicio_101\")\n",
    "def ejercicio_101():\n",
    "    \"\"\"\n",
    "    Instrucciones:\n",
    "        Esta función no recibe ningún argumento \n",
    "        y devuelve un arreglo de numpy\n",
    "        con los números pares del 20 al 40, sin tomar el 40\n",
    "        y tomando el 20\n",
    "\n",
    "    Recuerda:\n",
    "        Lo que la función \"regresa\" va justo después\n",
    "        de la palabra return\n",
    "\n",
    "    Recuerda:\n",
    "        Cuida la indentación.\n",
    "    \"\"\"\n",
    "\n",
    "    # Escribe aquí tu código\n",
    "    \n",
    "\n",
    "    # Escribe aquí tu código\n",
    "    \n",
    "    return np.arange(20, 40, 2) # Escribe aquí tu código"
   ]
  },
  {
   "cell_type": "code",
   "execution_count": null,
   "metadata": {},
   "outputs": [],
   "source": [
    "calificador.califica_ejercicio_101m(ejercicio_101)"
   ]
  },
  {
   "cell_type": "code",
   "execution_count": null,
   "metadata": {},
   "outputs": [],
   "source": [
    "@Controlador(\"11\", \"ejercicio_102\")\n",
    "def ejercicio_102(lista):\n",
    "    \"\"\"\n",
    "    Instrucciones:\n",
    "        Esta función recibe una lista de python, crea un arreglo\n",
    "        de numpy y devuelve el mismo arreglo pero con los números\n",
    "        divididos entre 10\n",
    "\n",
    "    Recuerda:\n",
    "        Lo que la función \"regresa\" va justo después\n",
    "        de la palabra return\n",
    "\n",
    "    Recuerda:\n",
    "        Cuida la indentación.\n",
    "    \"\"\"\n",
    "\n",
    "    # Escribe aquí tu código\n",
    "    \n",
    "\n",
    "    # Escribe aquí tu código\n",
    "    \n",
    "    return np.array(lista) / 10 # Escribe aquí tu código"
   ]
  },
  {
   "cell_type": "code",
   "execution_count": null,
   "metadata": {},
   "outputs": [],
   "source": [
    "calificador.califica_ejercicio_102m(ejercicio_102)"
   ]
  },
  {
   "cell_type": "code",
   "execution_count": null,
   "metadata": {},
   "outputs": [],
   "source": [
    "@Controlador(\"11\", \"ejercicio_103\")\n",
    "def ejercicio_103(lista):\n",
    "    \"\"\"\n",
    "    Instrucciones:\n",
    "        Esta función recibe una lista de python con 3 elementos, que podemos pensar como un vector\n",
    "        fila, devolver un arreglo de numpy a partir de esa lista, pero que sea\n",
    "        un vector columna\n",
    "\n",
    "    Recuerda:\n",
    "        Lo que la función \"regresa\" va justo después\n",
    "        de la palabra return\n",
    "\n",
    "    Recuerda:\n",
    "        Cuida la indentación.\n",
    "    \"\"\"\n",
    "\n",
    "    # Escribe aquí tu código\n",
    "    \n",
    "\n",
    "    # Escribe aquí tu código\n",
    "    \n",
    "    return np.array(lista).reshape((3, 1)) # Escribe aquí tu código"
   ]
  },
  {
   "cell_type": "code",
   "execution_count": null,
   "metadata": {},
   "outputs": [],
   "source": [
    "calificador.califica_ejercicio_103m(ejercicio_103)"
   ]
  },
  {
   "cell_type": "code",
   "execution_count": null,
   "metadata": {},
   "outputs": [],
   "source": [
    "@Controlador(\"11\", \"ejercicio_104\")\n",
    "def ejercicio_104(lista):\n",
    "    \"\"\"\n",
    "    Instrucciones:\n",
    "        Esta función recibe una lista de python con 3 elementos, que podemos pensar como un vector\n",
    "        fila, devolver un arreglo de numpy a partir de esa lista, pero sumando\n",
    "        1 al primer elemento, sumando 2 al segundo elemento y sumando 3 al tercer elemento\n",
    "\n",
    "    Recuerda:\n",
    "        Lo que la función \"regresa\" va justo después\n",
    "        de la palabra return\n",
    "\n",
    "    Recuerda:\n",
    "        Cuida la indentación.\n",
    "    \"\"\"\n",
    "\n",
    "    # Escribe aquí tu código\n",
    "    \n",
    "    arr = np.array(lista)\n",
    "    arr[0] = arr[0] + 1\n",
    "    arr[1] = arr[1] + 2\n",
    "    arr[2] = arr[2] + 3\n",
    "    # Escribe aquí tu código\n",
    "    \n",
    "    return arr # Escribe aquí tu código"
   ]
  },
  {
   "cell_type": "code",
   "execution_count": null,
   "metadata": {},
   "outputs": [],
   "source": [
    "calificador.califica_ejercicio_104m(ejercicio_104)"
   ]
  },
  {
   "cell_type": "code",
   "execution_count": null,
   "metadata": {},
   "outputs": [],
   "source": [
    "@Controlador(\"11\", \"ejercicio_105\")\n",
    "def ejercicio_105(lista):\n",
    "    \"\"\"\n",
    "    Instrucciones:\n",
    "        Esta función recibe una lista de python con 9 elementos, aplicar\n",
    "        la función reshape para convertirlo a una matriz de 3x3,\n",
    "        luego, sumar a todos los elementos de la primer columna\n",
    "        un 1, sumar a todos los elementos de la segunda columna \n",
    "        un 2 y sumar a todos los elementos de la tercer columna\n",
    "        un 3\n",
    "\n",
    "    Recuerda:\n",
    "        Lo que la función \"regresa\" va justo después\n",
    "        de la palabra return\n",
    "\n",
    "    Recuerda:\n",
    "        Cuida la indentación.\n",
    "    \"\"\"\n",
    "\n",
    "    # Escribe aquí tu código\n",
    "    \n",
    "    arr = np.array(lista).reshape((3,3))\n",
    "    arr[:, 0] = arr[:, 0] + 1\n",
    "    arr[:, 1] = arr[:, 1] + 2\n",
    "    arr[:, 2] = arr[:, 2] + 3\n",
    "    # Escribe aquí tu código\n",
    "    \n",
    "    return arr # Escribe aquí tu código"
   ]
  },
  {
   "cell_type": "code",
   "execution_count": null,
   "metadata": {},
   "outputs": [],
   "source": [
    "calificador.califica_ejercicio_105m(ejercicio_105)"
   ]
  },
  {
   "cell_type": "code",
   "execution_count": null,
   "metadata": {},
   "outputs": [],
   "source": [
    "@Controlador(\"11\", \"ejercicio_106\")\n",
    "def ejercicio_106():\n",
    "    \"\"\"\n",
    "    Instrucciones:\n",
    "        Esta función no recibe ningún argumento,\n",
    "        crea un arreglo con los números del 1 al 8, inclusive\n",
    "        y devuelve el promedio de ese arreglo\n",
    "\n",
    "    Recuerda:\n",
    "        Lo que la función \"regresa\" va justo después\n",
    "        de la palabra return\n",
    "\n",
    "    Recuerda:\n",
    "        Cuida la indentación.\n",
    "    \"\"\"\n",
    "\n",
    "    # Escribe aquí tu código\n",
    "    \n",
    "    arr = np.arange(1, 9)\n",
    "    mean = arr.mean()\n",
    "    # Escribe aquí tu código\n",
    "    \n",
    "    return mean # Escribe aquí tu código"
   ]
  },
  {
   "cell_type": "code",
   "execution_count": null,
   "metadata": {},
   "outputs": [],
   "source": [
    "calificador.califica_ejercicio_106m(ejercicio_106)"
   ]
  },
  {
   "cell_type": "code",
   "execution_count": null,
   "metadata": {},
   "outputs": [],
   "source": [
    "@Controlador(\"11\", \"ejercicio_107\")\n",
    "def ejercicio_107(lista):\n",
    "    \"\"\"\n",
    "    Instrucciones:\n",
    "        Esta función recibe una lista que podemos pensar\n",
    "        como una matriz de 3x3 y devuelve un arreglo de numpy\n",
    "        donde en la primer fila represente los valores mínimos\n",
    "        por columna y la segunda fila presente los valores\n",
    "        máximos por columna\n",
    "\n",
    "    Recuerda:\n",
    "        Lo que la función \"regresa\" va justo después\n",
    "        de la palabra return\n",
    "\n",
    "    Recuerda:\n",
    "        Cuida la indentación.\n",
    "    \"\"\"\n",
    "\n",
    "    # Escribe aquí tu código\n",
    "    \n",
    "    arr = np.array(lista)\n",
    "    minimos = arr.min(axis=0)\n",
    "    maximos = arr.max(axis=0)\n",
    "    # Escribe aquí tu código\n",
    "    \n",
    "    return np.array([minimos, maximos]) # Escribe aquí tu código"
   ]
  },
  {
   "cell_type": "code",
   "execution_count": null,
   "metadata": {},
   "outputs": [],
   "source": [
    "calificador.califica_ejercicio_107m(ejercicio_107)"
   ]
  },
  {
   "cell_type": "code",
   "execution_count": null,
   "metadata": {},
   "outputs": [],
   "source": [
    "@Controlador(\"11\", \"ejercicio_108\")\n",
    "def ejercicio_108(lista):\n",
    "    \"\"\"\n",
    "    Instrucciones:\n",
    "        Esta función recibe una lista, no es necesario saber\n",
    "        las dimensiones de esta lista, basta con saber que genera\n",
    "        una matriz cuadrada y que tiene un número par de columnas.\n",
    "        Crea un arreglo de numpy con dicha lista y aplica, en orden,\n",
    "        las siguientes operaciones:\n",
    "        Multiplica los elementos por 1.153.\n",
    "        Les suma a los elementos 100.\n",
    "        A los elementos de la mitad izquierda (pensando en columnas)\n",
    "        se les multiplica por -2.\n",
    "        A los elementos de la mitad derecha (pensando en columnas)\n",
    "        se les redondea de tal forma que quede sin decimales.\n",
    "\n",
    "    Recuerda:\n",
    "        Tú no sabes cuánto mide el arreglo, por lo tanto,\n",
    "        debes de encontrar el número de columnas.\n",
    "\n",
    "        Es probable que al momento de intentar hacer slicing\n",
    "        te mande un error de tipos, esto puede deberse a que\n",
    "        el slicing únicamente se puede hacer con números enteros, entonces,\n",
    "        el número que uses hay que asegurarse que sea número entero.\n",
    "\n",
    "    Recuerda:\n",
    "        Cuida la indentación.\n",
    "    \"\"\"\n",
    "\n",
    "    # Escribe aquí tu código\n",
    "    \n",
    "    arr = np.array(lista)\n",
    "    mitad = arr.shape[1] // 2\n",
    "    arr = arr * 1.153\n",
    "    arr = arr + 100\n",
    "    arr[:, :mitad] = arr[:, :mitad] * (-2)\n",
    "    arr[:, mitad:] = np.round(arr[:, mitad:], 0)\n",
    "    # Escribe aquí tu código\n",
    "    \n",
    "    return arr# Escribe aquí tu código"
   ]
  },
  {
   "cell_type": "code",
   "execution_count": null,
   "metadata": {},
   "outputs": [],
   "source": [
    "calificador.califica_ejercicio_108m(ejercicio_108)"
   ]
  },
  {
   "cell_type": "code",
   "execution_count": null,
   "metadata": {},
   "outputs": [],
   "source": [
    "@Controlador(\"11\", \"ejercicio_109\")\n",
    "def ejercicio_109(lista):\n",
    "    \"\"\"\n",
    "    Instrucciones:\n",
    "        Esta función recibe una lista, no es necesario saber\n",
    "        las dimensiones de esta lista, basta con saber que\n",
    "        podemos interpretarlo como un vector fila.\n",
    "\n",
    "        Esta función debe devolver un arreglo de\n",
    "        4xn donde n es el número de elementos que tiene la lista\n",
    "        y cada renglón se rellena de la siguiente forma:\n",
    "        Primer fila: los elementos de la lista original.\n",
    "        Segunda fila: los elementos de la lista original multiplicados\n",
    "            por 3.1416\n",
    "        Tercera fila: los elementos de la lista original elevados\n",
    "            al cuadrado\n",
    "        Cuarta fila: Raíz cuadrada de la lista original y redondeado\n",
    "            el resultado a dos cifras.\n",
    "\n",
    "    Recuerda:\n",
    "        Cuida la indentación.\n",
    "    \"\"\"\n",
    "\n",
    "    # Escribe aquí tu código\n",
    "    \n",
    "    arr = np.array(lista)\n",
    "    placeholder = np.empty((4, arr.shape[0]))\n",
    "    placeholder[0, :] = arr\n",
    "    placeholder[1, :] = arr * 3.1416\n",
    "    placeholder[2, :] = arr ** 2\n",
    "    placeholder[3, :] = np.round(np.sqrt(arr), 2)\n",
    "\n",
    "    # Escribe aquí tu código\n",
    "    \n",
    "    return placeholder# Escribe aquí tu código"
   ]
  },
  {
   "cell_type": "code",
   "execution_count": null,
   "metadata": {},
   "outputs": [],
   "source": [
    "calificador.califica_ejercicio_109m(ejercicio_109)"
   ]
  }
 ],
 "metadata": {
  "kernelspec": {
   "display_name": "delfos",
   "language": "python",
   "name": "python3"
  },
  "language_info": {
   "codemirror_mode": {
    "name": "ipython",
    "version": 3
   },
   "file_extension": ".py",
   "mimetype": "text/x-python",
   "name": "python",
   "nbconvert_exporter": "python",
   "pygments_lexer": "ipython3",
   "version": "3.12.7"
  }
 },
 "nbformat": 4,
 "nbformat_minor": 2
}
