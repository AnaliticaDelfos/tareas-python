{
 "cells": [
  {
   "cell_type": "code",
   "execution_count": null,
   "metadata": {},
   "outputs": [],
   "source": [
    "#\n",
    "#\n",
    "# EJECUTAR ESTA CELDA CADA VEZ QUE ENTRES A HACER LA TAREA\n",
    "#\n",
    "#\n",
    "\n",
    "#####################################\n",
    "#       Iterables y ciclos\n",
    "#####################################\n",
    "\n",
    "\n",
    "import calificador\n",
    "from controlador import Controlador"
   ]
  },
  {
   "cell_type": "code",
   "execution_count": null,
   "metadata": {},
   "outputs": [],
   "source": [
    "@Controlador(\"9\", \"ejercicio_81\")\n",
    "def ejercicio_81(lista):\n",
    "    \"\"\"\n",
    "    Título: Obtener suma sencilla\n",
    "    \n",
    "    Instrucciones:\n",
    "        Esta función recibe como parámetro\n",
    "        una lista de números y devuelve la suma total\n",
    "        de ellos.\n",
    "        \n",
    "    Nota:\n",
    "        En python existe una función llamada sum\n",
    "        que toma un iterable y devuelve la suma\n",
    "        de los elementos de ese iterable, aunque\n",
    "        esa función resuelve el problema, resuelve\n",
    "        este problema usando ciclos.\n",
    "    \"\"\"\n",
    "    \n",
    "    # Escribe aquí tu código\n",
    "    \n",
    "    \n",
    "    # Escribe aquí tu código\n",
    "    \n",
    "    return # Escribe aquí tu código"
   ]
  },
  {
   "cell_type": "code",
   "execution_count": null,
   "metadata": {},
   "outputs": [],
   "source": [
    "ejercicio_81([1,2,3])"
   ]
  },
  {
   "cell_type": "code",
   "execution_count": null,
   "metadata": {},
   "outputs": [],
   "source": [
    "calificador.califica_ejercicio_81(ejercicio_81)"
   ]
  },
  {
   "cell_type": "code",
   "execution_count": null,
   "metadata": {},
   "outputs": [],
   "source": [
    "@Controlador(\"9\", \"ejercicio_82\")\n",
    "def ejercicio_82(lista):\n",
    "    \"\"\"\n",
    "    Instrucciones:\n",
    "        Esta función recibe como parámetro\n",
    "        una lista de números y devuelve el producto de todos ellos.\n",
    "    \"\"\"\n",
    "    \n",
    "    # Escribe aquí tu código\n",
    "    \n",
    "    \n",
    "    # Escribe aquí tu código\n",
    "    \n",
    "    return # Escribe aquí tu código"
   ]
  },
  {
   "cell_type": "code",
   "execution_count": null,
   "metadata": {},
   "outputs": [],
   "source": [
    "ejercicio_82([2,3,4])"
   ]
  },
  {
   "cell_type": "code",
   "execution_count": null,
   "metadata": {},
   "outputs": [],
   "source": [
    "calificador.califica_ejercicio_82(ejercicio_82)"
   ]
  },
  {
   "cell_type": "code",
   "execution_count": null,
   "metadata": {},
   "outputs": [],
   "source": [
    "@Controlador(\"9\", \"ejercicio_83\")\n",
    "def ejercicio_83(lista):\n",
    "    \"\"\"\n",
    "    Título: Obtener palabras mayores a 3\n",
    "    \n",
    "    Instrucciones:\n",
    "        Esta función recibe como parámetro\n",
    "        una lista de palabras y devuelve una tupla\n",
    "        con aquellas palabras que tienen más de 3 \n",
    "        letras\n",
    "    \"\"\"\n",
    "    \n",
    "    # Escribe aquí tu código\n",
    "    \n",
    "    \n",
    "    # Escribe aquí tu código\n",
    "    \n",
    "    return # Escribe aquí tu código"
   ]
  },
  {
   "cell_type": "code",
   "execution_count": null,
   "metadata": {},
   "outputs": [],
   "source": [
    "ejercicio_83([\"ola\", \"hola\", \"mundo\"])"
   ]
  },
  {
   "cell_type": "code",
   "execution_count": null,
   "metadata": {},
   "outputs": [],
   "source": [
    "calificador.califica_ejercicio_83(ejercicio_83)"
   ]
  },
  {
   "cell_type": "code",
   "execution_count": null,
   "metadata": {},
   "outputs": [],
   "source": [
    "@Controlador(\"9\", \"ejercicio_84\")\n",
    "def ejercicio_84(tope):\n",
    "    \"\"\"\n",
    "    Título: Factorial iterativo.\n",
    "\n",
    "    Instrucciones:\n",
    "        Esta función recibe como parámetro\n",
    "        un número y devuelve el factorial de dicho número.\n",
    "\n",
    "    Recuerda:\n",
    "        El factorial de un número se obtiene multiplicando\n",
    "        todos los números mayores que cero y menores o iguales\n",
    "        que dicho número.\n",
    "\n",
    "    Ejemplo:\n",
    "        Factorial de 3 = 3*2*1\n",
    "        Factorial de 4 = 4*3*2*1\n",
    "\n",
    "    Si bien se puede resolver como se vio en tareas anteriores,\n",
    "    usa ciclos.\n",
    "    \"\"\"\n",
    "    \n",
    "    # Escribe aquí tu código\n",
    "    \n",
    "    \n",
    "    # Escribe aquí tu código\n",
    "    \n",
    "    return # Escribe aquí tu código"
   ]
  },
  {
   "cell_type": "code",
   "execution_count": null,
   "metadata": {},
   "outputs": [],
   "source": [
    "ejercicio_84(5)"
   ]
  },
  {
   "cell_type": "code",
   "execution_count": null,
   "metadata": {},
   "outputs": [],
   "source": [
    "calificador.califica_ejercicio_84(ejercicio_84)"
   ]
  },
  {
   "cell_type": "code",
   "execution_count": null,
   "metadata": {},
   "outputs": [],
   "source": [
    "@Controlador(\"9\", \"ejercicio_85\")\n",
    "def ejercicio_85(tope):\n",
    "    \"\"\"\n",
    "    Títutlo: Suma de impares.\n",
    "    Instrucciones:\n",
    "        Esta función recibe como parámetro\n",
    "        un número y devuelve la suma de los números impares\n",
    "        desde cero hasta el número que llega como parámetro\n",
    "        incluído ese número.\n",
    "    \"\"\"\n",
    "    \n",
    "    # Escribe aquí tu código\n",
    "    \n",
    "    \n",
    "    # Escribe aquí tu código\n",
    "    \n",
    "    return # Escribe aquí tu código"
   ]
  },
  {
   "cell_type": "code",
   "execution_count": null,
   "metadata": {},
   "outputs": [],
   "source": [
    "ejercicio_85(10)"
   ]
  },
  {
   "cell_type": "code",
   "execution_count": null,
   "metadata": {},
   "outputs": [],
   "source": [
    "calificador.califica_ejercicio_85(ejercicio_85)"
   ]
  },
  {
   "cell_type": "code",
   "execution_count": null,
   "metadata": {},
   "outputs": [],
   "source": [
    "@Controlador(\"9\", \"ejercicio_86\")\n",
    "def ejercicio_86(lista, numero):\n",
    "    \"\"\"\n",
    "    Título: Encontrar índice con ciclos.\n",
    "\n",
    "    Instrucciones:\n",
    "        Esta función recibe como parámetro una lista y\n",
    "        un número y devuelve el índice en el que se encuentra\n",
    "        el número en dicha lista.\n",
    "\n",
    "    Usa ciclos\n",
    "    \"\"\"\n",
    "    \n",
    "    # Escribe aquí tu código\n",
    "    \n",
    "    \n",
    "    # Escribe aquí tu código\n",
    "    \n",
    "    return # Escribe aquí tu código"
   ]
  },
  {
   "cell_type": "code",
   "execution_count": null,
   "metadata": {},
   "outputs": [],
   "source": [
    "ejercicio_86([1,2,3,4,10], 10)"
   ]
  },
  {
   "cell_type": "code",
   "execution_count": null,
   "metadata": {},
   "outputs": [],
   "source": [
    "calificador.califica_ejercicio_86(ejercicio_86)"
   ]
  },
  {
   "cell_type": "code",
   "execution_count": null,
   "metadata": {},
   "outputs": [],
   "source": [
    "@Controlador(\"9\", \"ejercicio_87\")\n",
    "def ejercicio_87(productos):\n",
    "    \"\"\"\n",
    "    Título: Sumas totales\n",
    "    \n",
    "    Instrucciones:\n",
    "        Esta función recibe una lista de tuplas en las que el primer\n",
    "        elemento de la tupla es el nombre de un producto y el segundo\n",
    "        elemento es el total de productos vendidos de ese tipo.\n",
    "        Devolver el total de productos vendidos.\n",
    "\n",
    "    Recuerda:\n",
    "        Cuida la indentación.\n",
    "    \"\"\"\n",
    "    \n",
    "    # Escribe aquí tu código\n",
    "    \n",
    "    \n",
    "    # Escribe aquí tu código\n",
    "    \n",
    "    return # Escribe aquí tu código"
   ]
  },
  {
   "cell_type": "code",
   "execution_count": null,
   "metadata": {},
   "outputs": [],
   "source": [
    "ejercicio_87([(\"Sopes\", 10), (\"Orden de Carnitas\", 20)])"
   ]
  },
  {
   "cell_type": "code",
   "execution_count": null,
   "metadata": {},
   "outputs": [],
   "source": [
    "calificador.califica_ejercicio_87(ejercicio_87)"
   ]
  },
  {
   "cell_type": "code",
   "execution_count": null,
   "metadata": {},
   "outputs": [],
   "source": [
    "@Controlador(\"9\", \"ejercicio_88\")\n",
    "def ejercicio_88(diccionario):\n",
    "    \"\"\"\n",
    "    Título: Filtrado de claves.\n",
    "    \n",
    "    Instrucciones:\n",
    "        Esta función recibe un diccionario y devuelve un\n",
    "        nuevo diccionario que tenga como claves\n",
    "        aquellas claves que inicien con la letra 'a'\n",
    "        y sus valores respectivos.\n",
    "\n",
    "    Ejemplo:\n",
    "        Si el diccionario = {\"abecedario\": \"abcd...\", \"comida\": \"tacos\"}\n",
    "        la funcion devolvería {\"abecedario\": \"abcd...\"}.\n",
    "\n",
    "    A considerar:\n",
    "        No sabes si las claves inician con mayúscula o minúscula.\n",
    "    \"\"\"\n",
    "    \n",
    "    # Escribe aquí tu código\n",
    "    \n",
    "    \n",
    "    # Escribe aquí tu código\n",
    "    \n",
    "    return # Escribe aquí tu código"
   ]
  },
  {
   "cell_type": "code",
   "execution_count": null,
   "metadata": {},
   "outputs": [],
   "source": [
    "ejercicio_88({\"abecedario\": \"abcd...\", \"comida\": \"tacos\"})"
   ]
  },
  {
   "cell_type": "code",
   "execution_count": null,
   "metadata": {},
   "outputs": [],
   "source": [
    "calificador.califica_ejercicio_88(ejercicio_88)"
   ]
  },
  {
   "cell_type": "code",
   "execution_count": null,
   "metadata": {},
   "outputs": [],
   "source": [
    "@Controlador(\"9\", \"ejercicio_89\")\n",
    "def ejercicio_89(listas):\n",
    "    \"\"\"\n",
    "    Título: Suma de columnas\n",
    "    \n",
    "    Instrucciones:\n",
    "        Esta función recibe una lista de listas y devuelve una\n",
    "        nueva lista formada por la suma de los números\n",
    "        de cada una de las filas, en este sentido podemos\n",
    "        pensar la lista como una matriz, sin embargo, \n",
    "        no tiene porqué cumplir con una forma geométrica\n",
    "        regular.\n",
    "\n",
    "    Tip:\n",
    "        Nada impide que uses un ciclo dentro de otro ciclo,\n",
    "        es decir, con el ciclo exterior revisas cada una de las\n",
    "        filas y con el ciclo interior revisas cada uno \n",
    "        de los números de esa fila\n",
    "    \"\"\"\n",
    "    \n",
    "    # Escribe aquí tu código\n",
    "    \n",
    "    \n",
    "    # Escribe aquí tu código\n",
    "    \n",
    "    return # Escribe aquí tu código"
   ]
  },
  {
   "cell_type": "code",
   "execution_count": null,
   "metadata": {},
   "outputs": [],
   "source": [
    "ejercicio_89([[1,2,3],[5,6,7],[7,8,9]])"
   ]
  },
  {
   "cell_type": "code",
   "execution_count": null,
   "metadata": {},
   "outputs": [],
   "source": [
    "calificador.califica_ejercicio_89(ejercicio_89)"
   ]
  },
  {
   "cell_type": "code",
   "execution_count": null,
   "metadata": {},
   "outputs": [],
   "source": [
    "@Controlador(\"9\", \"ejercicio_90\")\n",
    "def ejercicio_90(diccionario):\n",
    "    \"\"\"\n",
    "    Título: Filtrado con ciclos\n",
    "    \n",
    "    Instrucciones:\n",
    "        Esta función recibe un diccionario con las\n",
    "        siguientes características.\n",
    "        Las claves son cadenas de caracteres de 3, 4\n",
    "        o 5 caracteres.\n",
    "        Las claves cuya longitud es 3 o 4 pueden contener\n",
    "        listas.\n",
    "        Las claves cuya longitud es de 5 poseen una palabra.\n",
    "        En caso de que exista la lista en la clave\n",
    "        obtener la suma de sus elementos y guardarlo\n",
    "        en otra lista.\n",
    "        En caso de que sea una palabra lo que se encuentre como valor,\n",
    "        guardarla en una lista (el valor, no la clave).\n",
    "        La función devuelve una tupla en cuyo primer\n",
    "        elemento se encuentra la lista de los números\n",
    "        obtenidos a partir de las sumas y en segundo lugar\n",
    "        se encuentra la lista que contiene las palabras.\n",
    "\n",
    "    Tip:\n",
    "        Piensa esta tarea en términos de ciclos. Pregúntate cómo \n",
    "        resolver cada una de las partes y al final pega los resultados.\n",
    "\n",
    "    Tip: Pregunta por el tipo de dato de los valores del diccionario.\n",
    "\n",
    "    Tipo: Para preguntar si algo es de algún tipo usas el doble igual\n",
    "    y el nombre de ese tipo, por ejemplo con variable == list estoy preguntando\n",
    "    si la variable es de tipo lista, así con int, float, tuple, dict, etc...\n",
    "\n",
    "    Ejemplo:\n",
    "\n",
    "        diccionario = {\"ola\": \"Del mar\", \"hola\": [1,2,3], \"curso\": \"Python\", \"ZDRF\": [3,4,5]}\n",
    "\n",
    "        Resultado: ([6, 12], [\"Python\"])\n",
    "    \"\"\"\n",
    "    \n",
    "    # Escribe aquí tu código\n",
    "    \n",
    "    \n",
    "    # Escribe aquí tu código\n",
    "    \n",
    "    return # Escribe aquí tu código"
   ]
  },
  {
   "cell_type": "code",
   "execution_count": null,
   "metadata": {},
   "outputs": [],
   "source": [
    "ejercicio_90({\"ola\": \"Del mar\", \"hola\": [1,2,3], \"curso\": \"Python\", \"ZDRF\": [3,4,5]})"
   ]
  },
  {
   "cell_type": "code",
   "execution_count": null,
   "metadata": {},
   "outputs": [],
   "source": [
    "calificador.califica_ejercicio_90(ejercicio_90)"
   ]
  }
 ],
 "metadata": {
  "kernelspec": {
   "display_name": "infotec",
   "language": "python",
   "name": "python3"
  },
  "language_info": {
   "codemirror_mode": {
    "name": "ipython",
    "version": 3
   },
   "file_extension": ".py",
   "mimetype": "text/x-python",
   "name": "python",
   "nbconvert_exporter": "python",
   "pygments_lexer": "ipython3",
   "version": "3.11.5"
  }
 },
 "nbformat": 4,
 "nbformat_minor": 2
}
