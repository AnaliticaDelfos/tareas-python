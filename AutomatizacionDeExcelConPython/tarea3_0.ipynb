{
 "cells": [
  {
   "cell_type": "code",
   "execution_count": null,
   "metadata": {},
   "outputs": [],
   "source": [
    "#\n",
    "#\n",
    "# EJECUTAR ESTA CELDA\n",
    "#\n",
    "#\n",
    "\n",
    "#####################################\n",
    "#       Módulo Math\n",
    "#####################################\n",
    "\n",
    "\n",
    "import calificador\n",
    "from controlador import Controlador\n",
    "import math"
   ]
  },
  {
   "cell_type": "code",
   "execution_count": null,
   "metadata": {},
   "outputs": [],
   "source": [
    "@Controlador(\"3\", \"ejercicio_21\")\n",
    "def ejercicio_21(grados):\n",
    "    \"\"\"\n",
    "    Título: Cálculo de seno\n",
    "\n",
    "    Instrucciones:\n",
    "        Esta función recibe una variable que guarda\n",
    "        un valor en grados (y se llama grados) y devuelve\n",
    "        el seno de esa cantidad. Redondea el resultado a 2 decimales.\n",
    "    \n",
    "    Ejemplo:\n",
    "        Si grados = 90\n",
    "        devuelve 1\n",
    "\n",
    "    Recuerda:\n",
    "        Lo que la función \"regresa\" va justo después\n",
    "        de la palabra return\n",
    "\n",
    "    Recuerda:\n",
    "        Cuida la indentación.\n",
    "\n",
    "    Consejo:\n",
    "        Puedes usar el módulo math para realizar los cálculos.\n",
    "        La función sin de math calcula el seno.\n",
    "        La función sin está pensada para recibir radianes.\n",
    "        Transforma los grados a radianes y usa ese valor para\n",
    "        la función sin.\n",
    "        La función para convertir de grados a radianes es:\n",
    "        math.radians\n",
    "    \"\"\"\n",
    "\n",
    "    # Escribe aquí tu código\n",
    "    \n",
    "\n",
    "    # Escribe aquí tu código\n",
    "\n",
    "    return # Escribe aquí tu código"
   ]
  },
  {
   "cell_type": "code",
   "execution_count": null,
   "metadata": {},
   "outputs": [],
   "source": [
    "ejercicio_21(90)"
   ]
  },
  {
   "cell_type": "code",
   "execution_count": null,
   "metadata": {},
   "outputs": [],
   "source": [
    "calificador.califica_ejercicio_21(ejercicio_21)"
   ]
  },
  {
   "cell_type": "code",
   "execution_count": null,
   "metadata": {},
   "outputs": [],
   "source": [
    "@Controlador(\"3\", \"ejercicio_22\")\n",
    "def ejercicio_22(grados):\n",
    "    \"\"\"\n",
    "    Título: Cálculo de coseno\n",
    "\n",
    "    Instrucciones:\n",
    "        Esta función recibe una variable que guarda\n",
    "        un valor en grados (y se llama grados) y devuelve\n",
    "        el coseno de esa cantidad. Redondea el resultado a 2 decimales.\n",
    "    \n",
    "    Ejemplo:\n",
    "        Si grados = 90\n",
    "        devuelve 0.0\n",
    "\n",
    "    Recuerda:\n",
    "        Lo que la función \"regresa\" va justo después\n",
    "        de la palabra return\n",
    "\n",
    "    Recuerda:\n",
    "        Cuida la indentación.\n",
    "\n",
    "    Consejo:\n",
    "        Puedes usar el módulo math para realizar los cálculos.\n",
    "        La función cos de math calcula el coseno.\n",
    "        La función cos está pensada para recibir radianes.\n",
    "        Transforma los grados a radianes y usa ese valor para\n",
    "        la función cos.\n",
    "        La función para convertir de grados a radianes es:\n",
    "        math.radians\n",
    "    \"\"\"\n",
    "\n",
    "    # Escribe aquí tu código\n",
    "    \n",
    "\n",
    "    # Escribe aquí tu código\n",
    "\n",
    "    return # Escribe aquí tu código"
   ]
  },
  {
   "cell_type": "code",
   "execution_count": null,
   "metadata": {},
   "outputs": [],
   "source": [
    "ejercicio_22(90)"
   ]
  },
  {
   "cell_type": "code",
   "execution_count": null,
   "metadata": {},
   "outputs": [],
   "source": [
    "calificador.califica_ejercicio_22(ejercicio_22)"
   ]
  },
  {
   "cell_type": "code",
   "execution_count": null,
   "metadata": {},
   "outputs": [],
   "source": [
    "@Controlador(\"3\", \"ejercicio_23\")\n",
    "def ejercicio_23(grados):\n",
    "    \"\"\"\n",
    "    Título: Cálculo de tangente\n",
    "    \n",
    "    Instrucciones:\n",
    "        Esta función recibe una variable que guarda\n",
    "        un valor en grados (y se llama grados) y devuelve\n",
    "        la tangente de esa cantidad. Redondea el resultado a 2 decimales.\n",
    "    \n",
    "    Ejemplo:\n",
    "        Si grados = 0\n",
    "        devuelve 0.0\n",
    "\n",
    "    Recuerda:\n",
    "        Lo que la función \"regresa\" va justo después\n",
    "        de la palabra return\n",
    "\n",
    "    Recuerda:\n",
    "        Cuida la indentación.\n",
    "\n",
    "    Consejo:\n",
    "        Puedes usar el módulo math para realizar los cálculos.\n",
    "        La función tan de math calcula la tangente.\n",
    "        La función tan está pensada para recibir radianes.\n",
    "        Transforma los grados a radianes y usa ese valor para\n",
    "        la función tan.\n",
    "        La función para convertir de grados a radianes es:\n",
    "        math.radians\n",
    "    \"\"\"\n",
    "\n",
    "    # Escribe aquí tu código\n",
    "    \n",
    "\n",
    "    # Escribe aquí tu código\n",
    "\n",
    "    return # Escribe aquí tu código"
   ]
  },
  {
   "cell_type": "code",
   "execution_count": null,
   "metadata": {},
   "outputs": [],
   "source": [
    "ejercicio_23(360)"
   ]
  },
  {
   "cell_type": "code",
   "execution_count": null,
   "metadata": {},
   "outputs": [],
   "source": [
    "calificador.califica_ejercicio_23(ejercicio_23)"
   ]
  },
  {
   "cell_type": "code",
   "execution_count": null,
   "metadata": {},
   "outputs": [],
   "source": [
    "@Controlador(\"3\", \"ejercicio_24\")\n",
    "def ejercicio_24(numero):\n",
    "    \"\"\"\n",
    "    Título: Cálculo de logaritmo natural\n",
    "    \n",
    "    Instrucciones:\n",
    "        Esta función recibe un número y devuelve \n",
    "        el logaritmo natural de dicho numero.\n",
    "        Redonde a 2 decimales.\n",
    "    \n",
    "    Ejemplo:\n",
    "        Si numero = 1\n",
    "        devuelve 0.0\n",
    "\n",
    "    Recuerda:\n",
    "        Lo que la función \"regresa\" va justo después\n",
    "        de la palabra return\n",
    "\n",
    "    Recuerda:\n",
    "        Cuida la indentación.\n",
    "\n",
    "    Consejo:\n",
    "        Puedes usar el módulo math para realizar los cálculos.\n",
    "        La función log de math calcula el logaritmo natural.\n",
    "    \"\"\"\n",
    "\n",
    "    # Escribe aquí tu código\n",
    "    \n",
    "\n",
    "    # Escribe aquí tu código\n",
    "\n",
    "    return # Escribe aquí tu código"
   ]
  },
  {
   "cell_type": "code",
   "execution_count": null,
   "metadata": {},
   "outputs": [],
   "source": [
    "ejercicio_24(100000)"
   ]
  },
  {
   "cell_type": "code",
   "execution_count": null,
   "metadata": {},
   "outputs": [],
   "source": [
    "calificador.califica_ejercicio_24(ejercicio_24)"
   ]
  },
  {
   "cell_type": "code",
   "execution_count": null,
   "metadata": {},
   "outputs": [],
   "source": [
    "@Controlador(\"3\", \"ejercicio_25\")\n",
    "def ejercicio_25(numero):\n",
    "    \"\"\"\n",
    "    Título: Cálculo de logaritmo base 2\n",
    "\n",
    "    Instrucciones:\n",
    "        Esta función recibe un número y devuelve \n",
    "        el logaritmo base 2 de dicho numero.\n",
    "        Redonde a 2 decimales.\n",
    "    \n",
    "    Ejemplo:\n",
    "        Si numero = 2\n",
    "        devuelve 1.0\n",
    "\n",
    "    Recuerda:\n",
    "        Lo que la función \"regresa\" va justo después\n",
    "        de la palabra return\n",
    "\n",
    "    Recuerda:\n",
    "        Cuida la indentación.\n",
    "\n",
    "    Consejo:\n",
    "        Puedes usar el módulo math para realizar los cálculos.\n",
    "        La función log2 de math calcula el logaritmo base 2.\n",
    "    \"\"\"\n",
    "\n",
    "    # Escribe aquí tu código\n",
    "    \n",
    "\n",
    "    # Escribe aquí tu código\n",
    "\n",
    "    return # Escribe aquí tu código"
   ]
  },
  {
   "cell_type": "code",
   "execution_count": null,
   "metadata": {},
   "outputs": [],
   "source": [
    "ejercicio_25(200000)"
   ]
  },
  {
   "cell_type": "code",
   "execution_count": null,
   "metadata": {},
   "outputs": [],
   "source": [
    "calificador.califica_ejercicio_25(ejercicio_25)"
   ]
  },
  {
   "cell_type": "code",
   "execution_count": null,
   "metadata": {},
   "outputs": [],
   "source": [
    "@Controlador(\"3\", \"ejercicio_26\")\n",
    "def ejercicio_26(numero):\n",
    "    \"\"\"\n",
    "    Título: Potencia base exponencial\n",
    "\n",
    "    Instrucciones:\n",
    "        Esta función recibe un número y devuelve \n",
    "        el resultado de elevar la exponencial al número \n",
    "        dado a esta función.\n",
    "        Redonde a 2 decimales.\n",
    "    \n",
    "    Ejemplo:\n",
    "        Si numero = 2\n",
    "        devuelve 7.39\n",
    "\n",
    "    Recuerda:\n",
    "        Lo que la función \"regresa\" va justo después\n",
    "        de la palabra return\n",
    "\n",
    "    Recuerda:\n",
    "        Cuida la indentación.\n",
    "\n",
    "    Consejo:\n",
    "        Puedes usar el módulo math para realizar los cálculos.\n",
    "        La función exp de math calcula elevar la exponencial a un cierto número.\n",
    "    \"\"\"\n",
    "\n",
    "    # Escribe aquí tu código\n",
    "    \n",
    "\n",
    "    # Escribe aquí tu código\n",
    "\n",
    "    return # Escribe aquí tu código"
   ]
  },
  {
   "cell_type": "code",
   "execution_count": null,
   "metadata": {},
   "outputs": [],
   "source": [
    "ejercicio_26(-10)"
   ]
  },
  {
   "cell_type": "code",
   "execution_count": null,
   "metadata": {},
   "outputs": [],
   "source": [
    "calificador.califica_ejercicio_26(ejercicio_26)"
   ]
  },
  {
   "cell_type": "code",
   "execution_count": null,
   "metadata": {},
   "outputs": [],
   "source": [
    "@Controlador(\"3\", \"ejercicio_27\")\n",
    "def ejercicio_27(numero):\n",
    "    \"\"\"\n",
    "    Título: Potencia base 2\n",
    "\n",
    "    Instrucciones:\n",
    "        Esta función recibe un número y devuelve \n",
    "        el resultado de elevar 2 al número \n",
    "        dado a esta función.\n",
    "        Redonde a 2 decimales.\n",
    "    \n",
    "    Ejemplo:\n",
    "        Si numero = 2\n",
    "        devuelve 4.0\n",
    "\n",
    "    Recuerda:\n",
    "        Lo que la función \"regresa\" va justo después\n",
    "        de la palabra return\n",
    "\n",
    "    Recuerda:\n",
    "        Cuida la indentación.\n",
    "\n",
    "    Consejo:\n",
    "        Puedes usar el módulo math para realizar los cálculos.\n",
    "        La función exp2 de math calcula elevar 2 a un cierto número.\n",
    "    \"\"\"\n",
    "\n",
    "    # Escribe aquí tu código\n",
    "    \n",
    "\n",
    "    # Escribe aquí tu código\n",
    "\n",
    "    return # Escribe aquí tu código"
   ]
  },
  {
   "cell_type": "code",
   "execution_count": null,
   "metadata": {},
   "outputs": [],
   "source": [
    "ejercicio_27(2)"
   ]
  },
  {
   "cell_type": "code",
   "execution_count": null,
   "metadata": {},
   "outputs": [],
   "source": [
    "calificador.califica_ejercicio_27(ejercicio_27)"
   ]
  },
  {
   "cell_type": "code",
   "execution_count": null,
   "metadata": {},
   "outputs": [],
   "source": [
    "@Controlador(\"3\", \"ejercicio_28\")\n",
    "def ejercicio_28(numero):\n",
    "    \"\"\"\n",
    "    Título: Factorial módulo math\n",
    "\n",
    "    Instrucciones:\n",
    "        Esta función recibe un número y devuelve \n",
    "        el factorial del número dado.\n",
    "    \n",
    "    Ejemplo:\n",
    "        Si numero = 5\n",
    "        devuelve 120\n",
    "\n",
    "    Recuerda:\n",
    "        Lo que la función \"regresa\" va justo después\n",
    "        de la palabra return\n",
    "\n",
    "    Recuerda:\n",
    "        Cuida la indentación.\n",
    "\n",
    "    Consejo:\n",
    "        Puedes usar el módulo math para realizar los cálculos.\n",
    "        La función factorial de math calcula el factorial de un número.\n",
    "    \"\"\"\n",
    "\n",
    "    # Escribe aquí tu código\n",
    "    \n",
    "\n",
    "    # Escribe aquí tu código\n",
    "\n",
    "    return # Escribe aquí tu código"
   ]
  },
  {
   "cell_type": "code",
   "execution_count": null,
   "metadata": {},
   "outputs": [],
   "source": [
    "ejercicio_28(6)"
   ]
  },
  {
   "cell_type": "code",
   "execution_count": null,
   "metadata": {},
   "outputs": [],
   "source": [
    "calificador.califica_ejercicio_28(ejercicio_28)"
   ]
  },
  {
   "cell_type": "code",
   "execution_count": null,
   "metadata": {},
   "outputs": [],
   "source": [
    "@Controlador(\"3\", \"ejercicio_29\")\n",
    "def ejercicio_29(numero):\n",
    "    \"\"\"\n",
    "    Título: Raíz cuadrada módulo math\n",
    "\n",
    "    Instrucciones:\n",
    "        Esta función recibe un número y devuelve\n",
    "        la raíz cuadrada de ese número.\n",
    "        Usar la función sqrt del módulo math.\n",
    "        Redonde a 2 decimales.\n",
    "    \n",
    "    Ejemplo:\n",
    "        Si numero = 4\n",
    "        devuelve un 2.0\n",
    "\n",
    "    Recuerda:\n",
    "        Cuida la indentación.\n",
    "\n",
    "    \"\"\"\n",
    "\n",
    "    # Escribe aquí tu código\n",
    "\n",
    "\n",
    "    # Escribe aquí tu código\n",
    "\n",
    "    return # Escribe aquí tu código"
   ]
  },
  {
   "cell_type": "code",
   "execution_count": null,
   "metadata": {},
   "outputs": [],
   "source": [
    "ejercicio_29(356)"
   ]
  },
  {
   "cell_type": "code",
   "execution_count": null,
   "metadata": {},
   "outputs": [],
   "source": [
    "calificador.califica_ejercicio_29(ejercicio_29)"
   ]
  },
  {
   "cell_type": "code",
   "execution_count": null,
   "metadata": {},
   "outputs": [],
   "source": [
    "@Controlador(\"3\", \"ejercicio_30\")\n",
    "def ejercicio_30(numero1, numero2):\n",
    "    \"\"\"\n",
    "    Título: Mínimo común múltiplo módulo math\n",
    "\n",
    "    Instrucciones:\n",
    "        Esta función recibe dos números y devuelve\n",
    "        el mínimo común múltimo de dichos números.\n",
    "        Usar la función lcm del módulo math.\n",
    "\n",
    "    Ejemplo:\n",
    "        Si la función recibe\n",
    "        numero1=10\n",
    "        numero2=20\n",
    "        La función devuelve 20.\n",
    "\n",
    "    Recuerda:\n",
    "        Cuida la indentación.\n",
    "        \n",
    "    \"\"\"\n",
    "\n",
    "    # Escribe aquí tu código\n",
    "\n",
    "\n",
    "    # Escribe aquí tu código\n",
    "\n",
    "    return # Escribe aquí tu código"
   ]
  },
  {
   "cell_type": "code",
   "execution_count": null,
   "metadata": {},
   "outputs": [],
   "source": [
    "ejercicio_30(10, 20)"
   ]
  },
  {
   "cell_type": "code",
   "execution_count": null,
   "metadata": {},
   "outputs": [],
   "source": [
    "calificador.califica_ejercicio_30(ejercicio_30)"
   ]
  }
 ],
 "metadata": {
  "kernelspec": {
   "display_name": "infotec",
   "language": "python",
   "name": "python3"
  },
  "language_info": {
   "codemirror_mode": {
    "name": "ipython",
    "version": 3
   },
   "file_extension": ".py",
   "mimetype": "text/x-python",
   "name": "python",
   "nbconvert_exporter": "python",
   "pygments_lexer": "ipython3",
   "version": "3.12.4"
  }
 },
 "nbformat": 4,
 "nbformat_minor": 2
}
