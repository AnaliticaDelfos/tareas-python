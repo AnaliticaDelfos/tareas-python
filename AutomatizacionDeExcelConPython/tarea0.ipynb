{
 "cells": [
  {
   "cell_type": "code",
   "execution_count": 1,
   "metadata": {},
   "outputs": [],
   "source": [
    "#\n",
    "#\n",
    "# EJECUTAR ESTA CELDA\n",
    "#\n",
    "#\n",
    "\n",
    "#####################################\n",
    "#       Tarea ejemplo\n",
    "#####################################\n",
    "\n",
    "\n",
    "import calificador\n",
    "from controlador import Controlador"
   ]
  },
  {
   "cell_type": "code",
   "execution_count": 2,
   "metadata": {},
   "outputs": [],
   "source": [
    "@Controlador(\"0\", \"ejercicio_0_1\")\n",
    "def ejercicio_0_1(a, b):\n",
    "    \"\"\"\n",
    "    Instrucciones:\n",
    "        Esta función toma los parámetros a y b\n",
    "        y devuelve la suma de dichos parámetros\n",
    "    \n",
    "    Ejemplo:\n",
    "        Si a = 1\n",
    "        y b = 2\n",
    "        la función debe regresar un 3\n",
    "\n",
    "    Recuerda:\n",
    "        Lo que la función \"regresa\" va justo después\n",
    "        de la palabra return\n",
    "\n",
    "    Recuerda:\n",
    "        Cuida la indentación.\n",
    "    \"\"\"\n",
    "\n",
    "    # Escribe aquí tu código\n",
    "\n",
    "\n",
    "    # Escribe aquí tu código\n",
    "\n",
    "    return 6# Escribe aquí tu código"
   ]
  },
  {
   "cell_type": "code",
   "execution_count": 3,
   "metadata": {},
   "outputs": [
    {
     "data": {
      "text/plain": [
       "6"
      ]
     },
     "execution_count": 3,
     "metadata": {},
     "output_type": "execute_result"
    }
   ],
   "source": [
    "ejercicio_0_1(1,2)"
   ]
  },
  {
   "cell_type": "code",
   "execution_count": 4,
   "metadata": {},
   "outputs": [
    {
     "name": "stdout",
     "output_type": "stream",
     "text": [
      "===============================================================================\n",
      "\n",
      "============> Calificando: tarea 0 - ejercicio ejercicio_0_1 <============\n",
      "\n",
      "===============================================================================\n",
      "\n",
      "\n",
      "======================================================\n",
      "            ||          Calificación: 0.0            \n",
      "            ||          Aciertos: 0                   \n",
      "            ||          Errores: 1                     \n",
      "======================================================\n",
      "    \n",
      "======> Casos existosos: <======\n",
      "\n",
      "\u001b[0;31m======> Casos con error <======\n",
      "\u001b[00m\n",
      "\u001b[0;34mValores de entrada: [1, 2].             \u001b[0;35mValor esperado: 3.             \u001b[0;36mValor obtenido: 6\n",
      "\n",
      "\u001b[0;32m============> Calificación recibida <============\n",
      "\n"
     ]
    }
   ],
   "source": [
    "# NO MODIFICAR ESTA CELDA, SOLO EJECUTAR\n",
    "calificador.califica_ejercicio_0_1(ejercicio_0_1)"
   ]
  },
  {
   "cell_type": "code",
   "execution_count": null,
   "metadata": {},
   "outputs": [],
   "source": [
    "@Controlador(\"0\", \"ejercicio_0_2\")\n",
    "def ejercicio_0_2(a, b):\n",
    "    \"\"\"\n",
    "    Instrucciones:\n",
    "        Esta función toma los parámetros a y b\n",
    "        y regresa el resultado de restar b a a\n",
    "\n",
    "    Ejemplo:\n",
    "        Si a = 3\n",
    "        y b = 5\n",
    "        la función regresa -2\n",
    "\n",
    "    Recuerda:\n",
    "        Cuida la indentación.\n",
    "    \"\"\"\n",
    "\n",
    "    # Escribe aquí tu código\n",
    "\n",
    "    \n",
    "    # Escribe aquí tu código\n",
    "\n",
    "    return # Escribe aquí tu código"
   ]
  },
  {
   "cell_type": "code",
   "execution_count": null,
   "metadata": {},
   "outputs": [],
   "source": [
    "ejercicio_0_2(1,2)"
   ]
  },
  {
   "cell_type": "code",
   "execution_count": null,
   "metadata": {},
   "outputs": [],
   "source": [
    "# NO MODIFICAR ESTA CELDA, SOLO EJECUTAR\n",
    "calificador.califica_ejercicio_0_2(ejercicio_0_2)"
   ]
  },
  {
   "cell_type": "code",
   "execution_count": null,
   "metadata": {},
   "outputs": [],
   "source": [
    "@Controlador(\"0\", \"ejercicio_0_3\")\n",
    "def ejercicio_0_3():\n",
    "    \"\"\"\n",
    "    Instrucciones:\n",
    "        Esta función no tiene argumentos y lo único que tiene que regresar\n",
    "        es la cadena de caracteres 'Hola, mundo!'\n",
    "\n",
    "    Recuerda:\n",
    "        Cuida la indentación.\n",
    "        \n",
    "    \"\"\"\n",
    "\n",
    "    # Escribe aquí tu código\n",
    "\n",
    "\n",
    "    # Escribe aquí tu código\n",
    "    \n",
    "    return # Escribe aquí tu código"
   ]
  },
  {
   "cell_type": "code",
   "execution_count": null,
   "metadata": {},
   "outputs": [],
   "source": [
    "# NO MODIFICAR ESTA CELDA, SOLO EJECUTAR\n",
    "calificador.califica_ejercicio_0_3(ejercicio_0_3)"
   ]
  }
 ],
 "metadata": {
  "interpreter": {
   "hash": "52e906d48b26901c718c7cd569792dc03a2dc8ecec1e49796e8e9092c38d0e33"
  },
  "kernelspec": {
   "display_name": "Python 3 (ipykernel)",
   "language": "python",
   "name": "python3"
  },
  "language_info": {
   "codemirror_mode": {
    "name": "ipython",
    "version": 3
   },
   "file_extension": ".py",
   "mimetype": "text/x-python",
   "name": "python",
   "nbconvert_exporter": "python",
   "pygments_lexer": "ipython3",
   "version": "3.12.2"
  }
 },
 "nbformat": 4,
 "nbformat_minor": 4
}
