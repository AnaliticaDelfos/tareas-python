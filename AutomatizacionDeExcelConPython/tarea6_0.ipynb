{
 "cells": [
  {
   "cell_type": "code",
   "execution_count": null,
   "metadata": {},
   "outputs": [],
   "source": [
    "#\n",
    "#\n",
    "# EJECUTAR ESTA CELDA CADA VEZ QUE ENTRES A HACER LA TAREA\n",
    "#\n",
    "#\n",
    "\n",
    "#####################################\n",
    "#       Condicionales\n",
    "#####################################\n",
    "\n",
    "\n",
    "import calificador\n",
    "from controlador import Controlador"
   ]
  },
  {
   "cell_type": "code",
   "execution_count": null,
   "metadata": {},
   "outputs": [],
   "source": [
    "@Controlador(\"6\", \"ejercicio_51\")\n",
    "def ejercicio_51(palabra_1, palabra_2):\n",
    "    \"\"\"\n",
    "    Titulo: Palabras iguales\n",
    "    \n",
    "    Instrucciones:\n",
    "        Esta función recibe dos palabras\n",
    "        y regresa la frase \n",
    "        \"Son iguales\"\n",
    "        si es que son iguales\n",
    "        y \"Son diferentes\"\n",
    "        Si es que son diferentes\n",
    "\n",
    "    Recuerda:\n",
    "        Cuida la indentación.\n",
    "\n",
    "    Ejemplo:\n",
    "        Si palabra_1 = \"Buenos días\" y palabra_2 = \"buenos días\"\n",
    "        regresa 'Son diferentes'\n",
    "        Si palabra_1 = \"Hola\" y palabra_2 = \"Hola\"\n",
    "        regresa 'Son iguales'\n",
    "    \"\"\"\n",
    "    \n",
    "    # Escribe aquí tu código\n",
    "    \n",
    "\n",
    "    # Escribe aquí tu código\n",
    "    \n",
    "    return # Escribe aquí tu código\n"
   ]
  },
  {
   "cell_type": "code",
   "execution_count": null,
   "metadata": {},
   "outputs": [],
   "source": [
    "ejercicio_51(\"Buenos días\", \"buenos días\")"
   ]
  },
  {
   "cell_type": "code",
   "execution_count": null,
   "metadata": {},
   "outputs": [],
   "source": [
    "calificador.califica_ejercicio_51(ejercicio_51)"
   ]
  },
  {
   "cell_type": "code",
   "execution_count": null,
   "metadata": {},
   "outputs": [],
   "source": [
    "@Controlador(\"6\", \"ejercicio_52\")\n",
    "def ejercicio_52(numero):\n",
    "    \"\"\"\n",
    "    Título: Número par\n",
    "\n",
    "    Preámbulo:\n",
    "        El operador módulo % devuelve el residuo\n",
    "        de efectuar una división entera.\n",
    "\n",
    "        Por ejemplo: \n",
    "            10 % 3  es igual a 1 porque al dividir\n",
    "            10 entre 3, vemos que el resultado es 3 y sobra 1.\n",
    "\n",
    "        Otro ejemplo:\n",
    "            124 % 2 es igual a 0 porque al dividir 124\n",
    "            entre 2, sobra 0.\n",
    "\n",
    "    Instrucciones:\n",
    "        Esta función recibe un número\n",
    "        y regresa verdadero o falso\n",
    "        según sea par o no\n",
    "\n",
    "        Usa el operador módulo, en el caso de\n",
    "        regresar 0 sabes que es par\n",
    "\n",
    "        \n",
    "    Ejemplo:\n",
    "        Si numero = 2\n",
    "        regresa True\n",
    "        Si numero = 3\n",
    "        regresa False\n",
    "    \"\"\"\n",
    "    \n",
    "    # Escribe aquí tu código\n",
    "    \n",
    "\n",
    "    # Escribe aquí tu código\n",
    "    \n",
    "    return # Escribe aquí tu código"
   ]
  },
  {
   "cell_type": "code",
   "execution_count": null,
   "metadata": {},
   "outputs": [],
   "source": [
    "ejercicio_52(10)"
   ]
  },
  {
   "cell_type": "code",
   "execution_count": null,
   "metadata": {},
   "outputs": [],
   "source": [
    "calificador.califica_ejercicio_52(ejercicio_52)"
   ]
  },
  {
   "cell_type": "code",
   "execution_count": null,
   "metadata": {},
   "outputs": [],
   "source": [
    "@Controlador(\"6\", \"ejercicio_53\")\n",
    "def ejercicio_53(edad):\n",
    "    \"\"\"\n",
    "    Título: Es mayor de edad.\n",
    "    \n",
    "    Instrucciones:\n",
    "        Esta función recibe la edad\n",
    "        de una persona, si la edad es mayor \n",
    "        o igual a 18 regresa la cadena \"Eres mayor de edad\",\n",
    "        caso contrario regresa la cadena \"Eres menor de edad\"\n",
    "\n",
    "\n",
    "    Recuerda:\n",
    "        Cuida la indentación.\n",
    "\n",
    "    Ejemplo:\n",
    "        Si edad = 21 \n",
    "        regresa 'Eres mayor de edad'\n",
    "        Si edad = 14\n",
    "        regresa 'Eres menor de edad'\n",
    "    \"\"\"\n",
    "    \n",
    "    # Escribe aquí tu código\n",
    "     \n",
    "\n",
    "    # Escribe aquí tu código\n",
    "    \n",
    "    return # Escribe aquí tu código\n"
   ]
  },
  {
   "cell_type": "code",
   "execution_count": null,
   "metadata": {},
   "outputs": [],
   "source": [
    "ejercicio_53(-3)"
   ]
  },
  {
   "cell_type": "code",
   "execution_count": null,
   "metadata": {},
   "outputs": [],
   "source": [
    "calificador.califica_ejercicio_53(ejercicio_53)"
   ]
  },
  {
   "cell_type": "code",
   "execution_count": null,
   "metadata": {},
   "outputs": [],
   "source": [
    "@Controlador(\"6\", \"ejercicio_54\")\n",
    "def ejercicio_54(dividendo, divisor):\n",
    "    \"\"\"\n",
    "    Título: División cuidadosa\n",
    "\n",
    "    Instrucciones:\n",
    "        Esta función recibe dos números,\n",
    "        el número a dividir (dividendo) y \n",
    "        el número que lo divide (divisor).\n",
    "\n",
    "        Esta función verifica que el divisor\n",
    "        no sea cero, en caso de que sea cero\n",
    "        regresa el mensaje \"No puedo dividir entre cero\",\n",
    "        caso contrario regresa el resultado de hacer la división.\n",
    "\n",
    "    Recuerda:\n",
    "        Cuida la indentación.\n",
    "\n",
    "    Ejemplo:\n",
    "        Si dividendo = 3 y divisor = 3\n",
    "        regresa 1\n",
    "        Si dividendo = 9 y divisor = 0\n",
    "        regresa 'No puedo dividir entre cero'\n",
    "    \"\"\"\n",
    "    \n",
    "    # Escribe aquí tu código\n",
    "    \n",
    "\n",
    "    # Escribe aquí tu código\n",
    "    \n",
    "    return # Escribe aquí tu código\n"
   ]
  },
  {
   "cell_type": "code",
   "execution_count": null,
   "metadata": {},
   "outputs": [],
   "source": [
    "ejercicio_54(81)"
   ]
  },
  {
   "cell_type": "code",
   "execution_count": null,
   "metadata": {},
   "outputs": [],
   "source": [
    "calificador.califica_ejercicio_54(ejercicio_54)"
   ]
  },
  {
   "cell_type": "code",
   "execution_count": null,
   "metadata": {},
   "outputs": [],
   "source": [
    "@Controlador(\"6\", \"ejercicio_55\")\n",
    "def ejercicio_55(n_1, n_2):\n",
    "    \"\"\"\n",
    "    Título: Es mayor\n",
    "\n",
    "    Instrucciones:\n",
    "        Esta función recibe dos números\n",
    "        y regresa la frase \n",
    "        \"El primero es mayor\"\n",
    "        si el primer número es mayor que el \n",
    "        segundo, la frase\n",
    "        \"El segundo es mayor\"\n",
    "        si el segundo número es mayor,\n",
    "        o la frase \n",
    "        \"Son iguales\"\n",
    "        Si es que son iguales\n",
    "\n",
    "\n",
    "    Recuerda:\n",
    "        Cuida la indentación.\n",
    "\n",
    "    Ejemplo:\n",
    "        Si n_1 = 2 y n_2 = 3\n",
    "        regresa 'El segundo es mayor'\n",
    "        Si n_1 = 9 y n_2 = 6\n",
    "        regresa 'El primero es mayor'\n",
    "        Si n_1 = 27 y n_2 = 27\n",
    "        regresa 'Son iguales'\n",
    "    \"\"\"\n",
    "    \n",
    "    # Escribe aquí tu código\n",
    "    \n",
    "\n",
    "    # Escribe aquí tu código\n",
    "    \n",
    "    return # Escribe aquí tu código\n"
   ]
  },
  {
   "cell_type": "code",
   "execution_count": null,
   "metadata": {},
   "outputs": [],
   "source": [
    "ejercicio_55(2, 3)"
   ]
  },
  {
   "cell_type": "code",
   "execution_count": null,
   "metadata": {},
   "outputs": [],
   "source": [
    "calificador.califica_ejercicio_55(ejercicio_55)"
   ]
  },
  {
   "cell_type": "code",
   "execution_count": null,
   "metadata": {},
   "outputs": [],
   "source": [
    "@Controlador(\"6\", \"ejercicio_56\")\n",
    "def ejercicio_56(numero):\n",
    "    \"\"\"\n",
    "    Título: En medio\n",
    "    \n",
    "    Instrucciones:\n",
    "        Esta función recibe un número.\n",
    "\n",
    "        Regresa la palabra \"Pertenece\" si\n",
    "        el número está en el rango de 21 a 30\n",
    "        (incluyendo el 21 y el 30)\n",
    "        caso contrario regresa \"No pertenece\"\n",
    "\n",
    "\n",
    "    Recuerda:\n",
    "        Cuida la indentación.\n",
    "\n",
    "    Ejemplo:\n",
    "        Si numero = 21\n",
    "        regresa 'Pertenece'\n",
    "        Si numero = 18\n",
    "        regresa 'No pertenece'\n",
    "        Si numero = 31\n",
    "        regresa 'No pertenece'\n",
    "    \"\"\"\n",
    "    \n",
    "    # Escribe aquí tu código\n",
    "    \n",
    "    \n",
    "    # Escribe aquí tu código\n",
    "    \n",
    "    return # Escribe aquí tu código"
   ]
  },
  {
   "cell_type": "code",
   "execution_count": null,
   "metadata": {},
   "outputs": [],
   "source": [
    "ejercicio_56(21)"
   ]
  },
  {
   "cell_type": "code",
   "execution_count": null,
   "metadata": {},
   "outputs": [],
   "source": [
    "calificador.califica_ejercicio_56(ejercicio_56)"
   ]
  },
  {
   "cell_type": "code",
   "execution_count": null,
   "metadata": {},
   "outputs": [],
   "source": [
    "@Controlador(\"6\", \"ejercicio_57\")\n",
    "def ejercicio_57(ingresos, giro):\n",
    "    \"\"\"\n",
    "    Título: Cálculo de impuestos.\n",
    "    \n",
    "    Instrucciones:\n",
    "        Esta función recibe los ingresos de una\n",
    "        compañía (un número) y el giro de la misma\n",
    "        (un string).\n",
    "\n",
    "        Esta función dice qué tantos impuestos debe pagar\n",
    "        dicha empresa dadas las siguientes condiciones:\n",
    "\n",
    "        Si giro es 'Educación' o 'Ganadería'\n",
    "        y gana menos de 15000.00\n",
    "        paga el 8%, si gana más de o igual a 15000.00 \n",
    "        paga el 10%\n",
    "        Si el giro es 'Tecnología' o 'Textiles'\n",
    "        y gana menos de 15000.00 \n",
    "        paga el 12%, si gana más de o igual a 15000.00\n",
    "        paga el 14%.\n",
    "\n",
    "        La función regresa, como cadena de caracteres (string),\n",
    "        el porcentaje que paga \n",
    "\n",
    "\n",
    "    Recuerda:\n",
    "        Cuida la indentación.\n",
    "\n",
    "    Ejemplo:\n",
    "        Si ingresos = 20000 y giro = \"Textiles\"\n",
    "        regresa '14%'\n",
    "        Si ingresos = 12000 y giro = \"Educación\"\n",
    "        regresa '8%'\n",
    "    \"\"\"\n",
    "    \n",
    "    # Escribe aquí tu código\n",
    "    \n",
    "\n",
    "    # Escribe aquí tu código\n",
    "    \n",
    "    return # Escribe aquí tu código\n"
   ]
  },
  {
   "cell_type": "code",
   "execution_count": null,
   "metadata": {},
   "outputs": [],
   "source": [
    "ejercicio_57(20000, \"Textiles\")"
   ]
  },
  {
   "cell_type": "code",
   "execution_count": null,
   "metadata": {},
   "outputs": [],
   "source": [
    "calificador.califica_ejercicio_57(ejercicio_57)"
   ]
  },
  {
   "cell_type": "code",
   "execution_count": null,
   "metadata": {},
   "outputs": [],
   "source": [
    "@Controlador(\"6\", \"ejercicio_58\")\n",
    "def ejercicio_58(calificacion):\n",
    "    \"\"\"\n",
    "    Título: Calificación aprobatoria.\n",
    "    \n",
    "    Instrucciones:\n",
    "        Esta función recibe la calificación de un alumno,\n",
    "        la cual es un número real (float, con punto decimal)\n",
    "        luego de redondear la calificación \n",
    "        regresar el mensaje \"Pasaste\"\n",
    "        si es que el resultado es mayor o igual a 6\n",
    "        y \"Prueba de nuevo\"\n",
    "        si es que el resultado es menor a 6\n",
    "\n",
    "\n",
    "    Recuerda:\n",
    "        Cuida la indentación.\n",
    "\n",
    "    Ejemplo:\n",
    "        Si calificacion = 5.6 \n",
    "        regresa 'Pasaste'\n",
    "        Si calificacion = 5.4\n",
    "        regresa 'Prueba de nuevo'\n",
    "    \"\"\"\n",
    "    \n",
    "    # Escribe aquí tu código\n",
    "    \n",
    "\n",
    "    # Escribe aquí tu código\n",
    "    \n",
    "    return # Escribe aquí tu código"
   ]
  },
  {
   "cell_type": "code",
   "execution_count": null,
   "metadata": {},
   "outputs": [],
   "source": [
    "ejercicio_58(5.6)"
   ]
  },
  {
   "cell_type": "code",
   "execution_count": null,
   "metadata": {},
   "outputs": [],
   "source": [
    "calificador.califica_ejercicio_58(ejercicio_58)"
   ]
  },
  {
   "cell_type": "code",
   "execution_count": null,
   "metadata": {},
   "outputs": [],
   "source": [
    "@Controlador(\"6\", \"ejercicio_59\")\n",
    "def ejercicio_59(estatura):\n",
    "    \"\"\"\n",
    "    Título: Puede subir.\n",
    "    Instrucciones:\n",
    "        Esta función recibe la estatura de una persona\n",
    "        que quiere subir a un juego.\n",
    "\n",
    "        Si la estatura es mayor o igual a 1.40\n",
    "        regresa \"Puede subir :D\"\n",
    "        caso contrario regresa \"No puede subir :(\"\n",
    "\n",
    "\n",
    "    Recuerda:\n",
    "        Cuida la indentación.\n",
    "\n",
    "    Ejemplo:\n",
    "        Si estatura = 1.40\n",
    "        regresa \"Puede subir :D\"\n",
    "        Si estatura = 1.39\n",
    "        regresa \"No puede subir :(\"\n",
    "    \"\"\"\n",
    "    \n",
    "    # Escribe aquí tu código\n",
    "    \n",
    "\n",
    "    # Escribe aquí tu código\n",
    "    \n",
    "    return # Escribe aquí tu código\n"
   ]
  },
  {
   "cell_type": "code",
   "execution_count": null,
   "metadata": {},
   "outputs": [],
   "source": [
    "ejercicio_59(1.40)"
   ]
  },
  {
   "cell_type": "code",
   "execution_count": null,
   "metadata": {},
   "outputs": [],
   "source": [
    "calificador.califica_ejercicio_59(ejercicio_59)"
   ]
  },
  {
   "cell_type": "code",
   "execution_count": null,
   "metadata": {},
   "outputs": [],
   "source": [
    "@Controlador(\"6\", \"ejercicio_60\")\n",
    "def ejercicio_60(lado_1, lado_2, lado_3):\n",
    "    \"\"\"\n",
    "    Instrucciones:\n",
    "        Esta función recibe la longitud\n",
    "        de los 3 lados de un triágulo.\n",
    "        Debe regresar el tipo de triángulo que es\n",
    "        según la longitud de sus lados.\n",
    "        Las opciones son: \"Isósceles\", \"Equilátero\" y\n",
    "        \"Escaleno\"\n",
    "\n",
    "\n",
    "    Recuerda:\n",
    "        Cuida la indentación.\n",
    "    \"\"\"\n",
    "    \n",
    "    # Escribe aquí tu código\n",
    "    \n",
    "\n",
    "    # Escribe aquí tu código\n",
    "    \n",
    "    return # Escribe aquí tu código\n"
   ]
  },
  {
   "cell_type": "code",
   "execution_count": null,
   "metadata": {},
   "outputs": [],
   "source": [
    "ejercicio_60(123)"
   ]
  },
  {
   "cell_type": "code",
   "execution_count": null,
   "metadata": {},
   "outputs": [],
   "source": [
    "calificador.califica_ejercicio_60(ejercicio_60)"
   ]
  }
 ],
 "metadata": {
  "kernelspec": {
   "display_name": "infotec",
   "language": "python",
   "name": "python3"
  },
  "language_info": {
   "codemirror_mode": {
    "name": "ipython",
    "version": 3
   },
   "file_extension": ".py",
   "mimetype": "text/x-python",
   "name": "python",
   "nbconvert_exporter": "python",
   "pygments_lexer": "ipython3",
   "version": "3.11.5"
  }
 },
 "nbformat": 4,
 "nbformat_minor": 2
}
