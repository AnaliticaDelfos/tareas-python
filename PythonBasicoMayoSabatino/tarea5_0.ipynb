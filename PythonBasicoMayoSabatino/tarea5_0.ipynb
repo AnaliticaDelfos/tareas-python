{
 "cells": [
  {
   "cell_type": "code",
   "execution_count": null,
   "metadata": {},
   "outputs": [],
   "source": [
    "#\n",
    "#\n",
    "# EJECUTAR ESTA CELDA CADA VEZ QUE ENTRES A HACER LA TAREA\n",
    "#\n",
    "#\n",
    "\n",
    "#####################################\n",
    "#       Conversiones parte 1\n",
    "#####################################\n",
    "\n",
    "\n",
    "import calificador\n",
    "from controlador import Controlador"
   ]
  },
  {
   "cell_type": "code",
   "execution_count": null,
   "metadata": {},
   "outputs": [],
   "source": [
    "@Controlador(\"5\", \"ejercicio_41\")\n",
    "def ejercicio_41(objeto):\n",
    "    \"\"\"\n",
    "    Título: Convertir a entero\n",
    "\n",
    "    Instrucciones:\n",
    "        Esta función recibe un objeto\n",
    "        y devuelve su representación en número entero.\n",
    "        Usar la función int.\n",
    "    \n",
    "    Ejemplo:\n",
    "        Si cadena = \"324\"\n",
    "        devuelve 324\n",
    "\n",
    "    Recuerda:\n",
    "        Cuida la indentación.\n",
    "\n",
    "    \"\"\"\n",
    "\n",
    "    # Escribe aquí tu código\n",
    "    \n",
    "\n",
    "    # Escribe aquí tu código\n",
    "\n",
    "    return # Escribe aquí tu código"
   ]
  },
  {
   "cell_type": "code",
   "execution_count": null,
   "metadata": {},
   "outputs": [],
   "source": [
    "ejercicio_41(\"324\")"
   ]
  },
  {
   "cell_type": "code",
   "execution_count": null,
   "metadata": {},
   "outputs": [],
   "source": [
    "calificador.califica_ejercicio_41(ejercicio_41)"
   ]
  },
  {
   "cell_type": "code",
   "execution_count": null,
   "metadata": {},
   "outputs": [],
   "source": [
    "@Controlador(\"5\", \"ejercicio_42\")\n",
    "def ejercicio_42(objeto):\n",
    "    \"\"\"\n",
    "    Título: Convertir a float\n",
    "\n",
    "    Instrucciones:\n",
    "        Esta función recibe un objeto y devuelve su\n",
    "        representación en número con punto decimal.\n",
    "        Usar la función float\n",
    "    \n",
    "    Ejemplo:\n",
    "        Si objeto = \"3\"\n",
    "        devuelve 3.0\n",
    "\n",
    "    Recuerda:\n",
    "        Cuida la indentación.\n",
    "\n",
    "    \"\"\"\n",
    "\n",
    "    # Escribe aquí tu código\n",
    "    \n",
    "\n",
    "    # Escribe aquí tu código\n",
    "\n",
    "    return # Escribe aquí tu código"
   ]
  },
  {
   "cell_type": "code",
   "execution_count": null,
   "metadata": {},
   "outputs": [],
   "source": [
    "ejercicio_42(-3.2)"
   ]
  },
  {
   "cell_type": "code",
   "execution_count": null,
   "metadata": {},
   "outputs": [],
   "source": [
    "calificador.califica_ejercicio_42(ejercicio_42)"
   ]
  },
  {
   "cell_type": "code",
   "execution_count": null,
   "metadata": {},
   "outputs": [],
   "source": [
    "@Controlador(\"5\", \"ejercicio_43\")\n",
    "def ejercicio_43(objeto):\n",
    "    \"\"\"\n",
    "    Título: Convertir a cadena de caracteres\n",
    "\n",
    "    Instrucciones:\n",
    "        Esta función recibe un objeto y devuelve\n",
    "        su representación en forma de cadenas de caracteres.\n",
    "        Usar la función str.\n",
    "    \n",
    "    Ejemplo:\n",
    "        Si cadena = 3\n",
    "        devuelve '3'\n",
    "\n",
    "    Recuerda:\n",
    "        Cuida la indentación.\n",
    "\n",
    "    \"\"\"\n",
    "\n",
    "    # Escribe aquí tu código\n",
    "    \n",
    "\n",
    "    # Escribe aquí tu código\n",
    "\n",
    "    return # Escribe aquí tu código"
   ]
  },
  {
   "cell_type": "code",
   "execution_count": null,
   "metadata": {},
   "outputs": [],
   "source": [
    "ejercicio_43(-3)"
   ]
  },
  {
   "cell_type": "code",
   "execution_count": null,
   "metadata": {},
   "outputs": [],
   "source": [
    "calificador.califica_ejercicio_43(ejercicio_43)"
   ]
  },
  {
   "cell_type": "code",
   "execution_count": null,
   "metadata": {},
   "outputs": [],
   "source": [
    "@Controlador(\"5\", \"ejercicio_44\")\n",
    "def ejercicio_44(objeto):\n",
    "    \"\"\"\n",
    "    Título: Combinación de tipos 1\n",
    "\n",
    "    Preámbulo:\n",
    "        Una de las operaciones que se puede hacer\n",
    "        sobre las cadenas de caracteres es concatenarlas\n",
    "        usando el operador +. Por otro lado\n",
    "        se puede repetir una cadena de caracteres\n",
    "        usando el operador *. Por ejemplo\n",
    "        \"hola\" + \"mundo\" produce \"holamundo\" (nota que no hay espacio)\n",
    "        y \"hola\" * 3 produce \"holaholahola\".\n",
    "    \n",
    "    Instrucciones:\n",
    "        Esta función recibe un objeto, el cual puede ser\n",
    "        un entero o una cadena de caracteres.\n",
    "        Realizar el siguiente procedimiento:\n",
    "            - Transformar el objeto a cadena de caracteres.\n",
    "            - Concatenar un \"3\" a la cadena producida en el punto anterior.\n",
    "            - Repetir la cadena producida en el punto anterior 5 veces.\n",
    "            - Convertir el resultado a número entero.\n",
    "            - Multiplicar el entero producido en el punto anterior por 2.\n",
    "            - Devolver la cadena resultante.\n",
    "    \n",
    "    Ejemplo:\n",
    "        Si objeto = \"34\"\n",
    "        devuelve 686686686686686\n",
    "\n",
    "    Recuerda:\n",
    "        Lo que la función \"regresa\" va justo después\n",
    "        de la palabra return\n",
    "\n",
    "    Recuerda:\n",
    "        Cuida la indentación.\n",
    "\n",
    "    \"\"\"\n",
    "\n",
    "    # Escribe aquí tu código\n",
    "    \n",
    "\n",
    "    # Escribe aquí tu código\n",
    "\n",
    "    return  # Escribe aquí tu código"
   ]
  },
  {
   "cell_type": "code",
   "execution_count": null,
   "metadata": {},
   "outputs": [],
   "source": [
    "ejercicio_44(81)"
   ]
  },
  {
   "cell_type": "code",
   "execution_count": null,
   "metadata": {},
   "outputs": [],
   "source": [
    "calificador.califica_ejercicio_44(ejercicio_44)"
   ]
  },
  {
   "cell_type": "code",
   "execution_count": null,
   "metadata": {},
   "outputs": [],
   "source": [
    "@Controlador(\"5\", \"ejercicio_45\")\n",
    "def ejercicio_45(objeto):\n",
    "    \"\"\"\n",
    "    Título: Combinación de tipos 2\n",
    "\n",
    "    Preámbulo:\n",
    "        Las cadenas de caracteres pueden ser accedidas mediante corchetes\n",
    "        y el índice del caracter al que queremos acceder, donde\n",
    "        el índice se inicia a contar desde 0, por ejemplo\n",
    "        cadena = \"Hola\"\n",
    "        cadena[3] nos da \"a\".\n",
    "        Por otro lado, podemos hacer slicing sobre las cadenas\n",
    "        de caracteres (así como sobre listas)\n",
    "        usando la sintaxis cadena[inicio:fin] donde se toman\n",
    "        los elementos desde inicio hasta fin - 1, por ejemplo\n",
    "        saludos = \"Hola mundo\"\n",
    "        saludos[2:4] produce \"la\"\n",
    "    \n",
    "    Instrucciones:\n",
    "        Esta función recibe un objeto, el cual puede ser\n",
    "        un entero o una cadena de caracteres.\n",
    "        Realizar el siguiente procedimiento:\n",
    "            - Transformar el objeto a cadena de caracteres.\n",
    "            - Obtener los elementos que se encuentran entre el índice 1 y el índice 3 (usar slicing).\n",
    "            - Repetir la cadena resultante tantas veces como el primer elemento de la cadena resultante.\n",
    "            - Devolver la cadena resultante.\n",
    "    \n",
    "    Ejemplo:\n",
    "        Si objeto = \"34343\"\n",
    "        devuelve 43434343\n",
    "\n",
    "    Recuerda:\n",
    "        Cuida la indentación.\n",
    "\n",
    "    \"\"\"\n",
    "\n",
    "    # Escribe aquí tu código\n",
    "    \n",
    "\n",
    "    # Escribe aquí tu código\n",
    "\n",
    "    return  # Escribe aquí tu código"
   ]
  },
  {
   "cell_type": "code",
   "execution_count": null,
   "metadata": {},
   "outputs": [],
   "source": [
    "ejercicio_45(321543)"
   ]
  },
  {
   "cell_type": "code",
   "execution_count": null,
   "metadata": {},
   "outputs": [],
   "source": [
    "calificador.califica_ejercicio_45(ejercicio_45)"
   ]
  },
  {
   "cell_type": "code",
   "execution_count": null,
   "metadata": {},
   "outputs": [],
   "source": [
    "@Controlador(\"5\", \"ejercicio_46\")\n",
    "def ejercicio_46(numero):\n",
    "    \"\"\"\n",
    "    Título: Contar dígitos\n",
    "\n",
    "    Instrucciones:\n",
    "        Esta función recibe un número entero positivo\n",
    "        y devuelve la cantidad de dígitos que posee.\n",
    "\n",
    "\n",
    "    Ejemplo:\n",
    "        Si numero = 2324\n",
    "        devuelve 4\n",
    "\n",
    "    Recuerda:\n",
    "        Cuida la indentación.\n",
    "\n",
    "    \"\"\"\n",
    "\n",
    "    # Escribe aquí tu código\n",
    "    \n",
    "\n",
    "    # Escribe aquí tu código\n",
    "\n",
    "    return # Escribe aquí tu código"
   ]
  },
  {
   "cell_type": "code",
   "execution_count": null,
   "metadata": {},
   "outputs": [],
   "source": [
    "ejercicio_46(123)"
   ]
  },
  {
   "cell_type": "code",
   "execution_count": null,
   "metadata": {},
   "outputs": [],
   "source": [
    "calificador.califica_ejercicio_46(ejercicio_46)"
   ]
  },
  {
   "cell_type": "code",
   "execution_count": null,
   "metadata": {},
   "outputs": [],
   "source": [
    "@Controlador(\"5\", \"ejercicio_47\")\n",
    "def ejercicio_47(numero):\n",
    "    \"\"\"\n",
    "    Título: Convertir a monedas\n",
    "\n",
    "    Preámbulo:\n",
    "        Uno de los tratamientos comunes entre números y cadenas de caracteres\n",
    "        es cuando se necesita que el número se represente con caracteres\n",
    "        especiales en ciertos lugares de la cadena resultante, como es el\n",
    "        caso de mostrar números con formato de moneda, por ejemplo\n",
    "        el número 1000 se podría mostrar como $1,000.00.\n",
    "        Python tiene una forma de separar los números de esa forma\n",
    "        usando las f-string de la siguiente manera:\n",
    "        f\"{numero:,.2f}\" donde se sustituye numero\n",
    "        por el número deseado.\n",
    "\n",
    "    Instrucciones:\n",
    "        Esta función recibe como argumento un número y devuelve\n",
    "        ese número en formato de moneda, es decir con comas\n",
    "        cada 3 dígitos de derecha a izquierda, con un .00 adicional\n",
    "        al final.\n",
    "        La cadena resultante debe incluir el signo de pesos $\n",
    "\n",
    "    Ejemplo:\n",
    "        Si numero = 2344\n",
    "        devuelve $2,344.00\n",
    "\n",
    "    Recuerda:\n",
    "        Cuida la indentación.\n",
    "\n",
    "    \"\"\"\n",
    "\n",
    "    # Escribe aquí tu código\n",
    "    \n",
    "\n",
    "    # Escribe aquí tu código\n",
    "\n",
    "    return # Escribe aquí tu código"
   ]
  },
  {
   "cell_type": "code",
   "execution_count": null,
   "metadata": {},
   "outputs": [],
   "source": [
    "ejercicio_47(2344)"
   ]
  },
  {
   "cell_type": "code",
   "execution_count": null,
   "metadata": {},
   "outputs": [],
   "source": [
    "calificador.califica_ejercicio_47(ejercicio_47)"
   ]
  },
  {
   "cell_type": "code",
   "execution_count": null,
   "metadata": {},
   "outputs": [],
   "source": [
    "@Controlador(\"5\", \"ejercicio_48\")\n",
    "def ejercicio_48(caracter, numero):\n",
    "    \"\"\"\n",
    "    Título: Orden de caracteres\n",
    "\n",
    "    Preámbulo:\n",
    "        En Python es posible conocer el orden numérico \n",
    "        de cualquier caracter correspondiendo su valor con \n",
    "        la codificacion unicode.\n",
    "        Para obtener el valor anterior se usa la función ord\n",
    "        y dándole como argumento una cadena de caractere con \n",
    "        exactamente un caracter.\n",
    "        Por otro lado, la función chr toma un número\n",
    "        y devuelve su representación como caracter.\n",
    "\n",
    "    Por ejemplo:\n",
    "        ord(\"1\") devuelve 49\n",
    "        chr(49) devuelve \"1\"\n",
    "\n",
    "    Instrucciones:\n",
    "        Esta función recibe una cadena de caracteres con un único\n",
    "        caracter y un número, suma el número a la codificación\n",
    "        unicode del caracter y devuelve el caracter resultante.\n",
    "\n",
    "    Recuerda:\n",
    "        Cuida la indentación.\n",
    "\n",
    "    \"\"\"\n",
    "\n",
    "    # Escribe aquí tu código\n",
    "    \n",
    "\n",
    "    # Escribe aquí tu código\n",
    "\n",
    "    return # Escribe aquí tu código"
   ]
  },
  {
   "cell_type": "code",
   "execution_count": null,
   "metadata": {},
   "outputs": [],
   "source": [
    "ejercicio_48(\"A\", -5)"
   ]
  },
  {
   "cell_type": "code",
   "execution_count": null,
   "metadata": {},
   "outputs": [],
   "source": [
    "calificador.califica_ejercicio_48(ejercicio_48)"
   ]
  },
  {
   "cell_type": "code",
   "execution_count": null,
   "metadata": {},
   "outputs": [],
   "source": [
    "@Controlador(\"4\", \"ejercicio_49\")\n",
    "def ejercicio_49(numero, reemplazo):\n",
    "    \"\"\"\n",
    "    Título: Convertir numero a cadena en binario\n",
    "\n",
    "    Preámbulo:\n",
    "        Existen varias formas de convertir un número a su representación\n",
    "        binaria, sin embargo, una de las más sencillas y usar la función\n",
    "        format, dándole como primer argumento el número y como segundo\n",
    "        argumento el modo \"b\".\n",
    "    \n",
    "        Por ejemplo:\n",
    "            format(123, \"b\") devuelve '1111011'\n",
    "\n",
    "        Adicionalmente, la función int puede convertir una cadena de caracteres\n",
    "        que represente un número binario a su representación decimal, dándole\n",
    "        como primer argumento el número en binario y como segundo argumento\n",
    "        un 2, que representa que el número recibido está en base 2.\n",
    "\n",
    "        Por ejemplo:\n",
    "            int(\"11\", 2) devuelve 3\n",
    "\n",
    "    Instrucciones:\n",
    "        Esta función recibe un número y un caracter de reemplazo,\n",
    "        ese caracter de reemplazo puede ser un 0 o 1,\n",
    "        esta función convierte el número a binario, reemplza el \n",
    "        primer dígito de ese número binario con el caracter de reemplazo,\n",
    "        luego convierte el resultado a entero y devuelve dicho entero.\n",
    "    \n",
    "    Ejemplo:\n",
    "        Si numero = 21\n",
    "        y reemplazo = 0\n",
    "        devuelve 5\n",
    "\n",
    "    Restricciones:\n",
    "        Por defecto, las cadenas de caracteres son inmutables en Python\n",
    "        es decir, una vez creadas, no se pueden modificar, deberás crear una nueva.\n",
    "    \n",
    "    Recuerda:\n",
    "        Cuida la indentación.\n",
    "\n",
    "    \"\"\"\n",
    "\n",
    "    # Escribe aquí tu código\n",
    "    \n",
    "\n",
    "    # Escribe aquí tu código\n",
    "\n",
    "    return # Escribe aquí tu código"
   ]
  },
  {
   "cell_type": "code",
   "execution_count": null,
   "metadata": {},
   "outputs": [],
   "source": [
    "ejercicio_49(10, 0)"
   ]
  },
  {
   "cell_type": "code",
   "execution_count": null,
   "metadata": {},
   "outputs": [],
   "source": [
    "calificador.califica_ejercicio_49(ejercicio_49)"
   ]
  },
  {
   "cell_type": "code",
   "execution_count": null,
   "metadata": {},
   "outputs": [],
   "source": [
    "@Controlador(\"5\", \"ejercicio_50\")\n",
    "def ejercicio_50(numero):\n",
    "    \"\"\"\n",
    "    Titulo: Convertir a Hexadecimal\n",
    "\n",
    "    Preámbulo:\n",
    "        Similar a lo que se hizo en ejercicios anteriores, también\n",
    "        se puede usar la función format para convertir un número\n",
    "        entero a su representación hexadecimal, dándole como segundo argumento \n",
    "        una 'x'.\n",
    "\n",
    "    Instrucciones:\n",
    "        Esta función recibe un número y devuelve su representación \n",
    "        en hexadecimal, como cadena de caracteres.\n",
    "\n",
    "    Ejemplo:\n",
    "        Si numero = 123\n",
    "        devuelve '7b'\n",
    "\n",
    "    Recuerda:\n",
    "        Cuida la indentación.\n",
    "        \n",
    "    \"\"\"\n",
    "\n",
    "    # Escribe aquí tu código\n",
    "\n",
    "    # Escribe aquí tu código\n",
    "\n",
    "    return  # Escribe aquí tu código"
   ]
  },
  {
   "cell_type": "code",
   "execution_count": null,
   "metadata": {},
   "outputs": [],
   "source": [
    "ejercicio_50(123)"
   ]
  },
  {
   "cell_type": "code",
   "execution_count": null,
   "metadata": {},
   "outputs": [],
   "source": [
    "calificador.califica_ejercicio_50(ejercicio_50)"
   ]
  }
 ],
 "metadata": {
  "kernelspec": {
   "display_name": "infotec",
   "language": "python",
   "name": "python3"
  },
  "language_info": {
   "codemirror_mode": {
    "name": "ipython",
    "version": 3
   },
   "file_extension": ".py",
   "mimetype": "text/x-python",
   "name": "python",
   "nbconvert_exporter": "python",
   "pygments_lexer": "ipython3",
   "version": "3.11.5"
  }
 },
 "nbformat": 4,
 "nbformat_minor": 2
}
