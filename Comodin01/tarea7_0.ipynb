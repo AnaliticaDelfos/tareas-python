{
 "cells": [
  {
   "cell_type": "code",
   "execution_count": 1,
   "metadata": {},
   "outputs": [],
   "source": [
    "#\n",
    "#\n",
    "# EJECUTAR ESTA CELDA CADA VEZ QUE ENTRES A HACER LA TAREA\n",
    "#\n",
    "#\n",
    "\n",
    "#####################################\n",
    "# Estructuras de datos\n",
    "#####################################\n",
    "\n",
    "\n",
    "import calificador\n",
    "from controlador import Controlador"
   ]
  },
  {
   "cell_type": "code",
   "execution_count": 19,
   "metadata": {},
   "outputs": [],
   "source": [
    "@Controlador(\"7\", \"ejercicio_61\")\n",
    "def ejercicio_61(x):\n",
    "    \"\"\"\n",
    "    Instrucciones:\n",
    "        La función \"ejercicio_61\" toma el parámetro \"x\" y  \n",
    "        lo agrega al final de la lista: [1,2,3,4] para \n",
    "        despues regresar dicha lista con \"x\" como último\n",
    "        elemento.\n",
    "\n",
    "    Condiciones:\n",
    "        El parámetro \"x\" debe ser el número entero 5.\n",
    "\n",
    "    Recuerda:\n",
    "        Revisa el método .append()\n",
    "\n",
    "        Lo que la función \"regresa\" es justo lo que va después \n",
    "        de la palabra reservada \"return\".\n",
    "        \n",
    "        Cuida la indentación.\n",
    "    \"\"\"\n",
    "    \n",
    "    # Escribe aquí tu código ↓\n",
    "    \n",
    "    \n",
    "    # Escribe aquí tu código ↑\n",
    "    \n",
    "    return # ← Escribe aquí tu código\n"
   ]
  },
  {
   "cell_type": "code",
   "execution_count": 20,
   "metadata": {},
   "outputs": [
    {
     "name": "stdout",
     "output_type": "stream",
     "text": [
      "===============================================================================\n",
      "\n",
      "============> Calificando: tarea 7 - ejercicio ejercicio_61 <============\n",
      "\n",
      "===============================================================================\n",
      "\n",
      "\n",
      "======================================================\n",
      "            ||          Calificación: 0.0            \n",
      "            ||          Aciertos: 0                   \n",
      "            ||          Errores: 1                     \n",
      "======================================================\n",
      "    \n",
      "======> Casos existosos: <======\n",
      "\n",
      "\u001b[0;31m======> Casos con error <======\n",
      "\u001b[00m\n",
      "\u001b[0;34m Valores de entrada: 5.             \u001b[0;35m Valor esperado: [[1, 2, 3, 4, 5]].             \u001b[0;36m Valor obtenido: [1, 2, 3, 4, 5]\n",
      "\u001b[00m\n",
      "\u001b[0;32m============> Calificación recibida <============\n",
      "\n"
     ]
    }
   ],
   "source": [
    "calificador.califica_ejercicio_61(ejercicio_61)"
   ]
  },
  {
   "cell_type": "code",
   "execution_count": 21,
   "metadata": {},
   "outputs": [],
   "source": [
    "@Controlador(\"7\", \"ejercicio_62\")\n",
    "def ejercicio_62():\n",
    "    \"\"\"\n",
    "    Instrucciones:\n",
    "        La función \"ejercicio_62\" no toma ningún parámetro\n",
    "        y regresa una tupla con los elementos \"a\", \"b\", \"c\"\n",
    "        es decir, debe regresar una tupla con tres elementos.\n",
    "\n",
    "    Recuerda:\n",
    "        Lo que la función \"regresa\" es justo lo que va después \n",
    "        de la palabra reservada \"return\".\n",
    "        \n",
    "        Cuida la indentación\n",
    "    \"\"\"\n",
    "    \n",
    "    # Escribe aquí tu código ↓\n",
    "    \n",
    "    \n",
    "    # Escribe aquí tu código ↑\n",
    "     \n",
    "    return # ← Escribe aquí tu código"
   ]
  },
  {
   "cell_type": "code",
   "execution_count": 22,
   "metadata": {},
   "outputs": [
    {
     "name": "stdout",
     "output_type": "stream",
     "text": [
      "===============================================================================\n",
      "\n",
      "============> Calificando: tarea 7 - ejercicio ejercicio_62 <============\n",
      "\n",
      "===============================================================================\n",
      "\n",
      "\n",
      "======================================================\n",
      "            ||          Calificación: 100.0            \n",
      "            ||          Aciertos: 1                   \n",
      "            ||          Errores: 0                     \n",
      "======================================================\n",
      "    \n",
      "======> Casos existosos: <======\n",
      "\n",
      "\u001b[0;34mValores de entrada: N/A.         \u001b[0;35mValor esperado: ('a', 'b', 'c').         \u001b[0;36mValor obtenido: ('a', 'b', 'c')\n",
      "\n",
      "======> No hubo errores :D <======\n",
      "\n",
      "\u001b[0;32m============> Calificación recibida <============\n",
      "\n"
     ]
    }
   ],
   "source": [
    "calificador.califica_ejercicio_62(ejercicio_62)"
   ]
  },
  {
   "cell_type": "code",
   "execution_count": 23,
   "metadata": {},
   "outputs": [],
   "source": [
    "@Controlador(\"7\", \"ejercicio_63\")\n",
    "def ejercicio_63(lista):\n",
    "    \"\"\"\n",
    "    Instrucciones:\n",
    "        La función \"ejercicio_63\" toma el parámetro \"lista\" \n",
    "        y regresa su longitud.\n",
    "\n",
    "    Condiciones:\n",
    "        El parámetro \"lista\" debe ser una lista con la cantidad\n",
    "        de elementos que tu decidas.\n",
    "\n",
    "    Recuerda:\n",
    "        Revisa la función len()\n",
    "\n",
    "        Lo que la función \"regresa\" es justo lo que va después \n",
    "        de la palabra reservada \"return\".\n",
    "        \n",
    "        Cuida la indentación.\n",
    "    \"\"\"\n",
    "    \n",
    "    # Escribe aquí tu código ↓\n",
    "    \n",
    "    \n",
    "    # Escribe aquí tu código ↑\n",
    "    \n",
    "    return # ← Escribe aquí tu código"
   ]
  },
  {
   "cell_type": "code",
   "execution_count": 24,
   "metadata": {},
   "outputs": [
    {
     "name": "stdout",
     "output_type": "stream",
     "text": [
      "===============================================================================\n",
      "\n",
      "============> Calificando: tarea 7 - ejercicio ejercicio_63 <============\n",
      "\n",
      "===============================================================================\n",
      "\n",
      "\n",
      "======================================================\n",
      "            ||          Calificación: 100.0            \n",
      "            ||          Aciertos: 4                   \n",
      "            ||          Errores: 0                     \n",
      "======================================================\n",
      "    \n",
      "======> Casos existosos: <======\n",
      "\n",
      "\u001b[0;34m Valores de entrada: [].             \u001b[0;35m Valor esperado: 0.             \u001b[0;36m Valor obtenido: 0\n",
      "\u001b[00m\n",
      "\u001b[0;34m Valores de entrada: [1, 2, 3].             \u001b[0;35m Valor esperado: 3.             \u001b[0;36m Valor obtenido: 3\n",
      "\u001b[00m\n",
      "\u001b[0;34m Valores de entrada: [1, 2, 3, 4, 5, 6, 7, 8, 9, 10].             \u001b[0;35m Valor esperado: 10.             \u001b[0;36m Valor obtenido: 10\n",
      "\u001b[00m\n",
      "\u001b[0;34m Valores de entrada: [0, 1, 2, 3, 4, 5, 6, 7, 8, 9, 10, 11, 12, 13, 14, 15, 16, 17, 18, 19, 20, 21, 22, 23, 24, 25, 26, 27, 28, 29, 30, 31, 32, 33, 34, 35, 36, 37, 38, 39, 40, 41, 42, 43, 44, 45, 46, 47, 48, 49, 50, 51, 52, 53, 54, 55, 56, 57, 58, 59, 60, 61, 62, 63, 64, 65, 66, 67, 68, 69, 70, 71, 72, 73, 74, 75, 76, 77, 78, 79, 80, 81, 82, 83, 84, 85, 86, 87, 88, 89, 90, 91, 92, 93, 94, 95, 96, 97, 98, 99].             \u001b[0;35m Valor esperado: 100.             \u001b[0;36m Valor obtenido: 100\n",
      "\u001b[00m\n",
      "======> No hubo errores :D <======\n",
      "\n",
      "\u001b[0;32m============> Calificación recibida <============\n",
      "\n"
     ]
    }
   ],
   "source": [
    "calificador.califica_ejercicio_63(ejercicio_63)"
   ]
  },
  {
   "cell_type": "code",
   "execution_count": 31,
   "metadata": {},
   "outputs": [],
   "source": [
    "@Controlador(\"7\", \"ejercicio_64\")\n",
    "def ejercicio_64(x):\n",
    "    \"\"\"\n",
    "    Instrucciones:\n",
    "        La función \"ejercicio_64\" toma el parámetro \"x\" \n",
    "        y debe regresar una tupla que contenga como \n",
    "        único elemento al resultado de elevar \"x\"\n",
    "        al cuadrado.\n",
    "\n",
    "    Condiciones:\n",
    "        El parámetro \"x\" debe ser un número entero (int)\n",
    "        o decimal (float).\n",
    "\n",
    "    Recuerda:\n",
    "        Lo que la función \"regresa\" es justo lo que va después \n",
    "        de la palabra reservada \"return\".\n",
    "        \n",
    "        Cuida la indentación.\n",
    "    \"\"\"\n",
    "    \n",
    "    # Escribe aquí tu código ↓\n",
    "    \n",
    "\n",
    "    # Escribe aquí tu código ↑\n",
    "    \n",
    "    return # ← Escribe aquí tu código"
   ]
  },
  {
   "cell_type": "code",
   "execution_count": 32,
   "metadata": {},
   "outputs": [
    {
     "name": "stdout",
     "output_type": "stream",
     "text": [
      "===============================================================================\n",
      "\n",
      "============> Calificando: tarea 7 - ejercicio ejercicio_64 <============\n",
      "\n",
      "===============================================================================\n",
      "\n",
      "\n",
      "======================================================\n",
      "            ||          Calificación: 75.0            \n",
      "            ||          Aciertos: 3                   \n",
      "            ||          Errores: 1                     \n",
      "======================================================\n",
      "    \n",
      "======> Casos existosos: <======\n",
      "\n",
      "\u001b[0;34m Valores de entrada: 1.             \u001b[0;35m Valor esperado: (1,).             \u001b[0;36m Valor obtenido: (1,)\n",
      "\u001b[00m\n",
      "\u001b[0;34m Valores de entrada: 2.             \u001b[0;35m Valor esperado: (4,).             \u001b[0;36m Valor obtenido: (4,)\n",
      "\u001b[00m\n",
      "\u001b[0;34m Valores de entrada: -5.             \u001b[0;35m Valor esperado: (25,).             \u001b[0;36m Valor obtenido: (25,)\n",
      "\u001b[00m\n",
      "\u001b[0;31m======> Casos con error <======\n",
      "\u001b[00m\n",
      "\u001b[0;34m Valores de entrada: 1.5.             \u001b[0;35m Valor esperado: 2.25.             \u001b[0;36m Valor obtenido: (2.25,)\n",
      "\u001b[00m\n",
      "\u001b[0;32m============> Calificación recibida <============\n",
      "\n"
     ]
    }
   ],
   "source": [
    "calificador.califica_ejercicio_64(ejercicio_64)"
   ]
  },
  {
   "cell_type": "code",
   "execution_count": 33,
   "metadata": {},
   "outputs": [],
   "source": [
    "@Controlador(\"7\", \"ejercicio_65\")\n",
    "def ejercicio_65():\n",
    "    \"\"\"\n",
    "    Instrucciones:\n",
    "        La función \"ejercicio_65\" no toma ningún parámetro\n",
    "        y regresa una lista vacía.\n",
    "\n",
    "    Recuerda:\n",
    "        Lo que la función \"regresa\" es justo lo que va después \n",
    "        de la palabra reservada \"return\".\n",
    "        \n",
    "        Cuida la indentación\n",
    "    \"\"\"\n",
    "    \n",
    "    # Escribe aquí tu código ↓\n",
    "    \n",
    "    \n",
    "    # Escribe aquí tu código ↑\n",
    "    \n",
    "    return # ← Escribe aquí tu código"
   ]
  },
  {
   "cell_type": "code",
   "execution_count": 34,
   "metadata": {},
   "outputs": [
    {
     "name": "stdout",
     "output_type": "stream",
     "text": [
      "===============================================================================\n",
      "\n",
      "============> Calificando: tarea 7 - ejercicio ejercicio_65 <============\n",
      "\n",
      "===============================================================================\n",
      "\n",
      "\n",
      "======================================================\n",
      "            ||          Calificación: 100.0            \n",
      "            ||          Aciertos: 1                   \n",
      "            ||          Errores: 0                     \n",
      "======================================================\n",
      "    \n",
      "======> Casos existosos: <======\n",
      "\n",
      "\u001b[0;34mValores de entrada: N/A.         \u001b[0;35mValor esperado: [].         \u001b[0;36mValor obtenido: []\n",
      "\n",
      "======> No hubo errores :D <======\n",
      "\n",
      "\u001b[0;32m============> Calificación recibida <============\n",
      "\n"
     ]
    }
   ],
   "source": [
    "calificador.califica_ejercicio_65(ejercicio_65)"
   ]
  },
  {
   "cell_type": "code",
   "execution_count": 45,
   "metadata": {},
   "outputs": [],
   "source": [
    "@Controlador(\"7\", \"ejercicio_66\")\n",
    "def ejercicio_66():\n",
    "    \"\"\"\n",
    "    Instrucciones: \n",
    "        La función \"ejercicio_66\" no toma nada como parámetro\n",
    "        de debe regresar la longitud de un diccionario. \n",
    "\n",
    "    Condiciones:\n",
    "        El diccionario debe contener 3 pares clave-valor que\n",
    "        puedes definir a tu gusto.\n",
    "\n",
    "    Recuerda:\n",
    "        Revisa la función len()\n",
    "\n",
    "        Lo que la función \"regresa\" es justo lo que va después \n",
    "        de la palabra reservada \"return\".\n",
    "        \n",
    "        Cuida la indentación.\n",
    "    \"\"\"\n",
    "    \n",
    "    # Escribe aquí tu código ↓\n",
    "    \n",
    "    \n",
    "    # Escribe aquí tu código ↑\n",
    "    \n",
    "    return # ← Escribe aquí tu código"
   ]
  },
  {
   "cell_type": "code",
   "execution_count": 46,
   "metadata": {},
   "outputs": [
    {
     "name": "stdout",
     "output_type": "stream",
     "text": [
      "===============================================================================\n",
      "\n",
      "============> Calificando: tarea 7 - ejercicio ejercicio_66 <============\n",
      "\n",
      "===============================================================================\n",
      "\n",
      "\n",
      "======================================================\n",
      "            ||          Calificación: 25.0            \n",
      "            ||          Aciertos: 1                   \n",
      "            ||          Errores: 3                     \n",
      "======================================================\n",
      "    \n",
      "======> Casos existosos: <======\n",
      "\n",
      "\u001b[0;34m Valores de entrada: {'Uno': 1, 'Dos': 2, 'Tres': 3}.             \u001b[0;35m Valor esperado: 3.             \u001b[0;36m Valor obtenido: 3\n",
      "\u001b[00m\n",
      "\u001b[0;31m======> Casos con error <======\n",
      "\u001b[00m\n",
      "\u001b[0;34m Valores de entrada: {}.             \u001b[0;35m Valor esperado: 0.             \u001b[0;36m Valor obtenido: 3\n",
      "\u001b[00m\n",
      "\u001b[0;34m Valores de entrada: {'Dia': 'Martes'}.             \u001b[0;35m Valor esperado: 1.             \u001b[0;36m Valor obtenido: 3\n",
      "\u001b[00m\n",
      "\u001b[0;34m Valores de entrada: {'Curso': 'Python de la a a la z', 'Fecha': '17 de enero'}.             \u001b[0;35m Valor esperado: 2.             \u001b[0;36m Valor obtenido: 3\n",
      "\u001b[00m\n",
      "\u001b[0;32m============> Calificación recibida <============\n",
      "\n"
     ]
    }
   ],
   "source": [
    "calificador.califica_ejercicio_66(ejercicio_66)"
   ]
  },
  {
   "cell_type": "code",
   "execution_count": 47,
   "metadata": {},
   "outputs": [],
   "source": [
    "@Controlador(\"7\", \"ejercicio_67\")\n",
    "def ejercicio_67(a):\n",
    "    \"\"\"\n",
    "    Instrucciones:\n",
    "        La función \"ejercicio_67\" toma el parámetro \"a\" y,\n",
    "        debe regresar un diccionario con un par-clave valor\n",
    "        en el que la clave sea \"Comida\" y el valor el elemento\n",
    "        obtenido del parámetro \"a\".\n",
    "\n",
    "    Condiciones:\n",
    "        El parámetro \"a\" debe ser una cadena de caracteres (str)\n",
    "        que represente algún nombre de una comida, puede ser\n",
    "        tu comida favorita.\n",
    "        \n",
    "    Recuerda:\n",
    "        Lo que la función \"regresa\" es justo lo que va después \n",
    "        de la palabra reservada \"return\".\n",
    "        \n",
    "        Cuida la indentación.\n",
    "    \"\"\"\n",
    "    \n",
    "    # Escribe aquí tu código ↓\n",
    "    \n",
    "    \n",
    "    # Escribe aquí tu código ↑\n",
    "    \n",
    "    return # ← Escribe aquí tu código"
   ]
  },
  {
   "cell_type": "code",
   "execution_count": 48,
   "metadata": {},
   "outputs": [
    {
     "name": "stdout",
     "output_type": "stream",
     "text": [
      "===============================================================================\n",
      "\n",
      "============> Calificando: tarea 7 - ejercicio ejercicio_67 <============\n",
      "\n",
      "===============================================================================\n",
      "\n",
      "\n",
      "======================================================\n",
      "            ||          Calificación: 100.0            \n",
      "            ||          Aciertos: 2                   \n",
      "            ||          Errores: 0                     \n",
      "======================================================\n",
      "    \n",
      "======> Casos existosos: <======\n",
      "\n",
      "\u001b[0;34m Valores de entrada: Tacos.             \u001b[0;35m Valor esperado: {'Comida': 'Tacos'}.             \u001b[0;36m Valor obtenido: {'Comida': 'Tacos'}\n",
      "\u001b[00m\n",
      "\u001b[0;34m Valores de entrada: Enchiladas.             \u001b[0;35m Valor esperado: {'Comida': 'Enchiladas'}.             \u001b[0;36m Valor obtenido: {'Comida': 'Enchiladas'}\n",
      "\u001b[00m\n",
      "======> No hubo errores :D <======\n",
      "\n",
      "\u001b[0;32m============> Calificación recibida <============\n",
      "\n"
     ]
    }
   ],
   "source": [
    "calificador.califica_ejercicio_67(ejercicio_67)"
   ]
  },
  {
   "cell_type": "code",
   "execution_count": 49,
   "metadata": {},
   "outputs": [],
   "source": [
    "@Controlador(\"7\", \"ejercicio_68\")\n",
    "def ejercicio_68():\n",
    "    \"\"\"\n",
    "    Instrucciones:\n",
    "        La función \"ejercicio_68\" no toma ningún parámetro\n",
    "        y regresa una tupla vacía.\n",
    "\n",
    "    Recuerda:\n",
    "        Lo que la función \"regresa\" es justo lo que va después \n",
    "        de la palabra reservada \"return\".\n",
    "        \n",
    "        Cuida la indentación\n",
    "    \"\"\"\n",
    "    \n",
    "    # Escribe aquí tu código ↓\n",
    "    \n",
    "    \n",
    "    # Escribe aquí tu código ↑\n",
    "    \n",
    "    return # ← Escribe aquí tu código"
   ]
  },
  {
   "cell_type": "code",
   "execution_count": 50,
   "metadata": {},
   "outputs": [
    {
     "name": "stdout",
     "output_type": "stream",
     "text": [
      "===============================================================================\n",
      "\n",
      "============> Calificando: tarea 7 - ejercicio ejercicio_68 <============\n",
      "\n",
      "===============================================================================\n",
      "\n",
      "\n",
      "======================================================\n",
      "            ||          Calificación: 100.0            \n",
      "            ||          Aciertos: 1                   \n",
      "            ||          Errores: 0                     \n",
      "======================================================\n",
      "    \n",
      "======> Casos existosos: <======\n",
      "\n",
      "\u001b[0;34mValores de entrada: N/A.         \u001b[0;35mValor esperado: ().         \u001b[0;36mValor obtenido: ()\n",
      "\n",
      "======> No hubo errores :D <======\n",
      "\n",
      "\u001b[0;32m============> Calificación recibida <============\n",
      "\n"
     ]
    }
   ],
   "source": [
    "calificador.califica_ejercicio_68(ejercicio_68)"
   ]
  },
  {
   "cell_type": "code",
   "execution_count": 53,
   "metadata": {},
   "outputs": [],
   "source": [
    "@Controlador(\"7\", \"ejercicio_69\")\n",
    "def ejercicio_69(i, x):\n",
    "    \"\"\"\n",
    "    Instrucciones:\n",
    "        La función \"ejercicio_69\" toma el parámetro \"i\", \"x\"\n",
    "        y, agrega el valor correspondiente a \"x\" en la \n",
    "        posición del indice determinado por \"i\" a la siguiente\n",
    "        lista: [\"Canario\", \"Gato\", \"Pez\"] para despues \n",
    "        regresar dicha lista ya modificada.\n",
    "\n",
    "    Condiciones:\n",
    "        El parámetro \"i\" debe ser el número entero del \n",
    "        índice donde queremos agregar nuestra \"x\" dentro de\n",
    "        la lista indicada.\n",
    "\n",
    "        El parámetro \"x\" debe ser una cadena de caracteres con\n",
    "        el nombre de algún animal con la primer letra en mayúsculas.\n",
    "\n",
    "    Recuerda:\n",
    "        Revisa el método .insert()\n",
    "\n",
    "        Lo que la función \"regresa\" es justo lo que va después \n",
    "        de la palabra reservada \"return\".\n",
    "        \n",
    "        Cuida la indentación.\n",
    "    \"\"\"\n",
    "    \n",
    "    # Escribe aquí tu código ↓\n",
    " \n",
    "\n",
    "    # Escribe aquí tu código ↑\n",
    "    \n",
    "    return # ← Escribe aquí tu código\n"
   ]
  },
  {
   "cell_type": "code",
   "execution_count": 54,
   "metadata": {},
   "outputs": [
    {
     "name": "stdout",
     "output_type": "stream",
     "text": [
      "===============================================================================\n",
      "\n",
      "============> Calificando: tarea 7 - ejercicio ejercicio_69 <============\n",
      "\n",
      "===============================================================================\n",
      "\n",
      "\n",
      "======================================================\n",
      "            ||          Calificación: 100.0            \n",
      "            ||          Aciertos: 4                   \n",
      "            ||          Errores: 0                     \n",
      "======================================================\n",
      "    \n",
      "======> Casos existosos: <======\n",
      "\n",
      "\u001b[0;34mValores de entrada: [0, 'Perro'].             \u001b[0;35mValor esperado: ['Perro', 'Canario', 'Gato', 'Pez'].             \u001b[0;36mValor obtenido: ['Perro', 'Canario', 'Gato', 'Pez']\n",
      "\n",
      "\u001b[0;34mValores de entrada: [1, 'Perro'].             \u001b[0;35mValor esperado: ['Canario', 'Perro', 'Gato', 'Pez'].             \u001b[0;36mValor obtenido: ['Canario', 'Perro', 'Gato', 'Pez']\n",
      "\n",
      "\u001b[0;34mValores de entrada: [2, 'Conejo'].             \u001b[0;35mValor esperado: ['Canario', 'Gato', 'Conejo', 'Pez'].             \u001b[0;36mValor obtenido: ['Canario', 'Gato', 'Conejo', 'Pez']\n",
      "\n",
      "\u001b[0;34mValores de entrada: [3, 'Conejo'].             \u001b[0;35mValor esperado: ['Canario', 'Gato', 'Pez', 'Conejo'].             \u001b[0;36mValor obtenido: ['Canario', 'Gato', 'Pez', 'Conejo']\n",
      "\n",
      "======> No hubo errores :D <======\n",
      "\n",
      "\u001b[0;32m============> Calificación recibida <============\n",
      "\n"
     ]
    }
   ],
   "source": [
    "calificador.califica_ejercicio_69(ejercicio_69)"
   ]
  },
  {
   "cell_type": "code",
   "execution_count": 55,
   "metadata": {},
   "outputs": [],
   "source": [
    "@Controlador(\"7\", \"ejercicio_70\")\n",
    "def ejercicio_70():\n",
    "    \"\"\"\n",
    "    Instrucciones:\n",
    "        La función \"ejercicio_70\" no toma ningún parámetro\n",
    "        y regresa una lista con los elementos: 1, (2, 3), 4  \n",
    "        es decir, debe regresar una lista con tres elementos,\n",
    "        de los cuales dos son numeros enteros y uno es una tupla\n",
    "        con dos elementos.\n",
    "\n",
    "    Recuerda:\n",
    "        Lo que la función \"regresa\" es justo lo que va después \n",
    "        de la palabra reservada \"return\".\n",
    "        \n",
    "        Cuida la indentación\n",
    "    \"\"\"\n",
    "    \n",
    "    # Escribe aquí tu código ↓\n",
    "    \n",
    "    \n",
    "    # Escribe aquí tu código ↑\n",
    "    \n",
    "    return # ← Escribe aquí tu código"
   ]
  },
  {
   "cell_type": "code",
   "execution_count": 56,
   "metadata": {},
   "outputs": [
    {
     "name": "stdout",
     "output_type": "stream",
     "text": [
      "===============================================================================\n",
      "\n",
      "============> Calificando: tarea 7 - ejercicio ejercicio_70 <============\n",
      "\n",
      "===============================================================================\n",
      "\n",
      "\n",
      "======================================================\n",
      "            ||          Calificación: 100.0            \n",
      "            ||          Aciertos: 1                   \n",
      "            ||          Errores: 0                     \n",
      "======================================================\n",
      "    \n",
      "======> Casos existosos: <======\n",
      "\n",
      "\u001b[0;34mValores de entrada: N/A.         \u001b[0;35mValor esperado: [1, (2, 3), 4].         \u001b[0;36mValor obtenido: [1, (2, 3), 4]\n",
      "\n",
      "======> No hubo errores :D <======\n",
      "\n",
      "\u001b[0;32m============> Calificación recibida <============\n",
      "\n"
     ]
    }
   ],
   "source": [
    "calificador.califica_ejercicio_70(ejercicio_70)"
   ]
  }
 ],
 "metadata": {
  "kernelspec": {
   "display_name": "infotec",
   "language": "python",
   "name": "python3"
  },
  "language_info": {
   "codemirror_mode": {
    "name": "ipython",
    "version": 3
   },
   "file_extension": ".py",
   "mimetype": "text/x-python",
   "name": "python",
   "nbconvert_exporter": "python",
   "pygments_lexer": "ipython3",
   "version": "3.10.10"
  }
 },
 "nbformat": 4,
 "nbformat_minor": 2
}
