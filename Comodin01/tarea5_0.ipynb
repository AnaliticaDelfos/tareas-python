{
 "cells": [
  {
   "cell_type": "code",
   "execution_count": 16,
   "metadata": {},
   "outputs": [],
   "source": [
    "#\n",
    "#\n",
    "# EJECUTAR ESTA CELDA CADA VEZ QUE ENTRES A HACER LA TAREA\n",
    "#\n",
    "#\n",
    "\n",
    "#####################################\n",
    "# Conversiones\n",
    "#####################################\n",
    "\n",
    "\n",
    "import calificador\n",
    "from controlador import Controlador"
   ]
  },
  {
   "cell_type": "code",
   "execution_count": 26,
   "metadata": {},
   "outputs": [],
   "source": [
    "@Controlador(\"5\", \"ejercicio_41\")\n",
    "def ejercicio_41(int):\n",
    "    \"\"\"\n",
    "    Instrucciones:\n",
    "        La función \"ejercicio_41\" toma el parámetro \"int\" y,\n",
    "        debe regresar el tipo de dato de dicho parámetro \n",
    "        despues de convertirlo al tipo de dato de número \n",
    "        decimal (float).\n",
    "\n",
    "    Condiciones:\n",
    "        El tipo de dato del parámetro \"int\" debe ser número entero.\n",
    "        \n",
    "    Ejemplo:\n",
    "        Si int = 100 la función regresa:\n",
    "        <class 'float'>\n",
    "        \n",
    "    Recuerda:\n",
    "        Utiliza la función float() para el cambio de tipo de dato.\n",
    "\n",
    "        Utiliza la función type() mostrar el tipo de dato.\n",
    "\n",
    "        Lo que la función \"regresa\" es justo lo que va después \n",
    "        de la palabra reservada \"return\".\n",
    "        \n",
    "        Cuida la indentación.\n",
    "    \"\"\"\n",
    "\n",
    "    # Escribe aquí tu código ↓\n",
    "    \n",
    "\n",
    "    # Escribe aquí tu código ↑\n",
    "\n",
    "    return # ← Escribe aquí tu código"
   ]
  },
  {
   "cell_type": "code",
   "execution_count": 27,
   "metadata": {},
   "outputs": [
    {
     "data": {
      "text/plain": [
       "float"
      ]
     },
     "execution_count": 27,
     "metadata": {},
     "output_type": "execute_result"
    }
   ],
   "source": [
    "ejercicio_41(5)"
   ]
  },
  {
   "cell_type": "code",
   "execution_count": 28,
   "metadata": {},
   "outputs": [
    {
     "name": "stdout",
     "output_type": "stream",
     "text": [
      "===============================================================================\n",
      "\n",
      "============> Calificando: tarea 5 - ejercicio ejercicio_41 <============\n",
      "\n",
      "===============================================================================\n",
      "\n",
      "\n",
      "======================================================\n",
      "            ||          Calificación: 0.0            \n",
      "            ||          Aciertos: 0                   \n",
      "            ||          Errores: 4                     \n",
      "======================================================\n",
      "    \n",
      "======> Casos existosos: <======\n",
      "\n",
      "\u001b[0;31m======> Casos con error <======\n",
      "\u001b[00m\n",
      "\u001b[0;34m Valores de entrada: 5.             \u001b[0;35m Valor esperado: 5.0 <class 'float'>.             \u001b[0;36m Valor obtenido: <class 'float'>\n",
      "\u001b[00m\n",
      "\u001b[0;34m Valores de entrada: 100.             \u001b[0;35m Valor esperado: 100.0 <class 'float'>.             \u001b[0;36m Valor obtenido: <class 'float'>\n",
      "\u001b[00m\n",
      "\u001b[0;34m Valores de entrada: -5.             \u001b[0;35m Valor esperado: -5.0 <class 'float'>.             \u001b[0;36m Valor obtenido: <class 'float'>\n",
      "\u001b[00m\n",
      "\u001b[0;34m Valores de entrada: 0.             \u001b[0;35m Valor esperado: 0.0 <class 'float'>.             \u001b[0;36m Valor obtenido: <class 'float'>\n",
      "\u001b[00m\n"
     ]
    },
    {
     "ename": "TypeError",
     "evalue": "Object of type type is not JSON serializable",
     "output_type": "error",
     "traceback": [
      "\u001b[1;31m---------------------------------------------------------------------------\u001b[0m",
      "\u001b[1;31mTypeError\u001b[0m                                 Traceback (most recent call last)",
      "Cell \u001b[1;32mIn[28], line 1\u001b[0m\n\u001b[1;32m----> 1\u001b[0m \u001b[43mcalificador\u001b[49m\u001b[38;5;241;43m.\u001b[39;49m\u001b[43mcalifica_ejercicio_41\u001b[49m\u001b[43m(\u001b[49m\u001b[43mejercicio_41\u001b[49m\u001b[43m)\u001b[49m\n",
      "File \u001b[1;32mc:\\Users\\Paola Soria\\Documents\\delfos\\tareas\\tareas-python\\Comodin01\\templates.py:83\u001b[0m, in \u001b[0;36mtemplate_iterable.<locals>.decoradora.<locals>.contenedora\u001b[1;34m(f)\u001b[0m\n\u001b[0;32m     80\u001b[0m     Controlador\u001b[38;5;241m.\u001b[39mignorar_traceback()\n\u001b[0;32m     81\u001b[0m Controlador\u001b[38;5;241m.\u001b[39mcalificando()\n\u001b[1;32m---> 83\u001b[0m \u001b[43mhelper\u001b[49m\u001b[43m(\u001b[49m\u001b[43mresultados\u001b[49m\u001b[43m,\u001b[49m\u001b[43m \u001b[49m\u001b[43mtarea\u001b[49m\u001b[43m,\u001b[49m\u001b[43m \u001b[49m\u001b[43mnombre\u001b[49m\u001b[43m,\u001b[49m\u001b[43m \u001b[49m\u001b[43merror\u001b[49m\u001b[38;5;241;43m=\u001b[39;49m\u001b[43merror\u001b[49m\u001b[43m,\u001b[49m\u001b[43m \u001b[49m\u001b[43mexcepcion\u001b[49m\u001b[38;5;241;43m=\u001b[39;49m\u001b[43mexcepcion\u001b[49m\u001b[43m,\u001b[49m\u001b[43m \u001b[49m\u001b[43mexception_type\u001b[49m\u001b[38;5;241;43m=\u001b[39;49m\u001b[43mexcepcion_type\u001b[49m\u001b[43m)\u001b[49m\n",
      "File \u001b[1;32mc:\\Users\\Paola Soria\\Documents\\delfos\\tareas\\tareas-python\\Comodin01\\utilidades.py:98\u001b[0m, in \u001b[0;36mhelper\u001b[1;34m(resultados, tarea, nombre, **kwargs)\u001b[0m\n\u001b[0;32m     96\u001b[0m                 \u001b[38;5;28mprint\u001b[39m(mensajes\u001b[38;5;241m.\u001b[39mmensaje_de_resultados(resultado[\u001b[38;5;124m'\u001b[39m\u001b[38;5;124mesperado\u001b[39m\u001b[38;5;124m'\u001b[39m], resultado[\u001b[38;5;124m'\u001b[39m\u001b[38;5;124mobtenido\u001b[39m\u001b[38;5;124m'\u001b[39m], resultado\u001b[38;5;241m.\u001b[39mget(\u001b[38;5;124m'\u001b[39m\u001b[38;5;124margumentos\u001b[39m\u001b[38;5;124m'\u001b[39m)))\n\u001b[0;32m     97\u001b[0m         resultados \u001b[38;5;241m=\u001b[39m \u001b[38;5;28mlist\u001b[39m(\u001b[38;5;28mmap\u001b[39m(convertir_a_tupla, resultados))\n\u001b[1;32m---> 98\u001b[0m         \u001b[43mmandar_a_firestore\u001b[49m\u001b[43m(\u001b[49m\u001b[43mnombre\u001b[49m\u001b[43m,\u001b[49m\u001b[43m \u001b[49m\u001b[43mcalificacion\u001b[49m\u001b[43m,\u001b[49m\u001b[43m \u001b[49m\u001b[43mresultados\u001b[49m\u001b[43m,\u001b[49m\u001b[43m \u001b[49m\u001b[43mtarea\u001b[49m\u001b[43m)\u001b[49m\n\u001b[0;32m    100\u001b[0m \u001b[38;5;28;01melse\u001b[39;00m:\n\u001b[0;32m    101\u001b[0m     \u001b[38;5;66;03m# errores.append(str(kwargs['exception_type']))\u001b[39;00m\n\u001b[0;32m    102\u001b[0m     mandar_a_firestore(nombre, \u001b[38;5;28;01mNone\u001b[39;00m, \u001b[38;5;28;01mNone\u001b[39;00m, tarea)\n",
      "File \u001b[1;32mc:\\Users\\Paola Soria\\Documents\\delfos\\tareas\\tareas-python\\Comodin01\\utilidades.py:18\u001b[0m, in \u001b[0;36mmandar_a_firestore\u001b[1;34m(ejercicio, calificacion, resultados, tarea)\u001b[0m\n\u001b[0;32m     16\u001b[0m     correo \u001b[38;5;241m=\u001b[39m \u001b[38;5;124m'\u001b[39m\u001b[38;5;124mestudiante@analiticadelfos.com\u001b[39m\u001b[38;5;124m'\u001b[39m\n\u001b[0;32m     17\u001b[0m     ruta \u001b[38;5;241m=\u001b[39m \u001b[38;5;124m\"\u001b[39m\u001b[38;5;124mhttp://127.0.0.1:8086\u001b[39m\u001b[38;5;124m\"\u001b[39m\n\u001b[1;32m---> 18\u001b[0m resp \u001b[38;5;241m=\u001b[39m \u001b[43mrequests\u001b[49m\u001b[43m \u001b[49m\u001b[43m\\\u001b[49m\n\u001b[0;32m     19\u001b[0m \u001b[43m    \u001b[49m\u001b[38;5;241;43m.\u001b[39;49m\u001b[43mpost\u001b[49m\u001b[43m(\u001b[49m\u001b[43mruta\u001b[49m\u001b[43m,\u001b[49m\u001b[43m \u001b[49m\u001b[43m\\\u001b[49m\n\u001b[0;32m     20\u001b[0m \u001b[43m    \u001b[49m\u001b[43mjson\u001b[49m\u001b[38;5;241;43m=\u001b[39;49m\u001b[43m{\u001b[49m\u001b[38;5;124;43m\"\u001b[39;49m\u001b[38;5;124;43muuid\u001b[39;49m\u001b[38;5;124;43m\"\u001b[39;49m\u001b[43m:\u001b[49m\u001b[43m \u001b[49m\u001b[43mcorreo\u001b[49m\u001b[43m,\u001b[49m\u001b[43m \u001b[49m\u001b[43m\\\u001b[49m\n\u001b[0;32m     21\u001b[0m \u001b[43m    \u001b[49m\u001b[38;5;124;43m\"\u001b[39;49m\u001b[38;5;124;43mid_curso\u001b[39;49m\u001b[38;5;124;43m\"\u001b[39;49m\u001b[43m:\u001b[49m\u001b[43m \u001b[49m\u001b[43mID_CURSO\u001b[49m\u001b[43m,\u001b[49m\u001b[43m \u001b[49m\u001b[43m\\\u001b[49m\n\u001b[0;32m     22\u001b[0m \u001b[43m    \u001b[49m\u001b[38;5;124;43m\"\u001b[39;49m\u001b[38;5;124;43mejercicio\u001b[39;49m\u001b[38;5;124;43m\"\u001b[39;49m\u001b[43m:\u001b[49m\u001b[43m \u001b[49m\u001b[43mejercicio\u001b[49m\u001b[43m,\u001b[49m\u001b[43m \u001b[49m\u001b[43m\\\u001b[49m\n\u001b[0;32m     23\u001b[0m \u001b[43m    \u001b[49m\u001b[38;5;124;43m\"\u001b[39;49m\u001b[38;5;124;43mid_tarea\u001b[39;49m\u001b[38;5;124;43m\"\u001b[39;49m\u001b[43m:\u001b[49m\u001b[43m \u001b[49m\u001b[38;5;124;43mf\u001b[39;49m\u001b[38;5;124;43m'\u001b[39;49m\u001b[38;5;132;43;01m{\u001b[39;49;00m\u001b[43mtarea\u001b[49m\u001b[38;5;132;43;01m}\u001b[39;49;00m\u001b[38;5;124;43m'\u001b[39;49m\u001b[43m,\u001b[49m\u001b[43m \u001b[49m\u001b[43m\\\u001b[49m\n\u001b[0;32m     24\u001b[0m \u001b[43m    \u001b[49m\u001b[38;5;124;43m\"\u001b[39;49m\u001b[38;5;124;43mcalificacion\u001b[39;49m\u001b[38;5;124;43m\"\u001b[39;49m\u001b[43m:\u001b[49m\u001b[43m \u001b[49m\u001b[43mcalificacion\u001b[49m\u001b[43m,\u001b[49m\u001b[43m \u001b[49m\u001b[43m\\\u001b[49m\n\u001b[0;32m     25\u001b[0m \u001b[43m    \u001b[49m\u001b[38;5;124;43m\"\u001b[39;49m\u001b[38;5;124;43mresultados\u001b[39;49m\u001b[38;5;124;43m\"\u001b[39;49m\u001b[43m:\u001b[49m\u001b[43m \u001b[49m\u001b[43mresultados\u001b[49m\u001b[43m,\u001b[49m\u001b[43m \u001b[49m\u001b[43m\\\u001b[49m\n\u001b[0;32m     26\u001b[0m \u001b[43m    \u001b[49m\u001b[38;5;124;43m\"\u001b[39;49m\u001b[38;5;124;43medicion\u001b[39;49m\u001b[38;5;124;43m\"\u001b[39;49m\u001b[43m:\u001b[49m\u001b[43m \u001b[49m\u001b[38;5;124;43m\"\u001b[39;49m\u001b[38;5;124;43m1\u001b[39;49m\u001b[38;5;124;43m\"\u001b[39;49m\u001b[43m,\u001b[49m\u001b[43m \u001b[49m\u001b[43m\\\u001b[49m\n\u001b[0;32m     27\u001b[0m \u001b[43m    \u001b[49m\u001b[38;5;124;43m\"\u001b[39;49m\u001b[38;5;124;43mtipo\u001b[39;49m\u001b[38;5;124;43m\"\u001b[39;49m\u001b[43m:\u001b[49m\u001b[43m \u001b[49m\u001b[38;5;124;43m\"\u001b[39;49m\u001b[38;5;124;43mjupyter\u001b[39;49m\u001b[38;5;124;43m\"\u001b[39;49m\u001b[43m,\u001b[49m\n\u001b[0;32m     28\u001b[0m \u001b[43m    \u001b[49m\u001b[38;5;124;43m\"\u001b[39;49m\u001b[38;5;124;43merrores\u001b[39;49m\u001b[38;5;124;43m\"\u001b[39;49m\u001b[43m:\u001b[49m\u001b[43m \u001b[49m\u001b[43merrores\u001b[49m\n\u001b[0;32m     29\u001b[0m \u001b[43m    \u001b[49m\u001b[43m}\u001b[49m\u001b[43m)\u001b[49m\n\u001b[0;32m     30\u001b[0m \u001b[38;5;28;01mif\u001b[39;00m resp\u001b[38;5;241m.\u001b[39mstatus_code \u001b[38;5;241m!=\u001b[39m \u001b[38;5;241m200\u001b[39m:\n\u001b[0;32m     31\u001b[0m     \u001b[38;5;28mprint\u001b[39m(mensajes\u001b[38;5;241m.\u001b[39mmensaje_de_error_en_servidor(resp))\n",
      "File \u001b[1;32mc:\\Users\\Paola Soria\\miniconda3\\lib\\site-packages\\requests\\api.py:115\u001b[0m, in \u001b[0;36mpost\u001b[1;34m(url, data, json, **kwargs)\u001b[0m\n\u001b[0;32m    103\u001b[0m \u001b[38;5;28;01mdef\u001b[39;00m \u001b[38;5;21mpost\u001b[39m(url, data\u001b[38;5;241m=\u001b[39m\u001b[38;5;28;01mNone\u001b[39;00m, json\u001b[38;5;241m=\u001b[39m\u001b[38;5;28;01mNone\u001b[39;00m, \u001b[38;5;241m*\u001b[39m\u001b[38;5;241m*\u001b[39mkwargs):\n\u001b[0;32m    104\u001b[0m \u001b[38;5;250m    \u001b[39m\u001b[38;5;124mr\u001b[39m\u001b[38;5;124;03m\"\"\"Sends a POST request.\u001b[39;00m\n\u001b[0;32m    105\u001b[0m \n\u001b[0;32m    106\u001b[0m \u001b[38;5;124;03m    :param url: URL for the new :class:`Request` object.\u001b[39;00m\n\u001b[1;32m   (...)\u001b[0m\n\u001b[0;32m    112\u001b[0m \u001b[38;5;124;03m    :rtype: requests.Response\u001b[39;00m\n\u001b[0;32m    113\u001b[0m \u001b[38;5;124;03m    \"\"\"\u001b[39;00m\n\u001b[1;32m--> 115\u001b[0m     \u001b[38;5;28;01mreturn\u001b[39;00m request(\u001b[38;5;124m\"\u001b[39m\u001b[38;5;124mpost\u001b[39m\u001b[38;5;124m\"\u001b[39m, url, data\u001b[38;5;241m=\u001b[39mdata, json\u001b[38;5;241m=\u001b[39mjson, \u001b[38;5;241m*\u001b[39m\u001b[38;5;241m*\u001b[39mkwargs)\n",
      "File \u001b[1;32mc:\\Users\\Paola Soria\\miniconda3\\lib\\site-packages\\requests\\api.py:59\u001b[0m, in \u001b[0;36mrequest\u001b[1;34m(method, url, **kwargs)\u001b[0m\n\u001b[0;32m     55\u001b[0m \u001b[38;5;66;03m# By using the 'with' statement we are sure the session is closed, thus we\u001b[39;00m\n\u001b[0;32m     56\u001b[0m \u001b[38;5;66;03m# avoid leaving sockets open which can trigger a ResourceWarning in some\u001b[39;00m\n\u001b[0;32m     57\u001b[0m \u001b[38;5;66;03m# cases, and look like a memory leak in others.\u001b[39;00m\n\u001b[0;32m     58\u001b[0m \u001b[38;5;28;01mwith\u001b[39;00m sessions\u001b[38;5;241m.\u001b[39mSession() \u001b[38;5;28;01mas\u001b[39;00m session:\n\u001b[1;32m---> 59\u001b[0m     \u001b[38;5;28;01mreturn\u001b[39;00m session\u001b[38;5;241m.\u001b[39mrequest(method\u001b[38;5;241m=\u001b[39mmethod, url\u001b[38;5;241m=\u001b[39murl, \u001b[38;5;241m*\u001b[39m\u001b[38;5;241m*\u001b[39mkwargs)\n",
      "File \u001b[1;32mc:\\Users\\Paola Soria\\miniconda3\\lib\\site-packages\\requests\\sessions.py:575\u001b[0m, in \u001b[0;36mSession.request\u001b[1;34m(self, method, url, params, data, headers, cookies, files, auth, timeout, allow_redirects, proxies, hooks, stream, verify, cert, json)\u001b[0m\n\u001b[0;32m    562\u001b[0m \u001b[38;5;66;03m# Create the Request.\u001b[39;00m\n\u001b[0;32m    563\u001b[0m req \u001b[38;5;241m=\u001b[39m Request(\n\u001b[0;32m    564\u001b[0m     method\u001b[38;5;241m=\u001b[39mmethod\u001b[38;5;241m.\u001b[39mupper(),\n\u001b[0;32m    565\u001b[0m     url\u001b[38;5;241m=\u001b[39murl,\n\u001b[1;32m   (...)\u001b[0m\n\u001b[0;32m    573\u001b[0m     hooks\u001b[38;5;241m=\u001b[39mhooks,\n\u001b[0;32m    574\u001b[0m )\n\u001b[1;32m--> 575\u001b[0m prep \u001b[38;5;241m=\u001b[39m \u001b[38;5;28;43mself\u001b[39;49m\u001b[38;5;241;43m.\u001b[39;49m\u001b[43mprepare_request\u001b[49m\u001b[43m(\u001b[49m\u001b[43mreq\u001b[49m\u001b[43m)\u001b[49m\n\u001b[0;32m    577\u001b[0m proxies \u001b[38;5;241m=\u001b[39m proxies \u001b[38;5;129;01mor\u001b[39;00m {}\n\u001b[0;32m    579\u001b[0m settings \u001b[38;5;241m=\u001b[39m \u001b[38;5;28mself\u001b[39m\u001b[38;5;241m.\u001b[39mmerge_environment_settings(\n\u001b[0;32m    580\u001b[0m     prep\u001b[38;5;241m.\u001b[39murl, proxies, stream, verify, cert\n\u001b[0;32m    581\u001b[0m )\n",
      "File \u001b[1;32mc:\\Users\\Paola Soria\\miniconda3\\lib\\site-packages\\requests\\sessions.py:486\u001b[0m, in \u001b[0;36mSession.prepare_request\u001b[1;34m(self, request)\u001b[0m\n\u001b[0;32m    483\u001b[0m     auth \u001b[38;5;241m=\u001b[39m get_netrc_auth(request\u001b[38;5;241m.\u001b[39murl)\n\u001b[0;32m    485\u001b[0m p \u001b[38;5;241m=\u001b[39m PreparedRequest()\n\u001b[1;32m--> 486\u001b[0m \u001b[43mp\u001b[49m\u001b[38;5;241;43m.\u001b[39;49m\u001b[43mprepare\u001b[49m\u001b[43m(\u001b[49m\n\u001b[0;32m    487\u001b[0m \u001b[43m    \u001b[49m\u001b[43mmethod\u001b[49m\u001b[38;5;241;43m=\u001b[39;49m\u001b[43mrequest\u001b[49m\u001b[38;5;241;43m.\u001b[39;49m\u001b[43mmethod\u001b[49m\u001b[38;5;241;43m.\u001b[39;49m\u001b[43mupper\u001b[49m\u001b[43m(\u001b[49m\u001b[43m)\u001b[49m\u001b[43m,\u001b[49m\n\u001b[0;32m    488\u001b[0m \u001b[43m    \u001b[49m\u001b[43murl\u001b[49m\u001b[38;5;241;43m=\u001b[39;49m\u001b[43mrequest\u001b[49m\u001b[38;5;241;43m.\u001b[39;49m\u001b[43murl\u001b[49m\u001b[43m,\u001b[49m\n\u001b[0;32m    489\u001b[0m \u001b[43m    \u001b[49m\u001b[43mfiles\u001b[49m\u001b[38;5;241;43m=\u001b[39;49m\u001b[43mrequest\u001b[49m\u001b[38;5;241;43m.\u001b[39;49m\u001b[43mfiles\u001b[49m\u001b[43m,\u001b[49m\n\u001b[0;32m    490\u001b[0m \u001b[43m    \u001b[49m\u001b[43mdata\u001b[49m\u001b[38;5;241;43m=\u001b[39;49m\u001b[43mrequest\u001b[49m\u001b[38;5;241;43m.\u001b[39;49m\u001b[43mdata\u001b[49m\u001b[43m,\u001b[49m\n\u001b[0;32m    491\u001b[0m \u001b[43m    \u001b[49m\u001b[43mjson\u001b[49m\u001b[38;5;241;43m=\u001b[39;49m\u001b[43mrequest\u001b[49m\u001b[38;5;241;43m.\u001b[39;49m\u001b[43mjson\u001b[49m\u001b[43m,\u001b[49m\n\u001b[0;32m    492\u001b[0m \u001b[43m    \u001b[49m\u001b[43mheaders\u001b[49m\u001b[38;5;241;43m=\u001b[39;49m\u001b[43mmerge_setting\u001b[49m\u001b[43m(\u001b[49m\n\u001b[0;32m    493\u001b[0m \u001b[43m        \u001b[49m\u001b[43mrequest\u001b[49m\u001b[38;5;241;43m.\u001b[39;49m\u001b[43mheaders\u001b[49m\u001b[43m,\u001b[49m\u001b[43m \u001b[49m\u001b[38;5;28;43mself\u001b[39;49m\u001b[38;5;241;43m.\u001b[39;49m\u001b[43mheaders\u001b[49m\u001b[43m,\u001b[49m\u001b[43m \u001b[49m\u001b[43mdict_class\u001b[49m\u001b[38;5;241;43m=\u001b[39;49m\u001b[43mCaseInsensitiveDict\u001b[49m\n\u001b[0;32m    494\u001b[0m \u001b[43m    \u001b[49m\u001b[43m)\u001b[49m\u001b[43m,\u001b[49m\n\u001b[0;32m    495\u001b[0m \u001b[43m    \u001b[49m\u001b[43mparams\u001b[49m\u001b[38;5;241;43m=\u001b[39;49m\u001b[43mmerge_setting\u001b[49m\u001b[43m(\u001b[49m\u001b[43mrequest\u001b[49m\u001b[38;5;241;43m.\u001b[39;49m\u001b[43mparams\u001b[49m\u001b[43m,\u001b[49m\u001b[43m \u001b[49m\u001b[38;5;28;43mself\u001b[39;49m\u001b[38;5;241;43m.\u001b[39;49m\u001b[43mparams\u001b[49m\u001b[43m)\u001b[49m\u001b[43m,\u001b[49m\n\u001b[0;32m    496\u001b[0m \u001b[43m    \u001b[49m\u001b[43mauth\u001b[49m\u001b[38;5;241;43m=\u001b[39;49m\u001b[43mmerge_setting\u001b[49m\u001b[43m(\u001b[49m\u001b[43mauth\u001b[49m\u001b[43m,\u001b[49m\u001b[43m \u001b[49m\u001b[38;5;28;43mself\u001b[39;49m\u001b[38;5;241;43m.\u001b[39;49m\u001b[43mauth\u001b[49m\u001b[43m)\u001b[49m\u001b[43m,\u001b[49m\n\u001b[0;32m    497\u001b[0m \u001b[43m    \u001b[49m\u001b[43mcookies\u001b[49m\u001b[38;5;241;43m=\u001b[39;49m\u001b[43mmerged_cookies\u001b[49m\u001b[43m,\u001b[49m\n\u001b[0;32m    498\u001b[0m \u001b[43m    \u001b[49m\u001b[43mhooks\u001b[49m\u001b[38;5;241;43m=\u001b[39;49m\u001b[43mmerge_hooks\u001b[49m\u001b[43m(\u001b[49m\u001b[43mrequest\u001b[49m\u001b[38;5;241;43m.\u001b[39;49m\u001b[43mhooks\u001b[49m\u001b[43m,\u001b[49m\u001b[43m \u001b[49m\u001b[38;5;28;43mself\u001b[39;49m\u001b[38;5;241;43m.\u001b[39;49m\u001b[43mhooks\u001b[49m\u001b[43m)\u001b[49m\u001b[43m,\u001b[49m\n\u001b[0;32m    499\u001b[0m \u001b[43m\u001b[49m\u001b[43m)\u001b[49m\n\u001b[0;32m    500\u001b[0m \u001b[38;5;28;01mreturn\u001b[39;00m p\n",
      "File \u001b[1;32mc:\\Users\\Paola Soria\\miniconda3\\lib\\site-packages\\requests\\models.py:371\u001b[0m, in \u001b[0;36mPreparedRequest.prepare\u001b[1;34m(self, method, url, headers, files, data, params, auth, cookies, hooks, json)\u001b[0m\n\u001b[0;32m    369\u001b[0m \u001b[38;5;28mself\u001b[39m\u001b[38;5;241m.\u001b[39mprepare_headers(headers)\n\u001b[0;32m    370\u001b[0m \u001b[38;5;28mself\u001b[39m\u001b[38;5;241m.\u001b[39mprepare_cookies(cookies)\n\u001b[1;32m--> 371\u001b[0m \u001b[38;5;28;43mself\u001b[39;49m\u001b[38;5;241;43m.\u001b[39;49m\u001b[43mprepare_body\u001b[49m\u001b[43m(\u001b[49m\u001b[43mdata\u001b[49m\u001b[43m,\u001b[49m\u001b[43m \u001b[49m\u001b[43mfiles\u001b[49m\u001b[43m,\u001b[49m\u001b[43m \u001b[49m\u001b[43mjson\u001b[49m\u001b[43m)\u001b[49m\n\u001b[0;32m    372\u001b[0m \u001b[38;5;28mself\u001b[39m\u001b[38;5;241m.\u001b[39mprepare_auth(auth, url)\n\u001b[0;32m    374\u001b[0m \u001b[38;5;66;03m# Note that prepare_auth must be last to enable authentication schemes\u001b[39;00m\n\u001b[0;32m    375\u001b[0m \u001b[38;5;66;03m# such as OAuth to work on a fully prepared request.\u001b[39;00m\n\u001b[0;32m    376\u001b[0m \n\u001b[0;32m    377\u001b[0m \u001b[38;5;66;03m# This MUST go after prepare_auth. Authenticators could add a hook\u001b[39;00m\n",
      "File \u001b[1;32mc:\\Users\\Paola Soria\\miniconda3\\lib\\site-packages\\requests\\models.py:511\u001b[0m, in \u001b[0;36mPreparedRequest.prepare_body\u001b[1;34m(self, data, files, json)\u001b[0m\n\u001b[0;32m    508\u001b[0m content_type \u001b[38;5;241m=\u001b[39m \u001b[38;5;124m\"\u001b[39m\u001b[38;5;124mapplication/json\u001b[39m\u001b[38;5;124m\"\u001b[39m\n\u001b[0;32m    510\u001b[0m \u001b[38;5;28;01mtry\u001b[39;00m:\n\u001b[1;32m--> 511\u001b[0m     body \u001b[38;5;241m=\u001b[39m \u001b[43mcomplexjson\u001b[49m\u001b[38;5;241;43m.\u001b[39;49m\u001b[43mdumps\u001b[49m\u001b[43m(\u001b[49m\u001b[43mjson\u001b[49m\u001b[43m,\u001b[49m\u001b[43m \u001b[49m\u001b[43mallow_nan\u001b[49m\u001b[38;5;241;43m=\u001b[39;49m\u001b[38;5;28;43;01mFalse\u001b[39;49;00m\u001b[43m)\u001b[49m\n\u001b[0;32m    512\u001b[0m \u001b[38;5;28;01mexcept\u001b[39;00m \u001b[38;5;167;01mValueError\u001b[39;00m \u001b[38;5;28;01mas\u001b[39;00m ve:\n\u001b[0;32m    513\u001b[0m     \u001b[38;5;28;01mraise\u001b[39;00m InvalidJSONError(ve, request\u001b[38;5;241m=\u001b[39m\u001b[38;5;28mself\u001b[39m)\n",
      "File \u001b[1;32mc:\\Users\\Paola Soria\\miniconda3\\lib\\json\\__init__.py:238\u001b[0m, in \u001b[0;36mdumps\u001b[1;34m(obj, skipkeys, ensure_ascii, check_circular, allow_nan, cls, indent, separators, default, sort_keys, **kw)\u001b[0m\n\u001b[0;32m    232\u001b[0m \u001b[38;5;28;01mif\u001b[39;00m \u001b[38;5;28mcls\u001b[39m \u001b[38;5;129;01mis\u001b[39;00m \u001b[38;5;28;01mNone\u001b[39;00m:\n\u001b[0;32m    233\u001b[0m     \u001b[38;5;28mcls\u001b[39m \u001b[38;5;241m=\u001b[39m JSONEncoder\n\u001b[0;32m    234\u001b[0m \u001b[38;5;28;01mreturn\u001b[39;00m \u001b[38;5;28;43mcls\u001b[39;49m\u001b[43m(\u001b[49m\n\u001b[0;32m    235\u001b[0m \u001b[43m    \u001b[49m\u001b[43mskipkeys\u001b[49m\u001b[38;5;241;43m=\u001b[39;49m\u001b[43mskipkeys\u001b[49m\u001b[43m,\u001b[49m\u001b[43m \u001b[49m\u001b[43mensure_ascii\u001b[49m\u001b[38;5;241;43m=\u001b[39;49m\u001b[43mensure_ascii\u001b[49m\u001b[43m,\u001b[49m\n\u001b[0;32m    236\u001b[0m \u001b[43m    \u001b[49m\u001b[43mcheck_circular\u001b[49m\u001b[38;5;241;43m=\u001b[39;49m\u001b[43mcheck_circular\u001b[49m\u001b[43m,\u001b[49m\u001b[43m \u001b[49m\u001b[43mallow_nan\u001b[49m\u001b[38;5;241;43m=\u001b[39;49m\u001b[43mallow_nan\u001b[49m\u001b[43m,\u001b[49m\u001b[43m \u001b[49m\u001b[43mindent\u001b[49m\u001b[38;5;241;43m=\u001b[39;49m\u001b[43mindent\u001b[49m\u001b[43m,\u001b[49m\n\u001b[0;32m    237\u001b[0m \u001b[43m    \u001b[49m\u001b[43mseparators\u001b[49m\u001b[38;5;241;43m=\u001b[39;49m\u001b[43mseparators\u001b[49m\u001b[43m,\u001b[49m\u001b[43m \u001b[49m\u001b[43mdefault\u001b[49m\u001b[38;5;241;43m=\u001b[39;49m\u001b[43mdefault\u001b[49m\u001b[43m,\u001b[49m\u001b[43m \u001b[49m\u001b[43msort_keys\u001b[49m\u001b[38;5;241;43m=\u001b[39;49m\u001b[43msort_keys\u001b[49m\u001b[43m,\u001b[49m\n\u001b[1;32m--> 238\u001b[0m \u001b[43m    \u001b[49m\u001b[38;5;241;43m*\u001b[39;49m\u001b[38;5;241;43m*\u001b[39;49m\u001b[43mkw\u001b[49m\u001b[43m)\u001b[49m\u001b[38;5;241;43m.\u001b[39;49m\u001b[43mencode\u001b[49m\u001b[43m(\u001b[49m\u001b[43mobj\u001b[49m\u001b[43m)\u001b[49m\n",
      "File \u001b[1;32mc:\\Users\\Paola Soria\\miniconda3\\lib\\json\\encoder.py:199\u001b[0m, in \u001b[0;36mJSONEncoder.encode\u001b[1;34m(self, o)\u001b[0m\n\u001b[0;32m    195\u001b[0m         \u001b[38;5;28;01mreturn\u001b[39;00m encode_basestring(o)\n\u001b[0;32m    196\u001b[0m \u001b[38;5;66;03m# This doesn't pass the iterator directly to ''.join() because the\u001b[39;00m\n\u001b[0;32m    197\u001b[0m \u001b[38;5;66;03m# exceptions aren't as detailed.  The list call should be roughly\u001b[39;00m\n\u001b[0;32m    198\u001b[0m \u001b[38;5;66;03m# equivalent to the PySequence_Fast that ''.join() would do.\u001b[39;00m\n\u001b[1;32m--> 199\u001b[0m chunks \u001b[38;5;241m=\u001b[39m \u001b[38;5;28;43mself\u001b[39;49m\u001b[38;5;241;43m.\u001b[39;49m\u001b[43miterencode\u001b[49m\u001b[43m(\u001b[49m\u001b[43mo\u001b[49m\u001b[43m,\u001b[49m\u001b[43m \u001b[49m\u001b[43m_one_shot\u001b[49m\u001b[38;5;241;43m=\u001b[39;49m\u001b[38;5;28;43;01mTrue\u001b[39;49;00m\u001b[43m)\u001b[49m\n\u001b[0;32m    200\u001b[0m \u001b[38;5;28;01mif\u001b[39;00m \u001b[38;5;129;01mnot\u001b[39;00m \u001b[38;5;28misinstance\u001b[39m(chunks, (\u001b[38;5;28mlist\u001b[39m, \u001b[38;5;28mtuple\u001b[39m)):\n\u001b[0;32m    201\u001b[0m     chunks \u001b[38;5;241m=\u001b[39m \u001b[38;5;28mlist\u001b[39m(chunks)\n",
      "File \u001b[1;32mc:\\Users\\Paola Soria\\miniconda3\\lib\\json\\encoder.py:257\u001b[0m, in \u001b[0;36mJSONEncoder.iterencode\u001b[1;34m(self, o, _one_shot)\u001b[0m\n\u001b[0;32m    252\u001b[0m \u001b[38;5;28;01melse\u001b[39;00m:\n\u001b[0;32m    253\u001b[0m     _iterencode \u001b[38;5;241m=\u001b[39m _make_iterencode(\n\u001b[0;32m    254\u001b[0m         markers, \u001b[38;5;28mself\u001b[39m\u001b[38;5;241m.\u001b[39mdefault, _encoder, \u001b[38;5;28mself\u001b[39m\u001b[38;5;241m.\u001b[39mindent, floatstr,\n\u001b[0;32m    255\u001b[0m         \u001b[38;5;28mself\u001b[39m\u001b[38;5;241m.\u001b[39mkey_separator, \u001b[38;5;28mself\u001b[39m\u001b[38;5;241m.\u001b[39mitem_separator, \u001b[38;5;28mself\u001b[39m\u001b[38;5;241m.\u001b[39msort_keys,\n\u001b[0;32m    256\u001b[0m         \u001b[38;5;28mself\u001b[39m\u001b[38;5;241m.\u001b[39mskipkeys, _one_shot)\n\u001b[1;32m--> 257\u001b[0m \u001b[38;5;28;01mreturn\u001b[39;00m \u001b[43m_iterencode\u001b[49m\u001b[43m(\u001b[49m\u001b[43mo\u001b[49m\u001b[43m,\u001b[49m\u001b[43m \u001b[49m\u001b[38;5;241;43m0\u001b[39;49m\u001b[43m)\u001b[49m\n",
      "File \u001b[1;32mc:\\Users\\Paola Soria\\miniconda3\\lib\\json\\encoder.py:179\u001b[0m, in \u001b[0;36mJSONEncoder.default\u001b[1;34m(self, o)\u001b[0m\n\u001b[0;32m    160\u001b[0m \u001b[38;5;28;01mdef\u001b[39;00m \u001b[38;5;21mdefault\u001b[39m(\u001b[38;5;28mself\u001b[39m, o):\n\u001b[0;32m    161\u001b[0m \u001b[38;5;250m    \u001b[39m\u001b[38;5;124;03m\"\"\"Implement this method in a subclass such that it returns\u001b[39;00m\n\u001b[0;32m    162\u001b[0m \u001b[38;5;124;03m    a serializable object for ``o``, or calls the base implementation\u001b[39;00m\n\u001b[0;32m    163\u001b[0m \u001b[38;5;124;03m    (to raise a ``TypeError``).\u001b[39;00m\n\u001b[1;32m   (...)\u001b[0m\n\u001b[0;32m    177\u001b[0m \n\u001b[0;32m    178\u001b[0m \u001b[38;5;124;03m    \"\"\"\u001b[39;00m\n\u001b[1;32m--> 179\u001b[0m     \u001b[38;5;28;01mraise\u001b[39;00m \u001b[38;5;167;01mTypeError\u001b[39;00m(\u001b[38;5;124mf\u001b[39m\u001b[38;5;124m'\u001b[39m\u001b[38;5;124mObject of type \u001b[39m\u001b[38;5;132;01m{\u001b[39;00mo\u001b[38;5;241m.\u001b[39m\u001b[38;5;18m__class__\u001b[39m\u001b[38;5;241m.\u001b[39m\u001b[38;5;18m__name__\u001b[39m\u001b[38;5;132;01m}\u001b[39;00m\u001b[38;5;124m \u001b[39m\u001b[38;5;124m'\u001b[39m\n\u001b[0;32m    180\u001b[0m                     \u001b[38;5;124mf\u001b[39m\u001b[38;5;124m'\u001b[39m\u001b[38;5;124mis not JSON serializable\u001b[39m\u001b[38;5;124m'\u001b[39m)\n",
      "\u001b[1;31mTypeError\u001b[0m: Object of type type is not JSON serializable"
     ]
    }
   ],
   "source": [
    "calificador.califica_ejercicio_41(ejercicio_41)"
   ]
  },
  {
   "cell_type": "code",
   "execution_count": null,
   "metadata": {},
   "outputs": [],
   "source": [
    "@Controlador(\"5\", \"ejercicio_42\")\n",
    "def ejercicio_42(float):\n",
    "    \"\"\"\n",
    "    Instrucciones:\n",
    "        La función \"ejercicio_42\" toma el parámetro \"float\" y,\n",
    "        debe regresar el tipo de dato de dicho parámetro \n",
    "        despues de convertirlo al tipo de dato de número entero (int).\n",
    "\n",
    "    Condiciones:\n",
    "        El tipo de dato del parámetro \"float\" debe ser número decimal.\n",
    "        \n",
    "    Ejemplo:\n",
    "        Si float = -1.999 la función regresa:\n",
    "        <class 'int'>\n",
    "        \n",
    "    Recuerda:\n",
    "        Utiliza la función int() para el cambio de tipo de dato.\n",
    "\n",
    "        Utiliza la función type() mostrar el tipo de dato.\n",
    "\n",
    "        Lo que la función \"regresa\" es justo lo que va después \n",
    "        de la palabra reservada \"return\".\n",
    "        \n",
    "        Cuida la indentación.\n",
    "    \"\"\"\n",
    "\n",
    "    # Escribe aquí tu código ↓\n",
    "    \n",
    "\n",
    "    # Escribe aquí tu código ↑\n",
    "\n",
    "    return # ← Escribe aquí tu código"
   ]
  },
  {
   "cell_type": "code",
   "execution_count": null,
   "metadata": {},
   "outputs": [],
   "source": [
    "ejercicio_42(0.5)"
   ]
  },
  {
   "cell_type": "code",
   "execution_count": null,
   "metadata": {},
   "outputs": [],
   "source": [
    "calificador.califica_ejercicio_42(ejercicio_42)"
   ]
  },
  {
   "cell_type": "code",
   "execution_count": 29,
   "metadata": {},
   "outputs": [],
   "source": [
    "@Controlador(\"5\", \"ejercicio_43\")\n",
    "def ejercicio_43(str):\n",
    "    \"\"\"\n",
    "    Instrucciones:\n",
    "        La función \"ejercicio_43\" toma el parámetro \"str\" y,\n",
    "        debe regresar el valor de verdad correspondiente al\n",
    "        contenido de dicho parámetro.\n",
    "\n",
    "    Condiciones:\n",
    "        El tipo de dato del parámetro \"str\" debe ser cadena de caracteres.\n",
    "        \n",
    "    Ejemplo:\n",
    "        Si str = \"Hola\" la función regresa:\n",
    "        True\n",
    "        \n",
    "    Recuerda:\n",
    "        Utiliza el operador bool() para obtener el valor de verdad requerido.\n",
    "\n",
    "        Lo que la función \"regresa\" es justo lo que va después \n",
    "        de la palabra reservada \"return\".\n",
    "        \n",
    "        Cuida la indentación.\n",
    "    \"\"\"\n",
    "\n",
    "    # Escribe aquí tu código ↓\n",
    "    \n",
    "\n",
    "    # Escribe aquí tu código ↑\n",
    "\n",
    "    return # ← Escribe aquí tu código"
   ]
  },
  {
   "cell_type": "code",
   "execution_count": null,
   "metadata": {},
   "outputs": [],
   "source": [
    "ejercicio_43(\"Delfos\")"
   ]
  },
  {
   "cell_type": "code",
   "execution_count": 30,
   "metadata": {},
   "outputs": [
    {
     "name": "stdout",
     "output_type": "stream",
     "text": [
      "===============================================================================\n",
      "\n",
      "============> Calificando: tarea 5 - ejercicio ejercicio_43 <============\n",
      "\n",
      "===============================================================================\n",
      "\n",
      "\n",
      "======================================================\n",
      "            ||          Calificación: 100.0            \n",
      "            ||          Aciertos: 5                   \n",
      "            ||          Errores: 0                     \n",
      "======================================================\n",
      "    \n",
      "======> Casos existosos: <======\n",
      "\n",
      "\u001b[0;34m Valores de entrada: Delfos.             \u001b[0;35m Valor esperado: True.             \u001b[0;36m Valor obtenido: True\n",
      "\u001b[00m\n",
      "\u001b[0;34m Valores de entrada: 1.2.             \u001b[0;35m Valor esperado: True.             \u001b[0;36m Valor obtenido: True\n",
      "\u001b[00m\n",
      "\u001b[0;34m Valores de entrada: hola mundo.             \u001b[0;35m Valor esperado: True.             \u001b[0;36m Valor obtenido: True\n",
      "\u001b[00m\n",
      "\u001b[0;34m Valores de entrada: BIENVENIDO.             \u001b[0;35m Valor esperado: True.             \u001b[0;36m Valor obtenido: True\n",
      "\u001b[00m\n",
      "\u001b[0;34m Valores de entrada: .             \u001b[0;35m Valor esperado: False.             \u001b[0;36m Valor obtenido: False\n",
      "\u001b[00m\n",
      "======> No hubo errores :D <======\n",
      "\n",
      "\u001b[0;32m============> Calificación recibida <============\n",
      "\n"
     ]
    }
   ],
   "source": [
    "calificador.califica_ejercicio_43(ejercicio_43)"
   ]
  },
  {
   "cell_type": "code",
   "execution_count": 31,
   "metadata": {},
   "outputs": [],
   "source": [
    "@Controlador(\"5\", \"ejercicio_44\")\n",
    "def ejercicio_44(int):\n",
    "    \"\"\"\n",
    "    Instrucciones:\n",
    "        La función \"ejercicio_44\" toma el parámetro \"int\" y,\n",
    "        debe regresar el valor de verdad correspondiente al\n",
    "        contenido de dicho parámetro.\n",
    "\n",
    "    Condiciones:\n",
    "        El tipo de dato del parámetro \"int\" debe ser número entero.\n",
    "        \n",
    "    Ejemplo:\n",
    "        Si int = 100 la función regresa:\n",
    "        True\n",
    "        \n",
    "    Recuerda:\n",
    "        Utiliza el operador bool() para obtener el valor de verdad requerido.\n",
    "\n",
    "        Lo que la función \"regresa\" es justo lo que va después \n",
    "        de la palabra reservada \"return\".\n",
    "        \n",
    "        Cuida la indentación.\n",
    "    \"\"\"\n",
    "\n",
    "    # Escribe aquí tu código ↓\n",
    "    \n",
    "\n",
    "    # Escribe aquí tu código ↑\n",
    "\n",
    "    return # ← Escribe aquí tu código"
   ]
  },
  {
   "cell_type": "code",
   "execution_count": null,
   "metadata": {},
   "outputs": [],
   "source": [
    "ejercicio_44(-5)"
   ]
  },
  {
   "cell_type": "code",
   "execution_count": 32,
   "metadata": {},
   "outputs": [
    {
     "name": "stdout",
     "output_type": "stream",
     "text": [
      "===============================================================================\n",
      "\n",
      "============> Calificando: tarea 5 - ejercicio ejercicio_44 <============\n",
      "\n",
      "===============================================================================\n",
      "\n",
      "\n",
      "======================================================\n",
      "            ||          Calificación: 100.0            \n",
      "            ||          Aciertos: 4                   \n",
      "            ||          Errores: 0                     \n",
      "======================================================\n",
      "    \n",
      "======> Casos existosos: <======\n",
      "\n",
      "\u001b[0;34m Valores de entrada: 1.             \u001b[0;35m Valor esperado: True.             \u001b[0;36m Valor obtenido: True\n",
      "\u001b[00m\n",
      "\u001b[0;34m Valores de entrada: 100.             \u001b[0;35m Valor esperado: True.             \u001b[0;36m Valor obtenido: True\n",
      "\u001b[00m\n",
      "\u001b[0;34m Valores de entrada: 0.             \u001b[0;35m Valor esperado: False.             \u001b[0;36m Valor obtenido: False\n",
      "\u001b[00m\n",
      "\u001b[0;34m Valores de entrada: -5.             \u001b[0;35m Valor esperado: True.             \u001b[0;36m Valor obtenido: True\n",
      "\u001b[00m\n",
      "======> No hubo errores :D <======\n",
      "\n",
      "\u001b[0;32m============> Calificación recibida <============\n",
      "\n"
     ]
    }
   ],
   "source": [
    "calificador.califica_ejercicio_44(ejercicio_44)"
   ]
  },
  {
   "cell_type": "code",
   "execution_count": 33,
   "metadata": {},
   "outputs": [],
   "source": [
    "@Controlador(\"5\", \"ejercicio_45\")\n",
    "def ejercicio_45(float):\n",
    "    \"\"\"\n",
    "    Instrucciones:\n",
    "        La función \"ejercicio_45\" toma el parámetro \"float\" y,\n",
    "        debe regresar el valor de verdad correspondiente al\n",
    "        contenido de dicho parámetro.\n",
    "\n",
    "    Condiciones:\n",
    "        El tipo de dato del parámetro \"float\" debe ser número decimal.\n",
    "        \n",
    "    Ejemplo:\n",
    "        Si float = 7.25 la función regresa:\n",
    "        True\n",
    "        \n",
    "    Recuerda:\n",
    "        Utiliza el operador bool() para obtener el valor de verdad requerido.\n",
    "\n",
    "        Lo que la función \"regresa\" es justo lo que va después \n",
    "        de la palabra reservada \"return\".\n",
    "        \n",
    "        Cuida la indentación.\n",
    "    \"\"\"\n",
    "\n",
    "    # Escribe aquí tu código ↓\n",
    "    \n",
    "\n",
    "    # Escribe aquí tu código ↑\n",
    "\n",
    "    return # ← Escribe aquí tu código"
   ]
  },
  {
   "cell_type": "code",
   "execution_count": null,
   "metadata": {},
   "outputs": [],
   "source": [
    "ejercicio_45(0.0)"
   ]
  },
  {
   "cell_type": "code",
   "execution_count": 34,
   "metadata": {},
   "outputs": [
    {
     "name": "stdout",
     "output_type": "stream",
     "text": [
      "===============================================================================\n",
      "\n",
      "============> Calificando: tarea 5 - ejercicio ejercicio_45 <============\n",
      "\n",
      "===============================================================================\n",
      "\n",
      "\n",
      "======================================================\n",
      "            ||          Calificación: 100.0            \n",
      "            ||          Aciertos: 4                   \n",
      "            ||          Errores: 0                     \n",
      "======================================================\n",
      "    \n",
      "======> Casos existosos: <======\n",
      "\n",
      "\u001b[0;34m Valores de entrada: 0.1.             \u001b[0;35m Valor esperado: True.             \u001b[0;36m Valor obtenido: True\n",
      "\u001b[00m\n",
      "\u001b[0;34m Valores de entrada: 7.25.             \u001b[0;35m Valor esperado: True.             \u001b[0;36m Valor obtenido: True\n",
      "\u001b[00m\n",
      "\u001b[0;34m Valores de entrada: -1.5.             \u001b[0;35m Valor esperado: True.             \u001b[0;36m Valor obtenido: True\n",
      "\u001b[00m\n",
      "\u001b[0;34m Valores de entrada: 0.0.             \u001b[0;35m Valor esperado: False.             \u001b[0;36m Valor obtenido: False\n",
      "\u001b[00m\n",
      "======> No hubo errores :D <======\n",
      "\n",
      "\u001b[0;32m============> Calificación recibida <============\n",
      "\n"
     ]
    }
   ],
   "source": [
    "calificador.califica_ejercicio_45(ejercicio_45)"
   ]
  },
  {
   "cell_type": "code",
   "execution_count": 35,
   "metadata": {},
   "outputs": [],
   "source": [
    "@Controlador(\"5\", \"ejercicio_46\")\n",
    "def ejercicio_46(float):\n",
    "    \"\"\"\n",
    "    Instrucciones:\n",
    "        La función \"ejercicio_46\" toma el parámetro \"float\" y,\n",
    "        debe regresar el valor de verdad True si el valor de \n",
    "        \"float\" es un número entero (sus decimales son ceros)\n",
    "        y False en caso contrario.\n",
    "\n",
    "    Condiciones:\n",
    "        El tipo de dato de \"float\" debe ser número decimal.\n",
    "\n",
    "        Utiliza el método .is_integer() para obtener el valor\n",
    "        de verdad correspondiente.\n",
    "\n",
    "    Ejemplo:\n",
    "        Si float = 5.0 la función regresa:\n",
    "        True\n",
    "\n",
    "    Recuerda:\n",
    "        Lo que la función \"regresa\" es justo lo que va después \n",
    "        de la palabra reservada \"return\".\n",
    "        \n",
    "        Cuida la indentación.\n",
    "    \"\"\"\n",
    "\n",
    "    # Escribe aquí tu código ↓\n",
    "    \n",
    "\n",
    "    # Escribe aquí tu código ↑\n",
    "\n",
    "    return # ← Escribe aquí tu código"
   ]
  },
  {
   "cell_type": "code",
   "execution_count": null,
   "metadata": {},
   "outputs": [],
   "source": [
    "ejercicio_46(5.6)"
   ]
  },
  {
   "cell_type": "code",
   "execution_count": 36,
   "metadata": {},
   "outputs": [
    {
     "name": "stdout",
     "output_type": "stream",
     "text": [
      "===============================================================================\n",
      "\n",
      "============> Calificando: tarea 5 - ejercicio ejercicio_46 <============\n",
      "\n",
      "===============================================================================\n",
      "\n",
      "\n",
      "======================================================\n",
      "            ||          Calificación: 100.0            \n",
      "            ||          Aciertos: 4                   \n",
      "            ||          Errores: 0                     \n",
      "======================================================\n",
      "    \n",
      "======> Casos existosos: <======\n",
      "\n",
      "\u001b[0;34m Valores de entrada: 0.5.             \u001b[0;35m Valor esperado: False.             \u001b[0;36m Valor obtenido: False\n",
      "\u001b[00m\n",
      "\u001b[0;34m Valores de entrada: 5.0.             \u001b[0;35m Valor esperado: True.             \u001b[0;36m Valor obtenido: True\n",
      "\u001b[00m\n",
      "\u001b[0;34m Valores de entrada: 0.0.             \u001b[0;35m Valor esperado: True.             \u001b[0;36m Valor obtenido: True\n",
      "\u001b[00m\n",
      "\u001b[0;34m Valores de entrada: 5.6.             \u001b[0;35m Valor esperado: False.             \u001b[0;36m Valor obtenido: False\n",
      "\u001b[00m\n",
      "======> No hubo errores :D <======\n",
      "\n",
      "\u001b[0;32m============> Calificación recibida <============\n",
      "\n"
     ]
    }
   ],
   "source": [
    "calificador.califica_ejercicio_46(ejercicio_46)"
   ]
  },
  {
   "cell_type": "code",
   "execution_count": 37,
   "metadata": {},
   "outputs": [],
   "source": [
    "@Controlador(\"5\", \"ejercicio_47\")\n",
    "def ejercicio_47(float):\n",
    "    \"\"\"\n",
    "    Instrucciones:\n",
    "        La función \"ejercicio_47\" toma el parámetro \"float\" y,\n",
    "        debe regresar la representación de dicho parámetro en \n",
    "        forma de cadena de caracteres en hexadecimal.\n",
    "\n",
    "    Condiciones:\n",
    "        El tipo de dato de \"float\" debe ser número decimal.\n",
    "\n",
    "        Utiliza el método .hex() para obtener la representación \n",
    "        correspondiente.\n",
    "\n",
    "    Ejemplo:\n",
    "        Si float = 1.3 la función regresa:\n",
    "        0x1.4cccccccccccdp+0\n",
    "\n",
    "    Recuerda:\n",
    "        Lo que la función \"regresa\" es justo lo que va después \n",
    "        de la palabra reservada \"return\".\n",
    "        \n",
    "        Cuida la indentación.\n",
    "    \"\"\"\n",
    "\n",
    "    # Escribe aquí tu código ↓\n",
    "    \n",
    "\n",
    "    # Escribe aquí tu código ↑\n",
    "    \n",
    "    return # ← Escribe aquí tu código"
   ]
  },
  {
   "cell_type": "code",
   "execution_count": null,
   "metadata": {},
   "outputs": [],
   "source": [
    "ejercicio_47(2.5)"
   ]
  },
  {
   "cell_type": "code",
   "execution_count": 38,
   "metadata": {},
   "outputs": [
    {
     "name": "stdout",
     "output_type": "stream",
     "text": [
      "===============================================================================\n",
      "\n",
      "============> Calificando: tarea 5 - ejercicio ejercicio_47 <============\n",
      "\n",
      "===============================================================================\n",
      "\n",
      "\n",
      "======================================================\n",
      "            ||          Calificación: 100.0            \n",
      "            ||          Aciertos: 4                   \n",
      "            ||          Errores: 0                     \n",
      "======================================================\n",
      "    \n",
      "======> Casos existosos: <======\n",
      "\n",
      "\u001b[0;34m Valores de entrada: 1.3.             \u001b[0;35m Valor esperado: 0x1.4cccccccccccdp+0.             \u001b[0;36m Valor obtenido: 0x1.4cccccccccccdp+0\n",
      "\u001b[00m\n",
      "\u001b[0;34m Valores de entrada: 0.5.             \u001b[0;35m Valor esperado: 0x1.0000000000000p-1.             \u001b[0;36m Valor obtenido: 0x1.0000000000000p-1\n",
      "\u001b[00m\n",
      "\u001b[0;34m Valores de entrada: 1.0.             \u001b[0;35m Valor esperado: 0x1.0000000000000p+0.             \u001b[0;36m Valor obtenido: 0x1.0000000000000p+0\n",
      "\u001b[00m\n",
      "\u001b[0;34m Valores de entrada: 2.5.             \u001b[0;35m Valor esperado: 0x1.4000000000000p+1.             \u001b[0;36m Valor obtenido: 0x1.4000000000000p+1\n",
      "\u001b[00m\n",
      "======> No hubo errores :D <======\n",
      "\n",
      "\u001b[0;32m============> Calificación recibida <============\n",
      "\n"
     ]
    }
   ],
   "source": [
    "calificador.califica_ejercicio_47(ejercicio_47)"
   ]
  },
  {
   "cell_type": "code",
   "execution_count": 39,
   "metadata": {},
   "outputs": [],
   "source": [
    "@Controlador(\"5\", \"ejercicio_48\")\n",
    "def ejercicio_48(int):\n",
    "    \"\"\"\n",
    "    Instrucciones:\n",
    "        La función \"ejercicio_48\" toma el parámetro \"int\" y,\n",
    "        debe regresar la representación en número binario de \n",
    "        dicho parámetro.\n",
    "\n",
    "    Condiciones:\n",
    "        El tipo de dato de \"int\" debe ser número entero.\n",
    "\n",
    "        Utiliza la función bin(int) para obtener la representación \n",
    "        correspondiente.\n",
    "\n",
    "    Ejemplo:\n",
    "        Si int = 1 la función regresa:\n",
    "        0b1\n",
    "\n",
    "    Recuerda:\n",
    "        Lo que la función \"regresa\" es justo lo que va después \n",
    "        de la palabra reservada \"return\".\n",
    "        \n",
    "        Cuida la indentación.\n",
    "    \"\"\"\n",
    "\n",
    "    # Escribe aquí tu código ↓\n",
    "    \n",
    "\n",
    "    # Escribe aquí tu código ↑\n",
    "\n",
    "\n",
    "    return # ← Escribe aquí tu código"
   ]
  },
  {
   "cell_type": "code",
   "execution_count": null,
   "metadata": {},
   "outputs": [],
   "source": [
    "ejercicio_48(5)"
   ]
  },
  {
   "cell_type": "code",
   "execution_count": 40,
   "metadata": {},
   "outputs": [
    {
     "name": "stdout",
     "output_type": "stream",
     "text": [
      "===============================================================================\n",
      "\n",
      "============> Calificando: tarea 5 - ejercicio ejercicio_48 <============\n",
      "\n",
      "===============================================================================\n",
      "\n",
      "\n",
      "======================================================\n",
      "            ||          Calificación: 100.0            \n",
      "            ||          Aciertos: 4                   \n",
      "            ||          Errores: 0                     \n",
      "======================================================\n",
      "    \n",
      "======> Casos existosos: <======\n",
      "\n",
      "\u001b[0;34m Valores de entrada: 1.             \u001b[0;35m Valor esperado: 0b1.             \u001b[0;36m Valor obtenido: 0b1\n",
      "\u001b[00m\n",
      "\u001b[0;34m Valores de entrada: 100.             \u001b[0;35m Valor esperado: 0b1100100.             \u001b[0;36m Valor obtenido: 0b1100100\n",
      "\u001b[00m\n",
      "\u001b[0;34m Valores de entrada: -10.             \u001b[0;35m Valor esperado: -0b1010.             \u001b[0;36m Valor obtenido: -0b1010\n",
      "\u001b[00m\n",
      "\u001b[0;34m Valores de entrada: 5.             \u001b[0;35m Valor esperado: 0b101.             \u001b[0;36m Valor obtenido: 0b101\n",
      "\u001b[00m\n",
      "======> No hubo errores :D <======\n",
      "\n",
      "\u001b[0;32m============> Calificación recibida <============\n",
      "\n"
     ]
    }
   ],
   "source": [
    "calificador.califica_ejercicio_48(ejercicio_48)"
   ]
  },
  {
   "cell_type": "code",
   "execution_count": 41,
   "metadata": {},
   "outputs": [],
   "source": [
    "@Controlador(\"4\", \"ejercicio_49\")\n",
    "def ejercicio_49(float):\n",
    "    \"\"\"\n",
    "    Instrucciones:\n",
    "        La función \"ejercicio_49\" toma el parámetro \"float\" y,\n",
    "        debe regresar el número decimal recibido redondeado a \n",
    "        dos decimales.\n",
    "\n",
    "    Condiciones:\n",
    "        El tipo de dato de \"float\" debe ser número decimal con\n",
    "        más de dos decimales.\n",
    "\n",
    "        Utiliza la función round(float, #decimales) para obtener\n",
    "        el número requerido.\n",
    "\n",
    "    Ejemplo:\n",
    "        Si float = 2.512598 la función regresa:\n",
    "        2.51\n",
    "\n",
    "    Recuerda:\n",
    "        Lo que la función \"regresa\" es justo lo que va después \n",
    "        de la palabra reservada \"return\".\n",
    "        \n",
    "        Cuida la indentación.\n",
    "    \"\"\"\n",
    "\n",
    "    # Escribe aquí tu código ↓\n",
    "    \n",
    "\n",
    "    # Escribe aquí tu código ↑\n",
    "\n",
    "    return # ← Escribe aquí tu código"
   ]
  },
  {
   "cell_type": "code",
   "execution_count": null,
   "metadata": {},
   "outputs": [],
   "source": [
    "ejercicio_49(3.141592)"
   ]
  },
  {
   "cell_type": "code",
   "execution_count": 42,
   "metadata": {},
   "outputs": [
    {
     "name": "stdout",
     "output_type": "stream",
     "text": [
      "===============================================================================\n",
      "\n",
      "============> Calificando: tarea 5 - ejercicio ejercicio_49 <============\n",
      "\n",
      "===============================================================================\n",
      "\n",
      "\n",
      "======================================================\n",
      "            ||          Calificación: 100.0            \n",
      "            ||          Aciertos: 4                   \n",
      "            ||          Errores: 0                     \n",
      "======================================================\n",
      "    \n",
      "======> Casos existosos: <======\n",
      "\n",
      "\u001b[0;34m Valores de entrada: 3.141592.             \u001b[0;35m Valor esperado: 3.14.             \u001b[0;36m Valor obtenido: 3.14\n",
      "\u001b[00m\n",
      "\u001b[0;34m Valores de entrada: 2.81728.             \u001b[0;35m Valor esperado: 2.82.             \u001b[0;36m Valor obtenido: 2.82\n",
      "\u001b[00m\n",
      "\u001b[0;34m Valores de entrada: 2.512598.             \u001b[0;35m Valor esperado: 2.51.             \u001b[0;36m Valor obtenido: 2.51\n",
      "\u001b[00m\n",
      "\u001b[0;34m Valores de entrada: 3.333333.             \u001b[0;35m Valor esperado: 3.33.             \u001b[0;36m Valor obtenido: 3.33\n",
      "\u001b[00m\n",
      "======> No hubo errores :D <======\n",
      "\n",
      "\u001b[0;32m============> Calificación recibida <============\n",
      "\n"
     ]
    }
   ],
   "source": [
    "calificador.califica_ejercicio_49(ejercicio_49)"
   ]
  },
  {
   "cell_type": "code",
   "execution_count": 43,
   "metadata": {},
   "outputs": [],
   "source": [
    "@Controlador(\"5\", \"ejercicio_50\")\n",
    "def ejercicio_50(int):\n",
    "    \"\"\"\n",
    "    Instrucciones:\n",
    "        La función \"ejercicio_50\" toma el parámetro \"int\" y,\n",
    "        debe regresar dicho parámetro convertido a una cadena\n",
    "        en el sistema octal con el prefijo \"0o\".\n",
    "\n",
    "    Condiciones:\n",
    "        El tipo de dato de \"int\" debe ser número entero.\n",
    "\n",
    "        Utiliza la función oct(int) para obtener la cadena \n",
    "        solicitada.\n",
    "\n",
    "    Ejemplo:\n",
    "        Si int = 5 la función regresa:\n",
    "        0o5\n",
    "\n",
    "    Recuerda:\n",
    "        Lo que la función \"regresa\" es justo lo que va después \n",
    "        de la palabra reservada \"return\".\n",
    "        \n",
    "        Cuida la indentación.\n",
    "    \"\"\"\n",
    "\n",
    "    # Escribe aquí tu código ↓\n",
    "\n",
    "\n",
    "    # Escribe aquí tu código ↑\n",
    "\n",
    "    return # ← Escribe aquí tu código"
   ]
  },
  {
   "cell_type": "code",
   "execution_count": null,
   "metadata": {},
   "outputs": [],
   "source": [
    "ejercicio_50(25)"
   ]
  },
  {
   "cell_type": "code",
   "execution_count": 44,
   "metadata": {},
   "outputs": [
    {
     "name": "stdout",
     "output_type": "stream",
     "text": [
      "===============================================================================\n",
      "\n",
      "============> Calificando: tarea 5 - ejercicio ejercicio_50 <============\n",
      "\n",
      "===============================================================================\n",
      "\n",
      "\n",
      "======================================================\n",
      "            ||          Calificación: 75.0            \n",
      "            ||          Aciertos: 3                   \n",
      "            ||          Errores: 1                     \n",
      "======================================================\n",
      "    \n",
      "======> Casos existosos: <======\n",
      "\n",
      "\u001b[0;34m Valores de entrada: 5.             \u001b[0;35m Valor esperado: 0o5.             \u001b[0;36m Valor obtenido: 0o5\n",
      "\u001b[00m\n",
      "\u001b[0;34m Valores de entrada: 100.             \u001b[0;35m Valor esperado: 0o144.             \u001b[0;36m Valor obtenido: 0o144\n",
      "\u001b[00m\n",
      "\u001b[0;34m Valores de entrada: 34.             \u001b[0;35m Valor esperado: 0o42.             \u001b[0;36m Valor obtenido: 0o42\n",
      "\u001b[00m\n",
      "\u001b[0;31m======> Casos con error <======\n",
      "\u001b[00m\n",
      "\u001b[0;34m Valores de entrada: 25.             \u001b[0;35m Valor esperado: 0o5.             \u001b[0;36m Valor obtenido: 0o31\n",
      "\u001b[00m\n",
      "\u001b[0;32m============> Calificación recibida <============\n",
      "\n"
     ]
    }
   ],
   "source": [
    "calificador.califica_ejercicio_50(ejercicio_50)"
   ]
  }
 ],
 "metadata": {
  "kernelspec": {
   "display_name": "infotec",
   "language": "python",
   "name": "python3"
  },
  "language_info": {
   "codemirror_mode": {
    "name": "ipython",
    "version": 3
   },
   "file_extension": ".py",
   "mimetype": "text/x-python",
   "name": "python",
   "nbconvert_exporter": "python",
   "pygments_lexer": "ipython3",
   "version": "3.10.10"
  }
 },
 "nbformat": 4,
 "nbformat_minor": 2
}
